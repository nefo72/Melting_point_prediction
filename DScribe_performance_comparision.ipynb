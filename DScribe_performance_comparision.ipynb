{
 "cells": [
  {
   "cell_type": "code",
   "execution_count": 1,
   "metadata": {},
   "outputs": [],
   "source": [
    "import numpy as np\n",
    "import pandas as pd\n",
    "from sklearn.model_selection import train_test_split\n",
    "from matplotlib import pyplot as plt\n",
    "from scipy import stats\n",
    "from sklearn.metrics import mean_absolute_error\n",
    "import statistics "
   ]
  },
  {
   "cell_type": "code",
   "execution_count": 3,
   "metadata": {},
   "outputs": [
    {
     "ename": "ValueError",
     "evalue": "Cannot load file containing pickled data when allow_pickle=False",
     "output_type": "error",
     "traceback": [
      "\u001b[0;31m---------------------------------------------------------------------------\u001b[0m",
      "\u001b[0;31mValueError\u001b[0m                                Traceback (most recent call last)",
      "\u001b[0;32m<ipython-input-3-7d909b0c120b>\u001b[0m in \u001b[0;36m<module>\u001b[0;34m\u001b[0m\n\u001b[1;32m      8\u001b[0m \u001b[0;34m\u001b[0m\u001b[0m\n\u001b[1;32m      9\u001b[0m \u001b[0;34m\u001b[0m\u001b[0m\n\u001b[0;32m---> 10\u001b[0;31m \u001b[0msoap__loaded\u001b[0m \u001b[0;34m=\u001b[0m \u001b[0mnp\u001b[0m\u001b[0;34m.\u001b[0m\u001b[0mload\u001b[0m\u001b[0;34m(\u001b[0m\u001b[0;34m'saop_matrix.npz'\u001b[0m\u001b[0;34m)\u001b[0m\u001b[0;34m\u001b[0m\u001b[0;34m\u001b[0m\u001b[0m\n\u001b[0m\u001b[1;32m     11\u001b[0m \u001b[0msoap_matrix\u001b[0m \u001b[0;34m=\u001b[0m \u001b[0msoap__loaded\u001b[0m\u001b[0;34m[\u001b[0m\u001b[0;34m'c'\u001b[0m\u001b[0;34m]\u001b[0m\u001b[0;34m\u001b[0m\u001b[0;34m\u001b[0m\u001b[0m\n\u001b[1;32m     12\u001b[0m \u001b[0mdf\u001b[0m \u001b[0;34m=\u001b[0m \u001b[0mpd\u001b[0m\u001b[0;34m.\u001b[0m\u001b[0mread_csv\u001b[0m\u001b[0;34m(\u001b[0m\u001b[0;34m\"DScribe_mp_cid_smiles.csv\"\u001b[0m\u001b[0;34m)\u001b[0m\u001b[0;34m\u001b[0m\u001b[0;34m\u001b[0m\u001b[0m\n",
      "\u001b[0;32m~/anaconda3/envs/ai/lib/python3.7/site-packages/numpy/lib/npyio.py\u001b[0m in \u001b[0;36mload\u001b[0;34m(file, mmap_mode, allow_pickle, fix_imports, encoding)\u001b[0m\n\u001b[1;32m    455\u001b[0m             \u001b[0;31m# Try a pickle\u001b[0m\u001b[0;34m\u001b[0m\u001b[0;34m\u001b[0m\u001b[0;34m\u001b[0m\u001b[0m\n\u001b[1;32m    456\u001b[0m             \u001b[0;32mif\u001b[0m \u001b[0;32mnot\u001b[0m \u001b[0mallow_pickle\u001b[0m\u001b[0;34m:\u001b[0m\u001b[0;34m\u001b[0m\u001b[0;34m\u001b[0m\u001b[0m\n\u001b[0;32m--> 457\u001b[0;31m                 raise ValueError(\"Cannot load file containing pickled data \"\n\u001b[0m\u001b[1;32m    458\u001b[0m                                  \"when allow_pickle=False\")\n\u001b[1;32m    459\u001b[0m             \u001b[0;32mtry\u001b[0m\u001b[0;34m:\u001b[0m\u001b[0;34m\u001b[0m\u001b[0;34m\u001b[0m\u001b[0m\n",
      "\u001b[0;31mValueError\u001b[0m: Cannot load file containing pickled data when allow_pickle=False"
     ]
    }
   ],
   "source": [
    "coulomb__loaded = np.load('coulomb_matrix.npz')\n",
    "coulomb_matrix = coulomb__loaded['a']\n",
    "mbtr__loaded = np.load('mbtr_matrix.npz')\n",
    "mbtr_matrix = mbtr__loaded['b']\n",
    "\n",
    "acsf__loaded = np.load('acsf_matrix.npz')\n",
    "acsf_matrix = acsf__loaded['d']\n",
    "\n",
    "\n",
    "soap__loaded = np.load('saop_matrix.npz')\n",
    "soap_matrix = soap__loaded['c']\n",
    "df = pd.read_csv(\"DScribe_mp_cid_smiles.csv\") \n",
    "melting_point = df['melting_point']"
   ]
  },
  {
   "cell_type": "code",
   "execution_count": null,
   "metadata": {},
   "outputs": [],
   "source": [
    "print('coulomb_matrix', len(coulomb_matrix), coulomb_matrix[0].shape)\n",
    "print('mbtr_matrix', len(mbtr_matrix), mbtr_matrix[0].shape)\n",
    "print('soap_matrix', len(soap_matrix), soap_matrix[0].shape)\n",
    "print('acsf_matrix', len(acsf_matrix), acsf_matrix[0].shape)"
   ]
  },
  {
   "cell_type": "markdown",
   "metadata": {},
   "source": [
    "# Coulomb"
   ]
  },
  {
   "cell_type": "code",
   "execution_count": 3,
   "metadata": {},
   "outputs": [],
   "source": [
    "X_train, X_test, y_train, y_test = train_test_split(coulomb_matrix, melting_point, test_size=0.2, random_state=42)"
   ]
  },
  {
   "cell_type": "code",
   "execution_count": 4,
   "metadata": {},
   "outputs": [
    {
     "name": "stdout",
     "output_type": "stream",
     "text": [
      "475 (55, 55)\n",
      "119 (55, 55)\n"
     ]
    }
   ],
   "source": [
    "#check image shape\n",
    "print(len(X_train),  X_train[2].shape)\n",
    "print(len(X_test), X_test[2].shape)"
   ]
  },
  {
   "cell_type": "code",
   "execution_count": 5,
   "metadata": {},
   "outputs": [],
   "source": [
    "X_train = np.asarray(X_train)\n",
    "X_test = np.asarray(X_test)\n",
    "#reshape data to fit model\n",
    "X_train = X_train.reshape(475,55,55,1)\n",
    "X_test = X_test.reshape(119,55,55,1)"
   ]
  },
  {
   "cell_type": "code",
   "execution_count": 6,
   "metadata": {},
   "outputs": [
    {
     "name": "stderr",
     "output_type": "stream",
     "text": [
      "Using TensorFlow backend.\n"
     ]
    }
   ],
   "source": [
    "from keras.models import Sequential\n",
    "from keras.layers.core import Dense, Dropout\n",
    "from keras.layers import Dense, Conv2D, Flatten\n",
    "from keras.layers.convolutional import MaxPooling2D\n",
    "\n",
    "\n",
    "model = Sequential()\n",
    "model.add(Conv2D(100, kernel_size=3, activation= 'linear', input_shape=(55,55,1)))\n",
    "model.add(Conv2D(100, kernel_size=3, activation='relu'))\n",
    "model.add(MaxPooling2D(pool_size=(2, 2)))\n",
    "model.add(Flatten())\n",
    "model.add(Dense(100, activation= 'relu'))\n",
    "model.add(Dropout(0.2))\n",
    "model.add(Dense(100, activation= 'relu'))\n",
    "model.add(Dense(1, activation= 'relu'))"
   ]
  },
  {
   "cell_type": "code",
   "execution_count": 7,
   "metadata": {},
   "outputs": [],
   "source": [
    "model.compile(optimizer='adam', loss='mean_squared_error', metrics=['accuracy'])"
   ]
  },
  {
   "cell_type": "code",
   "execution_count": 8,
   "metadata": {},
   "outputs": [
    {
     "name": "stdout",
     "output_type": "stream",
     "text": [
      "Train on 475 samples, validate on 119 samples\n",
      "Epoch 1/50\n",
      "475/475 [==============================] - 16s 34ms/step - loss: 54079.6342 - accuracy: 0.0000e+00 - val_loss: 37226.8204 - val_accuracy: 0.0000e+00\n",
      "Epoch 2/50\n",
      "475/475 [==============================] - 14s 28ms/step - loss: 32757.9534 - accuracy: 0.0000e+00 - val_loss: 26464.1135 - val_accuracy: 0.0000e+00\n",
      "Epoch 3/50\n",
      "475/475 [==============================] - 17s 35ms/step - loss: 25069.4196 - accuracy: 0.0000e+00 - val_loss: 24284.2987 - val_accuracy: 0.0000e+00\n",
      "Epoch 4/50\n",
      "475/475 [==============================] - 14s 29ms/step - loss: 22846.0706 - accuracy: 0.0000e+00 - val_loss: 24379.3770 - val_accuracy: 0.0000e+00\n",
      "Epoch 5/50\n",
      "475/475 [==============================] - 14s 28ms/step - loss: 22949.6413 - accuracy: 0.0000e+00 - val_loss: 25302.5325 - val_accuracy: 0.0000e+00\n",
      "Epoch 6/50\n",
      "475/475 [==============================] - 14s 30ms/step - loss: 22496.8836 - accuracy: 0.0000e+00 - val_loss: 24609.4476 - val_accuracy: 0.0000e+00\n",
      "Epoch 7/50\n",
      "475/475 [==============================] - 14s 30ms/step - loss: 21927.9905 - accuracy: 0.0000e+00 - val_loss: 23939.0389 - val_accuracy: 0.0000e+00\n",
      "Epoch 8/50\n",
      "475/475 [==============================] - 15s 31ms/step - loss: 22069.6963 - accuracy: 0.0021 - val_loss: 24695.6426 - val_accuracy: 0.0000e+00\n",
      "Epoch 9/50\n",
      "475/475 [==============================] - 17s 36ms/step - loss: 23828.4066 - accuracy: 0.0021 - val_loss: 28091.9628 - val_accuracy: 0.0000e+00\n",
      "Epoch 10/50\n",
      "475/475 [==============================] - 17s 35ms/step - loss: 19340.3449 - accuracy: 0.0000e+00 - val_loss: 24783.1247 - val_accuracy: 0.0000e+00\n",
      "Epoch 11/50\n",
      "475/475 [==============================] - 15s 32ms/step - loss: 19138.0216 - accuracy: 0.0000e+00 - val_loss: 25598.3767 - val_accuracy: 0.0000e+00\n",
      "Epoch 12/50\n",
      "475/475 [==============================] - 15s 32ms/step - loss: 17024.8031 - accuracy: 0.0000e+00 - val_loss: 25771.0369 - val_accuracy: 0.0000e+00\n",
      "Epoch 13/50\n",
      "475/475 [==============================] - 15s 31ms/step - loss: 14285.5526 - accuracy: 0.0000e+00 - val_loss: 27094.7253 - val_accuracy: 0.0000e+00\n",
      "Epoch 14/50\n",
      "224/475 [=============>................] - ETA: 7s - loss: 13558.9658 - accuracy: 0.0000e+00"
     ]
    },
    {
     "ename": "KeyboardInterrupt",
     "evalue": "",
     "output_type": "error",
     "traceback": [
      "\u001b[0;31m---------------------------------------------------------------------------\u001b[0m",
      "\u001b[0;31mKeyboardInterrupt\u001b[0m                         Traceback (most recent call last)",
      "\u001b[0;32m<ipython-input-8-1f9485641d4d>\u001b[0m in \u001b[0;36m<module>\u001b[0;34m\u001b[0m\n\u001b[0;32m----> 1\u001b[0;31m \u001b[0mhistory\u001b[0m \u001b[0;34m=\u001b[0m \u001b[0mmodel\u001b[0m\u001b[0;34m.\u001b[0m\u001b[0mfit\u001b[0m\u001b[0;34m(\u001b[0m\u001b[0mX_train\u001b[0m\u001b[0;34m,\u001b[0m \u001b[0my_train\u001b[0m\u001b[0;34m,\u001b[0m \u001b[0mvalidation_data\u001b[0m\u001b[0;34m=\u001b[0m\u001b[0;34m(\u001b[0m\u001b[0mX_test\u001b[0m\u001b[0;34m,\u001b[0m \u001b[0my_test\u001b[0m\u001b[0;34m)\u001b[0m\u001b[0;34m,\u001b[0m \u001b[0mepochs\u001b[0m\u001b[0;34m=\u001b[0m\u001b[0;36m50\u001b[0m\u001b[0;34m)\u001b[0m\u001b[0;34m\u001b[0m\u001b[0;34m\u001b[0m\u001b[0m\n\u001b[0m",
      "\u001b[0;32m~/anaconda3/envs/ai/lib/python3.7/site-packages/keras/engine/training.py\u001b[0m in \u001b[0;36mfit\u001b[0;34m(self, x, y, batch_size, epochs, verbose, callbacks, validation_split, validation_data, shuffle, class_weight, sample_weight, initial_epoch, steps_per_epoch, validation_steps, validation_freq, max_queue_size, workers, use_multiprocessing, **kwargs)\u001b[0m\n\u001b[1;32m   1237\u001b[0m                                         \u001b[0msteps_per_epoch\u001b[0m\u001b[0;34m=\u001b[0m\u001b[0msteps_per_epoch\u001b[0m\u001b[0;34m,\u001b[0m\u001b[0;34m\u001b[0m\u001b[0;34m\u001b[0m\u001b[0m\n\u001b[1;32m   1238\u001b[0m                                         \u001b[0mvalidation_steps\u001b[0m\u001b[0;34m=\u001b[0m\u001b[0mvalidation_steps\u001b[0m\u001b[0;34m,\u001b[0m\u001b[0;34m\u001b[0m\u001b[0;34m\u001b[0m\u001b[0m\n\u001b[0;32m-> 1239\u001b[0;31m                                         validation_freq=validation_freq)\n\u001b[0m\u001b[1;32m   1240\u001b[0m \u001b[0;34m\u001b[0m\u001b[0m\n\u001b[1;32m   1241\u001b[0m     def evaluate(self,\n",
      "\u001b[0;32m~/anaconda3/envs/ai/lib/python3.7/site-packages/keras/engine/training_arrays.py\u001b[0m in \u001b[0;36mfit_loop\u001b[0;34m(model, fit_function, fit_inputs, out_labels, batch_size, epochs, verbose, callbacks, val_function, val_inputs, shuffle, initial_epoch, steps_per_epoch, validation_steps, validation_freq)\u001b[0m\n\u001b[1;32m    194\u001b[0m                     \u001b[0mins_batch\u001b[0m\u001b[0;34m[\u001b[0m\u001b[0mi\u001b[0m\u001b[0;34m]\u001b[0m \u001b[0;34m=\u001b[0m \u001b[0mins_batch\u001b[0m\u001b[0;34m[\u001b[0m\u001b[0mi\u001b[0m\u001b[0;34m]\u001b[0m\u001b[0;34m.\u001b[0m\u001b[0mtoarray\u001b[0m\u001b[0;34m(\u001b[0m\u001b[0;34m)\u001b[0m\u001b[0;34m\u001b[0m\u001b[0;34m\u001b[0m\u001b[0m\n\u001b[1;32m    195\u001b[0m \u001b[0;34m\u001b[0m\u001b[0m\n\u001b[0;32m--> 196\u001b[0;31m                 \u001b[0mouts\u001b[0m \u001b[0;34m=\u001b[0m \u001b[0mfit_function\u001b[0m\u001b[0;34m(\u001b[0m\u001b[0mins_batch\u001b[0m\u001b[0;34m)\u001b[0m\u001b[0;34m\u001b[0m\u001b[0;34m\u001b[0m\u001b[0m\n\u001b[0m\u001b[1;32m    197\u001b[0m                 \u001b[0mouts\u001b[0m \u001b[0;34m=\u001b[0m \u001b[0mto_list\u001b[0m\u001b[0;34m(\u001b[0m\u001b[0mouts\u001b[0m\u001b[0;34m)\u001b[0m\u001b[0;34m\u001b[0m\u001b[0;34m\u001b[0m\u001b[0m\n\u001b[1;32m    198\u001b[0m                 \u001b[0;32mfor\u001b[0m \u001b[0ml\u001b[0m\u001b[0;34m,\u001b[0m \u001b[0mo\u001b[0m \u001b[0;32min\u001b[0m \u001b[0mzip\u001b[0m\u001b[0;34m(\u001b[0m\u001b[0mout_labels\u001b[0m\u001b[0;34m,\u001b[0m \u001b[0mouts\u001b[0m\u001b[0;34m)\u001b[0m\u001b[0;34m:\u001b[0m\u001b[0;34m\u001b[0m\u001b[0;34m\u001b[0m\u001b[0m\n",
      "\u001b[0;32m~/anaconda3/envs/ai/lib/python3.7/site-packages/tensorflow_core/python/keras/backend.py\u001b[0m in \u001b[0;36m__call__\u001b[0;34m(self, inputs)\u001b[0m\n\u001b[1;32m   3725\u001b[0m         \u001b[0mvalue\u001b[0m \u001b[0;34m=\u001b[0m \u001b[0mmath_ops\u001b[0m\u001b[0;34m.\u001b[0m\u001b[0mcast\u001b[0m\u001b[0;34m(\u001b[0m\u001b[0mvalue\u001b[0m\u001b[0;34m,\u001b[0m \u001b[0mtensor\u001b[0m\u001b[0;34m.\u001b[0m\u001b[0mdtype\u001b[0m\u001b[0;34m)\u001b[0m\u001b[0;34m\u001b[0m\u001b[0;34m\u001b[0m\u001b[0m\n\u001b[1;32m   3726\u001b[0m       \u001b[0mconverted_inputs\u001b[0m\u001b[0;34m.\u001b[0m\u001b[0mappend\u001b[0m\u001b[0;34m(\u001b[0m\u001b[0mvalue\u001b[0m\u001b[0;34m)\u001b[0m\u001b[0;34m\u001b[0m\u001b[0;34m\u001b[0m\u001b[0m\n\u001b[0;32m-> 3727\u001b[0;31m     \u001b[0moutputs\u001b[0m \u001b[0;34m=\u001b[0m \u001b[0mself\u001b[0m\u001b[0;34m.\u001b[0m\u001b[0m_graph_fn\u001b[0m\u001b[0;34m(\u001b[0m\u001b[0;34m*\u001b[0m\u001b[0mconverted_inputs\u001b[0m\u001b[0;34m)\u001b[0m\u001b[0;34m\u001b[0m\u001b[0;34m\u001b[0m\u001b[0m\n\u001b[0m\u001b[1;32m   3728\u001b[0m \u001b[0;34m\u001b[0m\u001b[0m\n\u001b[1;32m   3729\u001b[0m     \u001b[0;31m# EagerTensor.numpy() will often make a copy to ensure memory safety.\u001b[0m\u001b[0;34m\u001b[0m\u001b[0;34m\u001b[0m\u001b[0;34m\u001b[0m\u001b[0m\n",
      "\u001b[0;32m~/anaconda3/envs/ai/lib/python3.7/site-packages/tensorflow_core/python/eager/function.py\u001b[0m in \u001b[0;36m__call__\u001b[0;34m(self, *args, **kwargs)\u001b[0m\n\u001b[1;32m   1549\u001b[0m       \u001b[0mTypeError\u001b[0m\u001b[0;34m:\u001b[0m \u001b[0mFor\u001b[0m \u001b[0minvalid\u001b[0m \u001b[0mpositional\u001b[0m\u001b[0;34m/\u001b[0m\u001b[0mkeyword\u001b[0m \u001b[0margument\u001b[0m \u001b[0mcombinations\u001b[0m\u001b[0;34m.\u001b[0m\u001b[0;34m\u001b[0m\u001b[0;34m\u001b[0m\u001b[0m\n\u001b[1;32m   1550\u001b[0m     \"\"\"\n\u001b[0;32m-> 1551\u001b[0;31m     \u001b[0;32mreturn\u001b[0m \u001b[0mself\u001b[0m\u001b[0;34m.\u001b[0m\u001b[0m_call_impl\u001b[0m\u001b[0;34m(\u001b[0m\u001b[0margs\u001b[0m\u001b[0;34m,\u001b[0m \u001b[0mkwargs\u001b[0m\u001b[0;34m)\u001b[0m\u001b[0;34m\u001b[0m\u001b[0;34m\u001b[0m\u001b[0m\n\u001b[0m\u001b[1;32m   1552\u001b[0m \u001b[0;34m\u001b[0m\u001b[0m\n\u001b[1;32m   1553\u001b[0m   \u001b[0;32mdef\u001b[0m \u001b[0m_call_impl\u001b[0m\u001b[0;34m(\u001b[0m\u001b[0mself\u001b[0m\u001b[0;34m,\u001b[0m \u001b[0margs\u001b[0m\u001b[0;34m,\u001b[0m \u001b[0mkwargs\u001b[0m\u001b[0;34m,\u001b[0m \u001b[0mcancellation_manager\u001b[0m\u001b[0;34m=\u001b[0m\u001b[0;32mNone\u001b[0m\u001b[0;34m)\u001b[0m\u001b[0;34m:\u001b[0m\u001b[0;34m\u001b[0m\u001b[0;34m\u001b[0m\u001b[0m\n",
      "\u001b[0;32m~/anaconda3/envs/ai/lib/python3.7/site-packages/tensorflow_core/python/eager/function.py\u001b[0m in \u001b[0;36m_call_impl\u001b[0;34m(self, args, kwargs, cancellation_manager)\u001b[0m\n\u001b[1;32m   1589\u001b[0m       raise TypeError(\"Keyword arguments {} unknown. Expected {}.\".format(\n\u001b[1;32m   1590\u001b[0m           list(kwargs.keys()), list(self._arg_keywords)))\n\u001b[0;32m-> 1591\u001b[0;31m     \u001b[0;32mreturn\u001b[0m \u001b[0mself\u001b[0m\u001b[0;34m.\u001b[0m\u001b[0m_call_flat\u001b[0m\u001b[0;34m(\u001b[0m\u001b[0margs\u001b[0m\u001b[0;34m,\u001b[0m \u001b[0mself\u001b[0m\u001b[0;34m.\u001b[0m\u001b[0mcaptured_inputs\u001b[0m\u001b[0;34m,\u001b[0m \u001b[0mcancellation_manager\u001b[0m\u001b[0;34m)\u001b[0m\u001b[0;34m\u001b[0m\u001b[0;34m\u001b[0m\u001b[0m\n\u001b[0m\u001b[1;32m   1592\u001b[0m \u001b[0;34m\u001b[0m\u001b[0m\n\u001b[1;32m   1593\u001b[0m   \u001b[0;32mdef\u001b[0m \u001b[0m_filtered_call\u001b[0m\u001b[0;34m(\u001b[0m\u001b[0mself\u001b[0m\u001b[0;34m,\u001b[0m \u001b[0margs\u001b[0m\u001b[0;34m,\u001b[0m \u001b[0mkwargs\u001b[0m\u001b[0;34m)\u001b[0m\u001b[0;34m:\u001b[0m\u001b[0;34m\u001b[0m\u001b[0;34m\u001b[0m\u001b[0m\n",
      "\u001b[0;32m~/anaconda3/envs/ai/lib/python3.7/site-packages/tensorflow_core/python/eager/function.py\u001b[0m in \u001b[0;36m_call_flat\u001b[0;34m(self, args, captured_inputs, cancellation_manager)\u001b[0m\n\u001b[1;32m   1690\u001b[0m       \u001b[0;31m# No tape is watching; skip to running the function.\u001b[0m\u001b[0;34m\u001b[0m\u001b[0;34m\u001b[0m\u001b[0;34m\u001b[0m\u001b[0m\n\u001b[1;32m   1691\u001b[0m       return self._build_call_outputs(self._inference_function.call(\n\u001b[0;32m-> 1692\u001b[0;31m           ctx, args, cancellation_manager=cancellation_manager))\n\u001b[0m\u001b[1;32m   1693\u001b[0m     forward_backward = self._select_forward_and_backward_functions(\n\u001b[1;32m   1694\u001b[0m         \u001b[0margs\u001b[0m\u001b[0;34m,\u001b[0m\u001b[0;34m\u001b[0m\u001b[0;34m\u001b[0m\u001b[0m\n",
      "\u001b[0;32m~/anaconda3/envs/ai/lib/python3.7/site-packages/tensorflow_core/python/eager/function.py\u001b[0m in \u001b[0;36mcall\u001b[0;34m(self, ctx, args, cancellation_manager)\u001b[0m\n\u001b[1;32m    543\u001b[0m               \u001b[0minputs\u001b[0m\u001b[0;34m=\u001b[0m\u001b[0margs\u001b[0m\u001b[0;34m,\u001b[0m\u001b[0;34m\u001b[0m\u001b[0;34m\u001b[0m\u001b[0m\n\u001b[1;32m    544\u001b[0m               \u001b[0mattrs\u001b[0m\u001b[0;34m=\u001b[0m\u001b[0;34m(\u001b[0m\u001b[0;34m\"executor_type\"\u001b[0m\u001b[0;34m,\u001b[0m \u001b[0mexecutor_type\u001b[0m\u001b[0;34m,\u001b[0m \u001b[0;34m\"config_proto\"\u001b[0m\u001b[0;34m,\u001b[0m \u001b[0mconfig\u001b[0m\u001b[0;34m)\u001b[0m\u001b[0;34m,\u001b[0m\u001b[0;34m\u001b[0m\u001b[0;34m\u001b[0m\u001b[0m\n\u001b[0;32m--> 545\u001b[0;31m               ctx=ctx)\n\u001b[0m\u001b[1;32m    546\u001b[0m         \u001b[0;32melse\u001b[0m\u001b[0;34m:\u001b[0m\u001b[0;34m\u001b[0m\u001b[0;34m\u001b[0m\u001b[0m\n\u001b[1;32m    547\u001b[0m           outputs = execute.execute_with_cancellation(\n",
      "\u001b[0;32m~/anaconda3/envs/ai/lib/python3.7/site-packages/tensorflow_core/python/eager/execute.py\u001b[0m in \u001b[0;36mquick_execute\u001b[0;34m(op_name, num_outputs, inputs, attrs, ctx, name)\u001b[0m\n\u001b[1;32m     59\u001b[0m     tensors = pywrap_tensorflow.TFE_Py_Execute(ctx._handle, device_name,\n\u001b[1;32m     60\u001b[0m                                                \u001b[0mop_name\u001b[0m\u001b[0;34m,\u001b[0m \u001b[0minputs\u001b[0m\u001b[0;34m,\u001b[0m \u001b[0mattrs\u001b[0m\u001b[0;34m,\u001b[0m\u001b[0;34m\u001b[0m\u001b[0;34m\u001b[0m\u001b[0m\n\u001b[0;32m---> 61\u001b[0;31m                                                num_outputs)\n\u001b[0m\u001b[1;32m     62\u001b[0m   \u001b[0;32mexcept\u001b[0m \u001b[0mcore\u001b[0m\u001b[0;34m.\u001b[0m\u001b[0m_NotOkStatusException\u001b[0m \u001b[0;32mas\u001b[0m \u001b[0me\u001b[0m\u001b[0;34m:\u001b[0m\u001b[0;34m\u001b[0m\u001b[0;34m\u001b[0m\u001b[0m\n\u001b[1;32m     63\u001b[0m     \u001b[0;32mif\u001b[0m \u001b[0mname\u001b[0m \u001b[0;32mis\u001b[0m \u001b[0;32mnot\u001b[0m \u001b[0;32mNone\u001b[0m\u001b[0;34m:\u001b[0m\u001b[0;34m\u001b[0m\u001b[0;34m\u001b[0m\u001b[0m\n",
      "\u001b[0;31mKeyboardInterrupt\u001b[0m: "
     ]
    }
   ],
   "source": [
    "history = model.fit(X_train, y_train, validation_data=(X_test, y_test), epochs=50)"
   ]
  },
  {
   "cell_type": "code",
   "execution_count": null,
   "metadata": {},
   "outputs": [],
   "source": [
    "print(history.history.keys())\n",
    "plt.plot(history.history['loss'],label='Train')\n",
    "plt.plot(history.history['val_loss'],label='Test')\n",
    "plt.xlabel('Epochs')\n",
    "plt.ylabel('Mean_squared_error')\n",
    "plt.legend()\n",
    "plt.savefig('learning_curve_Coulomb.png', dpi=500)\n",
    "plt.legend()"
   ]
  },
  {
   "cell_type": "code",
   "execution_count": null,
   "metadata": {},
   "outputs": [],
   "source": [
    "predict = model.predict(X_test)\n",
    "predictions = []\n",
    "for i in range(len(predict)):\n",
    "    predictions.append(predict[i][0])\n",
    "    \n",
    "predict_train = model.predict(X_train)\n",
    "predictions_train = []\n",
    "for i in range(len(predict_train)):\n",
    "    predictions_train.append(predict_train[i][0])"
   ]
  },
  {
   "cell_type": "code",
   "execution_count": null,
   "metadata": {},
   "outputs": [],
   "source": [
    "def train_results(predictions_train):\n",
    "    diff_promedio_train = []\n",
    "    errores_train = []\n",
    "    for i in range(len(y_train)):\n",
    "        x= abs(y_train[i]-predictions_train[i])\n",
    "        diff_promedio_train.append(x)\n",
    "    diferencias_promedio_train = statistics.mean(diff_promedio_train)\n",
    "\n",
    "    slope, intercept, r_value, p_value, std_err = stats.linregress(y_train, predictions_train)\n",
    "    error = mean_absolute_error(y_train, predictions_train)\n",
    "    r_squared = r_value**2\n",
    "    slop = slope\n",
    "    mean_error = error\n",
    "    return ('r-squared',  r_squared,'slop', slop, 'mean_error', mean_error)\n",
    "\n",
    "def test_results(predictions):\n",
    "    diff_promedio = []\n",
    "    for i in range(len(y_test)):\n",
    "        x= abs(y_test[i]-predictions[i])\n",
    "        diff_promedio.append(x)\n",
    "    diferencias_promedio_test = statistics.mean(diff_promedio)\n",
    "    slope, intercept, r_value, p_value, std_err = stats.linregress(y_test, predictions)\n",
    "    error = mean_absolute_error(y_test, predictions)\n",
    "    r_squared = r_value**2\n",
    "    slop = slope\n",
    "    mean_error = error\n",
    "    return ('r-squared',  r_squared,'slop', slop, 'mean_error', mean_error)"
   ]
  },
  {
   "cell_type": "code",
   "execution_count": null,
   "metadata": {},
   "outputs": [],
   "source": [
    "train_results(predictions_train)"
   ]
  },
  {
   "cell_type": "code",
   "execution_count": null,
   "metadata": {},
   "outputs": [],
   "source": [
    "test_results(predictions)"
   ]
  },
  {
   "cell_type": "markdown",
   "metadata": {},
   "source": [
    "# MBTR"
   ]
  },
  {
   "cell_type": "code",
   "execution_count": 3,
   "metadata": {},
   "outputs": [],
   "source": [
    "X_train, X_test, y_train, y_test = train_test_split(mbtr_matrix, melting_point, test_size=0.2, random_state=35)"
   ]
  },
  {
   "cell_type": "code",
   "execution_count": 4,
   "metadata": {},
   "outputs": [
    {
     "name": "stdout",
     "output_type": "stream",
     "text": [
      "475 (1, 61500)\n",
      "119 (1, 61500)\n"
     ]
    }
   ],
   "source": [
    "#check image shape\n",
    "print(len(X_train),  X_train[2].shape)\n",
    "print(len(X_test), X_test[2].shape)"
   ]
  },
  {
   "cell_type": "code",
   "execution_count": 5,
   "metadata": {},
   "outputs": [],
   "source": [
    "X_train = np.asarray(X_train)\n",
    "X_test = np.asarray(X_test)\n",
    "#reshape data to fit model\n",
    "X_train = X_train.reshape(475,100,615)\n",
    "X_test = X_test.reshape(119,100,615)"
   ]
  },
  {
   "cell_type": "code",
   "execution_count": 6,
   "metadata": {},
   "outputs": [
    {
     "data": {
      "text/plain": [
       "(475, 100, 615)"
      ]
     },
     "execution_count": 6,
     "metadata": {},
     "output_type": "execute_result"
    }
   ],
   "source": [
    "X_train.shape"
   ]
  },
  {
   "cell_type": "code",
   "execution_count": 7,
   "metadata": {},
   "outputs": [
    {
     "name": "stderr",
     "output_type": "stream",
     "text": [
      "Using TensorFlow backend.\n"
     ]
    }
   ],
   "source": [
    "from keras.models import Sequential\n",
    "from keras.layers import Dense\n",
    "from keras.layers import Flatten\n",
    "from keras.layers import Dropout\n",
    "from keras.layers.convolutional import Conv1D\n",
    "from keras.layers.convolutional import MaxPooling1D\n",
    "\n",
    "model = Sequential()\n",
    "model.add(Conv1D(filters=64, kernel_size=3, activation='relu', input_shape=(100,615)))\n",
    "model.add(Dropout(0.5))\n",
    "model.add(MaxPooling1D(pool_size=2))\n",
    "model.add(Flatten())\n",
    "model.add(Dense(100, activation='relu'))\n",
    "model.add(Dense(1, activation='relu'))"
   ]
  },
  {
   "cell_type": "code",
   "execution_count": 8,
   "metadata": {},
   "outputs": [],
   "source": [
    "model.compile(loss='mean_absolute_error', optimizer='adam', metrics=['mae'])"
   ]
  },
  {
   "cell_type": "code",
   "execution_count": 9,
   "metadata": {},
   "outputs": [
    {
     "name": "stdout",
     "output_type": "stream",
     "text": [
      "Train on 475 samples, validate on 119 samples\n",
      "Epoch 1/60\n",
      "475/475 [==============================] - 3s 6ms/step - loss: 300.9591 - mae: 300.9591 - val_loss: 289.0560 - val_mae: 289.0560\n",
      "Epoch 2/60\n",
      "475/475 [==============================] - 1s 3ms/step - loss: 300.4250 - mae: 300.4250 - val_loss: 288.1030 - val_mae: 288.1030\n",
      "Epoch 3/60\n",
      "475/475 [==============================] - 1s 3ms/step - loss: 298.4673 - mae: 298.4673 - val_loss: 285.6141 - val_mae: 285.6141\n",
      "Epoch 4/60\n",
      "475/475 [==============================] - 2s 3ms/step - loss: 293.9080 - mae: 293.9080 - val_loss: 280.7557 - val_mae: 280.7557\n",
      "Epoch 5/60\n",
      "475/475 [==============================] - 1s 3ms/step - loss: 285.5324 - mae: 285.5324 - val_loss: 272.6078 - val_mae: 272.6078\n",
      "Epoch 6/60\n",
      "475/475 [==============================] - 1s 3ms/step - loss: 272.0494 - mae: 272.0495 - val_loss: 260.1732 - val_mae: 260.1732\n",
      "Epoch 7/60\n",
      "475/475 [==============================] - 1s 3ms/step - loss: 251.9475 - mae: 251.9475 - val_loss: 242.4280 - val_mae: 242.4280\n",
      "Epoch 8/60\n",
      "475/475 [==============================] - 1s 3ms/step - loss: 224.0455 - mae: 224.0455 - val_loss: 218.5222 - val_mae: 218.5222\n",
      "Epoch 9/60\n",
      "475/475 [==============================] - 1s 3ms/step - loss: 188.6991 - mae: 188.6991 - val_loss: 188.7901 - val_mae: 188.7901\n",
      "Epoch 10/60\n",
      "475/475 [==============================] - 1s 3ms/step - loss: 154.3138 - mae: 154.3138 - val_loss: 158.2402 - val_mae: 158.2402\n",
      "Epoch 11/60\n",
      "475/475 [==============================] - 2s 3ms/step - loss: 136.0066 - mae: 136.0066 - val_loss: 134.9550 - val_mae: 134.9550\n",
      "Epoch 12/60\n",
      "475/475 [==============================] - 1s 3ms/step - loss: 134.1346 - mae: 134.1346 - val_loss: 126.1085 - val_mae: 126.1085\n",
      "Epoch 13/60\n",
      "475/475 [==============================] - 1s 3ms/step - loss: 136.1014 - mae: 136.1014 - val_loss: 123.9261 - val_mae: 123.9261\n",
      "Epoch 14/60\n",
      "475/475 [==============================] - 1s 3ms/step - loss: 136.9477 - mae: 136.9477 - val_loss: 123.9194 - val_mae: 123.9194\n",
      "Epoch 15/60\n",
      "475/475 [==============================] - 1s 2ms/step - loss: 136.3761 - mae: 136.3761 - val_loss: 124.9754 - val_mae: 124.9753\n",
      "Epoch 16/60\n",
      "475/475 [==============================] - 1s 2ms/step - loss: 135.5924 - mae: 135.5924 - val_loss: 126.8999 - val_mae: 126.8999\n",
      "Epoch 17/60\n",
      "475/475 [==============================] - 2s 4ms/step - loss: 134.7753 - mae: 134.7753 - val_loss: 130.0384 - val_mae: 130.0384\n",
      "Epoch 18/60\n",
      "475/475 [==============================] - 2s 4ms/step - loss: 133.8190 - mae: 133.8190 - val_loss: 133.5120 - val_mae: 133.5120\n",
      "Epoch 19/60\n",
      "475/475 [==============================] - 2s 4ms/step - loss: 133.5321 - mae: 133.5321 - val_loss: 135.4807 - val_mae: 135.4807\n",
      "Epoch 20/60\n",
      "475/475 [==============================] - 1s 3ms/step - loss: 133.5381 - mae: 133.5381 - val_loss: 136.9238 - val_mae: 136.9238\n",
      "Epoch 21/60\n",
      "475/475 [==============================] - 1s 3ms/step - loss: 133.3321 - mae: 133.3321 - val_loss: 136.9462 - val_mae: 136.9462\n",
      "Epoch 22/60\n",
      "475/475 [==============================] - 1s 3ms/step - loss: 133.5487 - mae: 133.5487 - val_loss: 135.8708 - val_mae: 135.8708\n",
      "Epoch 23/60\n",
      "475/475 [==============================] - 1s 3ms/step - loss: 133.6586 - mae: 133.6586 - val_loss: 133.7409 - val_mae: 133.7409\n",
      "Epoch 24/60\n",
      "475/475 [==============================] - 1s 3ms/step - loss: 133.2796 - mae: 133.2796 - val_loss: 132.9563 - val_mae: 132.9563\n",
      "Epoch 25/60\n",
      "475/475 [==============================] - 1s 2ms/step - loss: 133.4830 - mae: 133.4830 - val_loss: 133.5891 - val_mae: 133.5891\n",
      "Epoch 26/60\n",
      "475/475 [==============================] - 1s 3ms/step - loss: 133.2594 - mae: 133.2594 - val_loss: 133.8717 - val_mae: 133.8717\n",
      "Epoch 27/60\n",
      "475/475 [==============================] - 1s 3ms/step - loss: 133.2974 - mae: 133.2974 - val_loss: 133.4481 - val_mae: 133.4481\n",
      "Epoch 28/60\n",
      "475/475 [==============================] - 2s 3ms/step - loss: 133.2882 - mae: 133.2882 - val_loss: 133.8758 - val_mae: 133.8757\n",
      "Epoch 29/60\n",
      "475/475 [==============================] - 1s 3ms/step - loss: 133.0516 - mae: 133.0516 - val_loss: 134.5651 - val_mae: 134.5651\n",
      "Epoch 30/60\n",
      "475/475 [==============================] - 1s 3ms/step - loss: 132.9673 - mae: 132.9673 - val_loss: 134.5914 - val_mae: 134.5914\n",
      "Epoch 31/60\n",
      "475/475 [==============================] - 2s 3ms/step - loss: 133.2893 - mae: 133.2893 - val_loss: 134.0266 - val_mae: 134.0266\n",
      "Epoch 32/60\n",
      "475/475 [==============================] - 2s 3ms/step - loss: 132.7411 - mae: 132.7411 - val_loss: 133.6551 - val_mae: 133.6551\n",
      "Epoch 33/60\n",
      "475/475 [==============================] - 1s 3ms/step - loss: 132.7972 - mae: 132.7971 - val_loss: 134.1199 - val_mae: 134.1199\n",
      "Epoch 34/60\n",
      "475/475 [==============================] - 2s 3ms/step - loss: 133.0530 - mae: 133.0530 - val_loss: 133.6859 - val_mae: 133.6859\n",
      "Epoch 35/60\n",
      "475/475 [==============================] - 1s 3ms/step - loss: 132.9559 - mae: 132.9559 - val_loss: 133.9198 - val_mae: 133.9198\n",
      "Epoch 36/60\n",
      "475/475 [==============================] - 2s 3ms/step - loss: 133.0711 - mae: 133.0711 - val_loss: 134.1102 - val_mae: 134.1102\n",
      "Epoch 37/60\n",
      "475/475 [==============================] - 2s 4ms/step - loss: 133.1462 - mae: 133.1462 - val_loss: 134.4342 - val_mae: 134.4342\n",
      "Epoch 38/60\n",
      "475/475 [==============================] - 2s 4ms/step - loss: 132.9127 - mae: 132.9127 - val_loss: 133.9354 - val_mae: 133.9354\n",
      "Epoch 39/60\n",
      "475/475 [==============================] - 2s 4ms/step - loss: 132.7247 - mae: 132.7247 - val_loss: 133.6475 - val_mae: 133.6475\n",
      "Epoch 40/60\n",
      "475/475 [==============================] - 2s 3ms/step - loss: 132.7991 - mae: 132.7991 - val_loss: 132.3273 - val_mae: 132.3273\n",
      "Epoch 41/60\n",
      "475/475 [==============================] - 2s 3ms/step - loss: 132.6037 - mae: 132.6037 - val_loss: 132.7362 - val_mae: 132.7362\n",
      "Epoch 42/60\n",
      "475/475 [==============================] - 1s 3ms/step - loss: 132.8901 - mae: 132.8901 - val_loss: 132.4370 - val_mae: 132.4370\n",
      "Epoch 43/60\n",
      "475/475 [==============================] - 1s 3ms/step - loss: 133.0960 - mae: 133.0960 - val_loss: 132.0560 - val_mae: 132.0560\n",
      "Epoch 44/60\n",
      "475/475 [==============================] - 2s 3ms/step - loss: 133.0771 - mae: 133.0771 - val_loss: 132.8833 - val_mae: 132.8833\n",
      "Epoch 45/60\n",
      "475/475 [==============================] - 1s 3ms/step - loss: 132.8558 - mae: 132.8559 - val_loss: 133.2066 - val_mae: 133.2066\n",
      "Epoch 46/60\n",
      "475/475 [==============================] - 2s 5ms/step - loss: 132.7349 - mae: 132.7349 - val_loss: 133.8885 - val_mae: 133.8885\n",
      "Epoch 47/60\n",
      "475/475 [==============================] - 2s 4ms/step - loss: 132.7308 - mae: 132.7308 - val_loss: 133.5495 - val_mae: 133.5495\n",
      "Epoch 48/60\n",
      "475/475 [==============================] - 2s 4ms/step - loss: 133.0482 - mae: 133.0482 - val_loss: 133.1401 - val_mae: 133.1401\n",
      "Epoch 49/60\n",
      "475/475 [==============================] - 2s 4ms/step - loss: 132.5801 - mae: 132.5801 - val_loss: 133.5637 - val_mae: 133.5637\n",
      "Epoch 50/60\n",
      "475/475 [==============================] - 2s 4ms/step - loss: 132.5262 - mae: 132.5262 - val_loss: 133.7419 - val_mae: 133.7419\n",
      "Epoch 51/60\n",
      "475/475 [==============================] - 2s 4ms/step - loss: 132.8889 - mae: 132.8889 - val_loss: 133.2439 - val_mae: 133.2439\n",
      "Epoch 52/60\n",
      "475/475 [==============================] - 2s 3ms/step - loss: 132.4567 - mae: 132.4568 - val_loss: 132.4653 - val_mae: 132.4653\n",
      "Epoch 53/60\n",
      "475/475 [==============================] - 1s 3ms/step - loss: 132.1116 - mae: 132.1116 - val_loss: 132.4207 - val_mae: 132.4207\n",
      "Epoch 54/60\n",
      "475/475 [==============================] - 2s 4ms/step - loss: 132.2486 - mae: 132.2486 - val_loss: 132.3564 - val_mae: 132.3564\n",
      "Epoch 55/60\n",
      "475/475 [==============================] - 2s 4ms/step - loss: 132.0894 - mae: 132.0894 - val_loss: 132.6757 - val_mae: 132.6757\n",
      "Epoch 56/60\n",
      "475/475 [==============================] - 1s 3ms/step - loss: 132.6222 - mae: 132.6222 - val_loss: 133.2212 - val_mae: 133.2212\n",
      "Epoch 57/60\n",
      "475/475 [==============================] - 2s 4ms/step - loss: 132.6083 - mae: 132.6083 - val_loss: 132.4921 - val_mae: 132.4921\n",
      "Epoch 58/60\n",
      "475/475 [==============================] - 2s 3ms/step - loss: 132.4850 - mae: 132.4850 - val_loss: 131.9334 - val_mae: 131.9334\n"
     ]
    },
    {
     "name": "stdout",
     "output_type": "stream",
     "text": [
      "Epoch 59/60\n",
      "475/475 [==============================] - 1s 3ms/step - loss: 132.4136 - mae: 132.4136 - val_loss: 132.4033 - val_mae: 132.4033\n",
      "Epoch 60/60\n",
      "475/475 [==============================] - 2s 3ms/step - loss: 132.1388 - mae: 132.1388 - val_loss: 131.6988 - val_mae: 131.6988\n"
     ]
    }
   ],
   "source": [
    "history = model.fit(X_train, y_train, validation_data = (X_test, y_test), epochs=60, batch_size=100)"
   ]
  },
  {
   "cell_type": "code",
   "execution_count": 10,
   "metadata": {},
   "outputs": [
    {
     "name": "stdout",
     "output_type": "stream",
     "text": [
      "dict_keys(['val_loss', 'val_mae', 'loss', 'mae'])\n"
     ]
    },
    {
     "data": {
      "text/plain": [
       "<matplotlib.legend.Legend at 0x7f7d640f3e50>"
      ]
     },
     "execution_count": 10,
     "metadata": {},
     "output_type": "execute_result"
    },
    {
     "data": {
      "image/png": "[encoded data removed]",
      "text/plain": [
       "<Figure size 432x288 with 1 Axes>"
      ]
     },
     "metadata": {
      "needs_background": "light"
     },
     "output_type": "display_data"
    }
   ],
   "source": [
    "print(history.history.keys())\n",
    "plt.plot(history.history['loss'],label='Train')\n",
    "plt.plot(history.history['val_loss'],label='Test')\n",
    "plt.xlabel('Epochs')\n",
    "plt.ylabel('Mean_squared_error')\n",
    "plt.legend()\n",
    "plt.savefig('learning_curve_MBTR.png', dpi=500)\n",
    "plt.legend()"
   ]
  },
  {
   "cell_type": "markdown",
   "metadata": {},
   "source": [
    "# ACSF"
   ]
  },
  {
   "cell_type": "code",
   "execution_count": 12,
   "metadata": {},
   "outputs": [],
   "source": [
    "from sklearn import preprocessing\n",
    "\n",
    "acsf_matrix_normalized=[]\n",
    "for i in range(len(acsf_matrix)):\n",
    "    acsf_matrix_target = preprocessing.normalize(acsf_matrix[i], norm='l2')\n",
    "    acsf_matrix_normalized.append(acsf_matrix_target)"
   ]
  },
  {
   "cell_type": "code",
   "execution_count": 13,
   "metadata": {},
   "outputs": [],
   "source": [
    "X_train, X_test, y_train, y_test = train_test_split(acsf_matrix_normalized, melting_point, test_size=0.2, random_state=56)"
   ]
  },
  {
   "cell_type": "code",
   "execution_count": 14,
   "metadata": {},
   "outputs": [
    {
     "name": "stdout",
     "output_type": "stream",
     "text": [
      "475 (55, 260)\n",
      "119 (55, 260)\n"
     ]
    }
   ],
   "source": [
    "#check image shape\n",
    "print(len(X_train),  X_train[2].shape)\n",
    "print(len(X_test), X_test[2].shape)"
   ]
  },
  {
   "cell_type": "code",
   "execution_count": 15,
   "metadata": {},
   "outputs": [],
   "source": [
    "X_train = np.asarray(X_train)\n",
    "X_test = np.asarray(X_test)\n",
    "#reshape data to fit model\n",
    "#X_train = X_train.reshape(243,55,260,1)\n",
    "#X_test = X_test.reshape(61,55,260,1)"
   ]
  },
  {
   "cell_type": "code",
   "execution_count": 16,
   "metadata": {},
   "outputs": [],
   "source": [
    "#from keras.models import Sequential\n",
    "#from keras.layers.core import Dense, Dropout\n",
    "#from keras.layers import Dense, Conv2D, Flatten\n",
    "#from keras.layers.convolutional import MaxPooling2D\n",
    "\n",
    "#model = Sequential()\n",
    "#model.add(Conv2D(32, kernel_size=3, activation= 'linear', input_shape=(55,260,1)))\n",
    "#model.add(Conv2D(32, kernel_size=3, activation='relu'))\n",
    "\n",
    "#model.add(MaxPooling2D(pool_size= (2,2))\n",
    "#model.add(Flatten())\n",
    "#model.add(Dense(100, activation= 'relu'))\n",
    "#model.add(Dropout(0.2))\n",
    "#model.add(Dense(1, activation= 'relu'))\n",
    "\n",
    "          \n",
    "from keras.models import Sequential\n",
    "from keras.layers import Dense\n",
    "from keras.layers import Flatten\n",
    "from keras.layers import Dropout\n",
    "from keras.layers.convolutional import Conv1D\n",
    "from keras.layers.convolutional import MaxPooling1D\n",
    "\n",
    "model = Sequential()\n",
    "model.add(Conv1D(filters=64, kernel_size=3, activation='relu', input_shape=(55,260)))\n",
    "model.add(Dropout(0.5))\n",
    "model.add(MaxPooling1D(pool_size=2))\n",
    "model.add(Flatten())\n",
    "model.add(Dense(100, activation='relu'))\n",
    "model.add(Dense(1, activation='relu'))"
   ]
  },
  {
   "cell_type": "code",
   "execution_count": 17,
   "metadata": {},
   "outputs": [],
   "source": [
    "model.compile(optimizer='adam', loss='mean_squared_error', metrics=['accuracy'])"
   ]
  },
  {
   "cell_type": "code",
   "execution_count": 18,
   "metadata": {},
   "outputs": [
    {
     "name": "stdout",
     "output_type": "stream",
     "text": [
      "Train on 475 samples, validate on 119 samples\n",
      "Epoch 1/50\n",
      "475/475 [==============================] - 2s 4ms/step - loss: 111224.9108 - accuracy: 0.0000e+00 - val_loss: 108928.8463 - val_accuracy: 0.0000e+00\n",
      "Epoch 2/50\n",
      "475/475 [==============================] - 0s 962us/step - loss: 109258.7734 - accuracy: 0.0000e+00 - val_loss: 106624.8856 - val_accuracy: 0.0000e+00\n",
      "Epoch 3/50\n",
      "475/475 [==============================] - 1s 1ms/step - loss: 104747.5189 - accuracy: 0.0000e+00 - val_loss: 102240.0603 - val_accuracy: 0.0000e+00\n",
      "Epoch 4/50\n",
      "475/475 [==============================] - 1s 1ms/step - loss: 97103.3631 - accuracy: 0.0000e+00 - val_loss: 95079.8114 - val_accuracy: 0.0000e+00\n",
      "Epoch 5/50\n",
      "475/475 [==============================] - 1s 1ms/step - loss: 85218.5275 - accuracy: 0.0000e+00 - val_loss: 84762.7748 - val_accuracy: 0.0000e+00\n",
      "Epoch 6/50\n",
      "475/475 [==============================] - 1s 1ms/step - loss: 69507.4451 - accuracy: 0.0000e+00 - val_loss: 71377.3150 - val_accuracy: 0.0000e+00\n",
      "Epoch 7/50\n",
      "475/475 [==============================] - 0s 1ms/step - loss: 51753.5752 - accuracy: 0.0021 - val_loss: 56160.6671 - val_accuracy: 0.0000e+00\n",
      "Epoch 8/50\n",
      "475/475 [==============================] - 1s 2ms/step - loss: 35779.4721 - accuracy: 0.0021 - val_loss: 41828.4966 - val_accuracy: 0.0000e+00\n",
      "Epoch 9/50\n",
      "475/475 [==============================] - 0s 933us/step - loss: 27083.4928 - accuracy: 0.0000e+00 - val_loss: 32428.5918 - val_accuracy: 0.0000e+00\n",
      "Epoch 10/50\n",
      "475/475 [==============================] - 1s 1ms/step - loss: 28106.2599 - accuracy: 0.0000e+00 - val_loss: 28981.0681 - val_accuracy: 0.0000e+00\n",
      "Epoch 11/50\n",
      "475/475 [==============================] - 1s 2ms/step - loss: 29028.9841 - accuracy: 0.0021 - val_loss: 29500.9943 - val_accuracy: 0.0000e+00\n",
      "Epoch 12/50\n",
      "475/475 [==============================] - 1s 2ms/step - loss: 27153.9001 - accuracy: 0.0000e+00 - val_loss: 32288.0661 - val_accuracy: 0.0000e+00\n",
      "Epoch 13/50\n",
      "475/475 [==============================] - 1s 1ms/step - loss: 25601.7544 - accuracy: 0.0000e+00 - val_loss: 35058.2015 - val_accuracy: 0.0000e+00\n",
      "Epoch 14/50\n",
      "475/475 [==============================] - 1s 2ms/step - loss: 25228.4944 - accuracy: 0.0000e+00 - val_loss: 35837.0651 - val_accuracy: 0.0000e+00\n",
      "Epoch 15/50\n",
      "475/475 [==============================] - 1s 1ms/step - loss: 25064.0428 - accuracy: 0.0000e+00 - val_loss: 34800.2458 - val_accuracy: 0.0000e+00\n",
      "Epoch 16/50\n",
      "475/475 [==============================] - 1s 1ms/step - loss: 24640.3165 - accuracy: 0.0000e+00 - val_loss: 33348.1484 - val_accuracy: 0.0000e+00\n",
      "Epoch 17/50\n",
      "475/475 [==============================] - 1s 1ms/step - loss: 24348.3014 - accuracy: 0.0000e+00 - val_loss: 32359.7662 - val_accuracy: 0.0000e+00\n",
      "Epoch 18/50\n",
      "475/475 [==============================] - 1s 1ms/step - loss: 23976.3565 - accuracy: 0.0000e+00 - val_loss: 31828.1044 - val_accuracy: 0.0000e+00\n",
      "Epoch 19/50\n",
      "475/475 [==============================] - 1s 1ms/step - loss: 23954.4558 - accuracy: 0.0021 - val_loss: 31699.1413 - val_accuracy: 0.0000e+00\n",
      "Epoch 20/50\n",
      "475/475 [==============================] - 1s 1ms/step - loss: 23630.2961 - accuracy: 0.0000e+00 - val_loss: 31770.3998 - val_accuracy: 0.0000e+00\n",
      "Epoch 21/50\n",
      "475/475 [==============================] - 1s 1ms/step - loss: 23308.7751 - accuracy: 0.0000e+00 - val_loss: 32015.0314 - val_accuracy: 0.0000e+00\n",
      "Epoch 22/50\n",
      "475/475 [==============================] - 1s 1ms/step - loss: 23178.4866 - accuracy: 0.0021 - val_loss: 31674.1020 - val_accuracy: 0.0000e+00\n",
      "Epoch 23/50\n",
      "475/475 [==============================] - 1s 1ms/step - loss: 23038.6443 - accuracy: 0.0000e+00 - val_loss: 31404.9543 - val_accuracy: 0.0000e+00\n",
      "Epoch 24/50\n",
      "475/475 [==============================] - 1s 2ms/step - loss: 22865.7726 - accuracy: 0.0000e+00 - val_loss: 31446.2334 - val_accuracy: 0.0000e+00\n",
      "Epoch 25/50\n",
      "475/475 [==============================] - 1s 2ms/step - loss: 22715.1770 - accuracy: 0.0000e+00 - val_loss: 31095.2949 - val_accuracy: 0.0000e+00\n",
      "Epoch 26/50\n",
      "475/475 [==============================] - 1s 1ms/step - loss: 22743.3677 - accuracy: 0.0000e+00 - val_loss: 30821.4555 - val_accuracy: 0.0000e+00\n",
      "Epoch 27/50\n",
      "475/475 [==============================] - 1s 1ms/step - loss: 22457.0266 - accuracy: 0.0000e+00 - val_loss: 30473.6018 - val_accuracy: 0.0000e+00\n",
      "Epoch 28/50\n",
      "475/475 [==============================] - 1s 1ms/step - loss: 22304.2632 - accuracy: 0.0000e+00 - val_loss: 30614.4631 - val_accuracy: 0.0000e+00\n",
      "Epoch 29/50\n",
      "475/475 [==============================] - 1s 1ms/step - loss: 22300.3006 - accuracy: 0.0000e+00 - val_loss: 30644.8782 - val_accuracy: 0.0000e+00\n",
      "Epoch 30/50\n",
      "475/475 [==============================] - 1s 1ms/step - loss: 22304.1627 - accuracy: 0.0000e+00 - val_loss: 30897.1192 - val_accuracy: 0.0084\n",
      "Epoch 31/50\n",
      "475/475 [==============================] - 1s 1ms/step - loss: 22012.6637 - accuracy: 0.0000e+00 - val_loss: 30727.4042 - val_accuracy: 0.0084\n",
      "Epoch 32/50\n",
      "475/475 [==============================] - 1s 1ms/step - loss: 22044.5806 - accuracy: 0.0000e+00 - val_loss: 30230.7786 - val_accuracy: 0.0000e+00\n",
      "Epoch 33/50\n",
      "475/475 [==============================] - 0s 886us/step - loss: 22035.2617 - accuracy: 0.0000e+00 - val_loss: 30432.8304 - val_accuracy: 0.0000e+00\n",
      "Epoch 34/50\n",
      "475/475 [==============================] - 1s 1ms/step - loss: 22034.0390 - accuracy: 0.0000e+00 - val_loss: 30233.8331 - val_accuracy: 0.0000e+00\n",
      "Epoch 35/50\n",
      "475/475 [==============================] - 1s 1ms/step - loss: 21616.0482 - accuracy: 0.0000e+00 - val_loss: 30076.3716 - val_accuracy: 0.0000e+00\n",
      "Epoch 36/50\n",
      "475/475 [==============================] - 1s 1ms/step - loss: 21836.6420 - accuracy: 0.0000e+00 - val_loss: 30122.6967 - val_accuracy: 0.0000e+00\n",
      "Epoch 37/50\n",
      "475/475 [==============================] - 0s 990us/step - loss: 21723.3393 - accuracy: 0.0000e+00 - val_loss: 30237.1061 - val_accuracy: 0.0000e+00\n",
      "Epoch 38/50\n",
      "475/475 [==============================] - 0s 1ms/step - loss: 21631.7670 - accuracy: 0.0021 - val_loss: 30330.5864 - val_accuracy: 0.0000e+00\n",
      "Epoch 39/50\n",
      "475/475 [==============================] - 1s 1ms/step - loss: 21727.3355 - accuracy: 0.0042 - val_loss: 29770.0980 - val_accuracy: 0.0000e+00\n",
      "Epoch 40/50\n",
      "475/475 [==============================] - 1s 2ms/step - loss: 21554.0335 - accuracy: 0.0000e+00 - val_loss: 30072.6989 - val_accuracy: 0.0000e+00\n",
      "Epoch 41/50\n",
      "475/475 [==============================] - 1s 2ms/step - loss: 21391.0122 - accuracy: 0.0021 - val_loss: 30549.7796 - val_accuracy: 0.0000e+00\n",
      "Epoch 42/50\n",
      "475/475 [==============================] - 1s 2ms/step - loss: 21532.7547 - accuracy: 0.0000e+00 - val_loss: 30105.8080 - val_accuracy: 0.0000e+00\n",
      "Epoch 43/50\n",
      "475/475 [==============================] - 1s 2ms/step - loss: 21436.2044 - accuracy: 0.0000e+00 - val_loss: 30209.8305 - val_accuracy: 0.0000e+00\n",
      "Epoch 44/50\n",
      "475/475 [==============================] - 1s 1ms/step - loss: 21513.7176 - accuracy: 0.0021 - val_loss: 29984.2334 - val_accuracy: 0.0000e+00\n",
      "Epoch 45/50\n",
      "475/475 [==============================] - 1s 1ms/step - loss: 21368.4900 - accuracy: 0.0000e+00 - val_loss: 30284.5351 - val_accuracy: 0.0000e+00\n",
      "Epoch 46/50\n",
      "475/475 [==============================] - 1s 2ms/step - loss: 21470.7973 - accuracy: 0.0000e+00 - val_loss: 29952.5150 - val_accuracy: 0.0000e+00\n",
      "Epoch 47/50\n",
      "475/475 [==============================] - 1s 1ms/step - loss: 21276.5232 - accuracy: 0.0000e+00 - val_loss: 30269.0708 - val_accuracy: 0.0000e+00\n",
      "Epoch 48/50\n",
      "475/475 [==============================] - 0s 1ms/step - loss: 21192.0850 - accuracy: 0.0000e+00 - val_loss: 30128.5664 - val_accuracy: 0.0000e+00\n",
      "Epoch 49/50\n",
      "475/475 [==============================] - 1s 1ms/step - loss: 21095.7002 - accuracy: 0.0000e+00 - val_loss: 30162.9185 - val_accuracy: 0.0000e+00\n",
      "Epoch 50/50\n",
      "475/475 [==============================] - 1s 1ms/step - loss: 21286.8377 - accuracy: 0.0000e+00 - val_loss: 29781.8235 - val_accuracy: 0.0084\n"
     ]
    }
   ],
   "source": [
    "history = model.fit(X_train, y_train, validation_data=(X_test, y_test), epochs=50, batch_size=100)"
   ]
  },
  {
   "cell_type": "code",
   "execution_count": 19,
   "metadata": {},
   "outputs": [
    {
     "name": "stdout",
     "output_type": "stream",
     "text": [
      "dict_keys(['val_loss', 'val_accuracy', 'loss', 'accuracy'])\n"
     ]
    },
    {
     "data": {
      "text/plain": [
       "<matplotlib.legend.Legend at 0x7f7da40fdd10>"
      ]
     },
     "execution_count": 19,
     "metadata": {},
     "output_type": "execute_result"
    },
    {
     "data": {
      "image/png": "[encoded data removed]",
      "text/plain": [
       "<Figure size 432x288 with 1 Axes>"
      ]
     },
     "metadata": {
      "needs_background": "light"
     },
     "output_type": "display_data"
    }
   ],
   "source": [
    "print(history.history.keys())\n",
    "plt.plot(history.history['loss'],label='Train')\n",
    "plt.plot(history.history['val_loss'],label='Test')\n",
    "plt.xlabel('Epochs')\n",
    "plt.ylabel('Mean_squared_error')\n",
    "plt.legend()\n",
    "plt.savefig('learning_curve_ACSF.png', dpi=500)\n",
    "plt.legend()"
   ]
  },
  {
   "cell_type": "markdown",
   "metadata": {},
   "source": [
    "# SOAP"
   ]
  },
  {
   "cell_type": "code",
   "execution_count": 20,
   "metadata": {},
   "outputs": [
    {
     "data": {
      "text/plain": [
       "594"
      ]
     },
     "execution_count": 20,
     "metadata": {},
     "output_type": "execute_result"
    }
   ],
   "source": [
    "len(soap_matrix)"
   ]
  },
  {
   "cell_type": "code",
   "execution_count": 29,
   "metadata": {},
   "outputs": [],
   "source": [
    "soap_matrix_diminished = soap_matrix[:]\n",
    "melting_point_diminished = melting_point[:]"
   ]
  },
  {
   "cell_type": "code",
   "execution_count": 30,
   "metadata": {},
   "outputs": [],
   "source": [
    "X_train, X_test, y_train, y_test = train_test_split(soap_matrix_diminished, melting_point_diminished, test_size=0.2, random_state=33)"
   ]
  },
  {
   "cell_type": "code",
   "execution_count": 31,
   "metadata": {},
   "outputs": [
    {
     "name": "stdout",
     "output_type": "stream",
     "text": [
      "475 (1, 13860)\n",
      "119 (1, 13860)\n"
     ]
    }
   ],
   "source": [
    "#check image shape\n",
    "print(len(X_train),  X_train[2].shape)\n",
    "print(len(X_test), X_test[2].shape)"
   ]
  },
  {
   "cell_type": "code",
   "execution_count": 25,
   "metadata": {},
   "outputs": [],
   "source": [
    "X_train = np.asarray(X_train)\n",
    "X_test = np.asarray(X_test)\n",
    "#reshape data to fit model\n",
    "X_train = X_train.reshape(243,55,13860,1)\n",
    "X_test = X_test.reshape(61,55,13860,1)\n",
    "\n",
    "X_train = X_train.reshape(475,100,615)\n",
    "X_test = X_test.reshape(119,100,615)"
   ]
  },
  {
   "cell_type": "code",
   "execution_count": 26,
   "metadata": {},
   "outputs": [],
   "source": [
    "from keras.models import Sequential\n",
    "from keras.layers import Dense\n",
    "from keras.layers import Flatten\n",
    "from keras.layers import Dropout\n",
    "from keras.layers.convolutional import Conv1D\n",
    "from keras.layers.convolutional import MaxPooling1D\n",
    "\n",
    "model = Sequential()\n",
    "model.add(Conv1D(filters=64, kernel_size=3, activation='relu', input_shape=(55,13860)))\n",
    "model.add(MaxPooling1D(pool_size=2))\n",
    "model.add(Flatten())\n",
    "model.add(Dense(100, activation='relu'))\n",
    "model.add(Dense(1, activation='relu'))"
   ]
  },
  {
   "cell_type": "code",
   "execution_count": 27,
   "metadata": {},
   "outputs": [],
   "source": [
    "model.compile(optimizer='adam', loss='mean_squared_error', metrics=['accuracy'])"
   ]
  },
  {
   "cell_type": "code",
   "execution_count": 28,
   "metadata": {},
   "outputs": [
    {
     "ename": "ValueError",
     "evalue": "Error when checking input: expected conv1d_3_input to have shape (55, 13860) but got array with shape (1, 13860)",
     "output_type": "error",
     "traceback": [
      "\u001b[0;31m---------------------------------------------------------------------------\u001b[0m",
      "\u001b[0;31mValueError\u001b[0m                                Traceback (most recent call last)",
      "\u001b[0;32m<ipython-input-28-0d44df441c1e>\u001b[0m in \u001b[0;36m<module>\u001b[0;34m\u001b[0m\n\u001b[0;32m----> 1\u001b[0;31m \u001b[0mhistory\u001b[0m \u001b[0;34m=\u001b[0m \u001b[0mmodel\u001b[0m\u001b[0;34m.\u001b[0m\u001b[0mfit\u001b[0m\u001b[0;34m(\u001b[0m\u001b[0mX_train\u001b[0m\u001b[0;34m,\u001b[0m \u001b[0my_train\u001b[0m\u001b[0;34m,\u001b[0m \u001b[0mvalidation_data\u001b[0m\u001b[0;34m=\u001b[0m\u001b[0;34m(\u001b[0m\u001b[0mX_test\u001b[0m\u001b[0;34m,\u001b[0m \u001b[0my_test\u001b[0m\u001b[0;34m)\u001b[0m\u001b[0;34m,\u001b[0m \u001b[0mepochs\u001b[0m\u001b[0;34m=\u001b[0m\u001b[0;36m50\u001b[0m\u001b[0;34m,\u001b[0m \u001b[0mbatch_size\u001b[0m\u001b[0;34m=\u001b[0m\u001b[0;36m100\u001b[0m\u001b[0;34m)\u001b[0m\u001b[0;34m\u001b[0m\u001b[0;34m\u001b[0m\u001b[0m\n\u001b[0m",
      "\u001b[0;32m~/anaconda3/envs/ai/lib/python3.7/site-packages/keras/engine/training.py\u001b[0m in \u001b[0;36mfit\u001b[0;34m(self, x, y, batch_size, epochs, verbose, callbacks, validation_split, validation_data, shuffle, class_weight, sample_weight, initial_epoch, steps_per_epoch, validation_steps, validation_freq, max_queue_size, workers, use_multiprocessing, **kwargs)\u001b[0m\n\u001b[1;32m   1152\u001b[0m             \u001b[0msample_weight\u001b[0m\u001b[0;34m=\u001b[0m\u001b[0msample_weight\u001b[0m\u001b[0;34m,\u001b[0m\u001b[0;34m\u001b[0m\u001b[0;34m\u001b[0m\u001b[0m\n\u001b[1;32m   1153\u001b[0m             \u001b[0mclass_weight\u001b[0m\u001b[0;34m=\u001b[0m\u001b[0mclass_weight\u001b[0m\u001b[0;34m,\u001b[0m\u001b[0;34m\u001b[0m\u001b[0;34m\u001b[0m\u001b[0m\n\u001b[0;32m-> 1154\u001b[0;31m             batch_size=batch_size)\n\u001b[0m\u001b[1;32m   1155\u001b[0m \u001b[0;34m\u001b[0m\u001b[0m\n\u001b[1;32m   1156\u001b[0m         \u001b[0;31m# Prepare validation data.\u001b[0m\u001b[0;34m\u001b[0m\u001b[0;34m\u001b[0m\u001b[0;34m\u001b[0m\u001b[0m\n",
      "\u001b[0;32m~/anaconda3/envs/ai/lib/python3.7/site-packages/keras/engine/training.py\u001b[0m in \u001b[0;36m_standardize_user_data\u001b[0;34m(self, x, y, sample_weight, class_weight, check_array_lengths, batch_size)\u001b[0m\n\u001b[1;32m    577\u001b[0m             \u001b[0mfeed_input_shapes\u001b[0m\u001b[0;34m,\u001b[0m\u001b[0;34m\u001b[0m\u001b[0;34m\u001b[0m\u001b[0m\n\u001b[1;32m    578\u001b[0m             \u001b[0mcheck_batch_axis\u001b[0m\u001b[0;34m=\u001b[0m\u001b[0;32mFalse\u001b[0m\u001b[0;34m,\u001b[0m  \u001b[0;31m# Don't enforce the batch size.\u001b[0m\u001b[0;34m\u001b[0m\u001b[0;34m\u001b[0m\u001b[0m\n\u001b[0;32m--> 579\u001b[0;31m             exception_prefix='input')\n\u001b[0m\u001b[1;32m    580\u001b[0m \u001b[0;34m\u001b[0m\u001b[0m\n\u001b[1;32m    581\u001b[0m         \u001b[0;32mif\u001b[0m \u001b[0my\u001b[0m \u001b[0;32mis\u001b[0m \u001b[0;32mnot\u001b[0m \u001b[0;32mNone\u001b[0m\u001b[0;34m:\u001b[0m\u001b[0;34m\u001b[0m\u001b[0;34m\u001b[0m\u001b[0m\n",
      "\u001b[0;32m~/anaconda3/envs/ai/lib/python3.7/site-packages/keras/engine/training_utils.py\u001b[0m in \u001b[0;36mstandardize_input_data\u001b[0;34m(data, names, shapes, check_batch_axis, exception_prefix)\u001b[0m\n\u001b[1;32m    143\u001b[0m                             \u001b[0;34m': expected '\u001b[0m \u001b[0;34m+\u001b[0m \u001b[0mnames\u001b[0m\u001b[0;34m[\u001b[0m\u001b[0mi\u001b[0m\u001b[0;34m]\u001b[0m \u001b[0;34m+\u001b[0m \u001b[0;34m' to have shape '\u001b[0m \u001b[0;34m+\u001b[0m\u001b[0;34m\u001b[0m\u001b[0;34m\u001b[0m\u001b[0m\n\u001b[1;32m    144\u001b[0m                             \u001b[0mstr\u001b[0m\u001b[0;34m(\u001b[0m\u001b[0mshape\u001b[0m\u001b[0;34m)\u001b[0m \u001b[0;34m+\u001b[0m \u001b[0;34m' but got array with shape '\u001b[0m \u001b[0;34m+\u001b[0m\u001b[0;34m\u001b[0m\u001b[0;34m\u001b[0m\u001b[0m\n\u001b[0;32m--> 145\u001b[0;31m                             str(data_shape))\n\u001b[0m\u001b[1;32m    146\u001b[0m     \u001b[0;32mreturn\u001b[0m \u001b[0mdata\u001b[0m\u001b[0;34m\u001b[0m\u001b[0;34m\u001b[0m\u001b[0m\n\u001b[1;32m    147\u001b[0m \u001b[0;34m\u001b[0m\u001b[0m\n",
      "\u001b[0;31mValueError\u001b[0m: Error when checking input: expected conv1d_3_input to have shape (55, 13860) but got array with shape (1, 13860)"
     ]
    }
   ],
   "source": [
    "history = model.fit(X_train, y_train, validation_data=(X_test, y_test), epochs=50, batch_size=100)"
   ]
  },
  {
   "cell_type": "code",
   "execution_count": 15,
   "metadata": {},
   "outputs": [
    {
     "name": "stdout",
     "output_type": "stream",
     "text": [
      "dict_keys(['val_loss', 'val_accuracy', 'loss', 'accuracy'])\n"
     ]
    },
    {
     "data": {
      "text/plain": [
       "<matplotlib.legend.Legend at 0x7f822e365050>"
      ]
     },
     "execution_count": 15,
     "metadata": {},
     "output_type": "execute_result"
    },
    {
     "data": {
      "image/png": "[encoded data removed]",
      "text/plain": [
       "<Figure size 432x288 with 1 Axes>"
      ]
     },
     "metadata": {
      "needs_background": "light"
     },
     "output_type": "display_data"
    }
   ],
   "source": [
    "print(history.history.keys())\n",
    "plt.plot(history.history['loss'],label='Train')\n",
    "plt.plot(history.history['val_loss'],label='Test')\n",
    "plt.xlabel('Epochs')\n",
    "plt.ylabel('Mean_squared_error')\n",
    "plt.legend()\n",
    "plt.savefig('learning_curve_SOAP.png', dpi=500)\n",
    "plt.legend()"
   ]
  },
  {
   "cell_type": "code",
   "execution_count": null,
   "metadata": {},
   "outputs": [],
   "source": []
  }
 ],
 "metadata": {
  "kernelspec": {
   "display_name": "Python 3",
   "language": "python",
   "name": "python3"
  },
  "language_info": {
   "codemirror_mode": {
    "name": "ipython",
    "version": 3
   },
   "file_extension": ".py",
   "mimetype": "text/x-python",
   "name": "python",
   "nbconvert_exporter": "python",
   "pygments_lexer": "ipython3",
   "version": "3.7.7"
  }
 },
 "nbformat": 4,
 "nbformat_minor": 4
}
