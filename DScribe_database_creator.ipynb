{
 "cells": [
  {
   "cell_type": "code",
   "execution_count": 1,
   "metadata": {},
   "outputs": [],
   "source": [
    "#Importamos las librerias necesarias\n",
    "from ase.data.pubchem import pubchem_atoms_search, pubchem_atoms_conformer_search\n",
    "from ase.build import molecule\n",
    "import pandas as pd"
   ]
  },
  {
   "cell_type": "code",
   "execution_count": 2,
   "metadata": {},
   "outputs": [],
   "source": [
    "#Importamos la base de datos\n",
    "data = pd.read_csv(\"melting_point_info.csv\") \n",
    "cids = list(data['cid'])   \n",
    "smiles = list(data['smiles'])\n",
    "mp= list(data['melting_point'])"
   ]
  },
  {
   "cell_type": "code",
   "execution_count": 3,
   "metadata": {},
   "outputs": [
    {
     "data": {
      "text/html": [
       "<div>\n",
       "<style scoped>\n",
       "    .dataframe tbody tr th:only-of-type {\n",
       "        vertical-align: middle;\n",
       "    }\n",
       "\n",
       "    .dataframe tbody tr th {\n",
       "        vertical-align: top;\n",
       "    }\n",
       "\n",
       "    .dataframe thead th {\n",
       "        text-align: right;\n",
       "    }\n",
       "</style>\n",
       "<table border=\"1\" class=\"dataframe\">\n",
       "  <thead>\n",
       "    <tr style=\"text-align: right;\">\n",
       "      <th></th>\n",
       "      <th>Unnamed: 0</th>\n",
       "      <th>cid</th>\n",
       "      <th>melting_point</th>\n",
       "      <th>names</th>\n",
       "      <th>smiles</th>\n",
       "    </tr>\n",
       "  </thead>\n",
       "  <tbody>\n",
       "    <tr>\n",
       "      <th>0</th>\n",
       "      <td>0</td>\n",
       "      <td>2244</td>\n",
       "      <td>139.00</td>\n",
       "      <td>Acetylsalicylic acid</td>\n",
       "      <td>CC(=O)OC1=CC=CC=C1C(=O)O</td>\n",
       "    </tr>\n",
       "    <tr>\n",
       "      <th>1</th>\n",
       "      <td>1</td>\n",
       "      <td>1051</td>\n",
       "      <td>528.15</td>\n",
       "      <td>Pyridoxal phosphate</td>\n",
       "      <td>CC1=NC=C(C(=C1O)C=O)COP(=O)(O)O</td>\n",
       "    </tr>\n",
       "    <tr>\n",
       "      <th>2</th>\n",
       "      <td>2</td>\n",
       "      <td>6274</td>\n",
       "      <td>560.15</td>\n",
       "      <td>Histidine</td>\n",
       "      <td>C1=C(NC=N1)C[C@@H](C(=O)O)N</td>\n",
       "    </tr>\n",
       "    <tr>\n",
       "      <th>3</th>\n",
       "      <td>3</td>\n",
       "      <td>1060</td>\n",
       "      <td>286.95</td>\n",
       "      <td>Pyruvic acid</td>\n",
       "      <td>CC(=O)C(=O)O</td>\n",
       "    </tr>\n",
       "    <tr>\n",
       "      <th>4</th>\n",
       "      <td>4</td>\n",
       "      <td>6140</td>\n",
       "      <td>556.15</td>\n",
       "      <td>Phenylalanine</td>\n",
       "      <td>C1=CC=C(C=C1)C[C@@H](C(=O)O)N</td>\n",
       "    </tr>\n",
       "    <tr>\n",
       "      <th>...</th>\n",
       "      <td>...</td>\n",
       "      <td>...</td>\n",
       "      <td>...</td>\n",
       "      <td>...</td>\n",
       "      <td>...</td>\n",
       "    </tr>\n",
       "    <tr>\n",
       "      <th>820</th>\n",
       "      <td>820</td>\n",
       "      <td>16630</td>\n",
       "      <td>410.15</td>\n",
       "      <td>Aminorex</td>\n",
       "      <td>C1C(OC(=N1)N)C2=CC=CC=C2</td>\n",
       "    </tr>\n",
       "    <tr>\n",
       "      <th>821</th>\n",
       "      <td>821</td>\n",
       "      <td>13765</td>\n",
       "      <td>173.50</td>\n",
       "      <td>Ethylestrenol</td>\n",
       "      <td>CC[C@@]1(CC[C@@H]2[C@@]1(CC[C@H]3[C@H]2CCC4=CC...</td>\n",
       "    </tr>\n",
       "    <tr>\n",
       "      <th>822</th>\n",
       "      <td>822</td>\n",
       "      <td>26721</td>\n",
       "      <td>215.50</td>\n",
       "      <td>Etorphine</td>\n",
       "      <td>CCCC(C)(C1C[C@@]23C=CC1(C4[C@@]25CCN([C@@H]3CC...</td>\n",
       "    </tr>\n",
       "    <tr>\n",
       "      <th>823</th>\n",
       "      <td>823</td>\n",
       "      <td>20055236</td>\n",
       "      <td>462.15</td>\n",
       "      <td>Oxabolone</td>\n",
       "      <td>C[C@]12CC[C@H]3[C@H]([C@@H]1CC[C@@H]2O)CCC4=C(...</td>\n",
       "    </tr>\n",
       "    <tr>\n",
       "      <th>824</th>\n",
       "      <td>824</td>\n",
       "      <td>14708</td>\n",
       "      <td>152.00</td>\n",
       "      <td>Furazabol</td>\n",
       "      <td>C[C@]12CC[C@H]3[C@H]([C@@H]1CC[C@]2(C)O)CC[C@@...</td>\n",
       "    </tr>\n",
       "  </tbody>\n",
       "</table>\n",
       "<p>825 rows × 5 columns</p>\n",
       "</div>"
      ],
      "text/plain": [
       "     Unnamed: 0       cid  melting_point                 names  \\\n",
       "0             0      2244         139.00  Acetylsalicylic acid   \n",
       "1             1      1051         528.15   Pyridoxal phosphate   \n",
       "2             2      6274         560.15             Histidine   \n",
       "3             3      1060         286.95          Pyruvic acid   \n",
       "4             4      6140         556.15         Phenylalanine   \n",
       "..          ...       ...            ...                   ...   \n",
       "820         820     16630         410.15              Aminorex   \n",
       "821         821     13765         173.50         Ethylestrenol   \n",
       "822         822     26721         215.50             Etorphine   \n",
       "823         823  20055236         462.15             Oxabolone   \n",
       "824         824     14708         152.00             Furazabol   \n",
       "\n",
       "                                                smiles  \n",
       "0                             CC(=O)OC1=CC=CC=C1C(=O)O  \n",
       "1                      CC1=NC=C(C(=C1O)C=O)COP(=O)(O)O  \n",
       "2                          C1=C(NC=N1)C[C@@H](C(=O)O)N  \n",
       "3                                         CC(=O)C(=O)O  \n",
       "4                        C1=CC=C(C=C1)C[C@@H](C(=O)O)N  \n",
       "..                                                 ...  \n",
       "820                           C1C(OC(=N1)N)C2=CC=CC=C2  \n",
       "821  CC[C@@]1(CC[C@@H]2[C@@]1(CC[C@H]3[C@H]2CCC4=CC...  \n",
       "822  CCCC(C)(C1C[C@@]23C=CC1(C4[C@@]25CCN([C@@H]3CC...  \n",
       "823  C[C@]12CC[C@H]3[C@H]([C@@H]1CC[C@@H]2O)CCC4=C(...  \n",
       "824  C[C@]12CC[C@H]3[C@H]([C@@H]1CC[C@]2(C)O)CC[C@@...  \n",
       "\n",
       "[825 rows x 5 columns]"
      ]
     },
     "execution_count": 3,
     "metadata": {},
     "output_type": "execute_result"
    }
   ],
   "source": [
    "data"
   ]
  },
  {
   "cell_type": "code",
   "execution_count": 4,
   "metadata": {},
   "outputs": [
    {
     "data": {
      "text/plain": [
       "(0.0, 170.0)"
      ]
     },
     "execution_count": 4,
     "metadata": {},
     "output_type": "execute_result"
    },
    {
     "data": {
      "image/png": "[encoded data removed]",
      "text/plain": [
       "<Figure size 432x288 with 1 Axes>"
      ]
     },
     "metadata": {
      "needs_background": "light"
     },
     "output_type": "display_data"
    }
   ],
   "source": [
    "\n",
    "import matplotlib.pyplot as plt\n",
    "import statistics as stats\n",
    "\n",
    "# An \"interface\" to matplotlib.axes.Axes.hist() method\n",
    "n, bins, patches = plt.hist(mp, bins='auto', color='darkcyan',\n",
    "                            alpha=0.7, rwidth=0.85)\n",
    "plt.grid(axis='y', alpha=0.75)\n",
    "plt.xlabel('Temperture (°K)')\n",
    "plt.ylabel('Frequency')\n",
    "plt.title('Melting point Histogram')\n",
    "\n",
    "mu = stats.mean(mp)\n",
    "sigma = stats.pstdev(mp)\n",
    "mu = str(round(mu, 2))\n",
    "sigma = str(round(sigma, 2))\n",
    "\n",
    "\n",
    "plt.text(480, 150, '\\u03BC ='+ mu +' , ' +'\\u03C3 = ' + sigma)\n",
    "maxfreq = n.max()\n",
    "\n",
    "plt.savefig('histograma_completo.png', dpi=500)\n",
    "# Set a clean upper y-axis limit.\n",
    "plt.ylim(ymax=np.ceil(maxfreq / 10) * 10 if maxfreq % 10 else maxfreq + 10)"
   ]
  },
  {
   "cell_type": "code",
   "execution_count": 5,
   "metadata": {},
   "outputs": [
    {
     "name": "stdout",
     "output_type": "stream",
     "text": [
      "825 825 825\n"
     ]
    }
   ],
   "source": [
    "print(len(cids), len(smiles), len(mp))"
   ]
  },
  {
   "cell_type": "code",
   "execution_count": 6,
   "metadata": {},
   "outputs": [
    {
     "name": "stderr",
     "output_type": "stream",
     "text": [
      "/home/neft/anaconda3/envs/ai/lib/python3.7/site-packages/ase/data/pubchem.py:85: UserWarning: The structure \"2244\" has more than one conformer in PubChem. By default, the first conformer is returned, please ensure you are using the structure you intend to or use the `ase.data.pubchem.pubchem_conformer_search` function\n",
      "  ' function'.format(search))\n"
     ]
    },
    {
     "name": "stdout",
     "output_type": "stream",
     "text": [
      "0\n"
     ]
    },
    {
     "name": "stderr",
     "output_type": "stream",
     "text": [
      "/home/neft/anaconda3/envs/ai/lib/python3.7/site-packages/ase/data/pubchem.py:85: UserWarning: The structure \"1051\" has more than one conformer in PubChem. By default, the first conformer is returned, please ensure you are using the structure you intend to or use the `ase.data.pubchem.pubchem_conformer_search` function\n",
      "  ' function'.format(search))\n"
     ]
    },
    {
     "name": "stdout",
     "output_type": "stream",
     "text": [
      "1\n"
     ]
    },
    {
     "name": "stderr",
     "output_type": "stream",
     "text": [
      "/home/neft/anaconda3/envs/ai/lib/python3.7/site-packages/ase/data/pubchem.py:85: UserWarning: The structure \"6274\" has more than one conformer in PubChem. By default, the first conformer is returned, please ensure you are using the structure you intend to or use the `ase.data.pubchem.pubchem_conformer_search` function\n",
      "  ' function'.format(search))\n"
     ]
    },
    {
     "name": "stdout",
     "output_type": "stream",
     "text": [
      "2\n",
      "3\n"
     ]
    },
    {
     "name": "stderr",
     "output_type": "stream",
     "text": [
      "/home/neft/anaconda3/envs/ai/lib/python3.7/site-packages/ase/data/pubchem.py:85: UserWarning: The structure \"6140\" has more than one conformer in PubChem. By default, the first conformer is returned, please ensure you are using the structure you intend to or use the `ase.data.pubchem.pubchem_conformer_search` function\n",
      "  ' function'.format(search))\n"
     ]
    },
    {
     "name": "stdout",
     "output_type": "stream",
     "text": [
      "4\n"
     ]
    },
    {
     "name": "stderr",
     "output_type": "stream",
     "text": [
      "/home/neft/anaconda3/envs/ai/lib/python3.7/site-packages/ase/data/pubchem.py:85: UserWarning: The structure \"171548\" has more than one conformer in PubChem. By default, the first conformer is returned, please ensure you are using the structure you intend to or use the `ase.data.pubchem.pubchem_conformer_search` function\n",
      "  ' function'.format(search))\n"
     ]
    },
    {
     "name": "stdout",
     "output_type": "stream",
     "text": [
      "5\n"
     ]
    },
    {
     "name": "stderr",
     "output_type": "stream",
     "text": [
      "/home/neft/anaconda3/envs/ai/lib/python3.7/site-packages/ase/data/pubchem.py:85: UserWarning: The structure \"5962\" has more than one conformer in PubChem. By default, the first conformer is returned, please ensure you are using the structure you intend to or use the `ase.data.pubchem.pubchem_conformer_search` function\n",
      "  ' function'.format(search))\n"
     ]
    },
    {
     "name": "stdout",
     "output_type": "stream",
     "text": [
      "6\n"
     ]
    },
    {
     "name": "stderr",
     "output_type": "stream",
     "text": [
      "/home/neft/anaconda3/envs/ai/lib/python3.7/site-packages/ase/data/pubchem.py:85: UserWarning: The structure \"6322\" has more than one conformer in PubChem. By default, the first conformer is returned, please ensure you are using the structure you intend to or use the `ase.data.pubchem.pubchem_conformer_search` function\n",
      "  ' function'.format(search))\n"
     ]
    },
    {
     "name": "stdout",
     "output_type": "stream",
     "text": [
      "7\n"
     ]
    },
    {
     "name": "stderr",
     "output_type": "stream",
     "text": [
      "/home/neft/anaconda3/envs/ai/lib/python3.7/site-packages/ase/data/pubchem.py:85: UserWarning: The structure \"54670067\" has more than one conformer in PubChem. By default, the first conformer is returned, please ensure you are using the structure you intend to or use the `ase.data.pubchem.pubchem_conformer_search` function\n",
      "  ' function'.format(search))\n"
     ]
    },
    {
     "name": "stdout",
     "output_type": "stream",
     "text": [
      "8\n"
     ]
    },
    {
     "name": "stderr",
     "output_type": "stream",
     "text": [
      "/home/neft/anaconda3/envs/ai/lib/python3.7/site-packages/ase/data/pubchem.py:85: UserWarning: The structure \"1103\" has more than one conformer in PubChem. By default, the first conformer is returned, please ensure you are using the structure you intend to or use the `ase.data.pubchem.pubchem_conformer_search` function\n",
      "  ' function'.format(search))\n"
     ]
    },
    {
     "name": "stdout",
     "output_type": "stream",
     "text": [
      "9\n"
     ]
    },
    {
     "name": "stderr",
     "output_type": "stream",
     "text": [
      "/home/neft/anaconda3/envs/ai/lib/python3.7/site-packages/ase/data/pubchem.py:85: UserWarning: The structure \"5960\" has more than one conformer in PubChem. By default, the first conformer is returned, please ensure you are using the structure you intend to or use the `ase.data.pubchem.pubchem_conformer_search` function\n",
      "  ' function'.format(search))\n"
     ]
    },
    {
     "name": "stdout",
     "output_type": "stream",
     "text": [
      "10\n"
     ]
    },
    {
     "name": "stderr",
     "output_type": "stream",
     "text": [
      "/home/neft/anaconda3/envs/ai/lib/python3.7/site-packages/ase/data/pubchem.py:85: UserWarning: The structure \"6262\" has more than one conformer in PubChem. By default, the first conformer is returned, please ensure you are using the structure you intend to or use the `ase.data.pubchem.pubchem_conformer_search` function\n",
      "  ' function'.format(search))\n"
     ]
    },
    {
     "name": "stdout",
     "output_type": "stream",
     "text": [
      "11\n"
     ]
    },
    {
     "name": "stderr",
     "output_type": "stream",
     "text": [
      "/home/neft/anaconda3/envs/ai/lib/python3.7/site-packages/ase/data/pubchem.py:85: UserWarning: The structure \"5961\" has more than one conformer in PubChem. By default, the first conformer is returned, please ensure you are using the structure you intend to or use the `ase.data.pubchem.pubchem_conformer_search` function\n",
      "  ' function'.format(search))\n"
     ]
    },
    {
     "name": "stdout",
     "output_type": "stream",
     "text": [
      "12\n"
     ]
    },
    {
     "name": "stderr",
     "output_type": "stream",
     "text": [
      "/home/neft/anaconda3/envs/ai/lib/python3.7/site-packages/ase/data/pubchem.py:85: UserWarning: The structure \"6083\" has more than one conformer in PubChem. By default, the first conformer is returned, please ensure you are using the structure you intend to or use the `ase.data.pubchem.pubchem_conformer_search` function\n",
      "  ' function'.format(search))\n"
     ]
    },
    {
     "name": "stdout",
     "output_type": "stream",
     "text": [
      "13\n"
     ]
    },
    {
     "name": "stderr",
     "output_type": "stream",
     "text": [
      "/home/neft/anaconda3/envs/ai/lib/python3.7/site-packages/ase/data/pubchem.py:85: UserWarning: The structure \"5280934\" has more than one conformer in PubChem. By default, the first conformer is returned, please ensure you are using the structure you intend to or use the `ase.data.pubchem.pubchem_conformer_search` function\n",
      "  ' function'.format(search))\n"
     ]
    },
    {
     "name": "stdout",
     "output_type": "stream",
     "text": [
      "14\n"
     ]
    },
    {
     "name": "stderr",
     "output_type": "stream",
     "text": [
      "/home/neft/anaconda3/envs/ai/lib/python3.7/site-packages/ase/data/pubchem.py:85: UserWarning: The structure \"5951\" has more than one conformer in PubChem. By default, the first conformer is returned, please ensure you are using the structure you intend to or use the `ase.data.pubchem.pubchem_conformer_search` function\n",
      "  ' function'.format(search))\n"
     ]
    },
    {
     "name": "stdout",
     "output_type": "stream",
     "text": [
      "15\n"
     ]
    },
    {
     "name": "stderr",
     "output_type": "stream",
     "text": [
      "/home/neft/anaconda3/envs/ai/lib/python3.7/site-packages/ase/data/pubchem.py:85: UserWarning: The structure \"6137\" has more than one conformer in PubChem. By default, the first conformer is returned, please ensure you are using the structure you intend to or use the `ase.data.pubchem.pubchem_conformer_search` function\n",
      "  ' function'.format(search))\n"
     ]
    },
    {
     "name": "stdout",
     "output_type": "stream",
     "text": [
      "16\n"
     ]
    },
    {
     "name": "stderr",
     "output_type": "stream",
     "text": [
      "/home/neft/anaconda3/envs/ai/lib/python3.7/site-packages/ase/data/pubchem.py:85: UserWarning: The structure \"6057\" has more than one conformer in PubChem. By default, the first conformer is returned, please ensure you are using the structure you intend to or use the `ase.data.pubchem.pubchem_conformer_search` function\n",
      "  ' function'.format(search))\n"
     ]
    },
    {
     "name": "stdout",
     "output_type": "stream",
     "text": [
      "17\n"
     ]
    },
    {
     "name": "stderr",
     "output_type": "stream",
     "text": [
      "/home/neft/anaconda3/envs/ai/lib/python3.7/site-packages/ase/data/pubchem.py:85: UserWarning: The structure \"5280453\" has more than one conformer in PubChem. By default, the first conformer is returned, please ensure you are using the structure you intend to or use the `ase.data.pubchem.pubchem_conformer_search` function\n",
      "  ' function'.format(search))\n"
     ]
    },
    {
     "name": "stdout",
     "output_type": "stream",
     "text": [
      "18\n"
     ]
    },
    {
     "name": "stderr",
     "output_type": "stream",
     "text": [
      "/home/neft/anaconda3/envs/ai/lib/python3.7/site-packages/ase/data/pubchem.py:85: UserWarning: The structure \"5281243\" has more than one conformer in PubChem. By default, the first conformer is returned, please ensure you are using the structure you intend to or use the `ase.data.pubchem.pubchem_conformer_search` function\n",
      "  ' function'.format(search))\n"
     ]
    },
    {
     "name": "stdout",
     "output_type": "stream",
     "text": [
      "19\n"
     ]
    },
    {
     "name": "stderr",
     "output_type": "stream",
     "text": [
      "/home/neft/anaconda3/envs/ai/lib/python3.7/site-packages/ase/data/pubchem.py:85: UserWarning: The structure \"67678\" has more than one conformer in PubChem. By default, the first conformer is returned, please ensure you are using the structure you intend to or use the `ase.data.pubchem.pubchem_conformer_search` function\n",
      "  ' function'.format(search))\n"
     ]
    },
    {
     "name": "stdout",
     "output_type": "stream",
     "text": [
      "20\n"
     ]
    },
    {
     "name": "stderr",
     "output_type": "stream",
     "text": [
      "/home/neft/anaconda3/envs/ai/lib/python3.7/site-packages/ase/data/pubchem.py:85: UserWarning: The structure \"1110\" has more than one conformer in PubChem. By default, the first conformer is returned, please ensure you are using the structure you intend to or use the `ase.data.pubchem.pubchem_conformer_search` function\n",
      "  ' function'.format(search))\n"
     ]
    },
    {
     "name": "stdout",
     "output_type": "stream",
     "text": [
      "21\n"
     ]
    },
    {
     "name": "stderr",
     "output_type": "stream",
     "text": [
      "/home/neft/anaconda3/envs/ai/lib/python3.7/site-packages/ase/data/pubchem.py:85: UserWarning: The structure \"493570\" has more than one conformer in PubChem. By default, the first conformer is returned, please ensure you are using the structure you intend to or use the `ase.data.pubchem.pubchem_conformer_search` function\n",
      "  ' function'.format(search))\n"
     ]
    },
    {
     "name": "stdout",
     "output_type": "stream",
     "text": [
      "22\n"
     ]
    },
    {
     "name": "stderr",
     "output_type": "stream",
     "text": [
      "/home/neft/anaconda3/envs/ai/lib/python3.7/site-packages/ase/data/pubchem.py:85: UserWarning: The structure \"1738118\" has more than one conformer in PubChem. By default, the first conformer is returned, please ensure you are using the structure you intend to or use the `ase.data.pubchem.pubchem_conformer_search` function\n",
      "  ' function'.format(search))\n"
     ]
    },
    {
     "name": "stdout",
     "output_type": "stream",
     "text": [
      "23\n"
     ]
    },
    {
     "name": "stderr",
     "output_type": "stream",
     "text": [
      "/home/neft/anaconda3/envs/ai/lib/python3.7/site-packages/ase/data/pubchem.py:85: UserWarning: The structure \"33032\" has more than one conformer in PubChem. By default, the first conformer is returned, please ensure you are using the structure you intend to or use the `ase.data.pubchem.pubchem_conformer_search` function\n",
      "  ' function'.format(search))\n"
     ]
    },
    {
     "name": "stdout",
     "output_type": "stream",
     "text": [
      "24\n"
     ]
    },
    {
     "name": "stderr",
     "output_type": "stream",
     "text": [
      "/home/neft/anaconda3/envs/ai/lib/python3.7/site-packages/ase/data/pubchem.py:85: UserWarning: The structure \"124886\" has more than one conformer in PubChem. By default, the first conformer is returned, please ensure you are using the structure you intend to or use the `ase.data.pubchem.pubchem_conformer_search` function\n",
      "  ' function'.format(search))\n"
     ]
    },
    {
     "name": "stdout",
     "output_type": "stream",
     "text": [
      "25\n"
     ]
    },
    {
     "name": "stderr",
     "output_type": "stream",
     "text": [
      "/home/neft/anaconda3/envs/ai/lib/python3.7/site-packages/ase/data/pubchem.py:85: UserWarning: The structure \"750\" has more than one conformer in PubChem. By default, the first conformer is returned, please ensure you are using the structure you intend to or use the `ase.data.pubchem.pubchem_conformer_search` function\n",
      "  ' function'.format(search))\n"
     ]
    },
    {
     "name": "stdout",
     "output_type": "stream",
     "text": [
      "26\n"
     ]
    },
    {
     "name": "stderr",
     "output_type": "stream",
     "text": [
      "/home/neft/anaconda3/envs/ai/lib/python3.7/site-packages/ase/data/pubchem.py:85: UserWarning: The structure \"1050\" has more than one conformer in PubChem. By default, the first conformer is returned, please ensure you are using the structure you intend to or use the `ase.data.pubchem.pubchem_conformer_search` function\n",
      "  ' function'.format(search))\n"
     ]
    },
    {
     "name": "stdout",
     "output_type": "stream",
     "text": [
      "27\n"
     ]
    },
    {
     "name": "stderr",
     "output_type": "stream",
     "text": [
      "/home/neft/anaconda3/envs/ai/lib/python3.7/site-packages/ase/data/pubchem.py:85: UserWarning: The structure \"586\" has more than one conformer in PubChem. By default, the first conformer is returned, please ensure you are using the structure you intend to or use the `ase.data.pubchem.pubchem_conformer_search` function\n",
      "  ' function'.format(search))\n"
     ]
    },
    {
     "name": "stdout",
     "output_type": "stream",
     "text": [
      "28\n"
     ]
    },
    {
     "name": "stderr",
     "output_type": "stream",
     "text": [
      "/home/neft/anaconda3/envs/ai/lib/python3.7/site-packages/ase/data/pubchem.py:85: UserWarning: The structure \"6106\" has more than one conformer in PubChem. By default, the first conformer is returned, please ensure you are using the structure you intend to or use the `ase.data.pubchem.pubchem_conformer_search` function\n",
      "  ' function'.format(search))\n"
     ]
    },
    {
     "name": "stdout",
     "output_type": "stream",
     "text": [
      "29\n"
     ]
    },
    {
     "name": "stderr",
     "output_type": "stream",
     "text": [
      "/home/neft/anaconda3/envs/ai/lib/python3.7/site-packages/ase/data/pubchem.py:85: UserWarning: The structure \"6305\" has more than one conformer in PubChem. By default, the first conformer is returned, please ensure you are using the structure you intend to or use the `ase.data.pubchem.pubchem_conformer_search` function\n",
      "  ' function'.format(search))\n"
     ]
    },
    {
     "name": "stdout",
     "output_type": "stream",
     "text": [
      "30\n"
     ]
    },
    {
     "name": "stderr",
     "output_type": "stream",
     "text": [
      "/home/neft/anaconda3/envs/ai/lib/python3.7/site-packages/ase/data/pubchem.py:85: UserWarning: The structure \"5862\" has more than one conformer in PubChem. By default, the first conformer is returned, please ensure you are using the structure you intend to or use the `ase.data.pubchem.pubchem_conformer_search` function\n",
      "  ' function'.format(search))\n"
     ]
    },
    {
     "name": "stdout",
     "output_type": "stream",
     "text": [
      "31\n"
     ]
    },
    {
     "name": "stderr",
     "output_type": "stream",
     "text": [
      "/home/neft/anaconda3/envs/ai/lib/python3.7/site-packages/ase/data/pubchem.py:85: UserWarning: The structure \"1130\" has more than one conformer in PubChem. By default, the first conformer is returned, please ensure you are using the structure you intend to or use the `ase.data.pubchem.pubchem_conformer_search` function\n",
      "  ' function'.format(search))\n"
     ]
    },
    {
     "name": "stdout",
     "output_type": "stream",
     "text": [
      "32\n"
     ]
    },
    {
     "name": "stderr",
     "output_type": "stream",
     "text": [
      "/home/neft/anaconda3/envs/ai/lib/python3.7/site-packages/ase/data/pubchem.py:85: UserWarning: The structure \"5280793\" has more than one conformer in PubChem. By default, the first conformer is returned, please ensure you are using the structure you intend to or use the `ase.data.pubchem.pubchem_conformer_search` function\n",
      "  ' function'.format(search))\n"
     ]
    },
    {
     "name": "stdout",
     "output_type": "stream",
     "text": [
      "33\n"
     ]
    },
    {
     "name": "stderr",
     "output_type": "stream",
     "text": [
      "/home/neft/anaconda3/envs/ai/lib/python3.7/site-packages/ase/data/pubchem.py:85: UserWarning: The structure \"9750\" has more than one conformer in PubChem. By default, the first conformer is returned, please ensure you are using the structure you intend to or use the `ase.data.pubchem.pubchem_conformer_search` function\n",
      "  ' function'.format(search))\n"
     ]
    },
    {
     "name": "stdout",
     "output_type": "stream",
     "text": [
      "34\n"
     ]
    },
    {
     "name": "stderr",
     "output_type": "stream",
     "text": [
      "/home/neft/anaconda3/envs/ai/lib/python3.7/site-packages/ase/data/pubchem.py:85: UserWarning: The structure \"6288\" has more than one conformer in PubChem. By default, the first conformer is returned, please ensure you are using the structure you intend to or use the `ase.data.pubchem.pubchem_conformer_search` function\n",
      "  ' function'.format(search))\n"
     ]
    },
    {
     "name": "stdout",
     "output_type": "stream",
     "text": [
      "35\n"
     ]
    },
    {
     "name": "stderr",
     "output_type": "stream",
     "text": [
      "/home/neft/anaconda3/envs/ai/lib/python3.7/site-packages/ase/data/pubchem.py:85: UserWarning: The structure \"439153\" has more than one conformer in PubChem. By default, the first conformer is returned, please ensure you are using the structure you intend to or use the `ase.data.pubchem.pubchem_conformer_search` function\n",
      "  ' function'.format(search))\n"
     ]
    },
    {
     "name": "stdout",
     "output_type": "stream",
     "text": [
      "36\n"
     ]
    },
    {
     "name": "stderr",
     "output_type": "stream",
     "text": [
      "/home/neft/anaconda3/envs/ai/lib/python3.7/site-packages/ase/data/pubchem.py:85: UserWarning: The structure \"5950\" has more than one conformer in PubChem. By default, the first conformer is returned, please ensure you are using the structure you intend to or use the `ase.data.pubchem.pubchem_conformer_search` function\n",
      "  ' function'.format(search))\n"
     ]
    },
    {
     "name": "stdout",
     "output_type": "stream",
     "text": [
      "37\n"
     ]
    },
    {
     "name": "stderr",
     "output_type": "stream",
     "text": [
      "/home/neft/anaconda3/envs/ai/lib/python3.7/site-packages/ase/data/pubchem.py:85: UserWarning: The structure \"6287\" has more than one conformer in PubChem. By default, the first conformer is returned, please ensure you are using the structure you intend to or use the `ase.data.pubchem.pubchem_conformer_search` function\n",
      "  ' function'.format(search))\n"
     ]
    },
    {
     "name": "stdout",
     "output_type": "stream",
     "text": [
      "38\n"
     ]
    },
    {
     "name": "stderr",
     "output_type": "stream",
     "text": [
      "/home/neft/anaconda3/envs/ai/lib/python3.7/site-packages/ase/data/pubchem.py:85: UserWarning: The structure \"445354\" has more than one conformer in PubChem. By default, the first conformer is returned, please ensure you are using the structure you intend to or use the `ase.data.pubchem.pubchem_conformer_search` function\n",
      "  ' function'.format(search))\n"
     ]
    },
    {
     "name": "stdout",
     "output_type": "stream",
     "text": [
      "39\n"
     ]
    },
    {
     "name": "stderr",
     "output_type": "stream",
     "text": [
      "/home/neft/anaconda3/envs/ai/lib/python3.7/site-packages/ase/data/pubchem.py:85: UserWarning: The structure \"14985\" has more than one conformer in PubChem. By default, the first conformer is returned, please ensure you are using the structure you intend to or use the `ase.data.pubchem.pubchem_conformer_search` function\n",
      "  ' function'.format(search))\n"
     ]
    },
    {
     "name": "stdout",
     "output_type": "stream",
     "text": [
      "40\n"
     ]
    },
    {
     "name": "stderr",
     "output_type": "stream",
     "text": [
      "/home/neft/anaconda3/envs/ai/lib/python3.7/site-packages/ase/data/pubchem.py:85: UserWarning: The structure \"1054\" has more than one conformer in PubChem. By default, the first conformer is returned, please ensure you are using the structure you intend to or use the `ase.data.pubchem.pubchem_conformer_search` function\n",
      "  ' function'.format(search))\n"
     ]
    },
    {
     "name": "stdout",
     "output_type": "stream",
     "text": [
      "41\n"
     ]
    },
    {
     "name": "stderr",
     "output_type": "stream",
     "text": [
      "/home/neft/anaconda3/envs/ai/lib/python3.7/site-packages/ase/data/pubchem.py:85: UserWarning: The structure \"6112\" has more than one conformer in PubChem. By default, the first conformer is returned, please ensure you are using the structure you intend to or use the `ase.data.pubchem.pubchem_conformer_search` function\n",
      "  ' function'.format(search))\n"
     ]
    },
    {
     "name": "stdout",
     "output_type": "stream",
     "text": [
      "42\n"
     ]
    },
    {
     "name": "stderr",
     "output_type": "stream",
     "text": [
      "/home/neft/anaconda3/envs/ai/lib/python3.7/site-packages/ase/data/pubchem.py:85: UserWarning: The structure \"6306\" has more than one conformer in PubChem. By default, the first conformer is returned, please ensure you are using the structure you intend to or use the `ase.data.pubchem.pubchem_conformer_search` function\n",
      "  ' function'.format(search))\n"
     ]
    },
    {
     "name": "stdout",
     "output_type": "stream",
     "text": [
      "43\n"
     ]
    },
    {
     "name": "stderr",
     "output_type": "stream",
     "text": [
      "/home/neft/anaconda3/envs/ai/lib/python3.7/site-packages/ase/data/pubchem.py:85: UserWarning: The structure \"5280795\" has more than one conformer in PubChem. By default, the first conformer is returned, please ensure you are using the structure you intend to or use the `ase.data.pubchem.pubchem_conformer_search` function\n",
      "  ' function'.format(search))\n"
     ]
    },
    {
     "name": "stdout",
     "output_type": "stream",
     "text": [
      "44\n",
      "45\n"
     ]
    },
    {
     "name": "stderr",
     "output_type": "stream",
     "text": [
      "/home/neft/anaconda3/envs/ai/lib/python3.7/site-packages/ase/data/pubchem.py:85: UserWarning: The structure \"5957\" has more than one conformer in PubChem. By default, the first conformer is returned, please ensure you are using the structure you intend to or use the `ase.data.pubchem.pubchem_conformer_search` function\n",
      "  ' function'.format(search))\n"
     ]
    },
    {
     "name": "stdout",
     "output_type": "stream",
     "text": [
      "46\n"
     ]
    },
    {
     "name": "stderr",
     "output_type": "stream",
     "text": [
      "/home/neft/anaconda3/envs/ai/lib/python3.7/site-packages/ase/data/pubchem.py:85: UserWarning: The structure \"145742\" has more than one conformer in PubChem. By default, the first conformer is returned, please ensure you are using the structure you intend to or use the `ase.data.pubchem.pubchem_conformer_search` function\n",
      "  ' function'.format(search))\n"
     ]
    },
    {
     "name": "stdout",
     "output_type": "stream",
     "text": [
      "47\n",
      "48\n"
     ]
    },
    {
     "name": "stderr",
     "output_type": "stream",
     "text": [
      "/home/neft/anaconda3/envs/ai/lib/python3.7/site-packages/ase/data/pubchem.py:85: UserWarning: The structure \"6267\" has more than one conformer in PubChem. By default, the first conformer is returned, please ensure you are using the structure you intend to or use the `ase.data.pubchem.pubchem_conformer_search` function\n",
      "  ' function'.format(search))\n"
     ]
    },
    {
     "name": "stdout",
     "output_type": "stream",
     "text": [
      "49\n"
     ]
    },
    {
     "name": "stderr",
     "output_type": "stream",
     "text": [
      "/home/neft/anaconda3/envs/ai/lib/python3.7/site-packages/ase/data/pubchem.py:85: UserWarning: The structure \"54687\" has more than one conformer in PubChem. By default, the first conformer is returned, please ensure you are using the structure you intend to or use the `ase.data.pubchem.pubchem_conformer_search` function\n",
      "  ' function'.format(search))\n"
     ]
    },
    {
     "name": "stdout",
     "output_type": "stream",
     "text": [
      "50\n"
     ]
    },
    {
     "name": "stderr",
     "output_type": "stream",
     "text": [
      "/home/neft/anaconda3/envs/ai/lib/python3.7/site-packages/ase/data/pubchem.py:85: UserWarning: The structure \"3404\" has more than one conformer in PubChem. By default, the first conformer is returned, please ensure you are using the structure you intend to or use the `ase.data.pubchem.pubchem_conformer_search` function\n",
      "  ' function'.format(search))\n"
     ]
    },
    {
     "name": "stdout",
     "output_type": "stream",
     "text": [
      "51\n"
     ]
    },
    {
     "name": "stderr",
     "output_type": "stream",
     "text": [
      "/home/neft/anaconda3/envs/ai/lib/python3.7/site-packages/ase/data/pubchem.py:85: UserWarning: The structure \"60846\" has more than one conformer in PubChem. By default, the first conformer is returned, please ensure you are using the structure you intend to or use the `ase.data.pubchem.pubchem_conformer_search` function\n",
      "  ' function'.format(search))\n"
     ]
    },
    {
     "name": "stdout",
     "output_type": "stream",
     "text": [
      "52\n"
     ]
    },
    {
     "name": "stderr",
     "output_type": "stream",
     "text": [
      "/home/neft/anaconda3/envs/ai/lib/python3.7/site-packages/ase/data/pubchem.py:85: UserWarning: The structure \"5362129\" has more than one conformer in PubChem. By default, the first conformer is returned, please ensure you are using the structure you intend to or use the `ase.data.pubchem.pubchem_conformer_search` function\n",
      "  ' function'.format(search))\n"
     ]
    },
    {
     "name": "stdout",
     "output_type": "stream",
     "text": [
      "53\n"
     ]
    },
    {
     "name": "stderr",
     "output_type": "stream",
     "text": [
      "/home/neft/anaconda3/envs/ai/lib/python3.7/site-packages/ase/data/pubchem.py:85: UserWarning: The structure \"71398\" has more than one conformer in PubChem. By default, the first conformer is returned, please ensure you are using the structure you intend to or use the `ase.data.pubchem.pubchem_conformer_search` function\n",
      "  ' function'.format(search))\n"
     ]
    },
    {
     "name": "stdout",
     "output_type": "stream",
     "text": [
      "54\n"
     ]
    },
    {
     "name": "stderr",
     "output_type": "stream",
     "text": [
      "/home/neft/anaconda3/envs/ai/lib/python3.7/site-packages/ase/data/pubchem.py:85: UserWarning: The structure \"82153\" has more than one conformer in PubChem. By default, the first conformer is returned, please ensure you are using the structure you intend to or use the `ase.data.pubchem.pubchem_conformer_search` function\n",
      "  ' function'.format(search))\n"
     ]
    },
    {
     "name": "stdout",
     "output_type": "stream",
     "text": [
      "55\n"
     ]
    },
    {
     "name": "stderr",
     "output_type": "stream",
     "text": [
      "/home/neft/anaconda3/envs/ai/lib/python3.7/site-packages/ase/data/pubchem.py:85: UserWarning: The structure \"2284\" has more than one conformer in PubChem. By default, the first conformer is returned, please ensure you are using the structure you intend to or use the `ase.data.pubchem.pubchem_conformer_search` function\n",
      "  ' function'.format(search))\n"
     ]
    },
    {
     "name": "stdout",
     "output_type": "stream",
     "text": [
      "56\n"
     ]
    },
    {
     "name": "stderr",
     "output_type": "stream",
     "text": [
      "/home/neft/anaconda3/envs/ai/lib/python3.7/site-packages/ase/data/pubchem.py:85: UserWarning: The structure \"3007\" has more than one conformer in PubChem. By default, the first conformer is returned, please ensure you are using the structure you intend to or use the `ase.data.pubchem.pubchem_conformer_search` function\n",
      "  ' function'.format(search))\n"
     ]
    },
    {
     "name": "stdout",
     "output_type": "stream",
     "text": [
      "57\n"
     ]
    },
    {
     "name": "stderr",
     "output_type": "stream",
     "text": [
      "/home/neft/anaconda3/envs/ai/lib/python3.7/site-packages/ase/data/pubchem.py:85: UserWarning: The structure \"89594\" has more than one conformer in PubChem. By default, the first conformer is returned, please ensure you are using the structure you intend to or use the `ase.data.pubchem.pubchem_conformer_search` function\n",
      "  ' function'.format(search))\n"
     ]
    },
    {
     "name": "stdout",
     "output_type": "stream",
     "text": [
      "58\n"
     ]
    },
    {
     "name": "stderr",
     "output_type": "stream",
     "text": [
      "/home/neft/anaconda3/envs/ai/lib/python3.7/site-packages/ase/data/pubchem.py:85: UserWarning: The structure \"3958\" has more than one conformer in PubChem. By default, the first conformer is returned, please ensure you are using the structure you intend to or use the `ase.data.pubchem.pubchem_conformer_search` function\n",
      "  ' function'.format(search))\n"
     ]
    },
    {
     "name": "stdout",
     "output_type": "stream",
     "text": [
      "59\n"
     ]
    },
    {
     "name": "stderr",
     "output_type": "stream",
     "text": [
      "/home/neft/anaconda3/envs/ai/lib/python3.7/site-packages/ase/data/pubchem.py:85: UserWarning: The structure \"34359\" has more than one conformer in PubChem. By default, the first conformer is returned, please ensure you are using the structure you intend to or use the `ase.data.pubchem.pubchem_conformer_search` function\n",
      "  ' function'.format(search))\n"
     ]
    },
    {
     "name": "stdout",
     "output_type": "stream",
     "text": [
      "60\n"
     ]
    },
    {
     "name": "stderr",
     "output_type": "stream",
     "text": [
      "/home/neft/anaconda3/envs/ai/lib/python3.7/site-packages/ase/data/pubchem.py:85: UserWarning: The structure \"4771\" has more than one conformer in PubChem. By default, the first conformer is returned, please ensure you are using the structure you intend to or use the `ase.data.pubchem.pubchem_conformer_search` function\n",
      "  ' function'.format(search))\n"
     ]
    },
    {
     "name": "stdout",
     "output_type": "stream",
     "text": [
      "61\n"
     ]
    },
    {
     "name": "stderr",
     "output_type": "stream",
     "text": [
      "/home/neft/anaconda3/envs/ai/lib/python3.7/site-packages/ase/data/pubchem.py:85: UserWarning: The structure \"52195\" has more than one conformer in PubChem. By default, the first conformer is returned, please ensure you are using the structure you intend to or use the `ase.data.pubchem.pubchem_conformer_search` function\n",
      "  ' function'.format(search))\n"
     ]
    },
    {
     "name": "stdout",
     "output_type": "stream",
     "text": [
      "62\n"
     ]
    },
    {
     "name": "stderr",
     "output_type": "stream",
     "text": [
      "/home/neft/anaconda3/envs/ai/lib/python3.7/site-packages/ase/data/pubchem.py:85: UserWarning: The structure \"33741\" has more than one conformer in PubChem. By default, the first conformer is returned, please ensure you are using the structure you intend to or use the `ase.data.pubchem.pubchem_conformer_search` function\n",
      "  ' function'.format(search))\n"
     ]
    },
    {
     "name": "stdout",
     "output_type": "stream",
     "text": [
      "63\n"
     ]
    },
    {
     "name": "stderr",
     "output_type": "stream",
     "text": [
      "/home/neft/anaconda3/envs/ai/lib/python3.7/site-packages/ase/data/pubchem.py:85: UserWarning: The structure \"2369\" has more than one conformer in PubChem. By default, the first conformer is returned, please ensure you are using the structure you intend to or use the `ase.data.pubchem.pubchem_conformer_search` function\n",
      "  ' function'.format(search))\n"
     ]
    },
    {
     "name": "stdout",
     "output_type": "stream",
     "text": [
      "64\n"
     ]
    },
    {
     "name": "stderr",
     "output_type": "stream",
     "text": [
      "/home/neft/anaconda3/envs/ai/lib/python3.7/site-packages/ase/data/pubchem.py:85: UserWarning: The structure \"3365\" has more than one conformer in PubChem. By default, the first conformer is returned, please ensure you are using the structure you intend to or use the `ase.data.pubchem.pubchem_conformer_search` function\n",
      "  ' function'.format(search))\n"
     ]
    },
    {
     "name": "stdout",
     "output_type": "stream",
     "text": [
      "65\n"
     ]
    },
    {
     "name": "stderr",
     "output_type": "stream",
     "text": [
      "/home/neft/anaconda3/envs/ai/lib/python3.7/site-packages/ase/data/pubchem.py:85: UserWarning: The structure \"5591\" has more than one conformer in PubChem. By default, the first conformer is returned, please ensure you are using the structure you intend to or use the `ase.data.pubchem.pubchem_conformer_search` function\n",
      "  ' function'.format(search))\n"
     ]
    },
    {
     "name": "stdout",
     "output_type": "stream",
     "text": [
      "66\n",
      "67\n"
     ]
    },
    {
     "name": "stderr",
     "output_type": "stream",
     "text": [
      "/home/neft/anaconda3/envs/ai/lib/python3.7/site-packages/ase/data/pubchem.py:85: UserWarning: The structure \"135398744\" has more than one conformer in PubChem. By default, the first conformer is returned, please ensure you are using the structure you intend to or use the `ase.data.pubchem.pubchem_conformer_search` function\n",
      "  ' function'.format(search))\n"
     ]
    },
    {
     "name": "stdout",
     "output_type": "stream",
     "text": [
      "68\n",
      "69\n"
     ]
    },
    {
     "name": "stderr",
     "output_type": "stream",
     "text": [
      "/home/neft/anaconda3/envs/ai/lib/python3.7/site-packages/ase/data/pubchem.py:85: UserWarning: The structure \"5770\" has more than one conformer in PubChem. By default, the first conformer is returned, please ensure you are using the structure you intend to or use the `ase.data.pubchem.pubchem_conformer_search` function\n",
      "  ' function'.format(search))\n"
     ]
    },
    {
     "name": "stdout",
     "output_type": "stream",
     "text": [
      "70\n"
     ]
    },
    {
     "name": "stderr",
     "output_type": "stream",
     "text": [
      "/home/neft/anaconda3/envs/ai/lib/python3.7/site-packages/ase/data/pubchem.py:85: UserWarning: The structure \"4195\" has more than one conformer in PubChem. By default, the first conformer is returned, please ensure you are using the structure you intend to or use the `ase.data.pubchem.pubchem_conformer_search` function\n",
      "  ' function'.format(search))\n"
     ]
    },
    {
     "name": "stdout",
     "output_type": "stream",
     "text": [
      "71\n"
     ]
    },
    {
     "name": "stderr",
     "output_type": "stream",
     "text": [
      "/home/neft/anaconda3/envs/ai/lib/python3.7/site-packages/ase/data/pubchem.py:85: UserWarning: The structure \"4679\" has more than one conformer in PubChem. By default, the first conformer is returned, please ensure you are using the structure you intend to or use the `ase.data.pubchem.pubchem_conformer_search` function\n",
      "  ' function'.format(search))\n"
     ]
    },
    {
     "name": "stdout",
     "output_type": "stream",
     "text": [
      "72\n"
     ]
    },
    {
     "name": "stderr",
     "output_type": "stream",
     "text": [
      "/home/neft/anaconda3/envs/ai/lib/python3.7/site-packages/ase/data/pubchem.py:85: UserWarning: The structure \"41781\" has more than one conformer in PubChem. By default, the first conformer is returned, please ensure you are using the structure you intend to or use the `ase.data.pubchem.pubchem_conformer_search` function\n",
      "  ' function'.format(search))\n"
     ]
    },
    {
     "name": "stdout",
     "output_type": "stream",
     "text": [
      "73\n"
     ]
    },
    {
     "name": "stderr",
     "output_type": "stream",
     "text": [
      "/home/neft/anaconda3/envs/ai/lib/python3.7/site-packages/ase/data/pubchem.py:85: UserWarning: The structure \"2771\" has more than one conformer in PubChem. By default, the first conformer is returned, please ensure you are using the structure you intend to or use the `ase.data.pubchem.pubchem_conformer_search` function\n",
      "  ' function'.format(search))\n"
     ]
    },
    {
     "name": "stdout",
     "output_type": "stream",
     "text": [
      "74\n"
     ]
    },
    {
     "name": "stderr",
     "output_type": "stream",
     "text": [
      "/home/neft/anaconda3/envs/ai/lib/python3.7/site-packages/ase/data/pubchem.py:85: UserWarning: The structure \"2368\" has more than one conformer in PubChem. By default, the first conformer is returned, please ensure you are using the structure you intend to or use the `ase.data.pubchem.pubchem_conformer_search` function\n",
      "  ' function'.format(search))\n"
     ]
    },
    {
     "name": "stdout",
     "output_type": "stream",
     "text": [
      "75\n"
     ]
    },
    {
     "name": "stderr",
     "output_type": "stream",
     "text": [
      "/home/neft/anaconda3/envs/ai/lib/python3.7/site-packages/ase/data/pubchem.py:85: UserWarning: The structure \"152946\" has more than one conformer in PubChem. By default, the first conformer is returned, please ensure you are using the structure you intend to or use the `ase.data.pubchem.pubchem_conformer_search` function\n",
      "  ' function'.format(search))\n"
     ]
    },
    {
     "name": "stdout",
     "output_type": "stream",
     "text": [
      "76\n"
     ]
    },
    {
     "name": "stderr",
     "output_type": "stream",
     "text": [
      "/home/neft/anaconda3/envs/ai/lib/python3.7/site-packages/ase/data/pubchem.py:85: UserWarning: The structure \"5749\" has more than one conformer in PubChem. By default, the first conformer is returned, please ensure you are using the structure you intend to or use the `ase.data.pubchem.pubchem_conformer_search` function\n",
      "  ' function'.format(search))\n"
     ]
    },
    {
     "name": "stdout",
     "output_type": "stream",
     "text": [
      "77\n"
     ]
    },
    {
     "name": "stderr",
     "output_type": "stream",
     "text": [
      "/home/neft/anaconda3/envs/ai/lib/python3.7/site-packages/ase/data/pubchem.py:85: UserWarning: The structure \"64143\" has more than one conformer in PubChem. By default, the first conformer is returned, please ensure you are using the structure you intend to or use the `ase.data.pubchem.pubchem_conformer_search` function\n",
      "  ' function'.format(search))\n"
     ]
    },
    {
     "name": "stdout",
     "output_type": "stream",
     "text": [
      "78\n"
     ]
    },
    {
     "name": "stderr",
     "output_type": "stream",
     "text": [
      "/home/neft/anaconda3/envs/ai/lib/python3.7/site-packages/ase/data/pubchem.py:85: UserWarning: The structure \"3476\" has more than one conformer in PubChem. By default, the first conformer is returned, please ensure you are using the structure you intend to or use the `ase.data.pubchem.pubchem_conformer_search` function\n",
      "  ' function'.format(search))\n"
     ]
    },
    {
     "name": "stdout",
     "output_type": "stream",
     "text": [
      "79\n"
     ]
    },
    {
     "name": "stderr",
     "output_type": "stream",
     "text": [
      "/home/neft/anaconda3/envs/ai/lib/python3.7/site-packages/ase/data/pubchem.py:85: UserWarning: The structure \"5362440\" has more than one conformer in PubChem. By default, the first conformer is returned, please ensure you are using the structure you intend to or use the `ase.data.pubchem.pubchem_conformer_search` function\n",
      "  ' function'.format(search))\n"
     ]
    },
    {
     "name": "stdout",
     "output_type": "stream",
     "text": [
      "80\n"
     ]
    },
    {
     "name": "stderr",
     "output_type": "stream",
     "text": [
      "/home/neft/anaconda3/envs/ai/lib/python3.7/site-packages/ase/data/pubchem.py:85: UserWarning: The structure \"38521\" has more than one conformer in PubChem. By default, the first conformer is returned, please ensure you are using the structure you intend to or use the `ase.data.pubchem.pubchem_conformer_search` function\n",
      "  ' function'.format(search))\n"
     ]
    },
    {
     "name": "stdout",
     "output_type": "stream",
     "text": [
      "81\n"
     ]
    },
    {
     "name": "stderr",
     "output_type": "stream",
     "text": [
      "/home/neft/anaconda3/envs/ai/lib/python3.7/site-packages/ase/data/pubchem.py:85: UserWarning: The structure \"53232\" has more than one conformer in PubChem. By default, the first conformer is returned, please ensure you are using the structure you intend to or use the `ase.data.pubchem.pubchem_conformer_search` function\n",
      "  ' function'.format(search))\n"
     ]
    },
    {
     "name": "stdout",
     "output_type": "stream",
     "text": [
      "82\n"
     ]
    },
    {
     "name": "stderr",
     "output_type": "stream",
     "text": [
      "/home/neft/anaconda3/envs/ai/lib/python3.7/site-packages/ase/data/pubchem.py:85: UserWarning: The structure \"5486971\" has more than one conformer in PubChem. By default, the first conformer is returned, please ensure you are using the structure you intend to or use the `ase.data.pubchem.pubchem_conformer_search` function\n",
      "  ' function'.format(search))\n"
     ]
    },
    {
     "name": "stdout",
     "output_type": "stream",
     "text": [
      "83\n"
     ]
    },
    {
     "name": "stderr",
     "output_type": "stream",
     "text": [
      "/home/neft/anaconda3/envs/ai/lib/python3.7/site-packages/ase/data/pubchem.py:85: UserWarning: The structure \"5391\" has more than one conformer in PubChem. By default, the first conformer is returned, please ensure you are using the structure you intend to or use the `ase.data.pubchem.pubchem_conformer_search` function\n",
      "  ' function'.format(search))\n"
     ]
    },
    {
     "name": "stdout",
     "output_type": "stream",
     "text": [
      "84\n"
     ]
    },
    {
     "name": "stderr",
     "output_type": "stream",
     "text": [
      "/home/neft/anaconda3/envs/ai/lib/python3.7/site-packages/ase/data/pubchem.py:85: UserWarning: The structure \"4121\" has more than one conformer in PubChem. By default, the first conformer is returned, please ensure you are using the structure you intend to or use the `ase.data.pubchem.pubchem_conformer_search` function\n",
      "  ' function'.format(search))\n"
     ]
    },
    {
     "name": "stdout",
     "output_type": "stream",
     "text": [
      "85\n"
     ]
    },
    {
     "name": "stderr",
     "output_type": "stream",
     "text": [
      "/home/neft/anaconda3/envs/ai/lib/python3.7/site-packages/ase/data/pubchem.py:85: UserWarning: The structure \"4649\" has more than one conformer in PubChem. By default, the first conformer is returned, please ensure you are using the structure you intend to or use the `ase.data.pubchem.pubchem_conformer_search` function\n",
      "  ' function'.format(search))\n"
     ]
    },
    {
     "name": "stdout",
     "output_type": "stream",
     "text": [
      "86\n"
     ]
    },
    {
     "name": "stderr",
     "output_type": "stream",
     "text": [
      "/home/neft/anaconda3/envs/ai/lib/python3.7/site-packages/ase/data/pubchem.py:85: UserWarning: The structure \"2479\" has more than one conformer in PubChem. By default, the first conformer is returned, please ensure you are using the structure you intend to or use the `ase.data.pubchem.pubchem_conformer_search` function\n",
      "  ' function'.format(search))\n"
     ]
    },
    {
     "name": "stdout",
     "output_type": "stream",
     "text": [
      "87\n"
     ]
    },
    {
     "name": "stderr",
     "output_type": "stream",
     "text": [
      "/home/neft/anaconda3/envs/ai/lib/python3.7/site-packages/ase/data/pubchem.py:85: UserWarning: The structure \"4463\" has more than one conformer in PubChem. By default, the first conformer is returned, please ensure you are using the structure you intend to or use the `ase.data.pubchem.pubchem_conformer_search` function\n",
      "  ' function'.format(search))\n"
     ]
    },
    {
     "name": "stdout",
     "output_type": "stream",
     "text": [
      "88\n"
     ]
    },
    {
     "name": "stderr",
     "output_type": "stream",
     "text": [
      "/home/neft/anaconda3/envs/ai/lib/python3.7/site-packages/ase/data/pubchem.py:85: UserWarning: The structure \"2481\" has more than one conformer in PubChem. By default, the first conformer is returned, please ensure you are using the structure you intend to or use the `ase.data.pubchem.pubchem_conformer_search` function\n",
      "  ' function'.format(search))\n"
     ]
    },
    {
     "name": "stdout",
     "output_type": "stream",
     "text": [
      "89\n"
     ]
    },
    {
     "name": "stderr",
     "output_type": "stream",
     "text": [
      "/home/neft/anaconda3/envs/ai/lib/python3.7/site-packages/ase/data/pubchem.py:85: UserWarning: The structure \"20279\" has more than one conformer in PubChem. By default, the first conformer is returned, please ensure you are using the structure you intend to or use the `ase.data.pubchem.pubchem_conformer_search` function\n",
      "  ' function'.format(search))\n"
     ]
    },
    {
     "name": "stdout",
     "output_type": "stream",
     "text": [
      "90\n"
     ]
    },
    {
     "name": "stderr",
     "output_type": "stream",
     "text": [
      "/home/neft/anaconda3/envs/ai/lib/python3.7/site-packages/ase/data/pubchem.py:85: UserWarning: The structure \"56959\" has more than one conformer in PubChem. By default, the first conformer is returned, please ensure you are using the structure you intend to or use the `ase.data.pubchem.pubchem_conformer_search` function\n",
      "  ' function'.format(search))\n"
     ]
    },
    {
     "name": "stdout",
     "output_type": "stream",
     "text": [
      "91\n"
     ]
    },
    {
     "name": "stderr",
     "output_type": "stream",
     "text": [
      "/home/neft/anaconda3/envs/ai/lib/python3.7/site-packages/ase/data/pubchem.py:85: UserWarning: The structure \"4075\" has more than one conformer in PubChem. By default, the first conformer is returned, please ensure you are using the structure you intend to or use the `ase.data.pubchem.pubchem_conformer_search` function\n",
      "  ' function'.format(search))\n"
     ]
    },
    {
     "name": "stdout",
     "output_type": "stream",
     "text": [
      "92\n"
     ]
    },
    {
     "name": "stderr",
     "output_type": "stream",
     "text": [
      "/home/neft/anaconda3/envs/ai/lib/python3.7/site-packages/ase/data/pubchem.py:85: UserWarning: The structure \"1201549\" has more than one conformer in PubChem. By default, the first conformer is returned, please ensure you are using the structure you intend to or use the `ase.data.pubchem.pubchem_conformer_search` function\n",
      "  ' function'.format(search))\n"
     ]
    },
    {
     "name": "stdout",
     "output_type": "stream",
     "text": [
      "93\n"
     ]
    },
    {
     "name": "stderr",
     "output_type": "stream",
     "text": [
      "/home/neft/anaconda3/envs/ai/lib/python3.7/site-packages/ase/data/pubchem.py:85: UserWarning: The structure \"6540428\" has more than one conformer in PubChem. By default, the first conformer is returned, please ensure you are using the structure you intend to or use the `ase.data.pubchem.pubchem_conformer_search` function\n",
      "  ' function'.format(search))\n"
     ]
    },
    {
     "name": "stdout",
     "output_type": "stream",
     "text": [
      "94\n"
     ]
    },
    {
     "name": "stderr",
     "output_type": "stream",
     "text": [
      "/home/neft/anaconda3/envs/ai/lib/python3.7/site-packages/ase/data/pubchem.py:85: UserWarning: The structure \"54746\" has more than one conformer in PubChem. By default, the first conformer is returned, please ensure you are using the structure you intend to or use the `ase.data.pubchem.pubchem_conformer_search` function\n",
      "  ' function'.format(search))\n"
     ]
    },
    {
     "name": "stdout",
     "output_type": "stream",
     "text": [
      "95\n"
     ]
    },
    {
     "name": "stderr",
     "output_type": "stream",
     "text": [
      "/home/neft/anaconda3/envs/ai/lib/python3.7/site-packages/ase/data/pubchem.py:85: UserWarning: The structure \"5905\" has more than one conformer in PubChem. By default, the first conformer is returned, please ensure you are using the structure you intend to or use the `ase.data.pubchem.pubchem_conformer_search` function\n",
      "  ' function'.format(search))\n"
     ]
    },
    {
     "name": "stdout",
     "output_type": "stream",
     "text": [
      "96\n",
      "97\n"
     ]
    },
    {
     "name": "stderr",
     "output_type": "stream",
     "text": [
      "/home/neft/anaconda3/envs/ai/lib/python3.7/site-packages/ase/data/pubchem.py:85: UserWarning: The structure \"441383\" has more than one conformer in PubChem. By default, the first conformer is returned, please ensure you are using the structure you intend to or use the `ase.data.pubchem.pubchem_conformer_search` function\n",
      "  ' function'.format(search))\n"
     ]
    },
    {
     "name": "stdout",
     "output_type": "stream",
     "text": [
      "98\n"
     ]
    },
    {
     "name": "stderr",
     "output_type": "stream",
     "text": [
      "/home/neft/anaconda3/envs/ai/lib/python3.7/site-packages/ase/data/pubchem.py:85: UserWarning: The structure \"1775\" has more than one conformer in PubChem. By default, the first conformer is returned, please ensure you are using the structure you intend to or use the `ase.data.pubchem.pubchem_conformer_search` function\n",
      "  ' function'.format(search))\n"
     ]
    },
    {
     "name": "stdout",
     "output_type": "stream",
     "text": [
      "99\n"
     ]
    },
    {
     "name": "stderr",
     "output_type": "stream",
     "text": [
      "/home/neft/anaconda3/envs/ai/lib/python3.7/site-packages/ase/data/pubchem.py:85: UserWarning: The structure \"247839\" has more than one conformer in PubChem. By default, the first conformer is returned, please ensure you are using the structure you intend to or use the `ase.data.pubchem.pubchem_conformer_search` function\n",
      "  ' function'.format(search))\n"
     ]
    },
    {
     "name": "stdout",
     "output_type": "stream",
     "text": [
      "100\n"
     ]
    },
    {
     "name": "stderr",
     "output_type": "stream",
     "text": [
      "/home/neft/anaconda3/envs/ai/lib/python3.7/site-packages/ase/data/pubchem.py:85: UserWarning: The structure \"54671203\" has more than one conformer in PubChem. By default, the first conformer is returned, please ensure you are using the structure you intend to or use the `ase.data.pubchem.pubchem_conformer_search` function\n",
      "  ' function'.format(search))\n"
     ]
    },
    {
     "name": "stdout",
     "output_type": "stream",
     "text": [
      "101\n"
     ]
    },
    {
     "name": "stderr",
     "output_type": "stream",
     "text": [
      "/home/neft/anaconda3/envs/ai/lib/python3.7/site-packages/ase/data/pubchem.py:85: UserWarning: The structure \"3054\" has more than one conformer in PubChem. By default, the first conformer is returned, please ensure you are using the structure you intend to or use the `ase.data.pubchem.pubchem_conformer_search` function\n",
      "  ' function'.format(search))\n"
     ]
    },
    {
     "name": "stdout",
     "output_type": "stream",
     "text": [
      "102\n"
     ]
    },
    {
     "name": "stderr",
     "output_type": "stream",
     "text": [
      "/home/neft/anaconda3/envs/ai/lib/python3.7/site-packages/ase/data/pubchem.py:85: UserWarning: The structure \"2812\" has more than one conformer in PubChem. By default, the first conformer is returned, please ensure you are using the structure you intend to or use the `ase.data.pubchem.pubchem_conformer_search` function\n",
      "  ' function'.format(search))\n"
     ]
    },
    {
     "name": "stdout",
     "output_type": "stream",
     "text": [
      "103\n",
      "104\n",
      "105\n",
      "106\n"
     ]
    },
    {
     "name": "stderr",
     "output_type": "stream",
     "text": [
      "/home/neft/anaconda3/envs/ai/lib/python3.7/site-packages/ase/data/pubchem.py:85: UserWarning: The structure \"2578\" has more than one conformer in PubChem. By default, the first conformer is returned, please ensure you are using the structure you intend to or use the `ase.data.pubchem.pubchem_conformer_search` function\n",
      "  ' function'.format(search))\n"
     ]
    },
    {
     "name": "stdout",
     "output_type": "stream",
     "text": [
      "107\n"
     ]
    },
    {
     "name": "stderr",
     "output_type": "stream",
     "text": [
      "/home/neft/anaconda3/envs/ai/lib/python3.7/site-packages/ase/data/pubchem.py:85: UserWarning: The structure \"5344\" has more than one conformer in PubChem. By default, the first conformer is returned, please ensure you are using the structure you intend to or use the `ase.data.pubchem.pubchem_conformer_search` function\n",
      "  ' function'.format(search))\n"
     ]
    },
    {
     "name": "stdout",
     "output_type": "stream",
     "text": [
      "108\n"
     ]
    },
    {
     "name": "stderr",
     "output_type": "stream",
     "text": [
      "/home/neft/anaconda3/envs/ai/lib/python3.7/site-packages/ase/data/pubchem.py:85: UserWarning: The structure \"4171\" has more than one conformer in PubChem. By default, the first conformer is returned, please ensure you are using the structure you intend to or use the `ase.data.pubchem.pubchem_conformer_search` function\n",
      "  ' function'.format(search))\n"
     ]
    },
    {
     "name": "stdout",
     "output_type": "stream",
     "text": [
      "109\n"
     ]
    },
    {
     "name": "stderr",
     "output_type": "stream",
     "text": [
      "/home/neft/anaconda3/envs/ai/lib/python3.7/site-packages/ase/data/pubchem.py:85: UserWarning: The structure \"54676038\" has more than one conformer in PubChem. By default, the first conformer is returned, please ensure you are using the structure you intend to or use the `ase.data.pubchem.pubchem_conformer_search` function\n",
      "  ' function'.format(search))\n"
     ]
    },
    {
     "name": "stdout",
     "output_type": "stream",
     "text": [
      "110\n"
     ]
    },
    {
     "name": "stderr",
     "output_type": "stream",
     "text": [
      "/home/neft/anaconda3/envs/ai/lib/python3.7/site-packages/ase/data/pubchem.py:85: UserWarning: The structure \"5095\" has more than one conformer in PubChem. By default, the first conformer is returned, please ensure you are using the structure you intend to or use the `ase.data.pubchem.pubchem_conformer_search` function\n",
      "  ' function'.format(search))\n"
     ]
    },
    {
     "name": "stdout",
     "output_type": "stream",
     "text": [
      "111\n"
     ]
    },
    {
     "name": "stderr",
     "output_type": "stream",
     "text": [
      "/home/neft/anaconda3/envs/ai/lib/python3.7/site-packages/ase/data/pubchem.py:85: UserWarning: The structure \"11289\" has more than one conformer in PubChem. By default, the first conformer is returned, please ensure you are using the structure you intend to or use the `ase.data.pubchem.pubchem_conformer_search` function\n",
      "  ' function'.format(search))\n"
     ]
    },
    {
     "name": "stdout",
     "output_type": "stream",
     "text": [
      "112\n"
     ]
    },
    {
     "name": "stderr",
     "output_type": "stream",
     "text": [
      "/home/neft/anaconda3/envs/ai/lib/python3.7/site-packages/ase/data/pubchem.py:85: UserWarning: The structure \"3784\" has more than one conformer in PubChem. By default, the first conformer is returned, please ensure you are using the structure you intend to or use the `ase.data.pubchem.pubchem_conformer_search` function\n",
      "  ' function'.format(search))\n"
     ]
    },
    {
     "name": "stdout",
     "output_type": "stream",
     "text": [
      "113\n"
     ]
    },
    {
     "name": "stderr",
     "output_type": "stream",
     "text": [
      "/home/neft/anaconda3/envs/ai/lib/python3.7/site-packages/ase/data/pubchem.py:85: UserWarning: The structure \"2140\" has more than one conformer in PubChem. By default, the first conformer is returned, please ensure you are using the structure you intend to or use the `ase.data.pubchem.pubchem_conformer_search` function\n",
      "  ' function'.format(search))\n"
     ]
    },
    {
     "name": "stdout",
     "output_type": "stream",
     "text": [
      "114\n"
     ]
    },
    {
     "name": "stderr",
     "output_type": "stream",
     "text": [
      "/home/neft/anaconda3/envs/ai/lib/python3.7/site-packages/ase/data/pubchem.py:85: UserWarning: The structure \"5284627\" has more than one conformer in PubChem. By default, the first conformer is returned, please ensure you are using the structure you intend to or use the `ase.data.pubchem.pubchem_conformer_search` function\n",
      "  ' function'.format(search))\n"
     ]
    },
    {
     "name": "stdout",
     "output_type": "stream",
     "text": [
      "115\n"
     ]
    },
    {
     "name": "stderr",
     "output_type": "stream",
     "text": [
      "/home/neft/anaconda3/envs/ai/lib/python3.7/site-packages/ase/data/pubchem.py:85: UserWarning: The structure \"158781\" has more than one conformer in PubChem. By default, the first conformer is returned, please ensure you are using the structure you intend to or use the `ase.data.pubchem.pubchem_conformer_search` function\n",
      "  ' function'.format(search))\n"
     ]
    },
    {
     "name": "stdout",
     "output_type": "stream",
     "text": [
      "116\n"
     ]
    },
    {
     "name": "stderr",
     "output_type": "stream",
     "text": [
      "/home/neft/anaconda3/envs/ai/lib/python3.7/site-packages/ase/data/pubchem.py:85: UserWarning: The structure \"2179\" has more than one conformer in PubChem. By default, the first conformer is returned, please ensure you are using the structure you intend to or use the `ase.data.pubchem.pubchem_conformer_search` function\n",
      "  ' function'.format(search))\n"
     ]
    },
    {
     "name": "stdout",
     "output_type": "stream",
     "text": [
      "117\n",
      "118\n"
     ]
    },
    {
     "name": "stderr",
     "output_type": "stream",
     "text": [
      "/home/neft/anaconda3/envs/ai/lib/python3.7/site-packages/ase/data/pubchem.py:85: UserWarning: The structure \"5920\" has more than one conformer in PubChem. By default, the first conformer is returned, please ensure you are using the structure you intend to or use the `ase.data.pubchem.pubchem_conformer_search` function\n",
      "  ' function'.format(search))\n"
     ]
    },
    {
     "name": "stdout",
     "output_type": "stream",
     "text": [
      "119\n"
     ]
    },
    {
     "name": "stderr",
     "output_type": "stream",
     "text": [
      "/home/neft/anaconda3/envs/ai/lib/python3.7/site-packages/ase/data/pubchem.py:85: UserWarning: The structure \"3114\" has more than one conformer in PubChem. By default, the first conformer is returned, please ensure you are using the structure you intend to or use the `ase.data.pubchem.pubchem_conformer_search` function\n",
      "  ' function'.format(search))\n"
     ]
    },
    {
     "name": "stdout",
     "output_type": "stream",
     "text": [
      "120\n"
     ]
    },
    {
     "name": "stderr",
     "output_type": "stream",
     "text": [
      "/home/neft/anaconda3/envs/ai/lib/python3.7/site-packages/ase/data/pubchem.py:85: UserWarning: The structure \"3676\" has more than one conformer in PubChem. By default, the first conformer is returned, please ensure you are using the structure you intend to or use the `ase.data.pubchem.pubchem_conformer_search` function\n",
      "  ' function'.format(search))\n"
     ]
    },
    {
     "name": "stdout",
     "output_type": "stream",
     "text": [
      "121\n"
     ]
    },
    {
     "name": "stderr",
     "output_type": "stream",
     "text": [
      "/home/neft/anaconda3/envs/ai/lib/python3.7/site-packages/ase/data/pubchem.py:85: UserWarning: The structure \"26987\" has more than one conformer in PubChem. By default, the first conformer is returned, please ensure you are using the structure you intend to or use the `ase.data.pubchem.pubchem_conformer_search` function\n",
      "  ' function'.format(search))\n"
     ]
    },
    {
     "name": "stdout",
     "output_type": "stream",
     "text": [
      "122\n"
     ]
    },
    {
     "name": "stderr",
     "output_type": "stream",
     "text": [
      "/home/neft/anaconda3/envs/ai/lib/python3.7/site-packages/ase/data/pubchem.py:85: UserWarning: The structure \"54841\" has more than one conformer in PubChem. By default, the first conformer is returned, please ensure you are using the structure you intend to or use the `ase.data.pubchem.pubchem_conformer_search` function\n",
      "  ' function'.format(search))\n"
     ]
    },
    {
     "name": "stdout",
     "output_type": "stream",
     "text": [
      "123\n"
     ]
    },
    {
     "name": "stderr",
     "output_type": "stream",
     "text": [
      "/home/neft/anaconda3/envs/ai/lib/python3.7/site-packages/ase/data/pubchem.py:85: UserWarning: The structure \"2708\" has more than one conformer in PubChem. By default, the first conformer is returned, please ensure you are using the structure you intend to or use the `ase.data.pubchem.pubchem_conformer_search` function\n",
      "  ' function'.format(search))\n"
     ]
    },
    {
     "name": "stdout",
     "output_type": "stream",
     "text": [
      "124\n"
     ]
    },
    {
     "name": "stderr",
     "output_type": "stream",
     "text": [
      "/home/neft/anaconda3/envs/ai/lib/python3.7/site-packages/ase/data/pubchem.py:85: UserWarning: The structure \"667484\" has more than one conformer in PubChem. By default, the first conformer is returned, please ensure you are using the structure you intend to or use the `ase.data.pubchem.pubchem_conformer_search` function\n",
      "  ' function'.format(search))\n"
     ]
    },
    {
     "name": "stdout",
     "output_type": "stream",
     "text": [
      "125\n"
     ]
    },
    {
     "name": "stderr",
     "output_type": "stream",
     "text": [
      "/home/neft/anaconda3/envs/ai/lib/python3.7/site-packages/ase/data/pubchem.py:85: UserWarning: The structure \"135400182\" has more than one conformer in PubChem. By default, the first conformer is returned, please ensure you are using the structure you intend to or use the `ase.data.pubchem.pubchem_conformer_search` function\n",
      "  ' function'.format(search))\n"
     ]
    },
    {
     "name": "stdout",
     "output_type": "stream",
     "text": [
      "126\n",
      "127\n",
      "128\n"
     ]
    },
    {
     "name": "stderr",
     "output_type": "stream",
     "text": [
      "/home/neft/anaconda3/envs/ai/lib/python3.7/site-packages/ase/data/pubchem.py:85: UserWarning: The structure \"2474\" has more than one conformer in PubChem. By default, the first conformer is returned, please ensure you are using the structure you intend to or use the `ase.data.pubchem.pubchem_conformer_search` function\n",
      "  ' function'.format(search))\n"
     ]
    },
    {
     "name": "stdout",
     "output_type": "stream",
     "text": [
      "129\n"
     ]
    },
    {
     "name": "stderr",
     "output_type": "stream",
     "text": [
      "/home/neft/anaconda3/envs/ai/lib/python3.7/site-packages/ase/data/pubchem.py:85: UserWarning: The structure \"135398748\" has more than one conformer in PubChem. By default, the first conformer is returned, please ensure you are using the structure you intend to or use the `ase.data.pubchem.pubchem_conformer_search` function\n",
      "  ' function'.format(search))\n"
     ]
    },
    {
     "name": "stdout",
     "output_type": "stream",
     "text": [
      "130\n",
      "131\n"
     ]
    },
    {
     "name": "stderr",
     "output_type": "stream",
     "text": [
      "/home/neft/anaconda3/envs/ai/lib/python3.7/site-packages/ase/data/pubchem.py:85: UserWarning: The structure \"8275\" has more than one conformer in PubChem. By default, the first conformer is returned, please ensure you are using the structure you intend to or use the `ase.data.pubchem.pubchem_conformer_search` function\n",
      "  ' function'.format(search))\n"
     ]
    },
    {
     "name": "stdout",
     "output_type": "stream",
     "text": [
      "132\n"
     ]
    },
    {
     "name": "stderr",
     "output_type": "stream",
     "text": [
      "/home/neft/anaconda3/envs/ai/lib/python3.7/site-packages/ase/data/pubchem.py:85: UserWarning: The structure \"2732\" has more than one conformer in PubChem. By default, the first conformer is returned, please ensure you are using the structure you intend to or use the `ase.data.pubchem.pubchem_conformer_search` function\n",
      "  ' function'.format(search))\n"
     ]
    },
    {
     "name": "stdout",
     "output_type": "stream",
     "text": [
      "133\n"
     ]
    },
    {
     "name": "stderr",
     "output_type": "stream",
     "text": [
      "/home/neft/anaconda3/envs/ai/lib/python3.7/site-packages/ase/data/pubchem.py:85: UserWarning: The structure \"3295\" has more than one conformer in PubChem. By default, the first conformer is returned, please ensure you are using the structure you intend to or use the `ase.data.pubchem.pubchem_conformer_search` function\n",
      "  ' function'.format(search))\n"
     ]
    },
    {
     "name": "stdout",
     "output_type": "stream",
     "text": [
      "134\n"
     ]
    },
    {
     "name": "stderr",
     "output_type": "stream",
     "text": [
      "/home/neft/anaconda3/envs/ai/lib/python3.7/site-packages/ase/data/pubchem.py:85: UserWarning: The structure \"4737\" has more than one conformer in PubChem. By default, the first conformer is returned, please ensure you are using the structure you intend to or use the `ase.data.pubchem.pubchem_conformer_search` function\n",
      "  ' function'.format(search))\n"
     ]
    },
    {
     "name": "stdout",
     "output_type": "stream",
     "text": [
      "135\n"
     ]
    },
    {
     "name": "stderr",
     "output_type": "stream",
     "text": [
      "/home/neft/anaconda3/envs/ai/lib/python3.7/site-packages/ase/data/pubchem.py:85: UserWarning: The structure \"1983\" has more than one conformer in PubChem. By default, the first conformer is returned, please ensure you are using the structure you intend to or use the `ase.data.pubchem.pubchem_conformer_search` function\n",
      "  ' function'.format(search))\n"
     ]
    },
    {
     "name": "stdout",
     "output_type": "stream",
     "text": [
      "136\n",
      "137\n"
     ]
    },
    {
     "name": "stderr",
     "output_type": "stream",
     "text": [
      "/home/neft/anaconda3/envs/ai/lib/python3.7/site-packages/ase/data/pubchem.py:85: UserWarning: The structure \"2160\" has more than one conformer in PubChem. By default, the first conformer is returned, please ensure you are using the structure you intend to or use the `ase.data.pubchem.pubchem_conformer_search` function\n",
      "  ' function'.format(search))\n"
     ]
    },
    {
     "name": "stdout",
     "output_type": "stream",
     "text": [
      "138\n"
     ]
    },
    {
     "name": "stderr",
     "output_type": "stream",
     "text": [
      "/home/neft/anaconda3/envs/ai/lib/python3.7/site-packages/ase/data/pubchem.py:85: UserWarning: The structure \"5790\" has more than one conformer in PubChem. By default, the first conformer is returned, please ensure you are using the structure you intend to or use the `ase.data.pubchem.pubchem_conformer_search` function\n",
      "  ' function'.format(search))\n"
     ]
    },
    {
     "name": "stdout",
     "output_type": "stream",
     "text": [
      "139\n"
     ]
    },
    {
     "name": "stderr",
     "output_type": "stream",
     "text": [
      "/home/neft/anaconda3/envs/ai/lib/python3.7/site-packages/ase/data/pubchem.py:85: UserWarning: The structure \"9878\" has more than one conformer in PubChem. By default, the first conformer is returned, please ensure you are using the structure you intend to or use the `ase.data.pubchem.pubchem_conformer_search` function\n",
      "  ' function'.format(search))\n"
     ]
    },
    {
     "name": "stdout",
     "output_type": "stream",
     "text": [
      "140\n"
     ]
    },
    {
     "name": "stderr",
     "output_type": "stream",
     "text": [
      "/home/neft/anaconda3/envs/ai/lib/python3.7/site-packages/ase/data/pubchem.py:85: UserWarning: The structure \"3715\" has more than one conformer in PubChem. By default, the first conformer is returned, please ensure you are using the structure you intend to or use the `ase.data.pubchem.pubchem_conformer_search` function\n",
      "  ' function'.format(search))\n"
     ]
    },
    {
     "name": "stdout",
     "output_type": "stream",
     "text": [
      "141\n"
     ]
    },
    {
     "name": "stderr",
     "output_type": "stream",
     "text": [
      "/home/neft/anaconda3/envs/ai/lib/python3.7/site-packages/ase/data/pubchem.py:85: UserWarning: The structure \"14052\" has more than one conformer in PubChem. By default, the first conformer is returned, please ensure you are using the structure you intend to or use the `ase.data.pubchem.pubchem_conformer_search` function\n",
      "  ' function'.format(search))\n"
     ]
    },
    {
     "name": "stdout",
     "output_type": "stream",
     "text": [
      "142\n"
     ]
    },
    {
     "name": "stderr",
     "output_type": "stream",
     "text": [
      "/home/neft/anaconda3/envs/ai/lib/python3.7/site-packages/ase/data/pubchem.py:85: UserWarning: The structure \"4091\" has more than one conformer in PubChem. By default, the first conformer is returned, please ensure you are using the structure you intend to or use the `ase.data.pubchem.pubchem_conformer_search` function\n",
      "  ' function'.format(search))\n"
     ]
    },
    {
     "name": "stdout",
     "output_type": "stream",
     "text": [
      "143\n"
     ]
    },
    {
     "name": "stderr",
     "output_type": "stream",
     "text": [
      "/home/neft/anaconda3/envs/ai/lib/python3.7/site-packages/ase/data/pubchem.py:85: UserWarning: The structure \"4095\" has more than one conformer in PubChem. By default, the first conformer is returned, please ensure you are using the structure you intend to or use the `ase.data.pubchem.pubchem_conformer_search` function\n",
      "  ' function'.format(search))\n"
     ]
    },
    {
     "name": "stdout",
     "output_type": "stream",
     "text": [
      "144\n"
     ]
    },
    {
     "name": "stderr",
     "output_type": "stream",
     "text": [
      "/home/neft/anaconda3/envs/ai/lib/python3.7/site-packages/ase/data/pubchem.py:85: UserWarning: The structure \"135398745\" has more than one conformer in PubChem. By default, the first conformer is returned, please ensure you are using the structure you intend to or use the `ase.data.pubchem.pubchem_conformer_search` function\n",
      "  ' function'.format(search))\n"
     ]
    },
    {
     "name": "stdout",
     "output_type": "stream",
     "text": [
      "145\n"
     ]
    },
    {
     "name": "stderr",
     "output_type": "stream",
     "text": [
      "/home/neft/anaconda3/envs/ai/lib/python3.7/site-packages/ase/data/pubchem.py:85: UserWarning: The structure \"2249\" has more than one conformer in PubChem. By default, the first conformer is returned, please ensure you are using the structure you intend to or use the `ase.data.pubchem.pubchem_conformer_search` function\n",
      "  ' function'.format(search))\n"
     ]
    },
    {
     "name": "stdout",
     "output_type": "stream",
     "text": [
      "146\n"
     ]
    },
    {
     "name": "stderr",
     "output_type": "stream",
     "text": [
      "/home/neft/anaconda3/envs/ai/lib/python3.7/site-packages/ase/data/pubchem.py:85: UserWarning: The structure \"5447130\" has more than one conformer in PubChem. By default, the first conformer is returned, please ensure you are using the structure you intend to or use the `ase.data.pubchem.pubchem_conformer_search` function\n",
      "  ' function'.format(search))\n"
     ]
    },
    {
     "name": "stdout",
     "output_type": "stream",
     "text": [
      "147\n"
     ]
    },
    {
     "name": "stderr",
     "output_type": "stream",
     "text": [
      "/home/neft/anaconda3/envs/ai/lib/python3.7/site-packages/ase/data/pubchem.py:85: UserWarning: The structure \"4594\" has more than one conformer in PubChem. By default, the first conformer is returned, please ensure you are using the structure you intend to or use the `ase.data.pubchem.pubchem_conformer_search` function\n",
      "  ' function'.format(search))\n"
     ]
    },
    {
     "name": "stdout",
     "output_type": "stream",
     "text": [
      "148\n"
     ]
    },
    {
     "name": "stderr",
     "output_type": "stream",
     "text": [
      "/home/neft/anaconda3/envs/ai/lib/python3.7/site-packages/ase/data/pubchem.py:85: UserWarning: The structure \"1046\" has more than one conformer in PubChem. By default, the first conformer is returned, please ensure you are using the structure you intend to or use the `ase.data.pubchem.pubchem_conformer_search` function\n",
      "  ' function'.format(search))\n"
     ]
    },
    {
     "name": "stdout",
     "output_type": "stream",
     "text": [
      "149\n"
     ]
    },
    {
     "name": "stderr",
     "output_type": "stream",
     "text": [
      "/home/neft/anaconda3/envs/ai/lib/python3.7/site-packages/ase/data/pubchem.py:85: UserWarning: The structure \"2678\" has more than one conformer in PubChem. By default, the first conformer is returned, please ensure you are using the structure you intend to or use the `ase.data.pubchem.pubchem_conformer_search` function\n",
      "  ' function'.format(search))\n"
     ]
    },
    {
     "name": "stdout",
     "output_type": "stream",
     "text": [
      "150\n"
     ]
    },
    {
     "name": "stderr",
     "output_type": "stream",
     "text": [
      "/home/neft/anaconda3/envs/ai/lib/python3.7/site-packages/ase/data/pubchem.py:85: UserWarning: The structure \"5405\" has more than one conformer in PubChem. By default, the first conformer is returned, please ensure you are using the structure you intend to or use the `ase.data.pubchem.pubchem_conformer_search` function\n",
      "  ' function'.format(search))\n"
     ]
    },
    {
     "name": "stdout",
     "output_type": "stream",
     "text": [
      "151\n"
     ]
    },
    {
     "name": "stderr",
     "output_type": "stream",
     "text": [
      "/home/neft/anaconda3/envs/ai/lib/python3.7/site-packages/ase/data/pubchem.py:85: UserWarning: The structure \"39186\" has more than one conformer in PubChem. By default, the first conformer is returned, please ensure you are using the structure you intend to or use the `ase.data.pubchem.pubchem_conformer_search` function\n",
      "  ' function'.format(search))\n"
     ]
    },
    {
     "name": "stdout",
     "output_type": "stream",
     "text": [
      "152\n"
     ]
    },
    {
     "name": "stderr",
     "output_type": "stream",
     "text": [
      "/home/neft/anaconda3/envs/ai/lib/python3.7/site-packages/ase/data/pubchem.py:85: UserWarning: The structure \"2148\" has more than one conformer in PubChem. By default, the first conformer is returned, please ensure you are using the structure you intend to or use the `ase.data.pubchem.pubchem_conformer_search` function\n",
      "  ' function'.format(search))\n"
     ]
    },
    {
     "name": "stdout",
     "output_type": "stream",
     "text": [
      "153\n",
      "154\n"
     ]
    },
    {
     "name": "stderr",
     "output_type": "stream",
     "text": [
      "/home/neft/anaconda3/envs/ai/lib/python3.7/site-packages/ase/data/pubchem.py:85: UserWarning: The structure \"2789\" has more than one conformer in PubChem. By default, the first conformer is returned, please ensure you are using the structure you intend to or use the `ase.data.pubchem.pubchem_conformer_search` function\n",
      "  ' function'.format(search))\n"
     ]
    },
    {
     "name": "stdout",
     "output_type": "stream",
     "text": [
      "155\n"
     ]
    },
    {
     "name": "stderr",
     "output_type": "stream",
     "text": [
      "/home/neft/anaconda3/envs/ai/lib/python3.7/site-packages/ase/data/pubchem.py:85: UserWarning: The structure \"4201\" has more than one conformer in PubChem. By default, the first conformer is returned, please ensure you are using the structure you intend to or use the `ase.data.pubchem.pubchem_conformer_search` function\n",
      "  ' function'.format(search))\n"
     ]
    },
    {
     "name": "stdout",
     "output_type": "stream",
     "text": [
      "156\n"
     ]
    },
    {
     "name": "stderr",
     "output_type": "stream",
     "text": [
      "/home/neft/anaconda3/envs/ai/lib/python3.7/site-packages/ase/data/pubchem.py:85: UserWarning: The structure \"11683\" has more than one conformer in PubChem. By default, the first conformer is returned, please ensure you are using the structure you intend to or use the `ase.data.pubchem.pubchem_conformer_search` function\n",
      "  ' function'.format(search))\n"
     ]
    },
    {
     "name": "stdout",
     "output_type": "stream",
     "text": [
      "157\n"
     ]
    },
    {
     "name": "stderr",
     "output_type": "stream",
     "text": [
      "/home/neft/anaconda3/envs/ai/lib/python3.7/site-packages/ase/data/pubchem.py:85: UserWarning: The structure \"8226\" has more than one conformer in PubChem. By default, the first conformer is returned, please ensure you are using the structure you intend to or use the `ase.data.pubchem.pubchem_conformer_search` function\n",
      "  ' function'.format(search))\n"
     ]
    },
    {
     "name": "stdout",
     "output_type": "stream",
     "text": [
      "158\n",
      "159\n"
     ]
    },
    {
     "name": "stderr",
     "output_type": "stream",
     "text": [
      "/home/neft/anaconda3/envs/ai/lib/python3.7/site-packages/ase/data/pubchem.py:85: UserWarning: The structure \"2145\" has more than one conformer in PubChem. By default, the first conformer is returned, please ensure you are using the structure you intend to or use the `ase.data.pubchem.pubchem_conformer_search` function\n",
      "  ' function'.format(search))\n"
     ]
    },
    {
     "name": "stdout",
     "output_type": "stream",
     "text": [
      "160\n"
     ]
    },
    {
     "name": "stderr",
     "output_type": "stream",
     "text": [
      "/home/neft/anaconda3/envs/ai/lib/python3.7/site-packages/ase/data/pubchem.py:85: UserWarning: The structure \"5215\" has more than one conformer in PubChem. By default, the first conformer is returned, please ensure you are using the structure you intend to or use the `ase.data.pubchem.pubchem_conformer_search` function\n",
      "  ' function'.format(search))\n"
     ]
    },
    {
     "name": "stdout",
     "output_type": "stream",
     "text": [
      "161\n"
     ]
    },
    {
     "name": "stderr",
     "output_type": "stream",
     "text": [
      "/home/neft/anaconda3/envs/ai/lib/python3.7/site-packages/ase/data/pubchem.py:85: UserWarning: The structure \"135398737\" has more than one conformer in PubChem. By default, the first conformer is returned, please ensure you are using the structure you intend to or use the `ase.data.pubchem.pubchem_conformer_search` function\n",
      "  ' function'.format(search))\n"
     ]
    },
    {
     "name": "stdout",
     "output_type": "stream",
     "text": [
      "162\n",
      "163\n"
     ]
    },
    {
     "name": "stderr",
     "output_type": "stream",
     "text": [
      "/home/neft/anaconda3/envs/ai/lib/python3.7/site-packages/ase/data/pubchem.py:85: UserWarning: The structure \"439260\" has more than one conformer in PubChem. By default, the first conformer is returned, please ensure you are using the structure you intend to or use the `ase.data.pubchem.pubchem_conformer_search` function\n",
      "  ' function'.format(search))\n"
     ]
    },
    {
     "name": "stdout",
     "output_type": "stream",
     "text": [
      "164\n"
     ]
    },
    {
     "name": "stderr",
     "output_type": "stream",
     "text": [
      "/home/neft/anaconda3/envs/ai/lib/python3.7/site-packages/ase/data/pubchem.py:85: UserWarning: The structure \"60613\" has more than one conformer in PubChem. By default, the first conformer is returned, please ensure you are using the structure you intend to or use the `ase.data.pubchem.pubchem_conformer_search` function\n",
      "  ' function'.format(search))\n"
     ]
    },
    {
     "name": "stdout",
     "output_type": "stream",
     "text": [
      "165\n"
     ]
    },
    {
     "name": "stderr",
     "output_type": "stream",
     "text": [
      "/home/neft/anaconda3/envs/ai/lib/python3.7/site-packages/ase/data/pubchem.py:85: UserWarning: The structure \"4205\" has more than one conformer in PubChem. By default, the first conformer is returned, please ensure you are using the structure you intend to or use the `ase.data.pubchem.pubchem_conformer_search` function\n",
      "  ' function'.format(search))\n"
     ]
    },
    {
     "name": "stdout",
     "output_type": "stream",
     "text": [
      "166\n"
     ]
    },
    {
     "name": "stderr",
     "output_type": "stream",
     "text": [
      "/home/neft/anaconda3/envs/ai/lib/python3.7/site-packages/ase/data/pubchem.py:85: UserWarning: The structure \"4064\" has more than one conformer in PubChem. By default, the first conformer is returned, please ensure you are using the structure you intend to or use the `ase.data.pubchem.pubchem_conformer_search` function\n",
      "  ' function'.format(search))\n"
     ]
    },
    {
     "name": "stdout",
     "output_type": "stream",
     "text": [
      "167\n"
     ]
    },
    {
     "name": "stderr",
     "output_type": "stream",
     "text": [
      "/home/neft/anaconda3/envs/ai/lib/python3.7/site-packages/ase/data/pubchem.py:85: UserWarning: The structure \"5440\" has more than one conformer in PubChem. By default, the first conformer is returned, please ensure you are using the structure you intend to or use the `ase.data.pubchem.pubchem_conformer_search` function\n",
      "  ' function'.format(search))\n"
     ]
    },
    {
     "name": "stdout",
     "output_type": "stream",
     "text": [
      "168\n"
     ]
    },
    {
     "name": "stderr",
     "output_type": "stream",
     "text": [
      "/home/neft/anaconda3/envs/ai/lib/python3.7/site-packages/ase/data/pubchem.py:85: UserWarning: The structure \"33624\" has more than one conformer in PubChem. By default, the first conformer is returned, please ensure you are using the structure you intend to or use the `ase.data.pubchem.pubchem_conformer_search` function\n",
      "  ' function'.format(search))\n"
     ]
    },
    {
     "name": "stdout",
     "output_type": "stream",
     "text": [
      "169\n"
     ]
    },
    {
     "name": "stderr",
     "output_type": "stream",
     "text": [
      "/home/neft/anaconda3/envs/ai/lib/python3.7/site-packages/ase/data/pubchem.py:85: UserWarning: The structure \"5572\" has more than one conformer in PubChem. By default, the first conformer is returned, please ensure you are using the structure you intend to or use the `ase.data.pubchem.pubchem_conformer_search` function\n",
      "  ' function'.format(search))\n"
     ]
    },
    {
     "name": "stdout",
     "output_type": "stream",
     "text": [
      "170\n"
     ]
    },
    {
     "name": "stderr",
     "output_type": "stream",
     "text": [
      "/home/neft/anaconda3/envs/ai/lib/python3.7/site-packages/ase/data/pubchem.py:85: UserWarning: The structure \"9051\" has more than one conformer in PubChem. By default, the first conformer is returned, please ensure you are using the structure you intend to or use the `ase.data.pubchem.pubchem_conformer_search` function\n",
      "  ' function'.format(search))\n"
     ]
    },
    {
     "name": "stdout",
     "output_type": "stream",
     "text": [
      "171\n"
     ]
    },
    {
     "name": "stderr",
     "output_type": "stream",
     "text": [
      "/home/neft/anaconda3/envs/ai/lib/python3.7/site-packages/ase/data/pubchem.py:85: UserWarning: The structure \"4178\" has more than one conformer in PubChem. By default, the first conformer is returned, please ensure you are using the structure you intend to or use the `ase.data.pubchem.pubchem_conformer_search` function\n",
      "  ' function'.format(search))\n"
     ]
    },
    {
     "name": "stdout",
     "output_type": "stream",
     "text": [
      "172\n"
     ]
    },
    {
     "name": "stderr",
     "output_type": "stream",
     "text": [
      "/home/neft/anaconda3/envs/ai/lib/python3.7/site-packages/ase/data/pubchem.py:85: UserWarning: The structure \"71384\" has more than one conformer in PubChem. By default, the first conformer is returned, please ensure you are using the structure you intend to or use the `ase.data.pubchem.pubchem_conformer_search` function\n",
      "  ' function'.format(search))\n"
     ]
    },
    {
     "name": "stdout",
     "output_type": "stream",
     "text": [
      "173\n"
     ]
    },
    {
     "name": "stderr",
     "output_type": "stream",
     "text": [
      "/home/neft/anaconda3/envs/ai/lib/python3.7/site-packages/ase/data/pubchem.py:85: UserWarning: The structure \"2162\" has more than one conformer in PubChem. By default, the first conformer is returned, please ensure you are using the structure you intend to or use the `ase.data.pubchem.pubchem_conformer_search` function\n",
      "  ' function'.format(search))\n"
     ]
    },
    {
     "name": "stdout",
     "output_type": "stream",
     "text": [
      "174\n",
      "175\n",
      "176\n"
     ]
    },
    {
     "name": "stderr",
     "output_type": "stream",
     "text": [
      "/home/neft/anaconda3/envs/ai/lib/python3.7/site-packages/ase/data/pubchem.py:85: UserWarning: The structure \"4919\" has more than one conformer in PubChem. By default, the first conformer is returned, please ensure you are using the structure you intend to or use the `ase.data.pubchem.pubchem_conformer_search` function\n",
      "  ' function'.format(search))\n"
     ]
    },
    {
     "name": "stdout",
     "output_type": "stream",
     "text": [
      "177\n"
     ]
    },
    {
     "name": "stderr",
     "output_type": "stream",
     "text": [
      "/home/neft/anaconda3/envs/ai/lib/python3.7/site-packages/ase/data/pubchem.py:85: UserWarning: The structure \"6041\" has more than one conformer in PubChem. By default, the first conformer is returned, please ensure you are using the structure you intend to or use the `ase.data.pubchem.pubchem_conformer_search` function\n",
      "  ' function'.format(search))\n"
     ]
    },
    {
     "name": "stdout",
     "output_type": "stream",
     "text": [
      "178\n"
     ]
    },
    {
     "name": "stderr",
     "output_type": "stream",
     "text": [
      "/home/neft/anaconda3/envs/ai/lib/python3.7/site-packages/ase/data/pubchem.py:85: UserWarning: The structure \"31072\" has more than one conformer in PubChem. By default, the first conformer is returned, please ensure you are using the structure you intend to or use the `ase.data.pubchem.pubchem_conformer_search` function\n",
      "  ' function'.format(search))\n"
     ]
    },
    {
     "name": "stdout",
     "output_type": "stream",
     "text": [
      "179\n"
     ]
    },
    {
     "name": "stderr",
     "output_type": "stream",
     "text": [
      "/home/neft/anaconda3/envs/ai/lib/python3.7/site-packages/ase/data/pubchem.py:85: UserWarning: The structure \"5355\" has more than one conformer in PubChem. By default, the first conformer is returned, please ensure you are using the structure you intend to or use the `ase.data.pubchem.pubchem_conformer_search` function\n",
      "  ' function'.format(search))\n"
     ]
    },
    {
     "name": "stdout",
     "output_type": "stream",
     "text": [
      "180\n"
     ]
    },
    {
     "name": "stderr",
     "output_type": "stream",
     "text": [
      "/home/neft/anaconda3/envs/ai/lib/python3.7/site-packages/ase/data/pubchem.py:85: UserWarning: The structure \"3290\" has more than one conformer in PubChem. By default, the first conformer is returned, please ensure you are using the structure you intend to or use the `ase.data.pubchem.pubchem_conformer_search` function\n",
      "  ' function'.format(search))\n"
     ]
    },
    {
     "name": "stdout",
     "output_type": "stream",
     "text": [
      "181\n"
     ]
    },
    {
     "name": "stderr",
     "output_type": "stream",
     "text": [
      "/home/neft/anaconda3/envs/ai/lib/python3.7/site-packages/ase/data/pubchem.py:85: UserWarning: The structure \"4497\" has more than one conformer in PubChem. By default, the first conformer is returned, please ensure you are using the structure you intend to or use the `ase.data.pubchem.pubchem_conformer_search` function\n",
      "  ' function'.format(search))\n"
     ]
    },
    {
     "name": "stdout",
     "output_type": "stream",
     "text": [
      "182\n"
     ]
    },
    {
     "name": "stderr",
     "output_type": "stream",
     "text": [
      "/home/neft/anaconda3/envs/ai/lib/python3.7/site-packages/ase/data/pubchem.py:85: UserWarning: The structure \"21700\" has more than one conformer in PubChem. By default, the first conformer is returned, please ensure you are using the structure you intend to or use the `ase.data.pubchem.pubchem_conformer_search` function\n",
      "  ' function'.format(search))\n"
     ]
    },
    {
     "name": "stdout",
     "output_type": "stream",
     "text": [
      "183\n"
     ]
    },
    {
     "name": "stderr",
     "output_type": "stream",
     "text": [
      "/home/neft/anaconda3/envs/ai/lib/python3.7/site-packages/ase/data/pubchem.py:85: UserWarning: The structure \"2576\" has more than one conformer in PubChem. By default, the first conformer is returned, please ensure you are using the structure you intend to or use the `ase.data.pubchem.pubchem_conformer_search` function\n",
      "  ' function'.format(search))\n"
     ]
    },
    {
     "name": "stdout",
     "output_type": "stream",
     "text": [
      "184\n"
     ]
    },
    {
     "name": "stderr",
     "output_type": "stream",
     "text": [
      "/home/neft/anaconda3/envs/ai/lib/python3.7/site-packages/ase/data/pubchem.py:85: UserWarning: The structure \"5994\" has more than one conformer in PubChem. By default, the first conformer is returned, please ensure you are using the structure you intend to or use the `ase.data.pubchem.pubchem_conformer_search` function\n",
      "  ' function'.format(search))\n"
     ]
    },
    {
     "name": "stdout",
     "output_type": "stream",
     "text": [
      "185\n"
     ]
    },
    {
     "name": "stderr",
     "output_type": "stream",
     "text": [
      "/home/neft/anaconda3/envs/ai/lib/python3.7/site-packages/ase/data/pubchem.py:85: UserWarning: The structure \"26934\" has more than one conformer in PubChem. By default, the first conformer is returned, please ensure you are using the structure you intend to or use the `ase.data.pubchem.pubchem_conformer_search` function\n",
      "  ' function'.format(search))\n"
     ]
    },
    {
     "name": "stdout",
     "output_type": "stream",
     "text": [
      "186\n"
     ]
    },
    {
     "name": "stderr",
     "output_type": "stream",
     "text": [
      "/home/neft/anaconda3/envs/ai/lib/python3.7/site-packages/ase/data/pubchem.py:85: UserWarning: The structure \"441140\" has more than one conformer in PubChem. By default, the first conformer is returned, please ensure you are using the structure you intend to or use the `ase.data.pubchem.pubchem_conformer_search` function\n",
      "  ' function'.format(search))\n"
     ]
    },
    {
     "name": "stdout",
     "output_type": "stream",
     "text": [
      "187\n"
     ]
    },
    {
     "name": "stderr",
     "output_type": "stream",
     "text": [
      "/home/neft/anaconda3/envs/ai/lib/python3.7/site-packages/ase/data/pubchem.py:85: UserWarning: The structure \"969472\" has more than one conformer in PubChem. By default, the first conformer is returned, please ensure you are using the structure you intend to or use the `ase.data.pubchem.pubchem_conformer_search` function\n",
      "  ' function'.format(search))\n"
     ]
    },
    {
     "name": "stdout",
     "output_type": "stream",
     "text": [
      "188\n",
      "189\n"
     ]
    },
    {
     "name": "stderr",
     "output_type": "stream",
     "text": [
      "/home/neft/anaconda3/envs/ai/lib/python3.7/site-packages/ase/data/pubchem.py:85: UserWarning: The structure \"16960\" has more than one conformer in PubChem. By default, the first conformer is returned, please ensure you are using the structure you intend to or use the `ase.data.pubchem.pubchem_conformer_search` function\n",
      "  ' function'.format(search))\n"
     ]
    },
    {
     "name": "stdout",
     "output_type": "stream",
     "text": [
      "190\n",
      "191\n"
     ]
    },
    {
     "name": "stderr",
     "output_type": "stream",
     "text": [
      "/home/neft/anaconda3/envs/ai/lib/python3.7/site-packages/ase/data/pubchem.py:85: UserWarning: The structure \"3964\" has more than one conformer in PubChem. By default, the first conformer is returned, please ensure you are using the structure you intend to or use the `ase.data.pubchem.pubchem_conformer_search` function\n",
      "  ' function'.format(search))\n"
     ]
    },
    {
     "name": "stdout",
     "output_type": "stream",
     "text": [
      "192\n"
     ]
    },
    {
     "name": "stderr",
     "output_type": "stream",
     "text": [
      "/home/neft/anaconda3/envs/ai/lib/python3.7/site-packages/ase/data/pubchem.py:85: UserWarning: The structure \"77999\" has more than one conformer in PubChem. By default, the first conformer is returned, please ensure you are using the structure you intend to or use the `ase.data.pubchem.pubchem_conformer_search` function\n",
      "  ' function'.format(search))\n"
     ]
    },
    {
     "name": "stdout",
     "output_type": "stream",
     "text": [
      "193\n"
     ]
    },
    {
     "name": "stderr",
     "output_type": "stream",
     "text": [
      "/home/neft/anaconda3/envs/ai/lib/python3.7/site-packages/ase/data/pubchem.py:85: UserWarning: The structure \"119570\" has more than one conformer in PubChem. By default, the first conformer is returned, please ensure you are using the structure you intend to or use the `ase.data.pubchem.pubchem_conformer_search` function\n",
      "  ' function'.format(search))\n"
     ]
    },
    {
     "name": "stdout",
     "output_type": "stream",
     "text": [
      "194\n"
     ]
    },
    {
     "name": "stderr",
     "output_type": "stream",
     "text": [
      "/home/neft/anaconda3/envs/ai/lib/python3.7/site-packages/ase/data/pubchem.py:85: UserWarning: The structure \"1989\" has more than one conformer in PubChem. By default, the first conformer is returned, please ensure you are using the structure you intend to or use the `ase.data.pubchem.pubchem_conformer_search` function\n",
      "  ' function'.format(search))\n"
     ]
    },
    {
     "name": "stdout",
     "output_type": "stream",
     "text": [
      "195\n"
     ]
    },
    {
     "name": "stderr",
     "output_type": "stream",
     "text": [
      "/home/neft/anaconda3/envs/ai/lib/python3.7/site-packages/ase/data/pubchem.py:85: UserWarning: The structure \"6249\" has more than one conformer in PubChem. By default, the first conformer is returned, please ensure you are using the structure you intend to or use the `ase.data.pubchem.pubchem_conformer_search` function\n",
      "  ' function'.format(search))\n"
     ]
    },
    {
     "name": "stdout",
     "output_type": "stream",
     "text": [
      "196\n"
     ]
    },
    {
     "name": "stderr",
     "output_type": "stream",
     "text": [
      "/home/neft/anaconda3/envs/ai/lib/python3.7/site-packages/ase/data/pubchem.py:85: UserWarning: The structure \"5193\" has more than one conformer in PubChem. By default, the first conformer is returned, please ensure you are using the structure you intend to or use the `ase.data.pubchem.pubchem_conformer_search` function\n",
      "  ' function'.format(search))\n"
     ]
    },
    {
     "name": "stdout",
     "output_type": "stream",
     "text": [
      "197\n"
     ]
    },
    {
     "name": "stderr",
     "output_type": "stream",
     "text": [
      "/home/neft/anaconda3/envs/ai/lib/python3.7/site-packages/ase/data/pubchem.py:85: UserWarning: The structure \"51634\" has more than one conformer in PubChem. By default, the first conformer is returned, please ensure you are using the structure you intend to or use the `ase.data.pubchem.pubchem_conformer_search` function\n",
      "  ' function'.format(search))\n"
     ]
    },
    {
     "name": "stdout",
     "output_type": "stream",
     "text": [
      "198\n",
      "199\n"
     ]
    },
    {
     "name": "stderr",
     "output_type": "stream",
     "text": [
      "/home/neft/anaconda3/envs/ai/lib/python3.7/site-packages/ase/data/pubchem.py:85: UserWarning: The structure \"4107\" has more than one conformer in PubChem. By default, the first conformer is returned, please ensure you are using the structure you intend to or use the `ase.data.pubchem.pubchem_conformer_search` function\n",
      "  ' function'.format(search))\n"
     ]
    },
    {
     "name": "stdout",
     "output_type": "stream",
     "text": [
      "200\n"
     ]
    },
    {
     "name": "stderr",
     "output_type": "stream",
     "text": [
      "/home/neft/anaconda3/envs/ai/lib/python3.7/site-packages/ase/data/pubchem.py:85: UserWarning: The structure \"154417\" has more than one conformer in PubChem. By default, the first conformer is returned, please ensure you are using the structure you intend to or use the `ase.data.pubchem.pubchem_conformer_search` function\n",
      "  ' function'.format(search))\n"
     ]
    },
    {
     "name": "stdout",
     "output_type": "stream",
     "text": [
      "201\n"
     ]
    },
    {
     "name": "stderr",
     "output_type": "stream",
     "text": [
      "/home/neft/anaconda3/envs/ai/lib/python3.7/site-packages/ase/data/pubchem.py:85: UserWarning: The structure \"5732\" has more than one conformer in PubChem. By default, the first conformer is returned, please ensure you are using the structure you intend to or use the `ase.data.pubchem.pubchem_conformer_search` function\n",
      "  ' function'.format(search))\n"
     ]
    },
    {
     "name": "stdout",
     "output_type": "stream",
     "text": [
      "202\n"
     ]
    },
    {
     "name": "stderr",
     "output_type": "stream",
     "text": [
      "/home/neft/anaconda3/envs/ai/lib/python3.7/site-packages/ase/data/pubchem.py:85: UserWarning: The structure \"3324\" has more than one conformer in PubChem. By default, the first conformer is returned, please ensure you are using the structure you intend to or use the `ase.data.pubchem.pubchem_conformer_search` function\n",
      "  ' function'.format(search))\n"
     ]
    },
    {
     "name": "stdout",
     "output_type": "stream",
     "text": [
      "203\n"
     ]
    },
    {
     "name": "stderr",
     "output_type": "stream",
     "text": [
      "/home/neft/anaconda3/envs/ai/lib/python3.7/site-packages/ase/data/pubchem.py:85: UserWarning: The structure \"5282443\" has more than one conformer in PubChem. By default, the first conformer is returned, please ensure you are using the structure you intend to or use the `ase.data.pubchem.pubchem_conformer_search` function\n",
      "  ' function'.format(search))\n"
     ]
    },
    {
     "name": "stdout",
     "output_type": "stream",
     "text": [
      "204\n"
     ]
    },
    {
     "name": "stderr",
     "output_type": "stream",
     "text": [
      "/home/neft/anaconda3/envs/ai/lib/python3.7/site-packages/ase/data/pubchem.py:85: UserWarning: The structure \"29327\" has more than one conformer in PubChem. By default, the first conformer is returned, please ensure you are using the structure you intend to or use the `ase.data.pubchem.pubchem_conformer_search` function\n",
      "  ' function'.format(search))\n"
     ]
    },
    {
     "name": "stdout",
     "output_type": "stream",
     "text": [
      "205\n"
     ]
    },
    {
     "name": "stderr",
     "output_type": "stream",
     "text": [
      "/home/neft/anaconda3/envs/ai/lib/python3.7/site-packages/ase/data/pubchem.py:85: UserWarning: The structure \"727\" has more than one conformer in PubChem. By default, the first conformer is returned, please ensure you are using the structure you intend to or use the `ase.data.pubchem.pubchem_conformer_search` function\n",
      "  ' function'.format(search))\n"
     ]
    },
    {
     "name": "stdout",
     "output_type": "stream",
     "text": [
      "206\n"
     ]
    },
    {
     "name": "stderr",
     "output_type": "stream",
     "text": [
      "/home/neft/anaconda3/envs/ai/lib/python3.7/site-packages/ase/data/pubchem.py:85: UserWarning: The structure \"6256\" has more than one conformer in PubChem. By default, the first conformer is returned, please ensure you are using the structure you intend to or use the `ase.data.pubchem.pubchem_conformer_search` function\n",
      "  ' function'.format(search))\n"
     ]
    },
    {
     "name": "stdout",
     "output_type": "stream",
     "text": [
      "207\n"
     ]
    },
    {
     "name": "stderr",
     "output_type": "stream",
     "text": [
      "/home/neft/anaconda3/envs/ai/lib/python3.7/site-packages/ase/data/pubchem.py:85: UserWarning: The structure \"4917\" has more than one conformer in PubChem. By default, the first conformer is returned, please ensure you are using the structure you intend to or use the `ase.data.pubchem.pubchem_conformer_search` function\n",
      "  ' function'.format(search))\n"
     ]
    },
    {
     "name": "stdout",
     "output_type": "stream",
     "text": [
      "208\n"
     ]
    },
    {
     "name": "stderr",
     "output_type": "stream",
     "text": [
      "/home/neft/anaconda3/envs/ai/lib/python3.7/site-packages/ase/data/pubchem.py:85: UserWarning: The structure \"2913\" has more than one conformer in PubChem. By default, the first conformer is returned, please ensure you are using the structure you intend to or use the `ase.data.pubchem.pubchem_conformer_search` function\n",
      "  ' function'.format(search))\n"
     ]
    },
    {
     "name": "stdout",
     "output_type": "stream",
     "text": [
      "209\n"
     ]
    },
    {
     "name": "stderr",
     "output_type": "stream",
     "text": [
      "/home/neft/anaconda3/envs/ai/lib/python3.7/site-packages/ase/data/pubchem.py:85: UserWarning: The structure \"2315\" has more than one conformer in PubChem. By default, the first conformer is returned, please ensure you are using the structure you intend to or use the `ase.data.pubchem.pubchem_conformer_search` function\n",
      "  ' function'.format(search))\n"
     ]
    },
    {
     "name": "stdout",
     "output_type": "stream",
     "text": [
      "210\n",
      "211\n"
     ]
    },
    {
     "name": "stderr",
     "output_type": "stream",
     "text": [
      "/home/neft/anaconda3/envs/ai/lib/python3.7/site-packages/ase/data/pubchem.py:85: UserWarning: The structure \"5481173\" has more than one conformer in PubChem. By default, the first conformer is returned, please ensure you are using the structure you intend to or use the `ase.data.pubchem.pubchem_conformer_search` function\n",
      "  ' function'.format(search))\n"
     ]
    },
    {
     "name": "stdout",
     "output_type": "stream",
     "text": [
      "212\n"
     ]
    },
    {
     "name": "stderr",
     "output_type": "stream",
     "text": [
      "/home/neft/anaconda3/envs/ai/lib/python3.7/site-packages/ase/data/pubchem.py:85: UserWarning: The structure \"5578\" has more than one conformer in PubChem. By default, the first conformer is returned, please ensure you are using the structure you intend to or use the `ase.data.pubchem.pubchem_conformer_search` function\n",
      "  ' function'.format(search))\n"
     ]
    },
    {
     "name": "stdout",
     "output_type": "stream",
     "text": [
      "213\n"
     ]
    },
    {
     "name": "stderr",
     "output_type": "stream",
     "text": [
      "/home/neft/anaconda3/envs/ai/lib/python3.7/site-packages/ase/data/pubchem.py:85: UserWarning: The structure \"60750\" has more than one conformer in PubChem. By default, the first conformer is returned, please ensure you are using the structure you intend to or use the `ase.data.pubchem.pubchem_conformer_search` function\n",
      "  ' function'.format(search))\n"
     ]
    },
    {
     "name": "stdout",
     "output_type": "stream",
     "text": [
      "214\n"
     ]
    },
    {
     "name": "stderr",
     "output_type": "stream",
     "text": [
      "/home/neft/anaconda3/envs/ai/lib/python3.7/site-packages/ase/data/pubchem.py:85: UserWarning: The structure \"9782\" has more than one conformer in PubChem. By default, the first conformer is returned, please ensure you are using the structure you intend to or use the `ase.data.pubchem.pubchem_conformer_search` function\n",
      "  ' function'.format(search))\n"
     ]
    },
    {
     "name": "stdout",
     "output_type": "stream",
     "text": [
      "215\n"
     ]
    },
    {
     "name": "stderr",
     "output_type": "stream",
     "text": [
      "/home/neft/anaconda3/envs/ai/lib/python3.7/site-packages/ase/data/pubchem.py:85: UserWarning: The structure \"452548\" has more than one conformer in PubChem. By default, the first conformer is returned, please ensure you are using the structure you intend to or use the `ase.data.pubchem.pubchem_conformer_search` function\n",
      "  ' function'.format(search))\n"
     ]
    },
    {
     "name": "stdout",
     "output_type": "stream",
     "text": [
      "216\n"
     ]
    },
    {
     "name": "stderr",
     "output_type": "stream",
     "text": [
      "/home/neft/anaconda3/envs/ai/lib/python3.7/site-packages/ase/data/pubchem.py:85: UserWarning: The structure \"41867\" has more than one conformer in PubChem. By default, the first conformer is returned, please ensure you are using the structure you intend to or use the `ase.data.pubchem.pubchem_conformer_search` function\n",
      "  ' function'.format(search))\n"
     ]
    },
    {
     "name": "stdout",
     "output_type": "stream",
     "text": [
      "217\n"
     ]
    },
    {
     "name": "stderr",
     "output_type": "stream",
     "text": [
      "/home/neft/anaconda3/envs/ai/lib/python3.7/site-packages/ase/data/pubchem.py:85: UserWarning: The structure \"5959\" has more than one conformer in PubChem. By default, the first conformer is returned, please ensure you are using the structure you intend to or use the `ase.data.pubchem.pubchem_conformer_search` function\n",
      "  ' function'.format(search))\n"
     ]
    },
    {
     "name": "stdout",
     "output_type": "stream",
     "text": [
      "218\n"
     ]
    },
    {
     "name": "stderr",
     "output_type": "stream",
     "text": [
      "/home/neft/anaconda3/envs/ai/lib/python3.7/site-packages/ase/data/pubchem.py:85: UserWarning: The structure \"3883\" has more than one conformer in PubChem. By default, the first conformer is returned, please ensure you are using the structure you intend to or use the `ase.data.pubchem.pubchem_conformer_search` function\n",
      "  ' function'.format(search))\n"
     ]
    },
    {
     "name": "stdout",
     "output_type": "stream",
     "text": [
      "219\n"
     ]
    },
    {
     "name": "stderr",
     "output_type": "stream",
     "text": [
      "/home/neft/anaconda3/envs/ai/lib/python3.7/site-packages/ase/data/pubchem.py:85: UserWarning: The structure \"3105\" has more than one conformer in PubChem. By default, the first conformer is returned, please ensure you are using the structure you intend to or use the `ase.data.pubchem.pubchem_conformer_search` function\n",
      "  ' function'.format(search))\n"
     ]
    },
    {
     "name": "stdout",
     "output_type": "stream",
     "text": [
      "220\n"
     ]
    },
    {
     "name": "stderr",
     "output_type": "stream",
     "text": [
      "/home/neft/anaconda3/envs/ai/lib/python3.7/site-packages/ase/data/pubchem.py:85: UserWarning: The structure \"3168\" has more than one conformer in PubChem. By default, the first conformer is returned, please ensure you are using the structure you intend to or use the `ase.data.pubchem.pubchem_conformer_search` function\n",
      "  ' function'.format(search))\n"
     ]
    },
    {
     "name": "stdout",
     "output_type": "stream",
     "text": [
      "221\n"
     ]
    },
    {
     "name": "stderr",
     "output_type": "stream",
     "text": [
      "/home/neft/anaconda3/envs/ai/lib/python3.7/site-packages/ase/data/pubchem.py:85: UserWarning: The structure \"5819\" has more than one conformer in PubChem. By default, the first conformer is returned, please ensure you are using the structure you intend to or use the `ase.data.pubchem.pubchem_conformer_search` function\n",
      "  ' function'.format(search))\n"
     ]
    },
    {
     "name": "stdout",
     "output_type": "stream",
     "text": [
      "222\n"
     ]
    },
    {
     "name": "stderr",
     "output_type": "stream",
     "text": [
      "/home/neft/anaconda3/envs/ai/lib/python3.7/site-packages/ase/data/pubchem.py:85: UserWarning: The structure \"4058\" has more than one conformer in PubChem. By default, the first conformer is returned, please ensure you are using the structure you intend to or use the `ase.data.pubchem.pubchem_conformer_search` function\n",
      "  ' function'.format(search))\n"
     ]
    },
    {
     "name": "stdout",
     "output_type": "stream",
     "text": [
      "223\n"
     ]
    },
    {
     "name": "stderr",
     "output_type": "stream",
     "text": [
      "/home/neft/anaconda3/envs/ai/lib/python3.7/site-packages/ase/data/pubchem.py:85: UserWarning: The structure \"3957\" has more than one conformer in PubChem. By default, the first conformer is returned, please ensure you are using the structure you intend to or use the `ase.data.pubchem.pubchem_conformer_search` function\n",
      "  ' function'.format(search))\n"
     ]
    },
    {
     "name": "stdout",
     "output_type": "stream",
     "text": [
      "224\n"
     ]
    },
    {
     "name": "stderr",
     "output_type": "stream",
     "text": [
      "/home/neft/anaconda3/envs/ai/lib/python3.7/site-packages/ase/data/pubchem.py:85: UserWarning: The structure \"6024\" has more than one conformer in PubChem. By default, the first conformer is returned, please ensure you are using the structure you intend to or use the `ase.data.pubchem.pubchem_conformer_search` function\n",
      "  ' function'.format(search))\n"
     ]
    },
    {
     "name": "stdout",
     "output_type": "stream",
     "text": [
      "225\n"
     ]
    },
    {
     "name": "stderr",
     "output_type": "stream",
     "text": [
      "/home/neft/anaconda3/envs/ai/lib/python3.7/site-packages/ase/data/pubchem.py:85: UserWarning: The structure \"4893\" has more than one conformer in PubChem. By default, the first conformer is returned, please ensure you are using the structure you intend to or use the `ase.data.pubchem.pubchem_conformer_search` function\n",
      "  ' function'.format(search))\n"
     ]
    },
    {
     "name": "stdout",
     "output_type": "stream",
     "text": [
      "226\n"
     ]
    },
    {
     "name": "stderr",
     "output_type": "stream",
     "text": [
      "/home/neft/anaconda3/envs/ai/lib/python3.7/site-packages/ase/data/pubchem.py:85: UserWarning: The structure \"3696\" has more than one conformer in PubChem. By default, the first conformer is returned, please ensure you are using the structure you intend to or use the `ase.data.pubchem.pubchem_conformer_search` function\n",
      "  ' function'.format(search))\n"
     ]
    },
    {
     "name": "stdout",
     "output_type": "stream",
     "text": [
      "227\n"
     ]
    },
    {
     "name": "stderr",
     "output_type": "stream",
     "text": [
      "/home/neft/anaconda3/envs/ai/lib/python3.7/site-packages/ase/data/pubchem.py:85: UserWarning: The structure \"5284513\" has more than one conformer in PubChem. By default, the first conformer is returned, please ensure you are using the structure you intend to or use the `ase.data.pubchem.pubchem_conformer_search` function\n",
      "  ' function'.format(search))\n"
     ]
    },
    {
     "name": "stdout",
     "output_type": "stream",
     "text": [
      "228\n"
     ]
    },
    {
     "name": "stderr",
     "output_type": "stream",
     "text": [
      "/home/neft/anaconda3/envs/ai/lib/python3.7/site-packages/ase/data/pubchem.py:85: UserWarning: The structure \"4409\" has more than one conformer in PubChem. By default, the first conformer is returned, please ensure you are using the structure you intend to or use the `ase.data.pubchem.pubchem_conformer_search` function\n",
      "  ' function'.format(search))\n"
     ]
    },
    {
     "name": "stdout",
     "output_type": "stream",
     "text": [
      "229\n"
     ]
    },
    {
     "name": "stderr",
     "output_type": "stream",
     "text": [
      "/home/neft/anaconda3/envs/ai/lib/python3.7/site-packages/ase/data/pubchem.py:85: UserWarning: The structure \"4099\" has more than one conformer in PubChem. By default, the first conformer is returned, please ensure you are using the structure you intend to or use the `ase.data.pubchem.pubchem_conformer_search` function\n",
      "  ' function'.format(search))\n"
     ]
    },
    {
     "name": "stdout",
     "output_type": "stream",
     "text": [
      "230\n"
     ]
    },
    {
     "name": "stderr",
     "output_type": "stream",
     "text": [
      "/home/neft/anaconda3/envs/ai/lib/python3.7/site-packages/ase/data/pubchem.py:85: UserWarning: The structure \"3229\" has more than one conformer in PubChem. By default, the first conformer is returned, please ensure you are using the structure you intend to or use the `ase.data.pubchem.pubchem_conformer_search` function\n",
      "  ' function'.format(search))\n"
     ]
    },
    {
     "name": "stdout",
     "output_type": "stream",
     "text": [
      "231\n"
     ]
    },
    {
     "name": "stderr",
     "output_type": "stream",
     "text": [
      "/home/neft/anaconda3/envs/ai/lib/python3.7/site-packages/ase/data/pubchem.py:85: UserWarning: The structure \"3034034\" has more than one conformer in PubChem. By default, the first conformer is returned, please ensure you are using the structure you intend to or use the `ase.data.pubchem.pubchem_conformer_search` function\n",
      "  ' function'.format(search))\n"
     ]
    },
    {
     "name": "stdout",
     "output_type": "stream",
     "text": [
      "232\n"
     ]
    },
    {
     "name": "stderr",
     "output_type": "stream",
     "text": [
      "/home/neft/anaconda3/envs/ai/lib/python3.7/site-packages/ase/data/pubchem.py:85: UserWarning: The structure \"54677971\" has more than one conformer in PubChem. By default, the first conformer is returned, please ensure you are using the structure you intend to or use the `ase.data.pubchem.pubchem_conformer_search` function\n",
      "  ' function'.format(search))\n"
     ]
    },
    {
     "name": "stdout",
     "output_type": "stream",
     "text": [
      "233\n"
     ]
    },
    {
     "name": "stderr",
     "output_type": "stream",
     "text": [
      "/home/neft/anaconda3/envs/ai/lib/python3.7/site-packages/ase/data/pubchem.py:85: UserWarning: The structure \"16078\" has more than one conformer in PubChem. By default, the first conformer is returned, please ensure you are using the structure you intend to or use the `ase.data.pubchem.pubchem_conformer_search` function\n",
      "  ' function'.format(search))\n"
     ]
    },
    {
     "name": "stdout",
     "output_type": "stream",
     "text": [
      "234\n"
     ]
    },
    {
     "name": "stderr",
     "output_type": "stream",
     "text": [
      "/home/neft/anaconda3/envs/ai/lib/python3.7/site-packages/ase/data/pubchem.py:85: UserWarning: The structure \"5281040\" has more than one conformer in PubChem. By default, the first conformer is returned, please ensure you are using the structure you intend to or use the `ase.data.pubchem.pubchem_conformer_search` function\n",
      "  ' function'.format(search))\n"
     ]
    },
    {
     "name": "stdout",
     "output_type": "stream",
     "text": [
      "235\n"
     ]
    },
    {
     "name": "stderr",
     "output_type": "stream",
     "text": [
      "/home/neft/anaconda3/envs/ai/lib/python3.7/site-packages/ase/data/pubchem.py:85: UserWarning: The structure \"3386\" has more than one conformer in PubChem. By default, the first conformer is returned, please ensure you are using the structure you intend to or use the `ase.data.pubchem.pubchem_conformer_search` function\n",
      "  ' function'.format(search))\n"
     ]
    },
    {
     "name": "stdout",
     "output_type": "stream",
     "text": [
      "236\n"
     ]
    },
    {
     "name": "stderr",
     "output_type": "stream",
     "text": [
      "/home/neft/anaconda3/envs/ai/lib/python3.7/site-packages/ase/data/pubchem.py:85: UserWarning: The structure \"10770\" has more than one conformer in PubChem. By default, the first conformer is returned, please ensure you are using the structure you intend to or use the `ase.data.pubchem.pubchem_conformer_search` function\n",
      "  ' function'.format(search))\n"
     ]
    },
    {
     "name": "stdout",
     "output_type": "stream",
     "text": [
      "237\n"
     ]
    },
    {
     "name": "stderr",
     "output_type": "stream",
     "text": [
      "/home/neft/anaconda3/envs/ai/lib/python3.7/site-packages/ase/data/pubchem.py:85: UserWarning: The structure \"2712\" has more than one conformer in PubChem. By default, the first conformer is returned, please ensure you are using the structure you intend to or use the `ase.data.pubchem.pubchem_conformer_search` function\n",
      "  ' function'.format(search))\n"
     ]
    },
    {
     "name": "stdout",
     "output_type": "stream",
     "text": [
      "238\n"
     ]
    },
    {
     "name": "stderr",
     "output_type": "stream",
     "text": [
      "/home/neft/anaconda3/envs/ai/lib/python3.7/site-packages/ase/data/pubchem.py:85: UserWarning: The structure \"2726\" has more than one conformer in PubChem. By default, the first conformer is returned, please ensure you are using the structure you intend to or use the `ase.data.pubchem.pubchem_conformer_search` function\n",
      "  ' function'.format(search))\n"
     ]
    },
    {
     "name": "stdout",
     "output_type": "stream",
     "text": [
      "239\n"
     ]
    },
    {
     "name": "stderr",
     "output_type": "stream",
     "text": [
      "/home/neft/anaconda3/envs/ai/lib/python3.7/site-packages/ase/data/pubchem.py:85: UserWarning: The structure \"37768\" has more than one conformer in PubChem. By default, the first conformer is returned, please ensure you are using the structure you intend to or use the `ase.data.pubchem.pubchem_conformer_search` function\n",
      "  ' function'.format(search))\n"
     ]
    },
    {
     "name": "stdout",
     "output_type": "stream",
     "text": [
      "240\n"
     ]
    },
    {
     "name": "stderr",
     "output_type": "stream",
     "text": [
      "/home/neft/anaconda3/envs/ai/lib/python3.7/site-packages/ase/data/pubchem.py:85: UserWarning: The structure \"5035\" has more than one conformer in PubChem. By default, the first conformer is returned, please ensure you are using the structure you intend to or use the `ase.data.pubchem.pubchem_conformer_search` function\n",
      "  ' function'.format(search))\n"
     ]
    },
    {
     "name": "stdout",
     "output_type": "stream",
     "text": [
      "241\n"
     ]
    },
    {
     "name": "stderr",
     "output_type": "stream",
     "text": [
      "/home/neft/anaconda3/envs/ai/lib/python3.7/site-packages/ase/data/pubchem.py:85: UserWarning: The structure \"2662\" has more than one conformer in PubChem. By default, the first conformer is returned, please ensure you are using the structure you intend to or use the `ase.data.pubchem.pubchem_conformer_search` function\n",
      "  ' function'.format(search))\n"
     ]
    },
    {
     "name": "stdout",
     "output_type": "stream",
     "text": [
      "242\n"
     ]
    },
    {
     "name": "stderr",
     "output_type": "stream",
     "text": [
      "/home/neft/anaconda3/envs/ai/lib/python3.7/site-packages/ase/data/pubchem.py:85: UserWarning: The structure \"2435\" has more than one conformer in PubChem. By default, the first conformer is returned, please ensure you are using the structure you intend to or use the `ase.data.pubchem.pubchem_conformer_search` function\n",
      "  ' function'.format(search))\n"
     ]
    },
    {
     "name": "stdout",
     "output_type": "stream",
     "text": [
      "243\n"
     ]
    },
    {
     "name": "stderr",
     "output_type": "stream",
     "text": [
      "/home/neft/anaconda3/envs/ai/lib/python3.7/site-packages/ase/data/pubchem.py:85: UserWarning: The structure \"51081\" has more than one conformer in PubChem. By default, the first conformer is returned, please ensure you are using the structure you intend to or use the `ase.data.pubchem.pubchem_conformer_search` function\n",
      "  ' function'.format(search))\n"
     ]
    },
    {
     "name": "stdout",
     "output_type": "stream",
     "text": [
      "244\n"
     ]
    },
    {
     "name": "stderr",
     "output_type": "stream",
     "text": [
      "/home/neft/anaconda3/envs/ai/lib/python3.7/site-packages/ase/data/pubchem.py:85: UserWarning: The structure \"2123\" has more than one conformer in PubChem. By default, the first conformer is returned, please ensure you are using the structure you intend to or use the `ase.data.pubchem.pubchem_conformer_search` function\n",
      "  ' function'.format(search))\n"
     ]
    },
    {
     "name": "stdout",
     "output_type": "stream",
     "text": [
      "245\n"
     ]
    },
    {
     "name": "stderr",
     "output_type": "stream",
     "text": [
      "/home/neft/anaconda3/envs/ai/lib/python3.7/site-packages/ase/data/pubchem.py:85: UserWarning: The structure \"5253\" has more than one conformer in PubChem. By default, the first conformer is returned, please ensure you are using the structure you intend to or use the `ase.data.pubchem.pubchem_conformer_search` function\n",
      "  ' function'.format(search))\n"
     ]
    },
    {
     "name": "stdout",
     "output_type": "stream",
     "text": [
      "246\n"
     ]
    },
    {
     "name": "stderr",
     "output_type": "stream",
     "text": [
      "/home/neft/anaconda3/envs/ai/lib/python3.7/site-packages/ase/data/pubchem.py:85: UserWarning: The structure \"2477\" has more than one conformer in PubChem. By default, the first conformer is returned, please ensure you are using the structure you intend to or use the `ase.data.pubchem.pubchem_conformer_search` function\n",
      "  ' function'.format(search))\n"
     ]
    },
    {
     "name": "stdout",
     "output_type": "stream",
     "text": [
      "247\n"
     ]
    },
    {
     "name": "stderr",
     "output_type": "stream",
     "text": [
      "/home/neft/anaconda3/envs/ai/lib/python3.7/site-packages/ase/data/pubchem.py:85: UserWarning: The structure \"441314\" has more than one conformer in PubChem. By default, the first conformer is returned, please ensure you are using the structure you intend to or use the `ase.data.pubchem.pubchem_conformer_search` function\n",
      "  ' function'.format(search))\n"
     ]
    },
    {
     "name": "stdout",
     "output_type": "stream",
     "text": [
      "248\n"
     ]
    },
    {
     "name": "stderr",
     "output_type": "stream",
     "text": [
      "/home/neft/anaconda3/envs/ai/lib/python3.7/site-packages/ase/data/pubchem.py:85: UserWarning: The structure \"35370\" has more than one conformer in PubChem. By default, the first conformer is returned, please ensure you are using the structure you intend to or use the `ase.data.pubchem.pubchem_conformer_search` function\n",
      "  ' function'.format(search))\n"
     ]
    },
    {
     "name": "stdout",
     "output_type": "stream",
     "text": [
      "249\n",
      "250\n",
      "251\n"
     ]
    },
    {
     "name": "stderr",
     "output_type": "stream",
     "text": [
      "/home/neft/anaconda3/envs/ai/lib/python3.7/site-packages/ase/data/pubchem.py:85: UserWarning: The structure \"3397\" has more than one conformer in PubChem. By default, the first conformer is returned, please ensure you are using the structure you intend to or use the `ase.data.pubchem.pubchem_conformer_search` function\n",
      "  ' function'.format(search))\n"
     ]
    },
    {
     "name": "stdout",
     "output_type": "stream",
     "text": [
      "252\n"
     ]
    },
    {
     "name": "stderr",
     "output_type": "stream",
     "text": [
      "/home/neft/anaconda3/envs/ai/lib/python3.7/site-packages/ase/data/pubchem.py:85: UserWarning: The structure \"5509\" has more than one conformer in PubChem. By default, the first conformer is returned, please ensure you are using the structure you intend to or use the `ase.data.pubchem.pubchem_conformer_search` function\n",
      "  ' function'.format(search))\n"
     ]
    },
    {
     "name": "stdout",
     "output_type": "stream",
     "text": [
      "253\n"
     ]
    },
    {
     "name": "stderr",
     "output_type": "stream",
     "text": [
      "/home/neft/anaconda3/envs/ai/lib/python3.7/site-packages/ase/data/pubchem.py:85: UserWarning: The structure \"2756\" has more than one conformer in PubChem. By default, the first conformer is returned, please ensure you are using the structure you intend to or use the `ase.data.pubchem.pubchem_conformer_search` function\n",
      "  ' function'.format(search))\n"
     ]
    },
    {
     "name": "stdout",
     "output_type": "stream",
     "text": [
      "254\n"
     ]
    },
    {
     "name": "stderr",
     "output_type": "stream",
     "text": [
      "/home/neft/anaconda3/envs/ai/lib/python3.7/site-packages/ase/data/pubchem.py:85: UserWarning: The structure \"3559\" has more than one conformer in PubChem. By default, the first conformer is returned, please ensure you are using the structure you intend to or use the `ase.data.pubchem.pubchem_conformer_search` function\n",
      "  ' function'.format(search))\n"
     ]
    },
    {
     "name": "stdout",
     "output_type": "stream",
     "text": [
      "255\n"
     ]
    },
    {
     "name": "stderr",
     "output_type": "stream",
     "text": [
      "/home/neft/anaconda3/envs/ai/lib/python3.7/site-packages/ase/data/pubchem.py:85: UserWarning: The structure \"5359371\" has more than one conformer in PubChem. By default, the first conformer is returned, please ensure you are using the structure you intend to or use the `ase.data.pubchem.pubchem_conformer_search` function\n",
      "  ' function'.format(search))\n"
     ]
    },
    {
     "name": "stdout",
     "output_type": "stream",
     "text": [
      "256\n"
     ]
    },
    {
     "name": "stderr",
     "output_type": "stream",
     "text": [
      "/home/neft/anaconda3/envs/ai/lib/python3.7/site-packages/ase/data/pubchem.py:85: UserWarning: The structure \"20299\" has more than one conformer in PubChem. By default, the first conformer is returned, please ensure you are using the structure you intend to or use the `ase.data.pubchem.pubchem_conformer_search` function\n",
      "  ' function'.format(search))\n"
     ]
    },
    {
     "name": "stdout",
     "output_type": "stream",
     "text": [
      "257\n"
     ]
    },
    {
     "name": "stderr",
     "output_type": "stream",
     "text": [
      "/home/neft/anaconda3/envs/ai/lib/python3.7/site-packages/ase/data/pubchem.py:85: UserWarning: The structure \"41684\" has more than one conformer in PubChem. By default, the first conformer is returned, please ensure you are using the structure you intend to or use the `ase.data.pubchem.pubchem_conformer_search` function\n",
      "  ' function'.format(search))\n"
     ]
    },
    {
     "name": "stdout",
     "output_type": "stream",
     "text": [
      "258\n"
     ]
    },
    {
     "name": "stderr",
     "output_type": "stream",
     "text": [
      "/home/neft/anaconda3/envs/ai/lib/python3.7/site-packages/ase/data/pubchem.py:85: UserWarning: The structure \"8730\" has more than one conformer in PubChem. By default, the first conformer is returned, please ensure you are using the structure you intend to or use the `ase.data.pubchem.pubchem_conformer_search` function\n",
      "  ' function'.format(search))\n"
     ]
    },
    {
     "name": "stdout",
     "output_type": "stream",
     "text": [
      "259\n"
     ]
    },
    {
     "name": "stderr",
     "output_type": "stream",
     "text": [
      "/home/neft/anaconda3/envs/ai/lib/python3.7/site-packages/ase/data/pubchem.py:85: UserWarning: The structure \"564\" has more than one conformer in PubChem. By default, the first conformer is returned, please ensure you are using the structure you intend to or use the `ase.data.pubchem.pubchem_conformer_search` function\n",
      "  ' function'.format(search))\n"
     ]
    },
    {
     "name": "stdout",
     "output_type": "stream",
     "text": [
      "260\n"
     ]
    },
    {
     "name": "stderr",
     "output_type": "stream",
     "text": [
      "/home/neft/anaconda3/envs/ai/lib/python3.7/site-packages/ase/data/pubchem.py:85: UserWarning: The structure \"5360696\" has more than one conformer in PubChem. By default, the first conformer is returned, please ensure you are using the structure you intend to or use the `ase.data.pubchem.pubchem_conformer_search` function\n",
      "  ' function'.format(search))\n"
     ]
    },
    {
     "name": "stdout",
     "output_type": "stream",
     "text": [
      "261\n"
     ]
    },
    {
     "name": "stderr",
     "output_type": "stream",
     "text": [
      "/home/neft/anaconda3/envs/ai/lib/python3.7/site-packages/ase/data/pubchem.py:85: UserWarning: The structure \"2082\" has more than one conformer in PubChem. By default, the first conformer is returned, please ensure you are using the structure you intend to or use the `ase.data.pubchem.pubchem_conformer_search` function\n",
      "  ' function'.format(search))\n"
     ]
    },
    {
     "name": "stdout",
     "output_type": "stream",
     "text": [
      "262\n"
     ]
    },
    {
     "name": "stderr",
     "output_type": "stream",
     "text": [
      "/home/neft/anaconda3/envs/ai/lib/python3.7/site-packages/ase/data/pubchem.py:85: UserWarning: The structure \"5484727\" has more than one conformer in PubChem. By default, the first conformer is returned, please ensure you are using the structure you intend to or use the `ase.data.pubchem.pubchem_conformer_search` function\n",
      "  ' function'.format(search))\n"
     ]
    },
    {
     "name": "stdout",
     "output_type": "stream",
     "text": [
      "263\n"
     ]
    },
    {
     "name": "stderr",
     "output_type": "stream",
     "text": [
      "/home/neft/anaconda3/envs/ai/lib/python3.7/site-packages/ase/data/pubchem.py:85: UserWarning: The structure \"6957673\" has more than one conformer in PubChem. By default, the first conformer is returned, please ensure you are using the structure you intend to or use the `ase.data.pubchem.pubchem_conformer_search` function\n",
      "  ' function'.format(search))\n"
     ]
    },
    {
     "name": "stdout",
     "output_type": "stream",
     "text": [
      "264\n"
     ]
    },
    {
     "name": "stderr",
     "output_type": "stream",
     "text": [
      "/home/neft/anaconda3/envs/ai/lib/python3.7/site-packages/ase/data/pubchem.py:85: UserWarning: The structure \"449171\" has more than one conformer in PubChem. By default, the first conformer is returned, please ensure you are using the structure you intend to or use the `ase.data.pubchem.pubchem_conformer_search` function\n",
      "  ' function'.format(search))\n"
     ]
    },
    {
     "name": "stdout",
     "output_type": "stream",
     "text": [
      "265\n"
     ]
    },
    {
     "name": "stderr",
     "output_type": "stream",
     "text": [
      "/home/neft/anaconda3/envs/ai/lib/python3.7/site-packages/ase/data/pubchem.py:85: UserWarning: The structure \"4170\" has more than one conformer in PubChem. By default, the first conformer is returned, please ensure you are using the structure you intend to or use the `ase.data.pubchem.pubchem_conformer_search` function\n",
      "  ' function'.format(search))\n"
     ]
    },
    {
     "name": "stdout",
     "output_type": "stream",
     "text": [
      "266\n"
     ]
    },
    {
     "name": "stderr",
     "output_type": "stream",
     "text": [
      "/home/neft/anaconda3/envs/ai/lib/python3.7/site-packages/ase/data/pubchem.py:85: UserWarning: The structure \"5510\" has more than one conformer in PubChem. By default, the first conformer is returned, please ensure you are using the structure you intend to or use the `ase.data.pubchem.pubchem_conformer_search` function\n",
      "  ' function'.format(search))\n"
     ]
    },
    {
     "name": "stdout",
     "output_type": "stream",
     "text": [
      "267\n",
      "268\n"
     ]
    },
    {
     "name": "stderr",
     "output_type": "stream",
     "text": [
      "/home/neft/anaconda3/envs/ai/lib/python3.7/site-packages/ase/data/pubchem.py:85: UserWarning: The structure \"2907\" has more than one conformer in PubChem. By default, the first conformer is returned, please ensure you are using the structure you intend to or use the `ase.data.pubchem.pubchem_conformer_search` function\n",
      "  ' function'.format(search))\n"
     ]
    },
    {
     "name": "stdout",
     "output_type": "stream",
     "text": [
      "269\n"
     ]
    },
    {
     "name": "stderr",
     "output_type": "stream",
     "text": [
      "/home/neft/anaconda3/envs/ai/lib/python3.7/site-packages/ase/data/pubchem.py:85: UserWarning: The structure \"4060\" has more than one conformer in PubChem. By default, the first conformer is returned, please ensure you are using the structure you intend to or use the `ase.data.pubchem.pubchem_conformer_search` function\n",
      "  ' function'.format(search))\n"
     ]
    },
    {
     "name": "stdout",
     "output_type": "stream",
     "text": [
      "270\n"
     ]
    },
    {
     "name": "stderr",
     "output_type": "stream",
     "text": [
      "/home/neft/anaconda3/envs/ai/lib/python3.7/site-packages/ase/data/pubchem.py:85: UserWarning: The structure \"6915944\" has more than one conformer in PubChem. By default, the first conformer is returned, please ensure you are using the structure you intend to or use the `ase.data.pubchem.pubchem_conformer_search` function\n",
      "  ' function'.format(search))\n"
     ]
    },
    {
     "name": "stdout",
     "output_type": "stream",
     "text": [
      "271\n",
      "272\n"
     ]
    },
    {
     "name": "stderr",
     "output_type": "stream",
     "text": [
      "/home/neft/anaconda3/envs/ai/lib/python3.7/site-packages/ase/data/pubchem.py:85: UserWarning: The structure \"2764\" has more than one conformer in PubChem. By default, the first conformer is returned, please ensure you are using the structure you intend to or use the `ase.data.pubchem.pubchem_conformer_search` function\n",
      "  ' function'.format(search))\n"
     ]
    },
    {
     "name": "stdout",
     "output_type": "stream",
     "text": [
      "273\n"
     ]
    },
    {
     "name": "stderr",
     "output_type": "stream",
     "text": [
      "/home/neft/anaconda3/envs/ai/lib/python3.7/site-packages/ase/data/pubchem.py:85: UserWarning: The structure \"3005573\" has more than one conformer in PubChem. By default, the first conformer is returned, please ensure you are using the structure you intend to or use the `ase.data.pubchem.pubchem_conformer_search` function\n",
      "  ' function'.format(search))\n"
     ]
    },
    {
     "name": "stdout",
     "output_type": "stream",
     "text": [
      "274\n"
     ]
    },
    {
     "name": "stderr",
     "output_type": "stream",
     "text": [
      "/home/neft/anaconda3/envs/ai/lib/python3.7/site-packages/ase/data/pubchem.py:85: UserWarning: The structure \"4543\" has more than one conformer in PubChem. By default, the first conformer is returned, please ensure you are using the structure you intend to or use the `ase.data.pubchem.pubchem_conformer_search` function\n",
      "  ' function'.format(search))\n"
     ]
    },
    {
     "name": "stdout",
     "output_type": "stream",
     "text": [
      "275\n"
     ]
    },
    {
     "name": "stderr",
     "output_type": "stream",
     "text": [
      "/home/neft/anaconda3/envs/ai/lib/python3.7/site-packages/ase/data/pubchem.py:85: UserWarning: The structure \"5362124\" has more than one conformer in PubChem. By default, the first conformer is returned, please ensure you are using the structure you intend to or use the `ase.data.pubchem.pubchem_conformer_search` function\n",
      "  ' function'.format(search))\n"
     ]
    },
    {
     "name": "stdout",
     "output_type": "stream",
     "text": [
      "276\n"
     ]
    },
    {
     "name": "stderr",
     "output_type": "stream",
     "text": [
      "/home/neft/anaconda3/envs/ai/lib/python3.7/site-packages/ase/data/pubchem.py:85: UserWarning: The structure \"2170\" has more than one conformer in PubChem. By default, the first conformer is returned, please ensure you are using the structure you intend to or use the `ase.data.pubchem.pubchem_conformer_search` function\n",
      "  ' function'.format(search))\n"
     ]
    },
    {
     "name": "stdout",
     "output_type": "stream",
     "text": [
      "277\n",
      "278\n"
     ]
    },
    {
     "name": "stderr",
     "output_type": "stream",
     "text": [
      "/home/neft/anaconda3/envs/ai/lib/python3.7/site-packages/ase/data/pubchem.py:85: UserWarning: The structure \"4991\" has more than one conformer in PubChem. By default, the first conformer is returned, please ensure you are using the structure you intend to or use the `ase.data.pubchem.pubchem_conformer_search` function\n",
      "  ' function'.format(search))\n"
     ]
    },
    {
     "name": "stdout",
     "output_type": "stream",
     "text": [
      "279\n"
     ]
    },
    {
     "name": "stderr",
     "output_type": "stream",
     "text": [
      "/home/neft/anaconda3/envs/ai/lib/python3.7/site-packages/ase/data/pubchem.py:85: UserWarning: The structure \"5311067\" has more than one conformer in PubChem. By default, the first conformer is returned, please ensure you are using the structure you intend to or use the `ase.data.pubchem.pubchem_conformer_search` function\n",
      "  ' function'.format(search))\n"
     ]
    },
    {
     "name": "stdout",
     "output_type": "stream",
     "text": [
      "280\n"
     ]
    },
    {
     "name": "stderr",
     "output_type": "stream",
     "text": [
      "/home/neft/anaconda3/envs/ai/lib/python3.7/site-packages/ase/data/pubchem.py:85: UserWarning: The structure \"2266\" has more than one conformer in PubChem. By default, the first conformer is returned, please ensure you are using the structure you intend to or use the `ase.data.pubchem.pubchem_conformer_search` function\n",
      "  ' function'.format(search))\n"
     ]
    },
    {
     "name": "stdout",
     "output_type": "stream",
     "text": [
      "281\n"
     ]
    },
    {
     "name": "stderr",
     "output_type": "stream",
     "text": [
      "/home/neft/anaconda3/envs/ai/lib/python3.7/site-packages/ase/data/pubchem.py:85: UserWarning: The structure \"5717\" has more than one conformer in PubChem. By default, the first conformer is returned, please ensure you are using the structure you intend to or use the `ase.data.pubchem.pubchem_conformer_search` function\n",
      "  ' function'.format(search))\n"
     ]
    },
    {
     "name": "stdout",
     "output_type": "stream",
     "text": [
      "282\n"
     ]
    },
    {
     "name": "stderr",
     "output_type": "stream",
     "text": [
      "/home/neft/anaconda3/envs/ai/lib/python3.7/site-packages/ase/data/pubchem.py:85: UserWarning: The structure \"657298\" has more than one conformer in PubChem. By default, the first conformer is returned, please ensure you are using the structure you intend to or use the `ase.data.pubchem.pubchem_conformer_search` function\n",
      "  ' function'.format(search))\n"
     ]
    },
    {
     "name": "stdout",
     "output_type": "stream",
     "text": [
      "283\n",
      "284\n"
     ]
    },
    {
     "name": "stderr",
     "output_type": "stream",
     "text": [
      "/home/neft/anaconda3/envs/ai/lib/python3.7/site-packages/ase/data/pubchem.py:85: UserWarning: The structure \"439693\" has more than one conformer in PubChem. By default, the first conformer is returned, please ensure you are using the structure you intend to or use the `ase.data.pubchem.pubchem_conformer_search` function\n",
      "  ' function'.format(search))\n"
     ]
    },
    {
     "name": "stdout",
     "output_type": "stream",
     "text": [
      "285\n",
      "286\n"
     ]
    },
    {
     "name": "stderr",
     "output_type": "stream",
     "text": [
      "/home/neft/anaconda3/envs/ai/lib/python3.7/site-packages/ase/data/pubchem.py:85: UserWarning: The structure \"54676228\" has more than one conformer in PubChem. By default, the first conformer is returned, please ensure you are using the structure you intend to or use the `ase.data.pubchem.pubchem_conformer_search` function\n",
      "  ' function'.format(search))\n"
     ]
    },
    {
     "name": "stdout",
     "output_type": "stream",
     "text": [
      "287\n",
      "288\n"
     ]
    },
    {
     "name": "stderr",
     "output_type": "stream",
     "text": [
      "/home/neft/anaconda3/envs/ai/lib/python3.7/site-packages/ase/data/pubchem.py:85: UserWarning: The structure \"3658\" has more than one conformer in PubChem. By default, the first conformer is returned, please ensure you are using the structure you intend to or use the `ase.data.pubchem.pubchem_conformer_search` function\n",
      "  ' function'.format(search))\n"
     ]
    },
    {
     "name": "stdout",
     "output_type": "stream",
     "text": [
      "289\n"
     ]
    },
    {
     "name": "stderr",
     "output_type": "stream",
     "text": [
      "/home/neft/anaconda3/envs/ai/lib/python3.7/site-packages/ase/data/pubchem.py:85: UserWarning: The structure \"3156\" has more than one conformer in PubChem. By default, the first conformer is returned, please ensure you are using the structure you intend to or use the `ase.data.pubchem.pubchem_conformer_search` function\n",
      "  ' function'.format(search))\n"
     ]
    },
    {
     "name": "stdout",
     "output_type": "stream",
     "text": [
      "290\n"
     ]
    },
    {
     "name": "stderr",
     "output_type": "stream",
     "text": [
      "/home/neft/anaconda3/envs/ai/lib/python3.7/site-packages/ase/data/pubchem.py:85: UserWarning: The structure \"2343\" has more than one conformer in PubChem. By default, the first conformer is returned, please ensure you are using the structure you intend to or use the `ase.data.pubchem.pubchem_conformer_search` function\n",
      "  ' function'.format(search))\n"
     ]
    },
    {
     "name": "stdout",
     "output_type": "stream",
     "text": [
      "291\n"
     ]
    },
    {
     "name": "stderr",
     "output_type": "stream",
     "text": [
      "/home/neft/anaconda3/envs/ai/lib/python3.7/site-packages/ase/data/pubchem.py:85: UserWarning: The structure \"126941\" has more than one conformer in PubChem. By default, the first conformer is returned, please ensure you are using the structure you intend to or use the `ase.data.pubchem.pubchem_conformer_search` function\n",
      "  ' function'.format(search))\n"
     ]
    },
    {
     "name": "stdout",
     "output_type": "stream",
     "text": [
      "292\n"
     ]
    },
    {
     "name": "stderr",
     "output_type": "stream",
     "text": [
      "/home/neft/anaconda3/envs/ai/lib/python3.7/site-packages/ase/data/pubchem.py:85: UserWarning: The structure \"2554\" has more than one conformer in PubChem. By default, the first conformer is returned, please ensure you are using the structure you intend to or use the `ase.data.pubchem.pubchem_conformer_search` function\n",
      "  ' function'.format(search))\n"
     ]
    },
    {
     "name": "stdout",
     "output_type": "stream",
     "text": [
      "293\n"
     ]
    },
    {
     "name": "stderr",
     "output_type": "stream",
     "text": [
      "/home/neft/anaconda3/envs/ai/lib/python3.7/site-packages/ase/data/pubchem.py:85: UserWarning: The structure \"2724354\" has more than one conformer in PubChem. By default, the first conformer is returned, please ensure you are using the structure you intend to or use the `ase.data.pubchem.pubchem_conformer_search` function\n",
      "  ' function'.format(search))\n"
     ]
    },
    {
     "name": "stdout",
     "output_type": "stream",
     "text": [
      "294\n"
     ]
    },
    {
     "name": "stderr",
     "output_type": "stream",
     "text": [
      "/home/neft/anaconda3/envs/ai/lib/python3.7/site-packages/ase/data/pubchem.py:85: UserWarning: The structure \"27447\" has more than one conformer in PubChem. By default, the first conformer is returned, please ensure you are using the structure you intend to or use the `ase.data.pubchem.pubchem_conformer_search` function\n",
      "  ' function'.format(search))\n"
     ]
    },
    {
     "name": "stdout",
     "output_type": "stream",
     "text": [
      "295\n"
     ]
    },
    {
     "name": "stderr",
     "output_type": "stream",
     "text": [
      "/home/neft/anaconda3/envs/ai/lib/python3.7/site-packages/ase/data/pubchem.py:85: UserWarning: The structure \"4946\" has more than one conformer in PubChem. By default, the first conformer is returned, please ensure you are using the structure you intend to or use the `ase.data.pubchem.pubchem_conformer_search` function\n",
      "  ' function'.format(search))\n"
     ]
    },
    {
     "name": "stdout",
     "output_type": "stream",
     "text": [
      "296\n"
     ]
    },
    {
     "name": "stderr",
     "output_type": "stream",
     "text": [
      "/home/neft/anaconda3/envs/ai/lib/python3.7/site-packages/ase/data/pubchem.py:85: UserWarning: The structure \"174174\" has more than one conformer in PubChem. By default, the first conformer is returned, please ensure you are using the structure you intend to or use the `ase.data.pubchem.pubchem_conformer_search` function\n",
      "  ' function'.format(search))\n"
     ]
    },
    {
     "name": "stdout",
     "output_type": "stream",
     "text": [
      "297\n"
     ]
    },
    {
     "name": "stderr",
     "output_type": "stream",
     "text": [
      "/home/neft/anaconda3/envs/ai/lib/python3.7/site-packages/ase/data/pubchem.py:85: UserWarning: The structure \"3342\" has more than one conformer in PubChem. By default, the first conformer is returned, please ensure you are using the structure you intend to or use the `ase.data.pubchem.pubchem_conformer_search` function\n",
      "  ' function'.format(search))\n"
     ]
    },
    {
     "name": "stdout",
     "output_type": "stream",
     "text": [
      "298\n"
     ]
    },
    {
     "name": "stderr",
     "output_type": "stream",
     "text": [
      "/home/neft/anaconda3/envs/ai/lib/python3.7/site-packages/ase/data/pubchem.py:85: UserWarning: The structure \"2803\" has more than one conformer in PubChem. By default, the first conformer is returned, please ensure you are using the structure you intend to or use the `ase.data.pubchem.pubchem_conformer_search` function\n",
      "  ' function'.format(search))\n"
     ]
    },
    {
     "name": "stdout",
     "output_type": "stream",
     "text": [
      "299\n"
     ]
    },
    {
     "name": "stderr",
     "output_type": "stream",
     "text": [
      "/home/neft/anaconda3/envs/ai/lib/python3.7/site-packages/ase/data/pubchem.py:85: UserWarning: The structure \"5328\" has more than one conformer in PubChem. By default, the first conformer is returned, please ensure you are using the structure you intend to or use the `ase.data.pubchem.pubchem_conformer_search` function\n",
      "  ' function'.format(search))\n"
     ]
    },
    {
     "name": "stdout",
     "output_type": "stream",
     "text": [
      "300\n"
     ]
    },
    {
     "name": "stderr",
     "output_type": "stream",
     "text": [
      "/home/neft/anaconda3/envs/ai/lib/python3.7/site-packages/ase/data/pubchem.py:85: UserWarning: The structure \"135398742\" has more than one conformer in PubChem. By default, the first conformer is returned, please ensure you are using the structure you intend to or use the `ase.data.pubchem.pubchem_conformer_search` function\n",
      "  ' function'.format(search))\n"
     ]
    },
    {
     "name": "stdout",
     "output_type": "stream",
     "text": [
      "301\n"
     ]
    },
    {
     "name": "stderr",
     "output_type": "stream",
     "text": [
      "/home/neft/anaconda3/envs/ai/lib/python3.7/site-packages/ase/data/pubchem.py:85: UserWarning: The structure \"4020\" has more than one conformer in PubChem. By default, the first conformer is returned, please ensure you are using the structure you intend to or use the `ase.data.pubchem.pubchem_conformer_search` function\n",
      "  ' function'.format(search))\n"
     ]
    },
    {
     "name": "stdout",
     "output_type": "stream",
     "text": [
      "302\n"
     ]
    },
    {
     "name": "stderr",
     "output_type": "stream",
     "text": [
      "/home/neft/anaconda3/envs/ai/lib/python3.7/site-packages/ase/data/pubchem.py:85: UserWarning: The structure \"11333\" has more than one conformer in PubChem. By default, the first conformer is returned, please ensure you are using the structure you intend to or use the `ase.data.pubchem.pubchem_conformer_search` function\n",
      "  ' function'.format(search))\n"
     ]
    },
    {
     "name": "stdout",
     "output_type": "stream",
     "text": [
      "303\n"
     ]
    },
    {
     "name": "stderr",
     "output_type": "stream",
     "text": [
      "/home/neft/anaconda3/envs/ai/lib/python3.7/site-packages/ase/data/pubchem.py:85: UserWarning: The structure \"71616\" has more than one conformer in PubChem. By default, the first conformer is returned, please ensure you are using the structure you intend to or use the `ase.data.pubchem.pubchem_conformer_search` function\n",
      "  ' function'.format(search))\n"
     ]
    },
    {
     "name": "stdout",
     "output_type": "stream",
     "text": [
      "304\n"
     ]
    },
    {
     "name": "stderr",
     "output_type": "stream",
     "text": [
      "/home/neft/anaconda3/envs/ai/lib/python3.7/site-packages/ase/data/pubchem.py:85: UserWarning: The structure \"10917\" has more than one conformer in PubChem. By default, the first conformer is returned, please ensure you are using the structure you intend to or use the `ase.data.pubchem.pubchem_conformer_search` function\n",
      "  ' function'.format(search))\n"
     ]
    },
    {
     "name": "stdout",
     "output_type": "stream",
     "text": [
      "305\n"
     ]
    },
    {
     "name": "stderr",
     "output_type": "stream",
     "text": [
      "/home/neft/anaconda3/envs/ai/lib/python3.7/site-packages/ase/data/pubchem.py:85: UserWarning: The structure \"5388962\" has more than one conformer in PubChem. By default, the first conformer is returned, please ensure you are using the structure you intend to or use the `ase.data.pubchem.pubchem_conformer_search` function\n",
      "  ' function'.format(search))\n"
     ]
    },
    {
     "name": "stdout",
     "output_type": "stream",
     "text": [
      "306\n"
     ]
    },
    {
     "name": "stderr",
     "output_type": "stream",
     "text": [
      "/home/neft/anaconda3/envs/ai/lib/python3.7/site-packages/ase/data/pubchem.py:85: UserWarning: The structure \"3033637\" has more than one conformer in PubChem. By default, the first conformer is returned, please ensure you are using the structure you intend to or use the `ase.data.pubchem.pubchem_conformer_search` function\n",
      "  ' function'.format(search))\n"
     ]
    },
    {
     "name": "stdout",
     "output_type": "stream",
     "text": [
      "307\n"
     ]
    },
    {
     "name": "stderr",
     "output_type": "stream",
     "text": [
      "/home/neft/anaconda3/envs/ai/lib/python3.7/site-packages/ase/data/pubchem.py:85: UserWarning: The structure \"3033\" has more than one conformer in PubChem. By default, the first conformer is returned, please ensure you are using the structure you intend to or use the `ase.data.pubchem.pubchem_conformer_search` function\n",
      "  ' function'.format(search))\n"
     ]
    },
    {
     "name": "stdout",
     "output_type": "stream",
     "text": [
      "308\n"
     ]
    },
    {
     "name": "stderr",
     "output_type": "stream",
     "text": [
      "/home/neft/anaconda3/envs/ai/lib/python3.7/site-packages/ase/data/pubchem.py:85: UserWarning: The structure \"444036\" has more than one conformer in PubChem. By default, the first conformer is returned, please ensure you are using the structure you intend to or use the `ase.data.pubchem.pubchem_conformer_search` function\n",
      "  ' function'.format(search))\n"
     ]
    },
    {
     "name": "stdout",
     "output_type": "stream",
     "text": [
      "309\n"
     ]
    },
    {
     "name": "stderr",
     "output_type": "stream",
     "text": [
      "/home/neft/anaconda3/envs/ai/lib/python3.7/site-packages/ase/data/pubchem.py:85: UserWarning: The structure \"3157\" has more than one conformer in PubChem. By default, the first conformer is returned, please ensure you are using the structure you intend to or use the `ase.data.pubchem.pubchem_conformer_search` function\n",
      "  ' function'.format(search))\n"
     ]
    },
    {
     "name": "stdout",
     "output_type": "stream",
     "text": [
      "310\n"
     ]
    },
    {
     "name": "stderr",
     "output_type": "stream",
     "text": [
      "/home/neft/anaconda3/envs/ai/lib/python3.7/site-packages/ase/data/pubchem.py:85: UserWarning: The structure \"6215\" has more than one conformer in PubChem. By default, the first conformer is returned, please ensure you are using the structure you intend to or use the `ase.data.pubchem.pubchem_conformer_search` function\n",
      "  ' function'.format(search))\n"
     ]
    },
    {
     "name": "stdout",
     "output_type": "stream",
     "text": [
      "311\n",
      "312\n"
     ]
    },
    {
     "name": "stderr",
     "output_type": "stream",
     "text": [
      "/home/neft/anaconda3/envs/ai/lib/python3.7/site-packages/ase/data/pubchem.py:85: UserWarning: The structure \"3291\" has more than one conformer in PubChem. By default, the first conformer is returned, please ensure you are using the structure you intend to or use the `ase.data.pubchem.pubchem_conformer_search` function\n",
      "  ' function'.format(search))\n"
     ]
    },
    {
     "name": "stdout",
     "output_type": "stream",
     "text": [
      "313\n"
     ]
    },
    {
     "name": "stderr",
     "output_type": "stream",
     "text": [
      "/home/neft/anaconda3/envs/ai/lib/python3.7/site-packages/ase/data/pubchem.py:85: UserWarning: The structure \"16231\" has more than one conformer in PubChem. By default, the first conformer is returned, please ensure you are using the structure you intend to or use the `ase.data.pubchem.pubchem_conformer_search` function\n",
      "  ' function'.format(search))\n"
     ]
    },
    {
     "name": "stdout",
     "output_type": "stream",
     "text": [
      "314\n"
     ]
    },
    {
     "name": "stderr",
     "output_type": "stream",
     "text": [
      "/home/neft/anaconda3/envs/ai/lib/python3.7/site-packages/ase/data/pubchem.py:85: UserWarning: The structure \"54675779\" has more than one conformer in PubChem. By default, the first conformer is returned, please ensure you are using the structure you intend to or use the `ase.data.pubchem.pubchem_conformer_search` function\n",
      "  ' function'.format(search))\n"
     ]
    },
    {
     "name": "stdout",
     "output_type": "stream",
     "text": [
      "315\n"
     ]
    },
    {
     "name": "stderr",
     "output_type": "stream",
     "text": [
      "/home/neft/anaconda3/envs/ai/lib/python3.7/site-packages/ase/data/pubchem.py:85: UserWarning: The structure \"3869\" has more than one conformer in PubChem. By default, the first conformer is returned, please ensure you are using the structure you intend to or use the `ase.data.pubchem.pubchem_conformer_search` function\n",
      "  ' function'.format(search))\n"
     ]
    },
    {
     "name": "stdout",
     "output_type": "stream",
     "text": [
      "316\n"
     ]
    },
    {
     "name": "stderr",
     "output_type": "stream",
     "text": [
      "/home/neft/anaconda3/envs/ai/lib/python3.7/site-packages/ase/data/pubchem.py:85: UserWarning: The structure \"7638\" has more than one conformer in PubChem. By default, the first conformer is returned, please ensure you are using the structure you intend to or use the `ase.data.pubchem.pubchem_conformer_search` function\n",
      "  ' function'.format(search))\n"
     ]
    },
    {
     "name": "stdout",
     "output_type": "stream",
     "text": [
      "317\n"
     ]
    },
    {
     "name": "stderr",
     "output_type": "stream",
     "text": [
      "/home/neft/anaconda3/envs/ai/lib/python3.7/site-packages/ase/data/pubchem.py:85: UserWarning: The structure \"6279\" has more than one conformer in PubChem. By default, the first conformer is returned, please ensure you are using the structure you intend to or use the `ase.data.pubchem.pubchem_conformer_search` function\n",
      "  ' function'.format(search))\n"
     ]
    },
    {
     "name": "stdout",
     "output_type": "stream",
     "text": [
      "318\n"
     ]
    },
    {
     "name": "stderr",
     "output_type": "stream",
     "text": [
      "/home/neft/anaconda3/envs/ai/lib/python3.7/site-packages/ase/data/pubchem.py:85: UserWarning: The structure \"6917698\" has more than one conformer in PubChem. By default, the first conformer is returned, please ensure you are using the structure you intend to or use the `ase.data.pubchem.pubchem_conformer_search` function\n",
      "  ' function'.format(search))\n"
     ]
    },
    {
     "name": "stdout",
     "output_type": "stream",
     "text": [
      "319\n"
     ]
    },
    {
     "name": "stderr",
     "output_type": "stream",
     "text": [
      "/home/neft/anaconda3/envs/ai/lib/python3.7/site-packages/ase/data/pubchem.py:85: UserWarning: The structure \"1548887\" has more than one conformer in PubChem. By default, the first conformer is returned, please ensure you are using the structure you intend to or use the `ase.data.pubchem.pubchem_conformer_search` function\n",
      "  ' function'.format(search))\n"
     ]
    },
    {
     "name": "stdout",
     "output_type": "stream",
     "text": [
      "320\n"
     ]
    },
    {
     "name": "stderr",
     "output_type": "stream",
     "text": [
      "/home/neft/anaconda3/envs/ai/lib/python3.7/site-packages/ase/data/pubchem.py:85: UserWarning: The structure \"2910\" has more than one conformer in PubChem. By default, the first conformer is returned, please ensure you are using the structure you intend to or use the `ase.data.pubchem.pubchem_conformer_search` function\n",
      "  ' function'.format(search))\n"
     ]
    },
    {
     "name": "stdout",
     "output_type": "stream",
     "text": [
      "321\n"
     ]
    },
    {
     "name": "stderr",
     "output_type": "stream",
     "text": [
      "/home/neft/anaconda3/envs/ai/lib/python3.7/site-packages/ase/data/pubchem.py:85: UserWarning: The structure \"2761171\" has more than one conformer in PubChem. By default, the first conformer is returned, please ensure you are using the structure you intend to or use the `ase.data.pubchem.pubchem_conformer_search` function\n",
      "  ' function'.format(search))\n"
     ]
    },
    {
     "name": "stdout",
     "output_type": "stream",
     "text": [
      "322\n"
     ]
    },
    {
     "name": "stderr",
     "output_type": "stream",
     "text": [
      "/home/neft/anaconda3/envs/ai/lib/python3.7/site-packages/ase/data/pubchem.py:85: UserWarning: The structure \"5906\" has more than one conformer in PubChem. By default, the first conformer is returned, please ensure you are using the structure you intend to or use the `ase.data.pubchem.pubchem_conformer_search` function\n",
      "  ' function'.format(search))\n"
     ]
    },
    {
     "name": "stdout",
     "output_type": "stream",
     "text": [
      "323\n"
     ]
    },
    {
     "name": "stderr",
     "output_type": "stream",
     "text": [
      "/home/neft/anaconda3/envs/ai/lib/python3.7/site-packages/ase/data/pubchem.py:85: UserWarning: The structure \"6916249\" has more than one conformer in PubChem. By default, the first conformer is returned, please ensure you are using the structure you intend to or use the `ase.data.pubchem.pubchem_conformer_search` function\n",
      "  ' function'.format(search))\n"
     ]
    },
    {
     "name": "stdout",
     "output_type": "stream",
     "text": [
      "324\n"
     ]
    },
    {
     "name": "stderr",
     "output_type": "stream",
     "text": [
      "/home/neft/anaconda3/envs/ai/lib/python3.7/site-packages/ase/data/pubchem.py:85: UserWarning: The structure \"2405\" has more than one conformer in PubChem. By default, the first conformer is returned, please ensure you are using the structure you intend to or use the `ase.data.pubchem.pubchem_conformer_search` function\n",
      "  ' function'.format(search))\n"
     ]
    },
    {
     "name": "stdout",
     "output_type": "stream",
     "text": [
      "325\n"
     ]
    },
    {
     "name": "stderr",
     "output_type": "stream",
     "text": [
      "/home/neft/anaconda3/envs/ai/lib/python3.7/site-packages/ase/data/pubchem.py:85: UserWarning: The structure \"2165\" has more than one conformer in PubChem. By default, the first conformer is returned, please ensure you are using the structure you intend to or use the `ase.data.pubchem.pubchem_conformer_search` function\n",
      "  ' function'.format(search))\n"
     ]
    },
    {
     "name": "stdout",
     "output_type": "stream",
     "text": [
      "326\n"
     ]
    },
    {
     "name": "stderr",
     "output_type": "stream",
     "text": [
      "/home/neft/anaconda3/envs/ai/lib/python3.7/site-packages/ase/data/pubchem.py:85: UserWarning: The structure \"3435\" has more than one conformer in PubChem. By default, the first conformer is returned, please ensure you are using the structure you intend to or use the `ase.data.pubchem.pubchem_conformer_search` function\n",
      "  ' function'.format(search))\n"
     ]
    },
    {
     "name": "stdout",
     "output_type": "stream",
     "text": [
      "327\n"
     ]
    },
    {
     "name": "stderr",
     "output_type": "stream",
     "text": [
      "/home/neft/anaconda3/envs/ai/lib/python3.7/site-packages/ase/data/pubchem.py:85: UserWarning: The structure \"54680690\" has more than one conformer in PubChem. By default, the first conformer is returned, please ensure you are using the structure you intend to or use the `ase.data.pubchem.pubchem_conformer_search` function\n",
      "  ' function'.format(search))\n"
     ]
    },
    {
     "name": "stdout",
     "output_type": "stream",
     "text": [
      "328\n"
     ]
    },
    {
     "name": "stderr",
     "output_type": "stream",
     "text": [
      "/home/neft/anaconda3/envs/ai/lib/python3.7/site-packages/ase/data/pubchem.py:85: UserWarning: The structure \"5291\" has more than one conformer in PubChem. By default, the first conformer is returned, please ensure you are using the structure you intend to or use the `ase.data.pubchem.pubchem_conformer_search` function\n",
      "  ' function'.format(search))\n"
     ]
    },
    {
     "name": "stdout",
     "output_type": "stream",
     "text": [
      "329\n"
     ]
    },
    {
     "name": "stderr",
     "output_type": "stream",
     "text": [
      "/home/neft/anaconda3/envs/ai/lib/python3.7/site-packages/ase/data/pubchem.py:85: UserWarning: The structure \"31307\" has more than one conformer in PubChem. By default, the first conformer is returned, please ensure you are using the structure you intend to or use the `ase.data.pubchem.pubchem_conformer_search` function\n",
      "  ' function'.format(search))\n"
     ]
    },
    {
     "name": "stdout",
     "output_type": "stream",
     "text": [
      "330\n",
      "331\n"
     ]
    },
    {
     "name": "stderr",
     "output_type": "stream",
     "text": [
      "/home/neft/anaconda3/envs/ai/lib/python3.7/site-packages/ase/data/pubchem.py:85: UserWarning: The structure \"4474\" has more than one conformer in PubChem. By default, the first conformer is returned, please ensure you are using the structure you intend to or use the `ase.data.pubchem.pubchem_conformer_search` function\n",
      "  ' function'.format(search))\n"
     ]
    },
    {
     "name": "stdout",
     "output_type": "stream",
     "text": [
      "332\n"
     ]
    },
    {
     "name": "stderr",
     "output_type": "stream",
     "text": [
      "/home/neft/anaconda3/envs/ai/lib/python3.7/site-packages/ase/data/pubchem.py:85: UserWarning: The structure \"3372\" has more than one conformer in PubChem. By default, the first conformer is returned, please ensure you are using the structure you intend to or use the `ase.data.pubchem.pubchem_conformer_search` function\n",
      "  ' function'.format(search))\n"
     ]
    },
    {
     "name": "stdout",
     "output_type": "stream",
     "text": [
      "333\n",
      "334\n",
      "335\n"
     ]
    },
    {
     "name": "stderr",
     "output_type": "stream",
     "text": [
      "/home/neft/anaconda3/envs/ai/lib/python3.7/site-packages/ase/data/pubchem.py:85: UserWarning: The structure \"938\" has more than one conformer in PubChem. By default, the first conformer is returned, please ensure you are using the structure you intend to or use the `ase.data.pubchem.pubchem_conformer_search` function\n",
      "  ' function'.format(search))\n"
     ]
    },
    {
     "name": "stdout",
     "output_type": "stream",
     "text": [
      "336\n"
     ]
    },
    {
     "name": "stderr",
     "output_type": "stream",
     "text": [
      "/home/neft/anaconda3/envs/ai/lib/python3.7/site-packages/ase/data/pubchem.py:85: UserWarning: The structure \"3517\" has more than one conformer in PubChem. By default, the first conformer is returned, please ensure you are using the structure you intend to or use the `ase.data.pubchem.pubchem_conformer_search` function\n",
      "  ' function'.format(search))\n"
     ]
    },
    {
     "name": "stdout",
     "output_type": "stream",
     "text": [
      "337\n"
     ]
    },
    {
     "name": "stderr",
     "output_type": "stream",
     "text": [
      "/home/neft/anaconda3/envs/ai/lib/python3.7/site-packages/ase/data/pubchem.py:85: UserWarning: The structure \"2088\" has more than one conformer in PubChem. By default, the first conformer is returned, please ensure you are using the structure you intend to or use the `ase.data.pubchem.pubchem_conformer_search` function\n",
      "  ' function'.format(search))\n"
     ]
    },
    {
     "name": "stdout",
     "output_type": "stream",
     "text": [
      "338\n"
     ]
    },
    {
     "name": "stderr",
     "output_type": "stream",
     "text": [
      "/home/neft/anaconda3/envs/ai/lib/python3.7/site-packages/ase/data/pubchem.py:85: UserWarning: The structure \"5320\" has more than one conformer in PubChem. By default, the first conformer is returned, please ensure you are using the structure you intend to or use the `ase.data.pubchem.pubchem_conformer_search` function\n",
      "  ' function'.format(search))\n"
     ]
    },
    {
     "name": "stdout",
     "output_type": "stream",
     "text": [
      "339\n"
     ]
    },
    {
     "name": "stderr",
     "output_type": "stream",
     "text": [
      "/home/neft/anaconda3/envs/ai/lib/python3.7/site-packages/ase/data/pubchem.py:85: UserWarning: The structure \"5865\" has more than one conformer in PubChem. By default, the first conformer is returned, please ensure you are using the structure you intend to or use the `ase.data.pubchem.pubchem_conformer_search` function\n",
      "  ' function'.format(search))\n"
     ]
    },
    {
     "name": "stdout",
     "output_type": "stream",
     "text": [
      "340\n"
     ]
    },
    {
     "name": "stderr",
     "output_type": "stream",
     "text": [
      "/home/neft/anaconda3/envs/ai/lib/python3.7/site-packages/ase/data/pubchem.py:85: UserWarning: The structure \"2796\" has more than one conformer in PubChem. By default, the first conformer is returned, please ensure you are using the structure you intend to or use the `ase.data.pubchem.pubchem_conformer_search` function\n",
      "  ' function'.format(search))\n"
     ]
    },
    {
     "name": "stdout",
     "output_type": "stream",
     "text": [
      "341\n"
     ]
    },
    {
     "name": "stderr",
     "output_type": "stream",
     "text": [
      "/home/neft/anaconda3/envs/ai/lib/python3.7/site-packages/ase/data/pubchem.py:85: UserWarning: The structure \"2247\" has more than one conformer in PubChem. By default, the first conformer is returned, please ensure you are using the structure you intend to or use the `ase.data.pubchem.pubchem_conformer_search` function\n",
      "  ' function'.format(search))\n"
     ]
    },
    {
     "name": "stdout",
     "output_type": "stream",
     "text": [
      "342\n"
     ]
    },
    {
     "name": "stderr",
     "output_type": "stream",
     "text": [
      "/home/neft/anaconda3/envs/ai/lib/python3.7/site-packages/ase/data/pubchem.py:85: UserWarning: The structure \"60961\" has more than one conformer in PubChem. By default, the first conformer is returned, please ensure you are using the structure you intend to or use the `ase.data.pubchem.pubchem_conformer_search` function\n",
      "  ' function'.format(search))\n"
     ]
    },
    {
     "name": "stdout",
     "output_type": "stream",
     "text": [
      "343\n"
     ]
    },
    {
     "name": "stderr",
     "output_type": "stream",
     "text": [
      "/home/neft/anaconda3/envs/ai/lib/python3.7/site-packages/ase/data/pubchem.py:85: UserWarning: The structure \"54454\" has more than one conformer in PubChem. By default, the first conformer is returned, please ensure you are using the structure you intend to or use the `ase.data.pubchem.pubchem_conformer_search` function\n",
      "  ' function'.format(search))\n"
     ]
    },
    {
     "name": "stdout",
     "output_type": "stream",
     "text": [
      "344\n"
     ]
    },
    {
     "name": "stderr",
     "output_type": "stream",
     "text": [
      "/home/neft/anaconda3/envs/ai/lib/python3.7/site-packages/ase/data/pubchem.py:85: UserWarning: The structure \"4030\" has more than one conformer in PubChem. By default, the first conformer is returned, please ensure you are using the structure you intend to or use the `ase.data.pubchem.pubchem_conformer_search` function\n",
      "  ' function'.format(search))\n"
     ]
    },
    {
     "name": "stdout",
     "output_type": "stream",
     "text": [
      "345\n"
     ]
    },
    {
     "name": "stderr",
     "output_type": "stream",
     "text": [
      "/home/neft/anaconda3/envs/ai/lib/python3.7/site-packages/ase/data/pubchem.py:85: UserWarning: The structure \"3180\" has more than one conformer in PubChem. By default, the first conformer is returned, please ensure you are using the structure you intend to or use the `ase.data.pubchem.pubchem_conformer_search` function\n",
      "  ' function'.format(search))\n"
     ]
    },
    {
     "name": "stdout",
     "output_type": "stream",
     "text": [
      "346\n"
     ]
    },
    {
     "name": "stderr",
     "output_type": "stream",
     "text": [
      "/home/neft/anaconda3/envs/ai/lib/python3.7/site-packages/ase/data/pubchem.py:85: UserWarning: The structure \"10100\" has more than one conformer in PubChem. By default, the first conformer is returned, please ensure you are using the structure you intend to or use the `ase.data.pubchem.pubchem_conformer_search` function\n",
      "  ' function'.format(search))\n"
     ]
    },
    {
     "name": "stdout",
     "output_type": "stream",
     "text": [
      "347\n"
     ]
    },
    {
     "name": "stderr",
     "output_type": "stream",
     "text": [
      "/home/neft/anaconda3/envs/ai/lib/python3.7/site-packages/ase/data/pubchem.py:85: UserWarning: The structure \"4211\" has more than one conformer in PubChem. By default, the first conformer is returned, please ensure you are using the structure you intend to or use the `ase.data.pubchem.pubchem_conformer_search` function\n",
      "  ' function'.format(search))\n"
     ]
    },
    {
     "name": "stdout",
     "output_type": "stream",
     "text": [
      "348\n"
     ]
    },
    {
     "name": "stderr",
     "output_type": "stream",
     "text": [
      "/home/neft/anaconda3/envs/ai/lib/python3.7/site-packages/ase/data/pubchem.py:85: UserWarning: The structure \"18283\" has more than one conformer in PubChem. By default, the first conformer is returned, please ensure you are using the structure you intend to or use the `ase.data.pubchem.pubchem_conformer_search` function\n",
      "  ' function'.format(search))\n"
     ]
    },
    {
     "name": "stdout",
     "output_type": "stream",
     "text": [
      "349\n"
     ]
    },
    {
     "name": "stderr",
     "output_type": "stream",
     "text": [
      "/home/neft/anaconda3/envs/ai/lib/python3.7/site-packages/ase/data/pubchem.py:85: UserWarning: The structure \"135403648\" has more than one conformer in PubChem. By default, the first conformer is returned, please ensure you are using the structure you intend to or use the `ase.data.pubchem.pubchem_conformer_search` function\n",
      "  ' function'.format(search))\n"
     ]
    },
    {
     "name": "stdout",
     "output_type": "stream",
     "text": [
      "350\n"
     ]
    },
    {
     "name": "stderr",
     "output_type": "stream",
     "text": [
      "/home/neft/anaconda3/envs/ai/lib/python3.7/site-packages/ase/data/pubchem.py:85: UserWarning: The structure \"3182\" has more than one conformer in PubChem. By default, the first conformer is returned, please ensure you are using the structure you intend to or use the `ase.data.pubchem.pubchem_conformer_search` function\n",
      "  ' function'.format(search))\n"
     ]
    },
    {
     "name": "stdout",
     "output_type": "stream",
     "text": [
      "351\n"
     ]
    },
    {
     "name": "stderr",
     "output_type": "stream",
     "text": [
      "/home/neft/anaconda3/envs/ai/lib/python3.7/site-packages/ase/data/pubchem.py:85: UserWarning: The structure \"441278\" has more than one conformer in PubChem. By default, the first conformer is returned, please ensure you are using the structure you intend to or use the `ase.data.pubchem.pubchem_conformer_search` function\n",
      "  ' function'.format(search))\n"
     ]
    },
    {
     "name": "stdout",
     "output_type": "stream",
     "text": [
      "352\n",
      "353\n"
     ]
    },
    {
     "name": "stderr",
     "output_type": "stream",
     "text": [
      "/home/neft/anaconda3/envs/ai/lib/python3.7/site-packages/ase/data/pubchem.py:85: UserWarning: The structure \"5533\" has more than one conformer in PubChem. By default, the first conformer is returned, please ensure you are using the structure you intend to or use the `ase.data.pubchem.pubchem_conformer_search` function\n",
      "  ' function'.format(search))\n"
     ]
    },
    {
     "name": "stdout",
     "output_type": "stream",
     "text": [
      "354\n"
     ]
    },
    {
     "name": "stderr",
     "output_type": "stream",
     "text": [
      "/home/neft/anaconda3/envs/ai/lib/python3.7/site-packages/ase/data/pubchem.py:85: UserWarning: The structure \"4032\" has more than one conformer in PubChem. By default, the first conformer is returned, please ensure you are using the structure you intend to or use the `ase.data.pubchem.pubchem_conformer_search` function\n",
      "  ' function'.format(search))\n"
     ]
    },
    {
     "name": "stdout",
     "output_type": "stream",
     "text": [
      "355\n"
     ]
    },
    {
     "name": "stderr",
     "output_type": "stream",
     "text": [
      "/home/neft/anaconda3/envs/ai/lib/python3.7/site-packages/ase/data/pubchem.py:85: UserWarning: The structure \"15459\" has more than one conformer in PubChem. By default, the first conformer is returned, please ensure you are using the structure you intend to or use the `ase.data.pubchem.pubchem_conformer_search` function\n",
      "  ' function'.format(search))\n"
     ]
    },
    {
     "name": "stdout",
     "output_type": "stream",
     "text": [
      "356\n"
     ]
    },
    {
     "name": "stderr",
     "output_type": "stream",
     "text": [
      "/home/neft/anaconda3/envs/ai/lib/python3.7/site-packages/ase/data/pubchem.py:85: UserWarning: The structure \"5577\" has more than one conformer in PubChem. By default, the first conformer is returned, please ensure you are using the structure you intend to or use the `ase.data.pubchem.pubchem_conformer_search` function\n",
      "  ' function'.format(search))\n"
     ]
    },
    {
     "name": "stdout",
     "output_type": "stream",
     "text": [
      "357\n"
     ]
    },
    {
     "name": "stderr",
     "output_type": "stream",
     "text": [
      "/home/neft/anaconda3/envs/ai/lib/python3.7/site-packages/ase/data/pubchem.py:85: UserWarning: The structure \"16490\" has more than one conformer in PubChem. By default, the first conformer is returned, please ensure you are using the structure you intend to or use the `ase.data.pubchem.pubchem_conformer_search` function\n",
      "  ' function'.format(search))\n"
     ]
    },
    {
     "name": "stdout",
     "output_type": "stream",
     "text": [
      "358\n"
     ]
    },
    {
     "name": "stderr",
     "output_type": "stream",
     "text": [
      "/home/neft/anaconda3/envs/ai/lib/python3.7/site-packages/ase/data/pubchem.py:85: UserWarning: The structure \"9047\" has more than one conformer in PubChem. By default, the first conformer is returned, please ensure you are using the structure you intend to or use the `ase.data.pubchem.pubchem_conformer_search` function\n",
      "  ' function'.format(search))\n"
     ]
    },
    {
     "name": "stdout",
     "output_type": "stream",
     "text": [
      "359\n"
     ]
    },
    {
     "name": "stderr",
     "output_type": "stream",
     "text": [
      "/home/neft/anaconda3/envs/ai/lib/python3.7/site-packages/ase/data/pubchem.py:85: UserWarning: The structure \"5816\" has more than one conformer in PubChem. By default, the first conformer is returned, please ensure you are using the structure you intend to or use the `ase.data.pubchem.pubchem_conformer_search` function\n",
      "  ' function'.format(search))\n"
     ]
    },
    {
     "name": "stdout",
     "output_type": "stream",
     "text": [
      "360\n"
     ]
    },
    {
     "name": "stderr",
     "output_type": "stream",
     "text": [
      "/home/neft/anaconda3/envs/ai/lib/python3.7/site-packages/ase/data/pubchem.py:85: UserWarning: The structure \"5358\" has more than one conformer in PubChem. By default, the first conformer is returned, please ensure you are using the structure you intend to or use the `ase.data.pubchem.pubchem_conformer_search` function\n",
      "  ' function'.format(search))\n"
     ]
    },
    {
     "name": "stdout",
     "output_type": "stream",
     "text": [
      "361\n"
     ]
    },
    {
     "name": "stderr",
     "output_type": "stream",
     "text": [
      "/home/neft/anaconda3/envs/ai/lib/python3.7/site-packages/ase/data/pubchem.py:85: UserWarning: The structure \"5362065\" has more than one conformer in PubChem. By default, the first conformer is returned, please ensure you are using the structure you intend to or use the `ase.data.pubchem.pubchem_conformer_search` function\n",
      "  ' function'.format(search))\n"
     ]
    },
    {
     "name": "stdout",
     "output_type": "stream",
     "text": [
      "362\n"
     ]
    },
    {
     "name": "stderr",
     "output_type": "stream",
     "text": [
      "/home/neft/anaconda3/envs/ai/lib/python3.7/site-packages/ase/data/pubchem.py:85: UserWarning: The structure \"2727\" has more than one conformer in PubChem. By default, the first conformer is returned, please ensure you are using the structure you intend to or use the `ase.data.pubchem.pubchem_conformer_search` function\n",
      "  ' function'.format(search))\n"
     ]
    },
    {
     "name": "stdout",
     "output_type": "stream",
     "text": [
      "363\n"
     ]
    },
    {
     "name": "stderr",
     "output_type": "stream",
     "text": [
      "/home/neft/anaconda3/envs/ai/lib/python3.7/site-packages/ase/data/pubchem.py:85: UserWarning: The structure \"2733526\" has more than one conformer in PubChem. By default, the first conformer is returned, please ensure you are using the structure you intend to or use the `ase.data.pubchem.pubchem_conformer_search` function\n",
      "  ' function'.format(search))\n"
     ]
    },
    {
     "name": "stdout",
     "output_type": "stream",
     "text": [
      "364\n"
     ]
    },
    {
     "name": "stderr",
     "output_type": "stream",
     "text": [
      "/home/neft/anaconda3/envs/ai/lib/python3.7/site-packages/ase/data/pubchem.py:85: UserWarning: The structure \"2345\" has more than one conformer in PubChem. By default, the first conformer is returned, please ensure you are using the structure you intend to or use the `ase.data.pubchem.pubchem_conformer_search` function\n",
      "  ' function'.format(search))\n"
     ]
    },
    {
     "name": "stdout",
     "output_type": "stream",
     "text": [
      "365\n"
     ]
    },
    {
     "name": "stderr",
     "output_type": "stream",
     "text": [
      "/home/neft/anaconda3/envs/ai/lib/python3.7/site-packages/ase/data/pubchem.py:85: UserWarning: The structure \"3961\" has more than one conformer in PubChem. By default, the first conformer is returned, please ensure you are using the structure you intend to or use the `ase.data.pubchem.pubchem_conformer_search` function\n",
      "  ' function'.format(search))\n"
     ]
    },
    {
     "name": "stdout",
     "output_type": "stream",
     "text": [
      "366\n"
     ]
    },
    {
     "name": "stderr",
     "output_type": "stream",
     "text": [
      "/home/neft/anaconda3/envs/ai/lib/python3.7/site-packages/ase/data/pubchem.py:85: UserWarning: The structure \"5452\" has more than one conformer in PubChem. By default, the first conformer is returned, please ensure you are using the structure you intend to or use the `ase.data.pubchem.pubchem_conformer_search` function\n",
      "  ' function'.format(search))\n"
     ]
    },
    {
     "name": "stdout",
     "output_type": "stream",
     "text": [
      "367\n"
     ]
    },
    {
     "name": "stderr",
     "output_type": "stream",
     "text": [
      "/home/neft/anaconda3/envs/ai/lib/python3.7/site-packages/ase/data/pubchem.py:85: UserWarning: The structure \"34633\" has more than one conformer in PubChem. By default, the first conformer is returned, please ensure you are using the structure you intend to or use the `ase.data.pubchem.pubchem_conformer_search` function\n",
      "  ' function'.format(search))\n"
     ]
    },
    {
     "name": "stdout",
     "output_type": "stream",
     "text": [
      "368\n"
     ]
    },
    {
     "name": "stderr",
     "output_type": "stream",
     "text": [
      "/home/neft/anaconda3/envs/ai/lib/python3.7/site-packages/ase/data/pubchem.py:85: UserWarning: The structure \"54678486\" has more than one conformer in PubChem. By default, the first conformer is returned, please ensure you are using the structure you intend to or use the `ase.data.pubchem.pubchem_conformer_search` function\n",
      "  ' function'.format(search))\n"
     ]
    },
    {
     "name": "stdout",
     "output_type": "stream",
     "text": [
      "369\n"
     ]
    },
    {
     "name": "stderr",
     "output_type": "stream",
     "text": [
      "/home/neft/anaconda3/envs/ai/lib/python3.7/site-packages/ase/data/pubchem.py:85: UserWarning: The structure \"4192\" has more than one conformer in PubChem. By default, the first conformer is returned, please ensure you are using the structure you intend to or use the `ase.data.pubchem.pubchem_conformer_search` function\n",
      "  ' function'.format(search))\n"
     ]
    },
    {
     "name": "stdout",
     "output_type": "stream",
     "text": [
      "370\n"
     ]
    },
    {
     "name": "stderr",
     "output_type": "stream",
     "text": [
      "/home/neft/anaconda3/envs/ai/lib/python3.7/site-packages/ase/data/pubchem.py:85: UserWarning: The structure \"5281078\" has more than one conformer in PubChem. By default, the first conformer is returned, please ensure you are using the structure you intend to or use the `ase.data.pubchem.pubchem_conformer_search` function\n",
      "  ' function'.format(search))\n"
     ]
    },
    {
     "name": "stdout",
     "output_type": "stream",
     "text": [
      "371\n"
     ]
    },
    {
     "name": "stderr",
     "output_type": "stream",
     "text": [
      "/home/neft/anaconda3/envs/ai/lib/python3.7/site-packages/ase/data/pubchem.py:85: UserWarning: The structure \"19150\" has more than one conformer in PubChem. By default, the first conformer is returned, please ensure you are using the structure you intend to or use the `ase.data.pubchem.pubchem_conformer_search` function\n",
      "  ' function'.format(search))\n"
     ]
    },
    {
     "name": "stdout",
     "output_type": "stream",
     "text": [
      "372\n"
     ]
    },
    {
     "name": "stderr",
     "output_type": "stream",
     "text": [
      "/home/neft/anaconda3/envs/ai/lib/python3.7/site-packages/ase/data/pubchem.py:85: UserWarning: The structure \"3393\" has more than one conformer in PubChem. By default, the first conformer is returned, please ensure you are using the structure you intend to or use the `ase.data.pubchem.pubchem_conformer_search` function\n",
      "  ' function'.format(search))\n"
     ]
    },
    {
     "name": "stdout",
     "output_type": "stream",
     "text": [
      "373\n"
     ]
    },
    {
     "name": "stderr",
     "output_type": "stream",
     "text": [
      "/home/neft/anaconda3/envs/ai/lib/python3.7/site-packages/ase/data/pubchem.py:85: UserWarning: The structure \"5775\" has more than one conformer in PubChem. By default, the first conformer is returned, please ensure you are using the structure you intend to or use the `ase.data.pubchem.pubchem_conformer_search` function\n",
      "  ' function'.format(search))\n"
     ]
    },
    {
     "name": "stdout",
     "output_type": "stream",
     "text": [
      "374\n",
      "375\n"
     ]
    },
    {
     "name": "stderr",
     "output_type": "stream",
     "text": [
      "/home/neft/anaconda3/envs/ai/lib/python3.7/site-packages/ase/data/pubchem.py:85: UserWarning: The structure \"30323\" has more than one conformer in PubChem. By default, the first conformer is returned, please ensure you are using the structure you intend to or use the `ase.data.pubchem.pubchem_conformer_search` function\n",
      "  ' function'.format(search))\n"
     ]
    },
    {
     "name": "stdout",
     "output_type": "stream",
     "text": [
      "376\n"
     ]
    },
    {
     "name": "stderr",
     "output_type": "stream",
     "text": [
      "/home/neft/anaconda3/envs/ai/lib/python3.7/site-packages/ase/data/pubchem.py:85: UserWarning: The structure \"3440\" has more than one conformer in PubChem. By default, the first conformer is returned, please ensure you are using the structure you intend to or use the `ase.data.pubchem.pubchem_conformer_search` function\n",
      "  ' function'.format(search))\n"
     ]
    },
    {
     "name": "stdout",
     "output_type": "stream",
     "text": [
      "377\n"
     ]
    },
    {
     "name": "stderr",
     "output_type": "stream",
     "text": [
      "/home/neft/anaconda3/envs/ai/lib/python3.7/site-packages/ase/data/pubchem.py:85: UserWarning: The structure \"8223\" has more than one conformer in PubChem. By default, the first conformer is returned, please ensure you are using the structure you intend to or use the `ase.data.pubchem.pubchem_conformer_search` function\n",
      "  ' function'.format(search))\n"
     ]
    },
    {
     "name": "stdout",
     "output_type": "stream",
     "text": [
      "378\n"
     ]
    },
    {
     "name": "stderr",
     "output_type": "stream",
     "text": [
      "/home/neft/anaconda3/envs/ai/lib/python3.7/site-packages/ase/data/pubchem.py:85: UserWarning: The structure \"5487\" has more than one conformer in PubChem. By default, the first conformer is returned, please ensure you are using the structure you intend to or use the `ase.data.pubchem.pubchem_conformer_search` function\n",
      "  ' function'.format(search))\n"
     ]
    },
    {
     "name": "stdout",
     "output_type": "stream",
     "text": [
      "379\n"
     ]
    },
    {
     "name": "stderr",
     "output_type": "stream",
     "text": [
      "/home/neft/anaconda3/envs/ai/lib/python3.7/site-packages/ase/data/pubchem.py:85: UserWarning: The structure \"6604200\" has more than one conformer in PubChem. By default, the first conformer is returned, please ensure you are using the structure you intend to or use the `ase.data.pubchem.pubchem_conformer_search` function\n",
      "  ' function'.format(search))\n"
     ]
    },
    {
     "name": "stdout",
     "output_type": "stream",
     "text": [
      "380\n"
     ]
    },
    {
     "name": "stderr",
     "output_type": "stream",
     "text": [
      "/home/neft/anaconda3/envs/ai/lib/python3.7/site-packages/ase/data/pubchem.py:85: UserWarning: The structure \"4100\" has more than one conformer in PubChem. By default, the first conformer is returned, please ensure you are using the structure you intend to or use the `ase.data.pubchem.pubchem_conformer_search` function\n",
      "  ' function'.format(search))\n"
     ]
    },
    {
     "name": "stdout",
     "output_type": "stream",
     "text": [
      "381\n"
     ]
    },
    {
     "name": "stderr",
     "output_type": "stream",
     "text": [
      "/home/neft/anaconda3/envs/ai/lib/python3.7/site-packages/ase/data/pubchem.py:85: UserWarning: The structure \"5360515\" has more than one conformer in PubChem. By default, the first conformer is returned, please ensure you are using the structure you intend to or use the `ase.data.pubchem.pubchem_conformer_search` function\n",
      "  ' function'.format(search))\n"
     ]
    },
    {
     "name": "stdout",
     "output_type": "stream",
     "text": [
      "382\n"
     ]
    },
    {
     "name": "stderr",
     "output_type": "stream",
     "text": [
      "/home/neft/anaconda3/envs/ai/lib/python3.7/site-packages/ase/data/pubchem.py:85: UserWarning: The structure \"5625\" has more than one conformer in PubChem. By default, the first conformer is returned, please ensure you are using the structure you intend to or use the `ase.data.pubchem.pubchem_conformer_search` function\n",
      "  ' function'.format(search))\n"
     ]
    },
    {
     "name": "stdout",
     "output_type": "stream",
     "text": [
      "383\n"
     ]
    },
    {
     "name": "stderr",
     "output_type": "stream",
     "text": [
      "/home/neft/anaconda3/envs/ai/lib/python3.7/site-packages/ase/data/pubchem.py:85: UserWarning: The structure \"129211\" has more than one conformer in PubChem. By default, the first conformer is returned, please ensure you are using the structure you intend to or use the `ase.data.pubchem.pubchem_conformer_search` function\n",
      "  ' function'.format(search))\n"
     ]
    },
    {
     "name": "stdout",
     "output_type": "stream",
     "text": [
      "384\n"
     ]
    },
    {
     "name": "stderr",
     "output_type": "stream",
     "text": [
      "/home/neft/anaconda3/envs/ai/lib/python3.7/site-packages/ase/data/pubchem.py:85: UserWarning: The structure \"41693\" has more than one conformer in PubChem. By default, the first conformer is returned, please ensure you are using the structure you intend to or use the `ase.data.pubchem.pubchem_conformer_search` function\n",
      "  ' function'.format(search))\n"
     ]
    },
    {
     "name": "stdout",
     "output_type": "stream",
     "text": [
      "385\n"
     ]
    },
    {
     "name": "stderr",
     "output_type": "stream",
     "text": [
      "/home/neft/anaconda3/envs/ai/lib/python3.7/site-packages/ase/data/pubchem.py:85: UserWarning: The structure \"60825\" has more than one conformer in PubChem. By default, the first conformer is returned, please ensure you are using the structure you intend to or use the `ase.data.pubchem.pubchem_conformer_search` function\n",
      "  ' function'.format(search))\n"
     ]
    },
    {
     "name": "stdout",
     "output_type": "stream",
     "text": [
      "386\n"
     ]
    },
    {
     "name": "stderr",
     "output_type": "stream",
     "text": [
      "/home/neft/anaconda3/envs/ai/lib/python3.7/site-packages/ase/data/pubchem.py:85: UserWarning: The structure \"3052\" has more than one conformer in PubChem. By default, the first conformer is returned, please ensure you are using the structure you intend to or use the `ase.data.pubchem.pubchem_conformer_search` function\n",
      "  ' function'.format(search))\n"
     ]
    },
    {
     "name": "stdout",
     "output_type": "stream",
     "text": [
      "387\n"
     ]
    },
    {
     "name": "stderr",
     "output_type": "stream",
     "text": [
      "/home/neft/anaconda3/envs/ai/lib/python3.7/site-packages/ase/data/pubchem.py:85: UserWarning: The structure \"3394\" has more than one conformer in PubChem. By default, the first conformer is returned, please ensure you are using the structure you intend to or use the `ase.data.pubchem.pubchem_conformer_search` function\n",
      "  ' function'.format(search))\n"
     ]
    },
    {
     "name": "stdout",
     "output_type": "stream",
     "text": [
      "388\n"
     ]
    },
    {
     "name": "stderr",
     "output_type": "stream",
     "text": [
      "/home/neft/anaconda3/envs/ai/lib/python3.7/site-packages/ase/data/pubchem.py:85: UserWarning: The structure \"6196\" has more than one conformer in PubChem. By default, the first conformer is returned, please ensure you are using the structure you intend to or use the `ase.data.pubchem.pubchem_conformer_search` function\n",
      "  ' function'.format(search))\n"
     ]
    },
    {
     "name": "stdout",
     "output_type": "stream",
     "text": [
      "389\n"
     ]
    },
    {
     "name": "stderr",
     "output_type": "stream",
     "text": [
      "/home/neft/anaconda3/envs/ai/lib/python3.7/site-packages/ase/data/pubchem.py:85: UserWarning: The structure \"43815\" has more than one conformer in PubChem. By default, the first conformer is returned, please ensure you are using the structure you intend to or use the `ase.data.pubchem.pubchem_conformer_search` function\n",
      "  ' function'.format(search))\n"
     ]
    },
    {
     "name": "stdout",
     "output_type": "stream",
     "text": [
      "390\n"
     ]
    },
    {
     "name": "stderr",
     "output_type": "stream",
     "text": [
      "/home/neft/anaconda3/envs/ai/lib/python3.7/site-packages/ase/data/pubchem.py:85: UserWarning: The structure \"50294\" has more than one conformer in PubChem. By default, the first conformer is returned, please ensure you are using the structure you intend to or use the `ase.data.pubchem.pubchem_conformer_search` function\n",
      "  ' function'.format(search))\n"
     ]
    },
    {
     "name": "stdout",
     "output_type": "stream",
     "text": [
      "391\n"
     ]
    },
    {
     "name": "stderr",
     "output_type": "stream",
     "text": [
      "/home/neft/anaconda3/envs/ai/lib/python3.7/site-packages/ase/data/pubchem.py:85: UserWarning: The structure \"6230\" has more than one conformer in PubChem. By default, the first conformer is returned, please ensure you are using the structure you intend to or use the `ase.data.pubchem.pubchem_conformer_search` function\n",
      "  ' function'.format(search))\n"
     ]
    },
    {
     "name": "stdout",
     "output_type": "stream",
     "text": [
      "392\n"
     ]
    },
    {
     "name": "stderr",
     "output_type": "stream",
     "text": [
      "/home/neft/anaconda3/envs/ai/lib/python3.7/site-packages/ase/data/pubchem.py:85: UserWarning: The structure \"19861\" has more than one conformer in PubChem. By default, the first conformer is returned, please ensure you are using the structure you intend to or use the `ase.data.pubchem.pubchem_conformer_search` function\n",
      "  ' function'.format(search))\n"
     ]
    },
    {
     "name": "stdout",
     "output_type": "stream",
     "text": [
      "393\n",
      "394\n"
     ]
    },
    {
     "name": "stderr",
     "output_type": "stream",
     "text": [
      "/home/neft/anaconda3/envs/ai/lib/python3.7/site-packages/ase/data/pubchem.py:85: UserWarning: The structure \"4914\" has more than one conformer in PubChem. By default, the first conformer is returned, please ensure you are using the structure you intend to or use the `ase.data.pubchem.pubchem_conformer_search` function\n",
      "  ' function'.format(search))\n"
     ]
    },
    {
     "name": "stdout",
     "output_type": "stream",
     "text": [
      "395\n"
     ]
    },
    {
     "name": "stderr",
     "output_type": "stream",
     "text": [
      "/home/neft/anaconda3/envs/ai/lib/python3.7/site-packages/ase/data/pubchem.py:85: UserWarning: The structure \"5362119\" has more than one conformer in PubChem. By default, the first conformer is returned, please ensure you are using the structure you intend to or use the `ase.data.pubchem.pubchem_conformer_search` function\n",
      "  ' function'.format(search))\n"
     ]
    },
    {
     "name": "stdout",
     "output_type": "stream",
     "text": [
      "396\n"
     ]
    },
    {
     "name": "stderr",
     "output_type": "stream",
     "text": [
      "/home/neft/anaconda3/envs/ai/lib/python3.7/site-packages/ase/data/pubchem.py:85: UserWarning: The structure \"57469\" has more than one conformer in PubChem. By default, the first conformer is returned, please ensure you are using the structure you intend to or use the `ase.data.pubchem.pubchem_conformer_search` function\n",
      "  ' function'.format(search))\n"
     ]
    },
    {
     "name": "stdout",
     "output_type": "stream",
     "text": [
      "397\n"
     ]
    },
    {
     "name": "stderr",
     "output_type": "stream",
     "text": [
      "/home/neft/anaconda3/envs/ai/lib/python3.7/site-packages/ase/data/pubchem.py:85: UserWarning: The structure \"5584\" has more than one conformer in PubChem. By default, the first conformer is returned, please ensure you are using the structure you intend to or use the `ase.data.pubchem.pubchem_conformer_search` function\n",
      "  ' function'.format(search))\n"
     ]
    },
    {
     "name": "stdout",
     "output_type": "stream",
     "text": [
      "398\n"
     ]
    },
    {
     "name": "stderr",
     "output_type": "stream",
     "text": [
      "/home/neft/anaconda3/envs/ai/lib/python3.7/site-packages/ase/data/pubchem.py:85: UserWarning: The structure \"4510\" has more than one conformer in PubChem. By default, the first conformer is returned, please ensure you are using the structure you intend to or use the `ase.data.pubchem.pubchem_conformer_search` function\n",
      "  ' function'.format(search))\n"
     ]
    },
    {
     "name": "stdout",
     "output_type": "stream",
     "text": [
      "399\n"
     ]
    },
    {
     "name": "stderr",
     "output_type": "stream",
     "text": [
      "/home/neft/anaconda3/envs/ai/lib/python3.7/site-packages/ase/data/pubchem.py:85: UserWarning: The structure \"5430\" has more than one conformer in PubChem. By default, the first conformer is returned, please ensure you are using the structure you intend to or use the `ase.data.pubchem.pubchem_conformer_search` function\n",
      "  ' function'.format(search))\n"
     ]
    },
    {
     "name": "stdout",
     "output_type": "stream",
     "text": [
      "400\n"
     ]
    },
    {
     "name": "stderr",
     "output_type": "stream",
     "text": [
      "/home/neft/anaconda3/envs/ai/lib/python3.7/site-packages/ase/data/pubchem.py:85: UserWarning: The structure \"135398747\" has more than one conformer in PubChem. By default, the first conformer is returned, please ensure you are using the structure you intend to or use the `ase.data.pubchem.pubchem_conformer_search` function\n",
      "  ' function'.format(search))\n"
     ]
    },
    {
     "name": "stdout",
     "output_type": "stream",
     "text": [
      "401\n"
     ]
    },
    {
     "name": "stderr",
     "output_type": "stream",
     "text": [
      "/home/neft/anaconda3/envs/ai/lib/python3.7/site-packages/ase/data/pubchem.py:85: UserWarning: The structure \"5073\" has more than one conformer in PubChem. By default, the first conformer is returned, please ensure you are using the structure you intend to or use the `ase.data.pubchem.pubchem_conformer_search` function\n",
      "  ' function'.format(search))\n"
     ]
    },
    {
     "name": "stdout",
     "output_type": "stream",
     "text": [
      "402\n"
     ]
    },
    {
     "name": "stderr",
     "output_type": "stream",
     "text": [
      "/home/neft/anaconda3/envs/ai/lib/python3.7/site-packages/ase/data/pubchem.py:85: UserWarning: The structure \"9568614\" has more than one conformer in PubChem. By default, the first conformer is returned, please ensure you are using the structure you intend to or use the `ase.data.pubchem.pubchem_conformer_search` function\n",
      "  ' function'.format(search))\n"
     ]
    },
    {
     "name": "stdout",
     "output_type": "stream",
     "text": [
      "403\n"
     ]
    },
    {
     "name": "stderr",
     "output_type": "stream",
     "text": [
      "/home/neft/anaconda3/envs/ai/lib/python3.7/site-packages/ase/data/pubchem.py:85: UserWarning: The structure \"4034\" has more than one conformer in PubChem. By default, the first conformer is returned, please ensure you are using the structure you intend to or use the `ase.data.pubchem.pubchem_conformer_search` function\n",
      "  ' function'.format(search))\n"
     ]
    },
    {
     "name": "stdout",
     "output_type": "stream",
     "text": [
      "404\n"
     ]
    },
    {
     "name": "stderr",
     "output_type": "stream",
     "text": [
      "/home/neft/anaconda3/envs/ai/lib/python3.7/site-packages/ase/data/pubchem.py:85: UserWarning: The structure \"4735\" has more than one conformer in PubChem. By default, the first conformer is returned, please ensure you are using the structure you intend to or use the `ase.data.pubchem.pubchem_conformer_search` function\n",
      "  ' function'.format(search))\n"
     ]
    },
    {
     "name": "stdout",
     "output_type": "stream",
     "text": [
      "405\n"
     ]
    },
    {
     "name": "stderr",
     "output_type": "stream",
     "text": [
      "/home/neft/anaconda3/envs/ai/lib/python3.7/site-packages/ase/data/pubchem.py:85: UserWarning: The structure \"443387\" has more than one conformer in PubChem. By default, the first conformer is returned, please ensure you are using the structure you intend to or use the `ase.data.pubchem.pubchem_conformer_search` function\n",
      "  ' function'.format(search))\n"
     ]
    },
    {
     "name": "stdout",
     "output_type": "stream",
     "text": [
      "406\n"
     ]
    },
    {
     "name": "stderr",
     "output_type": "stream",
     "text": [
      "/home/neft/anaconda3/envs/ai/lib/python3.7/site-packages/ase/data/pubchem.py:85: UserWarning: The structure \"5070\" has more than one conformer in PubChem. By default, the first conformer is returned, please ensure you are using the structure you intend to or use the `ase.data.pubchem.pubchem_conformer_search` function\n",
      "  ' function'.format(search))\n"
     ]
    },
    {
     "name": "stdout",
     "output_type": "stream",
     "text": [
      "407\n"
     ]
    },
    {
     "name": "stderr",
     "output_type": "stream",
     "text": [
      "/home/neft/anaconda3/envs/ai/lib/python3.7/site-packages/ase/data/pubchem.py:85: UserWarning: The structure \"5754\" has more than one conformer in PubChem. By default, the first conformer is returned, please ensure you are using the structure you intend to or use the `ase.data.pubchem.pubchem_conformer_search` function\n",
      "  ' function'.format(search))\n"
     ]
    },
    {
     "name": "stdout",
     "output_type": "stream",
     "text": [
      "408\n"
     ]
    },
    {
     "name": "stderr",
     "output_type": "stream",
     "text": [
      "/home/neft/anaconda3/envs/ai/lib/python3.7/site-packages/ase/data/pubchem.py:85: UserWarning: The structure \"6251\" has more than one conformer in PubChem. By default, the first conformer is returned, please ensure you are using the structure you intend to or use the `ase.data.pubchem.pubchem_conformer_search` function\n",
      "  ' function'.format(search))\n"
     ]
    },
    {
     "name": "stdout",
     "output_type": "stream",
     "text": [
      "409\n"
     ]
    },
    {
     "name": "stderr",
     "output_type": "stream",
     "text": [
      "/home/neft/anaconda3/envs/ai/lib/python3.7/site-packages/ase/data/pubchem.py:85: UserWarning: The structure \"60490\" has more than one conformer in PubChem. By default, the first conformer is returned, please ensure you are using the structure you intend to or use the `ase.data.pubchem.pubchem_conformer_search` function\n",
      "  ' function'.format(search))\n"
     ]
    },
    {
     "name": "stdout",
     "output_type": "stream",
     "text": [
      "410\n"
     ]
    },
    {
     "name": "stderr",
     "output_type": "stream",
     "text": [
      "/home/neft/anaconda3/envs/ai/lib/python3.7/site-packages/ase/data/pubchem.py:85: UserWarning: The structure \"4236\" has more than one conformer in PubChem. By default, the first conformer is returned, please ensure you are using the structure you intend to or use the `ase.data.pubchem.pubchem_conformer_search` function\n",
      "  ' function'.format(search))\n"
     ]
    },
    {
     "name": "stdout",
     "output_type": "stream",
     "text": [
      "411\n"
     ]
    },
    {
     "name": "stderr",
     "output_type": "stream",
     "text": [
      "/home/neft/anaconda3/envs/ai/lib/python3.7/site-packages/ase/data/pubchem.py:85: UserWarning: The structure \"3000322\" has more than one conformer in PubChem. By default, the first conformer is returned, please ensure you are using the structure you intend to or use the `ase.data.pubchem.pubchem_conformer_search` function\n",
      "  ' function'.format(search))\n"
     ]
    },
    {
     "name": "stdout",
     "output_type": "stream",
     "text": [
      "412\n"
     ]
    },
    {
     "name": "stderr",
     "output_type": "stream",
     "text": [
      "/home/neft/anaconda3/envs/ai/lib/python3.7/site-packages/ase/data/pubchem.py:85: UserWarning: The structure \"3308\" has more than one conformer in PubChem. By default, the first conformer is returned, please ensure you are using the structure you intend to or use the `ase.data.pubchem.pubchem_conformer_search` function\n",
      "  ' function'.format(search))\n"
     ]
    },
    {
     "name": "stdout",
     "output_type": "stream",
     "text": [
      "413\n"
     ]
    },
    {
     "name": "stderr",
     "output_type": "stream",
     "text": [
      "/home/neft/anaconda3/envs/ai/lib/python3.7/site-packages/ase/data/pubchem.py:85: UserWarning: The structure \"4906\" has more than one conformer in PubChem. By default, the first conformer is returned, please ensure you are using the structure you intend to or use the `ase.data.pubchem.pubchem_conformer_search` function\n",
      "  ' function'.format(search))\n"
     ]
    },
    {
     "name": "stdout",
     "output_type": "stream",
     "text": [
      "414\n"
     ]
    },
    {
     "name": "stderr",
     "output_type": "stream",
     "text": [
      "/home/neft/anaconda3/envs/ai/lib/python3.7/site-packages/ase/data/pubchem.py:85: UserWarning: The structure \"3241\" has more than one conformer in PubChem. By default, the first conformer is returned, please ensure you are using the structure you intend to or use the `ase.data.pubchem.pubchem_conformer_search` function\n",
      "  ' function'.format(search))\n"
     ]
    },
    {
     "name": "stdout",
     "output_type": "stream",
     "text": [
      "415\n"
     ]
    },
    {
     "name": "stderr",
     "output_type": "stream",
     "text": [
      "/home/neft/anaconda3/envs/ai/lib/python3.7/site-packages/ase/data/pubchem.py:85: UserWarning: The structure \"3763\" has more than one conformer in PubChem. By default, the first conformer is returned, please ensure you are using the structure you intend to or use the `ase.data.pubchem.pubchem_conformer_search` function\n",
      "  ' function'.format(search))\n"
     ]
    },
    {
     "name": "stdout",
     "output_type": "stream",
     "text": [
      "416\n"
     ]
    },
    {
     "name": "stderr",
     "output_type": "stream",
     "text": [
      "/home/neft/anaconda3/envs/ai/lib/python3.7/site-packages/ase/data/pubchem.py:85: UserWarning: The structure \"3292\" has more than one conformer in PubChem. By default, the first conformer is returned, please ensure you are using the structure you intend to or use the `ase.data.pubchem.pubchem_conformer_search` function\n",
      "  ' function'.format(search))\n"
     ]
    },
    {
     "name": "stdout",
     "output_type": "stream",
     "text": [
      "417\n"
     ]
    },
    {
     "name": "stderr",
     "output_type": "stream",
     "text": [
      "/home/neft/anaconda3/envs/ai/lib/python3.7/site-packages/ase/data/pubchem.py:85: UserWarning: The structure \"5538\" has more than one conformer in PubChem. By default, the first conformer is returned, please ensure you are using the structure you intend to or use the `ase.data.pubchem.pubchem_conformer_search` function\n",
      "  ' function'.format(search))\n"
     ]
    },
    {
     "name": "stdout",
     "output_type": "stream",
     "text": [
      "418\n"
     ]
    },
    {
     "name": "stderr",
     "output_type": "stream",
     "text": [
      "/home/neft/anaconda3/envs/ai/lib/python3.7/site-packages/ase/data/pubchem.py:85: UserWarning: The structure \"3598\" has more than one conformer in PubChem. By default, the first conformer is returned, please ensure you are using the structure you intend to or use the `ase.data.pubchem.pubchem_conformer_search` function\n",
      "  ' function'.format(search))\n"
     ]
    },
    {
     "name": "stdout",
     "output_type": "stream",
     "text": [
      "419\n"
     ]
    },
    {
     "name": "stderr",
     "output_type": "stream",
     "text": [
      "/home/neft/anaconda3/envs/ai/lib/python3.7/site-packages/ase/data/pubchem.py:85: UserWarning: The structure \"3033818\" has more than one conformer in PubChem. By default, the first conformer is returned, please ensure you are using the structure you intend to or use the `ase.data.pubchem.pubchem_conformer_search` function\n",
      "  ' function'.format(search))\n"
     ]
    },
    {
     "name": "stdout",
     "output_type": "stream",
     "text": [
      "420\n"
     ]
    },
    {
     "name": "stderr",
     "output_type": "stream",
     "text": [
      "/home/neft/anaconda3/envs/ai/lib/python3.7/site-packages/ase/data/pubchem.py:85: UserWarning: The structure \"60606\" has more than one conformer in PubChem. By default, the first conformer is returned, please ensure you are using the structure you intend to or use the `ase.data.pubchem.pubchem_conformer_search` function\n",
      "  ' function'.format(search))\n"
     ]
    },
    {
     "name": "stdout",
     "output_type": "stream",
     "text": [
      "421\n"
     ]
    },
    {
     "name": "stderr",
     "output_type": "stream",
     "text": [
      "/home/neft/anaconda3/envs/ai/lib/python3.7/site-packages/ase/data/pubchem.py:85: UserWarning: The structure \"54675776\" has more than one conformer in PubChem. By default, the first conformer is returned, please ensure you are using the structure you intend to or use the `ase.data.pubchem.pubchem_conformer_search` function\n",
      "  ' function'.format(search))\n"
     ]
    },
    {
     "name": "stdout",
     "output_type": "stream",
     "text": [
      "422\n"
     ]
    },
    {
     "name": "stderr",
     "output_type": "stream",
     "text": [
      "/home/neft/anaconda3/envs/ai/lib/python3.7/site-packages/ase/data/pubchem.py:85: UserWarning: The structure \"60838\" has more than one conformer in PubChem. By default, the first conformer is returned, please ensure you are using the structure you intend to or use the `ase.data.pubchem.pubchem_conformer_search` function\n",
      "  ' function'.format(search))\n"
     ]
    },
    {
     "name": "stdout",
     "output_type": "stream",
     "text": [
      "423\n",
      "424\n"
     ]
    },
    {
     "name": "stderr",
     "output_type": "stream",
     "text": [
      "/home/neft/anaconda3/envs/ai/lib/python3.7/site-packages/ase/data/pubchem.py:85: UserWarning: The structure \"441335\" has more than one conformer in PubChem. By default, the first conformer is returned, please ensure you are using the structure you intend to or use the `ase.data.pubchem.pubchem_conformer_search` function\n",
      "  ' function'.format(search))\n"
     ]
    },
    {
     "name": "stdout",
     "output_type": "stream",
     "text": [
      "425\n"
     ]
    },
    {
     "name": "stderr",
     "output_type": "stream",
     "text": [
      "/home/neft/anaconda3/envs/ai/lib/python3.7/site-packages/ase/data/pubchem.py:85: UserWarning: The structure \"441350\" has more than one conformer in PubChem. By default, the first conformer is returned, please ensure you are using the structure you intend to or use the `ase.data.pubchem.pubchem_conformer_search` function\n",
      "  ' function'.format(search))\n"
     ]
    },
    {
     "name": "stdout",
     "output_type": "stream",
     "text": [
      "426\n"
     ]
    },
    {
     "name": "stderr",
     "output_type": "stream",
     "text": [
      "/home/neft/anaconda3/envs/ai/lib/python3.7/site-packages/ase/data/pubchem.py:85: UserWarning: The structure \"5280980\" has more than one conformer in PubChem. By default, the first conformer is returned, please ensure you are using the structure you intend to or use the `ase.data.pubchem.pubchem_conformer_search` function\n",
      "  ' function'.format(search))\n"
     ]
    },
    {
     "name": "stdout",
     "output_type": "stream",
     "text": [
      "427\n"
     ]
    },
    {
     "name": "stderr",
     "output_type": "stream",
     "text": [
      "/home/neft/anaconda3/envs/ai/lib/python3.7/site-packages/ase/data/pubchem.py:85: UserWarning: The structure \"2342\" has more than one conformer in PubChem. By default, the first conformer is returned, please ensure you are using the structure you intend to or use the `ase.data.pubchem.pubchem_conformer_search` function\n",
      "  ' function'.format(search))\n"
     ]
    },
    {
     "name": "stdout",
     "output_type": "stream",
     "text": [
      "428\n"
     ]
    },
    {
     "name": "stderr",
     "output_type": "stream",
     "text": [
      "/home/neft/anaconda3/envs/ai/lib/python3.7/site-packages/ase/data/pubchem.py:85: UserWarning: The structure \"84088\" has more than one conformer in PubChem. By default, the first conformer is returned, please ensure you are using the structure you intend to or use the `ase.data.pubchem.pubchem_conformer_search` function\n",
      "  ' function'.format(search))\n"
     ]
    },
    {
     "name": "stdout",
     "output_type": "stream",
     "text": [
      "429\n"
     ]
    },
    {
     "name": "stderr",
     "output_type": "stream",
     "text": [
      "/home/neft/anaconda3/envs/ai/lib/python3.7/site-packages/ase/data/pubchem.py:85: UserWarning: The structure \"149351\" has more than one conformer in PubChem. By default, the first conformer is returned, please ensure you are using the structure you intend to or use the `ase.data.pubchem.pubchem_conformer_search` function\n",
      "  ' function'.format(search))\n"
     ]
    },
    {
     "name": "stdout",
     "output_type": "stream",
     "text": [
      "430\n"
     ]
    },
    {
     "name": "stderr",
     "output_type": "stream",
     "text": [
      "/home/neft/anaconda3/envs/ai/lib/python3.7/site-packages/ase/data/pubchem.py:85: UserWarning: The structure \"2784\" has more than one conformer in PubChem. By default, the first conformer is returned, please ensure you are using the structure you intend to or use the `ase.data.pubchem.pubchem_conformer_search` function\n",
      "  ' function'.format(search))\n"
     ]
    },
    {
     "name": "stdout",
     "output_type": "stream",
     "text": [
      "431\n"
     ]
    },
    {
     "name": "stderr",
     "output_type": "stream",
     "text": [
      "/home/neft/anaconda3/envs/ai/lib/python3.7/site-packages/ase/data/pubchem.py:85: UserWarning: The structure \"4004\" has more than one conformer in PubChem. By default, the first conformer is returned, please ensure you are using the structure you intend to or use the `ase.data.pubchem.pubchem_conformer_search` function\n",
      "  ' function'.format(search))\n"
     ]
    },
    {
     "name": "stdout",
     "output_type": "stream",
     "text": [
      "432\n"
     ]
    },
    {
     "name": "stderr",
     "output_type": "stream",
     "text": [
      "/home/neft/anaconda3/envs/ai/lib/python3.7/site-packages/ase/data/pubchem.py:85: UserWarning: The structure \"36462\" has more than one conformer in PubChem. By default, the first conformer is returned, please ensure you are using the structure you intend to or use the `ase.data.pubchem.pubchem_conformer_search` function\n",
      "  ' function'.format(search))\n"
     ]
    },
    {
     "name": "stdout",
     "output_type": "stream",
     "text": [
      "433\n"
     ]
    },
    {
     "name": "stderr",
     "output_type": "stream",
     "text": [
      "/home/neft/anaconda3/envs/ai/lib/python3.7/site-packages/ase/data/pubchem.py:85: UserWarning: The structure \"3647\" has more than one conformer in PubChem. By default, the first conformer is returned, please ensure you are using the structure you intend to or use the `ase.data.pubchem.pubchem_conformer_search` function\n",
      "  ' function'.format(search))\n"
     ]
    },
    {
     "name": "stdout",
     "output_type": "stream",
     "text": [
      "434\n"
     ]
    },
    {
     "name": "stderr",
     "output_type": "stream",
     "text": [
      "/home/neft/anaconda3/envs/ai/lib/python3.7/site-packages/ase/data/pubchem.py:85: UserWarning: The structure \"4421\" has more than one conformer in PubChem. By default, the first conformer is returned, please ensure you are using the structure you intend to or use the `ase.data.pubchem.pubchem_conformer_search` function\n",
      "  ' function'.format(search))\n"
     ]
    },
    {
     "name": "stdout",
     "output_type": "stream",
     "text": [
      "435\n"
     ]
    },
    {
     "name": "stderr",
     "output_type": "stream",
     "text": [
      "/home/neft/anaconda3/envs/ai/lib/python3.7/site-packages/ase/data/pubchem.py:85: UserWarning: The structure \"3675\" has more than one conformer in PubChem. By default, the first conformer is returned, please ensure you are using the structure you intend to or use the `ase.data.pubchem.pubchem_conformer_search` function\n",
      "  ' function'.format(search))\n"
     ]
    },
    {
     "name": "stdout",
     "output_type": "stream",
     "text": [
      "436\n",
      "437\n"
     ]
    },
    {
     "name": "stderr",
     "output_type": "stream",
     "text": [
      "/home/neft/anaconda3/envs/ai/lib/python3.7/site-packages/ase/data/pubchem.py:85: UserWarning: The structure \"4044\" has more than one conformer in PubChem. By default, the first conformer is returned, please ensure you are using the structure you intend to or use the `ase.data.pubchem.pubchem_conformer_search` function\n",
      "  ' function'.format(search))\n"
     ]
    },
    {
     "name": "stdout",
     "output_type": "stream",
     "text": [
      "438\n"
     ]
    },
    {
     "name": "stderr",
     "output_type": "stream",
     "text": [
      "/home/neft/anaconda3/envs/ai/lib/python3.7/site-packages/ase/data/pubchem.py:85: UserWarning: The structure \"135398513\" has more than one conformer in PubChem. By default, the first conformer is returned, please ensure you are using the structure you intend to or use the `ase.data.pubchem.pubchem_conformer_search` function\n",
      "  ' function'.format(search))\n"
     ]
    },
    {
     "name": "stdout",
     "output_type": "stream",
     "text": [
      "439\n"
     ]
    },
    {
     "name": "stderr",
     "output_type": "stream",
     "text": [
      "/home/neft/anaconda3/envs/ai/lib/python3.7/site-packages/ase/data/pubchem.py:85: UserWarning: The structure \"156391\" has more than one conformer in PubChem. By default, the first conformer is returned, please ensure you are using the structure you intend to or use the `ase.data.pubchem.pubchem_conformer_search` function\n",
      "  ' function'.format(search))\n"
     ]
    },
    {
     "name": "stdout",
     "output_type": "stream",
     "text": [
      "440\n"
     ]
    },
    {
     "name": "stderr",
     "output_type": "stream",
     "text": [
      "/home/neft/anaconda3/envs/ai/lib/python3.7/site-packages/ase/data/pubchem.py:85: UserWarning: The structure \"6194\" has more than one conformer in PubChem. By default, the first conformer is returned, please ensure you are using the structure you intend to or use the `ase.data.pubchem.pubchem_conformer_search` function\n",
      "  ' function'.format(search))\n"
     ]
    },
    {
     "name": "stdout",
     "output_type": "stream",
     "text": [
      "441\n"
     ]
    },
    {
     "name": "stderr",
     "output_type": "stream",
     "text": [
      "/home/neft/anaconda3/envs/ai/lib/python3.7/site-packages/ase/data/pubchem.py:85: UserWarning: The structure \"3561\" has more than one conformer in PubChem. By default, the first conformer is returned, please ensure you are using the structure you intend to or use the `ase.data.pubchem.pubchem_conformer_search` function\n",
      "  ' function'.format(search))\n"
     ]
    },
    {
     "name": "stdout",
     "output_type": "stream",
     "text": [
      "442\n"
     ]
    },
    {
     "name": "stderr",
     "output_type": "stream",
     "text": [
      "/home/neft/anaconda3/envs/ai/lib/python3.7/site-packages/ase/data/pubchem.py:85: UserWarning: The structure \"4909\" has more than one conformer in PubChem. By default, the first conformer is returned, please ensure you are using the structure you intend to or use the `ase.data.pubchem.pubchem_conformer_search` function\n",
      "  ' function'.format(search))\n"
     ]
    },
    {
     "name": "stdout",
     "output_type": "stream",
     "text": [
      "443\n"
     ]
    },
    {
     "name": "stderr",
     "output_type": "stream",
     "text": [
      "/home/neft/anaconda3/envs/ai/lib/python3.7/site-packages/ase/data/pubchem.py:85: UserWarning: The structure \"5339\" has more than one conformer in PubChem. By default, the first conformer is returned, please ensure you are using the structure you intend to or use the `ase.data.pubchem.pubchem_conformer_search` function\n",
      "  ' function'.format(search))\n"
     ]
    },
    {
     "name": "stdout",
     "output_type": "stream",
     "text": [
      "444\n"
     ]
    },
    {
     "name": "stderr",
     "output_type": "stream",
     "text": [
      "/home/neft/anaconda3/envs/ai/lib/python3.7/site-packages/ase/data/pubchem.py:85: UserWarning: The structure \"5504\" has more than one conformer in PubChem. By default, the first conformer is returned, please ensure you are using the structure you intend to or use the `ase.data.pubchem.pubchem_conformer_search` function\n",
      "  ' function'.format(search))\n"
     ]
    },
    {
     "name": "stdout",
     "output_type": "stream",
     "text": [
      "445\n"
     ]
    },
    {
     "name": "stderr",
     "output_type": "stream",
     "text": [
      "/home/neft/anaconda3/envs/ai/lib/python3.7/site-packages/ase/data/pubchem.py:85: UserWarning: The structure \"31640\" has more than one conformer in PubChem. By default, the first conformer is returned, please ensure you are using the structure you intend to or use the `ase.data.pubchem.pubchem_conformer_search` function\n",
      "  ' function'.format(search))\n"
     ]
    },
    {
     "name": "stdout",
     "output_type": "stream",
     "text": [
      "446\n"
     ]
    },
    {
     "name": "stderr",
     "output_type": "stream",
     "text": [
      "/home/neft/anaconda3/envs/ai/lib/python3.7/site-packages/ase/data/pubchem.py:85: UserWarning: The structure \"51263\" has more than one conformer in PubChem. By default, the first conformer is returned, please ensure you are using the structure you intend to or use the `ase.data.pubchem.pubchem_conformer_search` function\n",
      "  ' function'.format(search))\n"
     ]
    },
    {
     "name": "stdout",
     "output_type": "stream",
     "text": [
      "447\n"
     ]
    },
    {
     "name": "stderr",
     "output_type": "stream",
     "text": [
      "/home/neft/anaconda3/envs/ai/lib/python3.7/site-packages/ase/data/pubchem.py:85: UserWarning: The structure \"3042\" has more than one conformer in PubChem. By default, the first conformer is returned, please ensure you are using the structure you intend to or use the `ase.data.pubchem.pubchem_conformer_search` function\n",
      "  ' function'.format(search))\n"
     ]
    },
    {
     "name": "stdout",
     "output_type": "stream",
     "text": [
      "448\n"
     ]
    },
    {
     "name": "stderr",
     "output_type": "stream",
     "text": [
      "/home/neft/anaconda3/envs/ai/lib/python3.7/site-packages/ase/data/pubchem.py:85: UserWarning: The structure \"4199\" has more than one conformer in PubChem. By default, the first conformer is returned, please ensure you are using the structure you intend to or use the `ase.data.pubchem.pubchem_conformer_search` function\n",
      "  ' function'.format(search))\n"
     ]
    },
    {
     "name": "stdout",
     "output_type": "stream",
     "text": [
      "449\n"
     ]
    },
    {
     "name": "stderr",
     "output_type": "stream",
     "text": [
      "/home/neft/anaconda3/envs/ai/lib/python3.7/site-packages/ase/data/pubchem.py:85: UserWarning: The structure \"4740\" has more than one conformer in PubChem. By default, the first conformer is returned, please ensure you are using the structure you intend to or use the `ase.data.pubchem.pubchem_conformer_search` function\n",
      "  ' function'.format(search))\n"
     ]
    },
    {
     "name": "stdout",
     "output_type": "stream",
     "text": [
      "450\n"
     ]
    },
    {
     "name": "stderr",
     "output_type": "stream",
     "text": [
      "/home/neft/anaconda3/envs/ai/lib/python3.7/site-packages/ase/data/pubchem.py:85: UserWarning: The structure \"4935\" has more than one conformer in PubChem. By default, the first conformer is returned, please ensure you are using the structure you intend to or use the `ase.data.pubchem.pubchem_conformer_search` function\n",
      "  ' function'.format(search))\n"
     ]
    },
    {
     "name": "stdout",
     "output_type": "stream",
     "text": [
      "451\n"
     ]
    },
    {
     "name": "stderr",
     "output_type": "stream",
     "text": [
      "/home/neft/anaconda3/envs/ai/lib/python3.7/site-packages/ase/data/pubchem.py:85: UserWarning: The structure \"3702\" has more than one conformer in PubChem. By default, the first conformer is returned, please ensure you are using the structure you intend to or use the `ase.data.pubchem.pubchem_conformer_search` function\n",
      "  ' function'.format(search))\n"
     ]
    },
    {
     "name": "stdout",
     "output_type": "stream",
     "text": [
      "452\n"
     ]
    },
    {
     "name": "stderr",
     "output_type": "stream",
     "text": [
      "/home/neft/anaconda3/envs/ai/lib/python3.7/site-packages/ase/data/pubchem.py:85: UserWarning: The structure \"5593\" has more than one conformer in PubChem. By default, the first conformer is returned, please ensure you are using the structure you intend to or use the `ase.data.pubchem.pubchem_conformer_search` function\n",
      "  ' function'.format(search))\n"
     ]
    },
    {
     "name": "stdout",
     "output_type": "stream",
     "text": [
      "453\n"
     ]
    },
    {
     "name": "stderr",
     "output_type": "stream",
     "text": [
      "/home/neft/anaconda3/envs/ai/lib/python3.7/site-packages/ase/data/pubchem.py:85: UserWarning: The structure \"2381\" has more than one conformer in PubChem. By default, the first conformer is returned, please ensure you are using the structure you intend to or use the `ase.data.pubchem.pubchem_conformer_search` function\n",
      "  ' function'.format(search))\n"
     ]
    },
    {
     "name": "stdout",
     "output_type": "stream",
     "text": [
      "454\n"
     ]
    },
    {
     "name": "stderr",
     "output_type": "stream",
     "text": [
      "/home/neft/anaconda3/envs/ai/lib/python3.7/site-packages/ase/data/pubchem.py:85: UserWarning: The structure \"37542\" has more than one conformer in PubChem. By default, the first conformer is returned, please ensure you are using the structure you intend to or use the `ase.data.pubchem.pubchem_conformer_search` function\n",
      "  ' function'.format(search))\n"
     ]
    },
    {
     "name": "stdout",
     "output_type": "stream",
     "text": [
      "455\n"
     ]
    },
    {
     "name": "stderr",
     "output_type": "stream",
     "text": [
      "/home/neft/anaconda3/envs/ai/lib/python3.7/site-packages/ase/data/pubchem.py:85: UserWarning: The structure \"4781\" has more than one conformer in PubChem. By default, the first conformer is returned, please ensure you are using the structure you intend to or use the `ase.data.pubchem.pubchem_conformer_search` function\n",
      "  ' function'.format(search))\n"
     ]
    },
    {
     "name": "stdout",
     "output_type": "stream",
     "text": [
      "456\n"
     ]
    },
    {
     "name": "stderr",
     "output_type": "stream",
     "text": [
      "/home/neft/anaconda3/envs/ai/lib/python3.7/site-packages/ase/data/pubchem.py:85: UserWarning: The structure \"3345\" has more than one conformer in PubChem. By default, the first conformer is returned, please ensure you are using the structure you intend to or use the `ase.data.pubchem.pubchem_conformer_search` function\n",
      "  ' function'.format(search))\n"
     ]
    },
    {
     "name": "stdout",
     "output_type": "stream",
     "text": [
      "457\n"
     ]
    },
    {
     "name": "stderr",
     "output_type": "stream",
     "text": [
      "/home/neft/anaconda3/envs/ai/lib/python3.7/site-packages/ase/data/pubchem.py:85: UserWarning: The structure \"54677470\" has more than one conformer in PubChem. By default, the first conformer is returned, please ensure you are using the structure you intend to or use the `ase.data.pubchem.pubchem_conformer_search` function\n",
      "  ' function'.format(search))\n"
     ]
    },
    {
     "name": "stdout",
     "output_type": "stream",
     "text": [
      "458\n"
     ]
    },
    {
     "name": "stderr",
     "output_type": "stream",
     "text": [
      "/home/neft/anaconda3/envs/ai/lib/python3.7/site-packages/ase/data/pubchem.py:85: UserWarning: The structure \"4086\" has more than one conformer in PubChem. By default, the first conformer is returned, please ensure you are using the structure you intend to or use the `ase.data.pubchem.pubchem_conformer_search` function\n",
      "  ' function'.format(search))\n"
     ]
    },
    {
     "name": "stdout",
     "output_type": "stream",
     "text": [
      "459\n"
     ]
    },
    {
     "name": "stderr",
     "output_type": "stream",
     "text": [
      "/home/neft/anaconda3/envs/ai/lib/python3.7/site-packages/ase/data/pubchem.py:85: UserWarning: The structure \"287180\" has more than one conformer in PubChem. By default, the first conformer is returned, please ensure you are using the structure you intend to or use the `ase.data.pubchem.pubchem_conformer_search` function\n",
      "  ' function'.format(search))\n"
     ]
    },
    {
     "name": "stdout",
     "output_type": "stream",
     "text": [
      "460\n"
     ]
    },
    {
     "name": "stderr",
     "output_type": "stream",
     "text": [
      "/home/neft/anaconda3/envs/ai/lib/python3.7/site-packages/ase/data/pubchem.py:85: UserWarning: The structure \"4943\" has more than one conformer in PubChem. By default, the first conformer is returned, please ensure you are using the structure you intend to or use the `ase.data.pubchem.pubchem_conformer_search` function\n",
      "  ' function'.format(search))\n"
     ]
    },
    {
     "name": "stdout",
     "output_type": "stream",
     "text": [
      "461\n"
     ]
    },
    {
     "name": "stderr",
     "output_type": "stream",
     "text": [
      "/home/neft/anaconda3/envs/ai/lib/python3.7/site-packages/ase/data/pubchem.py:85: UserWarning: The structure \"1986\" has more than one conformer in PubChem. By default, the first conformer is returned, please ensure you are using the structure you intend to or use the `ase.data.pubchem.pubchem_conformer_search` function\n",
      "  ' function'.format(search))\n"
     ]
    },
    {
     "name": "stdout",
     "output_type": "stream",
     "text": [
      "462\n"
     ]
    },
    {
     "name": "stderr",
     "output_type": "stream",
     "text": [
      "/home/neft/anaconda3/envs/ai/lib/python3.7/site-packages/ase/data/pubchem.py:85: UserWarning: The structure \"110635\" has more than one conformer in PubChem. By default, the first conformer is returned, please ensure you are using the structure you intend to or use the `ase.data.pubchem.pubchem_conformer_search` function\n",
      "  ' function'.format(search))\n"
     ]
    },
    {
     "name": "stdout",
     "output_type": "stream",
     "text": [
      "463\n"
     ]
    },
    {
     "name": "stderr",
     "output_type": "stream",
     "text": [
      "/home/neft/anaconda3/envs/ai/lib/python3.7/site-packages/ase/data/pubchem.py:85: UserWarning: The structure \"2581\" has more than one conformer in PubChem. By default, the first conformer is returned, please ensure you are using the structure you intend to or use the `ase.data.pubchem.pubchem_conformer_search` function\n",
      "  ' function'.format(search))\n"
     ]
    },
    {
     "name": "stdout",
     "output_type": "stream",
     "text": [
      "464\n"
     ]
    },
    {
     "name": "stderr",
     "output_type": "stream",
     "text": [
      "/home/neft/anaconda3/envs/ai/lib/python3.7/site-packages/ase/data/pubchem.py:85: UserWarning: The structure \"3117\" has more than one conformer in PubChem. By default, the first conformer is returned, please ensure you are using the structure you intend to or use the `ase.data.pubchem.pubchem_conformer_search` function\n",
      "  ' function'.format(search))\n"
     ]
    },
    {
     "name": "stdout",
     "output_type": "stream",
     "text": [
      "465\n"
     ]
    },
    {
     "name": "stderr",
     "output_type": "stream",
     "text": [
      "/home/neft/anaconda3/envs/ai/lib/python3.7/site-packages/ase/data/pubchem.py:85: UserWarning: The structure \"9270\" has more than one conformer in PubChem. By default, the first conformer is returned, please ensure you are using the structure you intend to or use the `ase.data.pubchem.pubchem_conformer_search` function\n",
      "  ' function'.format(search))\n"
     ]
    },
    {
     "name": "stdout",
     "output_type": "stream",
     "text": [
      "466\n"
     ]
    },
    {
     "name": "stderr",
     "output_type": "stream",
     "text": [
      "/home/neft/anaconda3/envs/ai/lib/python3.7/site-packages/ase/data/pubchem.py:85: UserWarning: The structure \"1676\" has more than one conformer in PubChem. By default, the first conformer is returned, please ensure you are using the structure you intend to or use the `ase.data.pubchem.pubchem_conformer_search` function\n",
      "  ' function'.format(search))\n"
     ]
    },
    {
     "name": "stdout",
     "output_type": "stream",
     "text": [
      "467\n"
     ]
    },
    {
     "name": "stderr",
     "output_type": "stream",
     "text": [
      "/home/neft/anaconda3/envs/ai/lib/python3.7/site-packages/ase/data/pubchem.py:85: UserWarning: The structure \"16666\" has more than one conformer in PubChem. By default, the first conformer is returned, please ensure you are using the structure you intend to or use the `ase.data.pubchem.pubchem_conformer_search` function\n",
      "  ' function'.format(search))\n"
     ]
    },
    {
     "name": "stdout",
     "output_type": "stream",
     "text": [
      "468\n"
     ]
    },
    {
     "name": "stderr",
     "output_type": "stream",
     "text": [
      "/home/neft/anaconda3/envs/ai/lib/python3.7/site-packages/ase/data/pubchem.py:85: UserWarning: The structure \"5284447\" has more than one conformer in PubChem. By default, the first conformer is returned, please ensure you are using the structure you intend to or use the `ase.data.pubchem.pubchem_conformer_search` function\n",
      "  ' function'.format(search))\n"
     ]
    },
    {
     "name": "stdout",
     "output_type": "stream",
     "text": [
      "469\n"
     ]
    },
    {
     "name": "stderr",
     "output_type": "stream",
     "text": [
      "/home/neft/anaconda3/envs/ai/lib/python3.7/site-packages/ase/data/pubchem.py:85: UserWarning: The structure \"2762\" has more than one conformer in PubChem. By default, the first conformer is returned, please ensure you are using the structure you intend to or use the `ase.data.pubchem.pubchem_conformer_search` function\n",
      "  ' function'.format(search))\n"
     ]
    },
    {
     "name": "stdout",
     "output_type": "stream",
     "text": [
      "470\n",
      "471\n"
     ]
    },
    {
     "name": "stderr",
     "output_type": "stream",
     "text": [
      "/home/neft/anaconda3/envs/ai/lib/python3.7/site-packages/ase/data/pubchem.py:85: UserWarning: The structure \"3016\" has more than one conformer in PubChem. By default, the first conformer is returned, please ensure you are using the structure you intend to or use the `ase.data.pubchem.pubchem_conformer_search` function\n",
      "  ' function'.format(search))\n"
     ]
    },
    {
     "name": "stdout",
     "output_type": "stream",
     "text": [
      "472\n"
     ]
    },
    {
     "name": "stderr",
     "output_type": "stream",
     "text": [
      "/home/neft/anaconda3/envs/ai/lib/python3.7/site-packages/ase/data/pubchem.py:85: UserWarning: The structure \"4762\" has more than one conformer in PubChem. By default, the first conformer is returned, please ensure you are using the structure you intend to or use the `ase.data.pubchem.pubchem_conformer_search` function\n",
      "  ' function'.format(search))\n"
     ]
    },
    {
     "name": "stdout",
     "output_type": "stream",
     "text": [
      "473\n"
     ]
    },
    {
     "name": "stderr",
     "output_type": "stream",
     "text": [
      "/home/neft/anaconda3/envs/ai/lib/python3.7/site-packages/ase/data/pubchem.py:85: UserWarning: The structure \"6839\" has more than one conformer in PubChem. By default, the first conformer is returned, please ensure you are using the structure you intend to or use the `ase.data.pubchem.pubchem_conformer_search` function\n",
      "  ' function'.format(search))\n"
     ]
    },
    {
     "name": "stdout",
     "output_type": "stream",
     "text": [
      "474\n"
     ]
    },
    {
     "name": "stderr",
     "output_type": "stream",
     "text": [
      "/home/neft/anaconda3/envs/ai/lib/python3.7/site-packages/ase/data/pubchem.py:85: UserWarning: The structure \"51039\" has more than one conformer in PubChem. By default, the first conformer is returned, please ensure you are using the structure you intend to or use the `ase.data.pubchem.pubchem_conformer_search` function\n",
      "  ' function'.format(search))\n"
     ]
    },
    {
     "name": "stdout",
     "output_type": "stream",
     "text": [
      "475\n",
      "476\n"
     ]
    },
    {
     "name": "stderr",
     "output_type": "stream",
     "text": [
      "/home/neft/anaconda3/envs/ai/lib/python3.7/site-packages/ase/data/pubchem.py:85: UserWarning: The structure \"3955\" has more than one conformer in PubChem. By default, the first conformer is returned, please ensure you are using the structure you intend to or use the `ase.data.pubchem.pubchem_conformer_search` function\n",
      "  ' function'.format(search))\n"
     ]
    },
    {
     "name": "stdout",
     "output_type": "stream",
     "text": [
      "477\n"
     ]
    },
    {
     "name": "stderr",
     "output_type": "stream",
     "text": [
      "/home/neft/anaconda3/envs/ai/lib/python3.7/site-packages/ase/data/pubchem.py:85: UserWarning: The structure \"44115\" has more than one conformer in PubChem. By default, the first conformer is returned, please ensure you are using the structure you intend to or use the `ase.data.pubchem.pubchem_conformer_search` function\n",
      "  ' function'.format(search))\n"
     ]
    },
    {
     "name": "stdout",
     "output_type": "stream",
     "text": [
      "478\n"
     ]
    },
    {
     "name": "stderr",
     "output_type": "stream",
     "text": [
      "/home/neft/anaconda3/envs/ai/lib/python3.7/site-packages/ase/data/pubchem.py:85: UserWarning: The structure \"5503\" has more than one conformer in PubChem. By default, the first conformer is returned, please ensure you are using the structure you intend to or use the `ase.data.pubchem.pubchem_conformer_search` function\n",
      "  ' function'.format(search))\n"
     ]
    },
    {
     "name": "stdout",
     "output_type": "stream",
     "text": [
      "479\n"
     ]
    },
    {
     "name": "stderr",
     "output_type": "stream",
     "text": [
      "/home/neft/anaconda3/envs/ai/lib/python3.7/site-packages/ase/data/pubchem.py:85: UserWarning: The structure \"36811\" has more than one conformer in PubChem. By default, the first conformer is returned, please ensure you are using the structure you intend to or use the `ase.data.pubchem.pubchem_conformer_search` function\n",
      "  ' function'.format(search))\n"
     ]
    },
    {
     "name": "stdout",
     "output_type": "stream",
     "text": [
      "480\n"
     ]
    },
    {
     "name": "stderr",
     "output_type": "stream",
     "text": [
      "/home/neft/anaconda3/envs/ai/lib/python3.7/site-packages/ase/data/pubchem.py:85: UserWarning: The structure \"4616\" has more than one conformer in PubChem. By default, the first conformer is returned, please ensure you are using the structure you intend to or use the `ase.data.pubchem.pubchem_conformer_search` function\n",
      "  ' function'.format(search))\n"
     ]
    },
    {
     "name": "stdout",
     "output_type": "stream",
     "text": [
      "481\n"
     ]
    },
    {
     "name": "stderr",
     "output_type": "stream",
     "text": [
      "/home/neft/anaconda3/envs/ai/lib/python3.7/site-packages/ase/data/pubchem.py:85: UserWarning: The structure \"3152\" has more than one conformer in PubChem. By default, the first conformer is returned, please ensure you are using the structure you intend to or use the `ase.data.pubchem.pubchem_conformer_search` function\n",
      "  ' function'.format(search))\n"
     ]
    },
    {
     "name": "stdout",
     "output_type": "stream",
     "text": [
      "482\n"
     ]
    },
    {
     "name": "stderr",
     "output_type": "stream",
     "text": [
      "/home/neft/anaconda3/envs/ai/lib/python3.7/site-packages/ase/data/pubchem.py:85: UserWarning: The structure \"5311304\" has more than one conformer in PubChem. By default, the first conformer is returned, please ensure you are using the structure you intend to or use the `ase.data.pubchem.pubchem_conformer_search` function\n",
      "  ' function'.format(search))\n"
     ]
    },
    {
     "name": "stdout",
     "output_type": "stream",
     "text": [
      "483\n"
     ]
    },
    {
     "name": "stderr",
     "output_type": "stream",
     "text": [
      "/home/neft/anaconda3/envs/ai/lib/python3.7/site-packages/ase/data/pubchem.py:85: UserWarning: The structure \"2794\" has more than one conformer in PubChem. By default, the first conformer is returned, please ensure you are using the structure you intend to or use the `ase.data.pubchem.pubchem_conformer_search` function\n",
      "  ' function'.format(search))\n"
     ]
    },
    {
     "name": "stdout",
     "output_type": "stream",
     "text": [
      "484\n"
     ]
    },
    {
     "name": "stderr",
     "output_type": "stream",
     "text": [
      "/home/neft/anaconda3/envs/ai/lib/python3.7/site-packages/ase/data/pubchem.py:85: UserWarning: The structure \"15209\" has more than one conformer in PubChem. By default, the first conformer is returned, please ensure you are using the structure you intend to or use the `ase.data.pubchem.pubchem_conformer_search` function\n",
      "  ' function'.format(search))\n"
     ]
    },
    {
     "name": "stdout",
     "output_type": "stream",
     "text": [
      "485\n"
     ]
    },
    {
     "name": "stderr",
     "output_type": "stream",
     "text": [
      "/home/neft/anaconda3/envs/ai/lib/python3.7/site-packages/ase/data/pubchem.py:85: UserWarning: The structure \"6058\" has more than one conformer in PubChem. By default, the first conformer is returned, please ensure you are using the structure you intend to or use the `ase.data.pubchem.pubchem_conformer_search` function\n",
      "  ' function'.format(search))\n"
     ]
    },
    {
     "name": "stdout",
     "output_type": "stream",
     "text": [
      "486\n"
     ]
    },
    {
     "name": "stderr",
     "output_type": "stream",
     "text": [
      "/home/neft/anaconda3/envs/ai/lib/python3.7/site-packages/ase/data/pubchem.py:85: UserWarning: The structure \"26879\" has more than one conformer in PubChem. By default, the first conformer is returned, please ensure you are using the structure you intend to or use the `ase.data.pubchem.pubchem_conformer_search` function\n",
      "  ' function'.format(search))\n"
     ]
    },
    {
     "name": "stdout",
     "output_type": "stream",
     "text": [
      "487\n"
     ]
    },
    {
     "name": "stderr",
     "output_type": "stream",
     "text": [
      "/home/neft/anaconda3/envs/ai/lib/python3.7/site-packages/ase/data/pubchem.py:85: UserWarning: The structure \"8271\" has more than one conformer in PubChem. By default, the first conformer is returned, please ensure you are using the structure you intend to or use the `ase.data.pubchem.pubchem_conformer_search` function\n",
      "  ' function'.format(search))\n"
     ]
    },
    {
     "name": "stdout",
     "output_type": "stream",
     "text": [
      "488\n"
     ]
    },
    {
     "name": "stderr",
     "output_type": "stream",
     "text": [
      "/home/neft/anaconda3/envs/ai/lib/python3.7/site-packages/ase/data/pubchem.py:85: UserWarning: The structure \"4748\" has more than one conformer in PubChem. By default, the first conformer is returned, please ensure you are using the structure you intend to or use the `ase.data.pubchem.pubchem_conformer_search` function\n",
      "  ' function'.format(search))\n"
     ]
    },
    {
     "name": "stdout",
     "output_type": "stream",
     "text": [
      "489\n"
     ]
    },
    {
     "name": "stderr",
     "output_type": "stream",
     "text": [
      "/home/neft/anaconda3/envs/ai/lib/python3.7/site-packages/ase/data/pubchem.py:85: UserWarning: The structure \"135398738\" has more than one conformer in PubChem. By default, the first conformer is returned, please ensure you are using the structure you intend to or use the `ase.data.pubchem.pubchem_conformer_search` function\n",
      "  ' function'.format(search))\n"
     ]
    },
    {
     "name": "stdout",
     "output_type": "stream",
     "text": [
      "490\n"
     ]
    },
    {
     "name": "stderr",
     "output_type": "stream",
     "text": [
      "/home/neft/anaconda3/envs/ai/lib/python3.7/site-packages/ase/data/pubchem.py:85: UserWarning: The structure \"7028\" has more than one conformer in PubChem. By default, the first conformer is returned, please ensure you are using the structure you intend to or use the `ase.data.pubchem.pubchem_conformer_search` function\n",
      "  ' function'.format(search))\n"
     ]
    },
    {
     "name": "stdout",
     "output_type": "stream",
     "text": [
      "491\n"
     ]
    },
    {
     "name": "stderr",
     "output_type": "stream",
     "text": [
      "/home/neft/anaconda3/envs/ai/lib/python3.7/site-packages/ase/data/pubchem.py:85: UserWarning: The structure \"5394\" has more than one conformer in PubChem. By default, the first conformer is returned, please ensure you are using the structure you intend to or use the `ase.data.pubchem.pubchem_conformer_search` function\n",
      "  ' function'.format(search))\n"
     ]
    },
    {
     "name": "stdout",
     "output_type": "stream",
     "text": [
      "492\n",
      "493\n"
     ]
    },
    {
     "name": "stderr",
     "output_type": "stream",
     "text": [
      "/home/neft/anaconda3/envs/ai/lib/python3.7/site-packages/ase/data/pubchem.py:85: UserWarning: The structure \"137\" has more than one conformer in PubChem. By default, the first conformer is returned, please ensure you are using the structure you intend to or use the `ase.data.pubchem.pubchem_conformer_search` function\n",
      "  ' function'.format(search))\n"
     ]
    },
    {
     "name": "stdout",
     "output_type": "stream",
     "text": [
      "494\n"
     ]
    },
    {
     "name": "stderr",
     "output_type": "stream",
     "text": [
      "/home/neft/anaconda3/envs/ai/lib/python3.7/site-packages/ase/data/pubchem.py:85: UserWarning: The structure \"1549008\" has more than one conformer in PubChem. By default, the first conformer is returned, please ensure you are using the structure you intend to or use the `ase.data.pubchem.pubchem_conformer_search` function\n",
      "  ' function'.format(search))\n"
     ]
    },
    {
     "name": "stdout",
     "output_type": "stream",
     "text": [
      "495\n",
      "496\n"
     ]
    },
    {
     "name": "stderr",
     "output_type": "stream",
     "text": [
      "/home/neft/anaconda3/envs/ai/lib/python3.7/site-packages/ase/data/pubchem.py:85: UserWarning: The structure \"5852\" has more than one conformer in PubChem. By default, the first conformer is returned, please ensure you are using the structure you intend to or use the `ase.data.pubchem.pubchem_conformer_search` function\n",
      "  ' function'.format(search))\n"
     ]
    },
    {
     "name": "stdout",
     "output_type": "stream",
     "text": [
      "497\n"
     ]
    },
    {
     "name": "stderr",
     "output_type": "stream",
     "text": [
      "/home/neft/anaconda3/envs/ai/lib/python3.7/site-packages/ase/data/pubchem.py:85: UserWarning: The structure \"5755\" has more than one conformer in PubChem. By default, the first conformer is returned, please ensure you are using the structure you intend to or use the `ase.data.pubchem.pubchem_conformer_search` function\n",
      "  ' function'.format(search))\n"
     ]
    },
    {
     "name": "stdout",
     "output_type": "stream",
     "text": [
      "498\n"
     ]
    },
    {
     "name": "stderr",
     "output_type": "stream",
     "text": [
      "/home/neft/anaconda3/envs/ai/lib/python3.7/site-packages/ase/data/pubchem.py:85: UserWarning: The structure \"3059\" has more than one conformer in PubChem. By default, the first conformer is returned, please ensure you are using the structure you intend to or use the `ase.data.pubchem.pubchem_conformer_search` function\n",
      "  ' function'.format(search))\n"
     ]
    },
    {
     "name": "stdout",
     "output_type": "stream",
     "text": [
      "499\n"
     ]
    },
    {
     "name": "stderr",
     "output_type": "stream",
     "text": [
      "/home/neft/anaconda3/envs/ai/lib/python3.7/site-packages/ase/data/pubchem.py:85: UserWarning: The structure \"135400189\" has more than one conformer in PubChem. By default, the first conformer is returned, please ensure you are using the structure you intend to or use the `ase.data.pubchem.pubchem_conformer_search` function\n",
      "  ' function'.format(search))\n"
     ]
    },
    {
     "name": "stdout",
     "output_type": "stream",
     "text": [
      "500\n"
     ]
    },
    {
     "name": "stderr",
     "output_type": "stream",
     "text": [
      "/home/neft/anaconda3/envs/ai/lib/python3.7/site-packages/ase/data/pubchem.py:85: UserWarning: The structure \"3001055\" has more than one conformer in PubChem. By default, the first conformer is returned, please ensure you are using the structure you intend to or use the `ase.data.pubchem.pubchem_conformer_search` function\n",
      "  ' function'.format(search))\n"
     ]
    },
    {
     "name": "stdout",
     "output_type": "stream",
     "text": [
      "501\n"
     ]
    },
    {
     "name": "stderr",
     "output_type": "stream",
     "text": [
      "/home/neft/anaconda3/envs/ai/lib/python3.7/site-packages/ase/data/pubchem.py:85: UserWarning: The structure \"5311017\" has more than one conformer in PubChem. By default, the first conformer is returned, please ensure you are using the structure you intend to or use the `ase.data.pubchem.pubchem_conformer_search` function\n",
      "  ' function'.format(search))\n"
     ]
    },
    {
     "name": "stdout",
     "output_type": "stream",
     "text": [
      "502\n"
     ]
    },
    {
     "name": "stderr",
     "output_type": "stream",
     "text": [
      "/home/neft/anaconda3/envs/ai/lib/python3.7/site-packages/ase/data/pubchem.py:85: UserWarning: The structure \"2119\" has more than one conformer in PubChem. By default, the first conformer is returned, please ensure you are using the structure you intend to or use the `ase.data.pubchem.pubchem_conformer_search` function\n",
      "  ' function'.format(search))\n"
     ]
    },
    {
     "name": "stdout",
     "output_type": "stream",
     "text": [
      "503\n"
     ]
    },
    {
     "name": "stderr",
     "output_type": "stream",
     "text": [
      "/home/neft/anaconda3/envs/ai/lib/python3.7/site-packages/ase/data/pubchem.py:85: UserWarning: The structure \"33572\" has more than one conformer in PubChem. By default, the first conformer is returned, please ensure you are using the structure you intend to or use the `ase.data.pubchem.pubchem_conformer_search` function\n",
      "  ' function'.format(search))\n"
     ]
    },
    {
     "name": "stdout",
     "output_type": "stream",
     "text": [
      "504\n"
     ]
    },
    {
     "name": "stderr",
     "output_type": "stream",
     "text": [
      "/home/neft/anaconda3/envs/ai/lib/python3.7/site-packages/ase/data/pubchem.py:85: UserWarning: The structure \"5284549\" has more than one conformer in PubChem. By default, the first conformer is returned, please ensure you are using the structure you intend to or use the `ase.data.pubchem.pubchem_conformer_search` function\n",
      "  ' function'.format(search))\n"
     ]
    },
    {
     "name": "stdout",
     "output_type": "stream",
     "text": [
      "505\n"
     ]
    },
    {
     "name": "stderr",
     "output_type": "stream",
     "text": [
      "/home/neft/anaconda3/envs/ai/lib/python3.7/site-packages/ase/data/pubchem.py:85: UserWarning: The structure \"5359\" has more than one conformer in PubChem. By default, the first conformer is returned, please ensure you are using the structure you intend to or use the `ase.data.pubchem.pubchem_conformer_search` function\n",
      "  ' function'.format(search))\n"
     ]
    },
    {
     "name": "stdout",
     "output_type": "stream",
     "text": [
      "506\n"
     ]
    },
    {
     "name": "stderr",
     "output_type": "stream",
     "text": [
      "/home/neft/anaconda3/envs/ai/lib/python3.7/site-packages/ase/data/pubchem.py:85: UserWarning: The structure \"5403\" has more than one conformer in PubChem. By default, the first conformer is returned, please ensure you are using the structure you intend to or use the `ase.data.pubchem.pubchem_conformer_search` function\n",
      "  ' function'.format(search))\n"
     ]
    },
    {
     "name": "stdout",
     "output_type": "stream",
     "text": [
      "507\n"
     ]
    },
    {
     "name": "stderr",
     "output_type": "stream",
     "text": [
      "/home/neft/anaconda3/envs/ai/lib/python3.7/site-packages/ase/data/pubchem.py:85: UserWarning: The structure \"3516\" has more than one conformer in PubChem. By default, the first conformer is returned, please ensure you are using the structure you intend to or use the `ase.data.pubchem.pubchem_conformer_search` function\n",
      "  ' function'.format(search))\n"
     ]
    },
    {
     "name": "stdout",
     "output_type": "stream",
     "text": [
      "508\n"
     ]
    },
    {
     "name": "stderr",
     "output_type": "stream",
     "text": [
      "/home/neft/anaconda3/envs/ai/lib/python3.7/site-packages/ase/data/pubchem.py:85: UserWarning: The structure \"9552079\" has more than one conformer in PubChem. By default, the first conformer is returned, please ensure you are using the structure you intend to or use the `ase.data.pubchem.pubchem_conformer_search` function\n",
      "  ' function'.format(search))\n"
     ]
    },
    {
     "name": "stdout",
     "output_type": "stream",
     "text": [
      "509\n"
     ]
    },
    {
     "name": "stderr",
     "output_type": "stream",
     "text": [
      "/home/neft/anaconda3/envs/ai/lib/python3.7/site-packages/ase/data/pubchem.py:85: UserWarning: The structure \"60877\" has more than one conformer in PubChem. By default, the first conformer is returned, please ensure you are using the structure you intend to or use the `ase.data.pubchem.pubchem_conformer_search` function\n",
      "  ' function'.format(search))\n"
     ]
    },
    {
     "name": "stdout",
     "output_type": "stream",
     "text": [
      "510\n"
     ]
    },
    {
     "name": "stderr",
     "output_type": "stream",
     "text": [
      "/home/neft/anaconda3/envs/ai/lib/python3.7/site-packages/ase/data/pubchem.py:85: UserWarning: The structure \"2720\" has more than one conformer in PubChem. By default, the first conformer is returned, please ensure you are using the structure you intend to or use the `ase.data.pubchem.pubchem_conformer_search` function\n",
      "  ' function'.format(search))\n"
     ]
    },
    {
     "name": "stdout",
     "output_type": "stream",
     "text": [
      "511\n"
     ]
    },
    {
     "name": "stderr",
     "output_type": "stream",
     "text": [
      "/home/neft/anaconda3/envs/ai/lib/python3.7/site-packages/ase/data/pubchem.py:85: UserWarning: The structure \"54892\" has more than one conformer in PubChem. By default, the first conformer is returned, please ensure you are using the structure you intend to or use the `ase.data.pubchem.pubchem_conformer_search` function\n",
      "  ' function'.format(search))\n"
     ]
    },
    {
     "name": "stdout",
     "output_type": "stream",
     "text": [
      "512\n"
     ]
    },
    {
     "name": "stderr",
     "output_type": "stream",
     "text": [
      "/home/neft/anaconda3/envs/ai/lib/python3.7/site-packages/ase/data/pubchem.py:85: UserWarning: The structure \"2800\" has more than one conformer in PubChem. By default, the first conformer is returned, please ensure you are using the structure you intend to or use the `ase.data.pubchem.pubchem_conformer_search` function\n",
      "  ' function'.format(search))\n"
     ]
    },
    {
     "name": "stdout",
     "output_type": "stream",
     "text": [
      "513\n"
     ]
    },
    {
     "name": "stderr",
     "output_type": "stream",
     "text": [
      "/home/neft/anaconda3/envs/ai/lib/python3.7/site-packages/ase/data/pubchem.py:85: UserWarning: The structure \"6883\" has more than one conformer in PubChem. By default, the first conformer is returned, please ensure you are using the structure you intend to or use the `ase.data.pubchem.pubchem_conformer_search` function\n",
      "  ' function'.format(search))\n"
     ]
    },
    {
     "name": "stdout",
     "output_type": "stream",
     "text": [
      "514\n"
     ]
    },
    {
     "name": "stderr",
     "output_type": "stream",
     "text": [
      "/home/neft/anaconda3/envs/ai/lib/python3.7/site-packages/ase/data/pubchem.py:85: UserWarning: The structure \"5245\" has more than one conformer in PubChem. By default, the first conformer is returned, please ensure you are using the structure you intend to or use the `ase.data.pubchem.pubchem_conformer_search` function\n",
      "  ' function'.format(search))\n"
     ]
    },
    {
     "name": "stdout",
     "output_type": "stream",
     "text": [
      "515\n"
     ]
    },
    {
     "name": "stderr",
     "output_type": "stream",
     "text": [
      "/home/neft/anaconda3/envs/ai/lib/python3.7/site-packages/ase/data/pubchem.py:85: UserWarning: The structure \"2471\" has more than one conformer in PubChem. By default, the first conformer is returned, please ensure you are using the structure you intend to or use the `ase.data.pubchem.pubchem_conformer_search` function\n",
      "  ' function'.format(search))\n"
     ]
    },
    {
     "name": "stdout",
     "output_type": "stream",
     "text": [
      "516\n"
     ]
    },
    {
     "name": "stderr",
     "output_type": "stream",
     "text": [
      "/home/neft/anaconda3/envs/ai/lib/python3.7/site-packages/ase/data/pubchem.py:85: UserWarning: The structure \"4033\" has more than one conformer in PubChem. By default, the first conformer is returned, please ensure you are using the structure you intend to or use the `ase.data.pubchem.pubchem_conformer_search` function\n",
      "  ' function'.format(search))\n"
     ]
    },
    {
     "name": "stdout",
     "output_type": "stream",
     "text": [
      "517\n"
     ]
    },
    {
     "name": "stderr",
     "output_type": "stream",
     "text": [
      "/home/neft/anaconda3/envs/ai/lib/python3.7/site-packages/ase/data/pubchem.py:85: UserWarning: The structure \"5284566\" has more than one conformer in PubChem. By default, the first conformer is returned, please ensure you are using the structure you intend to or use the `ase.data.pubchem.pubchem_conformer_search` function\n",
      "  ' function'.format(search))\n"
     ]
    },
    {
     "name": "stdout",
     "output_type": "stream",
     "text": [
      "518\n"
     ]
    },
    {
     "name": "stderr",
     "output_type": "stream",
     "text": [
      "/home/neft/anaconda3/envs/ai/lib/python3.7/site-packages/ase/data/pubchem.py:85: UserWarning: The structure \"667476\" has more than one conformer in PubChem. By default, the first conformer is returned, please ensure you are using the structure you intend to or use the `ase.data.pubchem.pubchem_conformer_search` function\n",
      "  ' function'.format(search))\n"
     ]
    },
    {
     "name": "stdout",
     "output_type": "stream",
     "text": [
      "519\n"
     ]
    },
    {
     "name": "stderr",
     "output_type": "stream",
     "text": [
      "/home/neft/anaconda3/envs/ai/lib/python3.7/site-packages/ase/data/pubchem.py:85: UserWarning: The structure \"5336\" has more than one conformer in PubChem. By default, the first conformer is returned, please ensure you are using the structure you intend to or use the `ase.data.pubchem.pubchem_conformer_search` function\n",
      "  ' function'.format(search))\n"
     ]
    },
    {
     "name": "stdout",
     "output_type": "stream",
     "text": [
      "520\n"
     ]
    },
    {
     "name": "stderr",
     "output_type": "stream",
     "text": [
      "/home/neft/anaconda3/envs/ai/lib/python3.7/site-packages/ase/data/pubchem.py:85: UserWarning: The structure \"4633\" has more than one conformer in PubChem. By default, the first conformer is returned, please ensure you are using the structure you intend to or use the `ase.data.pubchem.pubchem_conformer_search` function\n",
      "  ' function'.format(search))\n"
     ]
    },
    {
     "name": "stdout",
     "output_type": "stream",
     "text": [
      "521\n",
      "522\n"
     ]
    },
    {
     "name": "stderr",
     "output_type": "stream",
     "text": [
      "/home/neft/anaconda3/envs/ai/lib/python3.7/site-packages/ase/data/pubchem.py:85: UserWarning: The structure \"5556\" has more than one conformer in PubChem. By default, the first conformer is returned, please ensure you are using the structure you intend to or use the `ase.data.pubchem.pubchem_conformer_search` function\n",
      "  ' function'.format(search))\n"
     ]
    },
    {
     "name": "stdout",
     "output_type": "stream",
     "text": [
      "523\n",
      "524\n"
     ]
    },
    {
     "name": "stderr",
     "output_type": "stream",
     "text": [
      "/home/neft/anaconda3/envs/ai/lib/python3.7/site-packages/ase/data/pubchem.py:85: UserWarning: The structure \"135398739\" has more than one conformer in PubChem. By default, the first conformer is returned, please ensure you are using the structure you intend to or use the `ase.data.pubchem.pubchem_conformer_search` function\n",
      "  ' function'.format(search))\n"
     ]
    },
    {
     "name": "stdout",
     "output_type": "stream",
     "text": [
      "525\n"
     ]
    },
    {
     "name": "stderr",
     "output_type": "stream",
     "text": [
      "/home/neft/anaconda3/envs/ai/lib/python3.7/site-packages/ase/data/pubchem.py:85: UserWarning: The structure \"14677\" has more than one conformer in PubChem. By default, the first conformer is returned, please ensure you are using the structure you intend to or use the `ase.data.pubchem.pubchem_conformer_search` function\n",
      "  ' function'.format(search))\n"
     ]
    },
    {
     "name": "stdout",
     "output_type": "stream",
     "text": [
      "526\n"
     ]
    },
    {
     "name": "stderr",
     "output_type": "stream",
     "text": [
      "/home/neft/anaconda3/envs/ai/lib/python3.7/site-packages/ase/data/pubchem.py:85: UserWarning: The structure \"3278\" has more than one conformer in PubChem. By default, the first conformer is returned, please ensure you are using the structure you intend to or use the `ase.data.pubchem.pubchem_conformer_search` function\n",
      "  ' function'.format(search))\n"
     ]
    },
    {
     "name": "stdout",
     "output_type": "stream",
     "text": [
      "527\n"
     ]
    },
    {
     "name": "stderr",
     "output_type": "stream",
     "text": [
      "/home/neft/anaconda3/envs/ai/lib/python3.7/site-packages/ase/data/pubchem.py:85: UserWarning: The structure \"5311027\" has more than one conformer in PubChem. By default, the first conformer is returned, please ensure you are using the structure you intend to or use the `ase.data.pubchem.pubchem_conformer_search` function\n",
      "  ' function'.format(search))\n"
     ]
    },
    {
     "name": "stdout",
     "output_type": "stream",
     "text": [
      "528\n"
     ]
    },
    {
     "name": "stderr",
     "output_type": "stream",
     "text": [
      "/home/neft/anaconda3/envs/ai/lib/python3.7/site-packages/ase/data/pubchem.py:85: UserWarning: The structure \"446220\" has more than one conformer in PubChem. By default, the first conformer is returned, please ensure you are using the structure you intend to or use the `ase.data.pubchem.pubchem_conformer_search` function\n",
      "  ' function'.format(search))\n"
     ]
    },
    {
     "name": "stdout",
     "output_type": "stream",
     "text": [
      "529\n"
     ]
    },
    {
     "name": "stderr",
     "output_type": "stream",
     "text": [
      "/home/neft/anaconda3/envs/ai/lib/python3.7/site-packages/ase/data/pubchem.py:85: UserWarning: The structure \"441074\" has more than one conformer in PubChem. By default, the first conformer is returned, please ensure you are using the structure you intend to or use the `ase.data.pubchem.pubchem_conformer_search` function\n",
      "  ' function'.format(search))\n"
     ]
    },
    {
     "name": "stdout",
     "output_type": "stream",
     "text": [
      "530\n"
     ]
    },
    {
     "name": "stderr",
     "output_type": "stream",
     "text": [
      "/home/neft/anaconda3/envs/ai/lib/python3.7/site-packages/ase/data/pubchem.py:85: UserWarning: The structure \"5734\" has more than one conformer in PubChem. By default, the first conformer is returned, please ensure you are using the structure you intend to or use the `ase.data.pubchem.pubchem_conformer_search` function\n",
      "  ' function'.format(search))\n"
     ]
    },
    {
     "name": "stdout",
     "output_type": "stream",
     "text": [
      "531\n"
     ]
    },
    {
     "name": "stderr",
     "output_type": "stream",
     "text": [
      "/home/neft/anaconda3/envs/ai/lib/python3.7/site-packages/ase/data/pubchem.py:85: UserWarning: The structure \"5479\" has more than one conformer in PubChem. By default, the first conformer is returned, please ensure you are using the structure you intend to or use the `ase.data.pubchem.pubchem_conformer_search` function\n",
      "  ' function'.format(search))\n"
     ]
    },
    {
     "name": "stdout",
     "output_type": "stream",
     "text": [
      "532\n"
     ]
    },
    {
     "name": "stderr",
     "output_type": "stream",
     "text": [
      "/home/neft/anaconda3/envs/ai/lib/python3.7/site-packages/ase/data/pubchem.py:85: UserWarning: The structure \"65981\" has more than one conformer in PubChem. By default, the first conformer is returned, please ensure you are using the structure you intend to or use the `ase.data.pubchem.pubchem_conformer_search` function\n",
      "  ' function'.format(search))\n"
     ]
    },
    {
     "name": "stdout",
     "output_type": "stream",
     "text": [
      "533\n"
     ]
    },
    {
     "name": "stderr",
     "output_type": "stream",
     "text": [
      "/home/neft/anaconda3/envs/ai/lib/python3.7/site-packages/ase/data/pubchem.py:85: UserWarning: The structure \"8944\" has more than one conformer in PubChem. By default, the first conformer is returned, please ensure you are using the structure you intend to or use the `ase.data.pubchem.pubchem_conformer_search` function\n",
      "  ' function'.format(search))\n"
     ]
    },
    {
     "name": "stdout",
     "output_type": "stream",
     "text": [
      "534\n"
     ]
    },
    {
     "name": "stderr",
     "output_type": "stream",
     "text": [
      "/home/neft/anaconda3/envs/ai/lib/python3.7/site-packages/ase/data/pubchem.py:85: UserWarning: The structure \"8249\" has more than one conformer in PubChem. By default, the first conformer is returned, please ensure you are using the structure you intend to or use the `ase.data.pubchem.pubchem_conformer_search` function\n",
      "  ' function'.format(search))\n"
     ]
    },
    {
     "name": "stdout",
     "output_type": "stream",
     "text": [
      "535\n",
      "536\n"
     ]
    },
    {
     "name": "stderr",
     "output_type": "stream",
     "text": [
      "/home/neft/anaconda3/envs/ai/lib/python3.7/site-packages/ase/data/pubchem.py:85: UserWarning: The structure \"4173\" has more than one conformer in PubChem. By default, the first conformer is returned, please ensure you are using the structure you intend to or use the `ase.data.pubchem.pubchem_conformer_search` function\n",
      "  ' function'.format(search))\n"
     ]
    },
    {
     "name": "stdout",
     "output_type": "stream",
     "text": [
      "537\n"
     ]
    },
    {
     "name": "stderr",
     "output_type": "stream",
     "text": [
      "/home/neft/anaconda3/envs/ai/lib/python3.7/site-packages/ase/data/pubchem.py:85: UserWarning: The structure \"5280360\" has more than one conformer in PubChem. By default, the first conformer is returned, please ensure you are using the structure you intend to or use the `ase.data.pubchem.pubchem_conformer_search` function\n",
      "  ' function'.format(search))\n"
     ]
    },
    {
     "name": "stdout",
     "output_type": "stream",
     "text": [
      "538\n"
     ]
    },
    {
     "name": "stderr",
     "output_type": "stream",
     "text": [
      "/home/neft/anaconda3/envs/ai/lib/python3.7/site-packages/ase/data/pubchem.py:85: UserWarning: The structure \"3827\" has more than one conformer in PubChem. By default, the first conformer is returned, please ensure you are using the structure you intend to or use the `ase.data.pubchem.pubchem_conformer_search` function\n",
      "  ' function'.format(search))\n"
     ]
    },
    {
     "name": "stdout",
     "output_type": "stream",
     "text": [
      "539\n"
     ]
    },
    {
     "name": "stderr",
     "output_type": "stream",
     "text": [
      "/home/neft/anaconda3/envs/ai/lib/python3.7/site-packages/ase/data/pubchem.py:85: UserWarning: The structure \"2895\" has more than one conformer in PubChem. By default, the first conformer is returned, please ensure you are using the structure you intend to or use the `ase.data.pubchem.pubchem_conformer_search` function\n",
      "  ' function'.format(search))\n"
     ]
    },
    {
     "name": "stdout",
     "output_type": "stream",
     "text": [
      "540\n"
     ]
    },
    {
     "name": "stderr",
     "output_type": "stream",
     "text": [
      "/home/neft/anaconda3/envs/ai/lib/python3.7/site-packages/ase/data/pubchem.py:85: UserWarning: The structure \"4768\" has more than one conformer in PubChem. By default, the first conformer is returned, please ensure you are using the structure you intend to or use the `ase.data.pubchem.pubchem_conformer_search` function\n",
      "  ' function'.format(search))\n"
     ]
    },
    {
     "name": "stdout",
     "output_type": "stream",
     "text": [
      "541\n"
     ]
    },
    {
     "name": "stderr",
     "output_type": "stream",
     "text": [
      "/home/neft/anaconda3/envs/ai/lib/python3.7/site-packages/ase/data/pubchem.py:85: UserWarning: The structure \"3312\" has more than one conformer in PubChem. By default, the first conformer is returned, please ensure you are using the structure you intend to or use the `ase.data.pubchem.pubchem_conformer_search` function\n",
      "  ' function'.format(search))\n"
     ]
    },
    {
     "name": "stdout",
     "output_type": "stream",
     "text": [
      "542\n"
     ]
    },
    {
     "name": "stderr",
     "output_type": "stream",
     "text": [
      "/home/neft/anaconda3/envs/ai/lib/python3.7/site-packages/ase/data/pubchem.py:85: UserWarning: The structure \"3325\" has more than one conformer in PubChem. By default, the first conformer is returned, please ensure you are using the structure you intend to or use the `ase.data.pubchem.pubchem_conformer_search` function\n",
      "  ' function'.format(search))\n"
     ]
    },
    {
     "name": "stdout",
     "output_type": "stream",
     "text": [
      "543\n"
     ]
    },
    {
     "name": "stderr",
     "output_type": "stream",
     "text": [
      "/home/neft/anaconda3/envs/ai/lib/python3.7/site-packages/ase/data/pubchem.py:85: UserWarning: The structure \"9444\" has more than one conformer in PubChem. By default, the first conformer is returned, please ensure you are using the structure you intend to or use the `ase.data.pubchem.pubchem_conformer_search` function\n",
      "  ' function'.format(search))\n"
     ]
    },
    {
     "name": "stdout",
     "output_type": "stream",
     "text": [
      "544\n"
     ]
    },
    {
     "name": "stderr",
     "output_type": "stream",
     "text": [
      "/home/neft/anaconda3/envs/ai/lib/python3.7/site-packages/ase/data/pubchem.py:85: UserWarning: The structure \"5282381\" has more than one conformer in PubChem. By default, the first conformer is returned, please ensure you are using the structure you intend to or use the `ase.data.pubchem.pubchem_conformer_search` function\n",
      "  ' function'.format(search))\n"
     ]
    },
    {
     "name": "stdout",
     "output_type": "stream",
     "text": [
      "545\n"
     ]
    },
    {
     "name": "stderr",
     "output_type": "stream",
     "text": [
      "/home/neft/anaconda3/envs/ai/lib/python3.7/site-packages/ase/data/pubchem.py:85: UserWarning: The structure \"4011\" has more than one conformer in PubChem. By default, the first conformer is returned, please ensure you are using the structure you intend to or use the `ase.data.pubchem.pubchem_conformer_search` function\n",
      "  ' function'.format(search))\n"
     ]
    },
    {
     "name": "stdout",
     "output_type": "stream",
     "text": [
      "546\n"
     ]
    },
    {
     "name": "stderr",
     "output_type": "stream",
     "text": [
      "/home/neft/anaconda3/envs/ai/lib/python3.7/site-packages/ase/data/pubchem.py:85: UserWarning: The structure \"4636\" has more than one conformer in PubChem. By default, the first conformer is returned, please ensure you are using the structure you intend to or use the `ase.data.pubchem.pubchem_conformer_search` function\n",
      "  ' function'.format(search))\n"
     ]
    },
    {
     "name": "stdout",
     "output_type": "stream",
     "text": [
      "547\n"
     ]
    },
    {
     "name": "stderr",
     "output_type": "stream",
     "text": [
      "/home/neft/anaconda3/envs/ai/lib/python3.7/site-packages/ase/data/pubchem.py:85: UserWarning: The structure \"338\" has more than one conformer in PubChem. By default, the first conformer is returned, please ensure you are using the structure you intend to or use the `ase.data.pubchem.pubchem_conformer_search` function\n",
      "  ' function'.format(search))\n"
     ]
    },
    {
     "name": "stdout",
     "output_type": "stream",
     "text": [
      "548\n"
     ]
    },
    {
     "name": "stderr",
     "output_type": "stream",
     "text": [
      "/home/neft/anaconda3/envs/ai/lib/python3.7/site-packages/ase/data/pubchem.py:85: UserWarning: The structure \"7029\" has more than one conformer in PubChem. By default, the first conformer is returned, please ensure you are using the structure you intend to or use the `ase.data.pubchem.pubchem_conformer_search` function\n",
      "  ' function'.format(search))\n"
     ]
    },
    {
     "name": "stdout",
     "output_type": "stream",
     "text": [
      "549\n"
     ]
    },
    {
     "name": "stderr",
     "output_type": "stream",
     "text": [
      "/home/neft/anaconda3/envs/ai/lib/python3.7/site-packages/ase/data/pubchem.py:85: UserWarning: The structure \"4037\" has more than one conformer in PubChem. By default, the first conformer is returned, please ensure you are using the structure you intend to or use the `ase.data.pubchem.pubchem_conformer_search` function\n",
      "  ' function'.format(search))\n"
     ]
    },
    {
     "name": "stdout",
     "output_type": "stream",
     "text": [
      "550\n"
     ]
    },
    {
     "name": "stderr",
     "output_type": "stream",
     "text": [
      "/home/neft/anaconda3/envs/ai/lib/python3.7/site-packages/ase/data/pubchem.py:85: UserWarning: The structure \"3601\" has more than one conformer in PubChem. By default, the first conformer is returned, please ensure you are using the structure you intend to or use the `ase.data.pubchem.pubchem_conformer_search` function\n",
      "  ' function'.format(search))\n"
     ]
    },
    {
     "name": "stdout",
     "output_type": "stream",
     "text": [
      "551\n"
     ]
    },
    {
     "name": "stderr",
     "output_type": "stream",
     "text": [
      "/home/neft/anaconda3/envs/ai/lib/python3.7/site-packages/ase/data/pubchem.py:85: UserWarning: The structure \"2911\" has more than one conformer in PubChem. By default, the first conformer is returned, please ensure you are using the structure you intend to or use the `ase.data.pubchem.pubchem_conformer_search` function\n",
      "  ' function'.format(search))\n"
     ]
    },
    {
     "name": "stdout",
     "output_type": "stream",
     "text": [
      "552\n"
     ]
    },
    {
     "name": "stderr",
     "output_type": "stream",
     "text": [
      "/home/neft/anaconda3/envs/ai/lib/python3.7/site-packages/ase/data/pubchem.py:85: UserWarning: The structure \"24066\" has more than one conformer in PubChem. By default, the first conformer is returned, please ensure you are using the structure you intend to or use the `ase.data.pubchem.pubchem_conformer_search` function\n",
      "  ' function'.format(search))\n"
     ]
    },
    {
     "name": "stdout",
     "output_type": "stream",
     "text": [
      "553\n"
     ]
    },
    {
     "name": "stderr",
     "output_type": "stream",
     "text": [
      "/home/neft/anaconda3/envs/ai/lib/python3.7/site-packages/ase/data/pubchem.py:85: UserWarning: The structure \"54680692\" has more than one conformer in PubChem. By default, the first conformer is returned, please ensure you are using the structure you intend to or use the `ase.data.pubchem.pubchem_conformer_search` function\n",
      "  ' function'.format(search))\n"
     ]
    },
    {
     "name": "stdout",
     "output_type": "stream",
     "text": [
      "554\n"
     ]
    },
    {
     "name": "stderr",
     "output_type": "stream",
     "text": [
      "/home/neft/anaconda3/envs/ai/lib/python3.7/site-packages/ase/data/pubchem.py:85: UserWarning: The structure \"3331\" has more than one conformer in PubChem. By default, the first conformer is returned, please ensure you are using the structure you intend to or use the `ase.data.pubchem.pubchem_conformer_search` function\n",
      "  ' function'.format(search))\n"
     ]
    },
    {
     "name": "stdout",
     "output_type": "stream",
     "text": [
      "555\n"
     ]
    },
    {
     "name": "stderr",
     "output_type": "stream",
     "text": [
      "/home/neft/anaconda3/envs/ai/lib/python3.7/site-packages/ase/data/pubchem.py:85: UserWarning: The structure \"3348\" has more than one conformer in PubChem. By default, the first conformer is returned, please ensure you are using the structure you intend to or use the `ase.data.pubchem.pubchem_conformer_search` function\n",
      "  ' function'.format(search))\n"
     ]
    },
    {
     "name": "stdout",
     "output_type": "stream",
     "text": [
      "556\n"
     ]
    },
    {
     "name": "stderr",
     "output_type": "stream",
     "text": [
      "/home/neft/anaconda3/envs/ai/lib/python3.7/site-packages/ase/data/pubchem.py:85: UserWarning: The structure \"3767\" has more than one conformer in PubChem. By default, the first conformer is returned, please ensure you are using the structure you intend to or use the `ase.data.pubchem.pubchem_conformer_search` function\n",
      "  ' function'.format(search))\n"
     ]
    },
    {
     "name": "stdout",
     "output_type": "stream",
     "text": [
      "557\n"
     ]
    },
    {
     "name": "stderr",
     "output_type": "stream",
     "text": [
      "/home/neft/anaconda3/envs/ai/lib/python3.7/site-packages/ase/data/pubchem.py:85: UserWarning: The structure \"4440\" has more than one conformer in PubChem. By default, the first conformer is returned, please ensure you are using the structure you intend to or use the `ase.data.pubchem.pubchem_conformer_search` function\n",
      "  ' function'.format(search))\n"
     ]
    },
    {
     "name": "stdout",
     "output_type": "stream",
     "text": [
      "558\n"
     ]
    },
    {
     "name": "stderr",
     "output_type": "stream",
     "text": [
      "/home/neft/anaconda3/envs/ai/lib/python3.7/site-packages/ase/data/pubchem.py:85: UserWarning: The structure \"5078\" has more than one conformer in PubChem. By default, the first conformer is returned, please ensure you are using the structure you intend to or use the `ase.data.pubchem.pubchem_conformer_search` function\n",
      "  ' function'.format(search))\n"
     ]
    },
    {
     "name": "stdout",
     "output_type": "stream",
     "text": [
      "559\n",
      "560\n"
     ]
    },
    {
     "name": "stderr",
     "output_type": "stream",
     "text": [
      "/home/neft/anaconda3/envs/ai/lib/python3.7/site-packages/ase/data/pubchem.py:85: UserWarning: The structure \"6540478\" has more than one conformer in PubChem. By default, the first conformer is returned, please ensure you are using the structure you intend to or use the `ase.data.pubchem.pubchem_conformer_search` function\n",
      "  ' function'.format(search))\n"
     ]
    },
    {
     "name": "stdout",
     "output_type": "stream",
     "text": [
      "561\n"
     ]
    },
    {
     "name": "stderr",
     "output_type": "stream",
     "text": [
      "/home/neft/anaconda3/envs/ai/lib/python3.7/site-packages/ase/data/pubchem.py:85: UserWarning: The structure \"6741\" has more than one conformer in PubChem. By default, the first conformer is returned, please ensure you are using the structure you intend to or use the `ase.data.pubchem.pubchem_conformer_search` function\n",
      "  ' function'.format(search))\n"
     ]
    },
    {
     "name": "stdout",
     "output_type": "stream",
     "text": [
      "562\n"
     ]
    },
    {
     "name": "stderr",
     "output_type": "stream",
     "text": [
      "/home/neft/anaconda3/envs/ai/lib/python3.7/site-packages/ase/data/pubchem.py:85: UserWarning: The structure \"4828\" has more than one conformer in PubChem. By default, the first conformer is returned, please ensure you are using the structure you intend to or use the `ase.data.pubchem.pubchem_conformer_search` function\n",
      "  ' function'.format(search))\n"
     ]
    },
    {
     "name": "stdout",
     "output_type": "stream",
     "text": [
      "563\n"
     ]
    },
    {
     "name": "stderr",
     "output_type": "stream",
     "text": [
      "/home/neft/anaconda3/envs/ai/lib/python3.7/site-packages/ase/data/pubchem.py:85: UserWarning: The structure \"4062\" has more than one conformer in PubChem. By default, the first conformer is returned, please ensure you are using the structure you intend to or use the `ase.data.pubchem.pubchem_conformer_search` function\n",
      "  ' function'.format(search))\n"
     ]
    },
    {
     "name": "stdout",
     "output_type": "stream",
     "text": [
      "564\n"
     ]
    },
    {
     "name": "stderr",
     "output_type": "stream",
     "text": [
      "/home/neft/anaconda3/envs/ai/lib/python3.7/site-packages/ase/data/pubchem.py:85: UserWarning: The structure \"5719\" has more than one conformer in PubChem. By default, the first conformer is returned, please ensure you are using the structure you intend to or use the `ase.data.pubchem.pubchem_conformer_search` function\n",
      "  ' function'.format(search))\n"
     ]
    },
    {
     "name": "stdout",
     "output_type": "stream",
     "text": [
      "565\n"
     ]
    },
    {
     "name": "stderr",
     "output_type": "stream",
     "text": [
      "/home/neft/anaconda3/envs/ai/lib/python3.7/site-packages/ase/data/pubchem.py:85: UserWarning: The structure \"65999\" has more than one conformer in PubChem. By default, the first conformer is returned, please ensure you are using the structure you intend to or use the `ase.data.pubchem.pubchem_conformer_search` function\n",
      "  ' function'.format(search))\n"
     ]
    },
    {
     "name": "stdout",
     "output_type": "stream",
     "text": [
      "566\n"
     ]
    },
    {
     "name": "stderr",
     "output_type": "stream",
     "text": [
      "/home/neft/anaconda3/envs/ai/lib/python3.7/site-packages/ase/data/pubchem.py:85: UserWarning: The structure \"38853\" has more than one conformer in PubChem. By default, the first conformer is returned, please ensure you are using the structure you intend to or use the `ase.data.pubchem.pubchem_conformer_search` function\n",
      "  ' function'.format(search))\n"
     ]
    },
    {
     "name": "stdout",
     "output_type": "stream",
     "text": [
      "567\n"
     ]
    },
    {
     "name": "stderr",
     "output_type": "stream",
     "text": [
      "/home/neft/anaconda3/envs/ai/lib/python3.7/site-packages/ase/data/pubchem.py:85: UserWarning: The structure \"2267\" has more than one conformer in PubChem. By default, the first conformer is returned, please ensure you are using the structure you intend to or use the `ase.data.pubchem.pubchem_conformer_search` function\n",
      "  ' function'.format(search))\n"
     ]
    },
    {
     "name": "stdout",
     "output_type": "stream",
     "text": [
      "568\n"
     ]
    },
    {
     "name": "stderr",
     "output_type": "stream",
     "text": [
      "/home/neft/anaconda3/envs/ai/lib/python3.7/site-packages/ase/data/pubchem.py:85: UserWarning: The structure \"150311\" has more than one conformer in PubChem. By default, the first conformer is returned, please ensure you are using the structure you intend to or use the `ase.data.pubchem.pubchem_conformer_search` function\n",
      "  ' function'.format(search))\n"
     ]
    },
    {
     "name": "stdout",
     "output_type": "stream",
     "text": [
      "569\n"
     ]
    },
    {
     "name": "stderr",
     "output_type": "stream",
     "text": [
      "/home/neft/anaconda3/envs/ai/lib/python3.7/site-packages/ase/data/pubchem.py:85: UserWarning: The structure \"6049\" has more than one conformer in PubChem. By default, the first conformer is returned, please ensure you are using the structure you intend to or use the `ase.data.pubchem.pubchem_conformer_search` function\n",
      "  ' function'.format(search))\n"
     ]
    },
    {
     "name": "stdout",
     "output_type": "stream",
     "text": [
      "570\n"
     ]
    },
    {
     "name": "stderr",
     "output_type": "stream",
     "text": [
      "/home/neft/anaconda3/envs/ai/lib/python3.7/site-packages/ase/data/pubchem.py:85: UserWarning: The structure \"3108\" has more than one conformer in PubChem. By default, the first conformer is returned, please ensure you are using the structure you intend to or use the `ase.data.pubchem.pubchem_conformer_search` function\n",
      "  ' function'.format(search))\n"
     ]
    },
    {
     "name": "stdout",
     "output_type": "stream",
     "text": [
      "571\n",
      "572\n"
     ]
    },
    {
     "name": "stderr",
     "output_type": "stream",
     "text": [
      "/home/neft/anaconda3/envs/ai/lib/python3.7/site-packages/ase/data/pubchem.py:85: UserWarning: The structure \"3948\" has more than one conformer in PubChem. By default, the first conformer is returned, please ensure you are using the structure you intend to or use the `ase.data.pubchem.pubchem_conformer_search` function\n",
      "  ' function'.format(search))\n"
     ]
    },
    {
     "name": "stdout",
     "output_type": "stream",
     "text": [
      "573\n"
     ]
    },
    {
     "name": "stderr",
     "output_type": "stream",
     "text": [
      "/home/neft/anaconda3/envs/ai/lib/python3.7/site-packages/ase/data/pubchem.py:85: UserWarning: The structure \"2905\" has more than one conformer in PubChem. By default, the first conformer is returned, please ensure you are using the structure you intend to or use the `ase.data.pubchem.pubchem_conformer_search` function\n",
      "  ' function'.format(search))\n"
     ]
    },
    {
     "name": "stdout",
     "output_type": "stream",
     "text": [
      "574\n"
     ]
    },
    {
     "name": "stderr",
     "output_type": "stream",
     "text": [
      "/home/neft/anaconda3/envs/ai/lib/python3.7/site-packages/ase/data/pubchem.py:85: UserWarning: The structure \"5983\" has more than one conformer in PubChem. By default, the first conformer is returned, please ensure you are using the structure you intend to or use the `ase.data.pubchem.pubchem_conformer_search` function\n",
      "  ' function'.format(search))\n"
     ]
    },
    {
     "name": "stdout",
     "output_type": "stream",
     "text": [
      "575\n"
     ]
    },
    {
     "name": "stderr",
     "output_type": "stream",
     "text": [
      "/home/neft/anaconda3/envs/ai/lib/python3.7/site-packages/ase/data/pubchem.py:85: UserWarning: The structure \"5282379\" has more than one conformer in PubChem. By default, the first conformer is returned, please ensure you are using the structure you intend to or use the `ase.data.pubchem.pubchem_conformer_search` function\n",
      "  ' function'.format(search))\n"
     ]
    },
    {
     "name": "stdout",
     "output_type": "stream",
     "text": [
      "576\n"
     ]
    },
    {
     "name": "stderr",
     "output_type": "stream",
     "text": [
      "/home/neft/anaconda3/envs/ai/lib/python3.7/site-packages/ase/data/pubchem.py:85: UserWarning: The structure \"229455\" has more than one conformer in PubChem. By default, the first conformer is returned, please ensure you are using the structure you intend to or use the `ase.data.pubchem.pubchem_conformer_search` function\n",
      "  ' function'.format(search))\n"
     ]
    },
    {
     "name": "stdout",
     "output_type": "stream",
     "text": [
      "577\n"
     ]
    },
    {
     "name": "stderr",
     "output_type": "stream",
     "text": [
      "/home/neft/anaconda3/envs/ai/lib/python3.7/site-packages/ase/data/pubchem.py:85: UserWarning: The structure \"9933193\" has more than one conformer in PubChem. By default, the first conformer is returned, please ensure you are using the structure you intend to or use the `ase.data.pubchem.pubchem_conformer_search` function\n",
      "  ' function'.format(search))\n"
     ]
    },
    {
     "name": "stdout",
     "output_type": "stream",
     "text": [
      "578\n"
     ]
    },
    {
     "name": "stderr",
     "output_type": "stream",
     "text": [
      "/home/neft/anaconda3/envs/ai/lib/python3.7/site-packages/ase/data/pubchem.py:85: UserWarning: The structure \"6253\" has more than one conformer in PubChem. By default, the first conformer is returned, please ensure you are using the structure you intend to or use the `ase.data.pubchem.pubchem_conformer_search` function\n",
      "  ' function'.format(search))\n"
     ]
    },
    {
     "name": "stdout",
     "output_type": "stream",
     "text": [
      "579\n"
     ]
    },
    {
     "name": "stderr",
     "output_type": "stream",
     "text": [
      "/home/neft/anaconda3/envs/ai/lib/python3.7/site-packages/ase/data/pubchem.py:85: UserWarning: The structure \"681\" has more than one conformer in PubChem. By default, the first conformer is returned, please ensure you are using the structure you intend to or use the `ase.data.pubchem.pubchem_conformer_search` function\n",
      "  ' function'.format(search))\n"
     ]
    },
    {
     "name": "stdout",
     "output_type": "stream",
     "text": [
      "580\n",
      "581\n"
     ]
    },
    {
     "name": "stderr",
     "output_type": "stream",
     "text": [
      "/home/neft/anaconda3/envs/ai/lib/python3.7/site-packages/ase/data/pubchem.py:85: UserWarning: The structure \"4614\" has more than one conformer in PubChem. By default, the first conformer is returned, please ensure you are using the structure you intend to or use the `ase.data.pubchem.pubchem_conformer_search` function\n",
      "  ' function'.format(search))\n"
     ]
    },
    {
     "name": "stdout",
     "output_type": "stream",
     "text": [
      "582\n"
     ]
    },
    {
     "name": "stderr",
     "output_type": "stream",
     "text": [
      "/home/neft/anaconda3/envs/ai/lib/python3.7/site-packages/ase/data/pubchem.py:85: UserWarning: The structure \"2265\" has more than one conformer in PubChem. By default, the first conformer is returned, please ensure you are using the structure you intend to or use the `ase.data.pubchem.pubchem_conformer_search` function\n",
      "  ' function'.format(search))\n"
     ]
    },
    {
     "name": "stdout",
     "output_type": "stream",
     "text": [
      "583\n"
     ]
    },
    {
     "name": "stderr",
     "output_type": "stream",
     "text": [
      "/home/neft/anaconda3/envs/ai/lib/python3.7/site-packages/ase/data/pubchem.py:85: UserWarning: The structure \"31703\" has more than one conformer in PubChem. By default, the first conformer is returned, please ensure you are using the structure you intend to or use the `ase.data.pubchem.pubchem_conformer_search` function\n",
      "  ' function'.format(search))\n"
     ]
    },
    {
     "name": "stdout",
     "output_type": "stream",
     "text": [
      "584\n"
     ]
    },
    {
     "name": "stderr",
     "output_type": "stream",
     "text": [
      "/home/neft/anaconda3/envs/ai/lib/python3.7/site-packages/ase/data/pubchem.py:85: UserWarning: The structure \"3639\" has more than one conformer in PubChem. By default, the first conformer is returned, please ensure you are using the structure you intend to or use the `ase.data.pubchem.pubchem_conformer_search` function\n",
      "  ' function'.format(search))\n"
     ]
    },
    {
     "name": "stdout",
     "output_type": "stream",
     "text": [
      "585\n"
     ]
    },
    {
     "name": "stderr",
     "output_type": "stream",
     "text": [
      "/home/neft/anaconda3/envs/ai/lib/python3.7/site-packages/ase/data/pubchem.py:85: UserWarning: The structure \"19003\" has more than one conformer in PubChem. By default, the first conformer is returned, please ensure you are using the structure you intend to or use the `ase.data.pubchem.pubchem_conformer_search` function\n",
      "  ' function'.format(search))\n"
     ]
    },
    {
     "name": "stdout",
     "output_type": "stream",
     "text": [
      "586\n"
     ]
    },
    {
     "name": "stderr",
     "output_type": "stream",
     "text": [
      "/home/neft/anaconda3/envs/ai/lib/python3.7/site-packages/ase/data/pubchem.py:85: UserWarning: The structure \"2083\" has more than one conformer in PubChem. By default, the first conformer is returned, please ensure you are using the structure you intend to or use the `ase.data.pubchem.pubchem_conformer_search` function\n",
      "  ' function'.format(search))\n"
     ]
    },
    {
     "name": "stdout",
     "output_type": "stream",
     "text": [
      "587\n"
     ]
    },
    {
     "name": "stderr",
     "output_type": "stream",
     "text": [
      "/home/neft/anaconda3/envs/ai/lib/python3.7/site-packages/ase/data/pubchem.py:85: UserWarning: The structure \"2882\" has more than one conformer in PubChem. By default, the first conformer is returned, please ensure you are using the structure you intend to or use the `ase.data.pubchem.pubchem_conformer_search` function\n",
      "  ' function'.format(search))\n"
     ]
    },
    {
     "name": "stdout",
     "output_type": "stream",
     "text": [
      "588\n"
     ]
    },
    {
     "name": "stderr",
     "output_type": "stream",
     "text": [
      "/home/neft/anaconda3/envs/ai/lib/python3.7/site-packages/ase/data/pubchem.py:85: UserWarning: The structure \"135398740\" has more than one conformer in PubChem. By default, the first conformer is returned, please ensure you are using the structure you intend to or use the `ase.data.pubchem.pubchem_conformer_search` function\n",
      "  ' function'.format(search))\n"
     ]
    },
    {
     "name": "stdout",
     "output_type": "stream",
     "text": [
      "589\n",
      "590\n"
     ]
    },
    {
     "name": "stderr",
     "output_type": "stream",
     "text": [
      "/home/neft/anaconda3/envs/ai/lib/python3.7/site-packages/ase/data/pubchem.py:85: UserWarning: The structure \"3902\" has more than one conformer in PubChem. By default, the first conformer is returned, please ensure you are using the structure you intend to or use the `ase.data.pubchem.pubchem_conformer_search` function\n",
      "  ' function'.format(search))\n"
     ]
    },
    {
     "name": "stdout",
     "output_type": "stream",
     "text": [
      "591\n"
     ]
    },
    {
     "name": "stderr",
     "output_type": "stream",
     "text": [
      "/home/neft/anaconda3/envs/ai/lib/python3.7/site-packages/ase/data/pubchem.py:85: UserWarning: The structure \"2478\" has more than one conformer in PubChem. By default, the first conformer is returned, please ensure you are using the structure you intend to or use the `ase.data.pubchem.pubchem_conformer_search` function\n",
      "  ' function'.format(search))\n"
     ]
    },
    {
     "name": "stdout",
     "output_type": "stream",
     "text": [
      "592\n"
     ]
    },
    {
     "name": "stderr",
     "output_type": "stream",
     "text": [
      "/home/neft/anaconda3/envs/ai/lib/python3.7/site-packages/ase/data/pubchem.py:85: UserWarning: The structure \"3825\" has more than one conformer in PubChem. By default, the first conformer is returned, please ensure you are using the structure you intend to or use the `ase.data.pubchem.pubchem_conformer_search` function\n",
      "  ' function'.format(search))\n"
     ]
    },
    {
     "name": "stdout",
     "output_type": "stream",
     "text": [
      "593\n"
     ]
    },
    {
     "name": "stderr",
     "output_type": "stream",
     "text": [
      "/home/neft/anaconda3/envs/ai/lib/python3.7/site-packages/ase/data/pubchem.py:85: UserWarning: The structure \"3202\" has more than one conformer in PubChem. By default, the first conformer is returned, please ensure you are using the structure you intend to or use the `ase.data.pubchem.pubchem_conformer_search` function\n",
      "  ' function'.format(search))\n"
     ]
    },
    {
     "name": "stdout",
     "output_type": "stream",
     "text": [
      "594\n"
     ]
    },
    {
     "name": "stderr",
     "output_type": "stream",
     "text": [
      "/home/neft/anaconda3/envs/ai/lib/python3.7/site-packages/ase/data/pubchem.py:85: UserWarning: The structure \"4174\" has more than one conformer in PubChem. By default, the first conformer is returned, please ensure you are using the structure you intend to or use the `ase.data.pubchem.pubchem_conformer_search` function\n",
      "  ' function'.format(search))\n"
     ]
    },
    {
     "name": "stdout",
     "output_type": "stream",
     "text": [
      "595\n"
     ]
    },
    {
     "name": "stderr",
     "output_type": "stream",
     "text": [
      "/home/neft/anaconda3/envs/ai/lib/python3.7/site-packages/ase/data/pubchem.py:85: UserWarning: The structure \"32798\" has more than one conformer in PubChem. By default, the first conformer is returned, please ensure you are using the structure you intend to or use the `ase.data.pubchem.pubchem_conformer_search` function\n",
      "  ' function'.format(search))\n"
     ]
    },
    {
     "name": "stdout",
     "output_type": "stream",
     "text": [
      "596\n"
     ]
    },
    {
     "name": "stderr",
     "output_type": "stream",
     "text": [
      "/home/neft/anaconda3/envs/ai/lib/python3.7/site-packages/ase/data/pubchem.py:85: UserWarning: The structure \"5329\" has more than one conformer in PubChem. By default, the first conformer is returned, please ensure you are using the structure you intend to or use the `ase.data.pubchem.pubchem_conformer_search` function\n",
      "  ' function'.format(search))\n"
     ]
    },
    {
     "name": "stdout",
     "output_type": "stream",
     "text": [
      "597\n"
     ]
    },
    {
     "name": "stderr",
     "output_type": "stream",
     "text": [
      "/home/neft/anaconda3/envs/ai/lib/python3.7/site-packages/ase/data/pubchem.py:85: UserWarning: The structure \"3488\" has more than one conformer in PubChem. By default, the first conformer is returned, please ensure you are using the structure you intend to or use the `ase.data.pubchem.pubchem_conformer_search` function\n",
      "  ' function'.format(search))\n"
     ]
    },
    {
     "name": "stdout",
     "output_type": "stream",
     "text": [
      "598\n"
     ]
    },
    {
     "name": "stderr",
     "output_type": "stream",
     "text": [
      "/home/neft/anaconda3/envs/ai/lib/python3.7/site-packages/ase/data/pubchem.py:85: UserWarning: The structure \"3519\" has more than one conformer in PubChem. By default, the first conformer is returned, please ensure you are using the structure you intend to or use the `ase.data.pubchem.pubchem_conformer_search` function\n",
      "  ' function'.format(search))\n"
     ]
    },
    {
     "name": "stdout",
     "output_type": "stream",
     "text": [
      "599\n"
     ]
    },
    {
     "name": "stderr",
     "output_type": "stream",
     "text": [
      "/home/neft/anaconda3/envs/ai/lib/python3.7/site-packages/ase/data/pubchem.py:85: UserWarning: The structure \"2370\" has more than one conformer in PubChem. By default, the first conformer is returned, please ensure you are using the structure you intend to or use the `ase.data.pubchem.pubchem_conformer_search` function\n",
      "  ' function'.format(search))\n"
     ]
    },
    {
     "name": "stdout",
     "output_type": "stream",
     "text": [
      "600\n"
     ]
    },
    {
     "name": "stderr",
     "output_type": "stream",
     "text": [
      "/home/neft/anaconda3/envs/ai/lib/python3.7/site-packages/ase/data/pubchem.py:85: UserWarning: The structure \"27661\" has more than one conformer in PubChem. By default, the first conformer is returned, please ensure you are using the structure you intend to or use the `ase.data.pubchem.pubchem_conformer_search` function\n",
      "  ' function'.format(search))\n"
     ]
    },
    {
     "name": "stdout",
     "output_type": "stream",
     "text": [
      "601\n"
     ]
    },
    {
     "name": "stderr",
     "output_type": "stream",
     "text": [
      "/home/neft/anaconda3/envs/ai/lib/python3.7/site-packages/ase/data/pubchem.py:85: UserWarning: The structure \"5560\" has more than one conformer in PubChem. By default, the first conformer is returned, please ensure you are using the structure you intend to or use the `ase.data.pubchem.pubchem_conformer_search` function\n",
      "  ' function'.format(search))\n"
     ]
    },
    {
     "name": "stdout",
     "output_type": "stream",
     "text": [
      "602\n"
     ]
    },
    {
     "name": "stderr",
     "output_type": "stream",
     "text": [
      "/home/neft/anaconda3/envs/ai/lib/python3.7/site-packages/ase/data/pubchem.py:85: UserWarning: The structure \"5284607\" has more than one conformer in PubChem. By default, the first conformer is returned, please ensure you are using the structure you intend to or use the `ase.data.pubchem.pubchem_conformer_search` function\n",
      "  ' function'.format(search))\n"
     ]
    },
    {
     "name": "stdout",
     "output_type": "stream",
     "text": [
      "603\n"
     ]
    },
    {
     "name": "stderr",
     "output_type": "stream",
     "text": [
      "/home/neft/anaconda3/envs/ai/lib/python3.7/site-packages/ase/data/pubchem.py:85: UserWarning: The structure \"3333\" has more than one conformer in PubChem. By default, the first conformer is returned, please ensure you are using the structure you intend to or use the `ase.data.pubchem.pubchem_conformer_search` function\n",
      "  ' function'.format(search))\n"
     ]
    },
    {
     "name": "stdout",
     "output_type": "stream",
     "text": [
      "604\n"
     ]
    },
    {
     "name": "stderr",
     "output_type": "stream",
     "text": [
      "/home/neft/anaconda3/envs/ai/lib/python3.7/site-packages/ase/data/pubchem.py:85: UserWarning: The structure \"446541\" has more than one conformer in PubChem. By default, the first conformer is returned, please ensure you are using the structure you intend to or use the `ase.data.pubchem.pubchem_conformer_search` function\n",
      "  ' function'.format(search))\n"
     ]
    },
    {
     "name": "stdout",
     "output_type": "stream",
     "text": [
      "605\n"
     ]
    },
    {
     "name": "stderr",
     "output_type": "stream",
     "text": [
      "/home/neft/anaconda3/envs/ai/lib/python3.7/site-packages/ase/data/pubchem.py:85: UserWarning: The structure \"3823\" has more than one conformer in PubChem. By default, the first conformer is returned, please ensure you are using the structure you intend to or use the `ase.data.pubchem.pubchem_conformer_search` function\n",
      "  ' function'.format(search))\n"
     ]
    },
    {
     "name": "stdout",
     "output_type": "stream",
     "text": [
      "606\n"
     ]
    },
    {
     "name": "stderr",
     "output_type": "stream",
     "text": [
      "/home/neft/anaconda3/envs/ai/lib/python3.7/site-packages/ase/data/pubchem.py:85: UserWarning: The structure \"4116\" has more than one conformer in PubChem. By default, the first conformer is returned, please ensure you are using the structure you intend to or use the `ase.data.pubchem.pubchem_conformer_search` function\n",
      "  ' function'.format(search))\n"
     ]
    },
    {
     "name": "stdout",
     "output_type": "stream",
     "text": [
      "607\n"
     ]
    },
    {
     "name": "stderr",
     "output_type": "stream",
     "text": [
      "/home/neft/anaconda3/envs/ai/lib/python3.7/site-packages/ase/data/pubchem.py:85: UserWarning: The structure \"3749\" has more than one conformer in PubChem. By default, the first conformer is returned, please ensure you are using the structure you intend to or use the `ase.data.pubchem.pubchem_conformer_search` function\n",
      "  ' function'.format(search))\n"
     ]
    },
    {
     "name": "stdout",
     "output_type": "stream",
     "text": [
      "608\n"
     ]
    },
    {
     "name": "stderr",
     "output_type": "stream",
     "text": [
      "/home/neft/anaconda3/envs/ai/lib/python3.7/site-packages/ase/data/pubchem.py:85: UserWarning: The structure \"60700\" has more than one conformer in PubChem. By default, the first conformer is returned, please ensure you are using the structure you intend to or use the `ase.data.pubchem.pubchem_conformer_search` function\n",
      "  ' function'.format(search))\n"
     ]
    },
    {
     "name": "stdout",
     "output_type": "stream",
     "text": [
      "609\n"
     ]
    },
    {
     "name": "stderr",
     "output_type": "stream",
     "text": [
      "/home/neft/anaconda3/envs/ai/lib/python3.7/site-packages/ase/data/pubchem.py:85: UserWarning: The structure \"3284\" has more than one conformer in PubChem. By default, the first conformer is returned, please ensure you are using the structure you intend to or use the `ase.data.pubchem.pubchem_conformer_search` function\n",
      "  ' function'.format(search))\n"
     ]
    },
    {
     "name": "stdout",
     "output_type": "stream",
     "text": [
      "610\n"
     ]
    },
    {
     "name": "stderr",
     "output_type": "stream",
     "text": [
      "/home/neft/anaconda3/envs/ai/lib/python3.7/site-packages/ase/data/pubchem.py:85: UserWarning: The structure \"4911\" has more than one conformer in PubChem. By default, the first conformer is returned, please ensure you are using the structure you intend to or use the `ase.data.pubchem.pubchem_conformer_search` function\n",
      "  ' function'.format(search))\n"
     ]
    },
    {
     "name": "stdout",
     "output_type": "stream",
     "text": [
      "611\n",
      "612\n"
     ]
    },
    {
     "name": "stderr",
     "output_type": "stream",
     "text": [
      "/home/neft/anaconda3/envs/ai/lib/python3.7/site-packages/ase/data/pubchem.py:85: UserWarning: The structure \"28517\" has more than one conformer in PubChem. By default, the first conformer is returned, please ensure you are using the structure you intend to or use the `ase.data.pubchem.pubchem_conformer_search` function\n",
      "  ' function'.format(search))\n"
     ]
    },
    {
     "name": "stdout",
     "output_type": "stream",
     "text": [
      "613\n"
     ]
    },
    {
     "name": "stderr",
     "output_type": "stream",
     "text": [
      "/home/neft/anaconda3/envs/ai/lib/python3.7/site-packages/ase/data/pubchem.py:85: UserWarning: The structure \"4913\" has more than one conformer in PubChem. By default, the first conformer is returned, please ensure you are using the structure you intend to or use the `ase.data.pubchem.pubchem_conformer_search` function\n",
      "  ' function'.format(search))\n"
     ]
    },
    {
     "name": "stdout",
     "output_type": "stream",
     "text": [
      "614\n"
     ]
    },
    {
     "name": "stderr",
     "output_type": "stream",
     "text": [
      "/home/neft/anaconda3/envs/ai/lib/python3.7/site-packages/ase/data/pubchem.py:85: UserWarning: The structure \"26757\" has more than one conformer in PubChem. By default, the first conformer is returned, please ensure you are using the structure you intend to or use the `ase.data.pubchem.pubchem_conformer_search` function\n",
      "  ' function'.format(search))\n"
     ]
    },
    {
     "name": "stdout",
     "output_type": "stream",
     "text": [
      "615\n"
     ]
    },
    {
     "name": "stderr",
     "output_type": "stream",
     "text": [
      "/home/neft/anaconda3/envs/ai/lib/python3.7/site-packages/ase/data/pubchem.py:85: UserWarning: The structure \"18104\" has more than one conformer in PubChem. By default, the first conformer is returned, please ensure you are using the structure you intend to or use the `ase.data.pubchem.pubchem_conformer_search` function\n",
      "  ' function'.format(search))\n"
     ]
    },
    {
     "name": "stdout",
     "output_type": "stream",
     "text": [
      "616\n"
     ]
    },
    {
     "name": "stderr",
     "output_type": "stream",
     "text": [
      "/home/neft/anaconda3/envs/ai/lib/python3.7/site-packages/ase/data/pubchem.py:85: UserWarning: The structure \"3339\" has more than one conformer in PubChem. By default, the first conformer is returned, please ensure you are using the structure you intend to or use the `ase.data.pubchem.pubchem_conformer_search` function\n",
      "  ' function'.format(search))\n"
     ]
    },
    {
     "name": "stdout",
     "output_type": "stream",
     "text": [
      "617\n"
     ]
    },
    {
     "name": "stderr",
     "output_type": "stream",
     "text": [
      "/home/neft/anaconda3/envs/ai/lib/python3.7/site-packages/ase/data/pubchem.py:85: UserWarning: The structure \"5426\" has more than one conformer in PubChem. By default, the first conformer is returned, please ensure you are using the structure you intend to or use the `ase.data.pubchem.pubchem_conformer_search` function\n",
      "  ' function'.format(search))\n"
     ]
    },
    {
     "name": "stdout",
     "output_type": "stream",
     "text": [
      "618\n"
     ]
    },
    {
     "name": "stderr",
     "output_type": "stream",
     "text": [
      "/home/neft/anaconda3/envs/ai/lib/python3.7/site-packages/ase/data/pubchem.py:85: UserWarning: The structure \"460612\" has more than one conformer in PubChem. By default, the first conformer is returned, please ensure you are using the structure you intend to or use the `ase.data.pubchem.pubchem_conformer_search` function\n",
      "  ' function'.format(search))\n"
     ]
    },
    {
     "name": "stdout",
     "output_type": "stream",
     "text": [
      "619\n",
      "620\n"
     ]
    },
    {
     "name": "stderr",
     "output_type": "stream",
     "text": [
      "/home/neft/anaconda3/envs/ai/lib/python3.7/site-packages/ase/data/pubchem.py:85: UserWarning: The structure \"5379\" has more than one conformer in PubChem. By default, the first conformer is returned, please ensure you are using the structure you intend to or use the `ase.data.pubchem.pubchem_conformer_search` function\n",
      "  ' function'.format(search))\n"
     ]
    },
    {
     "name": "stdout",
     "output_type": "stream",
     "text": [
      "621\n"
     ]
    },
    {
     "name": "stderr",
     "output_type": "stream",
     "text": [
      "/home/neft/anaconda3/envs/ai/lib/python3.7/site-packages/ase/data/pubchem.py:85: UserWarning: The structure \"9642\" has more than one conformer in PubChem. By default, the first conformer is returned, please ensure you are using the structure you intend to or use the `ase.data.pubchem.pubchem_conformer_search` function\n",
      "  ' function'.format(search))\n"
     ]
    },
    {
     "name": "stdout",
     "output_type": "stream",
     "text": [
      "622\n"
     ]
    },
    {
     "name": "stderr",
     "output_type": "stream",
     "text": [
      "/home/neft/anaconda3/envs/ai/lib/python3.7/site-packages/ase/data/pubchem.py:85: UserWarning: The structure \"441300\" has more than one conformer in PubChem. By default, the first conformer is returned, please ensure you are using the structure you intend to or use the `ase.data.pubchem.pubchem_conformer_search` function\n",
      "  ' function'.format(search))\n"
     ]
    },
    {
     "name": "stdout",
     "output_type": "stream",
     "text": [
      "623\n"
     ]
    },
    {
     "name": "stderr",
     "output_type": "stream",
     "text": [
      "/home/neft/anaconda3/envs/ai/lib/python3.7/site-packages/ase/data/pubchem.py:85: UserWarning: The structure \"3672\" has more than one conformer in PubChem. By default, the first conformer is returned, please ensure you are using the structure you intend to or use the `ase.data.pubchem.pubchem_conformer_search` function\n",
      "  ' function'.format(search))\n"
     ]
    },
    {
     "name": "stdout",
     "output_type": "stream",
     "text": [
      "624\n"
     ]
    },
    {
     "name": "stderr",
     "output_type": "stream",
     "text": [
      "/home/neft/anaconda3/envs/ai/lib/python3.7/site-packages/ase/data/pubchem.py:85: UserWarning: The structure \"5904\" has more than one conformer in PubChem. By default, the first conformer is returned, please ensure you are using the structure you intend to or use the `ase.data.pubchem.pubchem_conformer_search` function\n",
      "  ' function'.format(search))\n"
     ]
    },
    {
     "name": "stdout",
     "output_type": "stream",
     "text": [
      "625\n"
     ]
    },
    {
     "name": "stderr",
     "output_type": "stream",
     "text": [
      "/home/neft/anaconda3/envs/ai/lib/python3.7/site-packages/ase/data/pubchem.py:85: UserWarning: The structure \"4507\" has more than one conformer in PubChem. By default, the first conformer is returned, please ensure you are using the structure you intend to or use the `ase.data.pubchem.pubchem_conformer_search` function\n",
      "  ' function'.format(search))\n"
     ]
    },
    {
     "name": "stdout",
     "output_type": "stream",
     "text": [
      "626\n"
     ]
    },
    {
     "name": "stderr",
     "output_type": "stream",
     "text": [
      "/home/neft/anaconda3/envs/ai/lib/python3.7/site-packages/ase/data/pubchem.py:85: UserWarning: The structure \"440473\" has more than one conformer in PubChem. By default, the first conformer is returned, please ensure you are using the structure you intend to or use the `ase.data.pubchem.pubchem_conformer_search` function\n",
      "  ' function'.format(search))\n"
     ]
    },
    {
     "name": "stdout",
     "output_type": "stream",
     "text": [
      "627\n"
     ]
    },
    {
     "name": "stderr",
     "output_type": "stream",
     "text": [
      "/home/neft/anaconda3/envs/ai/lib/python3.7/site-packages/ase/data/pubchem.py:85: UserWarning: The structure \"38945\" has more than one conformer in PubChem. By default, the first conformer is returned, please ensure you are using the structure you intend to or use the `ase.data.pubchem.pubchem_conformer_search` function\n",
      "  ' function'.format(search))\n"
     ]
    },
    {
     "name": "stdout",
     "output_type": "stream",
     "text": [
      "628\n"
     ]
    },
    {
     "name": "stderr",
     "output_type": "stream",
     "text": [
      "/home/neft/anaconda3/envs/ai/lib/python3.7/site-packages/ase/data/pubchem.py:85: UserWarning: The structure \"10548\" has more than one conformer in PubChem. By default, the first conformer is returned, please ensure you are using the structure you intend to or use the `ase.data.pubchem.pubchem_conformer_search` function\n",
      "  ' function'.format(search))\n"
     ]
    },
    {
     "name": "stdout",
     "output_type": "stream",
     "text": [
      "629\n"
     ]
    },
    {
     "name": "stderr",
     "output_type": "stream",
     "text": [
      "/home/neft/anaconda3/envs/ai/lib/python3.7/site-packages/ase/data/pubchem.py:85: UserWarning: The structure \"4891\" has more than one conformer in PubChem. By default, the first conformer is returned, please ensure you are using the structure you intend to or use the `ase.data.pubchem.pubchem_conformer_search` function\n",
      "  ' function'.format(search))\n"
     ]
    },
    {
     "name": "stdout",
     "output_type": "stream",
     "text": [
      "630\n"
     ]
    },
    {
     "name": "stderr",
     "output_type": "stream",
     "text": [
      "/home/neft/anaconda3/envs/ai/lib/python3.7/site-packages/ase/data/pubchem.py:85: UserWarning: The structure \"4539\" has more than one conformer in PubChem. By default, the first conformer is returned, please ensure you are using the structure you intend to or use the `ase.data.pubchem.pubchem_conformer_search` function\n",
      "  ' function'.format(search))\n"
     ]
    },
    {
     "name": "stdout",
     "output_type": "stream",
     "text": [
      "631\n"
     ]
    },
    {
     "name": "stderr",
     "output_type": "stream",
     "text": [
      "/home/neft/anaconda3/envs/ai/lib/python3.7/site-packages/ase/data/pubchem.py:85: UserWarning: The structure \"33613\" has more than one conformer in PubChem. By default, the first conformer is returned, please ensure you are using the structure you intend to or use the `ase.data.pubchem.pubchem_conformer_search` function\n",
      "  ' function'.format(search))\n"
     ]
    },
    {
     "name": "stdout",
     "output_type": "stream",
     "text": [
      "632\n"
     ]
    },
    {
     "name": "stderr",
     "output_type": "stream",
     "text": [
      "/home/neft/anaconda3/envs/ai/lib/python3.7/site-packages/ase/data/pubchem.py:85: UserWarning: The structure \"4634\" has more than one conformer in PubChem. By default, the first conformer is returned, please ensure you are using the structure you intend to or use the `ase.data.pubchem.pubchem_conformer_search` function\n",
      "  ' function'.format(search))\n"
     ]
    },
    {
     "name": "stdout",
     "output_type": "stream",
     "text": [
      "633\n"
     ]
    },
    {
     "name": "stderr",
     "output_type": "stream",
     "text": [
      "/home/neft/anaconda3/envs/ai/lib/python3.7/site-packages/ase/data/pubchem.py:85: UserWarning: The structure \"17676\" has more than one conformer in PubChem. By default, the first conformer is returned, please ensure you are using the structure you intend to or use the `ase.data.pubchem.pubchem_conformer_search` function\n",
      "  ' function'.format(search))\n"
     ]
    },
    {
     "name": "stdout",
     "output_type": "stream",
     "text": [
      "634\n"
     ]
    },
    {
     "name": "stderr",
     "output_type": "stream",
     "text": [
      "/home/neft/anaconda3/envs/ai/lib/python3.7/site-packages/ase/data/pubchem.py:85: UserWarning: The structure \"3779\" has more than one conformer in PubChem. By default, the first conformer is returned, please ensure you are using the structure you intend to or use the `ase.data.pubchem.pubchem_conformer_search` function\n",
      "  ' function'.format(search))\n"
     ]
    },
    {
     "name": "stdout",
     "output_type": "stream",
     "text": [
      "635\n"
     ]
    },
    {
     "name": "stderr",
     "output_type": "stream",
     "text": [
      "/home/neft/anaconda3/envs/ai/lib/python3.7/site-packages/ase/data/pubchem.py:85: UserWarning: The structure \"896\" has more than one conformer in PubChem. By default, the first conformer is returned, please ensure you are using the structure you intend to or use the `ase.data.pubchem.pubchem_conformer_search` function\n",
      "  ' function'.format(search))\n"
     ]
    },
    {
     "name": "stdout",
     "output_type": "stream",
     "text": [
      "636\n"
     ]
    },
    {
     "name": "stderr",
     "output_type": "stream",
     "text": [
      "/home/neft/anaconda3/envs/ai/lib/python3.7/site-packages/ase/data/pubchem.py:85: UserWarning: The structure \"9870843\" has more than one conformer in PubChem. By default, the first conformer is returned, please ensure you are using the structure you intend to or use the `ase.data.pubchem.pubchem_conformer_search` function\n",
      "  ' function'.format(search))\n"
     ]
    },
    {
     "name": "stdout",
     "output_type": "stream",
     "text": [
      "637\n"
     ]
    },
    {
     "name": "stderr",
     "output_type": "stream",
     "text": [
      "/home/neft/anaconda3/envs/ai/lib/python3.7/site-packages/ase/data/pubchem.py:85: UserWarning: The structure \"3478\" has more than one conformer in PubChem. By default, the first conformer is returned, please ensure you are using the structure you intend to or use the `ase.data.pubchem.pubchem_conformer_search` function\n",
      "  ' function'.format(search))\n"
     ]
    },
    {
     "name": "stdout",
     "output_type": "stream",
     "text": [
      "638\n"
     ]
    },
    {
     "name": "stderr",
     "output_type": "stream",
     "text": [
      "/home/neft/anaconda3/envs/ai/lib/python3.7/site-packages/ase/data/pubchem.py:85: UserWarning: The structure \"2802\" has more than one conformer in PubChem. By default, the first conformer is returned, please ensure you are using the structure you intend to or use the `ase.data.pubchem.pubchem_conformer_search` function\n",
      "  ' function'.format(search))\n"
     ]
    },
    {
     "name": "stdout",
     "output_type": "stream",
     "text": [
      "639\n"
     ]
    },
    {
     "name": "stderr",
     "output_type": "stream",
     "text": [
      "/home/neft/anaconda3/envs/ai/lib/python3.7/site-packages/ase/data/pubchem.py:85: UserWarning: The structure \"4927\" has more than one conformer in PubChem. By default, the first conformer is returned, please ensure you are using the structure you intend to or use the `ase.data.pubchem.pubchem_conformer_search` function\n",
      "  ' function'.format(search))\n"
     ]
    },
    {
     "name": "stdout",
     "output_type": "stream",
     "text": [
      "640\n"
     ]
    },
    {
     "name": "stderr",
     "output_type": "stream",
     "text": [
      "/home/neft/anaconda3/envs/ai/lib/python3.7/site-packages/ase/data/pubchem.py:85: UserWarning: The structure \"4066\" has more than one conformer in PubChem. By default, the first conformer is returned, please ensure you are using the structure you intend to or use the `ase.data.pubchem.pubchem_conformer_search` function\n",
      "  ' function'.format(search))\n"
     ]
    },
    {
     "name": "stdout",
     "output_type": "stream",
     "text": [
      "641\n"
     ]
    },
    {
     "name": "stderr",
     "output_type": "stream",
     "text": [
      "/home/neft/anaconda3/envs/ai/lib/python3.7/site-packages/ase/data/pubchem.py:85: UserWarning: The structure \"657237\" has more than one conformer in PubChem. By default, the first conformer is returned, please ensure you are using the structure you intend to or use the `ase.data.pubchem.pubchem_conformer_search` function\n",
      "  ' function'.format(search))\n"
     ]
    },
    {
     "name": "stdout",
     "output_type": "stream",
     "text": [
      "642\n"
     ]
    },
    {
     "name": "stderr",
     "output_type": "stream",
     "text": [
      "/home/neft/anaconda3/envs/ai/lib/python3.7/site-packages/ase/data/pubchem.py:85: UserWarning: The structure \"3100\" has more than one conformer in PubChem. By default, the first conformer is returned, please ensure you are using the structure you intend to or use the `ase.data.pubchem.pubchem_conformer_search` function\n",
      "  ' function'.format(search))\n"
     ]
    },
    {
     "name": "stdout",
     "output_type": "stream",
     "text": [
      "643\n"
     ]
    },
    {
     "name": "stderr",
     "output_type": "stream",
     "text": [
      "/home/neft/anaconda3/envs/ai/lib/python3.7/site-packages/ase/data/pubchem.py:85: UserWarning: The structure \"60823\" has more than one conformer in PubChem. By default, the first conformer is returned, please ensure you are using the structure you intend to or use the `ase.data.pubchem.pubchem_conformer_search` function\n",
      "  ' function'.format(search))\n"
     ]
    },
    {
     "name": "stdout",
     "output_type": "stream",
     "text": [
      "644\n"
     ]
    },
    {
     "name": "stderr",
     "output_type": "stream",
     "text": [
      "/home/neft/anaconda3/envs/ai/lib/python3.7/site-packages/ase/data/pubchem.py:85: UserWarning: The structure \"135409453\" has more than one conformer in PubChem. By default, the first conformer is returned, please ensure you are using the structure you intend to or use the `ase.data.pubchem.pubchem_conformer_search` function\n",
      "  ' function'.format(search))\n"
     ]
    },
    {
     "name": "stdout",
     "output_type": "stream",
     "text": [
      "645\n"
     ]
    },
    {
     "name": "stderr",
     "output_type": "stream",
     "text": [
      "/home/neft/anaconda3/envs/ai/lib/python3.7/site-packages/ase/data/pubchem.py:85: UserWarning: The structure \"13505\" has more than one conformer in PubChem. By default, the first conformer is returned, please ensure you are using the structure you intend to or use the `ase.data.pubchem.pubchem_conformer_search` function\n",
      "  ' function'.format(search))\n"
     ]
    },
    {
     "name": "stdout",
     "output_type": "stream",
     "text": [
      "646\n"
     ]
    },
    {
     "name": "stderr",
     "output_type": "stream",
     "text": [
      "/home/neft/anaconda3/envs/ai/lib/python3.7/site-packages/ase/data/pubchem.py:85: UserWarning: The structure \"5910\" has more than one conformer in PubChem. By default, the first conformer is returned, please ensure you are using the structure you intend to or use the `ase.data.pubchem.pubchem_conformer_search` function\n",
      "  ' function'.format(search))\n"
     ]
    },
    {
     "name": "stdout",
     "output_type": "stream",
     "text": [
      "647\n"
     ]
    },
    {
     "name": "stderr",
     "output_type": "stream",
     "text": [
      "/home/neft/anaconda3/envs/ai/lib/python3.7/site-packages/ase/data/pubchem.py:85: UserWarning: The structure \"2337\" has more than one conformer in PubChem. By default, the first conformer is returned, please ensure you are using the structure you intend to or use the `ase.data.pubchem.pubchem_conformer_search` function\n",
      "  ' function'.format(search))\n"
     ]
    },
    {
     "name": "stdout",
     "output_type": "stream",
     "text": [
      "648\n"
     ]
    },
    {
     "name": "stderr",
     "output_type": "stream",
     "text": [
      "/home/neft/anaconda3/envs/ai/lib/python3.7/site-packages/ase/data/pubchem.py:85: UserWarning: The structure \"8550\" has more than one conformer in PubChem. By default, the first conformer is returned, please ensure you are using the structure you intend to or use the `ase.data.pubchem.pubchem_conformer_search` function\n",
      "  ' function'.format(search))\n"
     ]
    },
    {
     "name": "stdout",
     "output_type": "stream",
     "text": [
      "649\n"
     ]
    },
    {
     "name": "stderr",
     "output_type": "stream",
     "text": [
      "/home/neft/anaconda3/envs/ai/lib/python3.7/site-packages/ase/data/pubchem.py:85: UserWarning: The structure \"5850\" has more than one conformer in PubChem. By default, the first conformer is returned, please ensure you are using the structure you intend to or use the `ase.data.pubchem.pubchem_conformer_search` function\n",
      "  ' function'.format(search))\n"
     ]
    },
    {
     "name": "stdout",
     "output_type": "stream",
     "text": [
      "650\n"
     ]
    },
    {
     "name": "stderr",
     "output_type": "stream",
     "text": [
      "/home/neft/anaconda3/envs/ai/lib/python3.7/site-packages/ase/data/pubchem.py:85: UserWarning: The structure \"439501\" has more than one conformer in PubChem. By default, the first conformer is returned, please ensure you are using the structure you intend to or use the `ase.data.pubchem.pubchem_conformer_search` function\n",
      "  ' function'.format(search))\n"
     ]
    },
    {
     "name": "stdout",
     "output_type": "stream",
     "text": [
      "651\n",
      "652\n"
     ]
    },
    {
     "name": "stderr",
     "output_type": "stream",
     "text": [
      "/home/neft/anaconda3/envs/ai/lib/python3.7/site-packages/ase/data/pubchem.py:85: UserWarning: The structure \"72281\" has more than one conformer in PubChem. By default, the first conformer is returned, please ensure you are using the structure you intend to or use the `ase.data.pubchem.pubchem_conformer_search` function\n",
      "  ' function'.format(search))\n"
     ]
    },
    {
     "name": "stdout",
     "output_type": "stream",
     "text": [
      "653\n"
     ]
    },
    {
     "name": "stderr",
     "output_type": "stream",
     "text": [
      "/home/neft/anaconda3/envs/ai/lib/python3.7/site-packages/ase/data/pubchem.py:85: UserWarning: The structure \"1548972\" has more than one conformer in PubChem. By default, the first conformer is returned, please ensure you are using the structure you intend to or use the `ase.data.pubchem.pubchem_conformer_search` function\n",
      "  ' function'.format(search))\n"
     ]
    },
    {
     "name": "stdout",
     "output_type": "stream",
     "text": [
      "654\n"
     ]
    },
    {
     "name": "stderr",
     "output_type": "stream",
     "text": [
      "/home/neft/anaconda3/envs/ai/lib/python3.7/site-packages/ase/data/pubchem.py:85: UserWarning: The structure \"4612\" has more than one conformer in PubChem. By default, the first conformer is returned, please ensure you are using the structure you intend to or use the `ase.data.pubchem.pubchem_conformer_search` function\n",
      "  ' function'.format(search))\n"
     ]
    },
    {
     "name": "stdout",
     "output_type": "stream",
     "text": [
      "655\n"
     ]
    },
    {
     "name": "stderr",
     "output_type": "stream",
     "text": [
      "/home/neft/anaconda3/envs/ai/lib/python3.7/site-packages/ase/data/pubchem.py:85: UserWarning: The structure \"3899\" has more than one conformer in PubChem. By default, the first conformer is returned, please ensure you are using the structure you intend to or use the `ase.data.pubchem.pubchem_conformer_search` function\n",
      "  ' function'.format(search))\n"
     ]
    },
    {
     "name": "stdout",
     "output_type": "stream",
     "text": [
      "656\n",
      "657\n"
     ]
    },
    {
     "name": "stderr",
     "output_type": "stream",
     "text": [
      "/home/neft/anaconda3/envs/ai/lib/python3.7/site-packages/ase/data/pubchem.py:85: UserWarning: The structure \"16362\" has more than one conformer in PubChem. By default, the first conformer is returned, please ensure you are using the structure you intend to or use the `ase.data.pubchem.pubchem_conformer_search` function\n",
      "  ' function'.format(search))\n"
     ]
    },
    {
     "name": "stdout",
     "output_type": "stream",
     "text": [
      "658\n"
     ]
    },
    {
     "name": "stderr",
     "output_type": "stream",
     "text": [
      "/home/neft/anaconda3/envs/ai/lib/python3.7/site-packages/ase/data/pubchem.py:85: UserWarning: The structure \"60953\" has more than one conformer in PubChem. By default, the first conformer is returned, please ensure you are using the structure you intend to or use the `ase.data.pubchem.pubchem_conformer_search` function\n",
      "  ' function'.format(search))\n"
     ]
    },
    {
     "name": "stdout",
     "output_type": "stream",
     "text": [
      "659\n"
     ]
    },
    {
     "name": "stderr",
     "output_type": "stream",
     "text": [
      "/home/neft/anaconda3/envs/ai/lib/python3.7/site-packages/ase/data/pubchem.py:85: UserWarning: The structure \"237\" has more than one conformer in PubChem. By default, the first conformer is returned, please ensure you are using the structure you intend to or use the `ase.data.pubchem.pubchem_conformer_search` function\n",
      "  ' function'.format(search))\n"
     ]
    },
    {
     "name": "stdout",
     "output_type": "stream",
     "text": [
      "660\n"
     ]
    },
    {
     "name": "stderr",
     "output_type": "stream",
     "text": [
      "/home/neft/anaconda3/envs/ai/lib/python3.7/site-packages/ase/data/pubchem.py:85: UserWarning: The structure \"68617\" has more than one conformer in PubChem. By default, the first conformer is returned, please ensure you are using the structure you intend to or use the `ase.data.pubchem.pubchem_conformer_search` function\n",
      "  ' function'.format(search))\n"
     ]
    },
    {
     "name": "stdout",
     "output_type": "stream",
     "text": [
      "661\n"
     ]
    },
    {
     "name": "stderr",
     "output_type": "stream",
     "text": [
      "/home/neft/anaconda3/envs/ai/lib/python3.7/site-packages/ase/data/pubchem.py:85: UserWarning: The structure \"5210\" has more than one conformer in PubChem. By default, the first conformer is returned, please ensure you are using the structure you intend to or use the `ase.data.pubchem.pubchem_conformer_search` function\n",
      "  ' function'.format(search))\n"
     ]
    },
    {
     "name": "stdout",
     "output_type": "stream",
     "text": [
      "662\n",
      "663\n"
     ]
    },
    {
     "name": "stderr",
     "output_type": "stream",
     "text": [
      "/home/neft/anaconda3/envs/ai/lib/python3.7/site-packages/ase/data/pubchem.py:85: UserWarning: The structure \"4189\" has more than one conformer in PubChem. By default, the first conformer is returned, please ensure you are using the structure you intend to or use the `ase.data.pubchem.pubchem_conformer_search` function\n",
      "  ' function'.format(search))\n"
     ]
    },
    {
     "name": "stdout",
     "output_type": "stream",
     "text": [
      "664\n"
     ]
    },
    {
     "name": "stderr",
     "output_type": "stream",
     "text": [
      "/home/neft/anaconda3/envs/ai/lib/python3.7/site-packages/ase/data/pubchem.py:85: UserWarning: The structure \"5479529\" has more than one conformer in PubChem. By default, the first conformer is returned, please ensure you are using the structure you intend to or use the `ase.data.pubchem.pubchem_conformer_search` function\n",
      "  ' function'.format(search))\n"
     ]
    },
    {
     "name": "stdout",
     "output_type": "stream",
     "text": [
      "665\n"
     ]
    },
    {
     "name": "stderr",
     "output_type": "stream",
     "text": [
      "/home/neft/anaconda3/envs/ai/lib/python3.7/site-packages/ase/data/pubchem.py:85: UserWarning: The structure \"4680\" has more than one conformer in PubChem. By default, the first conformer is returned, please ensure you are using the structure you intend to or use the `ase.data.pubchem.pubchem_conformer_search` function\n",
      "  ' function'.format(search))\n"
     ]
    },
    {
     "name": "stdout",
     "output_type": "stream",
     "text": [
      "666\n"
     ]
    },
    {
     "name": "stderr",
     "output_type": "stream",
     "text": [
      "/home/neft/anaconda3/envs/ai/lib/python3.7/site-packages/ase/data/pubchem.py:85: UserWarning: The structure \"4485\" has more than one conformer in PubChem. By default, the first conformer is returned, please ensure you are using the structure you intend to or use the `ase.data.pubchem.pubchem_conformer_search` function\n",
      "  ' function'.format(search))\n"
     ]
    },
    {
     "name": "stdout",
     "output_type": "stream",
     "text": [
      "667\n"
     ]
    },
    {
     "name": "stderr",
     "output_type": "stream",
     "text": [
      "/home/neft/anaconda3/envs/ai/lib/python3.7/site-packages/ase/data/pubchem.py:85: UserWarning: The structure \"2157\" has more than one conformer in PubChem. By default, the first conformer is returned, please ensure you are using the structure you intend to or use the `ase.data.pubchem.pubchem_conformer_search` function\n",
      "  ' function'.format(search))\n"
     ]
    },
    {
     "name": "stdout",
     "output_type": "stream",
     "text": [
      "668\n",
      "669\n"
     ]
    },
    {
     "name": "stderr",
     "output_type": "stream",
     "text": [
      "/home/neft/anaconda3/envs/ai/lib/python3.7/site-packages/ase/data/pubchem.py:85: UserWarning: The structure \"3475\" has more than one conformer in PubChem. By default, the first conformer is returned, please ensure you are using the structure you intend to or use the `ase.data.pubchem.pubchem_conformer_search` function\n",
      "  ' function'.format(search))\n"
     ]
    },
    {
     "name": "stdout",
     "output_type": "stream",
     "text": [
      "670\n"
     ]
    },
    {
     "name": "stderr",
     "output_type": "stream",
     "text": [
      "/home/neft/anaconda3/envs/ai/lib/python3.7/site-packages/ase/data/pubchem.py:85: UserWarning: The structure \"4753\" has more than one conformer in PubChem. By default, the first conformer is returned, please ensure you are using the structure you intend to or use the `ase.data.pubchem.pubchem_conformer_search` function\n",
      "  ' function'.format(search))\n"
     ]
    },
    {
     "name": "stdout",
     "output_type": "stream",
     "text": [
      "671\n",
      "672\n"
     ]
    },
    {
     "name": "stderr",
     "output_type": "stream",
     "text": [
      "/home/neft/anaconda3/envs/ai/lib/python3.7/site-packages/ase/data/pubchem.py:85: UserWarning: The structure \"5505\" has more than one conformer in PubChem. By default, the first conformer is returned, please ensure you are using the structure you intend to or use the `ase.data.pubchem.pubchem_conformer_search` function\n",
      "  ' function'.format(search))\n"
     ]
    },
    {
     "name": "stdout",
     "output_type": "stream",
     "text": [
      "673\n"
     ]
    },
    {
     "name": "stderr",
     "output_type": "stream",
     "text": [
      "/home/neft/anaconda3/envs/ai/lib/python3.7/site-packages/ase/data/pubchem.py:85: UserWarning: The structure \"2197\" has more than one conformer in PubChem. By default, the first conformer is returned, please ensure you are using the structure you intend to or use the `ase.data.pubchem.pubchem_conformer_search` function\n",
      "  ' function'.format(search))\n"
     ]
    },
    {
     "name": "stdout",
     "output_type": "stream",
     "text": [
      "674\n"
     ]
    },
    {
     "name": "stderr",
     "output_type": "stream",
     "text": [
      "/home/neft/anaconda3/envs/ai/lib/python3.7/site-packages/ase/data/pubchem.py:85: UserWarning: The structure \"6918296\" has more than one conformer in PubChem. By default, the first conformer is returned, please ensure you are using the structure you intend to or use the `ase.data.pubchem.pubchem_conformer_search` function\n",
      "  ' function'.format(search))\n"
     ]
    },
    {
     "name": "stdout",
     "output_type": "stream",
     "text": [
      "675\n"
     ]
    },
    {
     "name": "stderr",
     "output_type": "stream",
     "text": [
      "/home/neft/anaconda3/envs/ai/lib/python3.7/site-packages/ase/data/pubchem.py:85: UserWarning: The structure \"3198\" has more than one conformer in PubChem. By default, the first conformer is returned, please ensure you are using the structure you intend to or use the `ase.data.pubchem.pubchem_conformer_search` function\n",
      "  ' function'.format(search))\n"
     ]
    },
    {
     "name": "stdout",
     "output_type": "stream",
     "text": [
      "676\n"
     ]
    },
    {
     "name": "stderr",
     "output_type": "stream",
     "text": [
      "/home/neft/anaconda3/envs/ai/lib/python3.7/site-packages/ase/data/pubchem.py:85: UserWarning: The structure \"2375\" has more than one conformer in PubChem. By default, the first conformer is returned, please ensure you are using the structure you intend to or use the `ase.data.pubchem.pubchem_conformer_search` function\n",
      "  ' function'.format(search))\n"
     ]
    },
    {
     "name": "stdout",
     "output_type": "stream",
     "text": [
      "677\n"
     ]
    },
    {
     "name": "stderr",
     "output_type": "stream",
     "text": [
      "/home/neft/anaconda3/envs/ai/lib/python3.7/site-packages/ase/data/pubchem.py:85: UserWarning: The structure \"4923\" has more than one conformer in PubChem. By default, the first conformer is returned, please ensure you are using the structure you intend to or use the `ase.data.pubchem.pubchem_conformer_search` function\n",
      "  ' function'.format(search))\n"
     ]
    },
    {
     "name": "stdout",
     "output_type": "stream",
     "text": [
      "678\n"
     ]
    },
    {
     "name": "stderr",
     "output_type": "stream",
     "text": [
      "/home/neft/anaconda3/envs/ai/lib/python3.7/site-packages/ase/data/pubchem.py:85: UserWarning: The structure \"4829\" has more than one conformer in PubChem. By default, the first conformer is returned, please ensure you are using the structure you intend to or use the `ase.data.pubchem.pubchem_conformer_search` function\n",
      "  ' function'.format(search))\n"
     ]
    },
    {
     "name": "stdout",
     "output_type": "stream",
     "text": [
      "679\n"
     ]
    },
    {
     "name": "stderr",
     "output_type": "stream",
     "text": [
      "/home/neft/anaconda3/envs/ai/lib/python3.7/site-packages/ase/data/pubchem.py:85: UserWarning: The structure \"2585\" has more than one conformer in PubChem. By default, the first conformer is returned, please ensure you are using the structure you intend to or use the `ase.data.pubchem.pubchem_conformer_search` function\n",
      "  ' function'.format(search))\n"
     ]
    },
    {
     "name": "stdout",
     "output_type": "stream",
     "text": [
      "680\n"
     ]
    },
    {
     "name": "stderr",
     "output_type": "stream",
     "text": [
      "/home/neft/anaconda3/envs/ai/lib/python3.7/site-packages/ase/data/pubchem.py:85: UserWarning: The structure \"5342\" has more than one conformer in PubChem. By default, the first conformer is returned, please ensure you are using the structure you intend to or use the `ase.data.pubchem.pubchem_conformer_search` function\n",
      "  ' function'.format(search))\n"
     ]
    },
    {
     "name": "stdout",
     "output_type": "stream",
     "text": [
      "681\n"
     ]
    },
    {
     "name": "stderr",
     "output_type": "stream",
     "text": [
      "/home/neft/anaconda3/envs/ai/lib/python3.7/site-packages/ase/data/pubchem.py:85: UserWarning: The structure \"47965\" has more than one conformer in PubChem. By default, the first conformer is returned, please ensure you are using the structure you intend to or use the `ase.data.pubchem.pubchem_conformer_search` function\n",
      "  ' function'.format(search))\n"
     ]
    },
    {
     "name": "stdout",
     "output_type": "stream",
     "text": [
      "682\n"
     ]
    },
    {
     "name": "stderr",
     "output_type": "stream",
     "text": [
      "/home/neft/anaconda3/envs/ai/lib/python3.7/site-packages/ase/data/pubchem.py:85: UserWarning: The structure \"667468\" has more than one conformer in PubChem. By default, the first conformer is returned, please ensure you are using the structure you intend to or use the `ase.data.pubchem.pubchem_conformer_search` function\n",
      "  ' function'.format(search))\n"
     ]
    },
    {
     "name": "stdout",
     "output_type": "stream",
     "text": [
      "683\n"
     ]
    },
    {
     "name": "stderr",
     "output_type": "stream",
     "text": [
      "/home/neft/anaconda3/envs/ai/lib/python3.7/site-packages/ase/data/pubchem.py:85: UserWarning: The structure \"3038\" has more than one conformer in PubChem. By default, the first conformer is returned, please ensure you are using the structure you intend to or use the `ase.data.pubchem.pubchem_conformer_search` function\n",
      "  ' function'.format(search))\n"
     ]
    },
    {
     "name": "stdout",
     "output_type": "stream",
     "text": [
      "684\n"
     ]
    },
    {
     "name": "stderr",
     "output_type": "stream",
     "text": [
      "/home/neft/anaconda3/envs/ai/lib/python3.7/site-packages/ase/data/pubchem.py:85: UserWarning: The structure \"3103\" has more than one conformer in PubChem. By default, the first conformer is returned, please ensure you are using the structure you intend to or use the `ase.data.pubchem.pubchem_conformer_search` function\n",
      "  ' function'.format(search))\n"
     ]
    },
    {
     "name": "stdout",
     "output_type": "stream",
     "text": [
      "685\n"
     ]
    },
    {
     "name": "stderr",
     "output_type": "stream",
     "text": [
      "/home/neft/anaconda3/envs/ai/lib/python3.7/site-packages/ase/data/pubchem.py:85: UserWarning: The structure \"3354\" has more than one conformer in PubChem. By default, the first conformer is returned, please ensure you are using the structure you intend to or use the `ase.data.pubchem.pubchem_conformer_search` function\n",
      "  ' function'.format(search))\n"
     ]
    },
    {
     "name": "stdout",
     "output_type": "stream",
     "text": [
      "686\n"
     ]
    },
    {
     "name": "stderr",
     "output_type": "stream",
     "text": [
      "/home/neft/anaconda3/envs/ai/lib/python3.7/site-packages/ase/data/pubchem.py:85: UserWarning: The structure \"4449\" has more than one conformer in PubChem. By default, the first conformer is returned, please ensure you are using the structure you intend to or use the `ase.data.pubchem.pubchem_conformer_search` function\n",
      "  ' function'.format(search))\n"
     ]
    },
    {
     "name": "stdout",
     "output_type": "stream",
     "text": [
      "687\n"
     ]
    },
    {
     "name": "stderr",
     "output_type": "stream",
     "text": [
      "/home/neft/anaconda3/envs/ai/lib/python3.7/site-packages/ase/data/pubchem.py:85: UserWarning: The structure \"5281006\" has more than one conformer in PubChem. By default, the first conformer is returned, please ensure you are using the structure you intend to or use the `ase.data.pubchem.pubchem_conformer_search` function\n",
      "  ' function'.format(search))\n"
     ]
    },
    {
     "name": "stdout",
     "output_type": "stream",
     "text": [
      "688\n"
     ]
    },
    {
     "name": "stderr",
     "output_type": "stream",
     "text": [
      "/home/neft/anaconda3/envs/ai/lib/python3.7/site-packages/ase/data/pubchem.py:85: UserWarning: The structure \"2995\" has more than one conformer in PubChem. By default, the first conformer is returned, please ensure you are using the structure you intend to or use the `ase.data.pubchem.pubchem_conformer_search` function\n",
      "  ' function'.format(search))\n"
     ]
    },
    {
     "name": "stdout",
     "output_type": "stream",
     "text": [
      "689\n"
     ]
    },
    {
     "name": "stderr",
     "output_type": "stream",
     "text": [
      "/home/neft/anaconda3/envs/ai/lib/python3.7/site-packages/ase/data/pubchem.py:85: UserWarning: The structure \"3032285\" has more than one conformer in PubChem. By default, the first conformer is returned, please ensure you are using the structure you intend to or use the `ase.data.pubchem.pubchem_conformer_search` function\n",
      "  ' function'.format(search))\n"
     ]
    },
    {
     "name": "stdout",
     "output_type": "stream",
     "text": [
      "690\n"
     ]
    },
    {
     "name": "stderr",
     "output_type": "stream",
     "text": [
      "/home/neft/anaconda3/envs/ai/lib/python3.7/site-packages/ase/data/pubchem.py:85: UserWarning: The structure \"444\" has more than one conformer in PubChem. By default, the first conformer is returned, please ensure you are using the structure you intend to or use the `ase.data.pubchem.pubchem_conformer_search` function\n",
      "  ' function'.format(search))\n"
     ]
    },
    {
     "name": "stdout",
     "output_type": "stream",
     "text": [
      "691\n"
     ]
    },
    {
     "name": "stderr",
     "output_type": "stream",
     "text": [
      "/home/neft/anaconda3/envs/ai/lib/python3.7/site-packages/ase/data/pubchem.py:85: UserWarning: The structure \"5583\" has more than one conformer in PubChem. By default, the first conformer is returned, please ensure you are using the structure you intend to or use the `ase.data.pubchem.pubchem_conformer_search` function\n",
      "  ' function'.format(search))\n"
     ]
    },
    {
     "name": "stdout",
     "output_type": "stream",
     "text": [
      "692\n"
     ]
    },
    {
     "name": "stderr",
     "output_type": "stream",
     "text": [
      "/home/neft/anaconda3/envs/ai/lib/python3.7/site-packages/ase/data/pubchem.py:85: UserWarning: The structure \"2431\" has more than one conformer in PubChem. By default, the first conformer is returned, please ensure you are using the structure you intend to or use the `ase.data.pubchem.pubchem_conformer_search` function\n",
      "  ' function'.format(search))\n"
     ]
    },
    {
     "name": "stdout",
     "output_type": "stream",
     "text": [
      "693\n"
     ]
    },
    {
     "name": "stderr",
     "output_type": "stream",
     "text": [
      "/home/neft/anaconda3/envs/ai/lib/python3.7/site-packages/ase/data/pubchem.py:85: UserWarning: The structure \"3562\" has more than one conformer in PubChem. By default, the first conformer is returned, please ensure you are using the structure you intend to or use the `ase.data.pubchem.pubchem_conformer_search` function\n",
      "  ' function'.format(search))\n"
     ]
    },
    {
     "name": "stdout",
     "output_type": "stream",
     "text": [
      "694\n"
     ]
    },
    {
     "name": "stderr",
     "output_type": "stream",
     "text": [
      "/home/neft/anaconda3/envs/ai/lib/python3.7/site-packages/ase/data/pubchem.py:85: UserWarning: The structure \"8612\" has more than one conformer in PubChem. By default, the first conformer is returned, please ensure you are using the structure you intend to or use the `ase.data.pubchem.pubchem_conformer_search` function\n",
      "  ' function'.format(search))\n"
     ]
    },
    {
     "name": "stdout",
     "output_type": "stream",
     "text": [
      "695\n"
     ]
    },
    {
     "name": "stderr",
     "output_type": "stream",
     "text": [
      "/home/neft/anaconda3/envs/ai/lib/python3.7/site-packages/ase/data/pubchem.py:85: UserWarning: The structure \"5401\" has more than one conformer in PubChem. By default, the first conformer is returned, please ensure you are using the structure you intend to or use the `ase.data.pubchem.pubchem_conformer_search` function\n",
      "  ' function'.format(search))\n"
     ]
    },
    {
     "name": "stdout",
     "output_type": "stream",
     "text": [
      "696\n"
     ]
    },
    {
     "name": "stderr",
     "output_type": "stream",
     "text": [
      "/home/neft/anaconda3/envs/ai/lib/python3.7/site-packages/ase/data/pubchem.py:85: UserWarning: The structure \"36273\" has more than one conformer in PubChem. By default, the first conformer is returned, please ensure you are using the structure you intend to or use the `ase.data.pubchem.pubchem_conformer_search` function\n",
      "  ' function'.format(search))\n"
     ]
    },
    {
     "name": "stdout",
     "output_type": "stream",
     "text": [
      "697\n"
     ]
    },
    {
     "name": "stderr",
     "output_type": "stream",
     "text": [
      "/home/neft/anaconda3/envs/ai/lib/python3.7/site-packages/ase/data/pubchem.py:85: UserWarning: The structure \"4583\" has more than one conformer in PubChem. By default, the first conformer is returned, please ensure you are using the structure you intend to or use the `ase.data.pubchem.pubchem_conformer_search` function\n",
      "  ' function'.format(search))\n"
     ]
    },
    {
     "name": "stdout",
     "output_type": "stream",
     "text": [
      "698\n"
     ]
    },
    {
     "name": "stderr",
     "output_type": "stream",
     "text": [
      "/home/neft/anaconda3/envs/ai/lib/python3.7/site-packages/ase/data/pubchem.py:85: UserWarning: The structure \"2754\" has more than one conformer in PubChem. By default, the first conformer is returned, please ensure you are using the structure you intend to or use the `ase.data.pubchem.pubchem_conformer_search` function\n",
      "  ' function'.format(search))\n"
     ]
    },
    {
     "name": "stdout",
     "output_type": "stream",
     "text": [
      "699\n"
     ]
    },
    {
     "name": "stderr",
     "output_type": "stream",
     "text": [
      "/home/neft/anaconda3/envs/ai/lib/python3.7/site-packages/ase/data/pubchem.py:85: UserWarning: The structure \"55283\" has more than one conformer in PubChem. By default, the first conformer is returned, please ensure you are using the structure you intend to or use the `ase.data.pubchem.pubchem_conformer_search` function\n",
      "  ' function'.format(search))\n"
     ]
    },
    {
     "name": "stdout",
     "output_type": "stream",
     "text": [
      "700\n"
     ]
    },
    {
     "name": "stderr",
     "output_type": "stream",
     "text": [
      "/home/neft/anaconda3/envs/ai/lib/python3.7/site-packages/ase/data/pubchem.py:85: UserWarning: The structure \"4915\" has more than one conformer in PubChem. By default, the first conformer is returned, please ensure you are using the structure you intend to or use the `ase.data.pubchem.pubchem_conformer_search` function\n",
      "  ' function'.format(search))\n"
     ]
    },
    {
     "name": "stdout",
     "output_type": "stream",
     "text": [
      "701\n"
     ]
    },
    {
     "name": "stderr",
     "output_type": "stream",
     "text": [
      "/home/neft/anaconda3/envs/ai/lib/python3.7/site-packages/ase/data/pubchem.py:85: UserWarning: The structure \"3518\" has more than one conformer in PubChem. By default, the first conformer is returned, please ensure you are using the structure you intend to or use the `ase.data.pubchem.pubchem_conformer_search` function\n",
      "  ' function'.format(search))\n"
     ]
    },
    {
     "name": "stdout",
     "output_type": "stream",
     "text": [
      "702\n"
     ]
    },
    {
     "name": "stderr",
     "output_type": "stream",
     "text": [
      "/home/neft/anaconda3/envs/ai/lib/python3.7/site-packages/ase/data/pubchem.py:85: UserWarning: The structure \"4235\" has more than one conformer in PubChem. By default, the first conformer is returned, please ensure you are using the structure you intend to or use the `ase.data.pubchem.pubchem_conformer_search` function\n",
      "  ' function'.format(search))\n"
     ]
    },
    {
     "name": "stdout",
     "output_type": "stream",
     "text": [
      "703\n"
     ]
    },
    {
     "name": "stderr",
     "output_type": "stream",
     "text": [
      "/home/neft/anaconda3/envs/ai/lib/python3.7/site-packages/ase/data/pubchem.py:85: UserWarning: The structure \"4763\" has more than one conformer in PubChem. By default, the first conformer is returned, please ensure you are using the structure you intend to or use the `ase.data.pubchem.pubchem_conformer_search` function\n",
      "  ' function'.format(search))\n"
     ]
    },
    {
     "name": "stdout",
     "output_type": "stream",
     "text": [
      "704\n"
     ]
    },
    {
     "name": "stderr",
     "output_type": "stream",
     "text": [
      "/home/neft/anaconda3/envs/ai/lib/python3.7/site-packages/ase/data/pubchem.py:85: UserWarning: The structure \"146570\" has more than one conformer in PubChem. By default, the first conformer is returned, please ensure you are using the structure you intend to or use the `ase.data.pubchem.pubchem_conformer_search` function\n",
      "  ' function'.format(search))\n"
     ]
    },
    {
     "name": "stdout",
     "output_type": "stream",
     "text": [
      "705\n"
     ]
    },
    {
     "name": "stderr",
     "output_type": "stream",
     "text": [
      "/home/neft/anaconda3/envs/ai/lib/python3.7/site-packages/ase/data/pubchem.py:85: UserWarning: The structure \"6726\" has more than one conformer in PubChem. By default, the first conformer is returned, please ensure you are using the structure you intend to or use the `ase.data.pubchem.pubchem_conformer_search` function\n",
      "  ' function'.format(search))\n"
     ]
    },
    {
     "name": "stdout",
     "output_type": "stream",
     "text": [
      "706\n"
     ]
    },
    {
     "name": "stderr",
     "output_type": "stream",
     "text": [
      "/home/neft/anaconda3/envs/ai/lib/python3.7/site-packages/ase/data/pubchem.py:85: UserWarning: The structure \"2717\" has more than one conformer in PubChem. By default, the first conformer is returned, please ensure you are using the structure you intend to or use the `ase.data.pubchem.pubchem_conformer_search` function\n",
      "  ' function'.format(search))\n"
     ]
    },
    {
     "name": "stdout",
     "output_type": "stream",
     "text": [
      "707\n"
     ]
    },
    {
     "name": "stderr",
     "output_type": "stream",
     "text": [
      "/home/neft/anaconda3/envs/ai/lib/python3.7/site-packages/ase/data/pubchem.py:85: UserWarning: The structure \"10607\" has more than one conformer in PubChem. By default, the first conformer is returned, please ensure you are using the structure you intend to or use the `ase.data.pubchem.pubchem_conformer_search` function\n",
      "  ' function'.format(search))\n"
     ]
    },
    {
     "name": "stdout",
     "output_type": "stream",
     "text": [
      "708\n"
     ]
    },
    {
     "name": "stderr",
     "output_type": "stream",
     "text": [
      "/home/neft/anaconda3/envs/ai/lib/python3.7/site-packages/ase/data/pubchem.py:85: UserWarning: The structure \"32681\" has more than one conformer in PubChem. By default, the first conformer is returned, please ensure you are using the structure you intend to or use the `ase.data.pubchem.pubchem_conformer_search` function\n",
      "  ' function'.format(search))\n"
     ]
    },
    {
     "name": "stdout",
     "output_type": "stream",
     "text": [
      "709\n"
     ]
    },
    {
     "name": "stderr",
     "output_type": "stream",
     "text": [
      "/home/neft/anaconda3/envs/ai/lib/python3.7/site-packages/ase/data/pubchem.py:85: UserWarning: The structure \"3690\" has more than one conformer in PubChem. By default, the first conformer is returned, please ensure you are using the structure you intend to or use the `ase.data.pubchem.pubchem_conformer_search` function\n",
      "  ' function'.format(search))\n"
     ]
    },
    {
     "name": "stdout",
     "output_type": "stream",
     "text": [
      "710\n"
     ]
    },
    {
     "name": "stderr",
     "output_type": "stream",
     "text": [
      "/home/neft/anaconda3/envs/ai/lib/python3.7/site-packages/ase/data/pubchem.py:85: UserWarning: The structure \"5284596\" has more than one conformer in PubChem. By default, the first conformer is returned, please ensure you are using the structure you intend to or use the `ase.data.pubchem.pubchem_conformer_search` function\n",
      "  ' function'.format(search))\n"
     ]
    },
    {
     "name": "stdout",
     "output_type": "stream",
     "text": [
      "711\n"
     ]
    },
    {
     "name": "stderr",
     "output_type": "stream",
     "text": [
      "/home/neft/anaconda3/envs/ai/lib/python3.7/site-packages/ase/data/pubchem.py:85: UserWarning: The structure \"3151\" has more than one conformer in PubChem. By default, the first conformer is returned, please ensure you are using the structure you intend to or use the `ase.data.pubchem.pubchem_conformer_search` function\n",
      "  ' function'.format(search))\n"
     ]
    },
    {
     "name": "stdout",
     "output_type": "stream",
     "text": [
      "712\n",
      "713\n"
     ]
    },
    {
     "name": "stderr",
     "output_type": "stream",
     "text": [
      "/home/neft/anaconda3/envs/ai/lib/python3.7/site-packages/ase/data/pubchem.py:85: UserWarning: The structure \"47811\" has more than one conformer in PubChem. By default, the first conformer is returned, please ensure you are using the structure you intend to or use the `ase.data.pubchem.pubchem_conformer_search` function\n",
      "  ' function'.format(search))\n"
     ]
    },
    {
     "name": "stdout",
     "output_type": "stream",
     "text": [
      "714\n"
     ]
    },
    {
     "name": "stderr",
     "output_type": "stream",
     "text": [
      "/home/neft/anaconda3/envs/ai/lib/python3.7/site-packages/ase/data/pubchem.py:85: UserWarning: The structure \"2749\" has more than one conformer in PubChem. By default, the first conformer is returned, please ensure you are using the structure you intend to or use the `ase.data.pubchem.pubchem_conformer_search` function\n",
      "  ' function'.format(search))\n"
     ]
    },
    {
     "name": "stdout",
     "output_type": "stream",
     "text": [
      "715\n"
     ]
    },
    {
     "name": "stderr",
     "output_type": "stream",
     "text": [
      "/home/neft/anaconda3/envs/ai/lib/python3.7/site-packages/ase/data/pubchem.py:85: UserWarning: The structure \"446598\" has more than one conformer in PubChem. By default, the first conformer is returned, please ensure you are using the structure you intend to or use the `ase.data.pubchem.pubchem_conformer_search` function\n",
      "  ' function'.format(search))\n"
     ]
    },
    {
     "name": "stdout",
     "output_type": "stream",
     "text": [
      "716\n",
      "717\n"
     ]
    },
    {
     "name": "stderr",
     "output_type": "stream",
     "text": [
      "/home/neft/anaconda3/envs/ai/lib/python3.7/site-packages/ase/data/pubchem.py:85: UserWarning: The structure \"1978\" has more than one conformer in PubChem. By default, the first conformer is returned, please ensure you are using the structure you intend to or use the `ase.data.pubchem.pubchem_conformer_search` function\n",
      "  ' function'.format(search))\n"
     ]
    },
    {
     "name": "stdout",
     "output_type": "stream",
     "text": [
      "718\n"
     ]
    },
    {
     "name": "stderr",
     "output_type": "stream",
     "text": [
      "/home/neft/anaconda3/envs/ai/lib/python3.7/site-packages/ase/data/pubchem.py:85: UserWarning: The structure \"68844\" has more than one conformer in PubChem. By default, the first conformer is returned, please ensure you are using the structure you intend to or use the `ase.data.pubchem.pubchem_conformer_search` function\n",
      "  ' function'.format(search))\n"
     ]
    },
    {
     "name": "stdout",
     "output_type": "stream",
     "text": [
      "719\n"
     ]
    },
    {
     "name": "stderr",
     "output_type": "stream",
     "text": [
      "/home/neft/anaconda3/envs/ai/lib/python3.7/site-packages/ase/data/pubchem.py:85: UserWarning: The structure \"3356\" has more than one conformer in PubChem. By default, the first conformer is returned, please ensure you are using the structure you intend to or use the `ase.data.pubchem.pubchem_conformer_search` function\n",
      "  ' function'.format(search))\n"
     ]
    },
    {
     "name": "stdout",
     "output_type": "stream",
     "text": [
      "720\n"
     ]
    },
    {
     "name": "stderr",
     "output_type": "stream",
     "text": [
      "/home/neft/anaconda3/envs/ai/lib/python3.7/site-packages/ase/data/pubchem.py:85: UserWarning: The structure \"259331\" has more than one conformer in PubChem. By default, the first conformer is returned, please ensure you are using the structure you intend to or use the `ase.data.pubchem.pubchem_conformer_search` function\n",
      "  ' function'.format(search))\n"
     ]
    },
    {
     "name": "stdout",
     "output_type": "stream",
     "text": [
      "721\n"
     ]
    },
    {
     "name": "stderr",
     "output_type": "stream",
     "text": [
      "/home/neft/anaconda3/envs/ai/lib/python3.7/site-packages/ase/data/pubchem.py:85: UserWarning: The structure \"44093\" has more than one conformer in PubChem. By default, the first conformer is returned, please ensure you are using the structure you intend to or use the `ase.data.pubchem.pubchem_conformer_search` function\n",
      "  ' function'.format(search))\n"
     ]
    },
    {
     "name": "stdout",
     "output_type": "stream",
     "text": [
      "722\n"
     ]
    },
    {
     "name": "stderr",
     "output_type": "stream",
     "text": [
      "/home/neft/anaconda3/envs/ai/lib/python3.7/site-packages/ase/data/pubchem.py:85: UserWarning: The structure \"5735\" has more than one conformer in PubChem. By default, the first conformer is returned, please ensure you are using the structure you intend to or use the `ase.data.pubchem.pubchem_conformer_search` function\n",
      "  ' function'.format(search))\n"
     ]
    },
    {
     "name": "stdout",
     "output_type": "stream",
     "text": [
      "723\n"
     ]
    },
    {
     "name": "stderr",
     "output_type": "stream",
     "text": [
      "/home/neft/anaconda3/envs/ai/lib/python3.7/site-packages/ase/data/pubchem.py:85: UserWarning: The structure \"31101\" has more than one conformer in PubChem. By default, the first conformer is returned, please ensure you are using the structure you intend to or use the `ase.data.pubchem.pubchem_conformer_search` function\n",
      "  ' function'.format(search))\n"
     ]
    },
    {
     "name": "stdout",
     "output_type": "stream",
     "text": [
      "724\n"
     ]
    },
    {
     "name": "stderr",
     "output_type": "stream",
     "text": [
      "/home/neft/anaconda3/envs/ai/lib/python3.7/site-packages/ase/data/pubchem.py:85: UserWarning: The structure \"5284583\" has more than one conformer in PubChem. By default, the first conformer is returned, please ensure you are using the structure you intend to or use the `ase.data.pubchem.pubchem_conformer_search` function\n",
      "  ' function'.format(search))\n"
     ]
    },
    {
     "name": "stdout",
     "output_type": "stream",
     "text": [
      "725\n"
     ]
    },
    {
     "name": "stderr",
     "output_type": "stream",
     "text": [
      "/home/neft/anaconda3/envs/ai/lib/python3.7/site-packages/ase/data/pubchem.py:85: UserWarning: The structure \"39147\" has more than one conformer in PubChem. By default, the first conformer is returned, please ensure you are using the structure you intend to or use the `ase.data.pubchem.pubchem_conformer_search` function\n",
      "  ' function'.format(search))\n"
     ]
    },
    {
     "name": "stdout",
     "output_type": "stream",
     "text": [
      "726\n"
     ]
    },
    {
     "name": "stderr",
     "output_type": "stream",
     "text": [
      "/home/neft/anaconda3/envs/ai/lib/python3.7/site-packages/ase/data/pubchem.py:85: UserWarning: The structure \"3373\" has more than one conformer in PubChem. By default, the first conformer is returned, please ensure you are using the structure you intend to or use the `ase.data.pubchem.pubchem_conformer_search` function\n",
      "  ' function'.format(search))\n"
     ]
    },
    {
     "name": "stdout",
     "output_type": "stream",
     "text": [
      "727\n"
     ]
    },
    {
     "name": "stderr",
     "output_type": "stream",
     "text": [
      "/home/neft/anaconda3/envs/ai/lib/python3.7/site-packages/ase/data/pubchem.py:85: UserWarning: The structure \"3950\" has more than one conformer in PubChem. By default, the first conformer is returned, please ensure you are using the structure you intend to or use the `ase.data.pubchem.pubchem_conformer_search` function\n",
      "  ' function'.format(search))\n"
     ]
    },
    {
     "name": "stdout",
     "output_type": "stream",
     "text": [
      "728\n"
     ]
    },
    {
     "name": "stderr",
     "output_type": "stream",
     "text": [
      "/home/neft/anaconda3/envs/ai/lib/python3.7/site-packages/ase/data/pubchem.py:85: UserWarning: The structure \"39468\" has more than one conformer in PubChem. By default, the first conformer is returned, please ensure you are using the structure you intend to or use the `ase.data.pubchem.pubchem_conformer_search` function\n",
      "  ' function'.format(search))\n"
     ]
    },
    {
     "name": "stdout",
     "output_type": "stream",
     "text": [
      "729\n",
      "730\n"
     ]
    },
    {
     "name": "stderr",
     "output_type": "stream",
     "text": [
      "/home/neft/anaconda3/envs/ai/lib/python3.7/site-packages/ase/data/pubchem.py:85: UserWarning: The structure \"31477\" has more than one conformer in PubChem. By default, the first conformer is returned, please ensure you are using the structure you intend to or use the `ase.data.pubchem.pubchem_conformer_search` function\n",
      "  ' function'.format(search))\n"
     ]
    },
    {
     "name": "stdout",
     "output_type": "stream",
     "text": [
      "731\n"
     ]
    },
    {
     "name": "stderr",
     "output_type": "stream",
     "text": [
      "/home/neft/anaconda3/envs/ai/lib/python3.7/site-packages/ase/data/pubchem.py:85: UserWarning: The structure \"3261\" has more than one conformer in PubChem. By default, the first conformer is returned, please ensure you are using the structure you intend to or use the `ase.data.pubchem.pubchem_conformer_search` function\n",
      "  ' function'.format(search))\n"
     ]
    },
    {
     "name": "stdout",
     "output_type": "stream",
     "text": [
      "732\n"
     ]
    },
    {
     "name": "stderr",
     "output_type": "stream",
     "text": [
      "/home/neft/anaconda3/envs/ai/lib/python3.7/site-packages/ase/data/pubchem.py:85: UserWarning: The structure \"57363\" has more than one conformer in PubChem. By default, the first conformer is returned, please ensure you are using the structure you intend to or use the `ase.data.pubchem.pubchem_conformer_search` function\n",
      "  ' function'.format(search))\n"
     ]
    },
    {
     "name": "stdout",
     "output_type": "stream",
     "text": [
      "733\n"
     ]
    },
    {
     "name": "stderr",
     "output_type": "stream",
     "text": [
      "/home/neft/anaconda3/envs/ai/lib/python3.7/site-packages/ase/data/pubchem.py:85: UserWarning: The structure \"6914273\" has more than one conformer in PubChem. By default, the first conformer is returned, please ensure you are using the structure you intend to or use the `ase.data.pubchem.pubchem_conformer_search` function\n",
      "  ' function'.format(search))\n"
     ]
    },
    {
     "name": "stdout",
     "output_type": "stream",
     "text": [
      "734\n"
     ]
    },
    {
     "name": "stderr",
     "output_type": "stream",
     "text": [
      "/home/neft/anaconda3/envs/ai/lib/python3.7/site-packages/ase/data/pubchem.py:85: UserWarning: The structure \"3821\" has more than one conformer in PubChem. By default, the first conformer is returned, please ensure you are using the structure you intend to or use the `ase.data.pubchem.pubchem_conformer_search` function\n",
      "  ' function'.format(search))\n"
     ]
    },
    {
     "name": "stdout",
     "output_type": "stream",
     "text": [
      "735\n"
     ]
    },
    {
     "name": "stderr",
     "output_type": "stream",
     "text": [
      "/home/neft/anaconda3/envs/ai/lib/python3.7/site-packages/ase/data/pubchem.py:85: UserWarning: The structure \"5281004\" has more than one conformer in PubChem. By default, the first conformer is returned, please ensure you are using the structure you intend to or use the `ase.data.pubchem.pubchem_conformer_search` function\n",
      "  ' function'.format(search))\n"
     ]
    },
    {
     "name": "stdout",
     "output_type": "stream",
     "text": [
      "736\n"
     ]
    },
    {
     "name": "stderr",
     "output_type": "stream",
     "text": [
      "/home/neft/anaconda3/envs/ai/lib/python3.7/site-packages/ase/data/pubchem.py:85: UserWarning: The structure \"5002\" has more than one conformer in PubChem. By default, the first conformer is returned, please ensure you are using the structure you intend to or use the `ase.data.pubchem.pubchem_conformer_search` function\n",
      "  ' function'.format(search))\n"
     ]
    },
    {
     "name": "stdout",
     "output_type": "stream",
     "text": [
      "737\n"
     ]
    },
    {
     "name": "stderr",
     "output_type": "stream",
     "text": [
      "/home/neft/anaconda3/envs/ai/lib/python3.7/site-packages/ase/data/pubchem.py:85: UserWarning: The structure \"4723\" has more than one conformer in PubChem. By default, the first conformer is returned, please ensure you are using the structure you intend to or use the `ase.data.pubchem.pubchem_conformer_search` function\n",
      "  ' function'.format(search))\n"
     ]
    },
    {
     "name": "stdout",
     "output_type": "stream",
     "text": [
      "738\n"
     ]
    },
    {
     "name": "stderr",
     "output_type": "stream",
     "text": [
      "/home/neft/anaconda3/envs/ai/lib/python3.7/site-packages/ase/data/pubchem.py:85: UserWarning: The structure \"3055\" has more than one conformer in PubChem. By default, the first conformer is returned, please ensure you are using the structure you intend to or use the `ase.data.pubchem.pubchem_conformer_search` function\n",
      "  ' function'.format(search))\n"
     ]
    },
    {
     "name": "stdout",
     "output_type": "stream",
     "text": [
      "739\n"
     ]
    },
    {
     "name": "stderr",
     "output_type": "stream",
     "text": [
      "/home/neft/anaconda3/envs/ai/lib/python3.7/site-packages/ase/data/pubchem.py:85: UserWarning: The structure \"4168\" has more than one conformer in PubChem. By default, the first conformer is returned, please ensure you are using the structure you intend to or use the `ase.data.pubchem.pubchem_conformer_search` function\n",
      "  ' function'.format(search))\n"
     ]
    },
    {
     "name": "stdout",
     "output_type": "stream",
     "text": [
      "740\n"
     ]
    },
    {
     "name": "stderr",
     "output_type": "stream",
     "text": [
      "/home/neft/anaconda3/envs/ai/lib/python3.7/site-packages/ase/data/pubchem.py:85: UserWarning: The structure \"5743\" has more than one conformer in PubChem. By default, the first conformer is returned, please ensure you are using the structure you intend to or use the `ase.data.pubchem.pubchem_conformer_search` function\n",
      "  ' function'.format(search))\n"
     ]
    },
    {
     "name": "stdout",
     "output_type": "stream",
     "text": [
      "741\n"
     ]
    },
    {
     "name": "stderr",
     "output_type": "stream",
     "text": [
      "/home/neft/anaconda3/envs/ai/lib/python3.7/site-packages/ase/data/pubchem.py:85: UserWarning: The structure \"6047\" has more than one conformer in PubChem. By default, the first conformer is returned, please ensure you are using the structure you intend to or use the `ase.data.pubchem.pubchem_conformer_search` function\n",
      "  ' function'.format(search))\n"
     ]
    },
    {
     "name": "stdout",
     "output_type": "stream",
     "text": [
      "742\n"
     ]
    },
    {
     "name": "stderr",
     "output_type": "stream",
     "text": [
      "/home/neft/anaconda3/envs/ai/lib/python3.7/site-packages/ase/data/pubchem.py:85: UserWarning: The structure \"60795\" has more than one conformer in PubChem. By default, the first conformer is returned, please ensure you are using the structure you intend to or use the `ase.data.pubchem.pubchem_conformer_search` function\n",
      "  ' function'.format(search))\n"
     ]
    },
    {
     "name": "stdout",
     "output_type": "stream",
     "text": [
      "743\n"
     ]
    },
    {
     "name": "stderr",
     "output_type": "stream",
     "text": [
      "/home/neft/anaconda3/envs/ai/lib/python3.7/site-packages/ase/data/pubchem.py:85: UserWarning: The structure \"667466\" has more than one conformer in PubChem. By default, the first conformer is returned, please ensure you are using the structure you intend to or use the `ase.data.pubchem.pubchem_conformer_search` function\n",
      "  ' function'.format(search))\n"
     ]
    },
    {
     "name": "stdout",
     "output_type": "stream",
     "text": [
      "744\n"
     ]
    },
    {
     "name": "stderr",
     "output_type": "stream",
     "text": [
      "/home/neft/anaconda3/envs/ai/lib/python3.7/site-packages/ase/data/pubchem.py:85: UserWarning: The structure \"3463\" has more than one conformer in PubChem. By default, the first conformer is returned, please ensure you are using the structure you intend to or use the `ase.data.pubchem.pubchem_conformer_search` function\n",
      "  ' function'.format(search))\n"
     ]
    },
    {
     "name": "stdout",
     "output_type": "stream",
     "text": [
      "745\n"
     ]
    },
    {
     "name": "stderr",
     "output_type": "stream",
     "text": [
      "/home/neft/anaconda3/envs/ai/lib/python3.7/site-packages/ase/data/pubchem.py:85: UserWarning: The structure \"2801\" has more than one conformer in PubChem. By default, the first conformer is returned, please ensure you are using the structure you intend to or use the `ase.data.pubchem.pubchem_conformer_search` function\n",
      "  ' function'.format(search))\n"
     ]
    },
    {
     "name": "stdout",
     "output_type": "stream",
     "text": [
      "746\n",
      "747\n"
     ]
    },
    {
     "name": "stderr",
     "output_type": "stream",
     "text": [
      "/home/neft/anaconda3/envs/ai/lib/python3.7/site-packages/ase/data/pubchem.py:85: UserWarning: The structure \"2351\" has more than one conformer in PubChem. By default, the first conformer is returned, please ensure you are using the structure you intend to or use the `ase.data.pubchem.pubchem_conformer_search` function\n",
      "  ' function'.format(search))\n"
     ]
    },
    {
     "name": "stdout",
     "output_type": "stream",
     "text": [
      "748\n"
     ]
    },
    {
     "name": "stderr",
     "output_type": "stream",
     "text": [
      "/home/neft/anaconda3/envs/ai/lib/python3.7/site-packages/ase/data/pubchem.py:85: UserWarning: The structure \"2968\" has more than one conformer in PubChem. By default, the first conformer is returned, please ensure you are using the structure you intend to or use the `ase.data.pubchem.pubchem_conformer_search` function\n",
      "  ' function'.format(search))\n"
     ]
    },
    {
     "name": "stdout",
     "output_type": "stream",
     "text": [
      "749\n"
     ]
    },
    {
     "name": "stderr",
     "output_type": "stream",
     "text": [
      "/home/neft/anaconda3/envs/ai/lib/python3.7/site-packages/ase/data/pubchem.py:85: UserWarning: The structure \"5574\" has more than one conformer in PubChem. By default, the first conformer is returned, please ensure you are using the structure you intend to or use the `ase.data.pubchem.pubchem_conformer_search` function\n",
      "  ' function'.format(search))\n"
     ]
    },
    {
     "name": "stdout",
     "output_type": "stream",
     "text": [
      "750\n"
     ]
    },
    {
     "name": "stderr",
     "output_type": "stream",
     "text": [
      "/home/neft/anaconda3/envs/ai/lib/python3.7/site-packages/ase/data/pubchem.py:85: UserWarning: The structure \"3759\" has more than one conformer in PubChem. By default, the first conformer is returned, please ensure you are using the structure you intend to or use the `ase.data.pubchem.pubchem_conformer_search` function\n",
      "  ' function'.format(search))\n"
     ]
    },
    {
     "name": "stdout",
     "output_type": "stream",
     "text": [
      "751\n"
     ]
    },
    {
     "name": "stderr",
     "output_type": "stream",
     "text": [
      "/home/neft/anaconda3/envs/ai/lib/python3.7/site-packages/ase/data/pubchem.py:85: UserWarning: The structure \"91610\" has more than one conformer in PubChem. By default, the first conformer is returned, please ensure you are using the structure you intend to or use the `ase.data.pubchem.pubchem_conformer_search` function\n",
      "  ' function'.format(search))\n"
     ]
    },
    {
     "name": "stdout",
     "output_type": "stream",
     "text": [
      "752\n"
     ]
    },
    {
     "name": "stderr",
     "output_type": "stream",
     "text": [
      "/home/neft/anaconda3/envs/ai/lib/python3.7/site-packages/ase/data/pubchem.py:85: UserWarning: The structure \"443884\" has more than one conformer in PubChem. By default, the first conformer is returned, please ensure you are using the structure you intend to or use the `ase.data.pubchem.pubchem_conformer_search` function\n",
      "  ' function'.format(search))\n"
     ]
    },
    {
     "name": "stdout",
     "output_type": "stream",
     "text": [
      "753\n"
     ]
    },
    {
     "name": "stderr",
     "output_type": "stream",
     "text": [
      "/home/neft/anaconda3/envs/ai/lib/python3.7/site-packages/ase/data/pubchem.py:85: UserWarning: The structure \"3062316\" has more than one conformer in PubChem. By default, the first conformer is returned, please ensure you are using the structure you intend to or use the `ase.data.pubchem.pubchem_conformer_search` function\n",
      "  ' function'.format(search))\n"
     ]
    },
    {
     "name": "stdout",
     "output_type": "stream",
     "text": [
      "754\n"
     ]
    },
    {
     "name": "stderr",
     "output_type": "stream",
     "text": [
      "/home/neft/anaconda3/envs/ai/lib/python3.7/site-packages/ase/data/pubchem.py:85: UserWarning: The structure \"5311066\" has more than one conformer in PubChem. By default, the first conformer is returned, please ensure you are using the structure you intend to or use the `ase.data.pubchem.pubchem_conformer_search` function\n",
      "  ' function'.format(search))\n"
     ]
    },
    {
     "name": "stdout",
     "output_type": "stream",
     "text": [
      "755\n"
     ]
    },
    {
     "name": "stderr",
     "output_type": "stream",
     "text": [
      "/home/neft/anaconda3/envs/ai/lib/python3.7/site-packages/ase/data/pubchem.py:85: UserWarning: The structure \"3637\" has more than one conformer in PubChem. By default, the first conformer is returned, please ensure you are using the structure you intend to or use the `ase.data.pubchem.pubchem_conformer_search` function\n",
      "  ' function'.format(search))\n"
     ]
    },
    {
     "name": "stdout",
     "output_type": "stream",
     "text": [
      "756\n"
     ]
    },
    {
     "name": "stderr",
     "output_type": "stream",
     "text": [
      "/home/neft/anaconda3/envs/ai/lib/python3.7/site-packages/ase/data/pubchem.py:85: UserWarning: The structure \"3343\" has more than one conformer in PubChem. By default, the first conformer is returned, please ensure you are using the structure you intend to or use the `ase.data.pubchem.pubchem_conformer_search` function\n",
      "  ' function'.format(search))\n"
     ]
    },
    {
     "name": "stdout",
     "output_type": "stream",
     "text": [
      "757\n"
     ]
    },
    {
     "name": "stderr",
     "output_type": "stream",
     "text": [
      "/home/neft/anaconda3/envs/ai/lib/python3.7/site-packages/ase/data/pubchem.py:85: UserWarning: The structure \"32778\" has more than one conformer in PubChem. By default, the first conformer is returned, please ensure you are using the structure you intend to or use the `ase.data.pubchem.pubchem_conformer_search` function\n",
      "  ' function'.format(search))\n"
     ]
    },
    {
     "name": "stdout",
     "output_type": "stream",
     "text": [
      "758\n"
     ]
    },
    {
     "name": "stderr",
     "output_type": "stream",
     "text": [
      "/home/neft/anaconda3/envs/ai/lib/python3.7/site-packages/ase/data/pubchem.py:85: UserWarning: The structure \"2372\" has more than one conformer in PubChem. By default, the first conformer is returned, please ensure you are using the structure you intend to or use the `ase.data.pubchem.pubchem_conformer_search` function\n",
      "  ' function'.format(search))\n"
     ]
    },
    {
     "name": "stdout",
     "output_type": "stream",
     "text": [
      "759\n"
     ]
    },
    {
     "name": "stderr",
     "output_type": "stream",
     "text": [
      "/home/neft/anaconda3/envs/ai/lib/python3.7/site-packages/ase/data/pubchem.py:85: UserWarning: The structure \"439213\" has more than one conformer in PubChem. By default, the first conformer is returned, please ensure you are using the structure you intend to or use the `ase.data.pubchem.pubchem_conformer_search` function\n",
      "  ' function'.format(search))\n"
     ]
    },
    {
     "name": "stdout",
     "output_type": "stream",
     "text": [
      "760\n"
     ]
    },
    {
     "name": "stderr",
     "output_type": "stream",
     "text": [
      "/home/neft/anaconda3/envs/ai/lib/python3.7/site-packages/ase/data/pubchem.py:85: UserWarning: The structure \"4883\" has more than one conformer in PubChem. By default, the first conformer is returned, please ensure you are using the structure you intend to or use the `ase.data.pubchem.pubchem_conformer_search` function\n",
      "  ' function'.format(search))\n"
     ]
    },
    {
     "name": "stdout",
     "output_type": "stream",
     "text": [
      "761\n"
     ]
    },
    {
     "name": "stderr",
     "output_type": "stream",
     "text": [
      "/home/neft/anaconda3/envs/ai/lib/python3.7/site-packages/ase/data/pubchem.py:85: UserWarning: The structure \"5322\" has more than one conformer in PubChem. By default, the first conformer is returned, please ensure you are using the structure you intend to or use the `ase.data.pubchem.pubchem_conformer_search` function\n",
      "  ' function'.format(search))\n"
     ]
    },
    {
     "name": "stdout",
     "output_type": "stream",
     "text": [
      "762\n"
     ]
    },
    {
     "name": "stderr",
     "output_type": "stream",
     "text": [
      "/home/neft/anaconda3/envs/ai/lib/python3.7/site-packages/ase/data/pubchem.py:85: UserWarning: The structure \"17134\" has more than one conformer in PubChem. By default, the first conformer is returned, please ensure you are using the structure you intend to or use the `ase.data.pubchem.pubchem_conformer_search` function\n",
      "  ' function'.format(search))\n"
     ]
    },
    {
     "name": "stdout",
     "output_type": "stream",
     "text": [
      "763\n"
     ]
    },
    {
     "name": "stderr",
     "output_type": "stream",
     "text": [
      "/home/neft/anaconda3/envs/ai/lib/python3.7/site-packages/ase/data/pubchem.py:85: UserWarning: The structure \"4870\" has more than one conformer in PubChem. By default, the first conformer is returned, please ensure you are using the structure you intend to or use the `ase.data.pubchem.pubchem_conformer_search` function\n",
      "  ' function'.format(search))\n"
     ]
    },
    {
     "name": "stdout",
     "output_type": "stream",
     "text": [
      "764\n"
     ]
    },
    {
     "name": "stderr",
     "output_type": "stream",
     "text": [
      "/home/neft/anaconda3/envs/ai/lib/python3.7/site-packages/ase/data/pubchem.py:85: UserWarning: The structure \"6307\" has more than one conformer in PubChem. By default, the first conformer is returned, please ensure you are using the structure you intend to or use the `ase.data.pubchem.pubchem_conformer_search` function\n",
      "  ' function'.format(search))\n"
     ]
    },
    {
     "name": "stdout",
     "output_type": "stream",
     "text": [
      "765\n"
     ]
    },
    {
     "name": "stderr",
     "output_type": "stream",
     "text": [
      "/home/neft/anaconda3/envs/ai/lib/python3.7/site-packages/ase/data/pubchem.py:85: UserWarning: The structure \"456255\" has more than one conformer in PubChem. By default, the first conformer is returned, please ensure you are using the structure you intend to or use the `ase.data.pubchem.pubchem_conformer_search` function\n",
      "  ' function'.format(search))\n"
     ]
    },
    {
     "name": "stdout",
     "output_type": "stream",
     "text": [
      "766\n"
     ]
    },
    {
     "name": "stderr",
     "output_type": "stream",
     "text": [
      "/home/neft/anaconda3/envs/ai/lib/python3.7/site-packages/ase/data/pubchem.py:85: UserWarning: The structure \"44185\" has more than one conformer in PubChem. By default, the first conformer is returned, please ensure you are using the structure you intend to or use the `ase.data.pubchem.pubchem_conformer_search` function\n",
      "  ' function'.format(search))\n"
     ]
    },
    {
     "name": "stdout",
     "output_type": "stream",
     "text": [
      "767\n"
     ]
    },
    {
     "name": "stderr",
     "output_type": "stream",
     "text": [
      "/home/neft/anaconda3/envs/ai/lib/python3.7/site-packages/ase/data/pubchem.py:85: UserWarning: The structure \"441199\" has more than one conformer in PubChem. By default, the first conformer is returned, please ensure you are using the structure you intend to or use the `ase.data.pubchem.pubchem_conformer_search` function\n",
      "  ' function'.format(search))\n"
     ]
    },
    {
     "name": "stdout",
     "output_type": "stream",
     "text": [
      "768\n"
     ]
    },
    {
     "name": "stderr",
     "output_type": "stream",
     "text": [
      "/home/neft/anaconda3/envs/ai/lib/python3.7/site-packages/ase/data/pubchem.py:85: UserWarning: The structure \"6533629\" has more than one conformer in PubChem. By default, the first conformer is returned, please ensure you are using the structure you intend to or use the `ase.data.pubchem.pubchem_conformer_search` function\n",
      "  ' function'.format(search))\n"
     ]
    },
    {
     "name": "stdout",
     "output_type": "stream",
     "text": [
      "769\n"
     ]
    },
    {
     "name": "stderr",
     "output_type": "stream",
     "text": [
      "/home/neft/anaconda3/envs/ai/lib/python3.7/site-packages/ase/data/pubchem.py:85: UserWarning: The structure \"38103\" has more than one conformer in PubChem. By default, the first conformer is returned, please ensure you are using the structure you intend to or use the `ase.data.pubchem.pubchem_conformer_search` function\n",
      "  ' function'.format(search))\n"
     ]
    },
    {
     "name": "stdout",
     "output_type": "stream",
     "text": [
      "770\n"
     ]
    },
    {
     "name": "stderr",
     "output_type": "stream",
     "text": [
      "/home/neft/anaconda3/envs/ai/lib/python3.7/site-packages/ase/data/pubchem.py:85: UserWarning: The structure \"441289\" has more than one conformer in PubChem. By default, the first conformer is returned, please ensure you are using the structure you intend to or use the `ase.data.pubchem.pubchem_conformer_search` function\n",
      "  ' function'.format(search))\n"
     ]
    },
    {
     "name": "stdout",
     "output_type": "stream",
     "text": [
      "error in 771\n"
     ]
    },
    {
     "name": "stderr",
     "output_type": "stream",
     "text": [
      "/home/neft/anaconda3/envs/ai/lib/python3.7/site-packages/ase/data/pubchem.py:85: UserWarning: The structure \"39765\" has more than one conformer in PubChem. By default, the first conformer is returned, please ensure you are using the structure you intend to or use the `ase.data.pubchem.pubchem_conformer_search` function\n",
      "  ' function'.format(search))\n"
     ]
    },
    {
     "name": "stdout",
     "output_type": "stream",
     "text": [
      "error in 772\n"
     ]
    },
    {
     "name": "stderr",
     "output_type": "stream",
     "text": [
      "/home/neft/anaconda3/envs/ai/lib/python3.7/site-packages/ase/data/pubchem.py:85: UserWarning: The structure \"56330\" has more than one conformer in PubChem. By default, the first conformer is returned, please ensure you are using the structure you intend to or use the `ase.data.pubchem.pubchem_conformer_search` function\n",
      "  ' function'.format(search))\n"
     ]
    },
    {
     "name": "stdout",
     "output_type": "stream",
     "text": [
      "773\n"
     ]
    },
    {
     "name": "stderr",
     "output_type": "stream",
     "text": [
      "/home/neft/anaconda3/envs/ai/lib/python3.7/site-packages/ase/data/pubchem.py:85: UserWarning: The structure \"2164\" has more than one conformer in PubChem. By default, the first conformer is returned, please ensure you are using the structure you intend to or use the `ase.data.pubchem.pubchem_conformer_search` function\n",
      "  ' function'.format(search))\n"
     ]
    },
    {
     "name": "stdout",
     "output_type": "stream",
     "text": [
      "774\n"
     ]
    },
    {
     "name": "stderr",
     "output_type": "stream",
     "text": [
      "/home/neft/anaconda3/envs/ai/lib/python3.7/site-packages/ase/data/pubchem.py:85: UserWarning: The structure \"6464\" has more than one conformer in PubChem. By default, the first conformer is returned, please ensure you are using the structure you intend to or use the `ase.data.pubchem.pubchem_conformer_search` function\n",
      "  ' function'.format(search))\n"
     ]
    },
    {
     "name": "stdout",
     "output_type": "stream",
     "text": [
      "775\n"
     ]
    },
    {
     "name": "stderr",
     "output_type": "stream",
     "text": [
      "/home/neft/anaconda3/envs/ai/lib/python3.7/site-packages/ase/data/pubchem.py:85: UserWarning: The structure \"6473\" has more than one conformer in PubChem. By default, the first conformer is returned, please ensure you are using the structure you intend to or use the `ase.data.pubchem.pubchem_conformer_search` function\n",
      "  ' function'.format(search))\n"
     ]
    },
    {
     "name": "stdout",
     "output_type": "stream",
     "text": [
      "776\n"
     ]
    },
    {
     "name": "stderr",
     "output_type": "stream",
     "text": [
      "/home/neft/anaconda3/envs/ai/lib/python3.7/site-packages/ase/data/pubchem.py:85: UserWarning: The structure \"10518\" has more than one conformer in PubChem. By default, the first conformer is returned, please ensure you are using the structure you intend to or use the `ase.data.pubchem.pubchem_conformer_search` function\n",
      "  ' function'.format(search))\n"
     ]
    },
    {
     "name": "stdout",
     "output_type": "stream",
     "text": [
      "777\n"
     ]
    },
    {
     "name": "stderr",
     "output_type": "stream",
     "text": [
      "/home/neft/anaconda3/envs/ai/lib/python3.7/site-packages/ase/data/pubchem.py:85: UserWarning: The structure \"3608\" has more than one conformer in PubChem. By default, the first conformer is returned, please ensure you are using the structure you intend to or use the `ase.data.pubchem.pubchem_conformer_search` function\n",
      "  ' function'.format(search))\n"
     ]
    },
    {
     "name": "stdout",
     "output_type": "stream",
     "text": [
      "778\n",
      "779\n"
     ]
    },
    {
     "name": "stderr",
     "output_type": "stream",
     "text": [
      "/home/neft/anaconda3/envs/ai/lib/python3.7/site-packages/ase/data/pubchem.py:85: UserWarning: The structure \"3730\" has more than one conformer in PubChem. By default, the first conformer is returned, please ensure you are using the structure you intend to or use the `ase.data.pubchem.pubchem_conformer_search` function\n",
      "  ' function'.format(search))\n"
     ]
    },
    {
     "name": "stdout",
     "output_type": "stream",
     "text": [
      "780\n"
     ]
    },
    {
     "name": "stderr",
     "output_type": "stream",
     "text": [
      "/home/neft/anaconda3/envs/ai/lib/python3.7/site-packages/ase/data/pubchem.py:85: UserWarning: The structure \"9294\" has more than one conformer in PubChem. By default, the first conformer is returned, please ensure you are using the structure you intend to or use the `ase.data.pubchem.pubchem_conformer_search` function\n",
      "  ' function'.format(search))\n"
     ]
    },
    {
     "name": "stdout",
     "output_type": "stream",
     "text": [
      "781\n"
     ]
    },
    {
     "name": "stderr",
     "output_type": "stream",
     "text": [
      "/home/neft/anaconda3/envs/ai/lib/python3.7/site-packages/ase/data/pubchem.py:85: UserWarning: The structure \"5745\" has more than one conformer in PubChem. By default, the first conformer is returned, please ensure you are using the structure you intend to or use the `ase.data.pubchem.pubchem_conformer_search` function\n",
      "  ' function'.format(search))\n"
     ]
    },
    {
     "name": "stdout",
     "output_type": "stream",
     "text": [
      "782\n"
     ]
    },
    {
     "name": "stderr",
     "output_type": "stream",
     "text": [
      "/home/neft/anaconda3/envs/ai/lib/python3.7/site-packages/ase/data/pubchem.py:85: UserWarning: The structure \"9565\" has more than one conformer in PubChem. By default, the first conformer is returned, please ensure you are using the structure you intend to or use the `ase.data.pubchem.pubchem_conformer_search` function\n",
      "  ' function'.format(search))\n"
     ]
    },
    {
     "name": "stdout",
     "output_type": "stream",
     "text": [
      "783\n"
     ]
    },
    {
     "name": "stderr",
     "output_type": "stream",
     "text": [
      "/home/neft/anaconda3/envs/ai/lib/python3.7/site-packages/ase/data/pubchem.py:85: UserWarning: The structure \"8969\" has more than one conformer in PubChem. By default, the first conformer is returned, please ensure you are using the structure you intend to or use the `ase.data.pubchem.pubchem_conformer_search` function\n",
      "  ' function'.format(search))\n"
     ]
    },
    {
     "name": "stdout",
     "output_type": "stream",
     "text": [
      "784\n"
     ]
    },
    {
     "name": "stderr",
     "output_type": "stream",
     "text": [
      "/home/neft/anaconda3/envs/ai/lib/python3.7/site-packages/ase/data/pubchem.py:85: UserWarning: The structure \"39042\" has more than one conformer in PubChem. By default, the first conformer is returned, please ensure you are using the structure you intend to or use the `ase.data.pubchem.pubchem_conformer_search` function\n",
      "  ' function'.format(search))\n"
     ]
    },
    {
     "name": "stdout",
     "output_type": "stream",
     "text": [
      "785\n"
     ]
    },
    {
     "name": "stderr",
     "output_type": "stream",
     "text": [
      "/home/neft/anaconda3/envs/ai/lib/python3.7/site-packages/ase/data/pubchem.py:85: UserWarning: The structure \"2833\" has more than one conformer in PubChem. By default, the first conformer is returned, please ensure you are using the structure you intend to or use the `ase.data.pubchem.pubchem_conformer_search` function\n",
      "  ' function'.format(search))\n"
     ]
    },
    {
     "name": "stdout",
     "output_type": "stream",
     "text": [
      "786\n",
      "787\n"
     ]
    },
    {
     "name": "stderr",
     "output_type": "stream",
     "text": [
      "/home/neft/anaconda3/envs/ai/lib/python3.7/site-packages/ase/data/pubchem.py:85: UserWarning: The structure \"5161\" has more than one conformer in PubChem. By default, the first conformer is returned, please ensure you are using the structure you intend to or use the `ase.data.pubchem.pubchem_conformer_search` function\n",
      "  ' function'.format(search))\n"
     ]
    },
    {
     "name": "stdout",
     "output_type": "stream",
     "text": [
      "788\n",
      "789\n"
     ]
    },
    {
     "name": "stderr",
     "output_type": "stream",
     "text": [
      "/home/neft/anaconda3/envs/ai/lib/python3.7/site-packages/ase/data/pubchem.py:85: UserWarning: The structure \"2783\" has more than one conformer in PubChem. By default, the first conformer is returned, please ensure you are using the structure you intend to or use the `ase.data.pubchem.pubchem_conformer_search` function\n",
      "  ' function'.format(search))\n"
     ]
    },
    {
     "name": "stdout",
     "output_type": "stream",
     "text": [
      "790\n",
      "791\n"
     ]
    },
    {
     "name": "stderr",
     "output_type": "stream",
     "text": [
      "/home/neft/anaconda3/envs/ai/lib/python3.7/site-packages/ase/data/pubchem.py:85: UserWarning: The structure \"91562\" has more than one conformer in PubChem. By default, the first conformer is returned, please ensure you are using the structure you intend to or use the `ase.data.pubchem.pubchem_conformer_search` function\n",
      "  ' function'.format(search))\n"
     ]
    },
    {
     "name": "stdout",
     "output_type": "stream",
     "text": [
      "792\n"
     ]
    },
    {
     "name": "stderr",
     "output_type": "stream",
     "text": [
      "/home/neft/anaconda3/envs/ai/lib/python3.7/site-packages/ase/data/pubchem.py:85: UserWarning: The structure \"54676537\" has more than one conformer in PubChem. By default, the first conformer is returned, please ensure you are using the structure you intend to or use the `ase.data.pubchem.pubchem_conformer_search` function\n",
      "  ' function'.format(search))\n"
     ]
    },
    {
     "name": "stdout",
     "output_type": "stream",
     "text": [
      "793\n"
     ]
    },
    {
     "name": "stderr",
     "output_type": "stream",
     "text": [
      "/home/neft/anaconda3/envs/ai/lib/python3.7/site-packages/ase/data/pubchem.py:85: UserWarning: The structure \"68723\" has more than one conformer in PubChem. By default, the first conformer is returned, please ensure you are using the structure you intend to or use the `ase.data.pubchem.pubchem_conformer_search` function\n",
      "  ' function'.format(search))\n"
     ]
    },
    {
     "name": "stdout",
     "output_type": "stream",
     "text": [
      "794\n"
     ]
    },
    {
     "name": "stderr",
     "output_type": "stream",
     "text": [
      "/home/neft/anaconda3/envs/ai/lib/python3.7/site-packages/ase/data/pubchem.py:85: UserWarning: The structure \"5995\" has more than one conformer in PubChem. By default, the first conformer is returned, please ensure you are using the structure you intend to or use the `ase.data.pubchem.pubchem_conformer_search` function\n",
      "  ' function'.format(search))\n"
     ]
    },
    {
     "name": "stdout",
     "output_type": "stream",
     "text": [
      "795\n",
      "796\n"
     ]
    },
    {
     "name": "stderr",
     "output_type": "stream",
     "text": [
      "/home/neft/anaconda3/envs/ai/lib/python3.7/site-packages/ase/data/pubchem.py:85: UserWarning: The structure \"6009\" has more than one conformer in PubChem. By default, the first conformer is returned, please ensure you are using the structure you intend to or use the `ase.data.pubchem.pubchem_conformer_search` function\n",
      "  ' function'.format(search))\n"
     ]
    },
    {
     "name": "stdout",
     "output_type": "stream",
     "text": [
      "797\n"
     ]
    },
    {
     "name": "stderr",
     "output_type": "stream",
     "text": [
      "/home/neft/anaconda3/envs/ai/lib/python3.7/site-packages/ase/data/pubchem.py:85: UserWarning: The structure \"135413504\" has more than one conformer in PubChem. By default, the first conformer is returned, please ensure you are using the structure you intend to or use the `ase.data.pubchem.pubchem_conformer_search` function\n",
      "  ' function'.format(search))\n"
     ]
    },
    {
     "name": "stdout",
     "output_type": "stream",
     "text": [
      "798\n",
      "799\n"
     ]
    },
    {
     "name": "stderr",
     "output_type": "stream",
     "text": [
      "/home/neft/anaconda3/envs/ai/lib/python3.7/site-packages/ase/data/pubchem.py:85: UserWarning: The structure \"3698\" has more than one conformer in PubChem. By default, the first conformer is returned, please ensure you are using the structure you intend to or use the `ase.data.pubchem.pubchem_conformer_search` function\n",
      "  ' function'.format(search))\n"
     ]
    },
    {
     "name": "stdout",
     "output_type": "stream",
     "text": [
      "800\n"
     ]
    },
    {
     "name": "stderr",
     "output_type": "stream",
     "text": [
      "/home/neft/anaconda3/envs/ai/lib/python3.7/site-packages/ase/data/pubchem.py:85: UserWarning: The structure \"4632\" has more than one conformer in PubChem. By default, the first conformer is returned, please ensure you are using the structure you intend to or use the `ase.data.pubchem.pubchem_conformer_search` function\n",
      "  ' function'.format(search))\n"
     ]
    },
    {
     "name": "stdout",
     "output_type": "stream",
     "text": [
      "801\n"
     ]
    },
    {
     "name": "stderr",
     "output_type": "stream",
     "text": [
      "/home/neft/anaconda3/envs/ai/lib/python3.7/site-packages/ase/data/pubchem.py:85: UserWarning: The structure \"2218\" has more than one conformer in PubChem. By default, the first conformer is returned, please ensure you are using the structure you intend to or use the `ase.data.pubchem.pubchem_conformer_search` function\n",
      "  ' function'.format(search))\n"
     ]
    },
    {
     "name": "stdout",
     "output_type": "stream",
     "text": [
      "802\n"
     ]
    },
    {
     "name": "stderr",
     "output_type": "stream",
     "text": [
      "/home/neft/anaconda3/envs/ai/lib/python3.7/site-packages/ase/data/pubchem.py:85: UserWarning: The structure \"235905\" has more than one conformer in PubChem. By default, the first conformer is returned, please ensure you are using the structure you intend to or use the `ase.data.pubchem.pubchem_conformer_search` function\n",
      "  ' function'.format(search))\n"
     ]
    },
    {
     "name": "stdout",
     "output_type": "stream",
     "text": [
      "803\n"
     ]
    },
    {
     "name": "stderr",
     "output_type": "stream",
     "text": [
      "/home/neft/anaconda3/envs/ai/lib/python3.7/site-packages/ase/data/pubchem.py:85: UserWarning: The structure \"2206\" has more than one conformer in PubChem. By default, the first conformer is returned, please ensure you are using the structure you intend to or use the `ase.data.pubchem.pubchem_conformer_search` function\n",
      "  ' function'.format(search))\n"
     ]
    },
    {
     "name": "stdout",
     "output_type": "stream",
     "text": [
      "804\n"
     ]
    },
    {
     "name": "stderr",
     "output_type": "stream",
     "text": [
      "/home/neft/anaconda3/envs/ai/lib/python3.7/site-packages/ase/data/pubchem.py:85: UserWarning: The structure \"5282181\" has more than one conformer in PubChem. By default, the first conformer is returned, please ensure you are using the structure you intend to or use the `ase.data.pubchem.pubchem_conformer_search` function\n",
      "  ' function'.format(search))\n"
     ]
    },
    {
     "name": "stdout",
     "output_type": "stream",
     "text": [
      "805\n"
     ]
    },
    {
     "name": "stderr",
     "output_type": "stream",
     "text": [
      "/home/neft/anaconda3/envs/ai/lib/python3.7/site-packages/ase/data/pubchem.py:85: UserWarning: The structure \"3487\" has more than one conformer in PubChem. By default, the first conformer is returned, please ensure you are using the structure you intend to or use the `ase.data.pubchem.pubchem_conformer_search` function\n",
      "  ' function'.format(search))\n"
     ]
    },
    {
     "name": "stdout",
     "output_type": "stream",
     "text": [
      "806\n"
     ]
    },
    {
     "name": "stderr",
     "output_type": "stream",
     "text": [
      "/home/neft/anaconda3/envs/ai/lib/python3.7/site-packages/ase/data/pubchem.py:85: UserWarning: The structure \"4756\" has more than one conformer in PubChem. By default, the first conformer is returned, please ensure you are using the structure you intend to or use the `ase.data.pubchem.pubchem_conformer_search` function\n",
      "  ' function'.format(search))\n"
     ]
    },
    {
     "name": "stdout",
     "output_type": "stream",
     "text": [
      "807\n"
     ]
    },
    {
     "name": "stderr",
     "output_type": "stream",
     "text": [
      "/home/neft/anaconda3/envs/ai/lib/python3.7/site-packages/ase/data/pubchem.py:85: UserWarning: The structure \"151182\" has more than one conformer in PubChem. By default, the first conformer is returned, please ensure you are using the structure you intend to or use the `ase.data.pubchem.pubchem_conformer_search` function\n",
      "  ' function'.format(search))\n"
     ]
    },
    {
     "name": "stdout",
     "output_type": "stream",
     "text": [
      "808\n"
     ]
    },
    {
     "name": "stderr",
     "output_type": "stream",
     "text": [
      "/home/neft/anaconda3/envs/ai/lib/python3.7/site-packages/ase/data/pubchem.py:85: UserWarning: The structure \"10257\" has more than one conformer in PubChem. By default, the first conformer is returned, please ensure you are using the structure you intend to or use the `ase.data.pubchem.pubchem_conformer_search` function\n",
      "  ' function'.format(search))\n"
     ]
    },
    {
     "name": "stdout",
     "output_type": "stream",
     "text": [
      "809\n"
     ]
    },
    {
     "name": "stderr",
     "output_type": "stream",
     "text": [
      "/home/neft/anaconda3/envs/ai/lib/python3.7/site-packages/ase/data/pubchem.py:85: UserWarning: The structure \"9287\" has more than one conformer in PubChem. By default, the first conformer is returned, please ensure you are using the structure you intend to or use the `ase.data.pubchem.pubchem_conformer_search` function\n",
      "  ' function'.format(search))\n"
     ]
    },
    {
     "name": "stdout",
     "output_type": "stream",
     "text": [
      "810\n"
     ]
    },
    {
     "name": "stderr",
     "output_type": "stream",
     "text": [
      "/home/neft/anaconda3/envs/ai/lib/python3.7/site-packages/ase/data/pubchem.py:85: UserWarning: The structure \"5462328\" has more than one conformer in PubChem. By default, the first conformer is returned, please ensure you are using the structure you intend to or use the `ase.data.pubchem.pubchem_conformer_search` function\n",
      "  ' function'.format(search))\n"
     ]
    },
    {
     "name": "stdout",
     "output_type": "stream",
     "text": [
      "811\n"
     ]
    },
    {
     "name": "stderr",
     "output_type": "stream",
     "text": [
      "/home/neft/anaconda3/envs/ai/lib/python3.7/site-packages/ase/data/pubchem.py:85: UserWarning: The structure \"61791\" has more than one conformer in PubChem. By default, the first conformer is returned, please ensure you are using the structure you intend to or use the `ase.data.pubchem.pubchem_conformer_search` function\n",
      "  ' function'.format(search))\n"
     ]
    },
    {
     "name": "stdout",
     "output_type": "stream",
     "text": [
      "812\n"
     ]
    },
    {
     "name": "stderr",
     "output_type": "stream",
     "text": [
      "/home/neft/anaconda3/envs/ai/lib/python3.7/site-packages/ase/data/pubchem.py:85: UserWarning: The structure \"61306\" has more than one conformer in PubChem. By default, the first conformer is returned, please ensure you are using the structure you intend to or use the `ase.data.pubchem.pubchem_conformer_search` function\n",
      "  ' function'.format(search))\n"
     ]
    },
    {
     "name": "stdout",
     "output_type": "stream",
     "text": [
      "813\n"
     ]
    },
    {
     "name": "stderr",
     "output_type": "stream",
     "text": [
      "/home/neft/anaconda3/envs/ai/lib/python3.7/site-packages/ase/data/pubchem.py:85: UserWarning: The structure \"5359271\" has more than one conformer in PubChem. By default, the first conformer is returned, please ensure you are using the structure you intend to or use the `ase.data.pubchem.pubchem_conformer_search` function\n",
      "  ' function'.format(search))\n"
     ]
    },
    {
     "name": "stdout",
     "output_type": "stream",
     "text": [
      "814\n",
      "815\n"
     ]
    },
    {
     "name": "stderr",
     "output_type": "stream",
     "text": [
      "/home/neft/anaconda3/envs/ai/lib/python3.7/site-packages/ase/data/pubchem.py:85: UserWarning: The structure \"2294\" has more than one conformer in PubChem. By default, the first conformer is returned, please ensure you are using the structure you intend to or use the `ase.data.pubchem.pubchem_conformer_search` function\n",
      "  ' function'.format(search))\n"
     ]
    },
    {
     "name": "stdout",
     "output_type": "stream",
     "text": [
      "816\n"
     ]
    },
    {
     "name": "stderr",
     "output_type": "stream",
     "text": [
      "/home/neft/anaconda3/envs/ai/lib/python3.7/site-packages/ase/data/pubchem.py:85: UserWarning: The structure \"441457\" has more than one conformer in PubChem. By default, the first conformer is returned, please ensure you are using the structure you intend to or use the `ase.data.pubchem.pubchem_conformer_search` function\n",
      "  ' function'.format(search))\n"
     ]
    },
    {
     "name": "stdout",
     "output_type": "stream",
     "text": [
      "817\n"
     ]
    },
    {
     "name": "stderr",
     "output_type": "stream",
     "text": [
      "/home/neft/anaconda3/envs/ai/lib/python3.7/site-packages/ase/data/pubchem.py:85: UserWarning: The structure \"6089\" has more than one conformer in PubChem. By default, the first conformer is returned, please ensure you are using the structure you intend to or use the `ase.data.pubchem.pubchem_conformer_search` function\n",
      "  ' function'.format(search))\n"
     ]
    },
    {
     "name": "stdout",
     "output_type": "stream",
     "text": [
      "818\n"
     ]
    },
    {
     "name": "stderr",
     "output_type": "stream",
     "text": [
      "/home/neft/anaconda3/envs/ai/lib/python3.7/site-packages/ase/data/pubchem.py:85: UserWarning: The structure \"37367\" has more than one conformer in PubChem. By default, the first conformer is returned, please ensure you are using the structure you intend to or use the `ase.data.pubchem.pubchem_conformer_search` function\n",
      "  ' function'.format(search))\n"
     ]
    },
    {
     "name": "stdout",
     "output_type": "stream",
     "text": [
      "819\n"
     ]
    },
    {
     "name": "stderr",
     "output_type": "stream",
     "text": [
      "/home/neft/anaconda3/envs/ai/lib/python3.7/site-packages/ase/data/pubchem.py:85: UserWarning: The structure \"16630\" has more than one conformer in PubChem. By default, the first conformer is returned, please ensure you are using the structure you intend to or use the `ase.data.pubchem.pubchem_conformer_search` function\n",
      "  ' function'.format(search))\n"
     ]
    },
    {
     "name": "stdout",
     "output_type": "stream",
     "text": [
      "820\n",
      "821\n"
     ]
    },
    {
     "name": "stderr",
     "output_type": "stream",
     "text": [
      "/home/neft/anaconda3/envs/ai/lib/python3.7/site-packages/ase/data/pubchem.py:85: UserWarning: The structure \"26721\" has more than one conformer in PubChem. By default, the first conformer is returned, please ensure you are using the structure you intend to or use the `ase.data.pubchem.pubchem_conformer_search` function\n",
      "  ' function'.format(search))\n"
     ]
    },
    {
     "name": "stdout",
     "output_type": "stream",
     "text": [
      "822\n",
      "823\n",
      "824\n"
     ]
    }
   ],
   "source": [
    "#Guardamos los el no. de átomos de las moléculas que puede encontrar,\n",
    "#asi como el  cid de las moléculas que no,\n",
    "atoms = []   #Lista con el no total de átomos por molécula disponible\n",
    "cids_available = []\n",
    "smiles_available = []\n",
    "mp_available = []\n",
    "errors = []\n",
    "mp_errors = []\n",
    "cid_errors = []\n",
    "smiles_errors = []\n",
    "for i in range(len(cids)):\n",
    "    try:\n",
    "        unknown = pubchem_atoms_search(cid = cids[i])\n",
    "        n_atoms = len(unknown.get_chemical_symbols())\n",
    "        atoms.append(n_atoms)\n",
    "        cids_available.append(cids[i])\n",
    "        smiles_available.append(smiles[i])\n",
    "        mp_available.append(mp[i])\n",
    "        print(i)\n",
    "    except ValueError:  \n",
    "        errors.append(i)\n",
    "        mp_errors.append(mp[i])\n",
    "        cid_errors.append(cids[i])\n",
    "        smiles_errors.append(smiles[i])\n",
    "        print('error in', i)\n",
    "        continue"
   ]
  },
  {
   "cell_type": "code",
   "execution_count": 8,
   "metadata": {},
   "outputs": [
    {
     "data": {
      "text/plain": [
       "(0.0, 110.0)"
      ]
     },
     "execution_count": 8,
     "metadata": {},
     "output_type": "execute_result"
    },
    {
     "data": {
      "image/png": "[encoded data removed]",
      "text/plain": [
       "<Figure size 432x288 with 1 Axes>"
      ]
     },
     "metadata": {
      "needs_background": "light"
     },
     "output_type": "display_data"
    }
   ],
   "source": [
    "import matplotlib.pyplot as plt\n",
    "import statistics as stats\n",
    "import numpy as np\n",
    "\n",
    "n, bins, patches = plt.hist(x=atoms, bins='auto', color='crimson', alpha=0.7, rwidth=0.85)\n",
    "plt.grid(axis='y', alpha=0.75)\n",
    "plt.xlabel('no_atoms')\n",
    "plt.ylabel('Frequency')\n",
    "plt.title('Número de átomos por molécula')\n",
    "\n",
    "mu = stats.mean(atoms)\n",
    "sigma = stats.pstdev(atoms)\n",
    "mu = str(round(mu, 2))\n",
    "sigma = str(round(sigma, 2))\n",
    "\n",
    "plt.text(70, 65, '\\u03BC ='+ mu +' , ' +'\\u03C3 = ' + sigma)\n",
    "maxfreq = n.max()\n",
    "\n",
    "plt.savefig('Átomos_por_molecula.png', dpi=500)\n",
    "# Set a clean upper y-axis limit.\n",
    "plt.ylim(ymax=np.ceil(maxfreq / 10) * 10 if maxfreq % 10 else maxfreq + 10)\n"
   ]
  },
  {
   "cell_type": "code",
   "execution_count": 6,
   "metadata": {},
   "outputs": [],
   "source": [
    "new_cid = []\n",
    "new_mp = []\n",
    "new_smiles = []\n",
    "new_atoms = []\n",
    "for i in range(len(atoms)):\n",
    "    number = atoms[i]\n",
    "    if number <= 55 and number >= 22:\n",
    "        new_cid.append(cids_available[i])\n",
    "        new_mp.append(mp_available[i])\n",
    "        new_smiles.append(smiles_available[i])\n",
    "        new_atoms.append(atoms[i])"
   ]
  },
  {
   "cell_type": "code",
   "execution_count": 7,
   "metadata": {},
   "outputs": [],
   "source": [
    "df = pd.DataFrame() \n",
    "df['cid'] = new_cid \n",
    "df['num_atoms'] = new_atoms\n",
    "df['melting_point'] = new_mp \n",
    "df['smiles'] = new_smiles \n"
   ]
  },
  {
   "cell_type": "code",
   "execution_count": 8,
   "metadata": {},
   "outputs": [
    {
     "data": {
      "text/html": [
       "<div>\n",
       "<style scoped>\n",
       "    .dataframe tbody tr th:only-of-type {\n",
       "        vertical-align: middle;\n",
       "    }\n",
       "\n",
       "    .dataframe tbody tr th {\n",
       "        vertical-align: top;\n",
       "    }\n",
       "\n",
       "    .dataframe thead th {\n",
       "        text-align: right;\n",
       "    }\n",
       "</style>\n",
       "<table border=\"1\" class=\"dataframe\">\n",
       "  <thead>\n",
       "    <tr style=\"text-align: right;\">\n",
       "      <th></th>\n",
       "      <th>cid</th>\n",
       "      <th>num_atoms</th>\n",
       "      <th>melting_point</th>\n",
       "      <th>smiles</th>\n",
       "    </tr>\n",
       "  </thead>\n",
       "  <tbody>\n",
       "    <tr>\n",
       "      <th>0</th>\n",
       "      <td>1051</td>\n",
       "      <td>26</td>\n",
       "      <td>528.15</td>\n",
       "      <td>CC1=NC=C(C(=C1O)C=O)COP(=O)(O)O</td>\n",
       "    </tr>\n",
       "    <tr>\n",
       "      <th>1</th>\n",
       "      <td>6140</td>\n",
       "      <td>23</td>\n",
       "      <td>556.15</td>\n",
       "      <td>C1=CC=C(C=C1)C[C@@H](C(=O)O)N</td>\n",
       "    </tr>\n",
       "    <tr>\n",
       "      <th>2</th>\n",
       "      <td>171548</td>\n",
       "      <td>32</td>\n",
       "      <td>505.15</td>\n",
       "      <td>C1[C@H]2[C@@H]([C@@H](S1)CCCCC(=O)O)NC(=O)N2</td>\n",
       "    </tr>\n",
       "    <tr>\n",
       "      <th>3</th>\n",
       "      <td>5962</td>\n",
       "      <td>24</td>\n",
       "      <td>497.65</td>\n",
       "      <td>C(CCN)C[C@@H](C(=O)O)N</td>\n",
       "    </tr>\n",
       "    <tr>\n",
       "      <th>4</th>\n",
       "      <td>6322</td>\n",
       "      <td>26</td>\n",
       "      <td>517.15</td>\n",
       "      <td>C(C[C@@H](C(=O)O)N)CN=C(N)N</td>\n",
       "    </tr>\n",
       "    <tr>\n",
       "      <th>...</th>\n",
       "      <td>...</td>\n",
       "      <td>...</td>\n",
       "      <td>...</td>\n",
       "      <td>...</td>\n",
       "    </tr>\n",
       "    <tr>\n",
       "      <th>589</th>\n",
       "      <td>37367</td>\n",
       "      <td>44</td>\n",
       "      <td>173.50</td>\n",
       "      <td>CN1C2=C(C=C(C=C2)Cl)C(=NC(C1=O)OC(=O)N(C)C)C3=...</td>\n",
       "    </tr>\n",
       "    <tr>\n",
       "      <th>590</th>\n",
       "      <td>16630</td>\n",
       "      <td>22</td>\n",
       "      <td>410.15</td>\n",
       "      <td>C1C(OC(=N1)N)C2=CC=CC=C2</td>\n",
       "    </tr>\n",
       "    <tr>\n",
       "      <th>591</th>\n",
       "      <td>13765</td>\n",
       "      <td>53</td>\n",
       "      <td>173.50</td>\n",
       "      <td>CC[C@@]1(CC[C@@H]2[C@@]1(CC[C@H]3[C@H]2CCC4=CC...</td>\n",
       "    </tr>\n",
       "    <tr>\n",
       "      <th>592</th>\n",
       "      <td>20055236</td>\n",
       "      <td>47</td>\n",
       "      <td>462.15</td>\n",
       "      <td>C[C@]12CC[C@H]3[C@H]([C@@H]1CC[C@@H]2O)CCC4=C(...</td>\n",
       "    </tr>\n",
       "    <tr>\n",
       "      <th>593</th>\n",
       "      <td>14708</td>\n",
       "      <td>54</td>\n",
       "      <td>152.00</td>\n",
       "      <td>C[C@]12CC[C@H]3[C@H]([C@@H]1CC[C@]2(C)O)CC[C@@...</td>\n",
       "    </tr>\n",
       "  </tbody>\n",
       "</table>\n",
       "<p>594 rows × 4 columns</p>\n",
       "</div>"
      ],
      "text/plain": [
       "          cid  num_atoms  melting_point  \\\n",
       "0        1051         26         528.15   \n",
       "1        6140         23         556.15   \n",
       "2      171548         32         505.15   \n",
       "3        5962         24         497.65   \n",
       "4        6322         26         517.15   \n",
       "..        ...        ...            ...   \n",
       "589     37367         44         173.50   \n",
       "590     16630         22         410.15   \n",
       "591     13765         53         173.50   \n",
       "592  20055236         47         462.15   \n",
       "593     14708         54         152.00   \n",
       "\n",
       "                                                smiles  \n",
       "0                      CC1=NC=C(C(=C1O)C=O)COP(=O)(O)O  \n",
       "1                        C1=CC=C(C=C1)C[C@@H](C(=O)O)N  \n",
       "2         C1[C@H]2[C@@H]([C@@H](S1)CCCCC(=O)O)NC(=O)N2  \n",
       "3                               C(CCN)C[C@@H](C(=O)O)N  \n",
       "4                          C(C[C@@H](C(=O)O)N)CN=C(N)N  \n",
       "..                                                 ...  \n",
       "589  CN1C2=C(C=C(C=C2)Cl)C(=NC(C1=O)OC(=O)N(C)C)C3=...  \n",
       "590                           C1C(OC(=N1)N)C2=CC=CC=C2  \n",
       "591  CC[C@@]1(CC[C@@H]2[C@@]1(CC[C@H]3[C@H]2CCC4=CC...  \n",
       "592  C[C@]12CC[C@H]3[C@H]([C@@H]1CC[C@@H]2O)CCC4=C(...  \n",
       "593  C[C@]12CC[C@H]3[C@H]([C@@H]1CC[C@]2(C)O)CC[C@@...  \n",
       "\n",
       "[594 rows x 4 columns]"
      ]
     },
     "execution_count": 8,
     "metadata": {},
     "output_type": "execute_result"
    }
   ],
   "source": [
    "df"
   ]
  },
  {
   "cell_type": "code",
   "execution_count": 9,
   "metadata": {},
   "outputs": [],
   "source": [
    "df.to_csv('DScribe_mp_cid_smiles.csv', index=False)"
   ]
  },
  {
   "cell_type": "markdown",
   "metadata": {},
   "source": [
    "# ----Cargar desde aquí--------"
   ]
  },
  {
   "cell_type": "code",
   "execution_count": 1,
   "metadata": {},
   "outputs": [],
   "source": [
    "from ase.data.pubchem import pubchem_atoms_search, pubchem_atoms_conformer_search\n",
    "from ase.build import molecule\n",
    "#from dscribe.descriptors import CoulombMatrix\n",
    "from dscribe.descriptors import SOAP\n",
    "#from dscribe.descriptors import ACSF\n",
    "#from dscribe.descriptors import MBTR\n",
    "import pandas as pd\n",
    "import numpy as np"
   ]
  },
  {
   "cell_type": "code",
   "execution_count": 2,
   "metadata": {},
   "outputs": [],
   "source": [
    "dt = pd.read_csv(\"DScribe_mp_cid_smiles.csv\") \n",
    "cids = dt['cid']"
   ]
  },
  {
   "cell_type": "code",
   "execution_count": 3,
   "metadata": {},
   "outputs": [],
   "source": [
    "# Setup\n",
    "atomic_numbers = [1, 6, 7, 8, 35, 17, 53, 9, 15, 16]\n",
    "species = [\"H\", \"C\", \"N\", \"O\", \"Br\", \"Cl\", \"I\", \"F\", \"P\", \"S\"]\n",
    "\n",
    "#Common\n",
    "rcut = 5.5\n",
    "nmax = 8\n",
    "lmax = 6\n",
    "n_atoms_max = 55\n",
    "\n",
    "#Particularities ACSF\n",
    "g2_params=[[1, 1], [1, 2], [1, 3]],\n",
    "g4_params=[[1, 1, 1], [1, 2, 1], [1, 1, -1], [1, 2, -1]],\n",
    "\n",
    "#Particularities MBTR\n",
    "k1={\n",
    "        \"geometry\": {\"function\": \"atomic_number\"},\n",
    "        \"grid\": {\"min\": 0, \"max\": 8, \"n\": 100, \"sigma\": 0.1},\n",
    "    },\n",
    "k2={\n",
    "        \"geometry\": {\"function\": \"inverse_distance\"},\n",
    "        \"grid\": {\"min\": 0, \"max\": 1, \"n\": 100, \"sigma\": 0.1},\n",
    "        \"weighting\": {\"function\": \"exponential\", \"scale\": 0.5, \"cutoff\": 1e-3},\n",
    "    },\n",
    "k3={\n",
    "        \"geometry\": {\"function\": \"cosine\"},\n",
    "        \"grid\": {\"min\": -1, \"max\": 1, \"n\": 100, \"sigma\": 0.1},\n",
    "        \"weighting\": {\"function\": \"exponential\", \"scale\": 0.5, \"cutoff\": 1e-3},\n",
    "    },\n",
    "\n",
    "# Setting up the Coulomb descriptor\n",
    "cm = CoulombMatrix(n_atoms_max, flatten=False,\n",
    "    permutation='sorted_l2')\n",
    "\n",
    "# Setting up the SOAP descriptor\n",
    "soap = SOAP(species=species, periodic=False, rcut=rcut, nmax=nmax, lmax=lmax, sigma=0.2, average=False)\n",
    "\n",
    "# Setting up the ACSF descriptor\n",
    "acsf = ACSF(species= species, rcut=rcut, g2_params=[[1, 1], [1, 2], [1, 3]],\n",
    "    g4_params=[[1, 1, 1], [1, 2, 1], [1, 1, -1], [1, 2, -1]],)\n",
    "\n",
    "# Setting up the MBTR descriptor\n",
    "mbtr = MBTR(species= species, \n",
    "    k1={\n",
    "        \"geometry\": {\"function\": \"atomic_number\"},\n",
    "        \"grid\": {\"min\": 0, \"max\": 8, \"n\": 100, \"sigma\": 0.1},\n",
    "    },\n",
    "    k2={\n",
    "        \"geometry\": {\"function\": \"inverse_distance\"},\n",
    "        \"grid\": {\"min\": 0, \"max\": 1, \"n\": 100, \"sigma\": 0.1},\n",
    "        \"weighting\": {\"function\": \"exponential\", \"scale\": 0.5, \"cutoff\": 1e-3},\n",
    "    },\n",
    "    k3={\n",
    "        \"geometry\": {\"function\": \"cosine\"},\n",
    "        \"grid\": {\"min\": -1, \"max\": 1, \"n\": 100, \"sigma\": 0.1},\n",
    "        \"weighting\": {\"function\": \"exponential\", \"scale\": 0.5, \"cutoff\": 1e-3},\n",
    "    },\n",
    "    periodic=False,\n",
    "    normalization=\"l2_each\",)\n"
   ]
  },
  {
   "cell_type": "code",
   "execution_count": 4,
   "metadata": {},
   "outputs": [
    {
     "name": "stderr",
     "output_type": "stream",
     "text": [
      "/home/neft/anaconda3/envs/ai/lib/python3.7/site-packages/ase/data/pubchem.py:85: UserWarning: The structure \"1051\" has more than one conformer in PubChem. By default, the first conformer is returned, please ensure you are using the structure you intend to or use the `ase.data.pubchem.pubchem_conformer_search` function\n",
      "  ' function'.format(search))\n"
     ]
    },
    {
     "name": "stdout",
     "output_type": "stream",
     "text": [
      "0\n",
      "0\n"
     ]
    },
    {
     "name": "stderr",
     "output_type": "stream",
     "text": [
      "/home/neft/anaconda3/envs/ai/lib/python3.7/site-packages/ase/data/pubchem.py:85: UserWarning: The structure \"6140\" has more than one conformer in PubChem. By default, the first conformer is returned, please ensure you are using the structure you intend to or use the `ase.data.pubchem.pubchem_conformer_search` function\n",
      "  ' function'.format(search))\n"
     ]
    },
    {
     "name": "stdout",
     "output_type": "stream",
     "text": [
      "1\n",
      "1\n"
     ]
    },
    {
     "name": "stderr",
     "output_type": "stream",
     "text": [
      "/home/neft/anaconda3/envs/ai/lib/python3.7/site-packages/ase/data/pubchem.py:85: UserWarning: The structure \"171548\" has more than one conformer in PubChem. By default, the first conformer is returned, please ensure you are using the structure you intend to or use the `ase.data.pubchem.pubchem_conformer_search` function\n",
      "  ' function'.format(search))\n"
     ]
    },
    {
     "name": "stdout",
     "output_type": "stream",
     "text": [
      "2\n",
      "2\n"
     ]
    },
    {
     "name": "stderr",
     "output_type": "stream",
     "text": [
      "/home/neft/anaconda3/envs/ai/lib/python3.7/site-packages/ase/data/pubchem.py:85: UserWarning: The structure \"5962\" has more than one conformer in PubChem. By default, the first conformer is returned, please ensure you are using the structure you intend to or use the `ase.data.pubchem.pubchem_conformer_search` function\n",
      "  ' function'.format(search))\n"
     ]
    },
    {
     "name": "stdout",
     "output_type": "stream",
     "text": [
      "3\n",
      "3\n"
     ]
    },
    {
     "name": "stderr",
     "output_type": "stream",
     "text": [
      "/home/neft/anaconda3/envs/ai/lib/python3.7/site-packages/ase/data/pubchem.py:85: UserWarning: The structure \"6322\" has more than one conformer in PubChem. By default, the first conformer is returned, please ensure you are using the structure you intend to or use the `ase.data.pubchem.pubchem_conformer_search` function\n",
      "  ' function'.format(search))\n"
     ]
    },
    {
     "name": "stdout",
     "output_type": "stream",
     "text": [
      "4\n",
      "4\n"
     ]
    },
    {
     "name": "stderr",
     "output_type": "stream",
     "text": [
      "/home/neft/anaconda3/envs/ai/lib/python3.7/site-packages/ase/data/pubchem.py:85: UserWarning: The structure \"1103\" has more than one conformer in PubChem. By default, the first conformer is returned, please ensure you are using the structure you intend to or use the `ase.data.pubchem.pubchem_conformer_search` function\n",
      "  ' function'.format(search))\n"
     ]
    },
    {
     "name": "stdout",
     "output_type": "stream",
     "text": [
      "5\n",
      "5\n"
     ]
    },
    {
     "name": "stderr",
     "output_type": "stream",
     "text": [
      "/home/neft/anaconda3/envs/ai/lib/python3.7/site-packages/ase/data/pubchem.py:85: UserWarning: The structure \"6083\" has more than one conformer in PubChem. By default, the first conformer is returned, please ensure you are using the structure you intend to or use the `ase.data.pubchem.pubchem_conformer_search` function\n",
      "  ' function'.format(search))\n"
     ]
    },
    {
     "name": "stdout",
     "output_type": "stream",
     "text": [
      "6\n",
      "6\n"
     ]
    },
    {
     "name": "stderr",
     "output_type": "stream",
     "text": [
      "/home/neft/anaconda3/envs/ai/lib/python3.7/site-packages/ase/data/pubchem.py:85: UserWarning: The structure \"5280934\" has more than one conformer in PubChem. By default, the first conformer is returned, please ensure you are using the structure you intend to or use the `ase.data.pubchem.pubchem_conformer_search` function\n",
      "  ' function'.format(search))\n"
     ]
    },
    {
     "name": "stdout",
     "output_type": "stream",
     "text": [
      "7\n",
      "7\n"
     ]
    },
    {
     "name": "stderr",
     "output_type": "stream",
     "text": [
      "/home/neft/anaconda3/envs/ai/lib/python3.7/site-packages/ase/data/pubchem.py:85: UserWarning: The structure \"6057\" has more than one conformer in PubChem. By default, the first conformer is returned, please ensure you are using the structure you intend to or use the `ase.data.pubchem.pubchem_conformer_search` function\n",
      "  ' function'.format(search))\n"
     ]
    },
    {
     "name": "stdout",
     "output_type": "stream",
     "text": [
      "8\n",
      "8\n"
     ]
    },
    {
     "name": "stderr",
     "output_type": "stream",
     "text": [
      "/home/neft/anaconda3/envs/ai/lib/python3.7/site-packages/ase/data/pubchem.py:85: UserWarning: The structure \"67678\" has more than one conformer in PubChem. By default, the first conformer is returned, please ensure you are using the structure you intend to or use the `ase.data.pubchem.pubchem_conformer_search` function\n",
      "  ' function'.format(search))\n"
     ]
    },
    {
     "name": "stdout",
     "output_type": "stream",
     "text": [
      "9\n",
      "9\n"
     ]
    },
    {
     "name": "stderr",
     "output_type": "stream",
     "text": [
      "/home/neft/anaconda3/envs/ai/lib/python3.7/site-packages/ase/data/pubchem.py:85: UserWarning: The structure \"493570\" has more than one conformer in PubChem. By default, the first conformer is returned, please ensure you are using the structure you intend to or use the `ase.data.pubchem.pubchem_conformer_search` function\n",
      "  ' function'.format(search))\n"
     ]
    },
    {
     "name": "stdout",
     "output_type": "stream",
     "text": [
      "10\n",
      "10\n"
     ]
    },
    {
     "name": "stderr",
     "output_type": "stream",
     "text": [
      "/home/neft/anaconda3/envs/ai/lib/python3.7/site-packages/ase/data/pubchem.py:85: UserWarning: The structure \"1738118\" has more than one conformer in PubChem. By default, the first conformer is returned, please ensure you are using the structure you intend to or use the `ase.data.pubchem.pubchem_conformer_search` function\n",
      "  ' function'.format(search))\n"
     ]
    },
    {
     "name": "stdout",
     "output_type": "stream",
     "text": [
      "11\n",
      "11\n"
     ]
    },
    {
     "name": "stderr",
     "output_type": "stream",
     "text": [
      "/home/neft/anaconda3/envs/ai/lib/python3.7/site-packages/ase/data/pubchem.py:85: UserWarning: The structure \"124886\" has more than one conformer in PubChem. By default, the first conformer is returned, please ensure you are using the structure you intend to or use the `ase.data.pubchem.pubchem_conformer_search` function\n",
      "  ' function'.format(search))\n"
     ]
    },
    {
     "name": "stdout",
     "output_type": "stream",
     "text": [
      "12\n",
      "12\n"
     ]
    },
    {
     "name": "stderr",
     "output_type": "stream",
     "text": [
      "/home/neft/anaconda3/envs/ai/lib/python3.7/site-packages/ase/data/pubchem.py:85: UserWarning: The structure \"6106\" has more than one conformer in PubChem. By default, the first conformer is returned, please ensure you are using the structure you intend to or use the `ase.data.pubchem.pubchem_conformer_search` function\n",
      "  ' function'.format(search))\n"
     ]
    },
    {
     "name": "stdout",
     "output_type": "stream",
     "text": [
      "13\n",
      "13\n"
     ]
    },
    {
     "name": "stderr",
     "output_type": "stream",
     "text": [
      "/home/neft/anaconda3/envs/ai/lib/python3.7/site-packages/ase/data/pubchem.py:85: UserWarning: The structure \"6305\" has more than one conformer in PubChem. By default, the first conformer is returned, please ensure you are using the structure you intend to or use the `ase.data.pubchem.pubchem_conformer_search` function\n",
      "  ' function'.format(search))\n"
     ]
    },
    {
     "name": "stdout",
     "output_type": "stream",
     "text": [
      "14\n",
      "14\n"
     ]
    },
    {
     "name": "stderr",
     "output_type": "stream",
     "text": [
      "/home/neft/anaconda3/envs/ai/lib/python3.7/site-packages/ase/data/pubchem.py:85: UserWarning: The structure \"1130\" has more than one conformer in PubChem. By default, the first conformer is returned, please ensure you are using the structure you intend to or use the `ase.data.pubchem.pubchem_conformer_search` function\n",
      "  ' function'.format(search))\n"
     ]
    },
    {
     "name": "stdout",
     "output_type": "stream",
     "text": [
      "15\n",
      "15\n"
     ]
    },
    {
     "name": "stderr",
     "output_type": "stream",
     "text": [
      "/home/neft/anaconda3/envs/ai/lib/python3.7/site-packages/ase/data/pubchem.py:85: UserWarning: The structure \"9750\" has more than one conformer in PubChem. By default, the first conformer is returned, please ensure you are using the structure you intend to or use the `ase.data.pubchem.pubchem_conformer_search` function\n",
      "  ' function'.format(search))\n"
     ]
    },
    {
     "name": "stdout",
     "output_type": "stream",
     "text": [
      "16\n",
      "16\n"
     ]
    },
    {
     "name": "stderr",
     "output_type": "stream",
     "text": [
      "/home/neft/anaconda3/envs/ai/lib/python3.7/site-packages/ase/data/pubchem.py:85: UserWarning: The structure \"445354\" has more than one conformer in PubChem. By default, the first conformer is returned, please ensure you are using the structure you intend to or use the `ase.data.pubchem.pubchem_conformer_search` function\n",
      "  ' function'.format(search))\n"
     ]
    },
    {
     "name": "stdout",
     "output_type": "stream",
     "text": [
      "17\n",
      "17\n"
     ]
    },
    {
     "name": "stderr",
     "output_type": "stream",
     "text": [
      "/home/neft/anaconda3/envs/ai/lib/python3.7/site-packages/ase/data/pubchem.py:85: UserWarning: The structure \"1054\" has more than one conformer in PubChem. By default, the first conformer is returned, please ensure you are using the structure you intend to or use the `ase.data.pubchem.pubchem_conformer_search` function\n",
      "  ' function'.format(search))\n"
     ]
    },
    {
     "name": "stdout",
     "output_type": "stream",
     "text": [
      "18\n",
      "18\n"
     ]
    },
    {
     "name": "stderr",
     "output_type": "stream",
     "text": [
      "/home/neft/anaconda3/envs/ai/lib/python3.7/site-packages/ase/data/pubchem.py:85: UserWarning: The structure \"6112\" has more than one conformer in PubChem. By default, the first conformer is returned, please ensure you are using the structure you intend to or use the `ase.data.pubchem.pubchem_conformer_search` function\n",
      "  ' function'.format(search))\n"
     ]
    },
    {
     "name": "stdout",
     "output_type": "stream",
     "text": [
      "19\n",
      "19\n"
     ]
    },
    {
     "name": "stderr",
     "output_type": "stream",
     "text": [
      "/home/neft/anaconda3/envs/ai/lib/python3.7/site-packages/ase/data/pubchem.py:85: UserWarning: The structure \"6306\" has more than one conformer in PubChem. By default, the first conformer is returned, please ensure you are using the structure you intend to or use the `ase.data.pubchem.pubchem_conformer_search` function\n",
      "  ' function'.format(search))\n"
     ]
    },
    {
     "name": "stdout",
     "output_type": "stream",
     "text": [
      "20\n",
      "20\n"
     ]
    },
    {
     "name": "stderr",
     "output_type": "stream",
     "text": [
      "/home/neft/anaconda3/envs/ai/lib/python3.7/site-packages/ase/data/pubchem.py:85: UserWarning: The structure \"5957\" has more than one conformer in PubChem. By default, the first conformer is returned, please ensure you are using the structure you intend to or use the `ase.data.pubchem.pubchem_conformer_search` function\n",
      "  ' function'.format(search))\n"
     ]
    },
    {
     "name": "stdout",
     "output_type": "stream",
     "text": [
      "21\n",
      "21\n"
     ]
    },
    {
     "name": "stderr",
     "output_type": "stream",
     "text": [
      "/home/neft/anaconda3/envs/ai/lib/python3.7/site-packages/ase/data/pubchem.py:85: UserWarning: The structure \"3404\" has more than one conformer in PubChem. By default, the first conformer is returned, please ensure you are using the structure you intend to or use the `ase.data.pubchem.pubchem_conformer_search` function\n",
      "  ' function'.format(search))\n"
     ]
    },
    {
     "name": "stdout",
     "output_type": "stream",
     "text": [
      "22\n",
      "22\n"
     ]
    },
    {
     "name": "stderr",
     "output_type": "stream",
     "text": [
      "/home/neft/anaconda3/envs/ai/lib/python3.7/site-packages/ase/data/pubchem.py:85: UserWarning: The structure \"71398\" has more than one conformer in PubChem. By default, the first conformer is returned, please ensure you are using the structure you intend to or use the `ase.data.pubchem.pubchem_conformer_search` function\n",
      "  ' function'.format(search))\n"
     ]
    },
    {
     "name": "stdout",
     "output_type": "stream",
     "text": [
      "23\n",
      "23\n"
     ]
    },
    {
     "name": "stderr",
     "output_type": "stream",
     "text": [
      "/home/neft/anaconda3/envs/ai/lib/python3.7/site-packages/ase/data/pubchem.py:85: UserWarning: The structure \"2284\" has more than one conformer in PubChem. By default, the first conformer is returned, please ensure you are using the structure you intend to or use the `ase.data.pubchem.pubchem_conformer_search` function\n",
      "  ' function'.format(search))\n"
     ]
    },
    {
     "name": "stdout",
     "output_type": "stream",
     "text": [
      "24\n",
      "24\n"
     ]
    },
    {
     "name": "stderr",
     "output_type": "stream",
     "text": [
      "/home/neft/anaconda3/envs/ai/lib/python3.7/site-packages/ase/data/pubchem.py:85: UserWarning: The structure \"3007\" has more than one conformer in PubChem. By default, the first conformer is returned, please ensure you are using the structure you intend to or use the `ase.data.pubchem.pubchem_conformer_search` function\n",
      "  ' function'.format(search))\n"
     ]
    },
    {
     "name": "stdout",
     "output_type": "stream",
     "text": [
      "25\n",
      "25\n"
     ]
    },
    {
     "name": "stderr",
     "output_type": "stream",
     "text": [
      "/home/neft/anaconda3/envs/ai/lib/python3.7/site-packages/ase/data/pubchem.py:85: UserWarning: The structure \"89594\" has more than one conformer in PubChem. By default, the first conformer is returned, please ensure you are using the structure you intend to or use the `ase.data.pubchem.pubchem_conformer_search` function\n",
      "  ' function'.format(search))\n"
     ]
    },
    {
     "name": "stdout",
     "output_type": "stream",
     "text": [
      "26\n",
      "26\n"
     ]
    },
    {
     "name": "stderr",
     "output_type": "stream",
     "text": [
      "/home/neft/anaconda3/envs/ai/lib/python3.7/site-packages/ase/data/pubchem.py:85: UserWarning: The structure \"3958\" has more than one conformer in PubChem. By default, the first conformer is returned, please ensure you are using the structure you intend to or use the `ase.data.pubchem.pubchem_conformer_search` function\n",
      "  ' function'.format(search))\n"
     ]
    },
    {
     "name": "stdout",
     "output_type": "stream",
     "text": [
      "27\n",
      "27\n"
     ]
    },
    {
     "name": "stderr",
     "output_type": "stream",
     "text": [
      "/home/neft/anaconda3/envs/ai/lib/python3.7/site-packages/ase/data/pubchem.py:85: UserWarning: The structure \"34359\" has more than one conformer in PubChem. By default, the first conformer is returned, please ensure you are using the structure you intend to or use the `ase.data.pubchem.pubchem_conformer_search` function\n",
      "  ' function'.format(search))\n"
     ]
    },
    {
     "name": "stdout",
     "output_type": "stream",
     "text": [
      "28\n",
      "28\n"
     ]
    },
    {
     "name": "stderr",
     "output_type": "stream",
     "text": [
      "/home/neft/anaconda3/envs/ai/lib/python3.7/site-packages/ase/data/pubchem.py:85: UserWarning: The structure \"4771\" has more than one conformer in PubChem. By default, the first conformer is returned, please ensure you are using the structure you intend to or use the `ase.data.pubchem.pubchem_conformer_search` function\n",
      "  ' function'.format(search))\n"
     ]
    },
    {
     "name": "stdout",
     "output_type": "stream",
     "text": [
      "29\n",
      "29\n"
     ]
    },
    {
     "name": "stderr",
     "output_type": "stream",
     "text": [
      "/home/neft/anaconda3/envs/ai/lib/python3.7/site-packages/ase/data/pubchem.py:85: UserWarning: The structure \"52195\" has more than one conformer in PubChem. By default, the first conformer is returned, please ensure you are using the structure you intend to or use the `ase.data.pubchem.pubchem_conformer_search` function\n",
      "  ' function'.format(search))\n"
     ]
    },
    {
     "name": "stdout",
     "output_type": "stream",
     "text": [
      "30\n",
      "30\n"
     ]
    },
    {
     "name": "stderr",
     "output_type": "stream",
     "text": [
      "/home/neft/anaconda3/envs/ai/lib/python3.7/site-packages/ase/data/pubchem.py:85: UserWarning: The structure \"33741\" has more than one conformer in PubChem. By default, the first conformer is returned, please ensure you are using the structure you intend to or use the `ase.data.pubchem.pubchem_conformer_search` function\n",
      "  ' function'.format(search))\n"
     ]
    },
    {
     "name": "stdout",
     "output_type": "stream",
     "text": [
      "31\n",
      "31\n"
     ]
    },
    {
     "name": "stderr",
     "output_type": "stream",
     "text": [
      "/home/neft/anaconda3/envs/ai/lib/python3.7/site-packages/ase/data/pubchem.py:85: UserWarning: The structure \"2369\" has more than one conformer in PubChem. By default, the first conformer is returned, please ensure you are using the structure you intend to or use the `ase.data.pubchem.pubchem_conformer_search` function\n",
      "  ' function'.format(search))\n"
     ]
    },
    {
     "name": "stdout",
     "output_type": "stream",
     "text": [
      "32\n",
      "32\n"
     ]
    },
    {
     "name": "stderr",
     "output_type": "stream",
     "text": [
      "/home/neft/anaconda3/envs/ai/lib/python3.7/site-packages/ase/data/pubchem.py:85: UserWarning: The structure \"3365\" has more than one conformer in PubChem. By default, the first conformer is returned, please ensure you are using the structure you intend to or use the `ase.data.pubchem.pubchem_conformer_search` function\n",
      "  ' function'.format(search))\n"
     ]
    },
    {
     "name": "stdout",
     "output_type": "stream",
     "text": [
      "33\n",
      "33\n",
      "34\n",
      "34\n",
      "35\n",
      "35\n"
     ]
    },
    {
     "name": "stderr",
     "output_type": "stream",
     "text": [
      "/home/neft/anaconda3/envs/ai/lib/python3.7/site-packages/ase/data/pubchem.py:85: UserWarning: The structure \"4195\" has more than one conformer in PubChem. By default, the first conformer is returned, please ensure you are using the structure you intend to or use the `ase.data.pubchem.pubchem_conformer_search` function\n",
      "  ' function'.format(search))\n"
     ]
    },
    {
     "name": "stdout",
     "output_type": "stream",
     "text": [
      "36\n",
      "36\n"
     ]
    },
    {
     "name": "stderr",
     "output_type": "stream",
     "text": [
      "/home/neft/anaconda3/envs/ai/lib/python3.7/site-packages/ase/data/pubchem.py:85: UserWarning: The structure \"4679\" has more than one conformer in PubChem. By default, the first conformer is returned, please ensure you are using the structure you intend to or use the `ase.data.pubchem.pubchem_conformer_search` function\n",
      "  ' function'.format(search))\n"
     ]
    },
    {
     "name": "stdout",
     "output_type": "stream",
     "text": [
      "37\n",
      "37\n"
     ]
    },
    {
     "name": "stderr",
     "output_type": "stream",
     "text": [
      "/home/neft/anaconda3/envs/ai/lib/python3.7/site-packages/ase/data/pubchem.py:85: UserWarning: The structure \"41781\" has more than one conformer in PubChem. By default, the first conformer is returned, please ensure you are using the structure you intend to or use the `ase.data.pubchem.pubchem_conformer_search` function\n",
      "  ' function'.format(search))\n"
     ]
    },
    {
     "name": "stdout",
     "output_type": "stream",
     "text": [
      "38\n",
      "38\n"
     ]
    },
    {
     "name": "stderr",
     "output_type": "stream",
     "text": [
      "/home/neft/anaconda3/envs/ai/lib/python3.7/site-packages/ase/data/pubchem.py:85: UserWarning: The structure \"2771\" has more than one conformer in PubChem. By default, the first conformer is returned, please ensure you are using the structure you intend to or use the `ase.data.pubchem.pubchem_conformer_search` function\n",
      "  ' function'.format(search))\n"
     ]
    },
    {
     "name": "stdout",
     "output_type": "stream",
     "text": [
      "39\n",
      "39\n"
     ]
    },
    {
     "name": "stderr",
     "output_type": "stream",
     "text": [
      "/home/neft/anaconda3/envs/ai/lib/python3.7/site-packages/ase/data/pubchem.py:85: UserWarning: The structure \"2368\" has more than one conformer in PubChem. By default, the first conformer is returned, please ensure you are using the structure you intend to or use the `ase.data.pubchem.pubchem_conformer_search` function\n",
      "  ' function'.format(search))\n"
     ]
    },
    {
     "name": "stdout",
     "output_type": "stream",
     "text": [
      "40\n",
      "40\n"
     ]
    },
    {
     "name": "stderr",
     "output_type": "stream",
     "text": [
      "/home/neft/anaconda3/envs/ai/lib/python3.7/site-packages/ase/data/pubchem.py:85: UserWarning: The structure \"152946\" has more than one conformer in PubChem. By default, the first conformer is returned, please ensure you are using the structure you intend to or use the `ase.data.pubchem.pubchem_conformer_search` function\n",
      "  ' function'.format(search))\n"
     ]
    },
    {
     "name": "stdout",
     "output_type": "stream",
     "text": [
      "41\n",
      "41\n"
     ]
    },
    {
     "name": "stderr",
     "output_type": "stream",
     "text": [
      "/home/neft/anaconda3/envs/ai/lib/python3.7/site-packages/ase/data/pubchem.py:85: UserWarning: The structure \"38521\" has more than one conformer in PubChem. By default, the first conformer is returned, please ensure you are using the structure you intend to or use the `ase.data.pubchem.pubchem_conformer_search` function\n",
      "  ' function'.format(search))\n"
     ]
    },
    {
     "name": "stdout",
     "output_type": "stream",
     "text": [
      "42\n",
      "42\n"
     ]
    },
    {
     "name": "stderr",
     "output_type": "stream",
     "text": [
      "/home/neft/anaconda3/envs/ai/lib/python3.7/site-packages/ase/data/pubchem.py:85: UserWarning: The structure \"5486971\" has more than one conformer in PubChem. By default, the first conformer is returned, please ensure you are using the structure you intend to or use the `ase.data.pubchem.pubchem_conformer_search` function\n",
      "  ' function'.format(search))\n"
     ]
    },
    {
     "name": "stdout",
     "output_type": "stream",
     "text": [
      "43\n",
      "43\n"
     ]
    },
    {
     "name": "stderr",
     "output_type": "stream",
     "text": [
      "/home/neft/anaconda3/envs/ai/lib/python3.7/site-packages/ase/data/pubchem.py:85: UserWarning: The structure \"5391\" has more than one conformer in PubChem. By default, the first conformer is returned, please ensure you are using the structure you intend to or use the `ase.data.pubchem.pubchem_conformer_search` function\n",
      "  ' function'.format(search))\n"
     ]
    },
    {
     "name": "stdout",
     "output_type": "stream",
     "text": [
      "44\n",
      "44\n"
     ]
    },
    {
     "name": "stderr",
     "output_type": "stream",
     "text": [
      "/home/neft/anaconda3/envs/ai/lib/python3.7/site-packages/ase/data/pubchem.py:85: UserWarning: The structure \"4121\" has more than one conformer in PubChem. By default, the first conformer is returned, please ensure you are using the structure you intend to or use the `ase.data.pubchem.pubchem_conformer_search` function\n",
      "  ' function'.format(search))\n"
     ]
    },
    {
     "name": "stdout",
     "output_type": "stream",
     "text": [
      "45\n",
      "45\n"
     ]
    },
    {
     "name": "stderr",
     "output_type": "stream",
     "text": [
      "/home/neft/anaconda3/envs/ai/lib/python3.7/site-packages/ase/data/pubchem.py:85: UserWarning: The structure \"2479\" has more than one conformer in PubChem. By default, the first conformer is returned, please ensure you are using the structure you intend to or use the `ase.data.pubchem.pubchem_conformer_search` function\n",
      "  ' function'.format(search))\n"
     ]
    },
    {
     "name": "stdout",
     "output_type": "stream",
     "text": [
      "46\n",
      "46\n"
     ]
    },
    {
     "name": "stderr",
     "output_type": "stream",
     "text": [
      "/home/neft/anaconda3/envs/ai/lib/python3.7/site-packages/ase/data/pubchem.py:85: UserWarning: The structure \"4463\" has more than one conformer in PubChem. By default, the first conformer is returned, please ensure you are using the structure you intend to or use the `ase.data.pubchem.pubchem_conformer_search` function\n",
      "  ' function'.format(search))\n"
     ]
    },
    {
     "name": "stdout",
     "output_type": "stream",
     "text": [
      "47\n",
      "47\n"
     ]
    },
    {
     "name": "stderr",
     "output_type": "stream",
     "text": [
      "/home/neft/anaconda3/envs/ai/lib/python3.7/site-packages/ase/data/pubchem.py:85: UserWarning: The structure \"2481\" has more than one conformer in PubChem. By default, the first conformer is returned, please ensure you are using the structure you intend to or use the `ase.data.pubchem.pubchem_conformer_search` function\n",
      "  ' function'.format(search))\n"
     ]
    },
    {
     "name": "stdout",
     "output_type": "stream",
     "text": [
      "48\n",
      "48\n"
     ]
    },
    {
     "name": "stderr",
     "output_type": "stream",
     "text": [
      "/home/neft/anaconda3/envs/ai/lib/python3.7/site-packages/ase/data/pubchem.py:85: UserWarning: The structure \"20279\" has more than one conformer in PubChem. By default, the first conformer is returned, please ensure you are using the structure you intend to or use the `ase.data.pubchem.pubchem_conformer_search` function\n",
      "  ' function'.format(search))\n"
     ]
    },
    {
     "name": "stdout",
     "output_type": "stream",
     "text": [
      "49\n",
      "49\n"
     ]
    },
    {
     "name": "stderr",
     "output_type": "stream",
     "text": [
      "/home/neft/anaconda3/envs/ai/lib/python3.7/site-packages/ase/data/pubchem.py:85: UserWarning: The structure \"1201549\" has more than one conformer in PubChem. By default, the first conformer is returned, please ensure you are using the structure you intend to or use the `ase.data.pubchem.pubchem_conformer_search` function\n",
      "  ' function'.format(search))\n"
     ]
    },
    {
     "name": "stdout",
     "output_type": "stream",
     "text": [
      "50\n",
      "50\n"
     ]
    },
    {
     "name": "stderr",
     "output_type": "stream",
     "text": [
      "/home/neft/anaconda3/envs/ai/lib/python3.7/site-packages/ase/data/pubchem.py:85: UserWarning: The structure \"6540428\" has more than one conformer in PubChem. By default, the first conformer is returned, please ensure you are using the structure you intend to or use the `ase.data.pubchem.pubchem_conformer_search` function\n",
      "  ' function'.format(search))\n"
     ]
    },
    {
     "name": "stdout",
     "output_type": "stream",
     "text": [
      "51\n",
      "51\n"
     ]
    },
    {
     "name": "stderr",
     "output_type": "stream",
     "text": [
      "/home/neft/anaconda3/envs/ai/lib/python3.7/site-packages/ase/data/pubchem.py:85: UserWarning: The structure \"5905\" has more than one conformer in PubChem. By default, the first conformer is returned, please ensure you are using the structure you intend to or use the `ase.data.pubchem.pubchem_conformer_search` function\n",
      "  ' function'.format(search))\n"
     ]
    },
    {
     "name": "stdout",
     "output_type": "stream",
     "text": [
      "52\n",
      "52\n",
      "53\n",
      "53\n"
     ]
    },
    {
     "name": "stderr",
     "output_type": "stream",
     "text": [
      "/home/neft/anaconda3/envs/ai/lib/python3.7/site-packages/ase/data/pubchem.py:85: UserWarning: The structure \"1775\" has more than one conformer in PubChem. By default, the first conformer is returned, please ensure you are using the structure you intend to or use the `ase.data.pubchem.pubchem_conformer_search` function\n",
      "  ' function'.format(search))\n"
     ]
    },
    {
     "name": "stdout",
     "output_type": "stream",
     "text": [
      "54\n",
      "54\n"
     ]
    },
    {
     "name": "stderr",
     "output_type": "stream",
     "text": [
      "/home/neft/anaconda3/envs/ai/lib/python3.7/site-packages/ase/data/pubchem.py:85: UserWarning: The structure \"3054\" has more than one conformer in PubChem. By default, the first conformer is returned, please ensure you are using the structure you intend to or use the `ase.data.pubchem.pubchem_conformer_search` function\n",
      "  ' function'.format(search))\n"
     ]
    },
    {
     "name": "stdout",
     "output_type": "stream",
     "text": [
      "55\n",
      "55\n"
     ]
    },
    {
     "name": "stderr",
     "output_type": "stream",
     "text": [
      "/home/neft/anaconda3/envs/ai/lib/python3.7/site-packages/ase/data/pubchem.py:85: UserWarning: The structure \"2812\" has more than one conformer in PubChem. By default, the first conformer is returned, please ensure you are using the structure you intend to or use the `ase.data.pubchem.pubchem_conformer_search` function\n",
      "  ' function'.format(search))\n"
     ]
    },
    {
     "name": "stdout",
     "output_type": "stream",
     "text": [
      "56\n",
      "56\n",
      "57\n",
      "57\n"
     ]
    },
    {
     "name": "stderr",
     "output_type": "stream",
     "text": [
      "/home/neft/anaconda3/envs/ai/lib/python3.7/site-packages/ase/data/pubchem.py:85: UserWarning: The structure \"5344\" has more than one conformer in PubChem. By default, the first conformer is returned, please ensure you are using the structure you intend to or use the `ase.data.pubchem.pubchem_conformer_search` function\n",
      "  ' function'.format(search))\n"
     ]
    },
    {
     "name": "stdout",
     "output_type": "stream",
     "text": [
      "58\n",
      "58\n"
     ]
    },
    {
     "name": "stderr",
     "output_type": "stream",
     "text": [
      "/home/neft/anaconda3/envs/ai/lib/python3.7/site-packages/ase/data/pubchem.py:85: UserWarning: The structure \"4171\" has more than one conformer in PubChem. By default, the first conformer is returned, please ensure you are using the structure you intend to or use the `ase.data.pubchem.pubchem_conformer_search` function\n",
      "  ' function'.format(search))\n"
     ]
    },
    {
     "name": "stdout",
     "output_type": "stream",
     "text": [
      "59\n",
      "59\n"
     ]
    },
    {
     "name": "stderr",
     "output_type": "stream",
     "text": [
      "/home/neft/anaconda3/envs/ai/lib/python3.7/site-packages/ase/data/pubchem.py:85: UserWarning: The structure \"54676038\" has more than one conformer in PubChem. By default, the first conformer is returned, please ensure you are using the structure you intend to or use the `ase.data.pubchem.pubchem_conformer_search` function\n",
      "  ' function'.format(search))\n"
     ]
    },
    {
     "name": "stdout",
     "output_type": "stream",
     "text": [
      "60\n",
      "60\n"
     ]
    },
    {
     "name": "stderr",
     "output_type": "stream",
     "text": [
      "/home/neft/anaconda3/envs/ai/lib/python3.7/site-packages/ase/data/pubchem.py:85: UserWarning: The structure \"5095\" has more than one conformer in PubChem. By default, the first conformer is returned, please ensure you are using the structure you intend to or use the `ase.data.pubchem.pubchem_conformer_search` function\n",
      "  ' function'.format(search))\n"
     ]
    },
    {
     "name": "stdout",
     "output_type": "stream",
     "text": [
      "61\n",
      "61\n"
     ]
    },
    {
     "name": "stderr",
     "output_type": "stream",
     "text": [
      "/home/neft/anaconda3/envs/ai/lib/python3.7/site-packages/ase/data/pubchem.py:85: UserWarning: The structure \"11289\" has more than one conformer in PubChem. By default, the first conformer is returned, please ensure you are using the structure you intend to or use the `ase.data.pubchem.pubchem_conformer_search` function\n",
      "  ' function'.format(search))\n"
     ]
    },
    {
     "name": "stdout",
     "output_type": "stream",
     "text": [
      "62\n",
      "62\n"
     ]
    },
    {
     "name": "stderr",
     "output_type": "stream",
     "text": [
      "/home/neft/anaconda3/envs/ai/lib/python3.7/site-packages/ase/data/pubchem.py:85: UserWarning: The structure \"3784\" has more than one conformer in PubChem. By default, the first conformer is returned, please ensure you are using the structure you intend to or use the `ase.data.pubchem.pubchem_conformer_search` function\n",
      "  ' function'.format(search))\n"
     ]
    },
    {
     "name": "stdout",
     "output_type": "stream",
     "text": [
      "63\n",
      "63\n"
     ]
    },
    {
     "name": "stderr",
     "output_type": "stream",
     "text": [
      "/home/neft/anaconda3/envs/ai/lib/python3.7/site-packages/ase/data/pubchem.py:85: UserWarning: The structure \"2140\" has more than one conformer in PubChem. By default, the first conformer is returned, please ensure you are using the structure you intend to or use the `ase.data.pubchem.pubchem_conformer_search` function\n",
      "  ' function'.format(search))\n"
     ]
    },
    {
     "name": "stdout",
     "output_type": "stream",
     "text": [
      "64\n",
      "64\n"
     ]
    },
    {
     "name": "stderr",
     "output_type": "stream",
     "text": [
      "/home/neft/anaconda3/envs/ai/lib/python3.7/site-packages/ase/data/pubchem.py:85: UserWarning: The structure \"5284627\" has more than one conformer in PubChem. By default, the first conformer is returned, please ensure you are using the structure you intend to or use the `ase.data.pubchem.pubchem_conformer_search` function\n",
      "  ' function'.format(search))\n"
     ]
    },
    {
     "name": "stdout",
     "output_type": "stream",
     "text": [
      "65\n",
      "65\n"
     ]
    },
    {
     "name": "stderr",
     "output_type": "stream",
     "text": [
      "/home/neft/anaconda3/envs/ai/lib/python3.7/site-packages/ase/data/pubchem.py:85: UserWarning: The structure \"2179\" has more than one conformer in PubChem. By default, the first conformer is returned, please ensure you are using the structure you intend to or use the `ase.data.pubchem.pubchem_conformer_search` function\n",
      "  ' function'.format(search))\n"
     ]
    },
    {
     "name": "stdout",
     "output_type": "stream",
     "text": [
      "66\n",
      "66\n"
     ]
    },
    {
     "name": "stderr",
     "output_type": "stream",
     "text": [
      "/home/neft/anaconda3/envs/ai/lib/python3.7/site-packages/ase/data/pubchem.py:85: UserWarning: The structure \"5920\" has more than one conformer in PubChem. By default, the first conformer is returned, please ensure you are using the structure you intend to or use the `ase.data.pubchem.pubchem_conformer_search` function\n",
      "  ' function'.format(search))\n"
     ]
    },
    {
     "name": "stdout",
     "output_type": "stream",
     "text": [
      "67\n",
      "67\n"
     ]
    },
    {
     "name": "stderr",
     "output_type": "stream",
     "text": [
      "/home/neft/anaconda3/envs/ai/lib/python3.7/site-packages/ase/data/pubchem.py:85: UserWarning: The structure \"3114\" has more than one conformer in PubChem. By default, the first conformer is returned, please ensure you are using the structure you intend to or use the `ase.data.pubchem.pubchem_conformer_search` function\n",
      "  ' function'.format(search))\n"
     ]
    },
    {
     "name": "stdout",
     "output_type": "stream",
     "text": [
      "68\n",
      "68\n"
     ]
    },
    {
     "name": "stderr",
     "output_type": "stream",
     "text": [
      "/home/neft/anaconda3/envs/ai/lib/python3.7/site-packages/ase/data/pubchem.py:85: UserWarning: The structure \"3676\" has more than one conformer in PubChem. By default, the first conformer is returned, please ensure you are using the structure you intend to or use the `ase.data.pubchem.pubchem_conformer_search` function\n",
      "  ' function'.format(search))\n"
     ]
    },
    {
     "name": "stdout",
     "output_type": "stream",
     "text": [
      "69\n",
      "69\n"
     ]
    },
    {
     "name": "stderr",
     "output_type": "stream",
     "text": [
      "/home/neft/anaconda3/envs/ai/lib/python3.7/site-packages/ase/data/pubchem.py:85: UserWarning: The structure \"26987\" has more than one conformer in PubChem. By default, the first conformer is returned, please ensure you are using the structure you intend to or use the `ase.data.pubchem.pubchem_conformer_search` function\n",
      "  ' function'.format(search))\n"
     ]
    },
    {
     "name": "stdout",
     "output_type": "stream",
     "text": [
      "70\n",
      "70\n"
     ]
    },
    {
     "name": "stderr",
     "output_type": "stream",
     "text": [
      "/home/neft/anaconda3/envs/ai/lib/python3.7/site-packages/ase/data/pubchem.py:85: UserWarning: The structure \"54841\" has more than one conformer in PubChem. By default, the first conformer is returned, please ensure you are using the structure you intend to or use the `ase.data.pubchem.pubchem_conformer_search` function\n",
      "  ' function'.format(search))\n"
     ]
    },
    {
     "name": "stdout",
     "output_type": "stream",
     "text": [
      "71\n",
      "71\n"
     ]
    },
    {
     "name": "stderr",
     "output_type": "stream",
     "text": [
      "/home/neft/anaconda3/envs/ai/lib/python3.7/site-packages/ase/data/pubchem.py:85: UserWarning: The structure \"2708\" has more than one conformer in PubChem. By default, the first conformer is returned, please ensure you are using the structure you intend to or use the `ase.data.pubchem.pubchem_conformer_search` function\n",
      "  ' function'.format(search))\n"
     ]
    },
    {
     "name": "stdout",
     "output_type": "stream",
     "text": [
      "72\n",
      "72\n"
     ]
    },
    {
     "name": "stderr",
     "output_type": "stream",
     "text": [
      "/home/neft/anaconda3/envs/ai/lib/python3.7/site-packages/ase/data/pubchem.py:85: UserWarning: The structure \"667484\" has more than one conformer in PubChem. By default, the first conformer is returned, please ensure you are using the structure you intend to or use the `ase.data.pubchem.pubchem_conformer_search` function\n",
      "  ' function'.format(search))\n"
     ]
    },
    {
     "name": "stdout",
     "output_type": "stream",
     "text": [
      "73\n",
      "73\n"
     ]
    },
    {
     "name": "stderr",
     "output_type": "stream",
     "text": [
      "/home/neft/anaconda3/envs/ai/lib/python3.7/site-packages/ase/data/pubchem.py:85: UserWarning: The structure \"135400182\" has more than one conformer in PubChem. By default, the first conformer is returned, please ensure you are using the structure you intend to or use the `ase.data.pubchem.pubchem_conformer_search` function\n",
      "  ' function'.format(search))\n"
     ]
    },
    {
     "name": "stdout",
     "output_type": "stream",
     "text": [
      "74\n",
      "74\n",
      "75\n",
      "75\n",
      "76\n",
      "76\n"
     ]
    },
    {
     "name": "stderr",
     "output_type": "stream",
     "text": [
      "/home/neft/anaconda3/envs/ai/lib/python3.7/site-packages/ase/data/pubchem.py:85: UserWarning: The structure \"2474\" has more than one conformer in PubChem. By default, the first conformer is returned, please ensure you are using the structure you intend to or use the `ase.data.pubchem.pubchem_conformer_search` function\n",
      "  ' function'.format(search))\n"
     ]
    },
    {
     "name": "stdout",
     "output_type": "stream",
     "text": [
      "77\n",
      "77\n"
     ]
    },
    {
     "name": "stderr",
     "output_type": "stream",
     "text": [
      "/home/neft/anaconda3/envs/ai/lib/python3.7/site-packages/ase/data/pubchem.py:85: UserWarning: The structure \"135398748\" has more than one conformer in PubChem. By default, the first conformer is returned, please ensure you are using the structure you intend to or use the `ase.data.pubchem.pubchem_conformer_search` function\n",
      "  ' function'.format(search))\n"
     ]
    },
    {
     "name": "stdout",
     "output_type": "stream",
     "text": [
      "78\n",
      "78\n",
      "79\n",
      "79\n"
     ]
    },
    {
     "name": "stderr",
     "output_type": "stream",
     "text": [
      "/home/neft/anaconda3/envs/ai/lib/python3.7/site-packages/ase/data/pubchem.py:85: UserWarning: The structure \"8275\" has more than one conformer in PubChem. By default, the first conformer is returned, please ensure you are using the structure you intend to or use the `ase.data.pubchem.pubchem_conformer_search` function\n",
      "  ' function'.format(search))\n"
     ]
    },
    {
     "name": "stdout",
     "output_type": "stream",
     "text": [
      "80\n",
      "80\n"
     ]
    },
    {
     "name": "stderr",
     "output_type": "stream",
     "text": [
      "/home/neft/anaconda3/envs/ai/lib/python3.7/site-packages/ase/data/pubchem.py:85: UserWarning: The structure \"2732\" has more than one conformer in PubChem. By default, the first conformer is returned, please ensure you are using the structure you intend to or use the `ase.data.pubchem.pubchem_conformer_search` function\n",
      "  ' function'.format(search))\n"
     ]
    },
    {
     "name": "stdout",
     "output_type": "stream",
     "text": [
      "81\n",
      "81\n"
     ]
    },
    {
     "name": "stderr",
     "output_type": "stream",
     "text": [
      "/home/neft/anaconda3/envs/ai/lib/python3.7/site-packages/ase/data/pubchem.py:85: UserWarning: The structure \"3295\" has more than one conformer in PubChem. By default, the first conformer is returned, please ensure you are using the structure you intend to or use the `ase.data.pubchem.pubchem_conformer_search` function\n",
      "  ' function'.format(search))\n"
     ]
    },
    {
     "name": "stdout",
     "output_type": "stream",
     "text": [
      "82\n",
      "82\n"
     ]
    },
    {
     "name": "stderr",
     "output_type": "stream",
     "text": [
      "/home/neft/anaconda3/envs/ai/lib/python3.7/site-packages/ase/data/pubchem.py:85: UserWarning: The structure \"4737\" has more than one conformer in PubChem. By default, the first conformer is returned, please ensure you are using the structure you intend to or use the `ase.data.pubchem.pubchem_conformer_search` function\n",
      "  ' function'.format(search))\n"
     ]
    },
    {
     "name": "stdout",
     "output_type": "stream",
     "text": [
      "83\n",
      "83\n",
      "84\n",
      "84\n"
     ]
    },
    {
     "name": "stderr",
     "output_type": "stream",
     "text": [
      "/home/neft/anaconda3/envs/ai/lib/python3.7/site-packages/ase/data/pubchem.py:85: UserWarning: The structure \"2160\" has more than one conformer in PubChem. By default, the first conformer is returned, please ensure you are using the structure you intend to or use the `ase.data.pubchem.pubchem_conformer_search` function\n",
      "  ' function'.format(search))\n"
     ]
    },
    {
     "name": "stdout",
     "output_type": "stream",
     "text": [
      "85\n",
      "85\n"
     ]
    },
    {
     "name": "stderr",
     "output_type": "stream",
     "text": [
      "/home/neft/anaconda3/envs/ai/lib/python3.7/site-packages/ase/data/pubchem.py:85: UserWarning: The structure \"5790\" has more than one conformer in PubChem. By default, the first conformer is returned, please ensure you are using the structure you intend to or use the `ase.data.pubchem.pubchem_conformer_search` function\n",
      "  ' function'.format(search))\n"
     ]
    },
    {
     "name": "stdout",
     "output_type": "stream",
     "text": [
      "86\n",
      "86\n"
     ]
    },
    {
     "name": "stderr",
     "output_type": "stream",
     "text": [
      "/home/neft/anaconda3/envs/ai/lib/python3.7/site-packages/ase/data/pubchem.py:85: UserWarning: The structure \"3715\" has more than one conformer in PubChem. By default, the first conformer is returned, please ensure you are using the structure you intend to or use the `ase.data.pubchem.pubchem_conformer_search` function\n",
      "  ' function'.format(search))\n"
     ]
    },
    {
     "name": "stdout",
     "output_type": "stream",
     "text": [
      "87\n",
      "87\n"
     ]
    },
    {
     "name": "stderr",
     "output_type": "stream",
     "text": [
      "/home/neft/anaconda3/envs/ai/lib/python3.7/site-packages/ase/data/pubchem.py:85: UserWarning: The structure \"14052\" has more than one conformer in PubChem. By default, the first conformer is returned, please ensure you are using the structure you intend to or use the `ase.data.pubchem.pubchem_conformer_search` function\n",
      "  ' function'.format(search))\n"
     ]
    },
    {
     "name": "stdout",
     "output_type": "stream",
     "text": [
      "88\n",
      "88\n"
     ]
    },
    {
     "name": "stderr",
     "output_type": "stream",
     "text": [
      "/home/neft/anaconda3/envs/ai/lib/python3.7/site-packages/ase/data/pubchem.py:85: UserWarning: The structure \"4095\" has more than one conformer in PubChem. By default, the first conformer is returned, please ensure you are using the structure you intend to or use the `ase.data.pubchem.pubchem_conformer_search` function\n",
      "  ' function'.format(search))\n"
     ]
    },
    {
     "name": "stdout",
     "output_type": "stream",
     "text": [
      "89\n",
      "89\n"
     ]
    },
    {
     "name": "stderr",
     "output_type": "stream",
     "text": [
      "/home/neft/anaconda3/envs/ai/lib/python3.7/site-packages/ase/data/pubchem.py:85: UserWarning: The structure \"135398745\" has more than one conformer in PubChem. By default, the first conformer is returned, please ensure you are using the structure you intend to or use the `ase.data.pubchem.pubchem_conformer_search` function\n",
      "  ' function'.format(search))\n"
     ]
    },
    {
     "name": "stdout",
     "output_type": "stream",
     "text": [
      "90\n",
      "90\n"
     ]
    },
    {
     "name": "stderr",
     "output_type": "stream",
     "text": [
      "/home/neft/anaconda3/envs/ai/lib/python3.7/site-packages/ase/data/pubchem.py:85: UserWarning: The structure \"2249\" has more than one conformer in PubChem. By default, the first conformer is returned, please ensure you are using the structure you intend to or use the `ase.data.pubchem.pubchem_conformer_search` function\n",
      "  ' function'.format(search))\n"
     ]
    },
    {
     "name": "stdout",
     "output_type": "stream",
     "text": [
      "91\n",
      "91\n"
     ]
    },
    {
     "name": "stderr",
     "output_type": "stream",
     "text": [
      "/home/neft/anaconda3/envs/ai/lib/python3.7/site-packages/ase/data/pubchem.py:85: UserWarning: The structure \"4594\" has more than one conformer in PubChem. By default, the first conformer is returned, please ensure you are using the structure you intend to or use the `ase.data.pubchem.pubchem_conformer_search` function\n",
      "  ' function'.format(search))\n"
     ]
    },
    {
     "name": "stdout",
     "output_type": "stream",
     "text": [
      "92\n",
      "92\n"
     ]
    },
    {
     "name": "stderr",
     "output_type": "stream",
     "text": [
      "/home/neft/anaconda3/envs/ai/lib/python3.7/site-packages/ase/data/pubchem.py:85: UserWarning: The structure \"2678\" has more than one conformer in PubChem. By default, the first conformer is returned, please ensure you are using the structure you intend to or use the `ase.data.pubchem.pubchem_conformer_search` function\n",
      "  ' function'.format(search))\n"
     ]
    },
    {
     "name": "stdout",
     "output_type": "stream",
     "text": [
      "93\n",
      "93\n"
     ]
    },
    {
     "name": "stderr",
     "output_type": "stream",
     "text": [
      "/home/neft/anaconda3/envs/ai/lib/python3.7/site-packages/ase/data/pubchem.py:85: UserWarning: The structure \"39186\" has more than one conformer in PubChem. By default, the first conformer is returned, please ensure you are using the structure you intend to or use the `ase.data.pubchem.pubchem_conformer_search` function\n",
      "  ' function'.format(search))\n"
     ]
    },
    {
     "name": "stdout",
     "output_type": "stream",
     "text": [
      "94\n",
      "94\n"
     ]
    },
    {
     "name": "stderr",
     "output_type": "stream",
     "text": [
      "/home/neft/anaconda3/envs/ai/lib/python3.7/site-packages/ase/data/pubchem.py:85: UserWarning: The structure \"2148\" has more than one conformer in PubChem. By default, the first conformer is returned, please ensure you are using the structure you intend to or use the `ase.data.pubchem.pubchem_conformer_search` function\n",
      "  ' function'.format(search))\n"
     ]
    },
    {
     "name": "stdout",
     "output_type": "stream",
     "text": [
      "95\n",
      "95\n"
     ]
    },
    {
     "name": "stderr",
     "output_type": "stream",
     "text": [
      "/home/neft/anaconda3/envs/ai/lib/python3.7/site-packages/ase/data/pubchem.py:85: UserWarning: The structure \"2789\" has more than one conformer in PubChem. By default, the first conformer is returned, please ensure you are using the structure you intend to or use the `ase.data.pubchem.pubchem_conformer_search` function\n",
      "  ' function'.format(search))\n"
     ]
    },
    {
     "name": "stdout",
     "output_type": "stream",
     "text": [
      "96\n",
      "96\n"
     ]
    },
    {
     "name": "stderr",
     "output_type": "stream",
     "text": [
      "/home/neft/anaconda3/envs/ai/lib/python3.7/site-packages/ase/data/pubchem.py:85: UserWarning: The structure \"4201\" has more than one conformer in PubChem. By default, the first conformer is returned, please ensure you are using the structure you intend to or use the `ase.data.pubchem.pubchem_conformer_search` function\n",
      "  ' function'.format(search))\n"
     ]
    },
    {
     "name": "stdout",
     "output_type": "stream",
     "text": [
      "97\n",
      "97\n"
     ]
    },
    {
     "name": "stderr",
     "output_type": "stream",
     "text": [
      "/home/neft/anaconda3/envs/ai/lib/python3.7/site-packages/ase/data/pubchem.py:85: UserWarning: The structure \"8226\" has more than one conformer in PubChem. By default, the first conformer is returned, please ensure you are using the structure you intend to or use the `ase.data.pubchem.pubchem_conformer_search` function\n",
      "  ' function'.format(search))\n"
     ]
    },
    {
     "name": "stdout",
     "output_type": "stream",
     "text": [
      "98\n",
      "98\n"
     ]
    },
    {
     "name": "stderr",
     "output_type": "stream",
     "text": [
      "/home/neft/anaconda3/envs/ai/lib/python3.7/site-packages/ase/data/pubchem.py:85: UserWarning: The structure \"2145\" has more than one conformer in PubChem. By default, the first conformer is returned, please ensure you are using the structure you intend to or use the `ase.data.pubchem.pubchem_conformer_search` function\n",
      "  ' function'.format(search))\n"
     ]
    },
    {
     "name": "stdout",
     "output_type": "stream",
     "text": [
      "99\n",
      "99\n"
     ]
    },
    {
     "name": "stderr",
     "output_type": "stream",
     "text": [
      "/home/neft/anaconda3/envs/ai/lib/python3.7/site-packages/ase/data/pubchem.py:85: UserWarning: The structure \"5215\" has more than one conformer in PubChem. By default, the first conformer is returned, please ensure you are using the structure you intend to or use the `ase.data.pubchem.pubchem_conformer_search` function\n",
      "  ' function'.format(search))\n"
     ]
    },
    {
     "name": "stdout",
     "output_type": "stream",
     "text": [
      "100\n",
      "100\n"
     ]
    },
    {
     "name": "stderr",
     "output_type": "stream",
     "text": [
      "/home/neft/anaconda3/envs/ai/lib/python3.7/site-packages/ase/data/pubchem.py:85: UserWarning: The structure \"135398737\" has more than one conformer in PubChem. By default, the first conformer is returned, please ensure you are using the structure you intend to or use the `ase.data.pubchem.pubchem_conformer_search` function\n",
      "  ' function'.format(search))\n"
     ]
    },
    {
     "name": "stdout",
     "output_type": "stream",
     "text": [
      "101\n",
      "101\n",
      "102\n",
      "102\n"
     ]
    },
    {
     "name": "stderr",
     "output_type": "stream",
     "text": [
      "/home/neft/anaconda3/envs/ai/lib/python3.7/site-packages/ase/data/pubchem.py:85: UserWarning: The structure \"439260\" has more than one conformer in PubChem. By default, the first conformer is returned, please ensure you are using the structure you intend to or use the `ase.data.pubchem.pubchem_conformer_search` function\n",
      "  ' function'.format(search))\n"
     ]
    },
    {
     "name": "stdout",
     "output_type": "stream",
     "text": [
      "103\n",
      "103\n"
     ]
    },
    {
     "name": "stderr",
     "output_type": "stream",
     "text": [
      "/home/neft/anaconda3/envs/ai/lib/python3.7/site-packages/ase/data/pubchem.py:85: UserWarning: The structure \"60613\" has more than one conformer in PubChem. By default, the first conformer is returned, please ensure you are using the structure you intend to or use the `ase.data.pubchem.pubchem_conformer_search` function\n",
      "  ' function'.format(search))\n"
     ]
    },
    {
     "name": "stdout",
     "output_type": "stream",
     "text": [
      "104\n",
      "104\n"
     ]
    },
    {
     "name": "stderr",
     "output_type": "stream",
     "text": [
      "/home/neft/anaconda3/envs/ai/lib/python3.7/site-packages/ase/data/pubchem.py:85: UserWarning: The structure \"4205\" has more than one conformer in PubChem. By default, the first conformer is returned, please ensure you are using the structure you intend to or use the `ase.data.pubchem.pubchem_conformer_search` function\n",
      "  ' function'.format(search))\n"
     ]
    },
    {
     "name": "stdout",
     "output_type": "stream",
     "text": [
      "105\n",
      "105\n"
     ]
    },
    {
     "name": "stderr",
     "output_type": "stream",
     "text": [
      "/home/neft/anaconda3/envs/ai/lib/python3.7/site-packages/ase/data/pubchem.py:85: UserWarning: The structure \"4064\" has more than one conformer in PubChem. By default, the first conformer is returned, please ensure you are using the structure you intend to or use the `ase.data.pubchem.pubchem_conformer_search` function\n",
      "  ' function'.format(search))\n"
     ]
    },
    {
     "name": "stdout",
     "output_type": "stream",
     "text": [
      "106\n",
      "106\n"
     ]
    },
    {
     "name": "stderr",
     "output_type": "stream",
     "text": [
      "/home/neft/anaconda3/envs/ai/lib/python3.7/site-packages/ase/data/pubchem.py:85: UserWarning: The structure \"33624\" has more than one conformer in PubChem. By default, the first conformer is returned, please ensure you are using the structure you intend to or use the `ase.data.pubchem.pubchem_conformer_search` function\n",
      "  ' function'.format(search))\n"
     ]
    },
    {
     "name": "stdout",
     "output_type": "stream",
     "text": [
      "107\n",
      "107\n"
     ]
    },
    {
     "name": "stderr",
     "output_type": "stream",
     "text": [
      "/home/neft/anaconda3/envs/ai/lib/python3.7/site-packages/ase/data/pubchem.py:85: UserWarning: The structure \"5572\" has more than one conformer in PubChem. By default, the first conformer is returned, please ensure you are using the structure you intend to or use the `ase.data.pubchem.pubchem_conformer_search` function\n",
      "  ' function'.format(search))\n"
     ]
    },
    {
     "name": "stdout",
     "output_type": "stream",
     "text": [
      "108\n",
      "108\n"
     ]
    },
    {
     "name": "stderr",
     "output_type": "stream",
     "text": [
      "/home/neft/anaconda3/envs/ai/lib/python3.7/site-packages/ase/data/pubchem.py:85: UserWarning: The structure \"9051\" has more than one conformer in PubChem. By default, the first conformer is returned, please ensure you are using the structure you intend to or use the `ase.data.pubchem.pubchem_conformer_search` function\n",
      "  ' function'.format(search))\n"
     ]
    },
    {
     "name": "stdout",
     "output_type": "stream",
     "text": [
      "109\n",
      "109\n"
     ]
    },
    {
     "name": "stderr",
     "output_type": "stream",
     "text": [
      "/home/neft/anaconda3/envs/ai/lib/python3.7/site-packages/ase/data/pubchem.py:85: UserWarning: The structure \"4178\" has more than one conformer in PubChem. By default, the first conformer is returned, please ensure you are using the structure you intend to or use the `ase.data.pubchem.pubchem_conformer_search` function\n",
      "  ' function'.format(search))\n"
     ]
    },
    {
     "name": "stdout",
     "output_type": "stream",
     "text": [
      "110\n",
      "110\n"
     ]
    },
    {
     "name": "stderr",
     "output_type": "stream",
     "text": [
      "/home/neft/anaconda3/envs/ai/lib/python3.7/site-packages/ase/data/pubchem.py:85: UserWarning: The structure \"71384\" has more than one conformer in PubChem. By default, the first conformer is returned, please ensure you are using the structure you intend to or use the `ase.data.pubchem.pubchem_conformer_search` function\n",
      "  ' function'.format(search))\n"
     ]
    },
    {
     "name": "stdout",
     "output_type": "stream",
     "text": [
      "111\n",
      "111\n"
     ]
    },
    {
     "name": "stderr",
     "output_type": "stream",
     "text": [
      "/home/neft/anaconda3/envs/ai/lib/python3.7/site-packages/ase/data/pubchem.py:85: UserWarning: The structure \"2162\" has more than one conformer in PubChem. By default, the first conformer is returned, please ensure you are using the structure you intend to or use the `ase.data.pubchem.pubchem_conformer_search` function\n",
      "  ' function'.format(search))\n"
     ]
    },
    {
     "name": "stdout",
     "output_type": "stream",
     "text": [
      "112\n",
      "112\n",
      "113\n",
      "113\n",
      "114\n",
      "114\n"
     ]
    },
    {
     "name": "stderr",
     "output_type": "stream",
     "text": [
      "/home/neft/anaconda3/envs/ai/lib/python3.7/site-packages/ase/data/pubchem.py:85: UserWarning: The structure \"4919\" has more than one conformer in PubChem. By default, the first conformer is returned, please ensure you are using the structure you intend to or use the `ase.data.pubchem.pubchem_conformer_search` function\n",
      "  ' function'.format(search))\n"
     ]
    },
    {
     "name": "stdout",
     "output_type": "stream",
     "text": [
      "115\n",
      "115\n"
     ]
    },
    {
     "name": "stderr",
     "output_type": "stream",
     "text": [
      "/home/neft/anaconda3/envs/ai/lib/python3.7/site-packages/ase/data/pubchem.py:85: UserWarning: The structure \"6041\" has more than one conformer in PubChem. By default, the first conformer is returned, please ensure you are using the structure you intend to or use the `ase.data.pubchem.pubchem_conformer_search` function\n",
      "  ' function'.format(search))\n"
     ]
    },
    {
     "name": "stdout",
     "output_type": "stream",
     "text": [
      "116\n",
      "116\n"
     ]
    },
    {
     "name": "stderr",
     "output_type": "stream",
     "text": [
      "/home/neft/anaconda3/envs/ai/lib/python3.7/site-packages/ase/data/pubchem.py:85: UserWarning: The structure \"31072\" has more than one conformer in PubChem. By default, the first conformer is returned, please ensure you are using the structure you intend to or use the `ase.data.pubchem.pubchem_conformer_search` function\n",
      "  ' function'.format(search))\n"
     ]
    },
    {
     "name": "stdout",
     "output_type": "stream",
     "text": [
      "117\n",
      "117\n"
     ]
    },
    {
     "name": "stderr",
     "output_type": "stream",
     "text": [
      "/home/neft/anaconda3/envs/ai/lib/python3.7/site-packages/ase/data/pubchem.py:85: UserWarning: The structure \"5355\" has more than one conformer in PubChem. By default, the first conformer is returned, please ensure you are using the structure you intend to or use the `ase.data.pubchem.pubchem_conformer_search` function\n",
      "  ' function'.format(search))\n"
     ]
    },
    {
     "name": "stdout",
     "output_type": "stream",
     "text": [
      "118\n",
      "118\n"
     ]
    },
    {
     "name": "stderr",
     "output_type": "stream",
     "text": [
      "/home/neft/anaconda3/envs/ai/lib/python3.7/site-packages/ase/data/pubchem.py:85: UserWarning: The structure \"3290\" has more than one conformer in PubChem. By default, the first conformer is returned, please ensure you are using the structure you intend to or use the `ase.data.pubchem.pubchem_conformer_search` function\n",
      "  ' function'.format(search))\n"
     ]
    },
    {
     "name": "stdout",
     "output_type": "stream",
     "text": [
      "119\n",
      "119\n"
     ]
    },
    {
     "name": "stderr",
     "output_type": "stream",
     "text": [
      "/home/neft/anaconda3/envs/ai/lib/python3.7/site-packages/ase/data/pubchem.py:85: UserWarning: The structure \"2576\" has more than one conformer in PubChem. By default, the first conformer is returned, please ensure you are using the structure you intend to or use the `ase.data.pubchem.pubchem_conformer_search` function\n",
      "  ' function'.format(search))\n"
     ]
    },
    {
     "name": "stdout",
     "output_type": "stream",
     "text": [
      "120\n",
      "120\n"
     ]
    },
    {
     "name": "stderr",
     "output_type": "stream",
     "text": [
      "/home/neft/anaconda3/envs/ai/lib/python3.7/site-packages/ase/data/pubchem.py:85: UserWarning: The structure \"5994\" has more than one conformer in PubChem. By default, the first conformer is returned, please ensure you are using the structure you intend to or use the `ase.data.pubchem.pubchem_conformer_search` function\n",
      "  ' function'.format(search))\n"
     ]
    },
    {
     "name": "stdout",
     "output_type": "stream",
     "text": [
      "121\n",
      "121\n"
     ]
    },
    {
     "name": "stderr",
     "output_type": "stream",
     "text": [
      "/home/neft/anaconda3/envs/ai/lib/python3.7/site-packages/ase/data/pubchem.py:85: UserWarning: The structure \"26934\" has more than one conformer in PubChem. By default, the first conformer is returned, please ensure you are using the structure you intend to or use the `ase.data.pubchem.pubchem_conformer_search` function\n",
      "  ' function'.format(search))\n"
     ]
    },
    {
     "name": "stdout",
     "output_type": "stream",
     "text": [
      "122\n",
      "122\n"
     ]
    },
    {
     "name": "stderr",
     "output_type": "stream",
     "text": [
      "/home/neft/anaconda3/envs/ai/lib/python3.7/site-packages/ase/data/pubchem.py:85: UserWarning: The structure \"441140\" has more than one conformer in PubChem. By default, the first conformer is returned, please ensure you are using the structure you intend to or use the `ase.data.pubchem.pubchem_conformer_search` function\n",
      "  ' function'.format(search))\n"
     ]
    },
    {
     "name": "stdout",
     "output_type": "stream",
     "text": [
      "123\n",
      "123\n"
     ]
    },
    {
     "name": "stderr",
     "output_type": "stream",
     "text": [
      "/home/neft/anaconda3/envs/ai/lib/python3.7/site-packages/ase/data/pubchem.py:85: UserWarning: The structure \"969472\" has more than one conformer in PubChem. By default, the first conformer is returned, please ensure you are using the structure you intend to or use the `ase.data.pubchem.pubchem_conformer_search` function\n",
      "  ' function'.format(search))\n"
     ]
    },
    {
     "name": "stdout",
     "output_type": "stream",
     "text": [
      "124\n",
      "124\n",
      "125\n",
      "125\n"
     ]
    },
    {
     "name": "stderr",
     "output_type": "stream",
     "text": [
      "/home/neft/anaconda3/envs/ai/lib/python3.7/site-packages/ase/data/pubchem.py:85: UserWarning: The structure \"16960\" has more than one conformer in PubChem. By default, the first conformer is returned, please ensure you are using the structure you intend to or use the `ase.data.pubchem.pubchem_conformer_search` function\n",
      "  ' function'.format(search))\n"
     ]
    },
    {
     "name": "stdout",
     "output_type": "stream",
     "text": [
      "126\n",
      "126\n"
     ]
    },
    {
     "name": "stderr",
     "output_type": "stream",
     "text": [
      "/home/neft/anaconda3/envs/ai/lib/python3.7/site-packages/ase/data/pubchem.py:85: UserWarning: The structure \"3964\" has more than one conformer in PubChem. By default, the first conformer is returned, please ensure you are using the structure you intend to or use the `ase.data.pubchem.pubchem_conformer_search` function\n",
      "  ' function'.format(search))\n"
     ]
    },
    {
     "name": "stdout",
     "output_type": "stream",
     "text": [
      "127\n",
      "127\n"
     ]
    },
    {
     "name": "stderr",
     "output_type": "stream",
     "text": [
      "/home/neft/anaconda3/envs/ai/lib/python3.7/site-packages/ase/data/pubchem.py:85: UserWarning: The structure \"77999\" has more than one conformer in PubChem. By default, the first conformer is returned, please ensure you are using the structure you intend to or use the `ase.data.pubchem.pubchem_conformer_search` function\n",
      "  ' function'.format(search))\n"
     ]
    },
    {
     "name": "stdout",
     "output_type": "stream",
     "text": [
      "128\n",
      "128\n"
     ]
    },
    {
     "name": "stderr",
     "output_type": "stream",
     "text": [
      "/home/neft/anaconda3/envs/ai/lib/python3.7/site-packages/ase/data/pubchem.py:85: UserWarning: The structure \"119570\" has more than one conformer in PubChem. By default, the first conformer is returned, please ensure you are using the structure you intend to or use the `ase.data.pubchem.pubchem_conformer_search` function\n",
      "  ' function'.format(search))\n"
     ]
    },
    {
     "name": "stdout",
     "output_type": "stream",
     "text": [
      "129\n",
      "129\n"
     ]
    },
    {
     "name": "stderr",
     "output_type": "stream",
     "text": [
      "/home/neft/anaconda3/envs/ai/lib/python3.7/site-packages/ase/data/pubchem.py:85: UserWarning: The structure \"1989\" has more than one conformer in PubChem. By default, the first conformer is returned, please ensure you are using the structure you intend to or use the `ase.data.pubchem.pubchem_conformer_search` function\n",
      "  ' function'.format(search))\n"
     ]
    },
    {
     "name": "stdout",
     "output_type": "stream",
     "text": [
      "130\n",
      "130\n"
     ]
    },
    {
     "name": "stderr",
     "output_type": "stream",
     "text": [
      "/home/neft/anaconda3/envs/ai/lib/python3.7/site-packages/ase/data/pubchem.py:85: UserWarning: The structure \"6249\" has more than one conformer in PubChem. By default, the first conformer is returned, please ensure you are using the structure you intend to or use the `ase.data.pubchem.pubchem_conformer_search` function\n",
      "  ' function'.format(search))\n"
     ]
    },
    {
     "name": "stdout",
     "output_type": "stream",
     "text": [
      "131\n",
      "131\n"
     ]
    },
    {
     "name": "stderr",
     "output_type": "stream",
     "text": [
      "/home/neft/anaconda3/envs/ai/lib/python3.7/site-packages/ase/data/pubchem.py:85: UserWarning: The structure \"5193\" has more than one conformer in PubChem. By default, the first conformer is returned, please ensure you are using the structure you intend to or use the `ase.data.pubchem.pubchem_conformer_search` function\n",
      "  ' function'.format(search))\n"
     ]
    },
    {
     "name": "stdout",
     "output_type": "stream",
     "text": [
      "132\n",
      "132\n"
     ]
    },
    {
     "name": "stderr",
     "output_type": "stream",
     "text": [
      "/home/neft/anaconda3/envs/ai/lib/python3.7/site-packages/ase/data/pubchem.py:85: UserWarning: The structure \"51634\" has more than one conformer in PubChem. By default, the first conformer is returned, please ensure you are using the structure you intend to or use the `ase.data.pubchem.pubchem_conformer_search` function\n",
      "  ' function'.format(search))\n"
     ]
    },
    {
     "name": "stdout",
     "output_type": "stream",
     "text": [
      "133\n",
      "133\n"
     ]
    },
    {
     "name": "stderr",
     "output_type": "stream",
     "text": [
      "/home/neft/anaconda3/envs/ai/lib/python3.7/site-packages/ase/data/pubchem.py:85: UserWarning: The structure \"4107\" has more than one conformer in PubChem. By default, the first conformer is returned, please ensure you are using the structure you intend to or use the `ase.data.pubchem.pubchem_conformer_search` function\n",
      "  ' function'.format(search))\n"
     ]
    },
    {
     "name": "stdout",
     "output_type": "stream",
     "text": [
      "134\n",
      "134\n"
     ]
    },
    {
     "name": "stderr",
     "output_type": "stream",
     "text": [
      "/home/neft/anaconda3/envs/ai/lib/python3.7/site-packages/ase/data/pubchem.py:85: UserWarning: The structure \"154417\" has more than one conformer in PubChem. By default, the first conformer is returned, please ensure you are using the structure you intend to or use the `ase.data.pubchem.pubchem_conformer_search` function\n",
      "  ' function'.format(search))\n"
     ]
    },
    {
     "name": "stdout",
     "output_type": "stream",
     "text": [
      "135\n",
      "135\n"
     ]
    },
    {
     "name": "stderr",
     "output_type": "stream",
     "text": [
      "/home/neft/anaconda3/envs/ai/lib/python3.7/site-packages/ase/data/pubchem.py:85: UserWarning: The structure \"5732\" has more than one conformer in PubChem. By default, the first conformer is returned, please ensure you are using the structure you intend to or use the `ase.data.pubchem.pubchem_conformer_search` function\n",
      "  ' function'.format(search))\n"
     ]
    },
    {
     "name": "stdout",
     "output_type": "stream",
     "text": [
      "136\n",
      "136\n"
     ]
    },
    {
     "name": "stderr",
     "output_type": "stream",
     "text": [
      "/home/neft/anaconda3/envs/ai/lib/python3.7/site-packages/ase/data/pubchem.py:85: UserWarning: The structure \"3324\" has more than one conformer in PubChem. By default, the first conformer is returned, please ensure you are using the structure you intend to or use the `ase.data.pubchem.pubchem_conformer_search` function\n",
      "  ' function'.format(search))\n"
     ]
    },
    {
     "name": "stdout",
     "output_type": "stream",
     "text": [
      "137\n",
      "137\n"
     ]
    },
    {
     "name": "stderr",
     "output_type": "stream",
     "text": [
      "/home/neft/anaconda3/envs/ai/lib/python3.7/site-packages/ase/data/pubchem.py:85: UserWarning: The structure \"5282443\" has more than one conformer in PubChem. By default, the first conformer is returned, please ensure you are using the structure you intend to or use the `ase.data.pubchem.pubchem_conformer_search` function\n",
      "  ' function'.format(search))\n"
     ]
    },
    {
     "name": "stdout",
     "output_type": "stream",
     "text": [
      "138\n",
      "138\n"
     ]
    },
    {
     "name": "stderr",
     "output_type": "stream",
     "text": [
      "/home/neft/anaconda3/envs/ai/lib/python3.7/site-packages/ase/data/pubchem.py:85: UserWarning: The structure \"29327\" has more than one conformer in PubChem. By default, the first conformer is returned, please ensure you are using the structure you intend to or use the `ase.data.pubchem.pubchem_conformer_search` function\n",
      "  ' function'.format(search))\n"
     ]
    },
    {
     "name": "stdout",
     "output_type": "stream",
     "text": [
      "139\n",
      "139\n"
     ]
    },
    {
     "name": "stderr",
     "output_type": "stream",
     "text": [
      "/home/neft/anaconda3/envs/ai/lib/python3.7/site-packages/ase/data/pubchem.py:85: UserWarning: The structure \"6256\" has more than one conformer in PubChem. By default, the first conformer is returned, please ensure you are using the structure you intend to or use the `ase.data.pubchem.pubchem_conformer_search` function\n",
      "  ' function'.format(search))\n"
     ]
    },
    {
     "name": "stdout",
     "output_type": "stream",
     "text": [
      "140\n",
      "140\n"
     ]
    },
    {
     "name": "stderr",
     "output_type": "stream",
     "text": [
      "/home/neft/anaconda3/envs/ai/lib/python3.7/site-packages/ase/data/pubchem.py:85: UserWarning: The structure \"4917\" has more than one conformer in PubChem. By default, the first conformer is returned, please ensure you are using the structure you intend to or use the `ase.data.pubchem.pubchem_conformer_search` function\n",
      "  ' function'.format(search))\n"
     ]
    },
    {
     "name": "stdout",
     "output_type": "stream",
     "text": [
      "141\n",
      "141\n"
     ]
    },
    {
     "name": "stderr",
     "output_type": "stream",
     "text": [
      "/home/neft/anaconda3/envs/ai/lib/python3.7/site-packages/ase/data/pubchem.py:85: UserWarning: The structure \"2913\" has more than one conformer in PubChem. By default, the first conformer is returned, please ensure you are using the structure you intend to or use the `ase.data.pubchem.pubchem_conformer_search` function\n",
      "  ' function'.format(search))\n"
     ]
    },
    {
     "name": "stdout",
     "output_type": "stream",
     "text": [
      "142\n",
      "142\n"
     ]
    },
    {
     "name": "stderr",
     "output_type": "stream",
     "text": [
      "/home/neft/anaconda3/envs/ai/lib/python3.7/site-packages/ase/data/pubchem.py:85: UserWarning: The structure \"2315\" has more than one conformer in PubChem. By default, the first conformer is returned, please ensure you are using the structure you intend to or use the `ase.data.pubchem.pubchem_conformer_search` function\n",
      "  ' function'.format(search))\n"
     ]
    },
    {
     "name": "stdout",
     "output_type": "stream",
     "text": [
      "143\n",
      "143\n"
     ]
    },
    {
     "name": "stderr",
     "output_type": "stream",
     "text": [
      "/home/neft/anaconda3/envs/ai/lib/python3.7/site-packages/ase/data/pubchem.py:85: UserWarning: The structure \"5578\" has more than one conformer in PubChem. By default, the first conformer is returned, please ensure you are using the structure you intend to or use the `ase.data.pubchem.pubchem_conformer_search` function\n",
      "  ' function'.format(search))\n"
     ]
    },
    {
     "name": "stdout",
     "output_type": "stream",
     "text": [
      "144\n",
      "144\n"
     ]
    },
    {
     "name": "stderr",
     "output_type": "stream",
     "text": [
      "/home/neft/anaconda3/envs/ai/lib/python3.7/site-packages/ase/data/pubchem.py:85: UserWarning: The structure \"60750\" has more than one conformer in PubChem. By default, the first conformer is returned, please ensure you are using the structure you intend to or use the `ase.data.pubchem.pubchem_conformer_search` function\n",
      "  ' function'.format(search))\n"
     ]
    },
    {
     "name": "stdout",
     "output_type": "stream",
     "text": [
      "145\n",
      "145\n"
     ]
    },
    {
     "name": "stderr",
     "output_type": "stream",
     "text": [
      "/home/neft/anaconda3/envs/ai/lib/python3.7/site-packages/ase/data/pubchem.py:85: UserWarning: The structure \"5959\" has more than one conformer in PubChem. By default, the first conformer is returned, please ensure you are using the structure you intend to or use the `ase.data.pubchem.pubchem_conformer_search` function\n",
      "  ' function'.format(search))\n"
     ]
    },
    {
     "name": "stdout",
     "output_type": "stream",
     "text": [
      "146\n",
      "146\n"
     ]
    },
    {
     "name": "stderr",
     "output_type": "stream",
     "text": [
      "/home/neft/anaconda3/envs/ai/lib/python3.7/site-packages/ase/data/pubchem.py:85: UserWarning: The structure \"3883\" has more than one conformer in PubChem. By default, the first conformer is returned, please ensure you are using the structure you intend to or use the `ase.data.pubchem.pubchem_conformer_search` function\n",
      "  ' function'.format(search))\n"
     ]
    },
    {
     "name": "stdout",
     "output_type": "stream",
     "text": [
      "147\n",
      "147\n"
     ]
    },
    {
     "name": "stderr",
     "output_type": "stream",
     "text": [
      "/home/neft/anaconda3/envs/ai/lib/python3.7/site-packages/ase/data/pubchem.py:85: UserWarning: The structure \"3105\" has more than one conformer in PubChem. By default, the first conformer is returned, please ensure you are using the structure you intend to or use the `ase.data.pubchem.pubchem_conformer_search` function\n",
      "  ' function'.format(search))\n"
     ]
    },
    {
     "name": "stdout",
     "output_type": "stream",
     "text": [
      "148\n",
      "148\n"
     ]
    },
    {
     "name": "stderr",
     "output_type": "stream",
     "text": [
      "/home/neft/anaconda3/envs/ai/lib/python3.7/site-packages/ase/data/pubchem.py:85: UserWarning: The structure \"3168\" has more than one conformer in PubChem. By default, the first conformer is returned, please ensure you are using the structure you intend to or use the `ase.data.pubchem.pubchem_conformer_search` function\n",
      "  ' function'.format(search))\n"
     ]
    },
    {
     "name": "stdout",
     "output_type": "stream",
     "text": [
      "149\n",
      "149\n"
     ]
    },
    {
     "name": "stderr",
     "output_type": "stream",
     "text": [
      "/home/neft/anaconda3/envs/ai/lib/python3.7/site-packages/ase/data/pubchem.py:85: UserWarning: The structure \"5819\" has more than one conformer in PubChem. By default, the first conformer is returned, please ensure you are using the structure you intend to or use the `ase.data.pubchem.pubchem_conformer_search` function\n",
      "  ' function'.format(search))\n"
     ]
    },
    {
     "name": "stdout",
     "output_type": "stream",
     "text": [
      "150\n",
      "150\n"
     ]
    },
    {
     "name": "stderr",
     "output_type": "stream",
     "text": [
      "/home/neft/anaconda3/envs/ai/lib/python3.7/site-packages/ase/data/pubchem.py:85: UserWarning: The structure \"4058\" has more than one conformer in PubChem. By default, the first conformer is returned, please ensure you are using the structure you intend to or use the `ase.data.pubchem.pubchem_conformer_search` function\n",
      "  ' function'.format(search))\n"
     ]
    },
    {
     "name": "stdout",
     "output_type": "stream",
     "text": [
      "151\n",
      "151\n"
     ]
    },
    {
     "name": "stderr",
     "output_type": "stream",
     "text": [
      "/home/neft/anaconda3/envs/ai/lib/python3.7/site-packages/ase/data/pubchem.py:85: UserWarning: The structure \"3957\" has more than one conformer in PubChem. By default, the first conformer is returned, please ensure you are using the structure you intend to or use the `ase.data.pubchem.pubchem_conformer_search` function\n",
      "  ' function'.format(search))\n"
     ]
    },
    {
     "name": "stdout",
     "output_type": "stream",
     "text": [
      "152\n",
      "152\n"
     ]
    },
    {
     "name": "stderr",
     "output_type": "stream",
     "text": [
      "/home/neft/anaconda3/envs/ai/lib/python3.7/site-packages/ase/data/pubchem.py:85: UserWarning: The structure \"6024\" has more than one conformer in PubChem. By default, the first conformer is returned, please ensure you are using the structure you intend to or use the `ase.data.pubchem.pubchem_conformer_search` function\n",
      "  ' function'.format(search))\n"
     ]
    },
    {
     "name": "stdout",
     "output_type": "stream",
     "text": [
      "153\n",
      "153\n"
     ]
    },
    {
     "name": "stderr",
     "output_type": "stream",
     "text": [
      "/home/neft/anaconda3/envs/ai/lib/python3.7/site-packages/ase/data/pubchem.py:85: UserWarning: The structure \"4893\" has more than one conformer in PubChem. By default, the first conformer is returned, please ensure you are using the structure you intend to or use the `ase.data.pubchem.pubchem_conformer_search` function\n",
      "  ' function'.format(search))\n"
     ]
    },
    {
     "name": "stdout",
     "output_type": "stream",
     "text": [
      "154\n",
      "154\n"
     ]
    },
    {
     "name": "stderr",
     "output_type": "stream",
     "text": [
      "/home/neft/anaconda3/envs/ai/lib/python3.7/site-packages/ase/data/pubchem.py:85: UserWarning: The structure \"3696\" has more than one conformer in PubChem. By default, the first conformer is returned, please ensure you are using the structure you intend to or use the `ase.data.pubchem.pubchem_conformer_search` function\n",
      "  ' function'.format(search))\n"
     ]
    },
    {
     "name": "stdout",
     "output_type": "stream",
     "text": [
      "155\n",
      "155\n"
     ]
    },
    {
     "name": "stderr",
     "output_type": "stream",
     "text": [
      "/home/neft/anaconda3/envs/ai/lib/python3.7/site-packages/ase/data/pubchem.py:85: UserWarning: The structure \"5284513\" has more than one conformer in PubChem. By default, the first conformer is returned, please ensure you are using the structure you intend to or use the `ase.data.pubchem.pubchem_conformer_search` function\n",
      "  ' function'.format(search))\n"
     ]
    },
    {
     "name": "stdout",
     "output_type": "stream",
     "text": [
      "156\n",
      "156\n"
     ]
    },
    {
     "name": "stderr",
     "output_type": "stream",
     "text": [
      "/home/neft/anaconda3/envs/ai/lib/python3.7/site-packages/ase/data/pubchem.py:85: UserWarning: The structure \"4409\" has more than one conformer in PubChem. By default, the first conformer is returned, please ensure you are using the structure you intend to or use the `ase.data.pubchem.pubchem_conformer_search` function\n",
      "  ' function'.format(search))\n"
     ]
    },
    {
     "name": "stdout",
     "output_type": "stream",
     "text": [
      "157\n",
      "157\n"
     ]
    },
    {
     "name": "stderr",
     "output_type": "stream",
     "text": [
      "/home/neft/anaconda3/envs/ai/lib/python3.7/site-packages/ase/data/pubchem.py:85: UserWarning: The structure \"4099\" has more than one conformer in PubChem. By default, the first conformer is returned, please ensure you are using the structure you intend to or use the `ase.data.pubchem.pubchem_conformer_search` function\n",
      "  ' function'.format(search))\n"
     ]
    },
    {
     "name": "stdout",
     "output_type": "stream",
     "text": [
      "158\n",
      "158\n"
     ]
    },
    {
     "name": "stderr",
     "output_type": "stream",
     "text": [
      "/home/neft/anaconda3/envs/ai/lib/python3.7/site-packages/ase/data/pubchem.py:85: UserWarning: The structure \"3229\" has more than one conformer in PubChem. By default, the first conformer is returned, please ensure you are using the structure you intend to or use the `ase.data.pubchem.pubchem_conformer_search` function\n",
      "  ' function'.format(search))\n"
     ]
    },
    {
     "name": "stdout",
     "output_type": "stream",
     "text": [
      "159\n",
      "159\n"
     ]
    },
    {
     "name": "stderr",
     "output_type": "stream",
     "text": [
      "/home/neft/anaconda3/envs/ai/lib/python3.7/site-packages/ase/data/pubchem.py:85: UserWarning: The structure \"3034034\" has more than one conformer in PubChem. By default, the first conformer is returned, please ensure you are using the structure you intend to or use the `ase.data.pubchem.pubchem_conformer_search` function\n",
      "  ' function'.format(search))\n"
     ]
    },
    {
     "name": "stdout",
     "output_type": "stream",
     "text": [
      "160\n",
      "160\n"
     ]
    },
    {
     "name": "stderr",
     "output_type": "stream",
     "text": [
      "/home/neft/anaconda3/envs/ai/lib/python3.7/site-packages/ase/data/pubchem.py:85: UserWarning: The structure \"54677971\" has more than one conformer in PubChem. By default, the first conformer is returned, please ensure you are using the structure you intend to or use the `ase.data.pubchem.pubchem_conformer_search` function\n",
      "  ' function'.format(search))\n"
     ]
    },
    {
     "name": "stdout",
     "output_type": "stream",
     "text": [
      "161\n",
      "161\n"
     ]
    },
    {
     "name": "stderr",
     "output_type": "stream",
     "text": [
      "/home/neft/anaconda3/envs/ai/lib/python3.7/site-packages/ase/data/pubchem.py:85: UserWarning: The structure \"16078\" has more than one conformer in PubChem. By default, the first conformer is returned, please ensure you are using the structure you intend to or use the `ase.data.pubchem.pubchem_conformer_search` function\n",
      "  ' function'.format(search))\n"
     ]
    },
    {
     "name": "stdout",
     "output_type": "stream",
     "text": [
      "162\n",
      "162\n"
     ]
    },
    {
     "name": "stderr",
     "output_type": "stream",
     "text": [
      "/home/neft/anaconda3/envs/ai/lib/python3.7/site-packages/ase/data/pubchem.py:85: UserWarning: The structure \"3386\" has more than one conformer in PubChem. By default, the first conformer is returned, please ensure you are using the structure you intend to or use the `ase.data.pubchem.pubchem_conformer_search` function\n",
      "  ' function'.format(search))\n"
     ]
    },
    {
     "name": "stdout",
     "output_type": "stream",
     "text": [
      "163\n",
      "163\n"
     ]
    },
    {
     "name": "stderr",
     "output_type": "stream",
     "text": [
      "/home/neft/anaconda3/envs/ai/lib/python3.7/site-packages/ase/data/pubchem.py:85: UserWarning: The structure \"10770\" has more than one conformer in PubChem. By default, the first conformer is returned, please ensure you are using the structure you intend to or use the `ase.data.pubchem.pubchem_conformer_search` function\n",
      "  ' function'.format(search))\n"
     ]
    },
    {
     "name": "stdout",
     "output_type": "stream",
     "text": [
      "164\n",
      "164\n"
     ]
    },
    {
     "name": "stderr",
     "output_type": "stream",
     "text": [
      "/home/neft/anaconda3/envs/ai/lib/python3.7/site-packages/ase/data/pubchem.py:85: UserWarning: The structure \"2712\" has more than one conformer in PubChem. By default, the first conformer is returned, please ensure you are using the structure you intend to or use the `ase.data.pubchem.pubchem_conformer_search` function\n",
      "  ' function'.format(search))\n"
     ]
    },
    {
     "name": "stdout",
     "output_type": "stream",
     "text": [
      "165\n",
      "165\n"
     ]
    },
    {
     "name": "stderr",
     "output_type": "stream",
     "text": [
      "/home/neft/anaconda3/envs/ai/lib/python3.7/site-packages/ase/data/pubchem.py:85: UserWarning: The structure \"2726\" has more than one conformer in PubChem. By default, the first conformer is returned, please ensure you are using the structure you intend to or use the `ase.data.pubchem.pubchem_conformer_search` function\n",
      "  ' function'.format(search))\n"
     ]
    },
    {
     "name": "stdout",
     "output_type": "stream",
     "text": [
      "166\n",
      "166\n"
     ]
    },
    {
     "name": "stderr",
     "output_type": "stream",
     "text": [
      "/home/neft/anaconda3/envs/ai/lib/python3.7/site-packages/ase/data/pubchem.py:85: UserWarning: The structure \"2662\" has more than one conformer in PubChem. By default, the first conformer is returned, please ensure you are using the structure you intend to or use the `ase.data.pubchem.pubchem_conformer_search` function\n",
      "  ' function'.format(search))\n"
     ]
    },
    {
     "name": "stdout",
     "output_type": "stream",
     "text": [
      "167\n",
      "167\n"
     ]
    },
    {
     "name": "stderr",
     "output_type": "stream",
     "text": [
      "/home/neft/anaconda3/envs/ai/lib/python3.7/site-packages/ase/data/pubchem.py:85: UserWarning: The structure \"2435\" has more than one conformer in PubChem. By default, the first conformer is returned, please ensure you are using the structure you intend to or use the `ase.data.pubchem.pubchem_conformer_search` function\n",
      "  ' function'.format(search))\n"
     ]
    },
    {
     "name": "stdout",
     "output_type": "stream",
     "text": [
      "168\n",
      "168\n"
     ]
    },
    {
     "name": "stderr",
     "output_type": "stream",
     "text": [
      "/home/neft/anaconda3/envs/ai/lib/python3.7/site-packages/ase/data/pubchem.py:85: UserWarning: The structure \"51081\" has more than one conformer in PubChem. By default, the first conformer is returned, please ensure you are using the structure you intend to or use the `ase.data.pubchem.pubchem_conformer_search` function\n",
      "  ' function'.format(search))\n"
     ]
    },
    {
     "name": "stdout",
     "output_type": "stream",
     "text": [
      "169\n",
      "169\n"
     ]
    },
    {
     "name": "stderr",
     "output_type": "stream",
     "text": [
      "/home/neft/anaconda3/envs/ai/lib/python3.7/site-packages/ase/data/pubchem.py:85: UserWarning: The structure \"2123\" has more than one conformer in PubChem. By default, the first conformer is returned, please ensure you are using the structure you intend to or use the `ase.data.pubchem.pubchem_conformer_search` function\n",
      "  ' function'.format(search))\n"
     ]
    },
    {
     "name": "stdout",
     "output_type": "stream",
     "text": [
      "170\n",
      "170\n"
     ]
    },
    {
     "name": "stderr",
     "output_type": "stream",
     "text": [
      "/home/neft/anaconda3/envs/ai/lib/python3.7/site-packages/ase/data/pubchem.py:85: UserWarning: The structure \"5253\" has more than one conformer in PubChem. By default, the first conformer is returned, please ensure you are using the structure you intend to or use the `ase.data.pubchem.pubchem_conformer_search` function\n",
      "  ' function'.format(search))\n"
     ]
    },
    {
     "name": "stdout",
     "output_type": "stream",
     "text": [
      "171\n",
      "171\n"
     ]
    },
    {
     "name": "stderr",
     "output_type": "stream",
     "text": [
      "/home/neft/anaconda3/envs/ai/lib/python3.7/site-packages/ase/data/pubchem.py:85: UserWarning: The structure \"441314\" has more than one conformer in PubChem. By default, the first conformer is returned, please ensure you are using the structure you intend to or use the `ase.data.pubchem.pubchem_conformer_search` function\n",
      "  ' function'.format(search))\n"
     ]
    },
    {
     "name": "stdout",
     "output_type": "stream",
     "text": [
      "172\n",
      "172\n"
     ]
    },
    {
     "name": "stderr",
     "output_type": "stream",
     "text": [
      "/home/neft/anaconda3/envs/ai/lib/python3.7/site-packages/ase/data/pubchem.py:85: UserWarning: The structure \"35370\" has more than one conformer in PubChem. By default, the first conformer is returned, please ensure you are using the structure you intend to or use the `ase.data.pubchem.pubchem_conformer_search` function\n",
      "  ' function'.format(search))\n"
     ]
    },
    {
     "name": "stdout",
     "output_type": "stream",
     "text": [
      "173\n",
      "173\n",
      "174\n",
      "174\n",
      "175\n",
      "175\n"
     ]
    },
    {
     "name": "stderr",
     "output_type": "stream",
     "text": [
      "/home/neft/anaconda3/envs/ai/lib/python3.7/site-packages/ase/data/pubchem.py:85: UserWarning: The structure \"3397\" has more than one conformer in PubChem. By default, the first conformer is returned, please ensure you are using the structure you intend to or use the `ase.data.pubchem.pubchem_conformer_search` function\n",
      "  ' function'.format(search))\n"
     ]
    },
    {
     "name": "stdout",
     "output_type": "stream",
     "text": [
      "176\n",
      "176\n"
     ]
    },
    {
     "name": "stderr",
     "output_type": "stream",
     "text": [
      "/home/neft/anaconda3/envs/ai/lib/python3.7/site-packages/ase/data/pubchem.py:85: UserWarning: The structure \"5509\" has more than one conformer in PubChem. By default, the first conformer is returned, please ensure you are using the structure you intend to or use the `ase.data.pubchem.pubchem_conformer_search` function\n",
      "  ' function'.format(search))\n"
     ]
    },
    {
     "name": "stdout",
     "output_type": "stream",
     "text": [
      "177\n",
      "177\n"
     ]
    },
    {
     "name": "stderr",
     "output_type": "stream",
     "text": [
      "/home/neft/anaconda3/envs/ai/lib/python3.7/site-packages/ase/data/pubchem.py:85: UserWarning: The structure \"2756\" has more than one conformer in PubChem. By default, the first conformer is returned, please ensure you are using the structure you intend to or use the `ase.data.pubchem.pubchem_conformer_search` function\n",
      "  ' function'.format(search))\n"
     ]
    },
    {
     "name": "stdout",
     "output_type": "stream",
     "text": [
      "178\n",
      "178\n"
     ]
    },
    {
     "name": "stderr",
     "output_type": "stream",
     "text": [
      "/home/neft/anaconda3/envs/ai/lib/python3.7/site-packages/ase/data/pubchem.py:85: UserWarning: The structure \"3559\" has more than one conformer in PubChem. By default, the first conformer is returned, please ensure you are using the structure you intend to or use the `ase.data.pubchem.pubchem_conformer_search` function\n",
      "  ' function'.format(search))\n"
     ]
    },
    {
     "name": "stdout",
     "output_type": "stream",
     "text": [
      "179\n",
      "179\n"
     ]
    },
    {
     "name": "stderr",
     "output_type": "stream",
     "text": [
      "/home/neft/anaconda3/envs/ai/lib/python3.7/site-packages/ase/data/pubchem.py:85: UserWarning: The structure \"5359371\" has more than one conformer in PubChem. By default, the first conformer is returned, please ensure you are using the structure you intend to or use the `ase.data.pubchem.pubchem_conformer_search` function\n",
      "  ' function'.format(search))\n"
     ]
    },
    {
     "name": "stdout",
     "output_type": "stream",
     "text": [
      "180\n",
      "180\n"
     ]
    },
    {
     "name": "stderr",
     "output_type": "stream",
     "text": [
      "/home/neft/anaconda3/envs/ai/lib/python3.7/site-packages/ase/data/pubchem.py:85: UserWarning: The structure \"41684\" has more than one conformer in PubChem. By default, the first conformer is returned, please ensure you are using the structure you intend to or use the `ase.data.pubchem.pubchem_conformer_search` function\n",
      "  ' function'.format(search))\n"
     ]
    },
    {
     "name": "stdout",
     "output_type": "stream",
     "text": [
      "181\n",
      "181\n"
     ]
    },
    {
     "name": "stderr",
     "output_type": "stream",
     "text": [
      "/home/neft/anaconda3/envs/ai/lib/python3.7/site-packages/ase/data/pubchem.py:85: UserWarning: The structure \"8730\" has more than one conformer in PubChem. By default, the first conformer is returned, please ensure you are using the structure you intend to or use the `ase.data.pubchem.pubchem_conformer_search` function\n",
      "  ' function'.format(search))\n"
     ]
    },
    {
     "name": "stdout",
     "output_type": "stream",
     "text": [
      "182\n",
      "182\n"
     ]
    },
    {
     "name": "stderr",
     "output_type": "stream",
     "text": [
      "/home/neft/anaconda3/envs/ai/lib/python3.7/site-packages/ase/data/pubchem.py:85: UserWarning: The structure \"564\" has more than one conformer in PubChem. By default, the first conformer is returned, please ensure you are using the structure you intend to or use the `ase.data.pubchem.pubchem_conformer_search` function\n",
      "  ' function'.format(search))\n"
     ]
    },
    {
     "name": "stdout",
     "output_type": "stream",
     "text": [
      "183\n",
      "183\n"
     ]
    },
    {
     "name": "stderr",
     "output_type": "stream",
     "text": [
      "/home/neft/anaconda3/envs/ai/lib/python3.7/site-packages/ase/data/pubchem.py:85: UserWarning: The structure \"5360696\" has more than one conformer in PubChem. By default, the first conformer is returned, please ensure you are using the structure you intend to or use the `ase.data.pubchem.pubchem_conformer_search` function\n",
      "  ' function'.format(search))\n"
     ]
    },
    {
     "name": "stdout",
     "output_type": "stream",
     "text": [
      "184\n",
      "184\n"
     ]
    },
    {
     "name": "stderr",
     "output_type": "stream",
     "text": [
      "/home/neft/anaconda3/envs/ai/lib/python3.7/site-packages/ase/data/pubchem.py:85: UserWarning: The structure \"2082\" has more than one conformer in PubChem. By default, the first conformer is returned, please ensure you are using the structure you intend to or use the `ase.data.pubchem.pubchem_conformer_search` function\n",
      "  ' function'.format(search))\n"
     ]
    },
    {
     "name": "stdout",
     "output_type": "stream",
     "text": [
      "185\n",
      "185\n"
     ]
    },
    {
     "name": "stderr",
     "output_type": "stream",
     "text": [
      "/home/neft/anaconda3/envs/ai/lib/python3.7/site-packages/ase/data/pubchem.py:85: UserWarning: The structure \"6957673\" has more than one conformer in PubChem. By default, the first conformer is returned, please ensure you are using the structure you intend to or use the `ase.data.pubchem.pubchem_conformer_search` function\n",
      "  ' function'.format(search))\n"
     ]
    },
    {
     "name": "stdout",
     "output_type": "stream",
     "text": [
      "186\n",
      "186\n"
     ]
    },
    {
     "name": "stderr",
     "output_type": "stream",
     "text": [
      "/home/neft/anaconda3/envs/ai/lib/python3.7/site-packages/ase/data/pubchem.py:85: UserWarning: The structure \"449171\" has more than one conformer in PubChem. By default, the first conformer is returned, please ensure you are using the structure you intend to or use the `ase.data.pubchem.pubchem_conformer_search` function\n",
      "  ' function'.format(search))\n"
     ]
    },
    {
     "name": "stdout",
     "output_type": "stream",
     "text": [
      "187\n",
      "187\n"
     ]
    },
    {
     "name": "stderr",
     "output_type": "stream",
     "text": [
      "/home/neft/anaconda3/envs/ai/lib/python3.7/site-packages/ase/data/pubchem.py:85: UserWarning: The structure \"4170\" has more than one conformer in PubChem. By default, the first conformer is returned, please ensure you are using the structure you intend to or use the `ase.data.pubchem.pubchem_conformer_search` function\n",
      "  ' function'.format(search))\n"
     ]
    },
    {
     "name": "stdout",
     "output_type": "stream",
     "text": [
      "188\n",
      "188\n"
     ]
    },
    {
     "name": "stderr",
     "output_type": "stream",
     "text": [
      "/home/neft/anaconda3/envs/ai/lib/python3.7/site-packages/ase/data/pubchem.py:85: UserWarning: The structure \"5510\" has more than one conformer in PubChem. By default, the first conformer is returned, please ensure you are using the structure you intend to or use the `ase.data.pubchem.pubchem_conformer_search` function\n",
      "  ' function'.format(search))\n"
     ]
    },
    {
     "name": "stdout",
     "output_type": "stream",
     "text": [
      "189\n",
      "189\n"
     ]
    },
    {
     "name": "stderr",
     "output_type": "stream",
     "text": [
      "/home/neft/anaconda3/envs/ai/lib/python3.7/site-packages/ase/data/pubchem.py:85: UserWarning: The structure \"2907\" has more than one conformer in PubChem. By default, the first conformer is returned, please ensure you are using the structure you intend to or use the `ase.data.pubchem.pubchem_conformer_search` function\n",
      "  ' function'.format(search))\n"
     ]
    },
    {
     "name": "stdout",
     "output_type": "stream",
     "text": [
      "190\n",
      "190\n"
     ]
    },
    {
     "name": "stderr",
     "output_type": "stream",
     "text": [
      "/home/neft/anaconda3/envs/ai/lib/python3.7/site-packages/ase/data/pubchem.py:85: UserWarning: The structure \"4060\" has more than one conformer in PubChem. By default, the first conformer is returned, please ensure you are using the structure you intend to or use the `ase.data.pubchem.pubchem_conformer_search` function\n",
      "  ' function'.format(search))\n"
     ]
    },
    {
     "name": "stdout",
     "output_type": "stream",
     "text": [
      "191\n",
      "191\n"
     ]
    },
    {
     "name": "stderr",
     "output_type": "stream",
     "text": [
      "/home/neft/anaconda3/envs/ai/lib/python3.7/site-packages/ase/data/pubchem.py:85: UserWarning: The structure \"6915944\" has more than one conformer in PubChem. By default, the first conformer is returned, please ensure you are using the structure you intend to or use the `ase.data.pubchem.pubchem_conformer_search` function\n",
      "  ' function'.format(search))\n"
     ]
    },
    {
     "name": "stdout",
     "output_type": "stream",
     "text": [
      "192\n",
      "192\n"
     ]
    },
    {
     "name": "stderr",
     "output_type": "stream",
     "text": [
      "/home/neft/anaconda3/envs/ai/lib/python3.7/site-packages/ase/data/pubchem.py:85: UserWarning: The structure \"2764\" has more than one conformer in PubChem. By default, the first conformer is returned, please ensure you are using the structure you intend to or use the `ase.data.pubchem.pubchem_conformer_search` function\n",
      "  ' function'.format(search))\n"
     ]
    },
    {
     "name": "stdout",
     "output_type": "stream",
     "text": [
      "193\n",
      "193\n"
     ]
    },
    {
     "name": "stderr",
     "output_type": "stream",
     "text": [
      "/home/neft/anaconda3/envs/ai/lib/python3.7/site-packages/ase/data/pubchem.py:85: UserWarning: The structure \"4543\" has more than one conformer in PubChem. By default, the first conformer is returned, please ensure you are using the structure you intend to or use the `ase.data.pubchem.pubchem_conformer_search` function\n",
      "  ' function'.format(search))\n"
     ]
    },
    {
     "name": "stdout",
     "output_type": "stream",
     "text": [
      "194\n",
      "194\n"
     ]
    },
    {
     "name": "stderr",
     "output_type": "stream",
     "text": [
      "/home/neft/anaconda3/envs/ai/lib/python3.7/site-packages/ase/data/pubchem.py:85: UserWarning: The structure \"2170\" has more than one conformer in PubChem. By default, the first conformer is returned, please ensure you are using the structure you intend to or use the `ase.data.pubchem.pubchem_conformer_search` function\n",
      "  ' function'.format(search))\n"
     ]
    },
    {
     "name": "stdout",
     "output_type": "stream",
     "text": [
      "195\n",
      "195\n"
     ]
    },
    {
     "name": "stderr",
     "output_type": "stream",
     "text": [
      "/home/neft/anaconda3/envs/ai/lib/python3.7/site-packages/ase/data/pubchem.py:85: UserWarning: The structure \"4991\" has more than one conformer in PubChem. By default, the first conformer is returned, please ensure you are using the structure you intend to or use the `ase.data.pubchem.pubchem_conformer_search` function\n",
      "  ' function'.format(search))\n"
     ]
    },
    {
     "name": "stdout",
     "output_type": "stream",
     "text": [
      "196\n",
      "196\n"
     ]
    },
    {
     "name": "stderr",
     "output_type": "stream",
     "text": [
      "/home/neft/anaconda3/envs/ai/lib/python3.7/site-packages/ase/data/pubchem.py:85: UserWarning: The structure \"2266\" has more than one conformer in PubChem. By default, the first conformer is returned, please ensure you are using the structure you intend to or use the `ase.data.pubchem.pubchem_conformer_search` function\n",
      "  ' function'.format(search))\n"
     ]
    },
    {
     "name": "stdout",
     "output_type": "stream",
     "text": [
      "197\n",
      "197\n"
     ]
    },
    {
     "name": "stderr",
     "output_type": "stream",
     "text": [
      "/home/neft/anaconda3/envs/ai/lib/python3.7/site-packages/ase/data/pubchem.py:85: UserWarning: The structure \"439693\" has more than one conformer in PubChem. By default, the first conformer is returned, please ensure you are using the structure you intend to or use the `ase.data.pubchem.pubchem_conformer_search` function\n",
      "  ' function'.format(search))\n"
     ]
    },
    {
     "name": "stdout",
     "output_type": "stream",
     "text": [
      "198\n",
      "198\n",
      "199\n",
      "199\n"
     ]
    },
    {
     "name": "stderr",
     "output_type": "stream",
     "text": [
      "/home/neft/anaconda3/envs/ai/lib/python3.7/site-packages/ase/data/pubchem.py:85: UserWarning: The structure \"54676228\" has more than one conformer in PubChem. By default, the first conformer is returned, please ensure you are using the structure you intend to or use the `ase.data.pubchem.pubchem_conformer_search` function\n",
      "  ' function'.format(search))\n"
     ]
    },
    {
     "name": "stdout",
     "output_type": "stream",
     "text": [
      "200\n",
      "200\n"
     ]
    },
    {
     "name": "stderr",
     "output_type": "stream",
     "text": [
      "/home/neft/anaconda3/envs/ai/lib/python3.7/site-packages/ase/data/pubchem.py:85: UserWarning: The structure \"3658\" has more than one conformer in PubChem. By default, the first conformer is returned, please ensure you are using the structure you intend to or use the `ase.data.pubchem.pubchem_conformer_search` function\n",
      "  ' function'.format(search))\n"
     ]
    },
    {
     "name": "stdout",
     "output_type": "stream",
     "text": [
      "201\n",
      "201\n"
     ]
    },
    {
     "name": "stderr",
     "output_type": "stream",
     "text": [
      "/home/neft/anaconda3/envs/ai/lib/python3.7/site-packages/ase/data/pubchem.py:85: UserWarning: The structure \"2343\" has more than one conformer in PubChem. By default, the first conformer is returned, please ensure you are using the structure you intend to or use the `ase.data.pubchem.pubchem_conformer_search` function\n",
      "  ' function'.format(search))\n"
     ]
    },
    {
     "name": "stdout",
     "output_type": "stream",
     "text": [
      "202\n",
      "202\n"
     ]
    },
    {
     "name": "stderr",
     "output_type": "stream",
     "text": [
      "/home/neft/anaconda3/envs/ai/lib/python3.7/site-packages/ase/data/pubchem.py:85: UserWarning: The structure \"126941\" has more than one conformer in PubChem. By default, the first conformer is returned, please ensure you are using the structure you intend to or use the `ase.data.pubchem.pubchem_conformer_search` function\n",
      "  ' function'.format(search))\n"
     ]
    },
    {
     "name": "stdout",
     "output_type": "stream",
     "text": [
      "203\n",
      "203\n"
     ]
    },
    {
     "name": "stderr",
     "output_type": "stream",
     "text": [
      "/home/neft/anaconda3/envs/ai/lib/python3.7/site-packages/ase/data/pubchem.py:85: UserWarning: The structure \"2554\" has more than one conformer in PubChem. By default, the first conformer is returned, please ensure you are using the structure you intend to or use the `ase.data.pubchem.pubchem_conformer_search` function\n",
      "  ' function'.format(search))\n"
     ]
    },
    {
     "name": "stdout",
     "output_type": "stream",
     "text": [
      "204\n",
      "204\n"
     ]
    },
    {
     "name": "stderr",
     "output_type": "stream",
     "text": [
      "/home/neft/anaconda3/envs/ai/lib/python3.7/site-packages/ase/data/pubchem.py:85: UserWarning: The structure \"27447\" has more than one conformer in PubChem. By default, the first conformer is returned, please ensure you are using the structure you intend to or use the `ase.data.pubchem.pubchem_conformer_search` function\n",
      "  ' function'.format(search))\n"
     ]
    },
    {
     "name": "stdout",
     "output_type": "stream",
     "text": [
      "205\n",
      "205\n"
     ]
    },
    {
     "name": "stderr",
     "output_type": "stream",
     "text": [
      "/home/neft/anaconda3/envs/ai/lib/python3.7/site-packages/ase/data/pubchem.py:85: UserWarning: The structure \"4946\" has more than one conformer in PubChem. By default, the first conformer is returned, please ensure you are using the structure you intend to or use the `ase.data.pubchem.pubchem_conformer_search` function\n",
      "  ' function'.format(search))\n"
     ]
    },
    {
     "name": "stdout",
     "output_type": "stream",
     "text": [
      "206\n",
      "206\n"
     ]
    },
    {
     "name": "stderr",
     "output_type": "stream",
     "text": [
      "/home/neft/anaconda3/envs/ai/lib/python3.7/site-packages/ase/data/pubchem.py:85: UserWarning: The structure \"174174\" has more than one conformer in PubChem. By default, the first conformer is returned, please ensure you are using the structure you intend to or use the `ase.data.pubchem.pubchem_conformer_search` function\n",
      "  ' function'.format(search))\n"
     ]
    },
    {
     "name": "stdout",
     "output_type": "stream",
     "text": [
      "207\n",
      "207\n"
     ]
    },
    {
     "name": "stderr",
     "output_type": "stream",
     "text": [
      "/home/neft/anaconda3/envs/ai/lib/python3.7/site-packages/ase/data/pubchem.py:85: UserWarning: The structure \"3342\" has more than one conformer in PubChem. By default, the first conformer is returned, please ensure you are using the structure you intend to or use the `ase.data.pubchem.pubchem_conformer_search` function\n",
      "  ' function'.format(search))\n"
     ]
    },
    {
     "name": "stdout",
     "output_type": "stream",
     "text": [
      "208\n",
      "208\n"
     ]
    },
    {
     "name": "stderr",
     "output_type": "stream",
     "text": [
      "/home/neft/anaconda3/envs/ai/lib/python3.7/site-packages/ase/data/pubchem.py:85: UserWarning: The structure \"2803\" has more than one conformer in PubChem. By default, the first conformer is returned, please ensure you are using the structure you intend to or use the `ase.data.pubchem.pubchem_conformer_search` function\n",
      "  ' function'.format(search))\n"
     ]
    },
    {
     "name": "stdout",
     "output_type": "stream",
     "text": [
      "209\n",
      "209\n"
     ]
    },
    {
     "name": "stderr",
     "output_type": "stream",
     "text": [
      "/home/neft/anaconda3/envs/ai/lib/python3.7/site-packages/ase/data/pubchem.py:85: UserWarning: The structure \"5328\" has more than one conformer in PubChem. By default, the first conformer is returned, please ensure you are using the structure you intend to or use the `ase.data.pubchem.pubchem_conformer_search` function\n",
      "  ' function'.format(search))\n"
     ]
    },
    {
     "name": "stdout",
     "output_type": "stream",
     "text": [
      "210\n",
      "210\n"
     ]
    },
    {
     "name": "stderr",
     "output_type": "stream",
     "text": [
      "/home/neft/anaconda3/envs/ai/lib/python3.7/site-packages/ase/data/pubchem.py:85: UserWarning: The structure \"135398742\" has more than one conformer in PubChem. By default, the first conformer is returned, please ensure you are using the structure you intend to or use the `ase.data.pubchem.pubchem_conformer_search` function\n",
      "  ' function'.format(search))\n"
     ]
    },
    {
     "name": "stdout",
     "output_type": "stream",
     "text": [
      "211\n",
      "211\n"
     ]
    },
    {
     "name": "stderr",
     "output_type": "stream",
     "text": [
      "/home/neft/anaconda3/envs/ai/lib/python3.7/site-packages/ase/data/pubchem.py:85: UserWarning: The structure \"4020\" has more than one conformer in PubChem. By default, the first conformer is returned, please ensure you are using the structure you intend to or use the `ase.data.pubchem.pubchem_conformer_search` function\n",
      "  ' function'.format(search))\n"
     ]
    },
    {
     "name": "stdout",
     "output_type": "stream",
     "text": [
      "212\n",
      "212\n"
     ]
    },
    {
     "name": "stderr",
     "output_type": "stream",
     "text": [
      "/home/neft/anaconda3/envs/ai/lib/python3.7/site-packages/ase/data/pubchem.py:85: UserWarning: The structure \"11333\" has more than one conformer in PubChem. By default, the first conformer is returned, please ensure you are using the structure you intend to or use the `ase.data.pubchem.pubchem_conformer_search` function\n",
      "  ' function'.format(search))\n"
     ]
    },
    {
     "name": "stdout",
     "output_type": "stream",
     "text": [
      "213\n",
      "213\n"
     ]
    },
    {
     "name": "stderr",
     "output_type": "stream",
     "text": [
      "/home/neft/anaconda3/envs/ai/lib/python3.7/site-packages/ase/data/pubchem.py:85: UserWarning: The structure \"71616\" has more than one conformer in PubChem. By default, the first conformer is returned, please ensure you are using the structure you intend to or use the `ase.data.pubchem.pubchem_conformer_search` function\n",
      "  ' function'.format(search))\n"
     ]
    },
    {
     "name": "stdout",
     "output_type": "stream",
     "text": [
      "214\n",
      "214\n"
     ]
    },
    {
     "name": "stderr",
     "output_type": "stream",
     "text": [
      "/home/neft/anaconda3/envs/ai/lib/python3.7/site-packages/ase/data/pubchem.py:85: UserWarning: The structure \"10917\" has more than one conformer in PubChem. By default, the first conformer is returned, please ensure you are using the structure you intend to or use the `ase.data.pubchem.pubchem_conformer_search` function\n",
      "  ' function'.format(search))\n"
     ]
    },
    {
     "name": "stdout",
     "output_type": "stream",
     "text": [
      "215\n",
      "215\n"
     ]
    },
    {
     "name": "stderr",
     "output_type": "stream",
     "text": [
      "/home/neft/anaconda3/envs/ai/lib/python3.7/site-packages/ase/data/pubchem.py:85: UserWarning: The structure \"5388962\" has more than one conformer in PubChem. By default, the first conformer is returned, please ensure you are using the structure you intend to or use the `ase.data.pubchem.pubchem_conformer_search` function\n",
      "  ' function'.format(search))\n"
     ]
    },
    {
     "name": "stdout",
     "output_type": "stream",
     "text": [
      "216\n",
      "216\n"
     ]
    },
    {
     "name": "stderr",
     "output_type": "stream",
     "text": [
      "/home/neft/anaconda3/envs/ai/lib/python3.7/site-packages/ase/data/pubchem.py:85: UserWarning: The structure \"3033637\" has more than one conformer in PubChem. By default, the first conformer is returned, please ensure you are using the structure you intend to or use the `ase.data.pubchem.pubchem_conformer_search` function\n",
      "  ' function'.format(search))\n"
     ]
    },
    {
     "name": "stdout",
     "output_type": "stream",
     "text": [
      "217\n",
      "217\n"
     ]
    },
    {
     "name": "stderr",
     "output_type": "stream",
     "text": [
      "/home/neft/anaconda3/envs/ai/lib/python3.7/site-packages/ase/data/pubchem.py:85: UserWarning: The structure \"3033\" has more than one conformer in PubChem. By default, the first conformer is returned, please ensure you are using the structure you intend to or use the `ase.data.pubchem.pubchem_conformer_search` function\n",
      "  ' function'.format(search))\n"
     ]
    },
    {
     "name": "stdout",
     "output_type": "stream",
     "text": [
      "218\n",
      "218\n"
     ]
    },
    {
     "name": "stderr",
     "output_type": "stream",
     "text": [
      "/home/neft/anaconda3/envs/ai/lib/python3.7/site-packages/ase/data/pubchem.py:85: UserWarning: The structure \"16231\" has more than one conformer in PubChem. By default, the first conformer is returned, please ensure you are using the structure you intend to or use the `ase.data.pubchem.pubchem_conformer_search` function\n",
      "  ' function'.format(search))\n"
     ]
    },
    {
     "name": "stdout",
     "output_type": "stream",
     "text": [
      "219\n",
      "219\n"
     ]
    },
    {
     "name": "stderr",
     "output_type": "stream",
     "text": [
      "/home/neft/anaconda3/envs/ai/lib/python3.7/site-packages/ase/data/pubchem.py:85: UserWarning: The structure \"3869\" has more than one conformer in PubChem. By default, the first conformer is returned, please ensure you are using the structure you intend to or use the `ase.data.pubchem.pubchem_conformer_search` function\n",
      "  ' function'.format(search))\n"
     ]
    },
    {
     "name": "stdout",
     "output_type": "stream",
     "text": [
      "220\n",
      "220\n"
     ]
    },
    {
     "name": "stderr",
     "output_type": "stream",
     "text": [
      "/home/neft/anaconda3/envs/ai/lib/python3.7/site-packages/ase/data/pubchem.py:85: UserWarning: The structure \"7638\" has more than one conformer in PubChem. By default, the first conformer is returned, please ensure you are using the structure you intend to or use the `ase.data.pubchem.pubchem_conformer_search` function\n",
      "  ' function'.format(search))\n"
     ]
    },
    {
     "name": "stdout",
     "output_type": "stream",
     "text": [
      "221\n",
      "221\n"
     ]
    },
    {
     "name": "stderr",
     "output_type": "stream",
     "text": [
      "/home/neft/anaconda3/envs/ai/lib/python3.7/site-packages/ase/data/pubchem.py:85: UserWarning: The structure \"1548887\" has more than one conformer in PubChem. By default, the first conformer is returned, please ensure you are using the structure you intend to or use the `ase.data.pubchem.pubchem_conformer_search` function\n",
      "  ' function'.format(search))\n"
     ]
    },
    {
     "name": "stdout",
     "output_type": "stream",
     "text": [
      "222\n",
      "222\n"
     ]
    },
    {
     "name": "stderr",
     "output_type": "stream",
     "text": [
      "/home/neft/anaconda3/envs/ai/lib/python3.7/site-packages/ase/data/pubchem.py:85: UserWarning: The structure \"2910\" has more than one conformer in PubChem. By default, the first conformer is returned, please ensure you are using the structure you intend to or use the `ase.data.pubchem.pubchem_conformer_search` function\n",
      "  ' function'.format(search))\n"
     ]
    },
    {
     "name": "stdout",
     "output_type": "stream",
     "text": [
      "223\n",
      "223\n"
     ]
    },
    {
     "name": "stderr",
     "output_type": "stream",
     "text": [
      "/home/neft/anaconda3/envs/ai/lib/python3.7/site-packages/ase/data/pubchem.py:85: UserWarning: The structure \"5906\" has more than one conformer in PubChem. By default, the first conformer is returned, please ensure you are using the structure you intend to or use the `ase.data.pubchem.pubchem_conformer_search` function\n",
      "  ' function'.format(search))\n"
     ]
    },
    {
     "name": "stdout",
     "output_type": "stream",
     "text": [
      "224\n",
      "224\n"
     ]
    },
    {
     "name": "stderr",
     "output_type": "stream",
     "text": [
      "/home/neft/anaconda3/envs/ai/lib/python3.7/site-packages/ase/data/pubchem.py:85: UserWarning: The structure \"6916249\" has more than one conformer in PubChem. By default, the first conformer is returned, please ensure you are using the structure you intend to or use the `ase.data.pubchem.pubchem_conformer_search` function\n",
      "  ' function'.format(search))\n"
     ]
    },
    {
     "name": "stdout",
     "output_type": "stream",
     "text": [
      "225\n",
      "225\n"
     ]
    },
    {
     "name": "stderr",
     "output_type": "stream",
     "text": [
      "/home/neft/anaconda3/envs/ai/lib/python3.7/site-packages/ase/data/pubchem.py:85: UserWarning: The structure \"2405\" has more than one conformer in PubChem. By default, the first conformer is returned, please ensure you are using the structure you intend to or use the `ase.data.pubchem.pubchem_conformer_search` function\n",
      "  ' function'.format(search))\n"
     ]
    },
    {
     "name": "stdout",
     "output_type": "stream",
     "text": [
      "226\n",
      "226\n"
     ]
    },
    {
     "name": "stderr",
     "output_type": "stream",
     "text": [
      "/home/neft/anaconda3/envs/ai/lib/python3.7/site-packages/ase/data/pubchem.py:85: UserWarning: The structure \"2165\" has more than one conformer in PubChem. By default, the first conformer is returned, please ensure you are using the structure you intend to or use the `ase.data.pubchem.pubchem_conformer_search` function\n",
      "  ' function'.format(search))\n"
     ]
    },
    {
     "name": "stdout",
     "output_type": "stream",
     "text": [
      "227\n",
      "227\n"
     ]
    },
    {
     "name": "stderr",
     "output_type": "stream",
     "text": [
      "/home/neft/anaconda3/envs/ai/lib/python3.7/site-packages/ase/data/pubchem.py:85: UserWarning: The structure \"3435\" has more than one conformer in PubChem. By default, the first conformer is returned, please ensure you are using the structure you intend to or use the `ase.data.pubchem.pubchem_conformer_search` function\n",
      "  ' function'.format(search))\n"
     ]
    },
    {
     "name": "stdout",
     "output_type": "stream",
     "text": [
      "228\n",
      "228\n"
     ]
    },
    {
     "name": "stderr",
     "output_type": "stream",
     "text": [
      "/home/neft/anaconda3/envs/ai/lib/python3.7/site-packages/ase/data/pubchem.py:85: UserWarning: The structure \"54680690\" has more than one conformer in PubChem. By default, the first conformer is returned, please ensure you are using the structure you intend to or use the `ase.data.pubchem.pubchem_conformer_search` function\n",
      "  ' function'.format(search))\n"
     ]
    },
    {
     "name": "stdout",
     "output_type": "stream",
     "text": [
      "229\n",
      "229\n"
     ]
    },
    {
     "name": "stderr",
     "output_type": "stream",
     "text": [
      "/home/neft/anaconda3/envs/ai/lib/python3.7/site-packages/ase/data/pubchem.py:85: UserWarning: The structure \"31307\" has more than one conformer in PubChem. By default, the first conformer is returned, please ensure you are using the structure you intend to or use the `ase.data.pubchem.pubchem_conformer_search` function\n",
      "  ' function'.format(search))\n"
     ]
    },
    {
     "name": "stdout",
     "output_type": "stream",
     "text": [
      "230\n",
      "230\n",
      "231\n",
      "231\n",
      "232\n",
      "232\n",
      "233\n",
      "233\n"
     ]
    },
    {
     "name": "stderr",
     "output_type": "stream",
     "text": [
      "/home/neft/anaconda3/envs/ai/lib/python3.7/site-packages/ase/data/pubchem.py:85: UserWarning: The structure \"3517\" has more than one conformer in PubChem. By default, the first conformer is returned, please ensure you are using the structure you intend to or use the `ase.data.pubchem.pubchem_conformer_search` function\n",
      "  ' function'.format(search))\n"
     ]
    },
    {
     "name": "stdout",
     "output_type": "stream",
     "text": [
      "234\n",
      "234\n"
     ]
    },
    {
     "name": "stderr",
     "output_type": "stream",
     "text": [
      "/home/neft/anaconda3/envs/ai/lib/python3.7/site-packages/ase/data/pubchem.py:85: UserWarning: The structure \"2088\" has more than one conformer in PubChem. By default, the first conformer is returned, please ensure you are using the structure you intend to or use the `ase.data.pubchem.pubchem_conformer_search` function\n",
      "  ' function'.format(search))\n"
     ]
    },
    {
     "name": "stdout",
     "output_type": "stream",
     "text": [
      "235\n",
      "235\n"
     ]
    },
    {
     "name": "stderr",
     "output_type": "stream",
     "text": [
      "/home/neft/anaconda3/envs/ai/lib/python3.7/site-packages/ase/data/pubchem.py:85: UserWarning: The structure \"5320\" has more than one conformer in PubChem. By default, the first conformer is returned, please ensure you are using the structure you intend to or use the `ase.data.pubchem.pubchem_conformer_search` function\n",
      "  ' function'.format(search))\n"
     ]
    },
    {
     "name": "stdout",
     "output_type": "stream",
     "text": [
      "236\n",
      "236\n"
     ]
    },
    {
     "name": "stderr",
     "output_type": "stream",
     "text": [
      "/home/neft/anaconda3/envs/ai/lib/python3.7/site-packages/ase/data/pubchem.py:85: UserWarning: The structure \"5865\" has more than one conformer in PubChem. By default, the first conformer is returned, please ensure you are using the structure you intend to or use the `ase.data.pubchem.pubchem_conformer_search` function\n",
      "  ' function'.format(search))\n"
     ]
    },
    {
     "name": "stdout",
     "output_type": "stream",
     "text": [
      "237\n",
      "237\n"
     ]
    },
    {
     "name": "stderr",
     "output_type": "stream",
     "text": [
      "/home/neft/anaconda3/envs/ai/lib/python3.7/site-packages/ase/data/pubchem.py:85: UserWarning: The structure \"2796\" has more than one conformer in PubChem. By default, the first conformer is returned, please ensure you are using the structure you intend to or use the `ase.data.pubchem.pubchem_conformer_search` function\n",
      "  ' function'.format(search))\n"
     ]
    },
    {
     "name": "stdout",
     "output_type": "stream",
     "text": [
      "238\n",
      "238\n"
     ]
    },
    {
     "name": "stderr",
     "output_type": "stream",
     "text": [
      "/home/neft/anaconda3/envs/ai/lib/python3.7/site-packages/ase/data/pubchem.py:85: UserWarning: The structure \"60961\" has more than one conformer in PubChem. By default, the first conformer is returned, please ensure you are using the structure you intend to or use the `ase.data.pubchem.pubchem_conformer_search` function\n",
      "  ' function'.format(search))\n"
     ]
    },
    {
     "name": "stdout",
     "output_type": "stream",
     "text": [
      "239\n",
      "239\n"
     ]
    },
    {
     "name": "stderr",
     "output_type": "stream",
     "text": [
      "/home/neft/anaconda3/envs/ai/lib/python3.7/site-packages/ase/data/pubchem.py:85: UserWarning: The structure \"4030\" has more than one conformer in PubChem. By default, the first conformer is returned, please ensure you are using the structure you intend to or use the `ase.data.pubchem.pubchem_conformer_search` function\n",
      "  ' function'.format(search))\n"
     ]
    },
    {
     "name": "stdout",
     "output_type": "stream",
     "text": [
      "240\n",
      "240\n"
     ]
    },
    {
     "name": "stderr",
     "output_type": "stream",
     "text": [
      "/home/neft/anaconda3/envs/ai/lib/python3.7/site-packages/ase/data/pubchem.py:85: UserWarning: The structure \"3180\" has more than one conformer in PubChem. By default, the first conformer is returned, please ensure you are using the structure you intend to or use the `ase.data.pubchem.pubchem_conformer_search` function\n",
      "  ' function'.format(search))\n"
     ]
    },
    {
     "name": "stdout",
     "output_type": "stream",
     "text": [
      "241\n",
      "241\n"
     ]
    },
    {
     "name": "stderr",
     "output_type": "stream",
     "text": [
      "/home/neft/anaconda3/envs/ai/lib/python3.7/site-packages/ase/data/pubchem.py:85: UserWarning: The structure \"10100\" has more than one conformer in PubChem. By default, the first conformer is returned, please ensure you are using the structure you intend to or use the `ase.data.pubchem.pubchem_conformer_search` function\n",
      "  ' function'.format(search))\n"
     ]
    },
    {
     "name": "stdout",
     "output_type": "stream",
     "text": [
      "242\n",
      "242\n"
     ]
    },
    {
     "name": "stderr",
     "output_type": "stream",
     "text": [
      "/home/neft/anaconda3/envs/ai/lib/python3.7/site-packages/ase/data/pubchem.py:85: UserWarning: The structure \"4211\" has more than one conformer in PubChem. By default, the first conformer is returned, please ensure you are using the structure you intend to or use the `ase.data.pubchem.pubchem_conformer_search` function\n",
      "  ' function'.format(search))\n"
     ]
    },
    {
     "name": "stdout",
     "output_type": "stream",
     "text": [
      "243\n",
      "243\n"
     ]
    },
    {
     "name": "stderr",
     "output_type": "stream",
     "text": [
      "/home/neft/anaconda3/envs/ai/lib/python3.7/site-packages/ase/data/pubchem.py:85: UserWarning: The structure \"18283\" has more than one conformer in PubChem. By default, the first conformer is returned, please ensure you are using the structure you intend to or use the `ase.data.pubchem.pubchem_conformer_search` function\n",
      "  ' function'.format(search))\n"
     ]
    },
    {
     "name": "stdout",
     "output_type": "stream",
     "text": [
      "244\n",
      "244\n"
     ]
    },
    {
     "name": "stderr",
     "output_type": "stream",
     "text": [
      "/home/neft/anaconda3/envs/ai/lib/python3.7/site-packages/ase/data/pubchem.py:85: UserWarning: The structure \"3182\" has more than one conformer in PubChem. By default, the first conformer is returned, please ensure you are using the structure you intend to or use the `ase.data.pubchem.pubchem_conformer_search` function\n",
      "  ' function'.format(search))\n"
     ]
    },
    {
     "name": "stdout",
     "output_type": "stream",
     "text": [
      "245\n",
      "245\n"
     ]
    },
    {
     "name": "stderr",
     "output_type": "stream",
     "text": [
      "/home/neft/anaconda3/envs/ai/lib/python3.7/site-packages/ase/data/pubchem.py:85: UserWarning: The structure \"441278\" has more than one conformer in PubChem. By default, the first conformer is returned, please ensure you are using the structure you intend to or use the `ase.data.pubchem.pubchem_conformer_search` function\n",
      "  ' function'.format(search))\n"
     ]
    },
    {
     "name": "stdout",
     "output_type": "stream",
     "text": [
      "246\n",
      "246\n",
      "247\n",
      "247\n"
     ]
    },
    {
     "name": "stderr",
     "output_type": "stream",
     "text": [
      "/home/neft/anaconda3/envs/ai/lib/python3.7/site-packages/ase/data/pubchem.py:85: UserWarning: The structure \"5533\" has more than one conformer in PubChem. By default, the first conformer is returned, please ensure you are using the structure you intend to or use the `ase.data.pubchem.pubchem_conformer_search` function\n",
      "  ' function'.format(search))\n"
     ]
    },
    {
     "name": "stdout",
     "output_type": "stream",
     "text": [
      "248\n",
      "248\n"
     ]
    },
    {
     "name": "stderr",
     "output_type": "stream",
     "text": [
      "/home/neft/anaconda3/envs/ai/lib/python3.7/site-packages/ase/data/pubchem.py:85: UserWarning: The structure \"4032\" has more than one conformer in PubChem. By default, the first conformer is returned, please ensure you are using the structure you intend to or use the `ase.data.pubchem.pubchem_conformer_search` function\n",
      "  ' function'.format(search))\n"
     ]
    },
    {
     "name": "stdout",
     "output_type": "stream",
     "text": [
      "249\n",
      "249\n"
     ]
    },
    {
     "name": "stderr",
     "output_type": "stream",
     "text": [
      "/home/neft/anaconda3/envs/ai/lib/python3.7/site-packages/ase/data/pubchem.py:85: UserWarning: The structure \"15459\" has more than one conformer in PubChem. By default, the first conformer is returned, please ensure you are using the structure you intend to or use the `ase.data.pubchem.pubchem_conformer_search` function\n",
      "  ' function'.format(search))\n"
     ]
    },
    {
     "name": "stdout",
     "output_type": "stream",
     "text": [
      "250\n",
      "250\n"
     ]
    },
    {
     "name": "stderr",
     "output_type": "stream",
     "text": [
      "/home/neft/anaconda3/envs/ai/lib/python3.7/site-packages/ase/data/pubchem.py:85: UserWarning: The structure \"9047\" has more than one conformer in PubChem. By default, the first conformer is returned, please ensure you are using the structure you intend to or use the `ase.data.pubchem.pubchem_conformer_search` function\n",
      "  ' function'.format(search))\n"
     ]
    },
    {
     "name": "stdout",
     "output_type": "stream",
     "text": [
      "251\n",
      "251\n"
     ]
    },
    {
     "name": "stderr",
     "output_type": "stream",
     "text": [
      "/home/neft/anaconda3/envs/ai/lib/python3.7/site-packages/ase/data/pubchem.py:85: UserWarning: The structure \"5816\" has more than one conformer in PubChem. By default, the first conformer is returned, please ensure you are using the structure you intend to or use the `ase.data.pubchem.pubchem_conformer_search` function\n",
      "  ' function'.format(search))\n"
     ]
    },
    {
     "name": "stdout",
     "output_type": "stream",
     "text": [
      "252\n",
      "252\n"
     ]
    },
    {
     "name": "stderr",
     "output_type": "stream",
     "text": [
      "/home/neft/anaconda3/envs/ai/lib/python3.7/site-packages/ase/data/pubchem.py:85: UserWarning: The structure \"5358\" has more than one conformer in PubChem. By default, the first conformer is returned, please ensure you are using the structure you intend to or use the `ase.data.pubchem.pubchem_conformer_search` function\n",
      "  ' function'.format(search))\n"
     ]
    },
    {
     "name": "stdout",
     "output_type": "stream",
     "text": [
      "253\n",
      "253\n"
     ]
    },
    {
     "name": "stderr",
     "output_type": "stream",
     "text": [
      "/home/neft/anaconda3/envs/ai/lib/python3.7/site-packages/ase/data/pubchem.py:85: UserWarning: The structure \"5362065\" has more than one conformer in PubChem. By default, the first conformer is returned, please ensure you are using the structure you intend to or use the `ase.data.pubchem.pubchem_conformer_search` function\n",
      "  ' function'.format(search))\n"
     ]
    },
    {
     "name": "stdout",
     "output_type": "stream",
     "text": [
      "254\n",
      "254\n"
     ]
    },
    {
     "name": "stderr",
     "output_type": "stream",
     "text": [
      "/home/neft/anaconda3/envs/ai/lib/python3.7/site-packages/ase/data/pubchem.py:85: UserWarning: The structure \"2727\" has more than one conformer in PubChem. By default, the first conformer is returned, please ensure you are using the structure you intend to or use the `ase.data.pubchem.pubchem_conformer_search` function\n",
      "  ' function'.format(search))\n"
     ]
    },
    {
     "name": "stdout",
     "output_type": "stream",
     "text": [
      "255\n",
      "255\n"
     ]
    },
    {
     "name": "stderr",
     "output_type": "stream",
     "text": [
      "/home/neft/anaconda3/envs/ai/lib/python3.7/site-packages/ase/data/pubchem.py:85: UserWarning: The structure \"2345\" has more than one conformer in PubChem. By default, the first conformer is returned, please ensure you are using the structure you intend to or use the `ase.data.pubchem.pubchem_conformer_search` function\n",
      "  ' function'.format(search))\n"
     ]
    },
    {
     "name": "stdout",
     "output_type": "stream",
     "text": [
      "256\n",
      "256\n"
     ]
    },
    {
     "name": "stderr",
     "output_type": "stream",
     "text": [
      "/home/neft/anaconda3/envs/ai/lib/python3.7/site-packages/ase/data/pubchem.py:85: UserWarning: The structure \"3961\" has more than one conformer in PubChem. By default, the first conformer is returned, please ensure you are using the structure you intend to or use the `ase.data.pubchem.pubchem_conformer_search` function\n",
      "  ' function'.format(search))\n"
     ]
    },
    {
     "name": "stdout",
     "output_type": "stream",
     "text": [
      "257\n",
      "257\n"
     ]
    },
    {
     "name": "stderr",
     "output_type": "stream",
     "text": [
      "/home/neft/anaconda3/envs/ai/lib/python3.7/site-packages/ase/data/pubchem.py:85: UserWarning: The structure \"5452\" has more than one conformer in PubChem. By default, the first conformer is returned, please ensure you are using the structure you intend to or use the `ase.data.pubchem.pubchem_conformer_search` function\n",
      "  ' function'.format(search))\n"
     ]
    },
    {
     "name": "stdout",
     "output_type": "stream",
     "text": [
      "258\n",
      "258\n"
     ]
    },
    {
     "name": "stderr",
     "output_type": "stream",
     "text": [
      "/home/neft/anaconda3/envs/ai/lib/python3.7/site-packages/ase/data/pubchem.py:85: UserWarning: The structure \"34633\" has more than one conformer in PubChem. By default, the first conformer is returned, please ensure you are using the structure you intend to or use the `ase.data.pubchem.pubchem_conformer_search` function\n",
      "  ' function'.format(search))\n"
     ]
    },
    {
     "name": "stdout",
     "output_type": "stream",
     "text": [
      "259\n",
      "259\n"
     ]
    },
    {
     "name": "stderr",
     "output_type": "stream",
     "text": [
      "/home/neft/anaconda3/envs/ai/lib/python3.7/site-packages/ase/data/pubchem.py:85: UserWarning: The structure \"54678486\" has more than one conformer in PubChem. By default, the first conformer is returned, please ensure you are using the structure you intend to or use the `ase.data.pubchem.pubchem_conformer_search` function\n",
      "  ' function'.format(search))\n"
     ]
    },
    {
     "name": "stdout",
     "output_type": "stream",
     "text": [
      "260\n",
      "260\n"
     ]
    },
    {
     "name": "stderr",
     "output_type": "stream",
     "text": [
      "/home/neft/anaconda3/envs/ai/lib/python3.7/site-packages/ase/data/pubchem.py:85: UserWarning: The structure \"4192\" has more than one conformer in PubChem. By default, the first conformer is returned, please ensure you are using the structure you intend to or use the `ase.data.pubchem.pubchem_conformer_search` function\n",
      "  ' function'.format(search))\n"
     ]
    },
    {
     "name": "stdout",
     "output_type": "stream",
     "text": [
      "261\n",
      "261\n"
     ]
    },
    {
     "name": "stderr",
     "output_type": "stream",
     "text": [
      "/home/neft/anaconda3/envs/ai/lib/python3.7/site-packages/ase/data/pubchem.py:85: UserWarning: The structure \"19150\" has more than one conformer in PubChem. By default, the first conformer is returned, please ensure you are using the structure you intend to or use the `ase.data.pubchem.pubchem_conformer_search` function\n",
      "  ' function'.format(search))\n"
     ]
    },
    {
     "name": "stdout",
     "output_type": "stream",
     "text": [
      "262\n",
      "262\n"
     ]
    },
    {
     "name": "stderr",
     "output_type": "stream",
     "text": [
      "/home/neft/anaconda3/envs/ai/lib/python3.7/site-packages/ase/data/pubchem.py:85: UserWarning: The structure \"3393\" has more than one conformer in PubChem. By default, the first conformer is returned, please ensure you are using the structure you intend to or use the `ase.data.pubchem.pubchem_conformer_search` function\n",
      "  ' function'.format(search))\n"
     ]
    },
    {
     "name": "stdout",
     "output_type": "stream",
     "text": [
      "263\n",
      "263\n"
     ]
    },
    {
     "name": "stderr",
     "output_type": "stream",
     "text": [
      "/home/neft/anaconda3/envs/ai/lib/python3.7/site-packages/ase/data/pubchem.py:85: UserWarning: The structure \"5775\" has more than one conformer in PubChem. By default, the first conformer is returned, please ensure you are using the structure you intend to or use the `ase.data.pubchem.pubchem_conformer_search` function\n",
      "  ' function'.format(search))\n"
     ]
    },
    {
     "name": "stdout",
     "output_type": "stream",
     "text": [
      "264\n",
      "264\n",
      "265\n",
      "265\n"
     ]
    },
    {
     "name": "stderr",
     "output_type": "stream",
     "text": [
      "/home/neft/anaconda3/envs/ai/lib/python3.7/site-packages/ase/data/pubchem.py:85: UserWarning: The structure \"3440\" has more than one conformer in PubChem. By default, the first conformer is returned, please ensure you are using the structure you intend to or use the `ase.data.pubchem.pubchem_conformer_search` function\n",
      "  ' function'.format(search))\n"
     ]
    },
    {
     "name": "stdout",
     "output_type": "stream",
     "text": [
      "266\n",
      "266\n"
     ]
    },
    {
     "name": "stderr",
     "output_type": "stream",
     "text": [
      "/home/neft/anaconda3/envs/ai/lib/python3.7/site-packages/ase/data/pubchem.py:85: UserWarning: The structure \"5487\" has more than one conformer in PubChem. By default, the first conformer is returned, please ensure you are using the structure you intend to or use the `ase.data.pubchem.pubchem_conformer_search` function\n",
      "  ' function'.format(search))\n"
     ]
    },
    {
     "name": "stdout",
     "output_type": "stream",
     "text": [
      "267\n",
      "267\n"
     ]
    },
    {
     "name": "stderr",
     "output_type": "stream",
     "text": [
      "/home/neft/anaconda3/envs/ai/lib/python3.7/site-packages/ase/data/pubchem.py:85: UserWarning: The structure \"6604200\" has more than one conformer in PubChem. By default, the first conformer is returned, please ensure you are using the structure you intend to or use the `ase.data.pubchem.pubchem_conformer_search` function\n",
      "  ' function'.format(search))\n"
     ]
    },
    {
     "name": "stdout",
     "output_type": "stream",
     "text": [
      "268\n",
      "268\n"
     ]
    },
    {
     "name": "stderr",
     "output_type": "stream",
     "text": [
      "/home/neft/anaconda3/envs/ai/lib/python3.7/site-packages/ase/data/pubchem.py:85: UserWarning: The structure \"4100\" has more than one conformer in PubChem. By default, the first conformer is returned, please ensure you are using the structure you intend to or use the `ase.data.pubchem.pubchem_conformer_search` function\n",
      "  ' function'.format(search))\n"
     ]
    },
    {
     "name": "stdout",
     "output_type": "stream",
     "text": [
      "269\n",
      "269\n"
     ]
    },
    {
     "name": "stderr",
     "output_type": "stream",
     "text": [
      "/home/neft/anaconda3/envs/ai/lib/python3.7/site-packages/ase/data/pubchem.py:85: UserWarning: The structure \"5360515\" has more than one conformer in PubChem. By default, the first conformer is returned, please ensure you are using the structure you intend to or use the `ase.data.pubchem.pubchem_conformer_search` function\n",
      "  ' function'.format(search))\n"
     ]
    },
    {
     "name": "stdout",
     "output_type": "stream",
     "text": [
      "270\n",
      "270\n"
     ]
    },
    {
     "name": "stderr",
     "output_type": "stream",
     "text": [
      "/home/neft/anaconda3/envs/ai/lib/python3.7/site-packages/ase/data/pubchem.py:85: UserWarning: The structure \"60825\" has more than one conformer in PubChem. By default, the first conformer is returned, please ensure you are using the structure you intend to or use the `ase.data.pubchem.pubchem_conformer_search` function\n",
      "  ' function'.format(search))\n"
     ]
    },
    {
     "name": "stdout",
     "output_type": "stream",
     "text": [
      "271\n",
      "271\n"
     ]
    },
    {
     "name": "stderr",
     "output_type": "stream",
     "text": [
      "/home/neft/anaconda3/envs/ai/lib/python3.7/site-packages/ase/data/pubchem.py:85: UserWarning: The structure \"3052\" has more than one conformer in PubChem. By default, the first conformer is returned, please ensure you are using the structure you intend to or use the `ase.data.pubchem.pubchem_conformer_search` function\n",
      "  ' function'.format(search))\n"
     ]
    },
    {
     "name": "stdout",
     "output_type": "stream",
     "text": [
      "272\n",
      "272\n"
     ]
    },
    {
     "name": "stderr",
     "output_type": "stream",
     "text": [
      "/home/neft/anaconda3/envs/ai/lib/python3.7/site-packages/ase/data/pubchem.py:85: UserWarning: The structure \"3394\" has more than one conformer in PubChem. By default, the first conformer is returned, please ensure you are using the structure you intend to or use the `ase.data.pubchem.pubchem_conformer_search` function\n",
      "  ' function'.format(search))\n"
     ]
    },
    {
     "name": "stdout",
     "output_type": "stream",
     "text": [
      "273\n",
      "273\n"
     ]
    },
    {
     "name": "stderr",
     "output_type": "stream",
     "text": [
      "/home/neft/anaconda3/envs/ai/lib/python3.7/site-packages/ase/data/pubchem.py:85: UserWarning: The structure \"6196\" has more than one conformer in PubChem. By default, the first conformer is returned, please ensure you are using the structure you intend to or use the `ase.data.pubchem.pubchem_conformer_search` function\n",
      "  ' function'.format(search))\n"
     ]
    },
    {
     "name": "stdout",
     "output_type": "stream",
     "text": [
      "274\n",
      "274\n"
     ]
    },
    {
     "name": "stderr",
     "output_type": "stream",
     "text": [
      "/home/neft/anaconda3/envs/ai/lib/python3.7/site-packages/ase/data/pubchem.py:85: UserWarning: The structure \"43815\" has more than one conformer in PubChem. By default, the first conformer is returned, please ensure you are using the structure you intend to or use the `ase.data.pubchem.pubchem_conformer_search` function\n",
      "  ' function'.format(search))\n"
     ]
    },
    {
     "name": "stdout",
     "output_type": "stream",
     "text": [
      "275\n",
      "275\n"
     ]
    },
    {
     "name": "stderr",
     "output_type": "stream",
     "text": [
      "/home/neft/anaconda3/envs/ai/lib/python3.7/site-packages/ase/data/pubchem.py:85: UserWarning: The structure \"50294\" has more than one conformer in PubChem. By default, the first conformer is returned, please ensure you are using the structure you intend to or use the `ase.data.pubchem.pubchem_conformer_search` function\n",
      "  ' function'.format(search))\n"
     ]
    },
    {
     "name": "stdout",
     "output_type": "stream",
     "text": [
      "276\n",
      "276\n"
     ]
    },
    {
     "name": "stderr",
     "output_type": "stream",
     "text": [
      "/home/neft/anaconda3/envs/ai/lib/python3.7/site-packages/ase/data/pubchem.py:85: UserWarning: The structure \"6230\" has more than one conformer in PubChem. By default, the first conformer is returned, please ensure you are using the structure you intend to or use the `ase.data.pubchem.pubchem_conformer_search` function\n",
      "  ' function'.format(search))\n"
     ]
    },
    {
     "name": "stdout",
     "output_type": "stream",
     "text": [
      "277\n",
      "277\n"
     ]
    },
    {
     "name": "stderr",
     "output_type": "stream",
     "text": [
      "/home/neft/anaconda3/envs/ai/lib/python3.7/site-packages/ase/data/pubchem.py:85: UserWarning: The structure \"19861\" has more than one conformer in PubChem. By default, the first conformer is returned, please ensure you are using the structure you intend to or use the `ase.data.pubchem.pubchem_conformer_search` function\n",
      "  ' function'.format(search))\n"
     ]
    },
    {
     "name": "stdout",
     "output_type": "stream",
     "text": [
      "278\n",
      "278\n"
     ]
    },
    {
     "name": "stderr",
     "output_type": "stream",
     "text": [
      "/home/neft/anaconda3/envs/ai/lib/python3.7/site-packages/ase/data/pubchem.py:85: UserWarning: The structure \"4914\" has more than one conformer in PubChem. By default, the first conformer is returned, please ensure you are using the structure you intend to or use the `ase.data.pubchem.pubchem_conformer_search` function\n",
      "  ' function'.format(search))\n"
     ]
    },
    {
     "name": "stdout",
     "output_type": "stream",
     "text": [
      "279\n",
      "279\n"
     ]
    },
    {
     "name": "stderr",
     "output_type": "stream",
     "text": [
      "/home/neft/anaconda3/envs/ai/lib/python3.7/site-packages/ase/data/pubchem.py:85: UserWarning: The structure \"57469\" has more than one conformer in PubChem. By default, the first conformer is returned, please ensure you are using the structure you intend to or use the `ase.data.pubchem.pubchem_conformer_search` function\n",
      "  ' function'.format(search))\n"
     ]
    },
    {
     "name": "stdout",
     "output_type": "stream",
     "text": [
      "280\n",
      "280\n"
     ]
    },
    {
     "name": "stderr",
     "output_type": "stream",
     "text": [
      "/home/neft/anaconda3/envs/ai/lib/python3.7/site-packages/ase/data/pubchem.py:85: UserWarning: The structure \"5584\" has more than one conformer in PubChem. By default, the first conformer is returned, please ensure you are using the structure you intend to or use the `ase.data.pubchem.pubchem_conformer_search` function\n",
      "  ' function'.format(search))\n"
     ]
    },
    {
     "name": "stdout",
     "output_type": "stream",
     "text": [
      "281\n",
      "281\n"
     ]
    },
    {
     "name": "stderr",
     "output_type": "stream",
     "text": [
      "/home/neft/anaconda3/envs/ai/lib/python3.7/site-packages/ase/data/pubchem.py:85: UserWarning: The structure \"9568614\" has more than one conformer in PubChem. By default, the first conformer is returned, please ensure you are using the structure you intend to or use the `ase.data.pubchem.pubchem_conformer_search` function\n",
      "  ' function'.format(search))\n"
     ]
    },
    {
     "name": "stdout",
     "output_type": "stream",
     "text": [
      "282\n",
      "282\n"
     ]
    },
    {
     "name": "stderr",
     "output_type": "stream",
     "text": [
      "/home/neft/anaconda3/envs/ai/lib/python3.7/site-packages/ase/data/pubchem.py:85: UserWarning: The structure \"4034\" has more than one conformer in PubChem. By default, the first conformer is returned, please ensure you are using the structure you intend to or use the `ase.data.pubchem.pubchem_conformer_search` function\n",
      "  ' function'.format(search))\n"
     ]
    },
    {
     "name": "stdout",
     "output_type": "stream",
     "text": [
      "283\n",
      "283\n"
     ]
    },
    {
     "name": "stderr",
     "output_type": "stream",
     "text": [
      "/home/neft/anaconda3/envs/ai/lib/python3.7/site-packages/ase/data/pubchem.py:85: UserWarning: The structure \"4735\" has more than one conformer in PubChem. By default, the first conformer is returned, please ensure you are using the structure you intend to or use the `ase.data.pubchem.pubchem_conformer_search` function\n",
      "  ' function'.format(search))\n"
     ]
    },
    {
     "name": "stdout",
     "output_type": "stream",
     "text": [
      "284\n",
      "284\n"
     ]
    },
    {
     "name": "stderr",
     "output_type": "stream",
     "text": [
      "/home/neft/anaconda3/envs/ai/lib/python3.7/site-packages/ase/data/pubchem.py:85: UserWarning: The structure \"443387\" has more than one conformer in PubChem. By default, the first conformer is returned, please ensure you are using the structure you intend to or use the `ase.data.pubchem.pubchem_conformer_search` function\n",
      "  ' function'.format(search))\n"
     ]
    },
    {
     "name": "stdout",
     "output_type": "stream",
     "text": [
      "285\n",
      "285\n"
     ]
    },
    {
     "name": "stderr",
     "output_type": "stream",
     "text": [
      "/home/neft/anaconda3/envs/ai/lib/python3.7/site-packages/ase/data/pubchem.py:85: UserWarning: The structure \"6251\" has more than one conformer in PubChem. By default, the first conformer is returned, please ensure you are using the structure you intend to or use the `ase.data.pubchem.pubchem_conformer_search` function\n",
      "  ' function'.format(search))\n"
     ]
    },
    {
     "name": "stdout",
     "output_type": "stream",
     "text": [
      "286\n",
      "286\n"
     ]
    },
    {
     "name": "stderr",
     "output_type": "stream",
     "text": [
      "/home/neft/anaconda3/envs/ai/lib/python3.7/site-packages/ase/data/pubchem.py:85: UserWarning: The structure \"60490\" has more than one conformer in PubChem. By default, the first conformer is returned, please ensure you are using the structure you intend to or use the `ase.data.pubchem.pubchem_conformer_search` function\n",
      "  ' function'.format(search))\n"
     ]
    },
    {
     "name": "stdout",
     "output_type": "stream",
     "text": [
      "287\n",
      "287\n"
     ]
    },
    {
     "name": "stderr",
     "output_type": "stream",
     "text": [
      "/home/neft/anaconda3/envs/ai/lib/python3.7/site-packages/ase/data/pubchem.py:85: UserWarning: The structure \"4236\" has more than one conformer in PubChem. By default, the first conformer is returned, please ensure you are using the structure you intend to or use the `ase.data.pubchem.pubchem_conformer_search` function\n",
      "  ' function'.format(search))\n"
     ]
    },
    {
     "name": "stdout",
     "output_type": "stream",
     "text": [
      "288\n",
      "288\n"
     ]
    },
    {
     "name": "stderr",
     "output_type": "stream",
     "text": [
      "/home/neft/anaconda3/envs/ai/lib/python3.7/site-packages/ase/data/pubchem.py:85: UserWarning: The structure \"3000322\" has more than one conformer in PubChem. By default, the first conformer is returned, please ensure you are using the structure you intend to or use the `ase.data.pubchem.pubchem_conformer_search` function\n",
      "  ' function'.format(search))\n"
     ]
    },
    {
     "name": "stdout",
     "output_type": "stream",
     "text": [
      "289\n",
      "289\n"
     ]
    },
    {
     "name": "stderr",
     "output_type": "stream",
     "text": [
      "/home/neft/anaconda3/envs/ai/lib/python3.7/site-packages/ase/data/pubchem.py:85: UserWarning: The structure \"3308\" has more than one conformer in PubChem. By default, the first conformer is returned, please ensure you are using the structure you intend to or use the `ase.data.pubchem.pubchem_conformer_search` function\n",
      "  ' function'.format(search))\n"
     ]
    },
    {
     "name": "stdout",
     "output_type": "stream",
     "text": [
      "290\n",
      "290\n"
     ]
    },
    {
     "name": "stderr",
     "output_type": "stream",
     "text": [
      "/home/neft/anaconda3/envs/ai/lib/python3.7/site-packages/ase/data/pubchem.py:85: UserWarning: The structure \"4906\" has more than one conformer in PubChem. By default, the first conformer is returned, please ensure you are using the structure you intend to or use the `ase.data.pubchem.pubchem_conformer_search` function\n",
      "  ' function'.format(search))\n"
     ]
    },
    {
     "name": "stdout",
     "output_type": "stream",
     "text": [
      "291\n",
      "291\n"
     ]
    },
    {
     "name": "stderr",
     "output_type": "stream",
     "text": [
      "/home/neft/anaconda3/envs/ai/lib/python3.7/site-packages/ase/data/pubchem.py:85: UserWarning: The structure \"3241\" has more than one conformer in PubChem. By default, the first conformer is returned, please ensure you are using the structure you intend to or use the `ase.data.pubchem.pubchem_conformer_search` function\n",
      "  ' function'.format(search))\n"
     ]
    },
    {
     "name": "stdout",
     "output_type": "stream",
     "text": [
      "292\n",
      "292\n"
     ]
    },
    {
     "name": "stderr",
     "output_type": "stream",
     "text": [
      "/home/neft/anaconda3/envs/ai/lib/python3.7/site-packages/ase/data/pubchem.py:85: UserWarning: The structure \"3292\" has more than one conformer in PubChem. By default, the first conformer is returned, please ensure you are using the structure you intend to or use the `ase.data.pubchem.pubchem_conformer_search` function\n",
      "  ' function'.format(search))\n"
     ]
    },
    {
     "name": "stdout",
     "output_type": "stream",
     "text": [
      "293\n",
      "293\n"
     ]
    },
    {
     "name": "stderr",
     "output_type": "stream",
     "text": [
      "/home/neft/anaconda3/envs/ai/lib/python3.7/site-packages/ase/data/pubchem.py:85: UserWarning: The structure \"5538\" has more than one conformer in PubChem. By default, the first conformer is returned, please ensure you are using the structure you intend to or use the `ase.data.pubchem.pubchem_conformer_search` function\n",
      "  ' function'.format(search))\n"
     ]
    },
    {
     "name": "stdout",
     "output_type": "stream",
     "text": [
      "294\n",
      "294\n"
     ]
    },
    {
     "name": "stderr",
     "output_type": "stream",
     "text": [
      "/home/neft/anaconda3/envs/ai/lib/python3.7/site-packages/ase/data/pubchem.py:85: UserWarning: The structure \"3598\" has more than one conformer in PubChem. By default, the first conformer is returned, please ensure you are using the structure you intend to or use the `ase.data.pubchem.pubchem_conformer_search` function\n",
      "  ' function'.format(search))\n"
     ]
    },
    {
     "name": "stdout",
     "output_type": "stream",
     "text": [
      "295\n",
      "295\n"
     ]
    },
    {
     "name": "stderr",
     "output_type": "stream",
     "text": [
      "/home/neft/anaconda3/envs/ai/lib/python3.7/site-packages/ase/data/pubchem.py:85: UserWarning: The structure \"3033818\" has more than one conformer in PubChem. By default, the first conformer is returned, please ensure you are using the structure you intend to or use the `ase.data.pubchem.pubchem_conformer_search` function\n",
      "  ' function'.format(search))\n"
     ]
    },
    {
     "name": "stdout",
     "output_type": "stream",
     "text": [
      "296\n",
      "296\n"
     ]
    },
    {
     "name": "stderr",
     "output_type": "stream",
     "text": [
      "/home/neft/anaconda3/envs/ai/lib/python3.7/site-packages/ase/data/pubchem.py:85: UserWarning: The structure \"60606\" has more than one conformer in PubChem. By default, the first conformer is returned, please ensure you are using the structure you intend to or use the `ase.data.pubchem.pubchem_conformer_search` function\n",
      "  ' function'.format(search))\n"
     ]
    },
    {
     "name": "stdout",
     "output_type": "stream",
     "text": [
      "297\n",
      "297\n"
     ]
    },
    {
     "name": "stderr",
     "output_type": "stream",
     "text": [
      "/home/neft/anaconda3/envs/ai/lib/python3.7/site-packages/ase/data/pubchem.py:85: UserWarning: The structure \"441350\" has more than one conformer in PubChem. By default, the first conformer is returned, please ensure you are using the structure you intend to or use the `ase.data.pubchem.pubchem_conformer_search` function\n",
      "  ' function'.format(search))\n"
     ]
    },
    {
     "name": "stdout",
     "output_type": "stream",
     "text": [
      "298\n",
      "298\n"
     ]
    },
    {
     "name": "stderr",
     "output_type": "stream",
     "text": [
      "/home/neft/anaconda3/envs/ai/lib/python3.7/site-packages/ase/data/pubchem.py:85: UserWarning: The structure \"5280980\" has more than one conformer in PubChem. By default, the first conformer is returned, please ensure you are using the structure you intend to or use the `ase.data.pubchem.pubchem_conformer_search` function\n",
      "  ' function'.format(search))\n"
     ]
    },
    {
     "name": "stdout",
     "output_type": "stream",
     "text": [
      "299\n",
      "299\n"
     ]
    },
    {
     "name": "stderr",
     "output_type": "stream",
     "text": [
      "/home/neft/anaconda3/envs/ai/lib/python3.7/site-packages/ase/data/pubchem.py:85: UserWarning: The structure \"2784\" has more than one conformer in PubChem. By default, the first conformer is returned, please ensure you are using the structure you intend to or use the `ase.data.pubchem.pubchem_conformer_search` function\n",
      "  ' function'.format(search))\n"
     ]
    },
    {
     "name": "stdout",
     "output_type": "stream",
     "text": [
      "300\n",
      "300\n"
     ]
    },
    {
     "name": "stderr",
     "output_type": "stream",
     "text": [
      "/home/neft/anaconda3/envs/ai/lib/python3.7/site-packages/ase/data/pubchem.py:85: UserWarning: The structure \"4004\" has more than one conformer in PubChem. By default, the first conformer is returned, please ensure you are using the structure you intend to or use the `ase.data.pubchem.pubchem_conformer_search` function\n",
      "  ' function'.format(search))\n"
     ]
    },
    {
     "name": "stdout",
     "output_type": "stream",
     "text": [
      "301\n",
      "301\n"
     ]
    },
    {
     "name": "stderr",
     "output_type": "stream",
     "text": [
      "/home/neft/anaconda3/envs/ai/lib/python3.7/site-packages/ase/data/pubchem.py:85: UserWarning: The structure \"3647\" has more than one conformer in PubChem. By default, the first conformer is returned, please ensure you are using the structure you intend to or use the `ase.data.pubchem.pubchem_conformer_search` function\n",
      "  ' function'.format(search))\n"
     ]
    },
    {
     "name": "stdout",
     "output_type": "stream",
     "text": [
      "302\n",
      "302\n"
     ]
    },
    {
     "name": "stderr",
     "output_type": "stream",
     "text": [
      "/home/neft/anaconda3/envs/ai/lib/python3.7/site-packages/ase/data/pubchem.py:85: UserWarning: The structure \"4421\" has more than one conformer in PubChem. By default, the first conformer is returned, please ensure you are using the structure you intend to or use the `ase.data.pubchem.pubchem_conformer_search` function\n",
      "  ' function'.format(search))\n"
     ]
    },
    {
     "name": "stdout",
     "output_type": "stream",
     "text": [
      "303\n",
      "303\n"
     ]
    },
    {
     "name": "stderr",
     "output_type": "stream",
     "text": [
      "/home/neft/anaconda3/envs/ai/lib/python3.7/site-packages/ase/data/pubchem.py:85: UserWarning: The structure \"3675\" has more than one conformer in PubChem. By default, the first conformer is returned, please ensure you are using the structure you intend to or use the `ase.data.pubchem.pubchem_conformer_search` function\n",
      "  ' function'.format(search))\n"
     ]
    },
    {
     "name": "stdout",
     "output_type": "stream",
     "text": [
      "304\n",
      "304\n",
      "305\n",
      "305\n"
     ]
    },
    {
     "name": "stderr",
     "output_type": "stream",
     "text": [
      "/home/neft/anaconda3/envs/ai/lib/python3.7/site-packages/ase/data/pubchem.py:85: UserWarning: The structure \"4044\" has more than one conformer in PubChem. By default, the first conformer is returned, please ensure you are using the structure you intend to or use the `ase.data.pubchem.pubchem_conformer_search` function\n",
      "  ' function'.format(search))\n"
     ]
    },
    {
     "name": "stdout",
     "output_type": "stream",
     "text": [
      "306\n",
      "306\n"
     ]
    },
    {
     "name": "stderr",
     "output_type": "stream",
     "text": [
      "/home/neft/anaconda3/envs/ai/lib/python3.7/site-packages/ase/data/pubchem.py:85: UserWarning: The structure \"135398513\" has more than one conformer in PubChem. By default, the first conformer is returned, please ensure you are using the structure you intend to or use the `ase.data.pubchem.pubchem_conformer_search` function\n",
      "  ' function'.format(search))\n"
     ]
    },
    {
     "name": "stdout",
     "output_type": "stream",
     "text": [
      "307\n",
      "307\n"
     ]
    },
    {
     "name": "stderr",
     "output_type": "stream",
     "text": [
      "/home/neft/anaconda3/envs/ai/lib/python3.7/site-packages/ase/data/pubchem.py:85: UserWarning: The structure \"156391\" has more than one conformer in PubChem. By default, the first conformer is returned, please ensure you are using the structure you intend to or use the `ase.data.pubchem.pubchem_conformer_search` function\n",
      "  ' function'.format(search))\n"
     ]
    },
    {
     "name": "stdout",
     "output_type": "stream",
     "text": [
      "308\n",
      "308\n"
     ]
    },
    {
     "name": "stderr",
     "output_type": "stream",
     "text": [
      "/home/neft/anaconda3/envs/ai/lib/python3.7/site-packages/ase/data/pubchem.py:85: UserWarning: The structure \"6194\" has more than one conformer in PubChem. By default, the first conformer is returned, please ensure you are using the structure you intend to or use the `ase.data.pubchem.pubchem_conformer_search` function\n",
      "  ' function'.format(search))\n"
     ]
    },
    {
     "name": "stdout",
     "output_type": "stream",
     "text": [
      "309\n",
      "309\n"
     ]
    },
    {
     "name": "stderr",
     "output_type": "stream",
     "text": [
      "/home/neft/anaconda3/envs/ai/lib/python3.7/site-packages/ase/data/pubchem.py:85: UserWarning: The structure \"4909\" has more than one conformer in PubChem. By default, the first conformer is returned, please ensure you are using the structure you intend to or use the `ase.data.pubchem.pubchem_conformer_search` function\n",
      "  ' function'.format(search))\n"
     ]
    },
    {
     "name": "stdout",
     "output_type": "stream",
     "text": [
      "310\n",
      "310\n"
     ]
    },
    {
     "name": "stderr",
     "output_type": "stream",
     "text": [
      "/home/neft/anaconda3/envs/ai/lib/python3.7/site-packages/ase/data/pubchem.py:85: UserWarning: The structure \"5339\" has more than one conformer in PubChem. By default, the first conformer is returned, please ensure you are using the structure you intend to or use the `ase.data.pubchem.pubchem_conformer_search` function\n",
      "  ' function'.format(search))\n"
     ]
    },
    {
     "name": "stdout",
     "output_type": "stream",
     "text": [
      "311\n",
      "311\n"
     ]
    },
    {
     "name": "stderr",
     "output_type": "stream",
     "text": [
      "/home/neft/anaconda3/envs/ai/lib/python3.7/site-packages/ase/data/pubchem.py:85: UserWarning: The structure \"5504\" has more than one conformer in PubChem. By default, the first conformer is returned, please ensure you are using the structure you intend to or use the `ase.data.pubchem.pubchem_conformer_search` function\n",
      "  ' function'.format(search))\n"
     ]
    },
    {
     "name": "stdout",
     "output_type": "stream",
     "text": [
      "312\n",
      "312\n"
     ]
    },
    {
     "name": "stderr",
     "output_type": "stream",
     "text": [
      "/home/neft/anaconda3/envs/ai/lib/python3.7/site-packages/ase/data/pubchem.py:85: UserWarning: The structure \"31640\" has more than one conformer in PubChem. By default, the first conformer is returned, please ensure you are using the structure you intend to or use the `ase.data.pubchem.pubchem_conformer_search` function\n",
      "  ' function'.format(search))\n"
     ]
    },
    {
     "name": "stdout",
     "output_type": "stream",
     "text": [
      "313\n",
      "313\n"
     ]
    },
    {
     "name": "stderr",
     "output_type": "stream",
     "text": [
      "/home/neft/anaconda3/envs/ai/lib/python3.7/site-packages/ase/data/pubchem.py:85: UserWarning: The structure \"4199\" has more than one conformer in PubChem. By default, the first conformer is returned, please ensure you are using the structure you intend to or use the `ase.data.pubchem.pubchem_conformer_search` function\n",
      "  ' function'.format(search))\n"
     ]
    },
    {
     "name": "stdout",
     "output_type": "stream",
     "text": [
      "314\n",
      "314\n"
     ]
    },
    {
     "name": "stderr",
     "output_type": "stream",
     "text": [
      "/home/neft/anaconda3/envs/ai/lib/python3.7/site-packages/ase/data/pubchem.py:85: UserWarning: The structure \"4740\" has more than one conformer in PubChem. By default, the first conformer is returned, please ensure you are using the structure you intend to or use the `ase.data.pubchem.pubchem_conformer_search` function\n",
      "  ' function'.format(search))\n"
     ]
    },
    {
     "name": "stdout",
     "output_type": "stream",
     "text": [
      "315\n",
      "315\n"
     ]
    },
    {
     "name": "stderr",
     "output_type": "stream",
     "text": [
      "/home/neft/anaconda3/envs/ai/lib/python3.7/site-packages/ase/data/pubchem.py:85: UserWarning: The structure \"4935\" has more than one conformer in PubChem. By default, the first conformer is returned, please ensure you are using the structure you intend to or use the `ase.data.pubchem.pubchem_conformer_search` function\n",
      "  ' function'.format(search))\n"
     ]
    },
    {
     "name": "stdout",
     "output_type": "stream",
     "text": [
      "316\n",
      "316\n"
     ]
    },
    {
     "name": "stderr",
     "output_type": "stream",
     "text": [
      "/home/neft/anaconda3/envs/ai/lib/python3.7/site-packages/ase/data/pubchem.py:85: UserWarning: The structure \"3702\" has more than one conformer in PubChem. By default, the first conformer is returned, please ensure you are using the structure you intend to or use the `ase.data.pubchem.pubchem_conformer_search` function\n",
      "  ' function'.format(search))\n"
     ]
    },
    {
     "name": "stdout",
     "output_type": "stream",
     "text": [
      "317\n",
      "317\n"
     ]
    },
    {
     "name": "stderr",
     "output_type": "stream",
     "text": [
      "/home/neft/anaconda3/envs/ai/lib/python3.7/site-packages/ase/data/pubchem.py:85: UserWarning: The structure \"5593\" has more than one conformer in PubChem. By default, the first conformer is returned, please ensure you are using the structure you intend to or use the `ase.data.pubchem.pubchem_conformer_search` function\n",
      "  ' function'.format(search))\n"
     ]
    },
    {
     "name": "stdout",
     "output_type": "stream",
     "text": [
      "318\n",
      "318\n"
     ]
    },
    {
     "name": "stderr",
     "output_type": "stream",
     "text": [
      "/home/neft/anaconda3/envs/ai/lib/python3.7/site-packages/ase/data/pubchem.py:85: UserWarning: The structure \"2381\" has more than one conformer in PubChem. By default, the first conformer is returned, please ensure you are using the structure you intend to or use the `ase.data.pubchem.pubchem_conformer_search` function\n",
      "  ' function'.format(search))\n"
     ]
    },
    {
     "name": "stdout",
     "output_type": "stream",
     "text": [
      "319\n",
      "319\n"
     ]
    },
    {
     "name": "stderr",
     "output_type": "stream",
     "text": [
      "/home/neft/anaconda3/envs/ai/lib/python3.7/site-packages/ase/data/pubchem.py:85: UserWarning: The structure \"37542\" has more than one conformer in PubChem. By default, the first conformer is returned, please ensure you are using the structure you intend to or use the `ase.data.pubchem.pubchem_conformer_search` function\n",
      "  ' function'.format(search))\n"
     ]
    },
    {
     "name": "stdout",
     "output_type": "stream",
     "text": [
      "320\n",
      "320\n"
     ]
    },
    {
     "name": "stderr",
     "output_type": "stream",
     "text": [
      "/home/neft/anaconda3/envs/ai/lib/python3.7/site-packages/ase/data/pubchem.py:85: UserWarning: The structure \"4781\" has more than one conformer in PubChem. By default, the first conformer is returned, please ensure you are using the structure you intend to or use the `ase.data.pubchem.pubchem_conformer_search` function\n",
      "  ' function'.format(search))\n"
     ]
    },
    {
     "name": "stdout",
     "output_type": "stream",
     "text": [
      "321\n",
      "321\n"
     ]
    },
    {
     "name": "stderr",
     "output_type": "stream",
     "text": [
      "/home/neft/anaconda3/envs/ai/lib/python3.7/site-packages/ase/data/pubchem.py:85: UserWarning: The structure \"3345\" has more than one conformer in PubChem. By default, the first conformer is returned, please ensure you are using the structure you intend to or use the `ase.data.pubchem.pubchem_conformer_search` function\n",
      "  ' function'.format(search))\n"
     ]
    },
    {
     "name": "stdout",
     "output_type": "stream",
     "text": [
      "322\n",
      "322\n"
     ]
    },
    {
     "name": "stderr",
     "output_type": "stream",
     "text": [
      "/home/neft/anaconda3/envs/ai/lib/python3.7/site-packages/ase/data/pubchem.py:85: UserWarning: The structure \"54677470\" has more than one conformer in PubChem. By default, the first conformer is returned, please ensure you are using the structure you intend to or use the `ase.data.pubchem.pubchem_conformer_search` function\n",
      "  ' function'.format(search))\n"
     ]
    },
    {
     "name": "stdout",
     "output_type": "stream",
     "text": [
      "323\n",
      "323\n"
     ]
    },
    {
     "name": "stderr",
     "output_type": "stream",
     "text": [
      "/home/neft/anaconda3/envs/ai/lib/python3.7/site-packages/ase/data/pubchem.py:85: UserWarning: The structure \"4086\" has more than one conformer in PubChem. By default, the first conformer is returned, please ensure you are using the structure you intend to or use the `ase.data.pubchem.pubchem_conformer_search` function\n",
      "  ' function'.format(search))\n"
     ]
    },
    {
     "name": "stdout",
     "output_type": "stream",
     "text": [
      "324\n",
      "324\n"
     ]
    },
    {
     "name": "stderr",
     "output_type": "stream",
     "text": [
      "/home/neft/anaconda3/envs/ai/lib/python3.7/site-packages/ase/data/pubchem.py:85: UserWarning: The structure \"287180\" has more than one conformer in PubChem. By default, the first conformer is returned, please ensure you are using the structure you intend to or use the `ase.data.pubchem.pubchem_conformer_search` function\n",
      "  ' function'.format(search))\n"
     ]
    },
    {
     "name": "stdout",
     "output_type": "stream",
     "text": [
      "325\n",
      "325\n"
     ]
    },
    {
     "name": "stderr",
     "output_type": "stream",
     "text": [
      "/home/neft/anaconda3/envs/ai/lib/python3.7/site-packages/ase/data/pubchem.py:85: UserWarning: The structure \"4943\" has more than one conformer in PubChem. By default, the first conformer is returned, please ensure you are using the structure you intend to or use the `ase.data.pubchem.pubchem_conformer_search` function\n",
      "  ' function'.format(search))\n"
     ]
    },
    {
     "name": "stdout",
     "output_type": "stream",
     "text": [
      "326\n",
      "326\n"
     ]
    },
    {
     "name": "stderr",
     "output_type": "stream",
     "text": [
      "/home/neft/anaconda3/envs/ai/lib/python3.7/site-packages/ase/data/pubchem.py:85: UserWarning: The structure \"110635\" has more than one conformer in PubChem. By default, the first conformer is returned, please ensure you are using the structure you intend to or use the `ase.data.pubchem.pubchem_conformer_search` function\n",
      "  ' function'.format(search))\n"
     ]
    },
    {
     "name": "stdout",
     "output_type": "stream",
     "text": [
      "327\n",
      "327\n"
     ]
    },
    {
     "name": "stderr",
     "output_type": "stream",
     "text": [
      "/home/neft/anaconda3/envs/ai/lib/python3.7/site-packages/ase/data/pubchem.py:85: UserWarning: The structure \"2581\" has more than one conformer in PubChem. By default, the first conformer is returned, please ensure you are using the structure you intend to or use the `ase.data.pubchem.pubchem_conformer_search` function\n",
      "  ' function'.format(search))\n"
     ]
    },
    {
     "name": "stdout",
     "output_type": "stream",
     "text": [
      "328\n",
      "328\n"
     ]
    },
    {
     "name": "stderr",
     "output_type": "stream",
     "text": [
      "/home/neft/anaconda3/envs/ai/lib/python3.7/site-packages/ase/data/pubchem.py:85: UserWarning: The structure \"3117\" has more than one conformer in PubChem. By default, the first conformer is returned, please ensure you are using the structure you intend to or use the `ase.data.pubchem.pubchem_conformer_search` function\n",
      "  ' function'.format(search))\n"
     ]
    },
    {
     "name": "stdout",
     "output_type": "stream",
     "text": [
      "329\n",
      "329\n"
     ]
    },
    {
     "name": "stderr",
     "output_type": "stream",
     "text": [
      "/home/neft/anaconda3/envs/ai/lib/python3.7/site-packages/ase/data/pubchem.py:85: UserWarning: The structure \"1676\" has more than one conformer in PubChem. By default, the first conformer is returned, please ensure you are using the structure you intend to or use the `ase.data.pubchem.pubchem_conformer_search` function\n",
      "  ' function'.format(search))\n"
     ]
    },
    {
     "name": "stdout",
     "output_type": "stream",
     "text": [
      "330\n",
      "330\n"
     ]
    },
    {
     "name": "stderr",
     "output_type": "stream",
     "text": [
      "/home/neft/anaconda3/envs/ai/lib/python3.7/site-packages/ase/data/pubchem.py:85: UserWarning: The structure \"16666\" has more than one conformer in PubChem. By default, the first conformer is returned, please ensure you are using the structure you intend to or use the `ase.data.pubchem.pubchem_conformer_search` function\n",
      "  ' function'.format(search))\n"
     ]
    },
    {
     "name": "stdout",
     "output_type": "stream",
     "text": [
      "331\n",
      "331\n"
     ]
    },
    {
     "name": "stderr",
     "output_type": "stream",
     "text": [
      "/home/neft/anaconda3/envs/ai/lib/python3.7/site-packages/ase/data/pubchem.py:85: UserWarning: The structure \"2762\" has more than one conformer in PubChem. By default, the first conformer is returned, please ensure you are using the structure you intend to or use the `ase.data.pubchem.pubchem_conformer_search` function\n",
      "  ' function'.format(search))\n"
     ]
    },
    {
     "name": "stdout",
     "output_type": "stream",
     "text": [
      "332\n",
      "332\n"
     ]
    },
    {
     "name": "stderr",
     "output_type": "stream",
     "text": [
      "/home/neft/anaconda3/envs/ai/lib/python3.7/site-packages/ase/data/pubchem.py:85: UserWarning: The structure \"3016\" has more than one conformer in PubChem. By default, the first conformer is returned, please ensure you are using the structure you intend to or use the `ase.data.pubchem.pubchem_conformer_search` function\n",
      "  ' function'.format(search))\n"
     ]
    },
    {
     "name": "stdout",
     "output_type": "stream",
     "text": [
      "333\n",
      "333\n"
     ]
    },
    {
     "name": "stderr",
     "output_type": "stream",
     "text": [
      "/home/neft/anaconda3/envs/ai/lib/python3.7/site-packages/ase/data/pubchem.py:85: UserWarning: The structure \"4762\" has more than one conformer in PubChem. By default, the first conformer is returned, please ensure you are using the structure you intend to or use the `ase.data.pubchem.pubchem_conformer_search` function\n",
      "  ' function'.format(search))\n"
     ]
    },
    {
     "name": "stdout",
     "output_type": "stream",
     "text": [
      "334\n",
      "334\n"
     ]
    },
    {
     "name": "stderr",
     "output_type": "stream",
     "text": [
      "/home/neft/anaconda3/envs/ai/lib/python3.7/site-packages/ase/data/pubchem.py:85: UserWarning: The structure \"6839\" has more than one conformer in PubChem. By default, the first conformer is returned, please ensure you are using the structure you intend to or use the `ase.data.pubchem.pubchem_conformer_search` function\n",
      "  ' function'.format(search))\n"
     ]
    },
    {
     "name": "stdout",
     "output_type": "stream",
     "text": [
      "335\n",
      "335\n"
     ]
    },
    {
     "name": "stderr",
     "output_type": "stream",
     "text": [
      "/home/neft/anaconda3/envs/ai/lib/python3.7/site-packages/ase/data/pubchem.py:85: UserWarning: The structure \"51039\" has more than one conformer in PubChem. By default, the first conformer is returned, please ensure you are using the structure you intend to or use the `ase.data.pubchem.pubchem_conformer_search` function\n",
      "  ' function'.format(search))\n"
     ]
    },
    {
     "name": "stdout",
     "output_type": "stream",
     "text": [
      "336\n",
      "336\n"
     ]
    },
    {
     "name": "stderr",
     "output_type": "stream",
     "text": [
      "/home/neft/anaconda3/envs/ai/lib/python3.7/site-packages/ase/data/pubchem.py:85: UserWarning: The structure \"44115\" has more than one conformer in PubChem. By default, the first conformer is returned, please ensure you are using the structure you intend to or use the `ase.data.pubchem.pubchem_conformer_search` function\n",
      "  ' function'.format(search))\n"
     ]
    },
    {
     "name": "stdout",
     "output_type": "stream",
     "text": [
      "337\n",
      "337\n"
     ]
    },
    {
     "name": "stderr",
     "output_type": "stream",
     "text": [
      "/home/neft/anaconda3/envs/ai/lib/python3.7/site-packages/ase/data/pubchem.py:85: UserWarning: The structure \"5503\" has more than one conformer in PubChem. By default, the first conformer is returned, please ensure you are using the structure you intend to or use the `ase.data.pubchem.pubchem_conformer_search` function\n",
      "  ' function'.format(search))\n"
     ]
    },
    {
     "name": "stdout",
     "output_type": "stream",
     "text": [
      "338\n",
      "338\n"
     ]
    },
    {
     "name": "stderr",
     "output_type": "stream",
     "text": [
      "/home/neft/anaconda3/envs/ai/lib/python3.7/site-packages/ase/data/pubchem.py:85: UserWarning: The structure \"36811\" has more than one conformer in PubChem. By default, the first conformer is returned, please ensure you are using the structure you intend to or use the `ase.data.pubchem.pubchem_conformer_search` function\n",
      "  ' function'.format(search))\n"
     ]
    },
    {
     "name": "stdout",
     "output_type": "stream",
     "text": [
      "339\n",
      "339\n"
     ]
    },
    {
     "name": "stderr",
     "output_type": "stream",
     "text": [
      "/home/neft/anaconda3/envs/ai/lib/python3.7/site-packages/ase/data/pubchem.py:85: UserWarning: The structure \"4616\" has more than one conformer in PubChem. By default, the first conformer is returned, please ensure you are using the structure you intend to or use the `ase.data.pubchem.pubchem_conformer_search` function\n",
      "  ' function'.format(search))\n"
     ]
    },
    {
     "name": "stdout",
     "output_type": "stream",
     "text": [
      "340\n",
      "340\n"
     ]
    },
    {
     "name": "stderr",
     "output_type": "stream",
     "text": [
      "/home/neft/anaconda3/envs/ai/lib/python3.7/site-packages/ase/data/pubchem.py:85: UserWarning: The structure \"5311304\" has more than one conformer in PubChem. By default, the first conformer is returned, please ensure you are using the structure you intend to or use the `ase.data.pubchem.pubchem_conformer_search` function\n",
      "  ' function'.format(search))\n"
     ]
    },
    {
     "name": "stdout",
     "output_type": "stream",
     "text": [
      "341\n",
      "341\n"
     ]
    },
    {
     "name": "stderr",
     "output_type": "stream",
     "text": [
      "/home/neft/anaconda3/envs/ai/lib/python3.7/site-packages/ase/data/pubchem.py:85: UserWarning: The structure \"2794\" has more than one conformer in PubChem. By default, the first conformer is returned, please ensure you are using the structure you intend to or use the `ase.data.pubchem.pubchem_conformer_search` function\n",
      "  ' function'.format(search))\n"
     ]
    },
    {
     "name": "stdout",
     "output_type": "stream",
     "text": [
      "342\n",
      "342\n"
     ]
    },
    {
     "name": "stderr",
     "output_type": "stream",
     "text": [
      "/home/neft/anaconda3/envs/ai/lib/python3.7/site-packages/ase/data/pubchem.py:85: UserWarning: The structure \"26879\" has more than one conformer in PubChem. By default, the first conformer is returned, please ensure you are using the structure you intend to or use the `ase.data.pubchem.pubchem_conformer_search` function\n",
      "  ' function'.format(search))\n"
     ]
    },
    {
     "name": "stdout",
     "output_type": "stream",
     "text": [
      "343\n",
      "343\n"
     ]
    },
    {
     "name": "stderr",
     "output_type": "stream",
     "text": [
      "/home/neft/anaconda3/envs/ai/lib/python3.7/site-packages/ase/data/pubchem.py:85: UserWarning: The structure \"8271\" has more than one conformer in PubChem. By default, the first conformer is returned, please ensure you are using the structure you intend to or use the `ase.data.pubchem.pubchem_conformer_search` function\n",
      "  ' function'.format(search))\n"
     ]
    },
    {
     "name": "stdout",
     "output_type": "stream",
     "text": [
      "344\n",
      "344\n"
     ]
    },
    {
     "name": "stderr",
     "output_type": "stream",
     "text": [
      "/home/neft/anaconda3/envs/ai/lib/python3.7/site-packages/ase/data/pubchem.py:85: UserWarning: The structure \"4748\" has more than one conformer in PubChem. By default, the first conformer is returned, please ensure you are using the structure you intend to or use the `ase.data.pubchem.pubchem_conformer_search` function\n",
      "  ' function'.format(search))\n"
     ]
    },
    {
     "name": "stdout",
     "output_type": "stream",
     "text": [
      "345\n",
      "345\n"
     ]
    },
    {
     "name": "stderr",
     "output_type": "stream",
     "text": [
      "/home/neft/anaconda3/envs/ai/lib/python3.7/site-packages/ase/data/pubchem.py:85: UserWarning: The structure \"135398738\" has more than one conformer in PubChem. By default, the first conformer is returned, please ensure you are using the structure you intend to or use the `ase.data.pubchem.pubchem_conformer_search` function\n",
      "  ' function'.format(search))\n"
     ]
    },
    {
     "name": "stdout",
     "output_type": "stream",
     "text": [
      "346\n",
      "346\n"
     ]
    },
    {
     "name": "stderr",
     "output_type": "stream",
     "text": [
      "/home/neft/anaconda3/envs/ai/lib/python3.7/site-packages/ase/data/pubchem.py:85: UserWarning: The structure \"7028\" has more than one conformer in PubChem. By default, the first conformer is returned, please ensure you are using the structure you intend to or use the `ase.data.pubchem.pubchem_conformer_search` function\n",
      "  ' function'.format(search))\n"
     ]
    },
    {
     "name": "stdout",
     "output_type": "stream",
     "text": [
      "347\n",
      "347\n",
      "348\n",
      "348\n"
     ]
    },
    {
     "name": "stderr",
     "output_type": "stream",
     "text": [
      "/home/neft/anaconda3/envs/ai/lib/python3.7/site-packages/ase/data/pubchem.py:85: UserWarning: The structure \"1549008\" has more than one conformer in PubChem. By default, the first conformer is returned, please ensure you are using the structure you intend to or use the `ase.data.pubchem.pubchem_conformer_search` function\n",
      "  ' function'.format(search))\n"
     ]
    },
    {
     "name": "stdout",
     "output_type": "stream",
     "text": [
      "349\n",
      "349\n",
      "350\n",
      "350\n"
     ]
    },
    {
     "name": "stderr",
     "output_type": "stream",
     "text": [
      "/home/neft/anaconda3/envs/ai/lib/python3.7/site-packages/ase/data/pubchem.py:85: UserWarning: The structure \"5755\" has more than one conformer in PubChem. By default, the first conformer is returned, please ensure you are using the structure you intend to or use the `ase.data.pubchem.pubchem_conformer_search` function\n",
      "  ' function'.format(search))\n"
     ]
    },
    {
     "name": "stdout",
     "output_type": "stream",
     "text": [
      "351\n",
      "351\n"
     ]
    },
    {
     "name": "stderr",
     "output_type": "stream",
     "text": [
      "/home/neft/anaconda3/envs/ai/lib/python3.7/site-packages/ase/data/pubchem.py:85: UserWarning: The structure \"3059\" has more than one conformer in PubChem. By default, the first conformer is returned, please ensure you are using the structure you intend to or use the `ase.data.pubchem.pubchem_conformer_search` function\n",
      "  ' function'.format(search))\n"
     ]
    },
    {
     "name": "stdout",
     "output_type": "stream",
     "text": [
      "352\n",
      "352\n"
     ]
    },
    {
     "name": "stderr",
     "output_type": "stream",
     "text": [
      "/home/neft/anaconda3/envs/ai/lib/python3.7/site-packages/ase/data/pubchem.py:85: UserWarning: The structure \"3001055\" has more than one conformer in PubChem. By default, the first conformer is returned, please ensure you are using the structure you intend to or use the `ase.data.pubchem.pubchem_conformer_search` function\n",
      "  ' function'.format(search))\n"
     ]
    },
    {
     "name": "stdout",
     "output_type": "stream",
     "text": [
      "353\n",
      "353\n"
     ]
    },
    {
     "name": "stderr",
     "output_type": "stream",
     "text": [
      "/home/neft/anaconda3/envs/ai/lib/python3.7/site-packages/ase/data/pubchem.py:85: UserWarning: The structure \"5311017\" has more than one conformer in PubChem. By default, the first conformer is returned, please ensure you are using the structure you intend to or use the `ase.data.pubchem.pubchem_conformer_search` function\n",
      "  ' function'.format(search))\n"
     ]
    },
    {
     "name": "stdout",
     "output_type": "stream",
     "text": [
      "354\n",
      "354\n"
     ]
    },
    {
     "name": "stderr",
     "output_type": "stream",
     "text": [
      "/home/neft/anaconda3/envs/ai/lib/python3.7/site-packages/ase/data/pubchem.py:85: UserWarning: The structure \"2119\" has more than one conformer in PubChem. By default, the first conformer is returned, please ensure you are using the structure you intend to or use the `ase.data.pubchem.pubchem_conformer_search` function\n",
      "  ' function'.format(search))\n"
     ]
    },
    {
     "name": "stdout",
     "output_type": "stream",
     "text": [
      "355\n",
      "355\n"
     ]
    },
    {
     "name": "stderr",
     "output_type": "stream",
     "text": [
      "/home/neft/anaconda3/envs/ai/lib/python3.7/site-packages/ase/data/pubchem.py:85: UserWarning: The structure \"33572\" has more than one conformer in PubChem. By default, the first conformer is returned, please ensure you are using the structure you intend to or use the `ase.data.pubchem.pubchem_conformer_search` function\n",
      "  ' function'.format(search))\n"
     ]
    },
    {
     "name": "stdout",
     "output_type": "stream",
     "text": [
      "356\n",
      "356\n"
     ]
    },
    {
     "name": "stderr",
     "output_type": "stream",
     "text": [
      "/home/neft/anaconda3/envs/ai/lib/python3.7/site-packages/ase/data/pubchem.py:85: UserWarning: The structure \"5284549\" has more than one conformer in PubChem. By default, the first conformer is returned, please ensure you are using the structure you intend to or use the `ase.data.pubchem.pubchem_conformer_search` function\n",
      "  ' function'.format(search))\n"
     ]
    },
    {
     "name": "stdout",
     "output_type": "stream",
     "text": [
      "357\n",
      "357\n"
     ]
    },
    {
     "name": "stderr",
     "output_type": "stream",
     "text": [
      "/home/neft/anaconda3/envs/ai/lib/python3.7/site-packages/ase/data/pubchem.py:85: UserWarning: The structure \"5359\" has more than one conformer in PubChem. By default, the first conformer is returned, please ensure you are using the structure you intend to or use the `ase.data.pubchem.pubchem_conformer_search` function\n",
      "  ' function'.format(search))\n"
     ]
    },
    {
     "name": "stdout",
     "output_type": "stream",
     "text": [
      "358\n",
      "358\n"
     ]
    },
    {
     "name": "stderr",
     "output_type": "stream",
     "text": [
      "/home/neft/anaconda3/envs/ai/lib/python3.7/site-packages/ase/data/pubchem.py:85: UserWarning: The structure \"5403\" has more than one conformer in PubChem. By default, the first conformer is returned, please ensure you are using the structure you intend to or use the `ase.data.pubchem.pubchem_conformer_search` function\n",
      "  ' function'.format(search))\n"
     ]
    },
    {
     "name": "stdout",
     "output_type": "stream",
     "text": [
      "359\n",
      "359\n"
     ]
    },
    {
     "name": "stderr",
     "output_type": "stream",
     "text": [
      "/home/neft/anaconda3/envs/ai/lib/python3.7/site-packages/ase/data/pubchem.py:85: UserWarning: The structure \"3516\" has more than one conformer in PubChem. By default, the first conformer is returned, please ensure you are using the structure you intend to or use the `ase.data.pubchem.pubchem_conformer_search` function\n",
      "  ' function'.format(search))\n"
     ]
    },
    {
     "name": "stdout",
     "output_type": "stream",
     "text": [
      "360\n",
      "360\n"
     ]
    },
    {
     "name": "stderr",
     "output_type": "stream",
     "text": [
      "/home/neft/anaconda3/envs/ai/lib/python3.7/site-packages/ase/data/pubchem.py:85: UserWarning: The structure \"60877\" has more than one conformer in PubChem. By default, the first conformer is returned, please ensure you are using the structure you intend to or use the `ase.data.pubchem.pubchem_conformer_search` function\n",
      "  ' function'.format(search))\n"
     ]
    },
    {
     "name": "stdout",
     "output_type": "stream",
     "text": [
      "361\n",
      "361\n"
     ]
    },
    {
     "name": "stderr",
     "output_type": "stream",
     "text": [
      "/home/neft/anaconda3/envs/ai/lib/python3.7/site-packages/ase/data/pubchem.py:85: UserWarning: The structure \"2720\" has more than one conformer in PubChem. By default, the first conformer is returned, please ensure you are using the structure you intend to or use the `ase.data.pubchem.pubchem_conformer_search` function\n",
      "  ' function'.format(search))\n"
     ]
    },
    {
     "name": "stdout",
     "output_type": "stream",
     "text": [
      "362\n",
      "362\n"
     ]
    },
    {
     "name": "stderr",
     "output_type": "stream",
     "text": [
      "/home/neft/anaconda3/envs/ai/lib/python3.7/site-packages/ase/data/pubchem.py:85: UserWarning: The structure \"6883\" has more than one conformer in PubChem. By default, the first conformer is returned, please ensure you are using the structure you intend to or use the `ase.data.pubchem.pubchem_conformer_search` function\n",
      "  ' function'.format(search))\n"
     ]
    },
    {
     "name": "stdout",
     "output_type": "stream",
     "text": [
      "363\n",
      "363\n"
     ]
    },
    {
     "name": "stderr",
     "output_type": "stream",
     "text": [
      "/home/neft/anaconda3/envs/ai/lib/python3.7/site-packages/ase/data/pubchem.py:85: UserWarning: The structure \"5245\" has more than one conformer in PubChem. By default, the first conformer is returned, please ensure you are using the structure you intend to or use the `ase.data.pubchem.pubchem_conformer_search` function\n",
      "  ' function'.format(search))\n"
     ]
    },
    {
     "name": "stdout",
     "output_type": "stream",
     "text": [
      "364\n",
      "364\n"
     ]
    },
    {
     "name": "stderr",
     "output_type": "stream",
     "text": [
      "/home/neft/anaconda3/envs/ai/lib/python3.7/site-packages/ase/data/pubchem.py:85: UserWarning: The structure \"2471\" has more than one conformer in PubChem. By default, the first conformer is returned, please ensure you are using the structure you intend to or use the `ase.data.pubchem.pubchem_conformer_search` function\n",
      "  ' function'.format(search))\n"
     ]
    },
    {
     "name": "stdout",
     "output_type": "stream",
     "text": [
      "365\n",
      "365\n"
     ]
    },
    {
     "name": "stderr",
     "output_type": "stream",
     "text": [
      "/home/neft/anaconda3/envs/ai/lib/python3.7/site-packages/ase/data/pubchem.py:85: UserWarning: The structure \"5284566\" has more than one conformer in PubChem. By default, the first conformer is returned, please ensure you are using the structure you intend to or use the `ase.data.pubchem.pubchem_conformer_search` function\n",
      "  ' function'.format(search))\n"
     ]
    },
    {
     "name": "stdout",
     "output_type": "stream",
     "text": [
      "366\n",
      "366\n"
     ]
    },
    {
     "name": "stderr",
     "output_type": "stream",
     "text": [
      "/home/neft/anaconda3/envs/ai/lib/python3.7/site-packages/ase/data/pubchem.py:85: UserWarning: The structure \"667476\" has more than one conformer in PubChem. By default, the first conformer is returned, please ensure you are using the structure you intend to or use the `ase.data.pubchem.pubchem_conformer_search` function\n",
      "  ' function'.format(search))\n"
     ]
    },
    {
     "name": "stdout",
     "output_type": "stream",
     "text": [
      "367\n",
      "367\n"
     ]
    },
    {
     "name": "stderr",
     "output_type": "stream",
     "text": [
      "/home/neft/anaconda3/envs/ai/lib/python3.7/site-packages/ase/data/pubchem.py:85: UserWarning: The structure \"5336\" has more than one conformer in PubChem. By default, the first conformer is returned, please ensure you are using the structure you intend to or use the `ase.data.pubchem.pubchem_conformer_search` function\n",
      "  ' function'.format(search))\n"
     ]
    },
    {
     "name": "stdout",
     "output_type": "stream",
     "text": [
      "368\n",
      "368\n"
     ]
    },
    {
     "name": "stderr",
     "output_type": "stream",
     "text": [
      "/home/neft/anaconda3/envs/ai/lib/python3.7/site-packages/ase/data/pubchem.py:85: UserWarning: The structure \"4633\" has more than one conformer in PubChem. By default, the first conformer is returned, please ensure you are using the structure you intend to or use the `ase.data.pubchem.pubchem_conformer_search` function\n",
      "  ' function'.format(search))\n"
     ]
    },
    {
     "name": "stdout",
     "output_type": "stream",
     "text": [
      "369\n",
      "369\n",
      "370\n",
      "370\n"
     ]
    },
    {
     "name": "stderr",
     "output_type": "stream",
     "text": [
      "/home/neft/anaconda3/envs/ai/lib/python3.7/site-packages/ase/data/pubchem.py:85: UserWarning: The structure \"5556\" has more than one conformer in PubChem. By default, the first conformer is returned, please ensure you are using the structure you intend to or use the `ase.data.pubchem.pubchem_conformer_search` function\n",
      "  ' function'.format(search))\n"
     ]
    },
    {
     "name": "stdout",
     "output_type": "stream",
     "text": [
      "371\n",
      "371\n"
     ]
    },
    {
     "name": "stderr",
     "output_type": "stream",
     "text": [
      "/home/neft/anaconda3/envs/ai/lib/python3.7/site-packages/ase/data/pubchem.py:85: UserWarning: The structure \"135398739\" has more than one conformer in PubChem. By default, the first conformer is returned, please ensure you are using the structure you intend to or use the `ase.data.pubchem.pubchem_conformer_search` function\n",
      "  ' function'.format(search))\n"
     ]
    },
    {
     "name": "stdout",
     "output_type": "stream",
     "text": [
      "372\n",
      "372\n"
     ]
    },
    {
     "name": "stderr",
     "output_type": "stream",
     "text": [
      "/home/neft/anaconda3/envs/ai/lib/python3.7/site-packages/ase/data/pubchem.py:85: UserWarning: The structure \"14677\" has more than one conformer in PubChem. By default, the first conformer is returned, please ensure you are using the structure you intend to or use the `ase.data.pubchem.pubchem_conformer_search` function\n",
      "  ' function'.format(search))\n"
     ]
    },
    {
     "name": "stdout",
     "output_type": "stream",
     "text": [
      "373\n",
      "373\n"
     ]
    },
    {
     "name": "stderr",
     "output_type": "stream",
     "text": [
      "/home/neft/anaconda3/envs/ai/lib/python3.7/site-packages/ase/data/pubchem.py:85: UserWarning: The structure \"3278\" has more than one conformer in PubChem. By default, the first conformer is returned, please ensure you are using the structure you intend to or use the `ase.data.pubchem.pubchem_conformer_search` function\n",
      "  ' function'.format(search))\n"
     ]
    },
    {
     "name": "stdout",
     "output_type": "stream",
     "text": [
      "374\n",
      "374\n"
     ]
    },
    {
     "name": "stderr",
     "output_type": "stream",
     "text": [
      "/home/neft/anaconda3/envs/ai/lib/python3.7/site-packages/ase/data/pubchem.py:85: UserWarning: The structure \"446220\" has more than one conformer in PubChem. By default, the first conformer is returned, please ensure you are using the structure you intend to or use the `ase.data.pubchem.pubchem_conformer_search` function\n",
      "  ' function'.format(search))\n"
     ]
    },
    {
     "name": "stdout",
     "output_type": "stream",
     "text": [
      "375\n",
      "375\n"
     ]
    },
    {
     "name": "stderr",
     "output_type": "stream",
     "text": [
      "/home/neft/anaconda3/envs/ai/lib/python3.7/site-packages/ase/data/pubchem.py:85: UserWarning: The structure \"441074\" has more than one conformer in PubChem. By default, the first conformer is returned, please ensure you are using the structure you intend to or use the `ase.data.pubchem.pubchem_conformer_search` function\n",
      "  ' function'.format(search))\n"
     ]
    },
    {
     "name": "stdout",
     "output_type": "stream",
     "text": [
      "376\n",
      "376\n"
     ]
    },
    {
     "name": "stderr",
     "output_type": "stream",
     "text": [
      "/home/neft/anaconda3/envs/ai/lib/python3.7/site-packages/ase/data/pubchem.py:85: UserWarning: The structure \"5734\" has more than one conformer in PubChem. By default, the first conformer is returned, please ensure you are using the structure you intend to or use the `ase.data.pubchem.pubchem_conformer_search` function\n",
      "  ' function'.format(search))\n"
     ]
    },
    {
     "name": "stdout",
     "output_type": "stream",
     "text": [
      "377\n",
      "377\n"
     ]
    },
    {
     "name": "stderr",
     "output_type": "stream",
     "text": [
      "/home/neft/anaconda3/envs/ai/lib/python3.7/site-packages/ase/data/pubchem.py:85: UserWarning: The structure \"5479\" has more than one conformer in PubChem. By default, the first conformer is returned, please ensure you are using the structure you intend to or use the `ase.data.pubchem.pubchem_conformer_search` function\n",
      "  ' function'.format(search))\n"
     ]
    },
    {
     "name": "stdout",
     "output_type": "stream",
     "text": [
      "378\n",
      "378\n"
     ]
    },
    {
     "name": "stderr",
     "output_type": "stream",
     "text": [
      "/home/neft/anaconda3/envs/ai/lib/python3.7/site-packages/ase/data/pubchem.py:85: UserWarning: The structure \"8944\" has more than one conformer in PubChem. By default, the first conformer is returned, please ensure you are using the structure you intend to or use the `ase.data.pubchem.pubchem_conformer_search` function\n",
      "  ' function'.format(search))\n"
     ]
    },
    {
     "name": "stdout",
     "output_type": "stream",
     "text": [
      "379\n",
      "379\n"
     ]
    },
    {
     "name": "stderr",
     "output_type": "stream",
     "text": [
      "/home/neft/anaconda3/envs/ai/lib/python3.7/site-packages/ase/data/pubchem.py:85: UserWarning: The structure \"8249\" has more than one conformer in PubChem. By default, the first conformer is returned, please ensure you are using the structure you intend to or use the `ase.data.pubchem.pubchem_conformer_search` function\n",
      "  ' function'.format(search))\n"
     ]
    },
    {
     "name": "stdout",
     "output_type": "stream",
     "text": [
      "380\n",
      "380\n",
      "381\n",
      "381\n"
     ]
    },
    {
     "name": "stderr",
     "output_type": "stream",
     "text": [
      "/home/neft/anaconda3/envs/ai/lib/python3.7/site-packages/ase/data/pubchem.py:85: UserWarning: The structure \"3827\" has more than one conformer in PubChem. By default, the first conformer is returned, please ensure you are using the structure you intend to or use the `ase.data.pubchem.pubchem_conformer_search` function\n",
      "  ' function'.format(search))\n"
     ]
    },
    {
     "name": "stdout",
     "output_type": "stream",
     "text": [
      "382\n",
      "382\n"
     ]
    },
    {
     "name": "stderr",
     "output_type": "stream",
     "text": [
      "/home/neft/anaconda3/envs/ai/lib/python3.7/site-packages/ase/data/pubchem.py:85: UserWarning: The structure \"2895\" has more than one conformer in PubChem. By default, the first conformer is returned, please ensure you are using the structure you intend to or use the `ase.data.pubchem.pubchem_conformer_search` function\n",
      "  ' function'.format(search))\n"
     ]
    },
    {
     "name": "stdout",
     "output_type": "stream",
     "text": [
      "383\n",
      "383\n"
     ]
    },
    {
     "name": "stderr",
     "output_type": "stream",
     "text": [
      "/home/neft/anaconda3/envs/ai/lib/python3.7/site-packages/ase/data/pubchem.py:85: UserWarning: The structure \"4768\" has more than one conformer in PubChem. By default, the first conformer is returned, please ensure you are using the structure you intend to or use the `ase.data.pubchem.pubchem_conformer_search` function\n",
      "  ' function'.format(search))\n"
     ]
    },
    {
     "name": "stdout",
     "output_type": "stream",
     "text": [
      "384\n",
      "384\n"
     ]
    },
    {
     "name": "stderr",
     "output_type": "stream",
     "text": [
      "/home/neft/anaconda3/envs/ai/lib/python3.7/site-packages/ase/data/pubchem.py:85: UserWarning: The structure \"3325\" has more than one conformer in PubChem. By default, the first conformer is returned, please ensure you are using the structure you intend to or use the `ase.data.pubchem.pubchem_conformer_search` function\n",
      "  ' function'.format(search))\n"
     ]
    },
    {
     "name": "stdout",
     "output_type": "stream",
     "text": [
      "385\n",
      "385\n"
     ]
    },
    {
     "name": "stderr",
     "output_type": "stream",
     "text": [
      "/home/neft/anaconda3/envs/ai/lib/python3.7/site-packages/ase/data/pubchem.py:85: UserWarning: The structure \"9444\" has more than one conformer in PubChem. By default, the first conformer is returned, please ensure you are using the structure you intend to or use the `ase.data.pubchem.pubchem_conformer_search` function\n",
      "  ' function'.format(search))\n"
     ]
    },
    {
     "name": "stdout",
     "output_type": "stream",
     "text": [
      "386\n",
      "386\n"
     ]
    },
    {
     "name": "stderr",
     "output_type": "stream",
     "text": [
      "/home/neft/anaconda3/envs/ai/lib/python3.7/site-packages/ase/data/pubchem.py:85: UserWarning: The structure \"4011\" has more than one conformer in PubChem. By default, the first conformer is returned, please ensure you are using the structure you intend to or use the `ase.data.pubchem.pubchem_conformer_search` function\n",
      "  ' function'.format(search))\n"
     ]
    },
    {
     "name": "stdout",
     "output_type": "stream",
     "text": [
      "387\n",
      "387\n"
     ]
    },
    {
     "name": "stderr",
     "output_type": "stream",
     "text": [
      "/home/neft/anaconda3/envs/ai/lib/python3.7/site-packages/ase/data/pubchem.py:85: UserWarning: The structure \"4636\" has more than one conformer in PubChem. By default, the first conformer is returned, please ensure you are using the structure you intend to or use the `ase.data.pubchem.pubchem_conformer_search` function\n",
      "  ' function'.format(search))\n"
     ]
    },
    {
     "name": "stdout",
     "output_type": "stream",
     "text": [
      "388\n",
      "388\n"
     ]
    },
    {
     "name": "stderr",
     "output_type": "stream",
     "text": [
      "/home/neft/anaconda3/envs/ai/lib/python3.7/site-packages/ase/data/pubchem.py:85: UserWarning: The structure \"7029\" has more than one conformer in PubChem. By default, the first conformer is returned, please ensure you are using the structure you intend to or use the `ase.data.pubchem.pubchem_conformer_search` function\n",
      "  ' function'.format(search))\n"
     ]
    },
    {
     "name": "stdout",
     "output_type": "stream",
     "text": [
      "389\n",
      "389\n"
     ]
    },
    {
     "name": "stderr",
     "output_type": "stream",
     "text": [
      "/home/neft/anaconda3/envs/ai/lib/python3.7/site-packages/ase/data/pubchem.py:85: UserWarning: The structure \"4037\" has more than one conformer in PubChem. By default, the first conformer is returned, please ensure you are using the structure you intend to or use the `ase.data.pubchem.pubchem_conformer_search` function\n",
      "  ' function'.format(search))\n"
     ]
    },
    {
     "name": "stdout",
     "output_type": "stream",
     "text": [
      "390\n",
      "390\n"
     ]
    },
    {
     "name": "stderr",
     "output_type": "stream",
     "text": [
      "/home/neft/anaconda3/envs/ai/lib/python3.7/site-packages/ase/data/pubchem.py:85: UserWarning: The structure \"2911\" has more than one conformer in PubChem. By default, the first conformer is returned, please ensure you are using the structure you intend to or use the `ase.data.pubchem.pubchem_conformer_search` function\n",
      "  ' function'.format(search))\n"
     ]
    },
    {
     "name": "stdout",
     "output_type": "stream",
     "text": [
      "391\n",
      "391\n"
     ]
    },
    {
     "name": "stderr",
     "output_type": "stream",
     "text": [
      "/home/neft/anaconda3/envs/ai/lib/python3.7/site-packages/ase/data/pubchem.py:85: UserWarning: The structure \"24066\" has more than one conformer in PubChem. By default, the first conformer is returned, please ensure you are using the structure you intend to or use the `ase.data.pubchem.pubchem_conformer_search` function\n",
      "  ' function'.format(search))\n"
     ]
    },
    {
     "name": "stdout",
     "output_type": "stream",
     "text": [
      "392\n",
      "392\n"
     ]
    },
    {
     "name": "stderr",
     "output_type": "stream",
     "text": [
      "/home/neft/anaconda3/envs/ai/lib/python3.7/site-packages/ase/data/pubchem.py:85: UserWarning: The structure \"54680692\" has more than one conformer in PubChem. By default, the first conformer is returned, please ensure you are using the structure you intend to or use the `ase.data.pubchem.pubchem_conformer_search` function\n",
      "  ' function'.format(search))\n"
     ]
    },
    {
     "name": "stdout",
     "output_type": "stream",
     "text": [
      "393\n",
      "393\n"
     ]
    },
    {
     "name": "stderr",
     "output_type": "stream",
     "text": [
      "/home/neft/anaconda3/envs/ai/lib/python3.7/site-packages/ase/data/pubchem.py:85: UserWarning: The structure \"3331\" has more than one conformer in PubChem. By default, the first conformer is returned, please ensure you are using the structure you intend to or use the `ase.data.pubchem.pubchem_conformer_search` function\n",
      "  ' function'.format(search))\n"
     ]
    },
    {
     "name": "stdout",
     "output_type": "stream",
     "text": [
      "394\n",
      "394\n"
     ]
    },
    {
     "name": "stderr",
     "output_type": "stream",
     "text": [
      "/home/neft/anaconda3/envs/ai/lib/python3.7/site-packages/ase/data/pubchem.py:85: UserWarning: The structure \"4440\" has more than one conformer in PubChem. By default, the first conformer is returned, please ensure you are using the structure you intend to or use the `ase.data.pubchem.pubchem_conformer_search` function\n",
      "  ' function'.format(search))\n"
     ]
    },
    {
     "name": "stdout",
     "output_type": "stream",
     "text": [
      "395\n",
      "395\n"
     ]
    },
    {
     "name": "stderr",
     "output_type": "stream",
     "text": [
      "/home/neft/anaconda3/envs/ai/lib/python3.7/site-packages/ase/data/pubchem.py:85: UserWarning: The structure \"5078\" has more than one conformer in PubChem. By default, the first conformer is returned, please ensure you are using the structure you intend to or use the `ase.data.pubchem.pubchem_conformer_search` function\n",
      "  ' function'.format(search))\n"
     ]
    },
    {
     "name": "stdout",
     "output_type": "stream",
     "text": [
      "396\n",
      "396\n",
      "397\n",
      "397\n"
     ]
    },
    {
     "name": "stderr",
     "output_type": "stream",
     "text": [
      "/home/neft/anaconda3/envs/ai/lib/python3.7/site-packages/ase/data/pubchem.py:85: UserWarning: The structure \"4828\" has more than one conformer in PubChem. By default, the first conformer is returned, please ensure you are using the structure you intend to or use the `ase.data.pubchem.pubchem_conformer_search` function\n",
      "  ' function'.format(search))\n"
     ]
    },
    {
     "name": "stdout",
     "output_type": "stream",
     "text": [
      "398\n",
      "398\n"
     ]
    },
    {
     "name": "stderr",
     "output_type": "stream",
     "text": [
      "/home/neft/anaconda3/envs/ai/lib/python3.7/site-packages/ase/data/pubchem.py:85: UserWarning: The structure \"4062\" has more than one conformer in PubChem. By default, the first conformer is returned, please ensure you are using the structure you intend to or use the `ase.data.pubchem.pubchem_conformer_search` function\n",
      "  ' function'.format(search))\n"
     ]
    },
    {
     "name": "stdout",
     "output_type": "stream",
     "text": [
      "399\n",
      "399\n"
     ]
    },
    {
     "name": "stderr",
     "output_type": "stream",
     "text": [
      "/home/neft/anaconda3/envs/ai/lib/python3.7/site-packages/ase/data/pubchem.py:85: UserWarning: The structure \"5719\" has more than one conformer in PubChem. By default, the first conformer is returned, please ensure you are using the structure you intend to or use the `ase.data.pubchem.pubchem_conformer_search` function\n",
      "  ' function'.format(search))\n"
     ]
    },
    {
     "name": "stdout",
     "output_type": "stream",
     "text": [
      "400\n",
      "400\n"
     ]
    },
    {
     "name": "stderr",
     "output_type": "stream",
     "text": [
      "/home/neft/anaconda3/envs/ai/lib/python3.7/site-packages/ase/data/pubchem.py:85: UserWarning: The structure \"38853\" has more than one conformer in PubChem. By default, the first conformer is returned, please ensure you are using the structure you intend to or use the `ase.data.pubchem.pubchem_conformer_search` function\n",
      "  ' function'.format(search))\n"
     ]
    },
    {
     "name": "stdout",
     "output_type": "stream",
     "text": [
      "401\n",
      "401\n"
     ]
    },
    {
     "name": "stderr",
     "output_type": "stream",
     "text": [
      "/home/neft/anaconda3/envs/ai/lib/python3.7/site-packages/ase/data/pubchem.py:85: UserWarning: The structure \"2267\" has more than one conformer in PubChem. By default, the first conformer is returned, please ensure you are using the structure you intend to or use the `ase.data.pubchem.pubchem_conformer_search` function\n",
      "  ' function'.format(search))\n"
     ]
    },
    {
     "name": "stdout",
     "output_type": "stream",
     "text": [
      "402\n",
      "402\n"
     ]
    },
    {
     "name": "stderr",
     "output_type": "stream",
     "text": [
      "/home/neft/anaconda3/envs/ai/lib/python3.7/site-packages/ase/data/pubchem.py:85: UserWarning: The structure \"150311\" has more than one conformer in PubChem. By default, the first conformer is returned, please ensure you are using the structure you intend to or use the `ase.data.pubchem.pubchem_conformer_search` function\n",
      "  ' function'.format(search))\n"
     ]
    },
    {
     "name": "stdout",
     "output_type": "stream",
     "text": [
      "403\n",
      "403\n"
     ]
    },
    {
     "name": "stderr",
     "output_type": "stream",
     "text": [
      "/home/neft/anaconda3/envs/ai/lib/python3.7/site-packages/ase/data/pubchem.py:85: UserWarning: The structure \"6049\" has more than one conformer in PubChem. By default, the first conformer is returned, please ensure you are using the structure you intend to or use the `ase.data.pubchem.pubchem_conformer_search` function\n",
      "  ' function'.format(search))\n"
     ]
    },
    {
     "name": "stdout",
     "output_type": "stream",
     "text": [
      "404\n",
      "404\n",
      "405\n",
      "405\n"
     ]
    },
    {
     "name": "stderr",
     "output_type": "stream",
     "text": [
      "/home/neft/anaconda3/envs/ai/lib/python3.7/site-packages/ase/data/pubchem.py:85: UserWarning: The structure \"3948\" has more than one conformer in PubChem. By default, the first conformer is returned, please ensure you are using the structure you intend to or use the `ase.data.pubchem.pubchem_conformer_search` function\n",
      "  ' function'.format(search))\n"
     ]
    },
    {
     "name": "stdout",
     "output_type": "stream",
     "text": [
      "406\n",
      "406\n"
     ]
    },
    {
     "name": "stderr",
     "output_type": "stream",
     "text": [
      "/home/neft/anaconda3/envs/ai/lib/python3.7/site-packages/ase/data/pubchem.py:85: UserWarning: The structure \"2905\" has more than one conformer in PubChem. By default, the first conformer is returned, please ensure you are using the structure you intend to or use the `ase.data.pubchem.pubchem_conformer_search` function\n",
      "  ' function'.format(search))\n"
     ]
    },
    {
     "name": "stdout",
     "output_type": "stream",
     "text": [
      "407\n",
      "407\n"
     ]
    },
    {
     "name": "stderr",
     "output_type": "stream",
     "text": [
      "/home/neft/anaconda3/envs/ai/lib/python3.7/site-packages/ase/data/pubchem.py:85: UserWarning: The structure \"5983\" has more than one conformer in PubChem. By default, the first conformer is returned, please ensure you are using the structure you intend to or use the `ase.data.pubchem.pubchem_conformer_search` function\n",
      "  ' function'.format(search))\n"
     ]
    },
    {
     "name": "stdout",
     "output_type": "stream",
     "text": [
      "408\n",
      "408\n"
     ]
    },
    {
     "name": "stderr",
     "output_type": "stream",
     "text": [
      "/home/neft/anaconda3/envs/ai/lib/python3.7/site-packages/ase/data/pubchem.py:85: UserWarning: The structure \"5282379\" has more than one conformer in PubChem. By default, the first conformer is returned, please ensure you are using the structure you intend to or use the `ase.data.pubchem.pubchem_conformer_search` function\n",
      "  ' function'.format(search))\n"
     ]
    },
    {
     "name": "stdout",
     "output_type": "stream",
     "text": [
      "409\n",
      "409\n"
     ]
    },
    {
     "name": "stderr",
     "output_type": "stream",
     "text": [
      "/home/neft/anaconda3/envs/ai/lib/python3.7/site-packages/ase/data/pubchem.py:85: UserWarning: The structure \"9933193\" has more than one conformer in PubChem. By default, the first conformer is returned, please ensure you are using the structure you intend to or use the `ase.data.pubchem.pubchem_conformer_search` function\n",
      "  ' function'.format(search))\n"
     ]
    },
    {
     "name": "stdout",
     "output_type": "stream",
     "text": [
      "410\n",
      "410\n"
     ]
    },
    {
     "name": "stderr",
     "output_type": "stream",
     "text": [
      "/home/neft/anaconda3/envs/ai/lib/python3.7/site-packages/ase/data/pubchem.py:85: UserWarning: The structure \"6253\" has more than one conformer in PubChem. By default, the first conformer is returned, please ensure you are using the structure you intend to or use the `ase.data.pubchem.pubchem_conformer_search` function\n",
      "  ' function'.format(search))\n"
     ]
    },
    {
     "name": "stdout",
     "output_type": "stream",
     "text": [
      "411\n",
      "411\n"
     ]
    },
    {
     "name": "stderr",
     "output_type": "stream",
     "text": [
      "/home/neft/anaconda3/envs/ai/lib/python3.7/site-packages/ase/data/pubchem.py:85: UserWarning: The structure \"681\" has more than one conformer in PubChem. By default, the first conformer is returned, please ensure you are using the structure you intend to or use the `ase.data.pubchem.pubchem_conformer_search` function\n",
      "  ' function'.format(search))\n"
     ]
    },
    {
     "name": "stdout",
     "output_type": "stream",
     "text": [
      "412\n",
      "412\n",
      "413\n",
      "413\n"
     ]
    },
    {
     "name": "stderr",
     "output_type": "stream",
     "text": [
      "/home/neft/anaconda3/envs/ai/lib/python3.7/site-packages/ase/data/pubchem.py:85: UserWarning: The structure \"4614\" has more than one conformer in PubChem. By default, the first conformer is returned, please ensure you are using the structure you intend to or use the `ase.data.pubchem.pubchem_conformer_search` function\n",
      "  ' function'.format(search))\n"
     ]
    },
    {
     "name": "stdout",
     "output_type": "stream",
     "text": [
      "414\n",
      "414\n"
     ]
    },
    {
     "name": "stderr",
     "output_type": "stream",
     "text": [
      "/home/neft/anaconda3/envs/ai/lib/python3.7/site-packages/ase/data/pubchem.py:85: UserWarning: The structure \"2265\" has more than one conformer in PubChem. By default, the first conformer is returned, please ensure you are using the structure you intend to or use the `ase.data.pubchem.pubchem_conformer_search` function\n",
      "  ' function'.format(search))\n"
     ]
    },
    {
     "name": "stdout",
     "output_type": "stream",
     "text": [
      "415\n",
      "415\n"
     ]
    },
    {
     "name": "stderr",
     "output_type": "stream",
     "text": [
      "/home/neft/anaconda3/envs/ai/lib/python3.7/site-packages/ase/data/pubchem.py:85: UserWarning: The structure \"3639\" has more than one conformer in PubChem. By default, the first conformer is returned, please ensure you are using the structure you intend to or use the `ase.data.pubchem.pubchem_conformer_search` function\n",
      "  ' function'.format(search))\n"
     ]
    },
    {
     "name": "stdout",
     "output_type": "stream",
     "text": [
      "416\n",
      "416\n"
     ]
    },
    {
     "name": "stderr",
     "output_type": "stream",
     "text": [
      "/home/neft/anaconda3/envs/ai/lib/python3.7/site-packages/ase/data/pubchem.py:85: UserWarning: The structure \"19003\" has more than one conformer in PubChem. By default, the first conformer is returned, please ensure you are using the structure you intend to or use the `ase.data.pubchem.pubchem_conformer_search` function\n",
      "  ' function'.format(search))\n"
     ]
    },
    {
     "name": "stdout",
     "output_type": "stream",
     "text": [
      "417\n",
      "417\n"
     ]
    },
    {
     "name": "stderr",
     "output_type": "stream",
     "text": [
      "/home/neft/anaconda3/envs/ai/lib/python3.7/site-packages/ase/data/pubchem.py:85: UserWarning: The structure \"2083\" has more than one conformer in PubChem. By default, the first conformer is returned, please ensure you are using the structure you intend to or use the `ase.data.pubchem.pubchem_conformer_search` function\n",
      "  ' function'.format(search))\n"
     ]
    },
    {
     "name": "stdout",
     "output_type": "stream",
     "text": [
      "418\n",
      "418\n"
     ]
    },
    {
     "name": "stderr",
     "output_type": "stream",
     "text": [
      "/home/neft/anaconda3/envs/ai/lib/python3.7/site-packages/ase/data/pubchem.py:85: UserWarning: The structure \"2882\" has more than one conformer in PubChem. By default, the first conformer is returned, please ensure you are using the structure you intend to or use the `ase.data.pubchem.pubchem_conformer_search` function\n",
      "  ' function'.format(search))\n"
     ]
    },
    {
     "name": "stdout",
     "output_type": "stream",
     "text": [
      "419\n",
      "419\n"
     ]
    },
    {
     "name": "stderr",
     "output_type": "stream",
     "text": [
      "/home/neft/anaconda3/envs/ai/lib/python3.7/site-packages/ase/data/pubchem.py:85: UserWarning: The structure \"135398740\" has more than one conformer in PubChem. By default, the first conformer is returned, please ensure you are using the structure you intend to or use the `ase.data.pubchem.pubchem_conformer_search` function\n",
      "  ' function'.format(search))\n"
     ]
    },
    {
     "name": "stdout",
     "output_type": "stream",
     "text": [
      "420\n",
      "420\n"
     ]
    },
    {
     "name": "stderr",
     "output_type": "stream",
     "text": [
      "/home/neft/anaconda3/envs/ai/lib/python3.7/site-packages/ase/data/pubchem.py:85: UserWarning: The structure \"3902\" has more than one conformer in PubChem. By default, the first conformer is returned, please ensure you are using the structure you intend to or use the `ase.data.pubchem.pubchem_conformer_search` function\n",
      "  ' function'.format(search))\n"
     ]
    },
    {
     "name": "stdout",
     "output_type": "stream",
     "text": [
      "421\n",
      "421\n"
     ]
    },
    {
     "name": "stderr",
     "output_type": "stream",
     "text": [
      "/home/neft/anaconda3/envs/ai/lib/python3.7/site-packages/ase/data/pubchem.py:85: UserWarning: The structure \"2478\" has more than one conformer in PubChem. By default, the first conformer is returned, please ensure you are using the structure you intend to or use the `ase.data.pubchem.pubchem_conformer_search` function\n",
      "  ' function'.format(search))\n"
     ]
    },
    {
     "name": "stdout",
     "output_type": "stream",
     "text": [
      "422\n",
      "422\n"
     ]
    },
    {
     "name": "stderr",
     "output_type": "stream",
     "text": [
      "/home/neft/anaconda3/envs/ai/lib/python3.7/site-packages/ase/data/pubchem.py:85: UserWarning: The structure \"3825\" has more than one conformer in PubChem. By default, the first conformer is returned, please ensure you are using the structure you intend to or use the `ase.data.pubchem.pubchem_conformer_search` function\n",
      "  ' function'.format(search))\n"
     ]
    },
    {
     "name": "stdout",
     "output_type": "stream",
     "text": [
      "423\n",
      "423\n"
     ]
    },
    {
     "name": "stderr",
     "output_type": "stream",
     "text": [
      "/home/neft/anaconda3/envs/ai/lib/python3.7/site-packages/ase/data/pubchem.py:85: UserWarning: The structure \"3202\" has more than one conformer in PubChem. By default, the first conformer is returned, please ensure you are using the structure you intend to or use the `ase.data.pubchem.pubchem_conformer_search` function\n",
      "  ' function'.format(search))\n"
     ]
    },
    {
     "name": "stdout",
     "output_type": "stream",
     "text": [
      "424\n",
      "424\n"
     ]
    },
    {
     "name": "stderr",
     "output_type": "stream",
     "text": [
      "/home/neft/anaconda3/envs/ai/lib/python3.7/site-packages/ase/data/pubchem.py:85: UserWarning: The structure \"4174\" has more than one conformer in PubChem. By default, the first conformer is returned, please ensure you are using the structure you intend to or use the `ase.data.pubchem.pubchem_conformer_search` function\n",
      "  ' function'.format(search))\n"
     ]
    },
    {
     "name": "stdout",
     "output_type": "stream",
     "text": [
      "425\n",
      "425\n"
     ]
    },
    {
     "name": "stderr",
     "output_type": "stream",
     "text": [
      "/home/neft/anaconda3/envs/ai/lib/python3.7/site-packages/ase/data/pubchem.py:85: UserWarning: The structure \"5329\" has more than one conformer in PubChem. By default, the first conformer is returned, please ensure you are using the structure you intend to or use the `ase.data.pubchem.pubchem_conformer_search` function\n",
      "  ' function'.format(search))\n"
     ]
    },
    {
     "name": "stdout",
     "output_type": "stream",
     "text": [
      "426\n",
      "426\n"
     ]
    },
    {
     "name": "stderr",
     "output_type": "stream",
     "text": [
      "/home/neft/anaconda3/envs/ai/lib/python3.7/site-packages/ase/data/pubchem.py:85: UserWarning: The structure \"3519\" has more than one conformer in PubChem. By default, the first conformer is returned, please ensure you are using the structure you intend to or use the `ase.data.pubchem.pubchem_conformer_search` function\n",
      "  ' function'.format(search))\n"
     ]
    },
    {
     "name": "stdout",
     "output_type": "stream",
     "text": [
      "427\n",
      "427\n"
     ]
    },
    {
     "name": "stderr",
     "output_type": "stream",
     "text": [
      "/home/neft/anaconda3/envs/ai/lib/python3.7/site-packages/ase/data/pubchem.py:85: UserWarning: The structure \"2370\" has more than one conformer in PubChem. By default, the first conformer is returned, please ensure you are using the structure you intend to or use the `ase.data.pubchem.pubchem_conformer_search` function\n",
      "  ' function'.format(search))\n"
     ]
    },
    {
     "name": "stdout",
     "output_type": "stream",
     "text": [
      "428\n",
      "428\n"
     ]
    },
    {
     "name": "stderr",
     "output_type": "stream",
     "text": [
      "/home/neft/anaconda3/envs/ai/lib/python3.7/site-packages/ase/data/pubchem.py:85: UserWarning: The structure \"27661\" has more than one conformer in PubChem. By default, the first conformer is returned, please ensure you are using the structure you intend to or use the `ase.data.pubchem.pubchem_conformer_search` function\n",
      "  ' function'.format(search))\n"
     ]
    },
    {
     "name": "stdout",
     "output_type": "stream",
     "text": [
      "429\n",
      "429\n"
     ]
    },
    {
     "name": "stderr",
     "output_type": "stream",
     "text": [
      "/home/neft/anaconda3/envs/ai/lib/python3.7/site-packages/ase/data/pubchem.py:85: UserWarning: The structure \"5560\" has more than one conformer in PubChem. By default, the first conformer is returned, please ensure you are using the structure you intend to or use the `ase.data.pubchem.pubchem_conformer_search` function\n",
      "  ' function'.format(search))\n"
     ]
    },
    {
     "name": "stdout",
     "output_type": "stream",
     "text": [
      "430\n",
      "430\n"
     ]
    },
    {
     "name": "stderr",
     "output_type": "stream",
     "text": [
      "/home/neft/anaconda3/envs/ai/lib/python3.7/site-packages/ase/data/pubchem.py:85: UserWarning: The structure \"3333\" has more than one conformer in PubChem. By default, the first conformer is returned, please ensure you are using the structure you intend to or use the `ase.data.pubchem.pubchem_conformer_search` function\n",
      "  ' function'.format(search))\n"
     ]
    },
    {
     "name": "stdout",
     "output_type": "stream",
     "text": [
      "431\n",
      "431\n"
     ]
    },
    {
     "name": "stderr",
     "output_type": "stream",
     "text": [
      "/home/neft/anaconda3/envs/ai/lib/python3.7/site-packages/ase/data/pubchem.py:85: UserWarning: The structure \"446541\" has more than one conformer in PubChem. By default, the first conformer is returned, please ensure you are using the structure you intend to or use the `ase.data.pubchem.pubchem_conformer_search` function\n",
      "  ' function'.format(search))\n"
     ]
    },
    {
     "name": "stdout",
     "output_type": "stream",
     "text": [
      "432\n",
      "432\n"
     ]
    },
    {
     "name": "stderr",
     "output_type": "stream",
     "text": [
      "/home/neft/anaconda3/envs/ai/lib/python3.7/site-packages/ase/data/pubchem.py:85: UserWarning: The structure \"60700\" has more than one conformer in PubChem. By default, the first conformer is returned, please ensure you are using the structure you intend to or use the `ase.data.pubchem.pubchem_conformer_search` function\n",
      "  ' function'.format(search))\n"
     ]
    },
    {
     "name": "stdout",
     "output_type": "stream",
     "text": [
      "433\n",
      "433\n"
     ]
    },
    {
     "name": "stderr",
     "output_type": "stream",
     "text": [
      "/home/neft/anaconda3/envs/ai/lib/python3.7/site-packages/ase/data/pubchem.py:85: UserWarning: The structure \"3284\" has more than one conformer in PubChem. By default, the first conformer is returned, please ensure you are using the structure you intend to or use the `ase.data.pubchem.pubchem_conformer_search` function\n",
      "  ' function'.format(search))\n"
     ]
    },
    {
     "name": "stdout",
     "output_type": "stream",
     "text": [
      "434\n",
      "434\n"
     ]
    },
    {
     "name": "stderr",
     "output_type": "stream",
     "text": [
      "/home/neft/anaconda3/envs/ai/lib/python3.7/site-packages/ase/data/pubchem.py:85: UserWarning: The structure \"4911\" has more than one conformer in PubChem. By default, the first conformer is returned, please ensure you are using the structure you intend to or use the `ase.data.pubchem.pubchem_conformer_search` function\n",
      "  ' function'.format(search))\n"
     ]
    },
    {
     "name": "stdout",
     "output_type": "stream",
     "text": [
      "435\n",
      "435\n"
     ]
    },
    {
     "name": "stderr",
     "output_type": "stream",
     "text": [
      "/home/neft/anaconda3/envs/ai/lib/python3.7/site-packages/ase/data/pubchem.py:85: UserWarning: The structure \"28517\" has more than one conformer in PubChem. By default, the first conformer is returned, please ensure you are using the structure you intend to or use the `ase.data.pubchem.pubchem_conformer_search` function\n",
      "  ' function'.format(search))\n"
     ]
    },
    {
     "name": "stdout",
     "output_type": "stream",
     "text": [
      "436\n",
      "436\n"
     ]
    },
    {
     "name": "stderr",
     "output_type": "stream",
     "text": [
      "/home/neft/anaconda3/envs/ai/lib/python3.7/site-packages/ase/data/pubchem.py:85: UserWarning: The structure \"4913\" has more than one conformer in PubChem. By default, the first conformer is returned, please ensure you are using the structure you intend to or use the `ase.data.pubchem.pubchem_conformer_search` function\n",
      "  ' function'.format(search))\n"
     ]
    },
    {
     "name": "stdout",
     "output_type": "stream",
     "text": [
      "437\n",
      "437\n"
     ]
    },
    {
     "name": "stderr",
     "output_type": "stream",
     "text": [
      "/home/neft/anaconda3/envs/ai/lib/python3.7/site-packages/ase/data/pubchem.py:85: UserWarning: The structure \"26757\" has more than one conformer in PubChem. By default, the first conformer is returned, please ensure you are using the structure you intend to or use the `ase.data.pubchem.pubchem_conformer_search` function\n",
      "  ' function'.format(search))\n"
     ]
    },
    {
     "name": "stdout",
     "output_type": "stream",
     "text": [
      "438\n",
      "438\n"
     ]
    },
    {
     "name": "stderr",
     "output_type": "stream",
     "text": [
      "/home/neft/anaconda3/envs/ai/lib/python3.7/site-packages/ase/data/pubchem.py:85: UserWarning: The structure \"3339\" has more than one conformer in PubChem. By default, the first conformer is returned, please ensure you are using the structure you intend to or use the `ase.data.pubchem.pubchem_conformer_search` function\n",
      "  ' function'.format(search))\n"
     ]
    },
    {
     "name": "stdout",
     "output_type": "stream",
     "text": [
      "439\n",
      "439\n"
     ]
    },
    {
     "name": "stderr",
     "output_type": "stream",
     "text": [
      "/home/neft/anaconda3/envs/ai/lib/python3.7/site-packages/ase/data/pubchem.py:85: UserWarning: The structure \"5426\" has more than one conformer in PubChem. By default, the first conformer is returned, please ensure you are using the structure you intend to or use the `ase.data.pubchem.pubchem_conformer_search` function\n",
      "  ' function'.format(search))\n"
     ]
    },
    {
     "name": "stdout",
     "output_type": "stream",
     "text": [
      "440\n",
      "440\n"
     ]
    },
    {
     "name": "stderr",
     "output_type": "stream",
     "text": [
      "/home/neft/anaconda3/envs/ai/lib/python3.7/site-packages/ase/data/pubchem.py:85: UserWarning: The structure \"460612\" has more than one conformer in PubChem. By default, the first conformer is returned, please ensure you are using the structure you intend to or use the `ase.data.pubchem.pubchem_conformer_search` function\n",
      "  ' function'.format(search))\n"
     ]
    },
    {
     "name": "stdout",
     "output_type": "stream",
     "text": [
      "441\n",
      "441\n",
      "442\n",
      "442\n"
     ]
    },
    {
     "name": "stderr",
     "output_type": "stream",
     "text": [
      "/home/neft/anaconda3/envs/ai/lib/python3.7/site-packages/ase/data/pubchem.py:85: UserWarning: The structure \"5379\" has more than one conformer in PubChem. By default, the first conformer is returned, please ensure you are using the structure you intend to or use the `ase.data.pubchem.pubchem_conformer_search` function\n",
      "  ' function'.format(search))\n"
     ]
    },
    {
     "name": "stdout",
     "output_type": "stream",
     "text": [
      "443\n",
      "443\n"
     ]
    },
    {
     "name": "stderr",
     "output_type": "stream",
     "text": [
      "/home/neft/anaconda3/envs/ai/lib/python3.7/site-packages/ase/data/pubchem.py:85: UserWarning: The structure \"441300\" has more than one conformer in PubChem. By default, the first conformer is returned, please ensure you are using the structure you intend to or use the `ase.data.pubchem.pubchem_conformer_search` function\n",
      "  ' function'.format(search))\n"
     ]
    },
    {
     "name": "stdout",
     "output_type": "stream",
     "text": [
      "444\n",
      "444\n"
     ]
    },
    {
     "name": "stderr",
     "output_type": "stream",
     "text": [
      "/home/neft/anaconda3/envs/ai/lib/python3.7/site-packages/ase/data/pubchem.py:85: UserWarning: The structure \"3672\" has more than one conformer in PubChem. By default, the first conformer is returned, please ensure you are using the structure you intend to or use the `ase.data.pubchem.pubchem_conformer_search` function\n",
      "  ' function'.format(search))\n"
     ]
    },
    {
     "name": "stdout",
     "output_type": "stream",
     "text": [
      "445\n",
      "445\n"
     ]
    },
    {
     "name": "stderr",
     "output_type": "stream",
     "text": [
      "/home/neft/anaconda3/envs/ai/lib/python3.7/site-packages/ase/data/pubchem.py:85: UserWarning: The structure \"5904\" has more than one conformer in PubChem. By default, the first conformer is returned, please ensure you are using the structure you intend to or use the `ase.data.pubchem.pubchem_conformer_search` function\n",
      "  ' function'.format(search))\n"
     ]
    },
    {
     "name": "stdout",
     "output_type": "stream",
     "text": [
      "446\n",
      "446\n"
     ]
    },
    {
     "name": "stderr",
     "output_type": "stream",
     "text": [
      "/home/neft/anaconda3/envs/ai/lib/python3.7/site-packages/ase/data/pubchem.py:85: UserWarning: The structure \"4507\" has more than one conformer in PubChem. By default, the first conformer is returned, please ensure you are using the structure you intend to or use the `ase.data.pubchem.pubchem_conformer_search` function\n",
      "  ' function'.format(search))\n"
     ]
    },
    {
     "name": "stdout",
     "output_type": "stream",
     "text": [
      "447\n",
      "447\n"
     ]
    },
    {
     "name": "stderr",
     "output_type": "stream",
     "text": [
      "/home/neft/anaconda3/envs/ai/lib/python3.7/site-packages/ase/data/pubchem.py:85: UserWarning: The structure \"440473\" has more than one conformer in PubChem. By default, the first conformer is returned, please ensure you are using the structure you intend to or use the `ase.data.pubchem.pubchem_conformer_search` function\n",
      "  ' function'.format(search))\n"
     ]
    },
    {
     "name": "stdout",
     "output_type": "stream",
     "text": [
      "448\n",
      "448\n"
     ]
    },
    {
     "name": "stderr",
     "output_type": "stream",
     "text": [
      "/home/neft/anaconda3/envs/ai/lib/python3.7/site-packages/ase/data/pubchem.py:85: UserWarning: The structure \"38945\" has more than one conformer in PubChem. By default, the first conformer is returned, please ensure you are using the structure you intend to or use the `ase.data.pubchem.pubchem_conformer_search` function\n",
      "  ' function'.format(search))\n"
     ]
    },
    {
     "name": "stdout",
     "output_type": "stream",
     "text": [
      "449\n",
      "449\n"
     ]
    },
    {
     "name": "stderr",
     "output_type": "stream",
     "text": [
      "/home/neft/anaconda3/envs/ai/lib/python3.7/site-packages/ase/data/pubchem.py:85: UserWarning: The structure \"10548\" has more than one conformer in PubChem. By default, the first conformer is returned, please ensure you are using the structure you intend to or use the `ase.data.pubchem.pubchem_conformer_search` function\n",
      "  ' function'.format(search))\n"
     ]
    },
    {
     "name": "stdout",
     "output_type": "stream",
     "text": [
      "450\n",
      "450\n"
     ]
    },
    {
     "name": "stderr",
     "output_type": "stream",
     "text": [
      "/home/neft/anaconda3/envs/ai/lib/python3.7/site-packages/ase/data/pubchem.py:85: UserWarning: The structure \"4891\" has more than one conformer in PubChem. By default, the first conformer is returned, please ensure you are using the structure you intend to or use the `ase.data.pubchem.pubchem_conformer_search` function\n",
      "  ' function'.format(search))\n"
     ]
    },
    {
     "name": "stdout",
     "output_type": "stream",
     "text": [
      "451\n",
      "451\n"
     ]
    },
    {
     "name": "stderr",
     "output_type": "stream",
     "text": [
      "/home/neft/anaconda3/envs/ai/lib/python3.7/site-packages/ase/data/pubchem.py:85: UserWarning: The structure \"4539\" has more than one conformer in PubChem. By default, the first conformer is returned, please ensure you are using the structure you intend to or use the `ase.data.pubchem.pubchem_conformer_search` function\n",
      "  ' function'.format(search))\n"
     ]
    },
    {
     "name": "stdout",
     "output_type": "stream",
     "text": [
      "452\n",
      "452\n"
     ]
    },
    {
     "name": "stderr",
     "output_type": "stream",
     "text": [
      "/home/neft/anaconda3/envs/ai/lib/python3.7/site-packages/ase/data/pubchem.py:85: UserWarning: The structure \"33613\" has more than one conformer in PubChem. By default, the first conformer is returned, please ensure you are using the structure you intend to or use the `ase.data.pubchem.pubchem_conformer_search` function\n",
      "  ' function'.format(search))\n"
     ]
    },
    {
     "name": "stdout",
     "output_type": "stream",
     "text": [
      "453\n",
      "453\n"
     ]
    },
    {
     "name": "stderr",
     "output_type": "stream",
     "text": [
      "/home/neft/anaconda3/envs/ai/lib/python3.7/site-packages/ase/data/pubchem.py:85: UserWarning: The structure \"3779\" has more than one conformer in PubChem. By default, the first conformer is returned, please ensure you are using the structure you intend to or use the `ase.data.pubchem.pubchem_conformer_search` function\n",
      "  ' function'.format(search))\n"
     ]
    },
    {
     "name": "stdout",
     "output_type": "stream",
     "text": [
      "454\n",
      "454\n"
     ]
    },
    {
     "name": "stderr",
     "output_type": "stream",
     "text": [
      "/home/neft/anaconda3/envs/ai/lib/python3.7/site-packages/ase/data/pubchem.py:85: UserWarning: The structure \"896\" has more than one conformer in PubChem. By default, the first conformer is returned, please ensure you are using the structure you intend to or use the `ase.data.pubchem.pubchem_conformer_search` function\n",
      "  ' function'.format(search))\n"
     ]
    },
    {
     "name": "stdout",
     "output_type": "stream",
     "text": [
      "455\n",
      "455\n"
     ]
    },
    {
     "name": "stderr",
     "output_type": "stream",
     "text": [
      "/home/neft/anaconda3/envs/ai/lib/python3.7/site-packages/ase/data/pubchem.py:85: UserWarning: The structure \"9870843\" has more than one conformer in PubChem. By default, the first conformer is returned, please ensure you are using the structure you intend to or use the `ase.data.pubchem.pubchem_conformer_search` function\n",
      "  ' function'.format(search))\n"
     ]
    },
    {
     "name": "stdout",
     "output_type": "stream",
     "text": [
      "456\n",
      "456\n"
     ]
    },
    {
     "name": "stderr",
     "output_type": "stream",
     "text": [
      "/home/neft/anaconda3/envs/ai/lib/python3.7/site-packages/ase/data/pubchem.py:85: UserWarning: The structure \"2802\" has more than one conformer in PubChem. By default, the first conformer is returned, please ensure you are using the structure you intend to or use the `ase.data.pubchem.pubchem_conformer_search` function\n",
      "  ' function'.format(search))\n"
     ]
    },
    {
     "name": "stdout",
     "output_type": "stream",
     "text": [
      "457\n",
      "457\n"
     ]
    },
    {
     "name": "stderr",
     "output_type": "stream",
     "text": [
      "/home/neft/anaconda3/envs/ai/lib/python3.7/site-packages/ase/data/pubchem.py:85: UserWarning: The structure \"4927\" has more than one conformer in PubChem. By default, the first conformer is returned, please ensure you are using the structure you intend to or use the `ase.data.pubchem.pubchem_conformer_search` function\n",
      "  ' function'.format(search))\n"
     ]
    },
    {
     "name": "stdout",
     "output_type": "stream",
     "text": [
      "458\n",
      "458\n"
     ]
    },
    {
     "name": "stderr",
     "output_type": "stream",
     "text": [
      "/home/neft/anaconda3/envs/ai/lib/python3.7/site-packages/ase/data/pubchem.py:85: UserWarning: The structure \"4066\" has more than one conformer in PubChem. By default, the first conformer is returned, please ensure you are using the structure you intend to or use the `ase.data.pubchem.pubchem_conformer_search` function\n",
      "  ' function'.format(search))\n"
     ]
    },
    {
     "name": "stdout",
     "output_type": "stream",
     "text": [
      "459\n",
      "459\n"
     ]
    },
    {
     "name": "stderr",
     "output_type": "stream",
     "text": [
      "/home/neft/anaconda3/envs/ai/lib/python3.7/site-packages/ase/data/pubchem.py:85: UserWarning: The structure \"657237\" has more than one conformer in PubChem. By default, the first conformer is returned, please ensure you are using the structure you intend to or use the `ase.data.pubchem.pubchem_conformer_search` function\n",
      "  ' function'.format(search))\n"
     ]
    },
    {
     "name": "stdout",
     "output_type": "stream",
     "text": [
      "460\n",
      "460\n"
     ]
    },
    {
     "name": "stderr",
     "output_type": "stream",
     "text": [
      "/home/neft/anaconda3/envs/ai/lib/python3.7/site-packages/ase/data/pubchem.py:85: UserWarning: The structure \"3100\" has more than one conformer in PubChem. By default, the first conformer is returned, please ensure you are using the structure you intend to or use the `ase.data.pubchem.pubchem_conformer_search` function\n",
      "  ' function'.format(search))\n"
     ]
    },
    {
     "name": "stdout",
     "output_type": "stream",
     "text": [
      "461\n",
      "461\n"
     ]
    },
    {
     "name": "stderr",
     "output_type": "stream",
     "text": [
      "/home/neft/anaconda3/envs/ai/lib/python3.7/site-packages/ase/data/pubchem.py:85: UserWarning: The structure \"135409453\" has more than one conformer in PubChem. By default, the first conformer is returned, please ensure you are using the structure you intend to or use the `ase.data.pubchem.pubchem_conformer_search` function\n",
      "  ' function'.format(search))\n"
     ]
    },
    {
     "name": "stdout",
     "output_type": "stream",
     "text": [
      "462\n",
      "462\n"
     ]
    },
    {
     "name": "stderr",
     "output_type": "stream",
     "text": [
      "/home/neft/anaconda3/envs/ai/lib/python3.7/site-packages/ase/data/pubchem.py:85: UserWarning: The structure \"5910\" has more than one conformer in PubChem. By default, the first conformer is returned, please ensure you are using the structure you intend to or use the `ase.data.pubchem.pubchem_conformer_search` function\n",
      "  ' function'.format(search))\n"
     ]
    },
    {
     "name": "stdout",
     "output_type": "stream",
     "text": [
      "463\n",
      "463\n"
     ]
    },
    {
     "name": "stderr",
     "output_type": "stream",
     "text": [
      "/home/neft/anaconda3/envs/ai/lib/python3.7/site-packages/ase/data/pubchem.py:85: UserWarning: The structure \"2337\" has more than one conformer in PubChem. By default, the first conformer is returned, please ensure you are using the structure you intend to or use the `ase.data.pubchem.pubchem_conformer_search` function\n",
      "  ' function'.format(search))\n"
     ]
    },
    {
     "name": "stdout",
     "output_type": "stream",
     "text": [
      "464\n",
      "464\n"
     ]
    },
    {
     "name": "stderr",
     "output_type": "stream",
     "text": [
      "/home/neft/anaconda3/envs/ai/lib/python3.7/site-packages/ase/data/pubchem.py:85: UserWarning: The structure \"5850\" has more than one conformer in PubChem. By default, the first conformer is returned, please ensure you are using the structure you intend to or use the `ase.data.pubchem.pubchem_conformer_search` function\n",
      "  ' function'.format(search))\n"
     ]
    },
    {
     "name": "stdout",
     "output_type": "stream",
     "text": [
      "465\n",
      "465\n"
     ]
    },
    {
     "name": "stderr",
     "output_type": "stream",
     "text": [
      "/home/neft/anaconda3/envs/ai/lib/python3.7/site-packages/ase/data/pubchem.py:85: UserWarning: The structure \"72281\" has more than one conformer in PubChem. By default, the first conformer is returned, please ensure you are using the structure you intend to or use the `ase.data.pubchem.pubchem_conformer_search` function\n",
      "  ' function'.format(search))\n"
     ]
    },
    {
     "name": "stdout",
     "output_type": "stream",
     "text": [
      "466\n",
      "466\n"
     ]
    },
    {
     "name": "stderr",
     "output_type": "stream",
     "text": [
      "/home/neft/anaconda3/envs/ai/lib/python3.7/site-packages/ase/data/pubchem.py:85: UserWarning: The structure \"4612\" has more than one conformer in PubChem. By default, the first conformer is returned, please ensure you are using the structure you intend to or use the `ase.data.pubchem.pubchem_conformer_search` function\n",
      "  ' function'.format(search))\n"
     ]
    },
    {
     "name": "stdout",
     "output_type": "stream",
     "text": [
      "467\n",
      "467\n"
     ]
    },
    {
     "name": "stderr",
     "output_type": "stream",
     "text": [
      "/home/neft/anaconda3/envs/ai/lib/python3.7/site-packages/ase/data/pubchem.py:85: UserWarning: The structure \"3899\" has more than one conformer in PubChem. By default, the first conformer is returned, please ensure you are using the structure you intend to or use the `ase.data.pubchem.pubchem_conformer_search` function\n",
      "  ' function'.format(search))\n"
     ]
    },
    {
     "name": "stdout",
     "output_type": "stream",
     "text": [
      "468\n",
      "468\n"
     ]
    },
    {
     "name": "stderr",
     "output_type": "stream",
     "text": [
      "/home/neft/anaconda3/envs/ai/lib/python3.7/site-packages/ase/data/pubchem.py:85: UserWarning: The structure \"60953\" has more than one conformer in PubChem. By default, the first conformer is returned, please ensure you are using the structure you intend to or use the `ase.data.pubchem.pubchem_conformer_search` function\n",
      "  ' function'.format(search))\n"
     ]
    },
    {
     "name": "stdout",
     "output_type": "stream",
     "text": [
      "469\n",
      "469\n"
     ]
    },
    {
     "name": "stderr",
     "output_type": "stream",
     "text": [
      "/home/neft/anaconda3/envs/ai/lib/python3.7/site-packages/ase/data/pubchem.py:85: UserWarning: The structure \"68617\" has more than one conformer in PubChem. By default, the first conformer is returned, please ensure you are using the structure you intend to or use the `ase.data.pubchem.pubchem_conformer_search` function\n",
      "  ' function'.format(search))\n"
     ]
    },
    {
     "name": "stdout",
     "output_type": "stream",
     "text": [
      "470\n",
      "470\n"
     ]
    },
    {
     "name": "stderr",
     "output_type": "stream",
     "text": [
      "/home/neft/anaconda3/envs/ai/lib/python3.7/site-packages/ase/data/pubchem.py:85: UserWarning: The structure \"5210\" has more than one conformer in PubChem. By default, the first conformer is returned, please ensure you are using the structure you intend to or use the `ase.data.pubchem.pubchem_conformer_search` function\n",
      "  ' function'.format(search))\n"
     ]
    },
    {
     "name": "stdout",
     "output_type": "stream",
     "text": [
      "471\n",
      "471\n",
      "472\n",
      "472\n"
     ]
    },
    {
     "name": "stderr",
     "output_type": "stream",
     "text": [
      "/home/neft/anaconda3/envs/ai/lib/python3.7/site-packages/ase/data/pubchem.py:85: UserWarning: The structure \"4189\" has more than one conformer in PubChem. By default, the first conformer is returned, please ensure you are using the structure you intend to or use the `ase.data.pubchem.pubchem_conformer_search` function\n",
      "  ' function'.format(search))\n"
     ]
    },
    {
     "name": "stdout",
     "output_type": "stream",
     "text": [
      "473\n",
      "473\n"
     ]
    },
    {
     "name": "stderr",
     "output_type": "stream",
     "text": [
      "/home/neft/anaconda3/envs/ai/lib/python3.7/site-packages/ase/data/pubchem.py:85: UserWarning: The structure \"5479529\" has more than one conformer in PubChem. By default, the first conformer is returned, please ensure you are using the structure you intend to or use the `ase.data.pubchem.pubchem_conformer_search` function\n",
      "  ' function'.format(search))\n"
     ]
    },
    {
     "name": "stdout",
     "output_type": "stream",
     "text": [
      "474\n",
      "474\n"
     ]
    },
    {
     "name": "stderr",
     "output_type": "stream",
     "text": [
      "/home/neft/anaconda3/envs/ai/lib/python3.7/site-packages/ase/data/pubchem.py:85: UserWarning: The structure \"4680\" has more than one conformer in PubChem. By default, the first conformer is returned, please ensure you are using the structure you intend to or use the `ase.data.pubchem.pubchem_conformer_search` function\n",
      "  ' function'.format(search))\n"
     ]
    },
    {
     "name": "stdout",
     "output_type": "stream",
     "text": [
      "475\n",
      "475\n"
     ]
    },
    {
     "name": "stderr",
     "output_type": "stream",
     "text": [
      "/home/neft/anaconda3/envs/ai/lib/python3.7/site-packages/ase/data/pubchem.py:85: UserWarning: The structure \"4485\" has more than one conformer in PubChem. By default, the first conformer is returned, please ensure you are using the structure you intend to or use the `ase.data.pubchem.pubchem_conformer_search` function\n",
      "  ' function'.format(search))\n"
     ]
    },
    {
     "name": "stdout",
     "output_type": "stream",
     "text": [
      "476\n",
      "476\n"
     ]
    },
    {
     "name": "stderr",
     "output_type": "stream",
     "text": [
      "/home/neft/anaconda3/envs/ai/lib/python3.7/site-packages/ase/data/pubchem.py:85: UserWarning: The structure \"3475\" has more than one conformer in PubChem. By default, the first conformer is returned, please ensure you are using the structure you intend to or use the `ase.data.pubchem.pubchem_conformer_search` function\n",
      "  ' function'.format(search))\n"
     ]
    },
    {
     "name": "stdout",
     "output_type": "stream",
     "text": [
      "477\n",
      "477\n"
     ]
    },
    {
     "name": "stderr",
     "output_type": "stream",
     "text": [
      "/home/neft/anaconda3/envs/ai/lib/python3.7/site-packages/ase/data/pubchem.py:85: UserWarning: The structure \"4753\" has more than one conformer in PubChem. By default, the first conformer is returned, please ensure you are using the structure you intend to or use the `ase.data.pubchem.pubchem_conformer_search` function\n",
      "  ' function'.format(search))\n"
     ]
    },
    {
     "name": "stdout",
     "output_type": "stream",
     "text": [
      "478\n",
      "478\n",
      "479\n",
      "479\n"
     ]
    },
    {
     "name": "stderr",
     "output_type": "stream",
     "text": [
      "/home/neft/anaconda3/envs/ai/lib/python3.7/site-packages/ase/data/pubchem.py:85: UserWarning: The structure \"5505\" has more than one conformer in PubChem. By default, the first conformer is returned, please ensure you are using the structure you intend to or use the `ase.data.pubchem.pubchem_conformer_search` function\n",
      "  ' function'.format(search))\n"
     ]
    },
    {
     "name": "stdout",
     "output_type": "stream",
     "text": [
      "480\n",
      "480\n"
     ]
    },
    {
     "name": "stderr",
     "output_type": "stream",
     "text": [
      "/home/neft/anaconda3/envs/ai/lib/python3.7/site-packages/ase/data/pubchem.py:85: UserWarning: The structure \"2197\" has more than one conformer in PubChem. By default, the first conformer is returned, please ensure you are using the structure you intend to or use the `ase.data.pubchem.pubchem_conformer_search` function\n",
      "  ' function'.format(search))\n"
     ]
    },
    {
     "name": "stdout",
     "output_type": "stream",
     "text": [
      "481\n",
      "481\n"
     ]
    },
    {
     "name": "stderr",
     "output_type": "stream",
     "text": [
      "/home/neft/anaconda3/envs/ai/lib/python3.7/site-packages/ase/data/pubchem.py:85: UserWarning: The structure \"3198\" has more than one conformer in PubChem. By default, the first conformer is returned, please ensure you are using the structure you intend to or use the `ase.data.pubchem.pubchem_conformer_search` function\n",
      "  ' function'.format(search))\n"
     ]
    },
    {
     "name": "stdout",
     "output_type": "stream",
     "text": [
      "482\n",
      "482\n"
     ]
    },
    {
     "name": "stderr",
     "output_type": "stream",
     "text": [
      "/home/neft/anaconda3/envs/ai/lib/python3.7/site-packages/ase/data/pubchem.py:85: UserWarning: The structure \"2375\" has more than one conformer in PubChem. By default, the first conformer is returned, please ensure you are using the structure you intend to or use the `ase.data.pubchem.pubchem_conformer_search` function\n",
      "  ' function'.format(search))\n"
     ]
    },
    {
     "name": "stdout",
     "output_type": "stream",
     "text": [
      "483\n",
      "483\n"
     ]
    },
    {
     "name": "stderr",
     "output_type": "stream",
     "text": [
      "/home/neft/anaconda3/envs/ai/lib/python3.7/site-packages/ase/data/pubchem.py:85: UserWarning: The structure \"4923\" has more than one conformer in PubChem. By default, the first conformer is returned, please ensure you are using the structure you intend to or use the `ase.data.pubchem.pubchem_conformer_search` function\n",
      "  ' function'.format(search))\n"
     ]
    },
    {
     "name": "stdout",
     "output_type": "stream",
     "text": [
      "484\n",
      "484\n"
     ]
    },
    {
     "name": "stderr",
     "output_type": "stream",
     "text": [
      "/home/neft/anaconda3/envs/ai/lib/python3.7/site-packages/ase/data/pubchem.py:85: UserWarning: The structure \"4829\" has more than one conformer in PubChem. By default, the first conformer is returned, please ensure you are using the structure you intend to or use the `ase.data.pubchem.pubchem_conformer_search` function\n",
      "  ' function'.format(search))\n"
     ]
    },
    {
     "name": "stdout",
     "output_type": "stream",
     "text": [
      "485\n",
      "485\n"
     ]
    },
    {
     "name": "stderr",
     "output_type": "stream",
     "text": [
      "/home/neft/anaconda3/envs/ai/lib/python3.7/site-packages/ase/data/pubchem.py:85: UserWarning: The structure \"5342\" has more than one conformer in PubChem. By default, the first conformer is returned, please ensure you are using the structure you intend to or use the `ase.data.pubchem.pubchem_conformer_search` function\n",
      "  ' function'.format(search))\n"
     ]
    },
    {
     "name": "stdout",
     "output_type": "stream",
     "text": [
      "486\n",
      "486\n"
     ]
    },
    {
     "name": "stderr",
     "output_type": "stream",
     "text": [
      "/home/neft/anaconda3/envs/ai/lib/python3.7/site-packages/ase/data/pubchem.py:85: UserWarning: The structure \"47965\" has more than one conformer in PubChem. By default, the first conformer is returned, please ensure you are using the structure you intend to or use the `ase.data.pubchem.pubchem_conformer_search` function\n",
      "  ' function'.format(search))\n"
     ]
    },
    {
     "name": "stdout",
     "output_type": "stream",
     "text": [
      "487\n",
      "487\n"
     ]
    },
    {
     "name": "stderr",
     "output_type": "stream",
     "text": [
      "/home/neft/anaconda3/envs/ai/lib/python3.7/site-packages/ase/data/pubchem.py:85: UserWarning: The structure \"667468\" has more than one conformer in PubChem. By default, the first conformer is returned, please ensure you are using the structure you intend to or use the `ase.data.pubchem.pubchem_conformer_search` function\n",
      "  ' function'.format(search))\n"
     ]
    },
    {
     "name": "stdout",
     "output_type": "stream",
     "text": [
      "488\n",
      "488\n"
     ]
    },
    {
     "name": "stderr",
     "output_type": "stream",
     "text": [
      "/home/neft/anaconda3/envs/ai/lib/python3.7/site-packages/ase/data/pubchem.py:85: UserWarning: The structure \"3038\" has more than one conformer in PubChem. By default, the first conformer is returned, please ensure you are using the structure you intend to or use the `ase.data.pubchem.pubchem_conformer_search` function\n",
      "  ' function'.format(search))\n"
     ]
    },
    {
     "name": "stdout",
     "output_type": "stream",
     "text": [
      "489\n",
      "489\n"
     ]
    },
    {
     "name": "stderr",
     "output_type": "stream",
     "text": [
      "/home/neft/anaconda3/envs/ai/lib/python3.7/site-packages/ase/data/pubchem.py:85: UserWarning: The structure \"3103\" has more than one conformer in PubChem. By default, the first conformer is returned, please ensure you are using the structure you intend to or use the `ase.data.pubchem.pubchem_conformer_search` function\n",
      "  ' function'.format(search))\n"
     ]
    },
    {
     "name": "stdout",
     "output_type": "stream",
     "text": [
      "490\n",
      "490\n"
     ]
    },
    {
     "name": "stderr",
     "output_type": "stream",
     "text": [
      "/home/neft/anaconda3/envs/ai/lib/python3.7/site-packages/ase/data/pubchem.py:85: UserWarning: The structure \"3354\" has more than one conformer in PubChem. By default, the first conformer is returned, please ensure you are using the structure you intend to or use the `ase.data.pubchem.pubchem_conformer_search` function\n",
      "  ' function'.format(search))\n"
     ]
    },
    {
     "name": "stdout",
     "output_type": "stream",
     "text": [
      "491\n",
      "491\n"
     ]
    },
    {
     "name": "stderr",
     "output_type": "stream",
     "text": [
      "/home/neft/anaconda3/envs/ai/lib/python3.7/site-packages/ase/data/pubchem.py:85: UserWarning: The structure \"5281006\" has more than one conformer in PubChem. By default, the first conformer is returned, please ensure you are using the structure you intend to or use the `ase.data.pubchem.pubchem_conformer_search` function\n",
      "  ' function'.format(search))\n"
     ]
    },
    {
     "name": "stdout",
     "output_type": "stream",
     "text": [
      "492\n",
      "492\n"
     ]
    },
    {
     "name": "stderr",
     "output_type": "stream",
     "text": [
      "/home/neft/anaconda3/envs/ai/lib/python3.7/site-packages/ase/data/pubchem.py:85: UserWarning: The structure \"2995\" has more than one conformer in PubChem. By default, the first conformer is returned, please ensure you are using the structure you intend to or use the `ase.data.pubchem.pubchem_conformer_search` function\n",
      "  ' function'.format(search))\n"
     ]
    },
    {
     "name": "stdout",
     "output_type": "stream",
     "text": [
      "493\n",
      "493\n"
     ]
    },
    {
     "name": "stderr",
     "output_type": "stream",
     "text": [
      "/home/neft/anaconda3/envs/ai/lib/python3.7/site-packages/ase/data/pubchem.py:85: UserWarning: The structure \"3032285\" has more than one conformer in PubChem. By default, the first conformer is returned, please ensure you are using the structure you intend to or use the `ase.data.pubchem.pubchem_conformer_search` function\n",
      "  ' function'.format(search))\n"
     ]
    },
    {
     "name": "stdout",
     "output_type": "stream",
     "text": [
      "494\n",
      "494\n"
     ]
    },
    {
     "name": "stderr",
     "output_type": "stream",
     "text": [
      "/home/neft/anaconda3/envs/ai/lib/python3.7/site-packages/ase/data/pubchem.py:85: UserWarning: The structure \"444\" has more than one conformer in PubChem. By default, the first conformer is returned, please ensure you are using the structure you intend to or use the `ase.data.pubchem.pubchem_conformer_search` function\n",
      "  ' function'.format(search))\n"
     ]
    },
    {
     "name": "stdout",
     "output_type": "stream",
     "text": [
      "495\n",
      "495\n"
     ]
    },
    {
     "name": "stderr",
     "output_type": "stream",
     "text": [
      "/home/neft/anaconda3/envs/ai/lib/python3.7/site-packages/ase/data/pubchem.py:85: UserWarning: The structure \"5583\" has more than one conformer in PubChem. By default, the first conformer is returned, please ensure you are using the structure you intend to or use the `ase.data.pubchem.pubchem_conformer_search` function\n",
      "  ' function'.format(search))\n"
     ]
    },
    {
     "name": "stdout",
     "output_type": "stream",
     "text": [
      "496\n",
      "496\n"
     ]
    },
    {
     "name": "stderr",
     "output_type": "stream",
     "text": [
      "/home/neft/anaconda3/envs/ai/lib/python3.7/site-packages/ase/data/pubchem.py:85: UserWarning: The structure \"2431\" has more than one conformer in PubChem. By default, the first conformer is returned, please ensure you are using the structure you intend to or use the `ase.data.pubchem.pubchem_conformer_search` function\n",
      "  ' function'.format(search))\n"
     ]
    },
    {
     "name": "stdout",
     "output_type": "stream",
     "text": [
      "497\n",
      "497\n"
     ]
    },
    {
     "name": "stderr",
     "output_type": "stream",
     "text": [
      "/home/neft/anaconda3/envs/ai/lib/python3.7/site-packages/ase/data/pubchem.py:85: UserWarning: The structure \"8612\" has more than one conformer in PubChem. By default, the first conformer is returned, please ensure you are using the structure you intend to or use the `ase.data.pubchem.pubchem_conformer_search` function\n",
      "  ' function'.format(search))\n"
     ]
    },
    {
     "name": "stdout",
     "output_type": "stream",
     "text": [
      "498\n",
      "498\n"
     ]
    },
    {
     "name": "stderr",
     "output_type": "stream",
     "text": [
      "/home/neft/anaconda3/envs/ai/lib/python3.7/site-packages/ase/data/pubchem.py:85: UserWarning: The structure \"5401\" has more than one conformer in PubChem. By default, the first conformer is returned, please ensure you are using the structure you intend to or use the `ase.data.pubchem.pubchem_conformer_search` function\n",
      "  ' function'.format(search))\n"
     ]
    },
    {
     "name": "stdout",
     "output_type": "stream",
     "text": [
      "499\n",
      "499\n"
     ]
    },
    {
     "name": "stderr",
     "output_type": "stream",
     "text": [
      "/home/neft/anaconda3/envs/ai/lib/python3.7/site-packages/ase/data/pubchem.py:85: UserWarning: The structure \"36273\" has more than one conformer in PubChem. By default, the first conformer is returned, please ensure you are using the structure you intend to or use the `ase.data.pubchem.pubchem_conformer_search` function\n",
      "  ' function'.format(search))\n"
     ]
    },
    {
     "name": "stdout",
     "output_type": "stream",
     "text": [
      "500\n",
      "500\n"
     ]
    },
    {
     "name": "stderr",
     "output_type": "stream",
     "text": [
      "/home/neft/anaconda3/envs/ai/lib/python3.7/site-packages/ase/data/pubchem.py:85: UserWarning: The structure \"4583\" has more than one conformer in PubChem. By default, the first conformer is returned, please ensure you are using the structure you intend to or use the `ase.data.pubchem.pubchem_conformer_search` function\n",
      "  ' function'.format(search))\n"
     ]
    },
    {
     "name": "stdout",
     "output_type": "stream",
     "text": [
      "501\n",
      "501\n"
     ]
    },
    {
     "name": "stderr",
     "output_type": "stream",
     "text": [
      "/home/neft/anaconda3/envs/ai/lib/python3.7/site-packages/ase/data/pubchem.py:85: UserWarning: The structure \"2754\" has more than one conformer in PubChem. By default, the first conformer is returned, please ensure you are using the structure you intend to or use the `ase.data.pubchem.pubchem_conformer_search` function\n",
      "  ' function'.format(search))\n"
     ]
    },
    {
     "name": "stdout",
     "output_type": "stream",
     "text": [
      "502\n",
      "502\n"
     ]
    },
    {
     "name": "stderr",
     "output_type": "stream",
     "text": [
      "/home/neft/anaconda3/envs/ai/lib/python3.7/site-packages/ase/data/pubchem.py:85: UserWarning: The structure \"4915\" has more than one conformer in PubChem. By default, the first conformer is returned, please ensure you are using the structure you intend to or use the `ase.data.pubchem.pubchem_conformer_search` function\n",
      "  ' function'.format(search))\n"
     ]
    },
    {
     "name": "stdout",
     "output_type": "stream",
     "text": [
      "503\n",
      "503\n"
     ]
    },
    {
     "name": "stderr",
     "output_type": "stream",
     "text": [
      "/home/neft/anaconda3/envs/ai/lib/python3.7/site-packages/ase/data/pubchem.py:85: UserWarning: The structure \"3518\" has more than one conformer in PubChem. By default, the first conformer is returned, please ensure you are using the structure you intend to or use the `ase.data.pubchem.pubchem_conformer_search` function\n",
      "  ' function'.format(search))\n"
     ]
    },
    {
     "name": "stdout",
     "output_type": "stream",
     "text": [
      "504\n",
      "504\n"
     ]
    },
    {
     "name": "stderr",
     "output_type": "stream",
     "text": [
      "/home/neft/anaconda3/envs/ai/lib/python3.7/site-packages/ase/data/pubchem.py:85: UserWarning: The structure \"4235\" has more than one conformer in PubChem. By default, the first conformer is returned, please ensure you are using the structure you intend to or use the `ase.data.pubchem.pubchem_conformer_search` function\n",
      "  ' function'.format(search))\n"
     ]
    },
    {
     "name": "stdout",
     "output_type": "stream",
     "text": [
      "505\n",
      "505\n"
     ]
    },
    {
     "name": "stderr",
     "output_type": "stream",
     "text": [
      "/home/neft/anaconda3/envs/ai/lib/python3.7/site-packages/ase/data/pubchem.py:85: UserWarning: The structure \"4763\" has more than one conformer in PubChem. By default, the first conformer is returned, please ensure you are using the structure you intend to or use the `ase.data.pubchem.pubchem_conformer_search` function\n",
      "  ' function'.format(search))\n"
     ]
    },
    {
     "name": "stdout",
     "output_type": "stream",
     "text": [
      "506\n",
      "506\n"
     ]
    },
    {
     "name": "stderr",
     "output_type": "stream",
     "text": [
      "/home/neft/anaconda3/envs/ai/lib/python3.7/site-packages/ase/data/pubchem.py:85: UserWarning: The structure \"146570\" has more than one conformer in PubChem. By default, the first conformer is returned, please ensure you are using the structure you intend to or use the `ase.data.pubchem.pubchem_conformer_search` function\n",
      "  ' function'.format(search))\n"
     ]
    },
    {
     "name": "stdout",
     "output_type": "stream",
     "text": [
      "507\n",
      "507\n"
     ]
    },
    {
     "name": "stderr",
     "output_type": "stream",
     "text": [
      "/home/neft/anaconda3/envs/ai/lib/python3.7/site-packages/ase/data/pubchem.py:85: UserWarning: The structure \"6726\" has more than one conformer in PubChem. By default, the first conformer is returned, please ensure you are using the structure you intend to or use the `ase.data.pubchem.pubchem_conformer_search` function\n",
      "  ' function'.format(search))\n"
     ]
    },
    {
     "name": "stdout",
     "output_type": "stream",
     "text": [
      "508\n",
      "508\n"
     ]
    },
    {
     "name": "stderr",
     "output_type": "stream",
     "text": [
      "/home/neft/anaconda3/envs/ai/lib/python3.7/site-packages/ase/data/pubchem.py:85: UserWarning: The structure \"2717\" has more than one conformer in PubChem. By default, the first conformer is returned, please ensure you are using the structure you intend to or use the `ase.data.pubchem.pubchem_conformer_search` function\n",
      "  ' function'.format(search))\n"
     ]
    },
    {
     "name": "stdout",
     "output_type": "stream",
     "text": [
      "509\n",
      "509\n"
     ]
    },
    {
     "name": "stderr",
     "output_type": "stream",
     "text": [
      "/home/neft/anaconda3/envs/ai/lib/python3.7/site-packages/ase/data/pubchem.py:85: UserWarning: The structure \"10607\" has more than one conformer in PubChem. By default, the first conformer is returned, please ensure you are using the structure you intend to or use the `ase.data.pubchem.pubchem_conformer_search` function\n",
      "  ' function'.format(search))\n"
     ]
    },
    {
     "name": "stdout",
     "output_type": "stream",
     "text": [
      "510\n",
      "510\n"
     ]
    },
    {
     "name": "stderr",
     "output_type": "stream",
     "text": [
      "/home/neft/anaconda3/envs/ai/lib/python3.7/site-packages/ase/data/pubchem.py:85: UserWarning: The structure \"3690\" has more than one conformer in PubChem. By default, the first conformer is returned, please ensure you are using the structure you intend to or use the `ase.data.pubchem.pubchem_conformer_search` function\n",
      "  ' function'.format(search))\n"
     ]
    },
    {
     "name": "stdout",
     "output_type": "stream",
     "text": [
      "511\n",
      "511\n"
     ]
    },
    {
     "name": "stderr",
     "output_type": "stream",
     "text": [
      "/home/neft/anaconda3/envs/ai/lib/python3.7/site-packages/ase/data/pubchem.py:85: UserWarning: The structure \"5284596\" has more than one conformer in PubChem. By default, the first conformer is returned, please ensure you are using the structure you intend to or use the `ase.data.pubchem.pubchem_conformer_search` function\n",
      "  ' function'.format(search))\n"
     ]
    },
    {
     "name": "stdout",
     "output_type": "stream",
     "text": [
      "512\n",
      "512\n"
     ]
    },
    {
     "name": "stderr",
     "output_type": "stream",
     "text": [
      "/home/neft/anaconda3/envs/ai/lib/python3.7/site-packages/ase/data/pubchem.py:85: UserWarning: The structure \"3151\" has more than one conformer in PubChem. By default, the first conformer is returned, please ensure you are using the structure you intend to or use the `ase.data.pubchem.pubchem_conformer_search` function\n",
      "  ' function'.format(search))\n"
     ]
    },
    {
     "name": "stdout",
     "output_type": "stream",
     "text": [
      "513\n",
      "513\n",
      "514\n",
      "514\n"
     ]
    },
    {
     "name": "stderr",
     "output_type": "stream",
     "text": [
      "/home/neft/anaconda3/envs/ai/lib/python3.7/site-packages/ase/data/pubchem.py:85: UserWarning: The structure \"47811\" has more than one conformer in PubChem. By default, the first conformer is returned, please ensure you are using the structure you intend to or use the `ase.data.pubchem.pubchem_conformer_search` function\n",
      "  ' function'.format(search))\n"
     ]
    },
    {
     "name": "stdout",
     "output_type": "stream",
     "text": [
      "515\n",
      "515\n"
     ]
    },
    {
     "name": "stderr",
     "output_type": "stream",
     "text": [
      "/home/neft/anaconda3/envs/ai/lib/python3.7/site-packages/ase/data/pubchem.py:85: UserWarning: The structure \"2749\" has more than one conformer in PubChem. By default, the first conformer is returned, please ensure you are using the structure you intend to or use the `ase.data.pubchem.pubchem_conformer_search` function\n",
      "  ' function'.format(search))\n"
     ]
    },
    {
     "name": "stdout",
     "output_type": "stream",
     "text": [
      "516\n",
      "516\n",
      "517\n",
      "517\n"
     ]
    },
    {
     "name": "stderr",
     "output_type": "stream",
     "text": [
      "/home/neft/anaconda3/envs/ai/lib/python3.7/site-packages/ase/data/pubchem.py:85: UserWarning: The structure \"1978\" has more than one conformer in PubChem. By default, the first conformer is returned, please ensure you are using the structure you intend to or use the `ase.data.pubchem.pubchem_conformer_search` function\n",
      "  ' function'.format(search))\n"
     ]
    },
    {
     "name": "stdout",
     "output_type": "stream",
     "text": [
      "518\n",
      "518\n"
     ]
    },
    {
     "name": "stderr",
     "output_type": "stream",
     "text": [
      "/home/neft/anaconda3/envs/ai/lib/python3.7/site-packages/ase/data/pubchem.py:85: UserWarning: The structure \"68844\" has more than one conformer in PubChem. By default, the first conformer is returned, please ensure you are using the structure you intend to or use the `ase.data.pubchem.pubchem_conformer_search` function\n",
      "  ' function'.format(search))\n"
     ]
    },
    {
     "name": "stdout",
     "output_type": "stream",
     "text": [
      "519\n",
      "519\n"
     ]
    },
    {
     "name": "stderr",
     "output_type": "stream",
     "text": [
      "/home/neft/anaconda3/envs/ai/lib/python3.7/site-packages/ase/data/pubchem.py:85: UserWarning: The structure \"3356\" has more than one conformer in PubChem. By default, the first conformer is returned, please ensure you are using the structure you intend to or use the `ase.data.pubchem.pubchem_conformer_search` function\n",
      "  ' function'.format(search))\n"
     ]
    },
    {
     "name": "stdout",
     "output_type": "stream",
     "text": [
      "520\n",
      "520\n"
     ]
    },
    {
     "name": "stderr",
     "output_type": "stream",
     "text": [
      "/home/neft/anaconda3/envs/ai/lib/python3.7/site-packages/ase/data/pubchem.py:85: UserWarning: The structure \"44093\" has more than one conformer in PubChem. By default, the first conformer is returned, please ensure you are using the structure you intend to or use the `ase.data.pubchem.pubchem_conformer_search` function\n",
      "  ' function'.format(search))\n"
     ]
    },
    {
     "name": "stdout",
     "output_type": "stream",
     "text": [
      "521\n",
      "521\n"
     ]
    },
    {
     "name": "stderr",
     "output_type": "stream",
     "text": [
      "/home/neft/anaconda3/envs/ai/lib/python3.7/site-packages/ase/data/pubchem.py:85: UserWarning: The structure \"5735\" has more than one conformer in PubChem. By default, the first conformer is returned, please ensure you are using the structure you intend to or use the `ase.data.pubchem.pubchem_conformer_search` function\n",
      "  ' function'.format(search))\n"
     ]
    },
    {
     "name": "stdout",
     "output_type": "stream",
     "text": [
      "522\n",
      "522\n"
     ]
    },
    {
     "name": "stderr",
     "output_type": "stream",
     "text": [
      "/home/neft/anaconda3/envs/ai/lib/python3.7/site-packages/ase/data/pubchem.py:85: UserWarning: The structure \"5284583\" has more than one conformer in PubChem. By default, the first conformer is returned, please ensure you are using the structure you intend to or use the `ase.data.pubchem.pubchem_conformer_search` function\n",
      "  ' function'.format(search))\n"
     ]
    },
    {
     "name": "stdout",
     "output_type": "stream",
     "text": [
      "523\n",
      "523\n"
     ]
    },
    {
     "name": "stderr",
     "output_type": "stream",
     "text": [
      "/home/neft/anaconda3/envs/ai/lib/python3.7/site-packages/ase/data/pubchem.py:85: UserWarning: The structure \"39147\" has more than one conformer in PubChem. By default, the first conformer is returned, please ensure you are using the structure you intend to or use the `ase.data.pubchem.pubchem_conformer_search` function\n",
      "  ' function'.format(search))\n"
     ]
    },
    {
     "name": "stdout",
     "output_type": "stream",
     "text": [
      "524\n",
      "524\n"
     ]
    },
    {
     "name": "stderr",
     "output_type": "stream",
     "text": [
      "/home/neft/anaconda3/envs/ai/lib/python3.7/site-packages/ase/data/pubchem.py:85: UserWarning: The structure \"3373\" has more than one conformer in PubChem. By default, the first conformer is returned, please ensure you are using the structure you intend to or use the `ase.data.pubchem.pubchem_conformer_search` function\n",
      "  ' function'.format(search))\n"
     ]
    },
    {
     "name": "stdout",
     "output_type": "stream",
     "text": [
      "525\n",
      "525\n"
     ]
    },
    {
     "name": "stderr",
     "output_type": "stream",
     "text": [
      "/home/neft/anaconda3/envs/ai/lib/python3.7/site-packages/ase/data/pubchem.py:85: UserWarning: The structure \"3950\" has more than one conformer in PubChem. By default, the first conformer is returned, please ensure you are using the structure you intend to or use the `ase.data.pubchem.pubchem_conformer_search` function\n",
      "  ' function'.format(search))\n"
     ]
    },
    {
     "name": "stdout",
     "output_type": "stream",
     "text": [
      "526\n",
      "526\n"
     ]
    },
    {
     "name": "stderr",
     "output_type": "stream",
     "text": [
      "/home/neft/anaconda3/envs/ai/lib/python3.7/site-packages/ase/data/pubchem.py:85: UserWarning: The structure \"39468\" has more than one conformer in PubChem. By default, the first conformer is returned, please ensure you are using the structure you intend to or use the `ase.data.pubchem.pubchem_conformer_search` function\n",
      "  ' function'.format(search))\n"
     ]
    },
    {
     "name": "stdout",
     "output_type": "stream",
     "text": [
      "527\n",
      "527\n"
     ]
    },
    {
     "name": "stderr",
     "output_type": "stream",
     "text": [
      "/home/neft/anaconda3/envs/ai/lib/python3.7/site-packages/ase/data/pubchem.py:85: UserWarning: The structure \"31477\" has more than one conformer in PubChem. By default, the first conformer is returned, please ensure you are using the structure you intend to or use the `ase.data.pubchem.pubchem_conformer_search` function\n",
      "  ' function'.format(search))\n"
     ]
    },
    {
     "name": "stdout",
     "output_type": "stream",
     "text": [
      "528\n",
      "528\n"
     ]
    },
    {
     "name": "stderr",
     "output_type": "stream",
     "text": [
      "/home/neft/anaconda3/envs/ai/lib/python3.7/site-packages/ase/data/pubchem.py:85: UserWarning: The structure \"3261\" has more than one conformer in PubChem. By default, the first conformer is returned, please ensure you are using the structure you intend to or use the `ase.data.pubchem.pubchem_conformer_search` function\n",
      "  ' function'.format(search))\n"
     ]
    },
    {
     "name": "stdout",
     "output_type": "stream",
     "text": [
      "529\n",
      "529\n"
     ]
    },
    {
     "name": "stderr",
     "output_type": "stream",
     "text": [
      "/home/neft/anaconda3/envs/ai/lib/python3.7/site-packages/ase/data/pubchem.py:85: UserWarning: The structure \"6914273\" has more than one conformer in PubChem. By default, the first conformer is returned, please ensure you are using the structure you intend to or use the `ase.data.pubchem.pubchem_conformer_search` function\n",
      "  ' function'.format(search))\n"
     ]
    },
    {
     "name": "stdout",
     "output_type": "stream",
     "text": [
      "530\n",
      "530\n"
     ]
    },
    {
     "name": "stderr",
     "output_type": "stream",
     "text": [
      "/home/neft/anaconda3/envs/ai/lib/python3.7/site-packages/ase/data/pubchem.py:85: UserWarning: The structure \"3821\" has more than one conformer in PubChem. By default, the first conformer is returned, please ensure you are using the structure you intend to or use the `ase.data.pubchem.pubchem_conformer_search` function\n",
      "  ' function'.format(search))\n"
     ]
    },
    {
     "name": "stdout",
     "output_type": "stream",
     "text": [
      "531\n",
      "531\n"
     ]
    },
    {
     "name": "stderr",
     "output_type": "stream",
     "text": [
      "/home/neft/anaconda3/envs/ai/lib/python3.7/site-packages/ase/data/pubchem.py:85: UserWarning: The structure \"5002\" has more than one conformer in PubChem. By default, the first conformer is returned, please ensure you are using the structure you intend to or use the `ase.data.pubchem.pubchem_conformer_search` function\n",
      "  ' function'.format(search))\n"
     ]
    },
    {
     "name": "stdout",
     "output_type": "stream",
     "text": [
      "532\n",
      "532\n"
     ]
    },
    {
     "name": "stderr",
     "output_type": "stream",
     "text": [
      "/home/neft/anaconda3/envs/ai/lib/python3.7/site-packages/ase/data/pubchem.py:85: UserWarning: The structure \"3055\" has more than one conformer in PubChem. By default, the first conformer is returned, please ensure you are using the structure you intend to or use the `ase.data.pubchem.pubchem_conformer_search` function\n",
      "  ' function'.format(search))\n"
     ]
    },
    {
     "name": "stdout",
     "output_type": "stream",
     "text": [
      "533\n",
      "533\n"
     ]
    },
    {
     "name": "stderr",
     "output_type": "stream",
     "text": [
      "/home/neft/anaconda3/envs/ai/lib/python3.7/site-packages/ase/data/pubchem.py:85: UserWarning: The structure \"4168\" has more than one conformer in PubChem. By default, the first conformer is returned, please ensure you are using the structure you intend to or use the `ase.data.pubchem.pubchem_conformer_search` function\n",
      "  ' function'.format(search))\n"
     ]
    },
    {
     "name": "stdout",
     "output_type": "stream",
     "text": [
      "534\n",
      "534\n"
     ]
    },
    {
     "name": "stderr",
     "output_type": "stream",
     "text": [
      "/home/neft/anaconda3/envs/ai/lib/python3.7/site-packages/ase/data/pubchem.py:85: UserWarning: The structure \"6047\" has more than one conformer in PubChem. By default, the first conformer is returned, please ensure you are using the structure you intend to or use the `ase.data.pubchem.pubchem_conformer_search` function\n",
      "  ' function'.format(search))\n"
     ]
    },
    {
     "name": "stdout",
     "output_type": "stream",
     "text": [
      "535\n",
      "535\n"
     ]
    },
    {
     "name": "stderr",
     "output_type": "stream",
     "text": [
      "/home/neft/anaconda3/envs/ai/lib/python3.7/site-packages/ase/data/pubchem.py:85: UserWarning: The structure \"667466\" has more than one conformer in PubChem. By default, the first conformer is returned, please ensure you are using the structure you intend to or use the `ase.data.pubchem.pubchem_conformer_search` function\n",
      "  ' function'.format(search))\n"
     ]
    },
    {
     "name": "stdout",
     "output_type": "stream",
     "text": [
      "536\n",
      "536\n"
     ]
    },
    {
     "name": "stderr",
     "output_type": "stream",
     "text": [
      "/home/neft/anaconda3/envs/ai/lib/python3.7/site-packages/ase/data/pubchem.py:85: UserWarning: The structure \"3463\" has more than one conformer in PubChem. By default, the first conformer is returned, please ensure you are using the structure you intend to or use the `ase.data.pubchem.pubchem_conformer_search` function\n",
      "  ' function'.format(search))\n"
     ]
    },
    {
     "name": "stdout",
     "output_type": "stream",
     "text": [
      "537\n",
      "537\n"
     ]
    },
    {
     "name": "stderr",
     "output_type": "stream",
     "text": [
      "/home/neft/anaconda3/envs/ai/lib/python3.7/site-packages/ase/data/pubchem.py:85: UserWarning: The structure \"2801\" has more than one conformer in PubChem. By default, the first conformer is returned, please ensure you are using the structure you intend to or use the `ase.data.pubchem.pubchem_conformer_search` function\n",
      "  ' function'.format(search))\n"
     ]
    },
    {
     "name": "stdout",
     "output_type": "stream",
     "text": [
      "538\n",
      "538\n"
     ]
    },
    {
     "name": "stderr",
     "output_type": "stream",
     "text": [
      "/home/neft/anaconda3/envs/ai/lib/python3.7/site-packages/ase/data/pubchem.py:85: UserWarning: The structure \"5574\" has more than one conformer in PubChem. By default, the first conformer is returned, please ensure you are using the structure you intend to or use the `ase.data.pubchem.pubchem_conformer_search` function\n",
      "  ' function'.format(search))\n"
     ]
    },
    {
     "name": "stdout",
     "output_type": "stream",
     "text": [
      "539\n",
      "539\n"
     ]
    },
    {
     "name": "stderr",
     "output_type": "stream",
     "text": [
      "/home/neft/anaconda3/envs/ai/lib/python3.7/site-packages/ase/data/pubchem.py:85: UserWarning: The structure \"3759\" has more than one conformer in PubChem. By default, the first conformer is returned, please ensure you are using the structure you intend to or use the `ase.data.pubchem.pubchem_conformer_search` function\n",
      "  ' function'.format(search))\n"
     ]
    },
    {
     "name": "stdout",
     "output_type": "stream",
     "text": [
      "540\n",
      "540\n"
     ]
    },
    {
     "name": "stderr",
     "output_type": "stream",
     "text": [
      "/home/neft/anaconda3/envs/ai/lib/python3.7/site-packages/ase/data/pubchem.py:85: UserWarning: The structure \"443884\" has more than one conformer in PubChem. By default, the first conformer is returned, please ensure you are using the structure you intend to or use the `ase.data.pubchem.pubchem_conformer_search` function\n",
      "  ' function'.format(search))\n"
     ]
    },
    {
     "name": "stdout",
     "output_type": "stream",
     "text": [
      "541\n",
      "541\n"
     ]
    },
    {
     "name": "stderr",
     "output_type": "stream",
     "text": [
      "/home/neft/anaconda3/envs/ai/lib/python3.7/site-packages/ase/data/pubchem.py:85: UserWarning: The structure \"3343\" has more than one conformer in PubChem. By default, the first conformer is returned, please ensure you are using the structure you intend to or use the `ase.data.pubchem.pubchem_conformer_search` function\n",
      "  ' function'.format(search))\n"
     ]
    },
    {
     "name": "stdout",
     "output_type": "stream",
     "text": [
      "542\n",
      "542\n"
     ]
    },
    {
     "name": "stderr",
     "output_type": "stream",
     "text": [
      "/home/neft/anaconda3/envs/ai/lib/python3.7/site-packages/ase/data/pubchem.py:85: UserWarning: The structure \"2372\" has more than one conformer in PubChem. By default, the first conformer is returned, please ensure you are using the structure you intend to or use the `ase.data.pubchem.pubchem_conformer_search` function\n",
      "  ' function'.format(search))\n"
     ]
    },
    {
     "name": "stdout",
     "output_type": "stream",
     "text": [
      "543\n",
      "543\n"
     ]
    },
    {
     "name": "stderr",
     "output_type": "stream",
     "text": [
      "/home/neft/anaconda3/envs/ai/lib/python3.7/site-packages/ase/data/pubchem.py:85: UserWarning: The structure \"439213\" has more than one conformer in PubChem. By default, the first conformer is returned, please ensure you are using the structure you intend to or use the `ase.data.pubchem.pubchem_conformer_search` function\n",
      "  ' function'.format(search))\n"
     ]
    },
    {
     "name": "stdout",
     "output_type": "stream",
     "text": [
      "544\n",
      "544\n"
     ]
    },
    {
     "name": "stderr",
     "output_type": "stream",
     "text": [
      "/home/neft/anaconda3/envs/ai/lib/python3.7/site-packages/ase/data/pubchem.py:85: UserWarning: The structure \"4883\" has more than one conformer in PubChem. By default, the first conformer is returned, please ensure you are using the structure you intend to or use the `ase.data.pubchem.pubchem_conformer_search` function\n",
      "  ' function'.format(search))\n"
     ]
    },
    {
     "name": "stdout",
     "output_type": "stream",
     "text": [
      "545\n",
      "545\n"
     ]
    },
    {
     "name": "stderr",
     "output_type": "stream",
     "text": [
      "/home/neft/anaconda3/envs/ai/lib/python3.7/site-packages/ase/data/pubchem.py:85: UserWarning: The structure \"5322\" has more than one conformer in PubChem. By default, the first conformer is returned, please ensure you are using the structure you intend to or use the `ase.data.pubchem.pubchem_conformer_search` function\n",
      "  ' function'.format(search))\n"
     ]
    },
    {
     "name": "stdout",
     "output_type": "stream",
     "text": [
      "546\n",
      "546\n"
     ]
    },
    {
     "name": "stderr",
     "output_type": "stream",
     "text": [
      "/home/neft/anaconda3/envs/ai/lib/python3.7/site-packages/ase/data/pubchem.py:85: UserWarning: The structure \"17134\" has more than one conformer in PubChem. By default, the first conformer is returned, please ensure you are using the structure you intend to or use the `ase.data.pubchem.pubchem_conformer_search` function\n",
      "  ' function'.format(search))\n"
     ]
    },
    {
     "name": "stdout",
     "output_type": "stream",
     "text": [
      "547\n",
      "547\n"
     ]
    },
    {
     "name": "stderr",
     "output_type": "stream",
     "text": [
      "/home/neft/anaconda3/envs/ai/lib/python3.7/site-packages/ase/data/pubchem.py:85: UserWarning: The structure \"4870\" has more than one conformer in PubChem. By default, the first conformer is returned, please ensure you are using the structure you intend to or use the `ase.data.pubchem.pubchem_conformer_search` function\n",
      "  ' function'.format(search))\n"
     ]
    },
    {
     "name": "stdout",
     "output_type": "stream",
     "text": [
      "548\n",
      "548\n"
     ]
    },
    {
     "name": "stderr",
     "output_type": "stream",
     "text": [
      "/home/neft/anaconda3/envs/ai/lib/python3.7/site-packages/ase/data/pubchem.py:85: UserWarning: The structure \"6307\" has more than one conformer in PubChem. By default, the first conformer is returned, please ensure you are using the structure you intend to or use the `ase.data.pubchem.pubchem_conformer_search` function\n",
      "  ' function'.format(search))\n"
     ]
    },
    {
     "name": "stdout",
     "output_type": "stream",
     "text": [
      "549\n",
      "549\n"
     ]
    },
    {
     "name": "stderr",
     "output_type": "stream",
     "text": [
      "/home/neft/anaconda3/envs/ai/lib/python3.7/site-packages/ase/data/pubchem.py:85: UserWarning: The structure \"456255\" has more than one conformer in PubChem. By default, the first conformer is returned, please ensure you are using the structure you intend to or use the `ase.data.pubchem.pubchem_conformer_search` function\n",
      "  ' function'.format(search))\n"
     ]
    },
    {
     "name": "stdout",
     "output_type": "stream",
     "text": [
      "550\n",
      "550\n"
     ]
    },
    {
     "name": "stderr",
     "output_type": "stream",
     "text": [
      "/home/neft/anaconda3/envs/ai/lib/python3.7/site-packages/ase/data/pubchem.py:85: UserWarning: The structure \"441199\" has more than one conformer in PubChem. By default, the first conformer is returned, please ensure you are using the structure you intend to or use the `ase.data.pubchem.pubchem_conformer_search` function\n",
      "  ' function'.format(search))\n"
     ]
    },
    {
     "name": "stdout",
     "output_type": "stream",
     "text": [
      "551\n",
      "551\n"
     ]
    },
    {
     "name": "stderr",
     "output_type": "stream",
     "text": [
      "/home/neft/anaconda3/envs/ai/lib/python3.7/site-packages/ase/data/pubchem.py:85: UserWarning: The structure \"6533629\" has more than one conformer in PubChem. By default, the first conformer is returned, please ensure you are using the structure you intend to or use the `ase.data.pubchem.pubchem_conformer_search` function\n",
      "  ' function'.format(search))\n"
     ]
    },
    {
     "name": "stdout",
     "output_type": "stream",
     "text": [
      "552\n",
      "552\n"
     ]
    },
    {
     "name": "stderr",
     "output_type": "stream",
     "text": [
      "/home/neft/anaconda3/envs/ai/lib/python3.7/site-packages/ase/data/pubchem.py:85: UserWarning: The structure \"38103\" has more than one conformer in PubChem. By default, the first conformer is returned, please ensure you are using the structure you intend to or use the `ase.data.pubchem.pubchem_conformer_search` function\n",
      "  ' function'.format(search))\n"
     ]
    },
    {
     "name": "stdout",
     "output_type": "stream",
     "text": [
      "553\n",
      "553\n"
     ]
    },
    {
     "name": "stderr",
     "output_type": "stream",
     "text": [
      "/home/neft/anaconda3/envs/ai/lib/python3.7/site-packages/ase/data/pubchem.py:85: UserWarning: The structure \"2164\" has more than one conformer in PubChem. By default, the first conformer is returned, please ensure you are using the structure you intend to or use the `ase.data.pubchem.pubchem_conformer_search` function\n",
      "  ' function'.format(search))\n"
     ]
    },
    {
     "name": "stdout",
     "output_type": "stream",
     "text": [
      "554\n",
      "554\n"
     ]
    },
    {
     "name": "stderr",
     "output_type": "stream",
     "text": [
      "/home/neft/anaconda3/envs/ai/lib/python3.7/site-packages/ase/data/pubchem.py:85: UserWarning: The structure \"6464\" has more than one conformer in PubChem. By default, the first conformer is returned, please ensure you are using the structure you intend to or use the `ase.data.pubchem.pubchem_conformer_search` function\n",
      "  ' function'.format(search))\n"
     ]
    },
    {
     "name": "stdout",
     "output_type": "stream",
     "text": [
      "555\n",
      "555\n"
     ]
    },
    {
     "name": "stderr",
     "output_type": "stream",
     "text": [
      "/home/neft/anaconda3/envs/ai/lib/python3.7/site-packages/ase/data/pubchem.py:85: UserWarning: The structure \"6473\" has more than one conformer in PubChem. By default, the first conformer is returned, please ensure you are using the structure you intend to or use the `ase.data.pubchem.pubchem_conformer_search` function\n",
      "  ' function'.format(search))\n"
     ]
    },
    {
     "name": "stdout",
     "output_type": "stream",
     "text": [
      "556\n",
      "556\n"
     ]
    },
    {
     "name": "stderr",
     "output_type": "stream",
     "text": [
      "/home/neft/anaconda3/envs/ai/lib/python3.7/site-packages/ase/data/pubchem.py:85: UserWarning: The structure \"10518\" has more than one conformer in PubChem. By default, the first conformer is returned, please ensure you are using the structure you intend to or use the `ase.data.pubchem.pubchem_conformer_search` function\n",
      "  ' function'.format(search))\n"
     ]
    },
    {
     "name": "stdout",
     "output_type": "stream",
     "text": [
      "557\n",
      "557\n"
     ]
    },
    {
     "name": "stderr",
     "output_type": "stream",
     "text": [
      "/home/neft/anaconda3/envs/ai/lib/python3.7/site-packages/ase/data/pubchem.py:85: UserWarning: The structure \"3608\" has more than one conformer in PubChem. By default, the first conformer is returned, please ensure you are using the structure you intend to or use the `ase.data.pubchem.pubchem_conformer_search` function\n",
      "  ' function'.format(search))\n"
     ]
    },
    {
     "name": "stdout",
     "output_type": "stream",
     "text": [
      "558\n",
      "558\n",
      "559\n",
      "559\n"
     ]
    },
    {
     "name": "stderr",
     "output_type": "stream",
     "text": [
      "/home/neft/anaconda3/envs/ai/lib/python3.7/site-packages/ase/data/pubchem.py:85: UserWarning: The structure \"9294\" has more than one conformer in PubChem. By default, the first conformer is returned, please ensure you are using the structure you intend to or use the `ase.data.pubchem.pubchem_conformer_search` function\n",
      "  ' function'.format(search))\n"
     ]
    },
    {
     "name": "stdout",
     "output_type": "stream",
     "text": [
      "560\n",
      "560\n"
     ]
    },
    {
     "name": "stderr",
     "output_type": "stream",
     "text": [
      "/home/neft/anaconda3/envs/ai/lib/python3.7/site-packages/ase/data/pubchem.py:85: UserWarning: The structure \"9565\" has more than one conformer in PubChem. By default, the first conformer is returned, please ensure you are using the structure you intend to or use the `ase.data.pubchem.pubchem_conformer_search` function\n",
      "  ' function'.format(search))\n"
     ]
    },
    {
     "name": "stdout",
     "output_type": "stream",
     "text": [
      "561\n",
      "561\n"
     ]
    },
    {
     "name": "stderr",
     "output_type": "stream",
     "text": [
      "/home/neft/anaconda3/envs/ai/lib/python3.7/site-packages/ase/data/pubchem.py:85: UserWarning: The structure \"8969\" has more than one conformer in PubChem. By default, the first conformer is returned, please ensure you are using the structure you intend to or use the `ase.data.pubchem.pubchem_conformer_search` function\n",
      "  ' function'.format(search))\n"
     ]
    },
    {
     "name": "stdout",
     "output_type": "stream",
     "text": [
      "562\n",
      "562\n"
     ]
    },
    {
     "name": "stderr",
     "output_type": "stream",
     "text": [
      "/home/neft/anaconda3/envs/ai/lib/python3.7/site-packages/ase/data/pubchem.py:85: UserWarning: The structure \"39042\" has more than one conformer in PubChem. By default, the first conformer is returned, please ensure you are using the structure you intend to or use the `ase.data.pubchem.pubchem_conformer_search` function\n",
      "  ' function'.format(search))\n"
     ]
    },
    {
     "name": "stdout",
     "output_type": "stream",
     "text": [
      "563\n",
      "563\n"
     ]
    },
    {
     "name": "stderr",
     "output_type": "stream",
     "text": [
      "/home/neft/anaconda3/envs/ai/lib/python3.7/site-packages/ase/data/pubchem.py:85: UserWarning: The structure \"2833\" has more than one conformer in PubChem. By default, the first conformer is returned, please ensure you are using the structure you intend to or use the `ase.data.pubchem.pubchem_conformer_search` function\n",
      "  ' function'.format(search))\n"
     ]
    },
    {
     "name": "stdout",
     "output_type": "stream",
     "text": [
      "564\n",
      "564\n"
     ]
    },
    {
     "name": "stderr",
     "output_type": "stream",
     "text": [
      "/home/neft/anaconda3/envs/ai/lib/python3.7/site-packages/ase/data/pubchem.py:85: UserWarning: The structure \"5161\" has more than one conformer in PubChem. By default, the first conformer is returned, please ensure you are using the structure you intend to or use the `ase.data.pubchem.pubchem_conformer_search` function\n",
      "  ' function'.format(search))\n"
     ]
    },
    {
     "name": "stdout",
     "output_type": "stream",
     "text": [
      "565\n",
      "565\n",
      "566\n",
      "566\n"
     ]
    },
    {
     "name": "stderr",
     "output_type": "stream",
     "text": [
      "/home/neft/anaconda3/envs/ai/lib/python3.7/site-packages/ase/data/pubchem.py:85: UserWarning: The structure \"2783\" has more than one conformer in PubChem. By default, the first conformer is returned, please ensure you are using the structure you intend to or use the `ase.data.pubchem.pubchem_conformer_search` function\n",
      "  ' function'.format(search))\n"
     ]
    },
    {
     "name": "stdout",
     "output_type": "stream",
     "text": [
      "567\n",
      "567\n"
     ]
    },
    {
     "name": "stderr",
     "output_type": "stream",
     "text": [
      "/home/neft/anaconda3/envs/ai/lib/python3.7/site-packages/ase/data/pubchem.py:85: UserWarning: The structure \"91562\" has more than one conformer in PubChem. By default, the first conformer is returned, please ensure you are using the structure you intend to or use the `ase.data.pubchem.pubchem_conformer_search` function\n",
      "  ' function'.format(search))\n"
     ]
    },
    {
     "name": "stdout",
     "output_type": "stream",
     "text": [
      "568\n",
      "568\n"
     ]
    },
    {
     "name": "stderr",
     "output_type": "stream",
     "text": [
      "/home/neft/anaconda3/envs/ai/lib/python3.7/site-packages/ase/data/pubchem.py:85: UserWarning: The structure \"54676537\" has more than one conformer in PubChem. By default, the first conformer is returned, please ensure you are using the structure you intend to or use the `ase.data.pubchem.pubchem_conformer_search` function\n",
      "  ' function'.format(search))\n"
     ]
    },
    {
     "name": "stdout",
     "output_type": "stream",
     "text": [
      "569\n",
      "569\n"
     ]
    },
    {
     "name": "stderr",
     "output_type": "stream",
     "text": [
      "/home/neft/anaconda3/envs/ai/lib/python3.7/site-packages/ase/data/pubchem.py:85: UserWarning: The structure \"6009\" has more than one conformer in PubChem. By default, the first conformer is returned, please ensure you are using the structure you intend to or use the `ase.data.pubchem.pubchem_conformer_search` function\n",
      "  ' function'.format(search))\n"
     ]
    },
    {
     "name": "stdout",
     "output_type": "stream",
     "text": [
      "570\n",
      "570\n"
     ]
    },
    {
     "name": "stderr",
     "output_type": "stream",
     "text": [
      "/home/neft/anaconda3/envs/ai/lib/python3.7/site-packages/ase/data/pubchem.py:85: UserWarning: The structure \"135413504\" has more than one conformer in PubChem. By default, the first conformer is returned, please ensure you are using the structure you intend to or use the `ase.data.pubchem.pubchem_conformer_search` function\n",
      "  ' function'.format(search))\n"
     ]
    },
    {
     "name": "stdout",
     "output_type": "stream",
     "text": [
      "571\n",
      "571\n",
      "572\n",
      "572\n"
     ]
    },
    {
     "name": "stderr",
     "output_type": "stream",
     "text": [
      "/home/neft/anaconda3/envs/ai/lib/python3.7/site-packages/ase/data/pubchem.py:85: UserWarning: The structure \"3698\" has more than one conformer in PubChem. By default, the first conformer is returned, please ensure you are using the structure you intend to or use the `ase.data.pubchem.pubchem_conformer_search` function\n",
      "  ' function'.format(search))\n"
     ]
    },
    {
     "name": "stdout",
     "output_type": "stream",
     "text": [
      "573\n",
      "573\n"
     ]
    },
    {
     "name": "stderr",
     "output_type": "stream",
     "text": [
      "/home/neft/anaconda3/envs/ai/lib/python3.7/site-packages/ase/data/pubchem.py:85: UserWarning: The structure \"4632\" has more than one conformer in PubChem. By default, the first conformer is returned, please ensure you are using the structure you intend to or use the `ase.data.pubchem.pubchem_conformer_search` function\n",
      "  ' function'.format(search))\n"
     ]
    },
    {
     "name": "stdout",
     "output_type": "stream",
     "text": [
      "574\n",
      "574\n"
     ]
    },
    {
     "name": "stderr",
     "output_type": "stream",
     "text": [
      "/home/neft/anaconda3/envs/ai/lib/python3.7/site-packages/ase/data/pubchem.py:85: UserWarning: The structure \"2218\" has more than one conformer in PubChem. By default, the first conformer is returned, please ensure you are using the structure you intend to or use the `ase.data.pubchem.pubchem_conformer_search` function\n",
      "  ' function'.format(search))\n"
     ]
    },
    {
     "name": "stdout",
     "output_type": "stream",
     "text": [
      "575\n",
      "575\n"
     ]
    },
    {
     "name": "stderr",
     "output_type": "stream",
     "text": [
      "/home/neft/anaconda3/envs/ai/lib/python3.7/site-packages/ase/data/pubchem.py:85: UserWarning: The structure \"235905\" has more than one conformer in PubChem. By default, the first conformer is returned, please ensure you are using the structure you intend to or use the `ase.data.pubchem.pubchem_conformer_search` function\n",
      "  ' function'.format(search))\n"
     ]
    },
    {
     "name": "stdout",
     "output_type": "stream",
     "text": [
      "576\n",
      "576\n"
     ]
    },
    {
     "name": "stderr",
     "output_type": "stream",
     "text": [
      "/home/neft/anaconda3/envs/ai/lib/python3.7/site-packages/ase/data/pubchem.py:85: UserWarning: The structure \"2206\" has more than one conformer in PubChem. By default, the first conformer is returned, please ensure you are using the structure you intend to or use the `ase.data.pubchem.pubchem_conformer_search` function\n",
      "  ' function'.format(search))\n"
     ]
    },
    {
     "name": "stdout",
     "output_type": "stream",
     "text": [
      "577\n",
      "577\n"
     ]
    },
    {
     "name": "stderr",
     "output_type": "stream",
     "text": [
      "/home/neft/anaconda3/envs/ai/lib/python3.7/site-packages/ase/data/pubchem.py:85: UserWarning: The structure \"3487\" has more than one conformer in PubChem. By default, the first conformer is returned, please ensure you are using the structure you intend to or use the `ase.data.pubchem.pubchem_conformer_search` function\n",
      "  ' function'.format(search))\n"
     ]
    },
    {
     "name": "stdout",
     "output_type": "stream",
     "text": [
      "578\n",
      "578\n"
     ]
    },
    {
     "name": "stderr",
     "output_type": "stream",
     "text": [
      "/home/neft/anaconda3/envs/ai/lib/python3.7/site-packages/ase/data/pubchem.py:85: UserWarning: The structure \"4756\" has more than one conformer in PubChem. By default, the first conformer is returned, please ensure you are using the structure you intend to or use the `ase.data.pubchem.pubchem_conformer_search` function\n",
      "  ' function'.format(search))\n"
     ]
    },
    {
     "name": "stdout",
     "output_type": "stream",
     "text": [
      "579\n",
      "579\n"
     ]
    },
    {
     "name": "stderr",
     "output_type": "stream",
     "text": [
      "/home/neft/anaconda3/envs/ai/lib/python3.7/site-packages/ase/data/pubchem.py:85: UserWarning: The structure \"151182\" has more than one conformer in PubChem. By default, the first conformer is returned, please ensure you are using the structure you intend to or use the `ase.data.pubchem.pubchem_conformer_search` function\n",
      "  ' function'.format(search))\n"
     ]
    },
    {
     "name": "stdout",
     "output_type": "stream",
     "text": [
      "580\n",
      "580\n"
     ]
    },
    {
     "name": "stderr",
     "output_type": "stream",
     "text": [
      "/home/neft/anaconda3/envs/ai/lib/python3.7/site-packages/ase/data/pubchem.py:85: UserWarning: The structure \"10257\" has more than one conformer in PubChem. By default, the first conformer is returned, please ensure you are using the structure you intend to or use the `ase.data.pubchem.pubchem_conformer_search` function\n",
      "  ' function'.format(search))\n"
     ]
    },
    {
     "name": "stdout",
     "output_type": "stream",
     "text": [
      "581\n",
      "581\n"
     ]
    },
    {
     "name": "stderr",
     "output_type": "stream",
     "text": [
      "/home/neft/anaconda3/envs/ai/lib/python3.7/site-packages/ase/data/pubchem.py:85: UserWarning: The structure \"9287\" has more than one conformer in PubChem. By default, the first conformer is returned, please ensure you are using the structure you intend to or use the `ase.data.pubchem.pubchem_conformer_search` function\n",
      "  ' function'.format(search))\n"
     ]
    },
    {
     "name": "stdout",
     "output_type": "stream",
     "text": [
      "582\n",
      "582\n"
     ]
    },
    {
     "name": "stderr",
     "output_type": "stream",
     "text": [
      "/home/neft/anaconda3/envs/ai/lib/python3.7/site-packages/ase/data/pubchem.py:85: UserWarning: The structure \"5462328\" has more than one conformer in PubChem. By default, the first conformer is returned, please ensure you are using the structure you intend to or use the `ase.data.pubchem.pubchem_conformer_search` function\n",
      "  ' function'.format(search))\n"
     ]
    },
    {
     "name": "stdout",
     "output_type": "stream",
     "text": [
      "583\n",
      "583\n"
     ]
    },
    {
     "name": "stderr",
     "output_type": "stream",
     "text": [
      "/home/neft/anaconda3/envs/ai/lib/python3.7/site-packages/ase/data/pubchem.py:85: UserWarning: The structure \"5359271\" has more than one conformer in PubChem. By default, the first conformer is returned, please ensure you are using the structure you intend to or use the `ase.data.pubchem.pubchem_conformer_search` function\n",
      "  ' function'.format(search))\n"
     ]
    },
    {
     "name": "stdout",
     "output_type": "stream",
     "text": [
      "584\n",
      "584\n",
      "585\n",
      "585\n"
     ]
    },
    {
     "name": "stderr",
     "output_type": "stream",
     "text": [
      "/home/neft/anaconda3/envs/ai/lib/python3.7/site-packages/ase/data/pubchem.py:85: UserWarning: The structure \"2294\" has more than one conformer in PubChem. By default, the first conformer is returned, please ensure you are using the structure you intend to or use the `ase.data.pubchem.pubchem_conformer_search` function\n",
      "  ' function'.format(search))\n"
     ]
    },
    {
     "name": "stdout",
     "output_type": "stream",
     "text": [
      "586\n",
      "586\n"
     ]
    },
    {
     "name": "stderr",
     "output_type": "stream",
     "text": [
      "/home/neft/anaconda3/envs/ai/lib/python3.7/site-packages/ase/data/pubchem.py:85: UserWarning: The structure \"441457\" has more than one conformer in PubChem. By default, the first conformer is returned, please ensure you are using the structure you intend to or use the `ase.data.pubchem.pubchem_conformer_search` function\n",
      "  ' function'.format(search))\n"
     ]
    },
    {
     "name": "stdout",
     "output_type": "stream",
     "text": [
      "587\n",
      "587\n"
     ]
    },
    {
     "name": "stderr",
     "output_type": "stream",
     "text": [
      "/home/neft/anaconda3/envs/ai/lib/python3.7/site-packages/ase/data/pubchem.py:85: UserWarning: The structure \"6089\" has more than one conformer in PubChem. By default, the first conformer is returned, please ensure you are using the structure you intend to or use the `ase.data.pubchem.pubchem_conformer_search` function\n",
      "  ' function'.format(search))\n"
     ]
    },
    {
     "name": "stdout",
     "output_type": "stream",
     "text": [
      "588\n",
      "588\n"
     ]
    },
    {
     "name": "stderr",
     "output_type": "stream",
     "text": [
      "/home/neft/anaconda3/envs/ai/lib/python3.7/site-packages/ase/data/pubchem.py:85: UserWarning: The structure \"37367\" has more than one conformer in PubChem. By default, the first conformer is returned, please ensure you are using the structure you intend to or use the `ase.data.pubchem.pubchem_conformer_search` function\n",
      "  ' function'.format(search))\n"
     ]
    },
    {
     "name": "stdout",
     "output_type": "stream",
     "text": [
      "589\n",
      "589\n"
     ]
    },
    {
     "name": "stderr",
     "output_type": "stream",
     "text": [
      "/home/neft/anaconda3/envs/ai/lib/python3.7/site-packages/ase/data/pubchem.py:85: UserWarning: The structure \"16630\" has more than one conformer in PubChem. By default, the first conformer is returned, please ensure you are using the structure you intend to or use the `ase.data.pubchem.pubchem_conformer_search` function\n",
      "  ' function'.format(search))\n"
     ]
    },
    {
     "name": "stdout",
     "output_type": "stream",
     "text": [
      "590\n",
      "590\n",
      "591\n",
      "591\n",
      "592\n",
      "592\n",
      "593\n",
      "593\n"
     ]
    }
   ],
   "source": [
    "coulomb_results = []\n",
    "coulomb_errors = []\n",
    "mbtr_results = []\n",
    "mbtr_errors = []\n",
    "soap_results = []\n",
    "soap_errors = []\n",
    "acsf_results = []\n",
    "acsf_errors =[]\n",
    "\n",
    "for i in range(len(cids)):\n",
    "    try:\n",
    "        unknown = pubchem_atoms_search(cid = cids[i])\n",
    "        #Coulomb\n",
    "       # coulomb_target = cm.create(unknown)\n",
    "       # coulomb_results.append(coulomb_target)\n",
    "        \n",
    "        #mbtr\n",
    "       # mbtr_target = mbtr.create(unknown)\n",
    "       # mbtr_results.append(mbtr_target)\n",
    "        \n",
    "        #soap\n",
    "        soap_target = soap.create(unknown)\n",
    "        soap_results.append(soap_target)\n",
    "        print(i)\n",
    "        \n",
    "        #ACSF\n",
    "       # acsf_target = acsf.create(unknown)\n",
    "       # acsf_results.append(acsf_target)\n",
    "        \n",
    "        print(i)\n",
    "    except ValueError:  \n",
    "        #coulomb_errors.append(i)\n",
    "        #mbtr_errors.append(i)\n",
    "        #soap_erros.append(i)\n",
    "        #acsf.append(i)\n",
    "        print('error in', i)\n",
    "        continue"
   ]
  },
  {
   "cell_type": "code",
   "execution_count": 5,
   "metadata": {},
   "outputs": [
    {
     "name": "stdout",
     "output_type": "stream",
     "text": [
      "594 (26, 13860)\n"
     ]
    }
   ],
   "source": [
    "print(len(soap_results), soap_results[0].shape)\n",
    "#print(len(acsf_results), acsf_results[0].shape)\n",
    "#print(len(coulomb_results), coulomb_results[0].shape)"
   ]
  },
  {
   "cell_type": "code",
   "execution_count": 6,
   "metadata": {},
   "outputs": [],
   "source": [
    "#Función para obtener los indices que definiran las dimensiones de las matrices\n",
    "def index_matrix(descriptor):\n",
    "    one = []\n",
    "    two = []\n",
    "    for i in range(len(descriptor)):\n",
    "        #print(i)\n",
    "        x = descriptor[i].shape #los índices son las dimensiónes mas grandes encontradas en cada descriptor\n",
    "        one.append(x[0])\n",
    "        two.append(x[1])\n",
    "    index_1 = max(one)\n",
    "    index_2 = max(two)\n",
    "    return index_1, index_2"
   ]
  },
  {
   "cell_type": "code",
   "execution_count": 7,
   "metadata": {},
   "outputs": [],
   "source": [
    "#Padding\n",
    "\n",
    "def padding(descriptor):\n",
    "    #Creación de las matrices\n",
    "    molecule_matrix = []\n",
    "    for line in range(len(cids)):\n",
    "        molecule = np.zeros(index_matrix(descriptor))\n",
    "        molecule_matrix.append(molecule)\n",
    "\n",
    "    #Llenado de las matrices    \n",
    "    for i, molecule in enumerate(descriptor):\n",
    "        for t, atom in enumerate(molecule):\n",
    "            for j, element in enumerate(atom):\n",
    "                molecule_matrix[i][t][j] = descriptor[i][t][j]\n",
    "    return molecule_matrix"
   ]
  },
  {
   "cell_type": "code",
   "execution_count": 8,
   "metadata": {},
   "outputs": [],
   "source": [
    "#coulomb_matrix = padding(coulomb_results)\n",
    "#mbtr_matrix = padding(mbtr_results)\n",
    "soap_matrix = padding(soap_results)\n",
    "#acsf_matrix = padding(acsf_results)"
   ]
  },
  {
   "cell_type": "code",
   "execution_count": 1,
   "metadata": {},
   "outputs": [
    {
     "ename": "NameError",
     "evalue": "name 'np' is not defined",
     "output_type": "error",
     "traceback": [
      "\u001b[0;31m---------------------------------------------------------------------------\u001b[0m",
      "\u001b[0;31mNameError\u001b[0m                                 Traceback (most recent call last)",
      "\u001b[0;32m<ipython-input-1-ab25699c4b08>\u001b[0m in \u001b[0;36m<module>\u001b[0;34m\u001b[0m\n\u001b[1;32m      1\u001b[0m \u001b[0;31m#np.savez_compressed('coulomb_matrix', a = coulomb_matrix)\u001b[0m\u001b[0;34m\u001b[0m\u001b[0;34m\u001b[0m\u001b[0;34m\u001b[0m\u001b[0m\n\u001b[1;32m      2\u001b[0m \u001b[0;31m#np.savez_compressed('mbtr_matrix', b = mbtr_matrix)\u001b[0m\u001b[0;34m\u001b[0m\u001b[0;34m\u001b[0m\u001b[0;34m\u001b[0m\u001b[0m\n\u001b[0;32m----> 3\u001b[0;31m \u001b[0mnp\u001b[0m\u001b[0;34m.\u001b[0m\u001b[0msavez_compressed\u001b[0m\u001b[0;34m(\u001b[0m\u001b[0;34m'saop_matrix'\u001b[0m\u001b[0;34m,\u001b[0m \u001b[0mc\u001b[0m \u001b[0;34m=\u001b[0m \u001b[0msoap_matrix\u001b[0m\u001b[0;34m)\u001b[0m\u001b[0;34m\u001b[0m\u001b[0;34m\u001b[0m\u001b[0m\n\u001b[0m\u001b[1;32m      4\u001b[0m \u001b[0;31m#np.savez_compressed('acsf_matrix', d = acsf_matrix)\u001b[0m\u001b[0;34m\u001b[0m\u001b[0;34m\u001b[0m\u001b[0;34m\u001b[0m\u001b[0m\n",
      "\u001b[0;31mNameError\u001b[0m: name 'np' is not defined"
     ]
    }
   ],
   "source": [
    "#np.savez_compressed('coulomb_matrix', a = coulomb_matrix)\n",
    "#np.savez_compressed('mbtr_matrix', b = mbtr_matrix)\n",
    "np.savez_compressed('saop_matrix', c = soap_matrix)\n",
    "#np.savez_compressed('acsf_matrix', d = acsf_matrix)"
   ]
  },
  {
   "cell_type": "code",
   "execution_count": null,
   "metadata": {},
   "outputs": [],
   "source": []
  },
  {
   "cell_type": "code",
   "execution_count": null,
   "metadata": {},
   "outputs": [],
   "source": []
  },
  {
   "cell_type": "code",
   "execution_count": null,
   "metadata": {},
   "outputs": [],
   "source": []
  }
 ],
 "metadata": {
  "kernelspec": {
   "display_name": "Python 3",
   "language": "python",
   "name": "python3"
  },
  "language_info": {
   "codemirror_mode": {
    "name": "ipython",
    "version": 3
   },
   "file_extension": ".py",
   "mimetype": "text/x-python",
   "name": "python",
   "nbconvert_exporter": "python",
   "pygments_lexer": "ipython3",
   "version": "3.7.7"
  }
 },
 "nbformat": 4,
 "nbformat_minor": 4
}
